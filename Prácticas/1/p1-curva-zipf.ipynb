{
 "cells": [
  {
   "cell_type": "markdown",
   "metadata": {},
   "source": [
    "# Práctica 1\n",
    "\n",
    "Procesamiento de Lenguaje Natural\n",
    "\n",
    "Facultad de Ingeniería, UNAM\n",
    "\n",
    "Alumno: Andrés González Flores\n",
    "\n",
    "**Objetivo**: Obtener la curva de Zipf de los tipos de un corpus en escala logaríıtmica y determinar el parámetro α correspondiente a esa distribución.\n",
    "\n",
    "Pasos a seguir:\n",
    "\n",
    "1. Escoger un corpus de cualquier idioma y de un tamaño mayor a 10,000 tokens.\n",
    "2. Limpiar el corpus: eliminar signos de puntuación, de interrogación, admiración y elementos no léxicos.\n",
    "3. Aplicar un algoritmo de Stemming a los tokens limpios.\n",
    "4. Obtener las frecuencias de los tipos en el corpus.\n",
    "5. Ordenar por el rango estadístico de mayor a menor.\n",
    "6. Graficar el diagrama de dispersión rango-frecuencia en la escala logarítmica.\n",
    "7. Obtener el parámetro de la distribución de Zipf $\\alpha$ (a partir de un procedimiento de regresión).\n",
    "\n",
    "\n"
   ]
  },
  {
   "cell_type": "markdown",
   "metadata": {},
   "source": [
    "## Desarrollo"
   ]
  },
  {
   "cell_type": "code",
   "execution_count": 1,
   "metadata": {},
   "outputs": [],
   "source": [
    "import pandas as pd\n",
    "from collections import Counter\n",
    "from itertools import chain\n",
    "from functools import reduce\n",
    "import re\n",
    "import io\n",
    "from math import log"
   ]
  },
  {
   "cell_type": "markdown",
   "metadata": {},
   "source": [
    "### Paso 1\n",
    "\n",
    "El corpus que elegí se compone de 88 boletines de prensa de la campaña electoral de AMLO en las elecciones presidenciales de 2018."
   ]
  },
  {
   "cell_type": "code",
   "execution_count": 2,
   "metadata": {},
   "outputs": [],
   "source": [
    "data = pd.read_json('Prácticas/1/Data/boletines-AMLO.json', encoding='utf-8', dtype='dict')\n",
    "boletines = data['boletines']"
   ]
  },
  {
   "cell_type": "code",
   "execution_count": 15,
   "metadata": {},
   "outputs": [
    {
     "name": "stdout",
     "output_type": "stream",
     "text": "C:\\Users\\Usuario.000\\Documents\\Facultad\\Git\\2020-2\\PLN-2020-2\n"
    }
   ],
   "source": [
    "import os\n",
    "print(os.getcwd())"
   ]
  },
  {
   "cell_type": "code",
   "execution_count": null,
   "metadata": {},
   "outputs": [],
   "source": []
  }
 ],
 "metadata": {
  "kernelspec": {
   "display_name": "Python 3",
   "language": "python",
   "name": "python3"
  },
  "language_info": {
   "codemirror_mode": {
    "name": "ipython",
    "version": 3
   },
   "file_extension": ".py",
   "mimetype": "text/x-python",
   "name": "python",
   "nbconvert_exporter": "python",
   "pygments_lexer": "ipython3",
   "version": "3.7.4-final"
  }
 },
 "nbformat": 4,
 "nbformat_minor": 4
}