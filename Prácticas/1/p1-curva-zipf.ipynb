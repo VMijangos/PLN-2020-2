{
 "cells": [
  {
   "cell_type": "markdown",
   "metadata": {},
   "source": [
    "# Práctica 1\n",
    "\n",
    "Procesamiento de Lenguaje Natural\n",
    "\n",
    "Facultad de Ingeniería, UNAM\n",
    "\n",
    "Alumno: Andrés González Flores\n",
    "\n",
    "**Objetivo**: Obtener la curva de Zipf de los tipos de un corpus en escala logaríıtmica y determinar el parámetro α correspondiente a esa distribución.\n",
    "\n",
    "Pasos a seguir:\n",
    "\n",
    "1. Escoger un corpus de cualquier idioma y de un tamaño mayor a 10,000 tokens.\n",
    "2. Limpiar el corpus: eliminar signos de puntuación, de interrogación, admiración y elementos no léxicos.\n",
    "3. Aplicar un algoritmo de Stemming a los tokens limpios.\n",
    "4. Obtener las frecuencias de los tipos en el corpus.\n",
    "5. Ordenar por el rango estadístico de mayor a menor.\n",
    "6. Graficar el diagrama de dispersión rango-frecuencia en la escala logarítmica.\n",
    "7. Obtener el parámetro de la distribución de Zipf $\\alpha$ (a partir de un procedimiento de regresión).\n",
    "\n",
    "\n"
   ]
  },
  {
   "cell_type": "markdown",
   "metadata": {},
   "source": [
    "## Desarrollo"
   ]
  },
  {
   "cell_type": "code",
   "execution_count": 1,
   "metadata": {},
   "outputs": [],
   "source": [
    "import pandas as pd\n",
    "from collections import Counter\n",
    "from itertools import chain\n",
    "from functools import reduce\n",
    "import re\n",
    "import io\n",
    "from math import log"
   ]
  },
  {
   "cell_type": "markdown",
   "metadata": {},
   "source": [
    "### Paso 1\n",
    "\n",
    "El corpus que elegí se compone de 88 boletines de prensa de la campaña electoral de AMLO en las elecciones presidenciales de 2018.\n",
    "\n",
    "Cada boletin tiene el siguiente formato:\n",
    "\n",
    "```json\n",
    "{\n",
    "    \"uuid\" : \"e58c384c-e99d-427a-98af-67ad7eca7b93\",\n",
    "    \"fuente\" : \"https:\\/\\/lopezobrador.org.mx\\/2018\\/04\\/02\\/amlo-visita-el-municipio-de-santa-catarina-en-nuevo-leon\\/\",\n",
    "    \"fecha\" : \"2018\\/04\\/02\",\n",
    "    \"encabezado\" : \"Asegura AMLO que en campaña todo será amor y paz, que los otros candidatos se ahorren sus provocaciones\",\n",
    "    \"sumarios\" : [\n",
    "        \"Adelanta López Obrador que no pasará nada el primero de julio cuando se lleven a cabo las elecciones presidenciales\",\n",
    "        \"Expresa que esperará que Donald Trump se serene y lo hará entrar en razón\",\"Invita a que se realice un encuentro público entre técnicos para debatir si es viable o no la construcción del nuevo aeropuerto en el Lago de Texcoco\"\n",
    "        ],\n",
    "    \"contenido\" : \"Andrés Manuel López Obrador, candidato a la Presidencia de México, inicia en Santa Catarina un recorrido por municipios de (...)\"\n",
    "}\n",
    "```\n",
    "\n",
    "De estos, se tomará únicamente su contenido"
   ]
  },
  {
   "cell_type": "code",
   "execution_count": 10,
   "metadata": {},
   "outputs": [],
   "source": [
    "data = pd.read_json('Prácticas/1/Data/boletines-AMLO.json', encoding='utf-8', dtype='dict')\n",
    "boletines = data['boletines']\n",
    "corpus = \"\\n\".join([ boletin['contenido'] for boletin in boletines ])"
   ]
  },
  {
   "cell_type": "markdown",
   "metadata": {},
   "source": [
    "### Paso 2\n",
    "\n",
    "Se consideran tokens que cumplan con la expresión regular \\[a-zA-zñáéíóúüÁÉÍÓÚÜÑ\\]+"
   ]
  },
  {
   "cell_type": "code",
   "execution_count": 14,
   "metadata": {},
   "outputs": [],
   "source": [
    "tokens = re.findall('[a-zA-zñáéíóúüÁÉÍÓÚÜÑ]+', corpus)"
   ]
  },
  {
   "cell_type": "code",
   "execution_count": 15,
   "metadata": {},
   "outputs": [
    {
     "data": {
      "text/plain": "135638"
     },
     "execution_count": 15,
     "metadata": {},
     "output_type": "execute_result"
    }
   ],
   "source": [
    "len(tokens)"
   ]
  },
  {
   "cell_type": "code",
   "execution_count": null,
   "metadata": {},
   "outputs": [],
   "source": []
  }
 ],
 "metadata": {
  "kernelspec": {
   "display_name": "Python 3",
   "language": "python",
   "name": "python3"
  },
  "language_info": {
   "codemirror_mode": {
    "name": "ipython",
    "version": 3
   },
   "file_extension": ".py",
   "mimetype": "text/x-python",
   "name": "python",
   "nbconvert_exporter": "python",
   "pygments_lexer": "ipython3",
   "version": "3.7.4-final"
  }
 },
 "nbformat": 4,
 "nbformat_minor": 4
}