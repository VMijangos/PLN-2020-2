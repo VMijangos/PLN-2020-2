{
 "cells": [
  {
   "cell_type": "markdown",
   "metadata": {},
   "source": [
    "# Práctica 1\n",
    "\n",
    "Procesamiento de Lenguaje Natural\n",
    "\n",
    "Facultad de Ingeniería, UNAM\n",
    "\n",
    "Alumno: Andrés González Flores\n",
    "\n",
    "**Objetivo**: Obtener la curva de Zipf de los tipos de un corpus en escala logaríıtmica y determinar el parámetro α correspondiente a esa distribución.\n",
    "\n",
    "Pasos a seguir:\n",
    "\n",
    "1. Escoger un corpus de cualquier idioma y de un tamaño mayor a 10,000 tokens.\n",
    "2. Limpiar el corpus: eliminar signos de puntuación, de interrogación, admiración y elementos no léxicos.\n",
    "3. Aplicar un algoritmo de Stemming a los tokens limpios.\n",
    "4. Obtener las frecuencias de los tipos en el corpus.\n",
    "5. Ordenar por el rango estadístico de mayor a menor.\n",
    "6. Graficar el diagrama de dispersión rango-frecuencia en la escala logarítmica.\n",
    "7. Obtener el parámetro de la distribución de Zipf $\\alpha$ (a partir de un procedimiento de regresión).\n",
    "\n",
    "\n"
   ]
  },
  {
   "cell_type": "markdown",
   "metadata": {},
   "source": [
    "## Desarrollo\n",
    "\n",
    "### Paso 1\n",
    "\n",
    "El corpus que elegí se compone de 88 boletines de prensa de la campaña electoral de AMLO en las elecciones presidenciales de 2018.\n",
    "\n",
    "Cada boletin tiene el siguiente formato:\n",
    "\n",
    "```json\n",
    "{\n",
    "    \"uuid\" : \"e58c384c-e99d-427a-98af-67ad7eca7b93\",\n",
    "    \"fuente\" : \"https:\\/\\/lopezobrador.org.mx\\/2018\\/04\\/02\\/amlo-visita-el-municipio-de-santa-catarina-en-nuevo-leon\\/\",\n",
    "    \"fecha\" : \"2018\\/04\\/02\",\n",
    "    \"encabezado\" : \"Asegura AMLO que en campaña todo será amor y paz, que los otros candidatos se ahorren sus provocaciones\",\n",
    "    \"sumarios\" : [\n",
    "        \"Adelanta López Obrador que no pasará nada el primero de julio cuando se lleven a cabo las elecciones presidenciales\",\n",
    "        \"Expresa que esperará que Donald Trump se serene y lo hará entrar en razón\",\"Invita a que se realice un encuentro público entre técnicos para debatir si es viable o no la construcción del nuevo aeropuerto en el Lago de Texcoco\"\n",
    "        ],\n",
    "    \"contenido\" : \"Andrés Manuel López Obrador, candidato a la Presidencia de México, inicia en Santa Catarina un recorrido por municipios de (...)\"\n",
    "}\n",
    "```\n",
    "\n",
    "De estos, se tomará únicamente su contenido"
   ]
  },
  {
   "cell_type": "code",
   "execution_count": 1,
   "metadata": {},
   "outputs": [],
   "source": [
    "import pandas as pd\n",
    "import re\n",
    "from nltk import SnowballStemmer\n",
    "from collections import Counter\n",
    "import numpy as np\n",
    "import matplotlib.pyplot as plt"
   ]
  },
  {
   "cell_type": "code",
   "execution_count": 2,
   "metadata": {},
   "outputs": [],
   "source": [
    "\n",
    "data = pd.read_json('./Data/boletines-AMLO.json', encoding='utf-8', dtype='dict')\n",
    "boletines = data['boletines']\n",
    "corpus = \"\\n\".join([ boletin['contenido'] for boletin in boletines ])"
   ]
  },
  {
   "cell_type": "markdown",
   "metadata": {},
   "source": [
    "### Paso 2\n",
    "\n",
    "Se consideran tokens que cumplan con la expresión regular \\[a-zA-zñáéíóúüÁÉÍÓÚÜÑ\\]+. Luego, se pasan a minúsculas."
   ]
  },
  {
   "cell_type": "code",
   "execution_count": 3,
   "metadata": {},
   "outputs": [
    {
     "data": {
      "text/plain": [
       "['boletín',\n",
       " 'campaña',\n",
       " 'descargar',\n",
       " 'audio',\n",
       " 'discurso',\n",
       " 'amlo',\n",
       " 'ciudad',\n",
       " 'juárez',\n",
       " 'chihuahua',\n",
       " 'de',\n",
       " 'abril',\n",
       " 'de',\n",
       " 'palabras',\n",
       " 'de',\n",
       " 'andrés']"
      ]
     },
     "execution_count": 3,
     "metadata": {},
     "output_type": "execute_result"
    }
   ],
   "source": [
    "tokens = re.findall('[a-zA-zñáéíóúüÁÉÍÓÚÜÑ]+', corpus)\n",
    "tokens = [token.lower() for token in tokens]\n",
    "tokens[:15]"
   ]
  },
  {
   "cell_type": "markdown",
   "metadata": {},
   "source": [
    "### Paso 3\n",
    "\n",
    "Usaré el algoritmo de Snowball stemming de la librería nltk"
   ]
  },
  {
   "cell_type": "code",
   "execution_count": 4,
   "metadata": {},
   "outputs": [
    {
     "data": {
      "text/plain": [
       "['boletin',\n",
       " 'campañ',\n",
       " 'descarg',\n",
       " 'audi',\n",
       " 'discurs',\n",
       " 'amlo',\n",
       " 'ciud',\n",
       " 'juarez',\n",
       " 'chihuahu',\n",
       " 'de',\n",
       " 'abril',\n",
       " 'de',\n",
       " 'palabr',\n",
       " 'de',\n",
       " 'andres']"
      ]
     },
     "execution_count": 4,
     "metadata": {},
     "output_type": "execute_result"
    }
   ],
   "source": [
    "es_stemmer = SnowballStemmer('spanish')\n",
    "stems = [es_stemmer.stem(token) for token in tokens]\n",
    "stems[:15]"
   ]
  },
  {
   "cell_type": "markdown",
   "metadata": {},
   "source": [
    "### Paso 4\n",
    "\n",
    "Luego, usaré el módulo collections para crear un objeto Counter que me dé la frecuencia de los stems."
   ]
  },
  {
   "cell_type": "code",
   "execution_count": 5,
   "metadata": {},
   "outputs": [],
   "source": [
    "conteo_stems = Counter(stems)"
   ]
  },
  {
   "cell_type": "markdown",
   "metadata": {},
   "source": [
    "### Paso 5\n",
    "\n",
    "Ordeno los stems de mayor a menor frecuencia."
   ]
  },
  {
   "cell_type": "code",
   "execution_count": 6,
   "metadata": {},
   "outputs": [
    {
     "data": {
      "text/plain": [
       "[('de', 7305),\n",
       " ('que', 6942),\n",
       " ('la', 5037),\n",
       " ('a', 4379),\n",
       " ('el', 3953),\n",
       " ('y', 3611),\n",
       " ('se', 3282),\n",
       " ('en', 3093),\n",
       " ('los', 3029),\n",
       " ('no', 2313),\n",
       " ('del', 1496),\n",
       " ('par', 1476),\n",
       " ('es', 1347),\n",
       " ('con', 1244),\n",
       " ('por', 1167)]"
      ]
     },
     "execution_count": 6,
     "metadata": {},
     "output_type": "execute_result"
    }
   ],
   "source": [
    "ordered_stems = sorted(conteo_stems.items(), key=lambda x: x[1], reverse=True) # El criterio a ordenar es la frecuencia\n",
    "ordered_stems[:15]"
   ]
  },
  {
   "cell_type": "markdown",
   "metadata": {},
   "source": [
    "### Paso 6\n",
    "\n",
    "Grafico el rango de la palabra contra su frecuencia en escala logarítmica."
   ]
  },
  {
   "cell_type": "code",
   "execution_count": 7,
   "metadata": {},
   "outputs": [],
   "source": [
    "labels, frecs = zip(*ordered_stems)\n",
    "ranks = np.arange(1, len(labels)+1) # Inicio en 1 para evitar errores de log(0)\n",
    "log_ranks = np.log(ranks)\n",
    "log_frecs = np.log(frecs)"
   ]
  },
  {
   "cell_type": "code",
   "execution_count": 8,
   "metadata": {},
   "outputs": [
    {
     "data": {
      "image/png": "[encoded data removed]",
      "text/plain": [
       "<Figure size 432x288 with 1 Axes>"
      ]
     },
     "metadata": {
      "needs_background": "light"
     },
     "output_type": "display_data"
    }
   ],
   "source": [
    "plt.figure()\n",
    "plt.scatter(log_ranks, log_frecs, s=(5,5))\n",
    "plt.xlabel('log(rango)')\n",
    "plt.ylabel('log(frec)')\n",
    "plt.title('Rango vs frecuencia')   \n",
    "\n",
    "plt.show()"
   ]
  },
  {
   "cell_type": "markdown",
   "metadata": {},
   "source": [
    "### Paso 7\n",
    "\n",
    "Usaré el método de gradiente descendente para estimar el parámetro $\\alpha$\n",
    "\n",
    "El método de gradiente descendiente trata de encontrar un mínimo local de una función tomando pasos proporcionales al negativo del gradiente (o gradiente aproximado) de la función en el punto actual.\n",
    "\n",
    "$$ \\mathbf{\\alpha}_{n+1} = \\mathbf{\\alpha}_n - \\gamma \\frac{\\partial(J(\\mathbf{\\alpha}_n))}{\\partial\\alpha} $$\n",
    "\n",
    "Donde $\\gamma$ es el factor de aprendizaje.\n",
    "\n",
    "**Función de aproximación:**\n",
    "\n",
    "$$ \\log \\hat{fr} = \\alpha \\log r + \\log b  $$\n",
    "\n",
    "Donde $b$ es la mayor frecuencia en los datos y $\\theta$ es un parámetro que aproxima la frecuencia en escala logaritmica.\n",
    "\n",
    "**Función de costo:**\n",
    "\n",
    "$$ J(\\alpha) = MSE(\\alpha) = \\frac{1}{2n} \\sum_r ( \\log \\hat{fr} - \\log{fr} )^2 $$\n",
    "\n",
    "Donde $n$ es el número de tipos en el corpus. \n",
    "\n",
    "Para minimizar esta función se requiere derivar la función de costo.\n",
    "\n",
    "$$ \\frac {\\partial(J(\\alpha))}{\\partial\\alpha} = \\frac{1}{n} \\sum_r \\left( \\alpha \\log r + \\log b - \\log{fr}\\right)\\left(\\log r\\right)  $$"
   ]
  },
  {
   "cell_type": "code",
   "execution_count": 11,
   "metadata": {},
   "outputs": [],
   "source": [
    "# Ordenada al origen\n",
    "b = log_frecs[0]\n",
    "\n",
    "# Función de aproximación\n",
    "log_fr_aprox = lambda rank, alpha : alpha*np.log(rank) + b \n",
    "\n",
    "# Derivada de la función de aproximación\n",
    "der_log_fr_aprox = lambda rank : np.log(rank) \n",
    "\n",
    "# Error cuadrático medio\n",
    "MSE = lambda x, y, alpha : ((log_fr_aprox(x, alpha)-y)**2).sum(0)/(2*len(x))\n",
    "\n",
    "# Derivada de MSE respecto a alpha\n",
    "der_MSE = lambda x, y, alpha : ((log_fr_aprox(x, alpha)-y) * der_log_fr_aprox(x)).sum(0)/len(x)\n",
    "\n",
    "# Método de gradiente descendente\n",
    "def gradesc(xvect=[], yvect=[], alpha=1, lr=0.1, iterac=100, presc=0.001, verbosity=1):\n",
    "    hist_alpha = []\n",
    "    hist_error = []\n",
    "    for i in range(iterac):\n",
    "        alpha_actual = alpha\n",
    "        alpha -= lr*der_MSE(xvect, yvect, alpha_actual)        \n",
    "        error = MSE(xvect, yvect, alpha)\n",
    "        \n",
    "        if verbosity==1:\n",
    "            print('Iteración %d' % (i+1))\n",
    "            print('  alpha = %.4f' % (alpha))\n",
    "            print('  MSE = %.5f' % (error))\n",
    "            \n",
    "        hist_alpha.append(alpha)\n",
    "        hist_error.append(error)\n",
    "        \n",
    "        diff = alpha - alpha_actual\n",
    "        if abs(diff) <= presc:\n",
    "            break\n",
    "    return [hist_alpha, hist_error]"
   ]
  },
  {
   "cell_type": "code",
   "execution_count": 12,
   "metadata": {},
   "outputs": [
    {
     "name": "stdout",
     "output_type": "stream",
     "text": [
      "Iteración 1\n",
      "  alpha = -0.1355\n",
      "  MSE = 21.48259\n",
      "Iteración 2\n",
      "  alpha = -0.6272\n",
      "  MSE = 4.15719\n",
      "Iteración 3\n",
      "  alpha = -0.8401\n",
      "  MSE = 0.90786\n",
      "Iteración 4\n",
      "  alpha = -0.9323\n",
      "  MSE = 0.29845\n",
      "Iteración 5\n",
      "  alpha = -0.9723\n",
      "  MSE = 0.18416\n",
      "Iteración 6\n",
      "  alpha = -0.9896\n",
      "  MSE = 0.16273\n",
      "Iteración 7\n",
      "  alpha = -0.9971\n",
      "  MSE = 0.15871\n",
      "Iteración 8\n",
      "  alpha = -1.0003\n",
      "  MSE = 0.15795\n",
      "Iteración 9\n",
      "  alpha = -1.0017\n",
      "  MSE = 0.15781\n",
      "Iteración 10\n",
      "  alpha = -1.0023\n",
      "  MSE = 0.15778\n",
      "Iteración 11\n",
      "  alpha = -1.0026\n",
      "  MSE = 0.15778\n",
      "Iteración 12\n",
      "  alpha = -1.0027\n",
      "  MSE = 0.15778\n",
      "Iteración 13\n",
      "  alpha = -1.0028\n",
      "  MSE = 0.15778\n",
      "Iteración 14\n",
      "  alpha = -1.0028\n",
      "  MSE = 0.15778\n",
      "Iteración 15\n",
      "  alpha = -1.0028\n",
      "  MSE = 0.15778\n"
     ]
    }
   ],
   "source": [
    "alpha = 1\n",
    "iters = 100\n",
    "lr = 0.01\n",
    "presc = 0.00001\n",
    "\n",
    "hist_alpha, hist_error = gradesc(ranks, log_frecs, alpha, lr, iters, presc, verbosity=1)"
   ]
  },
  {
   "cell_type": "code",
   "execution_count": 13,
   "metadata": {},
   "outputs": [
    {
     "data": {
      "image/png": "[encoded data removed]",
      "text/plain": [
       "<Figure size 432x288 with 1 Axes>"
      ]
     },
     "metadata": {
      "needs_background": "light"
     },
     "output_type": "display_data"
    }
   ],
   "source": [
    "plt.title('Error a través de las iteraciones')\n",
    "plt.plot(hist_error, color='r')\n",
    "plt.show()"
   ]
  },
  {
   "cell_type": "markdown",
   "metadata": {},
   "source": [
    "Imprimo el parámetro $\\alpha$ que minimizó el error."
   ]
  },
  {
   "cell_type": "code",
   "execution_count": 14,
   "metadata": {},
   "outputs": [
    {
     "data": {
      "text/plain": [
       "-1.002788197803583"
      ]
     },
     "execution_count": 14,
     "metadata": {},
     "output_type": "execute_result"
    }
   ],
   "source": [
    "alpha = hist_alpha[-1]\n",
    "alpha"
   ]
  },
  {
   "cell_type": "markdown",
   "metadata": {},
   "source": [
    "Grafico la aproximación vs datos empiricos"
   ]
  },
  {
   "cell_type": "code",
   "execution_count": 15,
   "metadata": {},
   "outputs": [
    {
     "data": {
      "image/png": "[encoded data removed]",
      "text/plain": [
       "<Figure size 432x288 with 1 Axes>"
      ]
     },
     "metadata": {
      "needs_background": "light"
     },
     "output_type": "display_data"
    }
   ],
   "source": [
    "plt.figure()\n",
    "plt.plot(log_ranks, alpha*log_ranks+b, color='r', label='Aprox. por Grad. Desc.')\n",
    "plt.scatter(log_ranks, log_frecs, s=(5,5), label='Datos empíricos')\n",
    "plt.xlabel('log(rango)')\n",
    "plt.ylabel('log(frec)')\n",
    "plt.legend(bbox_to_anchor=(1, 1))\n",
    "plt.title('Rango vs frecuencia')   \n",
    "\n",
    "plt.show()"
   ]
  },
  {
   "cell_type": "markdown",
   "metadata": {},
   "source": [
    "### Paso extra: Divergencia KL\n",
    "\n",
    "Calculo las probabilidades de los rangos con datos emríricos y con la aproximación de Zipf."
   ]
  },
  {
   "cell_type": "code",
   "execution_count": 16,
   "metadata": {},
   "outputs": [],
   "source": [
    "N = sum(frecs)\n",
    "p_fr = np.array([float(fr)/N for fr in frecs])\n",
    "\n",
    "p_zipf_gradesc = ranks**alpha\n",
    "p_zipf_gradesc = p_zipf_gradesc/p_zipf_gradesc.sum(0)"
   ]
  },
  {
   "cell_type": "code",
   "execution_count": 17,
   "metadata": {},
   "outputs": [],
   "source": [
    "#Divergencia KL\n",
    "D_kl = lambda q,p: (q*np.log(q/p)).sum(0)"
   ]
  },
  {
   "cell_type": "code",
   "execution_count": 18,
   "metadata": {},
   "outputs": [
    {
     "name": "stdout",
     "output_type": "stream",
     "text": [
      "Divergencia frecuencia relativa y Zipf MSE approx \t 0.06892574017840974\n"
     ]
    }
   ],
   "source": [
    "print('Divergencia frecuencia relativa y Zipf MSE approx \\t', D_kl(p_fr, p_zipf_gradesc))"
   ]
  },
  {
   "cell_type": "code",
   "execution_count": null,
   "metadata": {},
   "outputs": [],
   "source": []
  }
 ],
 "metadata": {
  "kernelspec": {
   "display_name": "Python 3",
   "language": "python",
   "name": "python3"
  },
  "language_info": {
   "codemirror_mode": {
    "name": "ipython",
    "version": 3
   },
   "file_extension": ".py",
   "mimetype": "text/x-python",
   "name": "python",
   "nbconvert_exporter": "python",
   "pygments_lexer": "ipython3",
   "version": "3.7.4"
  }
 },
 "nbformat": 4,
 "nbformat_minor": 4
}
