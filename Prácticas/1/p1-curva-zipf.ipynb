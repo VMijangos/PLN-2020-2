{
 "cells": [
  {
   "cell_type": "markdown",
   "metadata": {},
   "source": [
    "# Práctica 1\n",
    "\n",
    "Procesamiento de Lenguaje Natural\n",
    "\n",
    "Facultad de Ingeniería, UNAM\n",
    "\n",
    "Alumno: Andrés González Flores\n",
    "\n",
    "**Objetivo**: Obtener la curva de Zipf de los tipos de un corpus en escala logaríıtmica y determinar el parámetro α correspondiente a esa distribución.\n",
    "\n",
    "Pasos a seguir:\n",
    "\n",
    "1. Escoger un corpus de cualquier idioma y de un tamaño mayor a 10,000 tokens.\n",
    "2. Limpiar el corpus: eliminar signos de puntuación, de interrogación, admiración y elementos no léxicos.\n",
    "3. Aplicar un algoritmo de Stemming a los tokens limpios.\n",
    "4. Obtener las frecuencias de los tipos en el corpus.\n",
    "5. Ordenar por el rango estadístico de mayor a menor.\n",
    "6. Graficar el diagrama de dispersión rango-frecuencia en la escala logarítmica.\n",
    "7. Obtener el parámetro de la distribución de Zipf $\\alpha$ (a partir de un procedimiento de regresión).\n",
    "\n",
    "\n"
   ]
  },
  {
   "cell_type": "markdown",
   "metadata": {},
   "source": [
    "## Desarrollo\n",
    "\n",
    "### Paso 1\n",
    "\n",
    "El corpus que elegí se compone de 88 boletines de prensa de la campaña electoral de AMLO en las elecciones presidenciales de 2018.\n",
    "\n",
    "Cada boletin tiene el siguiente formato:\n",
    "\n",
    "```json\n",
    "{\n",
    "    \"uuid\" : \"e58c384c-e99d-427a-98af-67ad7eca7b93\",\n",
    "    \"fuente\" : \"https:\\/\\/lopezobrador.org.mx\\/2018\\/04\\/02\\/amlo-visita-el-municipio-de-santa-catarina-en-nuevo-leon\\/\",\n",
    "    \"fecha\" : \"2018\\/04\\/02\",\n",
    "    \"encabezado\" : \"Asegura AMLO que en campaña todo será amor y paz, que los otros candidatos se ahorren sus provocaciones\",\n",
    "    \"sumarios\" : [\n",
    "        \"Adelanta López Obrador que no pasará nada el primero de julio cuando se lleven a cabo las elecciones presidenciales\",\n",
    "        \"Expresa que esperará que Donald Trump se serene y lo hará entrar en razón\",\"Invita a que se realice un encuentro público entre técnicos para debatir si es viable o no la construcción del nuevo aeropuerto en el Lago de Texcoco\"\n",
    "        ],\n",
    "    \"contenido\" : \"Andrés Manuel López Obrador, candidato a la Presidencia de México, inicia en Santa Catarina un recorrido por municipios de (...)\"\n",
    "}\n",
    "```\n",
    "\n",
    "De estos, se tomará únicamente su contenido"
   ]
  },
  {
   "cell_type": "code",
   "execution_count": 1,
   "metadata": {},
   "outputs": [],
   "source": [
    "import pandas as pd\n",
    "import re\n",
    "from nltk import SnowballStemmer\n",
    "from collections import Counter\n",
    "import numpy as np\n",
    "import matplotlib.pyplot as plt"
   ]
  },
  {
   "cell_type": "code",
   "execution_count": 2,
   "metadata": {},
   "outputs": [],
   "source": [
    "\n",
    "data = pd.read_json('./Data/boletines-AMLO.json', encoding='utf-8', dtype='dict')\n",
    "boletines = data['boletines']\n",
    "corpus = \"\\n\".join([ boletin['contenido'] for boletin in boletines ])"
   ]
  },
  {
   "cell_type": "markdown",
   "metadata": {},
   "source": [
    "### Paso 2\n",
    "\n",
    "Se consideran tokens que cumplan con la expresión regular \\[a-zA-zñáéíóúüÁÉÍÓÚÜÑ\\]+. Luego, se pasan a minúsculas."
   ]
  },
  {
   "cell_type": "code",
   "execution_count": 3,
   "metadata": {},
   "outputs": [
    {
     "data": {
      "text/plain": [
       "['boletín',\n",
       " 'campaña',\n",
       " 'descargar',\n",
       " 'audio',\n",
       " 'discurso',\n",
       " 'amlo',\n",
       " 'ciudad',\n",
       " 'juárez',\n",
       " 'chihuahua',\n",
       " 'de',\n",
       " 'abril',\n",
       " 'de',\n",
       " 'palabras',\n",
       " 'de',\n",
       " 'andrés']"
      ]
     },
     "execution_count": 3,
     "metadata": {},
     "output_type": "execute_result"
    }
   ],
   "source": [
    "tokens = re.findall('[a-zA-zñáéíóúüÁÉÍÓÚÜÑ]+', corpus)\n",
    "tokens = [token.lower() for token in tokens]\n",
    "tokens[:15]"
   ]
  },
  {
   "cell_type": "markdown",
   "metadata": {},
   "source": [
    "### Paso 3\n",
    "\n",
    "Usaré el algoritmo de Snowball stemming de la librería nltk"
   ]
  },
  {
   "cell_type": "code",
   "execution_count": 4,
   "metadata": {},
   "outputs": [
    {
     "data": {
      "text/plain": [
       "['boletin',\n",
       " 'campañ',\n",
       " 'descarg',\n",
       " 'audi',\n",
       " 'discurs',\n",
       " 'amlo',\n",
       " 'ciud',\n",
       " 'juarez',\n",
       " 'chihuahu',\n",
       " 'de',\n",
       " 'abril',\n",
       " 'de',\n",
       " 'palabr',\n",
       " 'de',\n",
       " 'andres']"
      ]
     },
     "execution_count": 4,
     "metadata": {},
     "output_type": "execute_result"
    }
   ],
   "source": [
    "es_stemmer = SnowballStemmer('spanish')\n",
    "stems = [es_stemmer.stem(token) for token in tokens]\n",
    "stems[:15]"
   ]
  },
  {
   "cell_type": "markdown",
   "metadata": {},
   "source": [
    "### Paso 4\n",
    "\n",
    "Luego, usaré el módulo collections para crear un objeto Counter que me dé la frecuencia de los stems."
   ]
  },
  {
   "cell_type": "code",
   "execution_count": 5,
   "metadata": {},
   "outputs": [],
   "source": [
    "conteo_stems = Counter(stems)"
   ]
  },
  {
   "cell_type": "markdown",
   "metadata": {},
   "source": [
    "### Paso 5\n",
    "\n",
    "Ordeno los stems de mayor a menor frecuencia."
   ]
  },
  {
   "cell_type": "code",
   "execution_count": 6,
   "metadata": {},
   "outputs": [
    {
     "data": {
      "text/plain": [
       "[('de', 7305),\n",
       " ('que', 6942),\n",
       " ('la', 5037),\n",
       " ('a', 4379),\n",
       " ('el', 3953),\n",
       " ('y', 3611),\n",
       " ('se', 3282),\n",
       " ('en', 3093),\n",
       " ('los', 3029),\n",
       " ('no', 2313),\n",
       " ('del', 1496),\n",
       " ('par', 1476),\n",
       " ('es', 1347),\n",
       " ('con', 1244),\n",
       " ('por', 1167)]"
      ]
     },
     "execution_count": 6,
     "metadata": {},
     "output_type": "execute_result"
    }
   ],
   "source": [
    "ordered_stems = sorted(conteo_stems.items(), key=lambda x: x[1], reverse=True) # El criterio a ordenar es la frecuencia\n",
    "ordered_stems[:15]"
   ]
  },
  {
   "cell_type": "markdown",
   "metadata": {},
   "source": [
    "### Paso 6\n",
    "\n",
    "Grafico el rango de la palabra contra su frecuencia en escala logarítmica."
   ]
  },
  {
   "cell_type": "code",
   "execution_count": 7,
   "metadata": {},
   "outputs": [
    {
     "data": {
      "image/png": "[encoded data removed]",
      "text/plain": [
       "<Figure size 432x288 with 1 Axes>"
      ]
     },
     "metadata": {
      "needs_background": "light"
     },
     "output_type": "display_data"
    }
   ],
   "source": [
    "labels, frec = zip(*ordered_stems)\n",
    "x = np.arange(1, len(labels)+1) # Inicio en 1 para evitar errores de log(0)\n",
    "\n",
    "plt.figure()\n",
    "plt.scatter(np.log(x), np.log(frec), s=(5,5))\n",
    "plt.xlabel('log(rango)')\n",
    "plt.ylabel('log(frec)')\n",
    "plt.title('Rango vs frecuencia')   \n",
    "\n",
    "plt.show()"
   ]
  },
  {
   "cell_type": "markdown",
   "metadata": {},
   "source": [
    "### Paso 7\n",
    "\n",
    "Usaré el método de gradiente descendente para estimar el parámetro $\\alpha$\n",
    "\n",
    "**Función objetivo:**\n",
    "\n",
    "$$ \\log \\hat{fr} = \\alpha \\log r + \\log b  $$\n",
    "\n",
    "Donde $b$ es la mayor frecuencia en los datos y $\\theta$ es un parámetro que aproxima la frecuencia en escala logaritmica.\n",
    "\n",
    "**Función de costo:**\n",
    "\n",
    "$$ J(\\alpha) = MSE(\\alpha) = \\frac{1}{2n} \\sum_r ( \\log \\hat{fr} - \\log{fr} )^2 $$\n",
    "\n",
    "Donde $n$ es el número de tipos en el corpus. \n",
    "\n",
    "Para minimizar esta función se requiere derivar la función de costo.\n",
    "\n",
    "$$ \\frac {\\partial(J(\\alpha))}{\\partial\\alpha} = \\frac{1}{n} \\sum_r \\left( \\alpha \\log r + \\log b - \\log{fr}\\right)\\left(\\log r\\right)  $$"
   ]
  },
  {
   "cell_type": "code",
   "execution_count": 8,
   "metadata": {},
   "outputs": [],
   "source": [
    "b = np.log(frec[0]) # Calculo la ordenada al origen\n",
    "log_fr_aprox = lambda rank, alpha : alpha*np.log(rank) + b\n",
    "der_log_fr_aprox = lambda rank : np.log(rank)"
   ]
  },
  {
   "cell_type": "code",
   "execution_count": 15,
   "metadata": {},
   "outputs": [],
   "source": [
    "def fc_min_cuadrados(xvect = [], yvect=[], alpha=1):\n",
    "    J = 0\n",
    "    for x, y in zip(xvect, yvect):\n",
    "        J += (log_fr_aprox(x, alpha)-y)**2\n",
    "    J /= 2*len(xvect)\n",
    "    return J\n",
    "\n",
    "def der_min_cuadrados(xvect = [], yvect=[], alpha=1):\n",
    "    J = 0\n",
    "    for x, y in zip(xvect, yvect):\n",
    "        J += (log_fr_aprox(x, alpha)-y) * der_log_fr_aprox(x)\n",
    "    J /= len(xvect)\n",
    "    return J\n",
    "\n",
    "def gradesc(xvect=[], yvect=[], alpha=1, lr=0.1, iterac=100, presc=0.001, verbosity=1):\n",
    "    hist_alpha = []\n",
    "    hist_error = []\n",
    "    for i in range(iterac):\n",
    "        alpha_actual = alpha\n",
    "        alpha -= lr*der_min_cuadrados(xvect, yvect, alpha_actual)        \n",
    "        error = fc_min_cuadrados(x, y, alpha)        \n",
    "        if verbosity==1:\n",
    "            print('Parámetro despúes de %i iteraciones: %.4f' % (i, alpha))\n",
    "            print('Error despúes de %i iteraciones: %.4f' % (i+1, error))\n",
    "        diff = alpha - alpha_actual\n",
    "        hist_alpha.append(alpha)\n",
    "        hist_error.append(error)        \n",
    "        if abs(diff) <= presc:\n",
    "            break\n",
    "    return [hist_alpha, hist_error]"
   ]
  },
  {
   "cell_type": "code",
   "execution_count": 16,
   "metadata": {},
   "outputs": [
    {
     "name": "stdout",
     "output_type": "stream",
     "text": [
      "Parámetro despúes de 0 iteraciones: -0.1355\n",
      "Error despúes de 1 iteraciones: 21.4826\n",
      "Parámetro despúes de 1 iteraciones: -0.6272\n",
      "Error despúes de 2 iteraciones: 4.1572\n",
      "Parámetro despúes de 2 iteraciones: -0.8401\n",
      "Error despúes de 3 iteraciones: 0.9079\n",
      "Parámetro despúes de 3 iteraciones: -0.9323\n",
      "Error despúes de 4 iteraciones: 0.2985\n",
      "Parámetro despúes de 4 iteraciones: -0.9723\n",
      "Error despúes de 5 iteraciones: 0.1842\n",
      "Parámetro despúes de 5 iteraciones: -0.9896\n",
      "Error despúes de 6 iteraciones: 0.1627\n",
      "Parámetro despúes de 6 iteraciones: -0.9971\n",
      "Error despúes de 7 iteraciones: 0.1587\n",
      "Parámetro despúes de 7 iteraciones: -1.0003\n",
      "Error despúes de 8 iteraciones: 0.1580\n",
      "Parámetro despúes de 8 iteraciones: -1.0017\n",
      "Error despúes de 9 iteraciones: 0.1578\n",
      "Parámetro despúes de 9 iteraciones: -1.0023\n",
      "Error despúes de 10 iteraciones: 0.1578\n",
      "Parámetro despúes de 10 iteraciones: -1.0026\n",
      "Error despúes de 11 iteraciones: 0.1578\n",
      "Parámetro despúes de 11 iteraciones: -1.0027\n",
      "Error despúes de 12 iteraciones: 0.1578\n",
      "Parámetro despúes de 12 iteraciones: -1.0028\n",
      "Error despúes de 13 iteraciones: 0.1578\n",
      "Parámetro despúes de 13 iteraciones: -1.0028\n",
      "Error despúes de 14 iteraciones: 0.1578\n",
      "Parámetro despúes de 14 iteraciones: -1.0028\n",
      "Error despúes de 15 iteraciones: 0.1578\n"
     ]
    }
   ],
   "source": [
    "alpha = 1\n",
    "temp = 1000\n",
    "iters = 100\n",
    "lr = 0.01\n",
    "presc = 0.00001\n",
    "y = np.log(frec)\n",
    "\n",
    "hist_alpha, hist_error = gradesc(x, y, alpha, lr, iters, presc, verbosity=1)"
   ]
  },
  {
   "cell_type": "code",
   "execution_count": 17,
   "metadata": {},
   "outputs": [
    {
     "data": {
      "image/png": "[encoded data removed]",
      "text/plain": [
       "<Figure size 432x288 with 1 Axes>"
      ]
     },
     "metadata": {
      "needs_background": "light"
     },
     "output_type": "display_data"
    }
   ],
   "source": [
    "plt.title('Error a través de las iteraciones')\n",
    "plt.plot(hist_error)\n",
    "plt.show()"
   ]
  },
  {
   "cell_type": "code",
   "execution_count": 13,
   "metadata": {},
   "outputs": [
    {
     "data": {
      "text/plain": [
       "0.15777746505146614"
      ]
     },
     "execution_count": 13,
     "metadata": {},
     "output_type": "execute_result"
    }
   ],
   "source": [
    "hist_error[-1]"
   ]
  },
  {
   "cell_type": "code",
   "execution_count": 18,
   "metadata": {},
   "outputs": [],
   "source": [
    "alpha = hist_alpha[-1]"
   ]
  },
  {
   "cell_type": "code",
   "execution_count": 22,
   "metadata": {},
   "outputs": [
    {
     "data": {
      "image/png": "[encoded data removed]",
      "text/plain": [
       "<Figure size 432x288 with 1 Axes>"
      ]
     },
     "metadata": {
      "needs_background": "light"
     },
     "output_type": "display_data"
    }
   ],
   "source": [
    "plt.figure()\n",
    "plt.plot(np.log(x), alpha*np.log(x)+b, color='r', label='Aprox. por Grad. Desc.')\n",
    "plt.scatter(np.log(x), np.log(frec), s=(5,5), label='Datos empíricos')\n",
    "plt.xlabel('log(rango)')\n",
    "plt.ylabel('log(frec)')\n",
    "plt.legend(bbox_to_anchor=(1, 1))\n",
    "plt.title('Rango vs frecuencia')   \n",
    "\n",
    "plt.show()"
   ]
  },
  {
   "cell_type": "code",
   "execution_count": null,
   "metadata": {},
   "outputs": [],
   "source": []
  }
 ],
 "metadata": {
  "kernelspec": {
   "display_name": "Python 3",
   "language": "python",
   "name": "python3"
  },
  "language_info": {
   "codemirror_mode": {
    "name": "ipython",
    "version": 3
   },
   "file_extension": ".py",
   "mimetype": "text/x-python",
   "name": "python",
   "nbconvert_exporter": "python",
   "pygments_lexer": "ipython3",
   "version": "3.7.4"
  }
 },
 "nbformat": 4,
 "nbformat_minor": 4
}
