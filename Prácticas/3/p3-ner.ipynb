{
 "cells": [
  {
   "cell_type": "markdown",
   "metadata": {},
   "source": [
    "# Práctica 3. Reconocimiento de Entidades Nombradas. NER\n",
    "\n",
    "Andrés González Flores\n",
    "\n",
    "Procesamiento de Lenguaje Natural\n",
    "\n",
    "Facultad de Ingeniería, UNAM\n",
    "\n",
    "## Objetivo\n",
    "\n",
    "Realizar un reconocimiento de Entidades Nombradas (NER) a partir de un modelo secuencial y con el corpus ‘ner dataset.csv’ que se proporciona.\n",
    "\n",
    "## Instrucciones\n",
    "\n",
    "Se deberán seguir los siguientes pasos:\n",
    "\n",
    "1. Obtener las sentencias a partir del csv. En este archivo, se indica cada inicio de sentencia con ‘Sentence: n’. Se cuenta con 1000 sentencias que conformarán el corpus de entrenamiento y evaluación.\n",
    "2. Preprocesar los datos.\n",
    "3. Separar los datos en corpus de entrenamiento (70%) y corpus de evaluación (30%).\n",
    "4. Entrenar un modelo secuencial a partir del corpus de entrenamiento. Deberán definirse los hiperparámetros.\n",
    "5. Evaluar el desempeño del sistema a partir del corpus de evaluación y con la métrica de Exactitud (Accuracy).\n",
    "6. Ejemplificar el reconocimiento de entidades nombradas con 5 sentencias del corpus de evaluación."
   ]
  },
  {
   "cell_type": "markdown",
   "metadata": {},
   "source": [
    "## Dessarrollo"
   ]
  },
  {
   "cell_type": "code",
   "execution_count": 1,
   "metadata": {},
   "outputs": [],
   "source": [
    "import csv\n",
    "import numpy as np\n",
    "from collections import Counter\n",
    "from sklearn.model_selection import train_test_split\n",
    "import matplotlib.pyplot as plt\n",
    "import operator\n",
    "from itertools import chain\n",
    "from tqdm.notebook import tqdm\n",
    "from pprint import pprint"
   ]
  },
  {
   "cell_type": "code",
   "execution_count": 2,
   "metadata": {},
   "outputs": [],
   "source": [
    "# Definición de constantes\n",
    "SEED = 42\n",
    "CORPUS_PATH = './ner_dataset.csv'\n",
    "BOS = '<BOS>'\n",
    "EOS = '<EOS>'\n",
    "UNK = '<unk>'\n",
    "\n",
    "np.random.seed(SEED)"
   ]
  },
  {
   "cell_type": "markdown",
   "metadata": {},
   "source": [
    "### Paso 1. Obtener sentencias.\n"
   ]
  },
  {
   "cell_type": "code",
   "execution_count": 3,
   "metadata": {},
   "outputs": [],
   "source": [
    "with open(CORPUS_PATH, 'r', encoding='utf-8') as f:\n",
    "    reader = csv.reader(f)\n",
    "    csvlist = list(reader)"
   ]
  },
  {
   "cell_type": "code",
   "execution_count": 4,
   "metadata": {},
   "outputs": [],
   "source": [
    "sentences = []\n",
    "sent_i = []\n",
    "for row in csvlist[1:]:\n",
    "    if row[0] is not '':\n",
    "        sentences.append(sent_i)\n",
    "        sent_i = []\n",
    "    sent_i.append((row[1], row[2]))\n",
    "# Mi algoritmo está feo: agrega la primer sentencia vacía y no agrega la última\n",
    "del sentences[0]\n",
    "sentences.append(sent_i)"
   ]
  },
  {
   "cell_type": "code",
   "execution_count": 5,
   "metadata": {},
   "outputs": [
    {
     "output_type": "stream",
     "name": "stdout",
     "text": "Número de oraciones = 1000\n\nEjemplos:\nThousands of demonstrators have marched through London to protest the war in Iraq and demand the withdrawal of British troops from that country .\nFamilies of soldiers killed in the conflict joined the protesters who carried banners with such slogans as \" Bush Number One Terrorist \" and \" Stop the Bombings . \"\nThey marched from the Houses of Parliament to a rally in Hyde Park .\nPolice put the number of marchers at 10000 while organizers claimed it was 1,00,000 .\nThe protest comes on the eve of the annual conference of Britain 's ruling Labor Party in the southern English seaside resort of Brighton .\n"
    }
   ],
   "source": [
    "print(f'Número de oraciones = {len(sentences)}\\n')\n",
    "print('Ejemplos:')\n",
    "print('\\n'.join([' '.join([w for w, tag in sent]) for sent in sentences[:5] ]))"
   ]
  },
  {
   "cell_type": "markdown",
   "metadata": {},
   "source": [
    "### Paso 2. Preprocesamiento"
   ]
  },
  {
   "cell_type": "code",
   "execution_count": 6,
   "metadata": {},
   "outputs": [
    {
     "output_type": "execute_result",
     "data": {
      "text/plain": "[('the', 1111),\n ('.', 995),\n (',', 637),\n ('in', 576),\n ('of', 568),\n ('to', 505),\n ('a', 449),\n ('and', 391),\n ('The', 241),\n (\"'s\", 202)]"
     },
     "metadata": {},
     "execution_count": 6
    }
   ],
   "source": [
    "freq_tokens = Counter([w for w,_ in chain(*sentences)])\n",
    "freq_tokens.most_common(10)"
   ]
  },
  {
   "cell_type": "markdown",
   "metadata": {},
   "source": [
    "Agrego el diccionario de entrada"
   ]
  },
  {
   "cell_type": "code",
   "execution_count": 7,
   "metadata": {},
   "outputs": [
    {
     "output_type": "stream",
     "name": "stdout",
     "text": "[('the', 0),\n ('.', 1),\n (',', 2),\n ('in', 3),\n ('of', 4),\n ('to', 5),\n ('a', 6),\n ('and', 7),\n ('The', 8),\n (\"'s\", 9)]\n"
    }
   ],
   "source": [
    "word_to_index = { \n",
    "    x[0] : i for i, x in enumerate(freq_tokens.most_common())\n",
    "    if freq_tokens[x[0]] > 1\n",
    "}\n",
    "\n",
    "pprint(list(word_to_index.items())[:10])"
   ]
  },
  {
   "cell_type": "markdown",
   "metadata": {},
   "source": [
    "Agrego los identificadores UNK, BOS Y EOS al vocabulario de entrada"
   ]
  },
  {
   "cell_type": "code",
   "execution_count": 8,
   "metadata": {},
   "outputs": [
    {
     "output_type": "stream",
     "name": "stdout",
     "text": "[('collapse', 2102),\n ('Barno', 2103),\n ('reunification', 2104),\n ('Berlin', 2105),\n ('Kohl', 2106),\n ('proud', 2107),\n ('wall', 2108),\n ('<unk>', 2109),\n ('<BOS>', 2110),\n ('<EOS>', 2111)]\n"
    }
   ],
   "source": [
    "word_to_index[UNK] = max(word_to_index.values())+1\n",
    "word_to_index[BOS] = word_to_index[UNK]+1\n",
    "word_to_index[EOS] = word_to_index[BOS]+1\n",
    "\n",
    "pprint(list(word_to_index.items())[-10:])"
   ]
  },
  {
   "cell_type": "markdown",
   "metadata": {},
   "source": [
    "Agrego el vocabulario de salida (las etiquetas)"
   ]
  },
  {
   "cell_type": "code",
   "execution_count": 9,
   "metadata": {},
   "outputs": [
    {
     "output_type": "execute_result",
     "data": {
      "text/plain": "[('', 18843),\n ('B-ge', 583),\n ('B-gpe', 543),\n ('B-rg', 413),\n ('I-per', 400),\n ('B-tim', 358),\n ('B-per', 327),\n ('I-rg', 290),\n ('I-ge', 105),\n ('I-tim', 77),\n ('B-art', 39),\n ('I-gpe', 26),\n ('I-art', 22),\n ('B-eve', 20),\n ('I-eve', 16),\n ('B-nat', 9),\n ('I-nat', 5)]"
     },
     "metadata": {},
     "execution_count": 9
    }
   ],
   "source": [
    "freq_tags = Counter([tag for _,tag in chain(*sentences)])\n",
    "freq_tags.most_common()"
   ]
  },
  {
   "cell_type": "code",
   "execution_count": 10,
   "metadata": {},
   "outputs": [
    {
     "output_type": "stream",
     "name": "stdout",
     "text": "{'': 0,\n 'B-art': 10,\n 'B-eve': 13,\n 'B-ge': 1,\n 'B-gpe': 2,\n 'B-nat': 15,\n 'B-per': 6,\n 'B-rg': 3,\n 'B-tim': 5,\n 'I-art': 12,\n 'I-eve': 14,\n 'I-ge': 8,\n 'I-gpe': 11,\n 'I-nat': 16,\n 'I-per': 4,\n 'I-rg': 7,\n 'I-tim': 9}\n"
    }
   ],
   "source": [
    "tag_to_index = {\n",
    "    y[0] : i for i, y in enumerate(freq_tags.most_common())\n",
    "}\n",
    "pprint(tag_to_index)"
   ]
  },
  {
   "cell_type": "markdown",
   "metadata": {},
   "source": [
    "Creo los vocabularios inversos"
   ]
  },
  {
   "cell_type": "code",
   "execution_count": 11,
   "metadata": {},
   "outputs": [
    {
     "output_type": "stream",
     "name": "stdout",
     "text": "Tamaño del vocabulario: 2112\nEjemplos de palabras:\nthe, parliament, measure, claim, flown, burning, Tokar\n\nVocabulario de etiquetas:\n(', B-ge, B-gpe, B-rg, I-per, B-tim, B-per, I-rg, I-ge, I-tim, B-art, I-gpe, '\n 'I-art, B-eve, I-eve, B-nat, I-nat')\n"
    }
   ],
   "source": [
    "index_to_word = [w for w in word_to_index.keys()]\n",
    "print(f'Tamaño del vocabulario: {len(index_to_word)}')\n",
    "print('Ejemplos de palabras:')\n",
    "print(', '.join(index_to_word[::350]))\n",
    "print()\n",
    "\n",
    "index_to_tag = [tag for tag in tag_to_index.keys()]\n",
    "print('Vocabulario de etiquetas:')\n",
    "pprint(', '.join(index_to_tag))"
   ]
  },
  {
   "cell_type": "markdown",
   "metadata": {},
   "source": [
    "Creo un método que devuelve siempre un indice del vocabulario o el identificador UNK"
   ]
  },
  {
   "cell_type": "code",
   "execution_count": 12,
   "metadata": {},
   "outputs": [],
   "source": [
    "def word_safe_vocab_index(w, vocab, ix_UNK):\n",
    "    try:\n",
    "        return vocab[w]\n",
    "    except KeyError:\n",
    "        return ix_UNK"
   ]
  },
  {
   "cell_type": "markdown",
   "metadata": {},
   "source": [
    "Armo el corpus de entrenamiento"
   ]
  },
  {
   "cell_type": "code",
   "execution_count": 13,
   "metadata": {},
   "outputs": [
    {
     "output_type": "stream",
     "name": "stdout",
     "text": "(2110, 0) (904, 0) (4, 0) (905, 0) (14, 0) (906, 0) (243, 0) (244, 1) (5, 0) (298, 0) (0, 0) (127, 0) (3, 0) (53, 1) (7, 0) (1282, 0) (0, 0) (679, 0) (4, 0) (99, 2) (77, 0) (17, 0) (16, 0) (71, 0) (1, 0) (2111, 0)\n\n(2110, 0) (2109, 0) (4, 0) (177, 0) (31, 0) (3, 0) (0, 0) (680, 0) (551, 0) (0, 0) (458, 0) (59, 0) (459, 0) (2109, 0) (18, 0) (245, 0) (1283, 0) (25, 0) (28, 0) (200, 6) (2109, 0) (460, 0) (2109, 0) (28, 0) (7, 0) (28, 0) (2109, 0) (0, 0) (2109, 0) (1, 0) (28, 0) (2111, 0)\n\n(2110, 0) (134, 0) (906, 0) (17, 0) (0, 0) (2109, 0) (4, 0) (2109, 0) (5, 0) (6, 0) (1284, 0) (3, 0) (2109, 1) (2109, 8) (1, 0) (2111, 0)\n\n(2110, 0) (268, 0) (340, 0) (0, 0) (341, 0) (4, 0) (1285, 0) (22, 0) (1286, 0) (135, 0) (1287, 0) (299, 0) (32, 0) (19, 0) (2109, 0) (1, 0) (2111, 0)\n\n(2110, 0) (8, 0) (298, 0) (552, 0) (15, 0) (0, 0) (1288, 0) (4, 0) (0, 0) (387, 0) (553, 0) (4, 0) (554, 1) (9, 0) (907, 0) (461, 3) (462, 7) (3, 0) (0, 0) (128, 0) (2109, 2) (2109, 0) (2109, 0) (4, 0) (2109, 1) (1, 0) (2111, 0)\n"
    }
   ],
   "source": [
    "ix_UNK = word_to_index[UNK]\n",
    "ix_BOS = word_to_index[BOS]\n",
    "ix_EOS = word_to_index[EOS]\n",
    "\n",
    "BOS_append = [(ix_BOS, tag_to_index[''])] # BOS y su etiqueta\n",
    "EOS_append = [(ix_EOS, tag_to_index[''])] # EOS y su etiqueta\n",
    "\n",
    "corpus = [\n",
    "    BOS_append + [ # Agrego BOS y su etiqueta\n",
    "        # Tupla con el valor del índice de la palabra y el índice de la etiqueta\n",
    "        (\n",
    "            word_safe_vocab_index(w, word_to_index, ix_UNK),\n",
    "            tag_to_index[tag]\n",
    "        ) # Fin tupla\n",
    "        for w, tag in sent # Para cada palabra en la sentencia\n",
    "    ] + EOS_append # Fin append\n",
    "    for sent in sentences # Por cada sentencia en la lista de sentencias\n",
    "]\n",
    "# pprint(corpus[:5])\n",
    "print('\\n\\n'.join([' '.join([f'({ix_w}, {ix_tag})' for ix_w, ix_tag in sent]) for sent in corpus[:5] ]))"
   ]
  },
  {
   "cell_type": "markdown",
   "metadata": {},
   "source": [
    "### Paso 3. Separar corpus de entrenamiento y evaluacion"
   ]
  },
  {
   "cell_type": "code",
   "execution_count": 14,
   "metadata": {},
   "outputs": [
    {
     "output_type": "stream",
     "name": "stdout",
     "text": "Ejemlos del corpus de entrenamiento\n[(2110, 0), (123, 0), (13, 0), (0, 0), (692, 0), (341, 0), (4, 0), (178, 0), (1599, 0), (636, 0), (1211, 0), (11, 0), (326, 0), (480, 0), (5, 0), (2109, 0), (129, 0), (2, 0), (171, 0), (1670, 0), (1, 0), (2111, 0)]\n[(2110, 0), (8, 0), (487, 0), (19, 0), (1776, 0), (27, 0), (0, 0), (131, 0), (668, 0), (3, 0), (2109, 1), (2, 0), (7, 0), (0, 0), (2109, 0), (4, 0), (50, 6), (667, 4), (2, 0), (6, 0), (2109, 0), (4, 0), (2109, 2), (49, 6), (2109, 4), (2109, 4), (2, 0), (19, 0), (13, 0), (5, 0), (565, 0), (1777, 0), (5, 0), (340, 0), (46, 0), (1778, 0), (15, 0), (2109, 2), (1, 0), (2111, 0)]\n[(2110, 0), (443, 0), (51, 0), (56, 0), (2, 0), (606, 2), (144, 6), (93, 4), (2109, 4), (2109, 4), (543, 0), (24, 0), (254, 3), (2109, 0), (11, 0), (331, 0), (538, 0), (82, 0), (4, 0), (224, 2), (9, 0), (175, 0), (2, 0), (348, 1), (1, 0), (2111, 0)]\n[(2110, 0), (1507, 0), (609, 0), (39, 0), (2109, 0), (199, 0), (46, 0), (633, 0), (7, 0), (52, 0), (1467, 0), (5, 0), (2109, 0), (22, 0), (229, 0), (2109, 0), (0, 0), (95, 0), (26, 0), (162, 0), (494, 0), (1, 0), (2111, 0)]\n[(2110, 0), (851, 1), (21, 8), (2109, 0), (861, 0), (26, 0), (22, 0), (624, 0), (25, 0), (2109, 0), (16, 0), (2109, 0), (301, 0), (4, 0), (40, 0), (4, 0), (0, 0), (198, 0), (4, 0), (457, 1), (9, 0), (473, 0), (464, 0), (26, 0), (326, 0), (1729, 0), (2109, 0), (1, 0), (2111, 0)]\n\nEjemlos del corpus de validación\n[(2110, 0), (2109, 0), (60, 5), (20, 0), (0, 0), (241, 0), (29, 0), (647, 0), (3, 0), (284, 0), (273, 0), (1325, 0), (4, 0), (75, 1), (3, 0), (1205, 1), (180, 0), (2, 0), (7, 0), (3, 0), (0, 0), (861, 0), (4, 0), (2109, 1), (7, 0), (2109, 1), (1, 0), (2111, 0)]\n[(2110, 0), (261, 0), (43, 0), (89, 0), (737, 0), (449, 0), (220, 0), (17, 0), (0, 0), (80, 1), (189, 8), (7, 0), (0, 0), (534, 0), (1983, 2), (1150, 0), (3, 0), (2109, 1), (2, 0), (2109, 1), (2, 0), (7, 0), (1987, 1), (1, 0), (2111, 0)]\n[(2110, 0), (134, 0), (1097, 0), (0, 0), (2109, 0), (817, 0), (10, 0), (2109, 0), (2109, 0), (2, 0), (135, 0), (118, 0), (1989, 0), (32, 0), (3, 0), (402, 0), (589, 0), (7, 0), (1212, 0), (10, 0), (45, 0), (287, 0), (1, 0), (2111, 0)]\n[(2110, 0), (2109, 0), (111, 0), (17, 0), (1248, 1), (20, 0), (0, 0), (905, 0), (2109, 0), (28, 0), (379, 3), (82, 0), (28, 0), (7, 0), (28, 0), (2109, 0), (566, 0), (173, 0), (28, 0), (74, 0), (45, 0), (298, 0), (60, 5), (1, 0), (2111, 0)]\n[(2110, 0), (8, 0), (234, 0), (419, 0), (17, 0), (6, 0), (1756, 0), (1169, 0), (1757, 0), (3, 0), (1758, 0), (126, 1), (827, 0), (5, 0), (1423, 0), (60, 5), (34, 0), (2109, 0), (2109, 0), (0, 0), (728, 0), (4, 0), (0, 0), (66, 0), (1759, 0), (2109, 0), (1, 0), (2111, 0)]\n"
    }
   ],
   "source": [
    "train_corpus, val_corpus = train_test_split(corpus, test_size=0.3, random_state=SEED)\n",
    "print(\"Ejemlos del corpus de entrenamiento\")\n",
    "for sent in train_corpus[:5]:\n",
    "    print(sent)\n",
    "print()\n",
    "print(\"Ejemlos del corpus de validación\")\n",
    "for sent in val_corpus[:5]:\n",
    "    print(sent)"
   ]
  },
  {
   "cell_type": "code",
   "execution_count": 15,
   "metadata": {},
   "outputs": [],
   "source": [
    "train_Data = [list(zip(*sent)) for sent in train_corpus]\n",
    "val_Data = [list(zip(*sent)) for sent in val_corpus]"
   ]
  },
  {
   "cell_type": "markdown",
   "metadata": {},
   "source": [
    "### Paso 4. Selección de modelo y entrenamiento\n",
    "\n",
    "Usaré un modelo de red neuronal recurrente con una capa de embedding, una capa oculta de recurrencia, y una capa de salida.\n",
    "\n",
    "La capa de embedding se define como:\n",
    "\n",
    "$$ x = Cs $$\n",
    "\n",
    "$C$ es una matriz de dimensión $d\\times N_{in}$ y $s$ es la representación one hot de la palabra en la secuencia.\n",
    "\n",
    "La capa oculta recurrente:\n",
    "\n",
    "$$ h^{(t)} = \\tanh{(Vh^{(t-1)}+Ux^{(t)})} $$\n",
    "\n",
    "$V$ es una matriz de dimensión $m\\times m$, $U$ una matriz de dimensión $d\\times m $.\n",
    "\n",
    "Y la capa de salida:\n",
    "\n",
    "$$ y^{(t)} = Softmax(Wh^{(t-1)}+c) $$\n",
    "\n",
    "En donde $W$ es una matriz de dimensión $N_{out} \\times m$\n",
    "\n",
    "Los valores de $d$ y $m$ son hiperparámetros\n",
    "\n",
    "#### Función de Riesgo\n",
    "\n",
    "La función de riesgo será la entroía cruzada:\n",
    "\n",
    "$$ R(y, \\hat{y}) = -\\frac1N \\sum_{i=0}^Ny\\log\\hat{y_i} $$"
   ]
  },
  {
   "cell_type": "markdown",
   "metadata": {},
   "source": [
    "Defino los hiperparámetros del modelo"
   ]
  },
  {
   "cell_type": "code",
   "execution_count": 16,
   "metadata": {},
   "outputs": [
    {
     "output_type": "stream",
     "name": "stdout",
     "text": "Dimensión de entrada: 2112\nDimensión de salida: 17\nDimensión de capa de embedding: 32\nDimensión de capa oculta: 16\n"
    }
   ],
   "source": [
    "dim_in = len(index_to_word)\n",
    "dim_d = 32 # Embedding\n",
    "dim_m = 16 # Celda recurrente\n",
    "dim_out = len(tag_to_index)\n",
    "\n",
    "print(f'Dimensión de entrada: {dim_in}')\n",
    "print(f'Dimensión de salida: {dim_out}')\n",
    "print(f'Dimensión de capa de embedding: {dim_d}')\n",
    "print(f'Dimensión de capa oculta: {dim_m}')"
   ]
  },
  {
   "cell_type": "markdown",
   "metadata": {},
   "source": [
    "Defino función para calcular accuracy"
   ]
  },
  {
   "cell_type": "code",
   "execution_count": 17,
   "metadata": {},
   "outputs": [],
   "source": [
    "calc_acc = lambda conf_mat : np.diag(conf_mat).sum()/conf_mat.sum()"
   ]
  },
  {
   "cell_type": "markdown",
   "metadata": {},
   "source": [
    "Defino la clase del modelo de red recurrente"
   ]
  },
  {
   "cell_type": "code",
   "execution_count": 18,
   "metadata": {},
   "outputs": [],
   "source": [
    "class Modelo(object):\n",
    "    def __init__(self, d, m, N_in, N_out):\n",
    "        self.d = d # DImensión de capa de embedding\n",
    "        self.m = m # Dimensión de capa oculta\n",
    "        self.N_in = N_in # Dimensión de entrada\n",
    "        self.N_out = N_out # Dimensión de salida\n",
    "\n",
    "    def inicializar_pesos(self):\n",
    "        # Capa de embedding\n",
    "        self.C = np.random.randn(self.d, self.N_in) / np.sqrt(self.N_in)\n",
    "                \n",
    "        # Capa recurrente oculta\n",
    "        self.V = np.random.randn(self.m, self.m) / np.sqrt(self.m)\n",
    "        self.U = np.random.randn(self.m, self.d) / np.sqrt(self.d)\n",
    "\n",
    "        # Capa de salida\n",
    "        self.W = np.random.randn(self.N_out, self.m) / np.sqrt(self.m) \n",
    "        self.c = np.zeros(self.N_out)\n",
    "        \n",
    "        # Los mejores pesos del modelo\n",
    "        self.best_C = self.C        \n",
    "        self.best_V = self.W\n",
    "        self.best_U = self.U\n",
    "        self.best_W = self.W\n",
    "        self.best_c = self.c\n",
    "    \n",
    "    def forward(self, secuencia):\n",
    "        \"\"\"Paso hacia adelante de la red. \n",
    "        Recibe como argumento una secuencia de entrada de n elementos, estos elementos\n",
    "        deben ser indices del vocabulario de entrada.\n",
    "        Da como salida $n$ vectores $h$, y $n$ vectores $y$\n",
    "        \"\"\"\n",
    "        # Tamaño de la secuencia de entrada\n",
    "        T = len(secuencia)\n",
    "\n",
    "        # Prealojamiento de salidas por estado de capas oculta y de salida.\n",
    "        h = np.zeros((T+1, self.m)) # Uso un estado adicional para t = -1\n",
    "        # Se inicia el vector h[-1] con ceros\n",
    "        h[-1] = np.zeros(self.m)\n",
    "\n",
    "        y = np.zeros((T, self.N_out))\n",
    "        x_emb = np.zeros((T, self.d))\n",
    "\n",
    "\n",
    "        # Propagación hacia adelante de la secuenca de entrada\n",
    "        for t in range(T):\n",
    "            # Un paso en la capa embedding se reduce a C[:, s]\n",
    "            x_emb[t] = self.C[:, secuencia[t]]\n",
    "\n",
    "            # Capa oculta recurrente\n",
    "            Vh = self.V.dot(h[t-1])\n",
    "            Ux = self.U.dot(x_emb[t])\n",
    "            h[t] = np.tanh(Vh + Ux) # Salida de capa oculta\n",
    "\n",
    "            # Capa de salida\n",
    "            a = self.W.dot(h[t]) + self.c # Preactivación\n",
    "            exp_a = np.exp(a - a.max()) # Exponencial de la preactivación\n",
    "            y[t] = exp_a/exp_a.sum() # Salida Softmax        \n",
    "        return y, h, x_emb\n",
    "    \n",
    "    def predecir(self, secuencia):\n",
    "        y_hat, _, _ = self.forward(secuencia)\n",
    "        return np.argmax(y_hat, axis=1)\n",
    "\n",
    "    def backprop(self, x, y, fw_out):\n",
    "        \"\"\"Algoritmo de backpropagation. \n",
    "        x es una secuencia de T elementos. \n",
    "        y es una secuencia de T elementos. \n",
    "        fw_out es una tupla de tres elementros (out, h, x_emb). Contiene\n",
    "        la salida de la red, la salida de la capa oculta y la salida de la\n",
    "        capa de embedding.\n",
    "        \"\"\"\n",
    "        T = len(y) # Número de entidades en la secuencia\n",
    "        # output, h, x_emb = self.forward(x)\n",
    "        output, h, x_emb = fw_out\n",
    "        \n",
    "        # Derivadas respecto a las matrices U, V, W, C y el vector c\n",
    "        dLdU = np.zeros_like(self.U)\n",
    "        dLdV = np.zeros_like(self.V)\n",
    "\n",
    "        dLdW = np.zeros_like(self.W)\n",
    "        dLdc = np.zeros_like(self.c)\n",
    "        \n",
    "        dLdC = np.zeros_like(self.C)\n",
    "\n",
    "        # Backprop\n",
    "        # Copio el arreglo para no modificar pesos de la salida original\n",
    "        d_out = np.array(output, copy=True) \n",
    "        # Modifico todos los arreglos en el tiempo\n",
    "        # En cada indice contenido en y, le resto 1\n",
    "        d_out[np.arange(len(y)), y] -= 1  # p(Tag_k | w_i) - y_k\n",
    "        \n",
    "        # Backprop a través del tiempo\n",
    "        for t in np.arange(T-1,-1,-1): # Desde T hasta 0\n",
    "            # Derivada de la capa de salida\n",
    "            dLdW += np.outer(d_out[t], h[t].T)\n",
    "            dLdc += d_out[t]\n",
    "\n",
    "            # Variable de celda recurrente\n",
    "            d_h = self.W.T.dot(d_out[t])*(1-h[t]**2)\n",
    "\n",
    "            # Variable de la capa de embedding\n",
    "            d_emb = self.U.T.dot(d_h)            \n",
    "            \n",
    "            # Truncamos la propagación a 4 palabras anteriores a la actual\n",
    "            for step in np.arange(max(0, t-4), t+1)[::-1]:\n",
    "                # Derivadas de capa recurrente\n",
    "                dLdV += np.outer(d_h, h[step-1])\n",
    "                dLdU += np.outer(d_h, x_emb[step])\n",
    "\n",
    "                dLdC[:, x[step]] += d_emb\n",
    "\n",
    "                # Actualizamos variable de celda recurrente\n",
    "                d_h = self.V.T.dot(d_h) * (1-h[step-1]**2)\n",
    "\n",
    "                # Actualizamos variable de embedding\n",
    "                d_emb = self.U.T.dot(d_h)\n",
    "\n",
    "        return dLdC, dLdU, dLdV, dLdW, dLdc\n",
    "\n",
    "    def gradiente_descendente(self, gradientes, lr=0.01):\n",
    "        \"\"\"Método que da un paso en el gradiente descendiente, actualizando los pesos.\n",
    "        Recibe una tupla con los valores de los gradientes  (dLdC, dLdU, dLdV, dLdW, dLdc)\n",
    "        \"\"\"\n",
    "        # Desenvolver gradientes\n",
    "        dLdC, dLdU, dLdV, dLdW, dLdc = gradientes\n",
    "        \n",
    "        # Actualizamos los pesos\n",
    "        # Capa de salida\n",
    "        self.W -= lr*dLdW\n",
    "        self.c -= lr*dLdc\n",
    "        # Capa recurrente oculta\n",
    "        self.V -= lr*dLdV\n",
    "        self.U -= lr*dLdU\n",
    "        # Capa de embredding\n",
    "        self.C -= lr*dLdC # Las demás filas no nos interesan, porque son 0\n",
    "        \n",
    "    def entrenar(self, train_Data, val_Data, epochs=50, lr=0.1, mostrar_res_cada = 5):\n",
    "        # Historial para guardar las métricas\n",
    "        history = { \n",
    "            k : {\n",
    "                'loss' : np.zeros(epochs),\n",
    "                'conf_mat' : np.zeros((epochs, self.N_out, self.N_out)),\n",
    "            }\n",
    "            for k in ['train', 'val']\n",
    "        }\n",
    "        min_train_loss = np.inf\n",
    "        min_val_loss = np.inf\n",
    "\n",
    "        for epoch in tqdm(np.arange(epochs)):\n",
    "\n",
    "            # TRAIN\n",
    "            train_loss = 0\n",
    "            train_len = len(train_Data)\n",
    "            train_conf_mat = np.zeros((self.N_out, self.N_out))\n",
    "            np.random.shuffle(train_Data)\n",
    "            for x, y in train_Data:\n",
    "                # FORWARD\n",
    "                len_seq = len(y)\n",
    "                fw_out = self.forward(x)\n",
    "\n",
    "                y_hat = fw_out[0]\n",
    "                # La probabilidad de la \"y\" verdadera\n",
    "                y_hat_n = y_hat[np.arange(len(y)), y]\n",
    "                # RIESGO\n",
    "                train_loss -= np.sum(np.log(y_hat_n))/len_seq\n",
    "\n",
    "                # Matriz de confusión\n",
    "                y_pred = np.argmax(y_hat, axis=1)\n",
    "                train_conf_mat[y, y_pred] += 1 # Sumo uno en las intersecciones\n",
    "                \n",
    "                # BACKPROP\n",
    "                grads = self.backprop(x, y, fw_out)\n",
    "                self.gradiente_descendente(grads, lr)\n",
    "            \n",
    "            train_loss /= train_len\n",
    "\n",
    "            if train_loss < min_train_loss:\n",
    "                min_train_loss = train_loss\n",
    "                self.guardar_pesos('pesos_modelos/best_loss_train.npz')\n",
    "\n",
    "            history['train']['conf_mat'][epoch,:,:] = train_conf_mat\n",
    "            history['train']['loss'][epoch] = train_loss\n",
    "\n",
    "            # VALIDATION\n",
    "            val_loss = 0\n",
    "            val_len = len(val_Data)\n",
    "            val_conf_mat = np.zeros((self.N_out, self.N_out))\n",
    "            np.random.shuffle(val_Data)\n",
    "            for x, y in val_Data:\n",
    "                # FORWARD\n",
    "                len_seq = len(y)\n",
    "                fw_out = self.forward(x)\n",
    "\n",
    "                y_hat = fw_out[0]\n",
    "                # La probabilidad de la \"y\" verdadera\n",
    "                y_hat_n = y_hat[np.arange(len(y)), y]\n",
    "                # RIESGO\n",
    "                val_loss -= np.sum(np.log(y_hat_n))/len_seq\n",
    "\n",
    "                # Matriz de confusión\n",
    "                y_pred = np.argmax(y_hat, axis=1)\n",
    "                val_conf_mat[y, y_pred] += 1 # Sumo uno en las intersecciones\n",
    "            val_loss /= val_len\n",
    "\n",
    "            if val_loss < min_val_loss:\n",
    "                min_val_loss = val_loss\n",
    "                self.guardar_pesos('pesos_modelos/best_loss_val.npz')\n",
    "\n",
    "            history['val']['conf_mat'][epoch,:,:] = val_conf_mat\n",
    "            history['val']['loss'][epoch] = val_loss\n",
    "\n",
    "            if epoch % mostrar_res_cada == 0:\n",
    "                train_acc = calc_acc(train_conf_mat)\n",
    "                val_acc = calc_acc(val_conf_mat)\n",
    "                tqdm.write(\n",
    "                    f'Epoch {epoch+1:3}.' +\n",
    "                    f'\\tloss: {train_loss:2.5f}\\tacc: {train_acc:2.5f}'+\n",
    "                    f'\\tval_loss: {val_loss:2.5f}\\tval_acc: {val_acc:2.5f}')\n",
    "\n",
    "        return history\n",
    "    \n",
    "    def cargar_mejores_pesos(self):\n",
    "        self.C = self.best_C\n",
    "        self.U = self.best_U\n",
    "        self.V = self.best_V\n",
    "        self.W = self.best_W\n",
    "        self.c = self.best_c\n",
    "    \n",
    "    def guardar_pesos(self, archivo):\n",
    "        \"\"\"Guarda los pesos del modelo en formato .npz\n",
    "        \"\"\"\n",
    "        try:\n",
    "            np.savez(\n",
    "                archivo, \n",
    "                C = self.C, \n",
    "                U = self.U, \n",
    "                V = self.V, \n",
    "                W = self.W, \n",
    "                c = self.c\n",
    "            )\n",
    "            # print(f'Archivo {archivo} guardado satisfactoriamente')\n",
    "            return True\n",
    "        except Exception as e:\n",
    "            print('Ocurrió un error al guardar el archivo')\n",
    "            print(e)\n",
    "            return False\n",
    "    \n",
    "    def cargar_pesos(self, archivo):\n",
    "        \"\"\"Carga los pesos del modelo guardados en un archivo formato .npz\n",
    "        \"\"\"\n",
    "        try:\n",
    "            pesos = np.load(archivo)\n",
    "            self.C = pesos['C']\n",
    "            self.U = pesos['U']\n",
    "            self.V = pesos['V']\n",
    "            self.W = pesos['W']\n",
    "            self.c = pesos['c']\n",
    "            print(f'Pesos desde {archivo} cargados correctamente')\n",
    "            return True\n",
    "        except Exception as e:\n",
    "            print('Ocurrió un error al guardar el archivo')\n",
    "            print(e)\n",
    "            return False\n",
    "        "
   ]
  },
  {
   "cell_type": "markdown",
   "metadata": {},
   "source": [
    "#### Instancio el modelo"
   ]
  },
  {
   "cell_type": "code",
   "execution_count": 19,
   "metadata": {},
   "outputs": [],
   "source": [
    "modelo = Modelo(d = dim_d, m=dim_m, N_in = dim_in, N_out = dim_out)\n",
    "modelo.inicializar_pesos()"
   ]
  },
  {
   "cell_type": "markdown",
   "metadata": {},
   "source": [
    "Comienzo el entrenamiento"
   ]
  },
  {
   "cell_type": "code",
   "execution_count": 20,
   "metadata": {},
   "outputs": [
    {
     "output_type": "display_data",
     "data": {
      "text/plain": "HBox(children=(FloatProgress(value=0.0, max=350.0), HTML(value='')))",
      "application/vnd.jupyter.widget-view+json": {
       "version_major": 2,
       "version_minor": 0,
       "model_id": "0bf9d0a6e3ce44338bcd463929d84264"
      }
     },
     "metadata": {}
    },
    {
     "output_type": "stream",
     "name": "stdout",
     "text": "Epoch   1.\tloss: 0.90852\tacc: 0.26838\tval_loss: 0.96630\tval_acc: 0.24779\nEpoch  31.\tloss: 0.50268\tacc: 0.44892\tval_loss: 0.49565\tval_acc: 0.44178\nEpoch  61.\tloss: 0.44560\tacc: 0.49983\tval_loss: 0.52092\tval_acc: 0.45362\nEpoch  91.\tloss: 0.44254\tacc: 0.49015\tval_loss: 0.49969\tval_acc: 0.48316\nEpoch 121.\tloss: 0.46851\tacc: 0.48907\tval_loss: 0.50308\tval_acc: 0.45600\nEpoch 151.\tloss: 0.45209\tacc: 0.49792\tval_loss: 0.56086\tval_acc: 0.37594\nEpoch 181.\tloss: 0.45276\tacc: 0.49038\tval_loss: 0.52575\tval_acc: 0.46742\nEpoch 211.\tloss: 0.46971\tacc: 0.48118\tval_loss: 1.08949\tval_acc: 0.33560\nEpoch 241.\tloss: 0.46585\tacc: 0.48404\tval_loss: 0.54556\tval_acc: 0.44132\nEpoch 271.\tloss: 0.45922\tacc: 0.46723\tval_loss: 0.58335\tval_acc: 0.45484\nEpoch 301.\tloss: 0.46629\tacc: 0.48360\tval_loss: 0.58852\tval_acc: 0.44861\nEpoch 331.\tloss: 0.45462\tacc: 0.49116\tval_loss: 0.55669\tval_acc: 0.45353\n\n"
    }
   ],
   "source": [
    "history = modelo.entrenar(train_Data, val_Data, epochs=350, lr=0.1, mostrar_res_cada=30)"
   ]
  },
  {
   "cell_type": "markdown",
   "metadata": {},
   "source": [
    "### Paso 5. Evaluar modelo\n",
    "\n",
    "Evaluar el desempeño del sistema a partir del corpus de evaluación y con la métrica de Exactitud (Accuracy)."
   ]
  },
  {
   "cell_type": "code",
   "execution_count": 21,
   "metadata": {},
   "outputs": [
    {
     "output_type": "display_data",
     "data": {
      "text/plain": "<Figure size 432x288 with 1 Axes>",
      "image/svg+xml": "<?xml version=\"1.0\" encoding=\"utf-8\" standalone=\"no\"?>\r\n<!DOCTYPE svg PUBLIC \"-//W3C//DTD SVG 1.1//EN\"\r\n  \"http://www.w3.org/Graphics/SVG/1.1/DTD/svg11.dtd\">\r\n<!-- Created with matplotlib (https://matplotlib.org/) -->\r\n<svg height=\"264.83561pt\" version=\"1.1\" viewBox=\"0 0 376.240625 264.83561\" width=\"376.240625pt\" xmlns=\"http://www.w3.org/2000/svg\" xmlns:xlink=\"http://www.w3.org/1999/xlink\">\r\n <defs>\r\n  <style type=\"text/css\">\r\n*{stroke-linecap:butt;stroke-linejoin:round;}\r\n  </style>\r\n </defs>\r\n <g id=\"figure_1\">\r\n  <g id=\"patch_1\">\r\n   <path d=\"M 0 264.83561 \r\nL 376.240625 264.83561 \r\nL 376.240625 0 \r\nL 0 0 \r\nz\r\n\" style=\"fill:none;\"/>\r\n  </g>\r\n  <g id=\"axes_1\">\r\n   <g id=\"patch_2\">\r\n    <path d=\"M 34.240625 227.27936 \r\nL 369.040625 227.27936 \r\nL 369.040625 9.83936 \r\nL 34.240625 9.83936 \r\nz\r\n\" style=\"fill:#ffffff;\"/>\r\n   </g>\r\n   <g id=\"matplotlib.axis_1\">\r\n    <g id=\"xtick_1\">\r\n     <g id=\"line2d_1\">\r\n      <defs>\r\n       <path d=\"M 0 0 \r\nL 0 3.5 \r\n\" id=\"me397a9612e\" style=\"stroke:#000000;stroke-width:0.8;\"/>\r\n      </defs>\r\n      <g>\r\n       <use style=\"stroke:#000000;stroke-width:0.8;\" x=\"49.458807\" xlink:href=\"#me397a9612e\" y=\"227.27936\"/>\r\n      </g>\r\n     </g>\r\n     <g id=\"text_1\">\r\n      <!-- 0 -->\r\n      <defs>\r\n       <path d=\"M 31.78125 66.40625 \r\nQ 24.171875 66.40625 20.328125 58.90625 \r\nQ 16.5 51.421875 16.5 36.375 \r\nQ 16.5 21.390625 20.328125 13.890625 \r\nQ 24.171875 6.390625 31.78125 6.390625 \r\nQ 39.453125 6.390625 43.28125 13.890625 \r\nQ 47.125 21.390625 47.125 36.375 \r\nQ 47.125 51.421875 43.28125 58.90625 \r\nQ 39.453125 66.40625 31.78125 66.40625 \r\nz\r\nM 31.78125 74.21875 \r\nQ 44.046875 74.21875 50.515625 64.515625 \r\nQ 56.984375 54.828125 56.984375 36.375 \r\nQ 56.984375 17.96875 50.515625 8.265625 \r\nQ 44.046875 -1.421875 31.78125 -1.421875 \r\nQ 19.53125 -1.421875 13.0625 8.265625 \r\nQ 6.59375 17.96875 6.59375 36.375 \r\nQ 6.59375 54.828125 13.0625 64.515625 \r\nQ 19.53125 74.21875 31.78125 74.21875 \r\nz\r\n\" id=\"DejaVuSans-48\"/>\r\n      </defs>\r\n      <g transform=\"translate(46.277557 241.877798)scale(0.1 -0.1)\">\r\n       <use xlink:href=\"#DejaVuSans-48\"/>\r\n      </g>\r\n     </g>\r\n    </g>\r\n    <g id=\"xtick_2\">\r\n     <g id=\"line2d_2\">\r\n      <g>\r\n       <use style=\"stroke:#000000;stroke-width:0.8;\" x=\"93.063912\" xlink:href=\"#me397a9612e\" y=\"227.27936\"/>\r\n      </g>\r\n     </g>\r\n     <g id=\"text_2\">\r\n      <!-- 50 -->\r\n      <defs>\r\n       <path d=\"M 10.796875 72.90625 \r\nL 49.515625 72.90625 \r\nL 49.515625 64.59375 \r\nL 19.828125 64.59375 \r\nL 19.828125 46.734375 \r\nQ 21.96875 47.46875 24.109375 47.828125 \r\nQ 26.265625 48.1875 28.421875 48.1875 \r\nQ 40.625 48.1875 47.75 41.5 \r\nQ 54.890625 34.8125 54.890625 23.390625 \r\nQ 54.890625 11.625 47.5625 5.09375 \r\nQ 40.234375 -1.421875 26.90625 -1.421875 \r\nQ 22.3125 -1.421875 17.546875 -0.640625 \r\nQ 12.796875 0.140625 7.71875 1.703125 \r\nL 7.71875 11.625 \r\nQ 12.109375 9.234375 16.796875 8.0625 \r\nQ 21.484375 6.890625 26.703125 6.890625 \r\nQ 35.15625 6.890625 40.078125 11.328125 \r\nQ 45.015625 15.765625 45.015625 23.390625 \r\nQ 45.015625 31 40.078125 35.4375 \r\nQ 35.15625 39.890625 26.703125 39.890625 \r\nQ 22.75 39.890625 18.8125 39.015625 \r\nQ 14.890625 38.140625 10.796875 36.28125 \r\nz\r\n\" id=\"DejaVuSans-53\"/>\r\n      </defs>\r\n      <g transform=\"translate(86.701412 241.877798)scale(0.1 -0.1)\">\r\n       <use xlink:href=\"#DejaVuSans-53\"/>\r\n       <use x=\"63.623047\" xlink:href=\"#DejaVuSans-48\"/>\r\n      </g>\r\n     </g>\r\n    </g>\r\n    <g id=\"xtick_3\">\r\n     <g id=\"line2d_3\">\r\n      <g>\r\n       <use style=\"stroke:#000000;stroke-width:0.8;\" x=\"136.669018\" xlink:href=\"#me397a9612e\" y=\"227.27936\"/>\r\n      </g>\r\n     </g>\r\n     <g id=\"text_3\">\r\n      <!-- 100 -->\r\n      <defs>\r\n       <path d=\"M 12.40625 8.296875 \r\nL 28.515625 8.296875 \r\nL 28.515625 63.921875 \r\nL 10.984375 60.40625 \r\nL 10.984375 69.390625 \r\nL 28.421875 72.90625 \r\nL 38.28125 72.90625 \r\nL 38.28125 8.296875 \r\nL 54.390625 8.296875 \r\nL 54.390625 0 \r\nL 12.40625 0 \r\nz\r\n\" id=\"DejaVuSans-49\"/>\r\n      </defs>\r\n      <g transform=\"translate(127.125268 241.877798)scale(0.1 -0.1)\">\r\n       <use xlink:href=\"#DejaVuSans-49\"/>\r\n       <use x=\"63.623047\" xlink:href=\"#DejaVuSans-48\"/>\r\n       <use x=\"127.246094\" xlink:href=\"#DejaVuSans-48\"/>\r\n      </g>\r\n     </g>\r\n    </g>\r\n    <g id=\"xtick_4\">\r\n     <g id=\"line2d_4\">\r\n      <g>\r\n       <use style=\"stroke:#000000;stroke-width:0.8;\" x=\"180.274123\" xlink:href=\"#me397a9612e\" y=\"227.27936\"/>\r\n      </g>\r\n     </g>\r\n     <g id=\"text_4\">\r\n      <!-- 150 -->\r\n      <g transform=\"translate(170.730373 241.877798)scale(0.1 -0.1)\">\r\n       <use xlink:href=\"#DejaVuSans-49\"/>\r\n       <use x=\"63.623047\" xlink:href=\"#DejaVuSans-53\"/>\r\n       <use x=\"127.246094\" xlink:href=\"#DejaVuSans-48\"/>\r\n      </g>\r\n     </g>\r\n    </g>\r\n    <g id=\"xtick_5\">\r\n     <g id=\"line2d_5\">\r\n      <g>\r\n       <use style=\"stroke:#000000;stroke-width:0.8;\" x=\"223.879229\" xlink:href=\"#me397a9612e\" y=\"227.27936\"/>\r\n      </g>\r\n     </g>\r\n     <g id=\"text_5\">\r\n      <!-- 200 -->\r\n      <defs>\r\n       <path d=\"M 19.1875 8.296875 \r\nL 53.609375 8.296875 \r\nL 53.609375 0 \r\nL 7.328125 0 \r\nL 7.328125 8.296875 \r\nQ 12.9375 14.109375 22.625 23.890625 \r\nQ 32.328125 33.6875 34.8125 36.53125 \r\nQ 39.546875 41.84375 41.421875 45.53125 \r\nQ 43.3125 49.21875 43.3125 52.78125 \r\nQ 43.3125 58.59375 39.234375 62.25 \r\nQ 35.15625 65.921875 28.609375 65.921875 \r\nQ 23.96875 65.921875 18.8125 64.3125 \r\nQ 13.671875 62.703125 7.8125 59.421875 \r\nL 7.8125 69.390625 \r\nQ 13.765625 71.78125 18.9375 73 \r\nQ 24.125 74.21875 28.421875 74.21875 \r\nQ 39.75 74.21875 46.484375 68.546875 \r\nQ 53.21875 62.890625 53.21875 53.421875 \r\nQ 53.21875 48.921875 51.53125 44.890625 \r\nQ 49.859375 40.875 45.40625 35.40625 \r\nQ 44.1875 33.984375 37.640625 27.21875 \r\nQ 31.109375 20.453125 19.1875 8.296875 \r\nz\r\n\" id=\"DejaVuSans-50\"/>\r\n      </defs>\r\n      <g transform=\"translate(214.335479 241.877798)scale(0.1 -0.1)\">\r\n       <use xlink:href=\"#DejaVuSans-50\"/>\r\n       <use x=\"63.623047\" xlink:href=\"#DejaVuSans-48\"/>\r\n       <use x=\"127.246094\" xlink:href=\"#DejaVuSans-48\"/>\r\n      </g>\r\n     </g>\r\n    </g>\r\n    <g id=\"xtick_6\">\r\n     <g id=\"line2d_6\">\r\n      <g>\r\n       <use style=\"stroke:#000000;stroke-width:0.8;\" x=\"267.484334\" xlink:href=\"#me397a9612e\" y=\"227.27936\"/>\r\n      </g>\r\n     </g>\r\n     <g id=\"text_6\">\r\n      <!-- 250 -->\r\n      <g transform=\"translate(257.940584 241.877798)scale(0.1 -0.1)\">\r\n       <use xlink:href=\"#DejaVuSans-50\"/>\r\n       <use x=\"63.623047\" xlink:href=\"#DejaVuSans-53\"/>\r\n       <use x=\"127.246094\" xlink:href=\"#DejaVuSans-48\"/>\r\n      </g>\r\n     </g>\r\n    </g>\r\n    <g id=\"xtick_7\">\r\n     <g id=\"line2d_7\">\r\n      <g>\r\n       <use style=\"stroke:#000000;stroke-width:0.8;\" x=\"311.08944\" xlink:href=\"#me397a9612e\" y=\"227.27936\"/>\r\n      </g>\r\n     </g>\r\n     <g id=\"text_7\">\r\n      <!-- 300 -->\r\n      <defs>\r\n       <path d=\"M 40.578125 39.3125 \r\nQ 47.65625 37.796875 51.625 33 \r\nQ 55.609375 28.21875 55.609375 21.1875 \r\nQ 55.609375 10.40625 48.1875 4.484375 \r\nQ 40.765625 -1.421875 27.09375 -1.421875 \r\nQ 22.515625 -1.421875 17.65625 -0.515625 \r\nQ 12.796875 0.390625 7.625 2.203125 \r\nL 7.625 11.71875 \r\nQ 11.71875 9.328125 16.59375 8.109375 \r\nQ 21.484375 6.890625 26.8125 6.890625 \r\nQ 36.078125 6.890625 40.9375 10.546875 \r\nQ 45.796875 14.203125 45.796875 21.1875 \r\nQ 45.796875 27.640625 41.28125 31.265625 \r\nQ 36.765625 34.90625 28.71875 34.90625 \r\nL 20.21875 34.90625 \r\nL 20.21875 43.015625 \r\nL 29.109375 43.015625 \r\nQ 36.375 43.015625 40.234375 45.921875 \r\nQ 44.09375 48.828125 44.09375 54.296875 \r\nQ 44.09375 59.90625 40.109375 62.90625 \r\nQ 36.140625 65.921875 28.71875 65.921875 \r\nQ 24.65625 65.921875 20.015625 65.03125 \r\nQ 15.375 64.15625 9.8125 62.3125 \r\nL 9.8125 71.09375 \r\nQ 15.4375 72.65625 20.34375 73.4375 \r\nQ 25.25 74.21875 29.59375 74.21875 \r\nQ 40.828125 74.21875 47.359375 69.109375 \r\nQ 53.90625 64.015625 53.90625 55.328125 \r\nQ 53.90625 49.265625 50.4375 45.09375 \r\nQ 46.96875 40.921875 40.578125 39.3125 \r\nz\r\n\" id=\"DejaVuSans-51\"/>\r\n      </defs>\r\n      <g transform=\"translate(301.54569 241.877798)scale(0.1 -0.1)\">\r\n       <use xlink:href=\"#DejaVuSans-51\"/>\r\n       <use x=\"63.623047\" xlink:href=\"#DejaVuSans-48\"/>\r\n       <use x=\"127.246094\" xlink:href=\"#DejaVuSans-48\"/>\r\n      </g>\r\n     </g>\r\n    </g>\r\n    <g id=\"xtick_8\">\r\n     <g id=\"line2d_8\">\r\n      <g>\r\n       <use style=\"stroke:#000000;stroke-width:0.8;\" x=\"354.694545\" xlink:href=\"#me397a9612e\" y=\"227.27936\"/>\r\n      </g>\r\n     </g>\r\n     <g id=\"text_8\">\r\n      <!-- 350 -->\r\n      <g transform=\"translate(345.150795 241.877798)scale(0.1 -0.1)\">\r\n       <use xlink:href=\"#DejaVuSans-51\"/>\r\n       <use x=\"63.623047\" xlink:href=\"#DejaVuSans-53\"/>\r\n       <use x=\"127.246094\" xlink:href=\"#DejaVuSans-48\"/>\r\n      </g>\r\n     </g>\r\n    </g>\r\n    <g id=\"text_9\">\r\n     <!-- Epochs -->\r\n     <defs>\r\n      <path d=\"M 9.8125 72.90625 \r\nL 55.90625 72.90625 \r\nL 55.90625 64.59375 \r\nL 19.671875 64.59375 \r\nL 19.671875 43.015625 \r\nL 54.390625 43.015625 \r\nL 54.390625 34.71875 \r\nL 19.671875 34.71875 \r\nL 19.671875 8.296875 \r\nL 56.78125 8.296875 \r\nL 56.78125 0 \r\nL 9.8125 0 \r\nz\r\n\" id=\"DejaVuSans-69\"/>\r\n      <path d=\"M 18.109375 8.203125 \r\nL 18.109375 -20.796875 \r\nL 9.078125 -20.796875 \r\nL 9.078125 54.6875 \r\nL 18.109375 54.6875 \r\nL 18.109375 46.390625 \r\nQ 20.953125 51.265625 25.265625 53.625 \r\nQ 29.59375 56 35.59375 56 \r\nQ 45.5625 56 51.78125 48.09375 \r\nQ 58.015625 40.1875 58.015625 27.296875 \r\nQ 58.015625 14.40625 51.78125 6.484375 \r\nQ 45.5625 -1.421875 35.59375 -1.421875 \r\nQ 29.59375 -1.421875 25.265625 0.953125 \r\nQ 20.953125 3.328125 18.109375 8.203125 \r\nz\r\nM 48.6875 27.296875 \r\nQ 48.6875 37.203125 44.609375 42.84375 \r\nQ 40.53125 48.484375 33.40625 48.484375 \r\nQ 26.265625 48.484375 22.1875 42.84375 \r\nQ 18.109375 37.203125 18.109375 27.296875 \r\nQ 18.109375 17.390625 22.1875 11.75 \r\nQ 26.265625 6.109375 33.40625 6.109375 \r\nQ 40.53125 6.109375 44.609375 11.75 \r\nQ 48.6875 17.390625 48.6875 27.296875 \r\nz\r\n\" id=\"DejaVuSans-112\"/>\r\n      <path d=\"M 30.609375 48.390625 \r\nQ 23.390625 48.390625 19.1875 42.75 \r\nQ 14.984375 37.109375 14.984375 27.296875 \r\nQ 14.984375 17.484375 19.15625 11.84375 \r\nQ 23.34375 6.203125 30.609375 6.203125 \r\nQ 37.796875 6.203125 41.984375 11.859375 \r\nQ 46.1875 17.53125 46.1875 27.296875 \r\nQ 46.1875 37.015625 41.984375 42.703125 \r\nQ 37.796875 48.390625 30.609375 48.390625 \r\nz\r\nM 30.609375 56 \r\nQ 42.328125 56 49.015625 48.375 \r\nQ 55.71875 40.765625 55.71875 27.296875 \r\nQ 55.71875 13.875 49.015625 6.21875 \r\nQ 42.328125 -1.421875 30.609375 -1.421875 \r\nQ 18.84375 -1.421875 12.171875 6.21875 \r\nQ 5.515625 13.875 5.515625 27.296875 \r\nQ 5.515625 40.765625 12.171875 48.375 \r\nQ 18.84375 56 30.609375 56 \r\nz\r\n\" id=\"DejaVuSans-111\"/>\r\n      <path d=\"M 48.78125 52.59375 \r\nL 48.78125 44.1875 \r\nQ 44.96875 46.296875 41.140625 47.34375 \r\nQ 37.3125 48.390625 33.40625 48.390625 \r\nQ 24.65625 48.390625 19.8125 42.84375 \r\nQ 14.984375 37.3125 14.984375 27.296875 \r\nQ 14.984375 17.28125 19.8125 11.734375 \r\nQ 24.65625 6.203125 33.40625 6.203125 \r\nQ 37.3125 6.203125 41.140625 7.25 \r\nQ 44.96875 8.296875 48.78125 10.40625 \r\nL 48.78125 2.09375 \r\nQ 45.015625 0.34375 40.984375 -0.53125 \r\nQ 36.96875 -1.421875 32.421875 -1.421875 \r\nQ 20.0625 -1.421875 12.78125 6.34375 \r\nQ 5.515625 14.109375 5.515625 27.296875 \r\nQ 5.515625 40.671875 12.859375 48.328125 \r\nQ 20.21875 56 33.015625 56 \r\nQ 37.15625 56 41.109375 55.140625 \r\nQ 45.0625 54.296875 48.78125 52.59375 \r\nz\r\n\" id=\"DejaVuSans-99\"/>\r\n      <path d=\"M 54.890625 33.015625 \r\nL 54.890625 0 \r\nL 45.90625 0 \r\nL 45.90625 32.71875 \r\nQ 45.90625 40.484375 42.875 44.328125 \r\nQ 39.84375 48.1875 33.796875 48.1875 \r\nQ 26.515625 48.1875 22.3125 43.546875 \r\nQ 18.109375 38.921875 18.109375 30.90625 \r\nL 18.109375 0 \r\nL 9.078125 0 \r\nL 9.078125 75.984375 \r\nL 18.109375 75.984375 \r\nL 18.109375 46.1875 \r\nQ 21.34375 51.125 25.703125 53.5625 \r\nQ 30.078125 56 35.796875 56 \r\nQ 45.21875 56 50.046875 50.171875 \r\nQ 54.890625 44.34375 54.890625 33.015625 \r\nz\r\n\" id=\"DejaVuSans-104\"/>\r\n      <path d=\"M 44.28125 53.078125 \r\nL 44.28125 44.578125 \r\nQ 40.484375 46.53125 36.375 47.5 \r\nQ 32.28125 48.484375 27.875 48.484375 \r\nQ 21.1875 48.484375 17.84375 46.4375 \r\nQ 14.5 44.390625 14.5 40.28125 \r\nQ 14.5 37.15625 16.890625 35.375 \r\nQ 19.28125 33.59375 26.515625 31.984375 \r\nL 29.59375 31.296875 \r\nQ 39.15625 29.25 43.1875 25.515625 \r\nQ 47.21875 21.78125 47.21875 15.09375 \r\nQ 47.21875 7.46875 41.1875 3.015625 \r\nQ 35.15625 -1.421875 24.609375 -1.421875 \r\nQ 20.21875 -1.421875 15.453125 -0.5625 \r\nQ 10.6875 0.296875 5.421875 2 \r\nL 5.421875 11.28125 \r\nQ 10.40625 8.6875 15.234375 7.390625 \r\nQ 20.0625 6.109375 24.8125 6.109375 \r\nQ 31.15625 6.109375 34.5625 8.28125 \r\nQ 37.984375 10.453125 37.984375 14.40625 \r\nQ 37.984375 18.0625 35.515625 20.015625 \r\nQ 33.0625 21.96875 24.703125 23.78125 \r\nL 21.578125 24.515625 \r\nQ 13.234375 26.265625 9.515625 29.90625 \r\nQ 5.8125 33.546875 5.8125 39.890625 \r\nQ 5.8125 47.609375 11.28125 51.796875 \r\nQ 16.75 56 26.8125 56 \r\nQ 31.78125 56 36.171875 55.265625 \r\nQ 40.578125 54.546875 44.28125 53.078125 \r\nz\r\n\" id=\"DejaVuSans-115\"/>\r\n     </defs>\r\n     <g transform=\"translate(183.725 255.555923)scale(0.1 -0.1)\">\r\n      <use xlink:href=\"#DejaVuSans-69\"/>\r\n      <use x=\"63.183594\" xlink:href=\"#DejaVuSans-112\"/>\r\n      <use x=\"126.660156\" xlink:href=\"#DejaVuSans-111\"/>\r\n      <use x=\"187.841797\" xlink:href=\"#DejaVuSans-99\"/>\r\n      <use x=\"242.822266\" xlink:href=\"#DejaVuSans-104\"/>\r\n      <use x=\"306.201172\" xlink:href=\"#DejaVuSans-115\"/>\r\n     </g>\r\n    </g>\r\n   </g>\r\n   <g id=\"matplotlib.axis_2\">\r\n    <g id=\"ytick_1\">\r\n     <g id=\"line2d_9\">\r\n      <defs>\r\n       <path d=\"M 0 0 \r\nL -3.5 0 \r\n\" id=\"m39cb80707b\" style=\"stroke:#000000;stroke-width:0.8;\"/>\r\n      </defs>\r\n      <g>\r\n       <use style=\"stroke:#000000;stroke-width:0.8;\" x=\"34.240625\" xlink:href=\"#m39cb80707b\" y=\"198.944953\"/>\r\n      </g>\r\n     </g>\r\n     <g id=\"text_10\">\r\n      <!-- 1 -->\r\n      <g transform=\"translate(20.878125 202.744172)scale(0.1 -0.1)\">\r\n       <use xlink:href=\"#DejaVuSans-49\"/>\r\n      </g>\r\n     </g>\r\n    </g>\r\n    <g id=\"ytick_2\">\r\n     <g id=\"line2d_10\">\r\n      <g>\r\n       <use style=\"stroke:#000000;stroke-width:0.8;\" x=\"34.240625\" xlink:href=\"#m39cb80707b\" y=\"167.620664\"/>\r\n      </g>\r\n     </g>\r\n     <g id=\"text_11\">\r\n      <!-- 2 -->\r\n      <g transform=\"translate(20.878125 171.419883)scale(0.1 -0.1)\">\r\n       <use xlink:href=\"#DejaVuSans-50\"/>\r\n      </g>\r\n     </g>\r\n    </g>\r\n    <g id=\"ytick_3\">\r\n     <g id=\"line2d_11\">\r\n      <g>\r\n       <use style=\"stroke:#000000;stroke-width:0.8;\" x=\"34.240625\" xlink:href=\"#m39cb80707b\" y=\"136.296375\"/>\r\n      </g>\r\n     </g>\r\n     <g id=\"text_12\">\r\n      <!-- 3 -->\r\n      <g transform=\"translate(20.878125 140.095594)scale(0.1 -0.1)\">\r\n       <use xlink:href=\"#DejaVuSans-51\"/>\r\n      </g>\r\n     </g>\r\n    </g>\r\n    <g id=\"ytick_4\">\r\n     <g id=\"line2d_12\">\r\n      <g>\r\n       <use style=\"stroke:#000000;stroke-width:0.8;\" x=\"34.240625\" xlink:href=\"#m39cb80707b\" y=\"104.972086\"/>\r\n      </g>\r\n     </g>\r\n     <g id=\"text_13\">\r\n      <!-- 4 -->\r\n      <defs>\r\n       <path d=\"M 37.796875 64.3125 \r\nL 12.890625 25.390625 \r\nL 37.796875 25.390625 \r\nz\r\nM 35.203125 72.90625 \r\nL 47.609375 72.90625 \r\nL 47.609375 25.390625 \r\nL 58.015625 25.390625 \r\nL 58.015625 17.1875 \r\nL 47.609375 17.1875 \r\nL 47.609375 0 \r\nL 37.796875 0 \r\nL 37.796875 17.1875 \r\nL 4.890625 17.1875 \r\nL 4.890625 26.703125 \r\nz\r\n\" id=\"DejaVuSans-52\"/>\r\n      </defs>\r\n      <g transform=\"translate(20.878125 108.771305)scale(0.1 -0.1)\">\r\n       <use xlink:href=\"#DejaVuSans-52\"/>\r\n      </g>\r\n     </g>\r\n    </g>\r\n    <g id=\"ytick_5\">\r\n     <g id=\"line2d_13\">\r\n      <g>\r\n       <use style=\"stroke:#000000;stroke-width:0.8;\" x=\"34.240625\" xlink:href=\"#m39cb80707b\" y=\"73.647797\"/>\r\n      </g>\r\n     </g>\r\n     <g id=\"text_14\">\r\n      <!-- 5 -->\r\n      <g transform=\"translate(20.878125 77.447016)scale(0.1 -0.1)\">\r\n       <use xlink:href=\"#DejaVuSans-53\"/>\r\n      </g>\r\n     </g>\r\n    </g>\r\n    <g id=\"ytick_6\">\r\n     <g id=\"line2d_14\">\r\n      <g>\r\n       <use style=\"stroke:#000000;stroke-width:0.8;\" x=\"34.240625\" xlink:href=\"#m39cb80707b\" y=\"42.323508\"/>\r\n      </g>\r\n     </g>\r\n     <g id=\"text_15\">\r\n      <!-- 6 -->\r\n      <defs>\r\n       <path d=\"M 33.015625 40.375 \r\nQ 26.375 40.375 22.484375 35.828125 \r\nQ 18.609375 31.296875 18.609375 23.390625 \r\nQ 18.609375 15.53125 22.484375 10.953125 \r\nQ 26.375 6.390625 33.015625 6.390625 \r\nQ 39.65625 6.390625 43.53125 10.953125 \r\nQ 47.40625 15.53125 47.40625 23.390625 \r\nQ 47.40625 31.296875 43.53125 35.828125 \r\nQ 39.65625 40.375 33.015625 40.375 \r\nz\r\nM 52.59375 71.296875 \r\nL 52.59375 62.3125 \r\nQ 48.875 64.0625 45.09375 64.984375 \r\nQ 41.3125 65.921875 37.59375 65.921875 \r\nQ 27.828125 65.921875 22.671875 59.328125 \r\nQ 17.53125 52.734375 16.796875 39.40625 \r\nQ 19.671875 43.65625 24.015625 45.921875 \r\nQ 28.375 48.1875 33.59375 48.1875 \r\nQ 44.578125 48.1875 50.953125 41.515625 \r\nQ 57.328125 34.859375 57.328125 23.390625 \r\nQ 57.328125 12.15625 50.6875 5.359375 \r\nQ 44.046875 -1.421875 33.015625 -1.421875 \r\nQ 20.359375 -1.421875 13.671875 8.265625 \r\nQ 6.984375 17.96875 6.984375 36.375 \r\nQ 6.984375 53.65625 15.1875 63.9375 \r\nQ 23.390625 74.21875 37.203125 74.21875 \r\nQ 40.921875 74.21875 44.703125 73.484375 \r\nQ 48.484375 72.75 52.59375 71.296875 \r\nz\r\n\" id=\"DejaVuSans-54\"/>\r\n      </defs>\r\n      <g transform=\"translate(20.878125 46.122727)scale(0.1 -0.1)\">\r\n       <use xlink:href=\"#DejaVuSans-54\"/>\r\n      </g>\r\n     </g>\r\n    </g>\r\n    <g id=\"ytick_7\">\r\n     <g id=\"line2d_15\">\r\n      <g>\r\n       <use style=\"stroke:#000000;stroke-width:0.8;\" x=\"34.240625\" xlink:href=\"#m39cb80707b\" y=\"10.999219\"/>\r\n      </g>\r\n     </g>\r\n     <g id=\"text_16\">\r\n      <!-- 7 -->\r\n      <defs>\r\n       <path d=\"M 8.203125 72.90625 \r\nL 55.078125 72.90625 \r\nL 55.078125 68.703125 \r\nL 28.609375 0 \r\nL 18.3125 0 \r\nL 43.21875 64.59375 \r\nL 8.203125 64.59375 \r\nz\r\n\" id=\"DejaVuSans-55\"/>\r\n      </defs>\r\n      <g transform=\"translate(20.878125 14.798438)scale(0.1 -0.1)\">\r\n       <use xlink:href=\"#DejaVuSans-55\"/>\r\n      </g>\r\n     </g>\r\n    </g>\r\n    <g id=\"text_17\">\r\n     <!-- Loss -->\r\n     <defs>\r\n      <path d=\"M 9.8125 72.90625 \r\nL 19.671875 72.90625 \r\nL 19.671875 8.296875 \r\nL 55.171875 8.296875 \r\nL 55.171875 0 \r\nL 9.8125 0 \r\nz\r\n\" id=\"DejaVuSans-76\"/>\r\n     </defs>\r\n     <g transform=\"translate(14.798437 129.613266)rotate(-90)scale(0.1 -0.1)\">\r\n      <use xlink:href=\"#DejaVuSans-76\"/>\r\n      <use x=\"55.697266\" xlink:href=\"#DejaVuSans-111\"/>\r\n      <use x=\"116.878906\" xlink:href=\"#DejaVuSans-115\"/>\r\n      <use x=\"168.978516\" xlink:href=\"#DejaVuSans-115\"/>\r\n     </g>\r\n    </g>\r\n   </g>\r\n   <g id=\"line2d_16\">\r\n    <path clip-path=\"url(#p8aa195f8be)\" d=\"M 49.458807 201.810372 \r\nL 50.330909 204.897 \r\nL 51.203011 205.475596 \r\nL 52.947215 204.542621 \r\nL 53.819317 205.133548 \r\nL 54.691419 206.471168 \r\nL 55.563522 206.377961 \r\nL 56.435624 208.048411 \r\nL 57.307726 207.757693 \r\nL 58.179828 208.447793 \r\nL 59.924032 211.501669 \r\nL 60.796134 211.827854 \r\nL 61.668236 212.61251 \r\nL 62.540338 212.74729 \r\nL 63.412441 213.469546 \r\nL 64.284543 213.493819 \r\nL 66.028747 214.165637 \r\nL 66.900849 213.723547 \r\nL 67.772951 214.328902 \r\nL 68.645053 213.864298 \r\nL 69.517155 212.907148 \r\nL 70.389257 213.434451 \r\nL 71.26136 214.223821 \r\nL 72.133462 214.089853 \r\nL 73.005564 213.255286 \r\nL 73.877666 214.354399 \r\nL 74.749768 213.869208 \r\nL 75.62187 214.523205 \r\nL 76.493972 214.850255 \r\nL 77.366074 213.225091 \r\nL 78.238176 213.439643 \r\nL 79.110279 215.093076 \r\nL 79.982381 215.813382 \r\nL 81.726585 215.690043 \r\nL 82.598687 215.829262 \r\nL 83.470789 215.535067 \r\nL 84.342891 214.95549 \r\nL 85.214993 214.989086 \r\nL 86.087095 215.461904 \r\nL 86.959198 215.652902 \r\nL 88.703402 215.710714 \r\nL 90.447606 215.625175 \r\nL 91.319708 216.177027 \r\nL 92.19181 215.754291 \r\nL 93.063912 215.933077 \r\nL 93.936014 215.874307 \r\nL 94.808117 216.075205 \r\nL 95.680219 216.050588 \r\nL 97.424423 216.363309 \r\nL 98.296525 216.026883 \r\nL 99.168627 216.113431 \r\nL 100.040729 216.788628 \r\nL 100.912831 216.126724 \r\nL 101.784933 216.311176 \r\nL 102.657036 216.651919 \r\nL 103.529138 216.477263 \r\nL 104.40124 216.700588 \r\nL 105.273342 216.591232 \r\nL 106.145444 216.985795 \r\nL 107.017546 216.530678 \r\nL 108.76175 216.987018 \r\nL 109.633852 216.495727 \r\nL 110.505955 216.767288 \r\nL 111.378057 216.633333 \r\nL 112.250159 216.71637 \r\nL 113.122261 217.103081 \r\nL 113.994363 216.827798 \r\nL 114.866465 216.112948 \r\nL 115.738567 215.964831 \r\nL 116.610669 216.942428 \r\nL 117.482771 216.144443 \r\nL 118.354874 216.797764 \r\nL 119.226976 216.284752 \r\nL 120.099078 216.581102 \r\nL 120.97118 216.324971 \r\nL 123.587486 215.903258 \r\nL 124.459588 216.345316 \r\nL 125.33169 216.366755 \r\nL 126.203792 216.273344 \r\nL 127.075895 215.914776 \r\nL 127.947997 216.407056 \r\nL 128.820099 216.482468 \r\nL 129.692201 216.395988 \r\nL 130.564303 216.788181 \r\nL 132.308507 217.100726 \r\nL 133.180609 217.395724 \r\nL 136.669018 217.136667 \r\nL 137.54112 216.713435 \r\nL 138.413222 217.151024 \r\nL 139.285324 216.746207 \r\nL 140.157426 217.251563 \r\nL 141.90163 216.46534 \r\nL 142.773733 215.100544 \r\nL 143.645835 215.159148 \r\nL 144.517937 214.780336 \r\nL 145.390039 214.812054 \r\nL 146.262141 215.651192 \r\nL 147.134243 215.361369 \r\nL 148.006345 215.253644 \r\nL 148.878447 215.598832 \r\nL 149.750549 215.77038 \r\nL 150.622652 216.171511 \r\nL 151.494754 215.959677 \r\nL 152.366856 215.974339 \r\nL 153.238958 216.181783 \r\nL 154.11106 215.593441 \r\nL 154.983162 215.676692 \r\nL 155.855264 215.591189 \r\nL 157.599468 215.871256 \r\nL 159.343673 216.034629 \r\nL 161.087877 215.219527 \r\nL 161.959979 216.078951 \r\nL 162.832081 215.626757 \r\nL 163.704183 215.637327 \r\nL 165.448387 216.210501 \r\nL 166.32049 215.392279 \r\nL 167.192592 215.911243 \r\nL 168.064694 215.941311 \r\nL 168.936796 215.600311 \r\nL 169.808898 215.904188 \r\nL 170.681 215.579038 \r\nL 171.553102 215.777286 \r\nL 172.425204 215.389116 \r\nL 173.297306 215.85417 \r\nL 174.169409 215.872981 \r\nL 175.041511 216.444728 \r\nL 175.913613 216.493472 \r\nL 176.785715 216.158746 \r\nL 178.529919 216.545417 \r\nL 179.402021 216.543728 \r\nL 180.274123 216.107945 \r\nL 181.146225 216.195935 \r\nL 182.018328 216.479431 \r\nL 182.89043 216.262985 \r\nL 184.634634 216.243253 \r\nL 185.506736 216.027123 \r\nL 186.378838 216.005643 \r\nL 187.25094 215.558233 \r\nL 188.123042 216.178222 \r\nL 188.995144 216.398495 \r\nL 189.867247 215.993589 \r\nL 190.739349 215.910814 \r\nL 192.483553 216.005073 \r\nL 193.355655 215.901764 \r\nL 194.227757 215.666 \r\nL 195.099859 216.140876 \r\nL 195.971961 216.422814 \r\nL 196.844063 216.105568 \r\nL 197.716166 216.189494 \r\nL 198.588268 216.5742 \r\nL 199.46037 216.144323 \r\nL 200.332472 216.132381 \r\nL 201.204574 216.426919 \r\nL 202.948778 216.26569 \r\nL 203.82088 216.002442 \r\nL 204.692982 216.228005 \r\nL 205.565084 216.222 \r\nL 207.309289 215.961293 \r\nL 209.925595 216.235312 \r\nL 210.797697 215.863213 \r\nL 211.669799 216.346632 \r\nL 214.286106 216.07447 \r\nL 215.158208 215.760694 \r\nL 216.03031 215.899672 \r\nL 216.902412 215.836708 \r\nL 217.774514 216.482649 \r\nL 218.646616 216.299277 \r\nL 219.518718 215.824575 \r\nL 220.39082 216.187756 \r\nL 221.262922 216.253293 \r\nL 222.135025 215.915147 \r\nL 223.007127 215.915253 \r\nL 223.879229 215.618024 \r\nL 224.751331 216.228881 \r\nL 225.623433 215.861311 \r\nL 226.495535 216.392972 \r\nL 227.367637 215.725234 \r\nL 228.239739 215.726472 \r\nL 229.111841 216.42574 \r\nL 229.983944 216.257855 \r\nL 230.856046 215.888307 \r\nL 231.728148 215.653835 \r\nL 232.60025 215.556017 \r\nL 233.472352 215.96555 \r\nL 234.344454 215.33339 \r\nL 235.216556 214.906094 \r\nL 236.96076 216.05291 \r\nL 237.832863 215.725203 \r\nL 239.577067 216.221612 \r\nL 240.449169 216.227345 \r\nL 241.321271 215.663182 \r\nL 242.193373 216.092849 \r\nL 243.065475 215.841766 \r\nL 243.937577 216.247031 \r\nL 244.809679 215.763109 \r\nL 245.681782 215.522724 \r\nL 246.553884 216.000789 \r\nL 249.17019 215.844102 \r\nL 250.042292 215.440816 \r\nL 250.914394 215.84988 \r\nL 251.786496 215.485121 \r\nL 252.658598 215.639184 \r\nL 254.402803 215.642713 \r\nL 255.274905 216.143379 \r\nL 256.147007 214.997288 \r\nL 257.019109 215.640347 \r\nL 258.763313 215.676771 \r\nL 259.635415 215.304147 \r\nL 260.507517 215.314483 \r\nL 261.37962 215.994172 \r\nL 262.251722 215.505754 \r\nL 263.123824 215.364307 \r\nL 263.995926 216.285327 \r\nL 265.74013 215.795013 \r\nL 266.612232 216.009424 \r\nL 267.484334 216.054715 \r\nL 268.356436 215.657723 \r\nL 269.228539 215.48417 \r\nL 270.972743 216.011149 \r\nL 271.844845 215.310834 \r\nL 272.716947 215.994786 \r\nL 273.589049 215.899677 \r\nL 274.461151 215.635224 \r\nL 275.333253 215.764952 \r\nL 276.205355 215.707155 \r\nL 277.077458 215.315852 \r\nL 277.94956 215.533869 \r\nL 278.821662 215.936702 \r\nL 279.693764 216.015685 \r\nL 280.565866 215.48284 \r\nL 281.437968 215.561791 \r\nL 282.31007 215.327891 \r\nL 283.182172 215.462918 \r\nL 284.054274 215.990856 \r\nL 284.926376 215.884548 \r\nL 285.798479 215.553793 \r\nL 286.670581 216.143156 \r\nL 287.542683 216.024536 \r\nL 288.414785 216.150602 \r\nL 289.286887 216.140618 \r\nL 290.158989 215.671616 \r\nL 291.031091 215.587848 \r\nL 291.903193 215.662691 \r\nL 292.775295 215.85932 \r\nL 293.647398 215.766956 \r\nL 294.5195 215.856021 \r\nL 295.391602 215.34666 \r\nL 296.263704 215.616497 \r\nL 297.135806 215.73645 \r\nL 298.007908 216.014162 \r\nL 298.88001 216.027698 \r\nL 299.752112 215.805008 \r\nL 300.624214 215.465643 \r\nL 301.496317 215.994863 \r\nL 302.368419 215.896653 \r\nL 304.112623 215.92822 \r\nL 304.984725 216.372979 \r\nL 305.856827 215.815219 \r\nL 306.728929 216.124779 \r\nL 307.601031 216.272726 \r\nL 309.345236 215.828561 \r\nL 311.08944 215.663152 \r\nL 311.961542 216.04593 \r\nL 312.833644 215.498288 \r\nL 313.705746 216.022526 \r\nL 315.44995 215.523544 \r\nL 316.322052 215.433626 \r\nL 317.194155 215.812072 \r\nL 318.066257 215.718246 \r\nL 318.938359 216.098383 \r\nL 319.810461 215.977265 \r\nL 320.682563 216.066386 \r\nL 322.426767 215.850815 \r\nL 324.170971 216.136652 \r\nL 325.043074 215.971803 \r\nL 326.787278 216.076753 \r\nL 327.65938 216.372785 \r\nL 328.531482 216.032534 \r\nL 330.275686 216.013898 \r\nL 331.147788 216.611763 \r\nL 332.01989 216.256892 \r\nL 332.891993 216.165909 \r\nL 333.764095 216.401636 \r\nL 334.636197 216.230575 \r\nL 335.508299 216.451344 \r\nL 336.380401 215.610233 \r\nL 337.252503 216.028685 \r\nL 338.124605 216.124459 \r\nL 338.996707 216.417981 \r\nL 339.868809 216.440574 \r\nL 340.740912 216.14281 \r\nL 341.613014 216.47597 \r\nL 342.485116 216.217063 \r\nL 345.101422 216.27632 \r\nL 345.973524 216.132716 \r\nL 346.845626 216.338907 \r\nL 348.589831 216.051046 \r\nL 349.461933 216.490335 \r\nL 350.334035 216.274857 \r\nL 351.206137 215.907515 \r\nL 352.078239 216.132458 \r\nL 352.950341 216.035245 \r\nL 353.822443 216.268039 \r\nL 353.822443 216.268039 \r\n\" style=\"fill:none;stroke:#ff0000;stroke-linecap:square;stroke-width:1.5;\"/>\r\n   </g>\r\n   <g id=\"line2d_17\">\r\n    <path clip-path=\"url(#p8aa195f8be)\" d=\"M 49.458807 200.000597 \r\nL 50.330909 208.486522 \r\nL 51.203011 201.221928 \r\nL 52.075113 208.26743 \r\nL 52.947215 209.802407 \r\nL 53.819317 187.393371 \r\nL 54.691419 210.22034 \r\nL 55.563522 209.847159 \r\nL 56.435624 209.270765 \r\nL 57.307726 209.618637 \r\nL 58.179828 212.162922 \r\nL 59.05193 199.968016 \r\nL 59.924032 212.950846 \r\nL 60.796134 215.367164 \r\nL 61.668236 213.860936 \r\nL 62.540338 214.969021 \r\nL 63.412441 210.424795 \r\nL 64.284543 214.2783 \r\nL 65.156645 214.120996 \r\nL 66.028747 213.012748 \r\nL 66.900849 203.193259 \r\nL 67.772951 214.24325 \r\nL 68.645053 212.045313 \r\nL 69.517155 214.747244 \r\nL 70.389257 214.651936 \r\nL 71.26136 210.522678 \r\nL 72.133462 191.650301 \r\nL 73.005564 214.842865 \r\nL 73.877666 208.566075 \r\nL 74.749768 209.755733 \r\nL 75.62187 214.743401 \r\nL 76.493972 214.756201 \r\nL 77.366074 211.78045 \r\nL 78.238176 214.53809 \r\nL 79.110279 214.404628 \r\nL 79.982381 215.929223 \r\nL 80.854483 215.180563 \r\nL 81.726585 214.758898 \r\nL 82.598687 215.324021 \r\nL 83.470789 215.130243 \r\nL 84.342891 202.298505 \r\nL 85.214993 215.035038 \r\nL 86.087095 214.361898 \r\nL 86.959198 215.60282 \r\nL 87.8313 214.258501 \r\nL 88.703402 213.716782 \r\nL 89.575504 214.528714 \r\nL 90.447606 213.101309 \r\nL 91.319708 210.898841 \r\nL 92.19181 214.946703 \r\nL 93.063912 214.399031 \r\nL 93.936014 215.394882 \r\nL 95.680219 214.963646 \r\nL 96.552321 215.156275 \r\nL 97.424423 204.397533 \r\nL 98.296525 215.499022 \r\nL 99.168627 214.641825 \r\nL 100.040729 208.816514 \r\nL 100.912831 214.355557 \r\nL 101.784933 213.951922 \r\nL 102.657036 215.506514 \r\nL 103.529138 214.610324 \r\nL 104.40124 210.952376 \r\nL 105.273342 214.672531 \r\nL 106.145444 214.869911 \r\nL 107.017546 212.711699 \r\nL 107.889648 214.531628 \r\nL 108.76175 214.387037 \r\nL 109.633852 214.870454 \r\nL 110.505955 206.488525 \r\nL 111.378057 213.878028 \r\nL 112.250159 211.896139 \r\nL 113.122261 213.60667 \r\nL 114.866465 214.794093 \r\nL 115.738567 213.52431 \r\nL 116.610669 213.892956 \r\nL 117.482771 212.248652 \r\nL 118.354874 210.162177 \r\nL 119.226976 215.696995 \r\nL 120.099078 213.910746 \r\nL 120.97118 214.393384 \r\nL 121.843282 213.334738 \r\nL 122.715384 213.014305 \r\nL 123.587486 215.003708 \r\nL 124.459588 214.431705 \r\nL 125.33169 213.664961 \r\nL 126.203792 215.401359 \r\nL 127.075895 213.249966 \r\nL 127.947997 214.616888 \r\nL 128.820099 213.710835 \r\nL 129.692201 213.652575 \r\nL 130.564303 212.11987 \r\nL 131.436405 215.072465 \r\nL 132.308507 211.146738 \r\nL 133.180609 215.718972 \r\nL 134.052711 215.01174 \r\nL 134.924814 215.001361 \r\nL 135.796916 214.603253 \r\nL 136.669018 215.062597 \r\nL 137.54112 213.102746 \r\nL 138.413222 213.150542 \r\nL 139.285324 214.907265 \r\nL 140.157426 215.118763 \r\nL 141.029528 211.443279 \r\nL 141.90163 212.563694 \r\nL 142.773733 205.527334 \r\nL 143.645835 207.570585 \r\nL 144.517937 214.36901 \r\nL 145.390039 213.662491 \r\nL 146.262141 212.291137 \r\nL 147.134243 215.240482 \r\nL 148.006345 214.539304 \r\nL 148.878447 213.55961 \r\nL 149.750549 215.04137 \r\nL 151.494754 214.75993 \r\nL 152.366856 213.274334 \r\nL 153.238958 214.606255 \r\nL 154.11106 214.510503 \r\nL 154.983162 213.649196 \r\nL 155.855264 212.287144 \r\nL 156.727366 212.844906 \r\nL 157.599468 212.773525 \r\nL 158.471571 213.318328 \r\nL 159.343673 212.781509 \r\nL 160.215775 213.31085 \r\nL 161.087877 211.651464 \r\nL 161.959979 215.32407 \r\nL 162.832081 211.772622 \r\nL 163.704183 211.92281 \r\nL 164.576285 210.44616 \r\nL 165.448387 207.767248 \r\nL 166.32049 213.126051 \r\nL 167.192592 211.000209 \r\nL 168.064694 213.836594 \r\nL 168.936796 209.220556 \r\nL 170.681 213.433551 \r\nL 171.553102 213.602618 \r\nL 172.425204 203.179609 \r\nL 173.297306 210.226498 \r\nL 174.169409 208.448216 \r\nL 175.041511 214.659434 \r\nL 175.913613 214.953633 \r\nL 177.657817 211.918108 \r\nL 178.529919 213.670671 \r\nL 179.402021 213.308477 \r\nL 180.274123 212.700856 \r\nL 181.146225 211.146641 \r\nL 182.018328 213.713519 \r\nL 182.89043 213.102711 \r\nL 183.762532 213.74359 \r\nL 184.634634 206.956636 \r\nL 186.378838 213.714582 \r\nL 187.25094 208.034443 \r\nL 188.123042 213.028559 \r\nL 188.995144 208.356302 \r\nL 189.867247 213.008103 \r\nL 191.611451 211.85735 \r\nL 192.483553 212.768695 \r\nL 193.355655 213.128535 \r\nL 194.227757 211.653323 \r\nL 195.099859 203.591374 \r\nL 195.971961 182.40304 \r\nL 196.844063 213.509568 \r\nL 197.716166 213.692833 \r\nL 198.588268 212.644816 \r\nL 199.46037 210.78406 \r\nL 200.332472 209.955004 \r\nL 201.204574 211.315287 \r\nL 202.076676 213.025429 \r\nL 202.948778 212.12905 \r\nL 204.692982 212.190582 \r\nL 205.565084 212.86654 \r\nL 206.437187 213.800347 \r\nL 207.309289 213.822832 \r\nL 208.181391 214.248644 \r\nL 209.053493 213.66979 \r\nL 209.925595 212.263811 \r\nL 210.797697 211.108757 \r\nL 211.669799 212.132995 \r\nL 212.541901 211.407999 \r\nL 213.414003 213.501293 \r\nL 214.286106 208.888889 \r\nL 215.158208 209.991369 \r\nL 216.03031 213.298818 \r\nL 216.902412 213.159119 \r\nL 217.774514 214.413197 \r\nL 218.646616 210.513357 \r\nL 219.518718 214.015657 \r\nL 220.39082 208.645441 \r\nL 221.262922 210.34597 \r\nL 222.135025 214.485609 \r\nL 223.007127 213.585422 \r\nL 223.879229 213.24185 \r\nL 224.751331 213.468051 \r\nL 225.623433 213.079663 \r\nL 226.495535 212.932221 \r\nL 227.367637 213.376745 \r\nL 228.239739 212.704829 \r\nL 229.111841 212.411169 \r\nL 229.983944 213.114639 \r\nL 230.856046 210.958027 \r\nL 231.728148 212.387998 \r\nL 232.60025 196.141795 \r\nL 233.472352 212.951879 \r\nL 234.344454 208.286833 \r\nL 235.216556 210.090411 \r\nL 236.088658 210.917335 \r\nL 236.96076 212.828406 \r\nL 237.832863 213.131964 \r\nL 238.704965 175.385439 \r\nL 239.577067 213.786148 \r\nL 240.449169 211.198262 \r\nL 241.321271 210.624409 \r\nL 242.193373 211.731759 \r\nL 243.065475 210.53923 \r\nL 243.937577 212.76439 \r\nL 244.809679 208.882815 \r\nL 245.681782 211.852527 \r\nL 246.553884 212.038889 \r\nL 247.425986 212.018389 \r\nL 248.298088 213.404515 \r\nL 249.17019 212.491742 \r\nL 250.042292 209.878221 \r\nL 250.914394 212.431184 \r\nL 251.786496 207.07255 \r\nL 252.658598 212.971479 \r\nL 253.530701 210.005992 \r\nL 254.402803 213.237478 \r\nL 255.274905 213.127242 \r\nL 256.147007 211.910946 \r\nL 257.019109 197.762901 \r\nL 257.891211 212.670157 \r\nL 258.763313 213.179882 \r\nL 259.635415 211.481585 \r\nL 260.507517 213.713252 \r\nL 261.37962 212.827248 \r\nL 262.251722 211.166987 \r\nL 263.123824 213.590521 \r\nL 263.995926 192.650868 \r\nL 264.868028 211.688734 \r\nL 265.74013 207.109685 \r\nL 266.612232 212.36901 \r\nL 267.484334 212.330863 \r\nL 268.356436 211.152522 \r\nL 269.228539 212.554367 \r\nL 270.100641 212.578101 \r\nL 270.972743 212.849954 \r\nL 271.844845 213.416978 \r\nL 272.716947 211.568015 \r\nL 273.589049 200.626784 \r\nL 274.461151 211.589588 \r\nL 275.333253 211.401006 \r\nL 276.205355 213.026772 \r\nL 277.077458 209.455244 \r\nL 277.94956 213.505051 \r\nL 278.821662 213.858441 \r\nL 279.693764 213.42411 \r\nL 280.565866 209.270644 \r\nL 281.437968 199.112674 \r\nL 282.31007 213.747296 \r\nL 283.182172 213.21617 \r\nL 284.054274 213.01593 \r\nL 284.926376 211.996359 \r\nL 285.798479 212.246793 \r\nL 286.670581 202.973365 \r\nL 287.542683 214.394106 \r\nL 288.414785 212.601296 \r\nL 289.286887 212.137426 \r\nL 290.158989 213.225416 \r\nL 291.031091 213.059368 \r\nL 291.903193 201.63096 \r\nL 292.775295 212.646221 \r\nL 293.647398 213.197862 \r\nL 294.5195 19.722997 \r\nL 295.391602 212.412974 \r\nL 296.263704 212.70441 \r\nL 297.135806 213.350813 \r\nL 298.007908 213.34846 \r\nL 298.88001 211.255062 \r\nL 299.752112 211.090386 \r\nL 300.624214 212.269671 \r\nL 301.496317 190.605466 \r\nL 303.240521 212.806095 \r\nL 304.112623 214.025228 \r\nL 304.984725 212.607467 \r\nL 305.856827 212.151304 \r\nL 306.728929 212.127884 \r\nL 307.601031 195.037267 \r\nL 308.473133 212.744117 \r\nL 309.345236 211.234287 \r\nL 310.217338 212.988811 \r\nL 311.08944 211.834428 \r\nL 311.961542 212.098607 \r\nL 312.833644 212.068101 \r\nL 313.705746 213.669867 \r\nL 314.577848 211.526387 \r\nL 315.44995 211.110908 \r\nL 316.322052 213.106202 \r\nL 317.194155 212.540104 \r\nL 318.066257 212.86311 \r\nL 318.938359 211.736866 \r\nL 319.810461 207.616453 \r\nL 320.682563 212.381049 \r\nL 321.554665 210.795325 \r\nL 322.426767 214.01984 \r\nL 323.298869 212.218775 \r\nL 324.170971 213.494988 \r\nL 325.043074 213.615029 \r\nL 325.915176 212.583427 \r\nL 326.787278 203.570975 \r\nL 327.65938 212.203096 \r\nL 328.531482 210.043385 \r\nL 329.403584 212.520165 \r\nL 330.275686 212.430198 \r\nL 331.147788 212.162761 \r\nL 332.01989 212.062878 \r\nL 332.891993 213.771433 \r\nL 333.764095 214.000229 \r\nL 334.636197 199.285861 \r\nL 335.508299 213.960795 \r\nL 336.380401 210.592395 \r\nL 337.252503 212.831337 \r\nL 338.124605 211.56235 \r\nL 338.996707 213.36508 \r\nL 339.868809 212.182852 \r\nL 340.740912 213.57262 \r\nL 341.613014 212.446131 \r\nL 342.485116 210.7019 \r\nL 343.357218 211.908537 \r\nL 344.22932 211.284127 \r\nL 345.101422 209.762691 \r\nL 345.973524 212.526645 \r\nL 346.845626 212.757683 \r\nL 347.717728 213.8548 \r\nL 348.589831 212.053806 \r\nL 349.461933 212.938032 \r\nL 350.334035 207.474268 \r\nL 351.206137 214.207201 \r\nL 352.078239 213.705396 \r\nL 352.950341 211.315853 \r\nL 353.822443 213.764278 \r\nL 353.822443 213.764278 \r\n\" style=\"fill:none;stroke:#0000ff;stroke-linecap:square;stroke-width:1.5;\"/>\r\n   </g>\r\n   <g id=\"patch_3\">\r\n    <path d=\"M 34.240625 227.27936 \r\nL 34.240625 9.83936 \r\n\" style=\"fill:none;stroke:#000000;stroke-linecap:square;stroke-linejoin:miter;stroke-width:0.8;\"/>\r\n   </g>\r\n   <g id=\"patch_4\">\r\n    <path d=\"M 369.040625 227.27936 \r\nL 369.040625 9.83936 \r\n\" style=\"fill:none;stroke:#000000;stroke-linecap:square;stroke-linejoin:miter;stroke-width:0.8;\"/>\r\n   </g>\r\n   <g id=\"patch_5\">\r\n    <path d=\"M 34.240625 227.27936 \r\nL 369.040625 227.27936 \r\n\" style=\"fill:none;stroke:#000000;stroke-linecap:square;stroke-linejoin:miter;stroke-width:0.8;\"/>\r\n   </g>\r\n   <g id=\"patch_6\">\r\n    <path d=\"M 34.240625 9.83936 \r\nL 369.040625 9.83936 \r\n\" style=\"fill:none;stroke:#000000;stroke-linecap:square;stroke-linejoin:miter;stroke-width:0.8;\"/>\r\n   </g>\r\n   <g id=\"legend_1\">\r\n    <g id=\"patch_7\">\r\n     <path d=\"M 41.240625 47.75186 \r\nL 120.83125 47.75186 \r\nQ 122.83125 47.75186 122.83125 45.75186 \r\nL 122.83125 16.83936 \r\nQ 122.83125 14.83936 120.83125 14.83936 \r\nL 41.240625 14.83936 \r\nQ 39.240625 14.83936 39.240625 16.83936 \r\nL 39.240625 45.75186 \r\nQ 39.240625 47.75186 41.240625 47.75186 \r\nz\r\n\" style=\"fill:#ffffff;opacity:0.8;stroke:#cccccc;stroke-linejoin:miter;\"/>\r\n    </g>\r\n    <g id=\"line2d_18\">\r\n     <path d=\"M 43.240625 22.937798 \r\nL 63.240625 22.937798 \r\n\" style=\"fill:none;stroke:#ff0000;stroke-linecap:square;stroke-width:1.5;\"/>\r\n    </g>\r\n    <g id=\"line2d_19\"/>\r\n    <g id=\"text_18\">\r\n     <!-- train_loss -->\r\n     <defs>\r\n      <path d=\"M 18.3125 70.21875 \r\nL 18.3125 54.6875 \r\nL 36.8125 54.6875 \r\nL 36.8125 47.703125 \r\nL 18.3125 47.703125 \r\nL 18.3125 18.015625 \r\nQ 18.3125 11.328125 20.140625 9.421875 \r\nQ 21.96875 7.515625 27.59375 7.515625 \r\nL 36.8125 7.515625 \r\nL 36.8125 0 \r\nL 27.59375 0 \r\nQ 17.1875 0 13.234375 3.875 \r\nQ 9.28125 7.765625 9.28125 18.015625 \r\nL 9.28125 47.703125 \r\nL 2.6875 47.703125 \r\nL 2.6875 54.6875 \r\nL 9.28125 54.6875 \r\nL 9.28125 70.21875 \r\nz\r\n\" id=\"DejaVuSans-116\"/>\r\n      <path d=\"M 41.109375 46.296875 \r\nQ 39.59375 47.171875 37.8125 47.578125 \r\nQ 36.03125 48 33.890625 48 \r\nQ 26.265625 48 22.1875 43.046875 \r\nQ 18.109375 38.09375 18.109375 28.8125 \r\nL 18.109375 0 \r\nL 9.078125 0 \r\nL 9.078125 54.6875 \r\nL 18.109375 54.6875 \r\nL 18.109375 46.1875 \r\nQ 20.953125 51.171875 25.484375 53.578125 \r\nQ 30.03125 56 36.53125 56 \r\nQ 37.453125 56 38.578125 55.875 \r\nQ 39.703125 55.765625 41.0625 55.515625 \r\nz\r\n\" id=\"DejaVuSans-114\"/>\r\n      <path d=\"M 34.28125 27.484375 \r\nQ 23.390625 27.484375 19.1875 25 \r\nQ 14.984375 22.515625 14.984375 16.5 \r\nQ 14.984375 11.71875 18.140625 8.90625 \r\nQ 21.296875 6.109375 26.703125 6.109375 \r\nQ 34.1875 6.109375 38.703125 11.40625 \r\nQ 43.21875 16.703125 43.21875 25.484375 \r\nL 43.21875 27.484375 \r\nz\r\nM 52.203125 31.203125 \r\nL 52.203125 0 \r\nL 43.21875 0 \r\nL 43.21875 8.296875 \r\nQ 40.140625 3.328125 35.546875 0.953125 \r\nQ 30.953125 -1.421875 24.3125 -1.421875 \r\nQ 15.921875 -1.421875 10.953125 3.296875 \r\nQ 6 8.015625 6 15.921875 \r\nQ 6 25.140625 12.171875 29.828125 \r\nQ 18.359375 34.515625 30.609375 34.515625 \r\nL 43.21875 34.515625 \r\nL 43.21875 35.40625 \r\nQ 43.21875 41.609375 39.140625 45 \r\nQ 35.0625 48.390625 27.6875 48.390625 \r\nQ 23 48.390625 18.546875 47.265625 \r\nQ 14.109375 46.140625 10.015625 43.890625 \r\nL 10.015625 52.203125 \r\nQ 14.9375 54.109375 19.578125 55.046875 \r\nQ 24.21875 56 28.609375 56 \r\nQ 40.484375 56 46.34375 49.84375 \r\nQ 52.203125 43.703125 52.203125 31.203125 \r\nz\r\n\" id=\"DejaVuSans-97\"/>\r\n      <path d=\"M 9.421875 54.6875 \r\nL 18.40625 54.6875 \r\nL 18.40625 0 \r\nL 9.421875 0 \r\nz\r\nM 9.421875 75.984375 \r\nL 18.40625 75.984375 \r\nL 18.40625 64.59375 \r\nL 9.421875 64.59375 \r\nz\r\n\" id=\"DejaVuSans-105\"/>\r\n      <path d=\"M 54.890625 33.015625 \r\nL 54.890625 0 \r\nL 45.90625 0 \r\nL 45.90625 32.71875 \r\nQ 45.90625 40.484375 42.875 44.328125 \r\nQ 39.84375 48.1875 33.796875 48.1875 \r\nQ 26.515625 48.1875 22.3125 43.546875 \r\nQ 18.109375 38.921875 18.109375 30.90625 \r\nL 18.109375 0 \r\nL 9.078125 0 \r\nL 9.078125 54.6875 \r\nL 18.109375 54.6875 \r\nL 18.109375 46.1875 \r\nQ 21.34375 51.125 25.703125 53.5625 \r\nQ 30.078125 56 35.796875 56 \r\nQ 45.21875 56 50.046875 50.171875 \r\nQ 54.890625 44.34375 54.890625 33.015625 \r\nz\r\n\" id=\"DejaVuSans-110\"/>\r\n      <path d=\"M 50.984375 -16.609375 \r\nL 50.984375 -23.578125 \r\nL -0.984375 -23.578125 \r\nL -0.984375 -16.609375 \r\nz\r\n\" id=\"DejaVuSans-95\"/>\r\n      <path d=\"M 9.421875 75.984375 \r\nL 18.40625 75.984375 \r\nL 18.40625 0 \r\nL 9.421875 0 \r\nz\r\n\" id=\"DejaVuSans-108\"/>\r\n     </defs>\r\n     <g transform=\"translate(71.240625 26.437798)scale(0.1 -0.1)\">\r\n      <use xlink:href=\"#DejaVuSans-116\"/>\r\n      <use x=\"39.208984\" xlink:href=\"#DejaVuSans-114\"/>\r\n      <use x=\"80.322266\" xlink:href=\"#DejaVuSans-97\"/>\r\n      <use x=\"141.601562\" xlink:href=\"#DejaVuSans-105\"/>\r\n      <use x=\"169.384766\" xlink:href=\"#DejaVuSans-110\"/>\r\n      <use x=\"232.763672\" xlink:href=\"#DejaVuSans-95\"/>\r\n      <use x=\"282.763672\" xlink:href=\"#DejaVuSans-108\"/>\r\n      <use x=\"310.546875\" xlink:href=\"#DejaVuSans-111\"/>\r\n      <use x=\"371.728516\" xlink:href=\"#DejaVuSans-115\"/>\r\n      <use x=\"423.828125\" xlink:href=\"#DejaVuSans-115\"/>\r\n     </g>\r\n    </g>\r\n    <g id=\"line2d_20\">\r\n     <path d=\"M 43.240625 37.894048 \r\nL 63.240625 37.894048 \r\n\" style=\"fill:none;stroke:#0000ff;stroke-linecap:square;stroke-width:1.5;\"/>\r\n    </g>\r\n    <g id=\"line2d_21\"/>\r\n    <g id=\"text_19\">\r\n     <!-- val_loss -->\r\n     <defs>\r\n      <path d=\"M 2.984375 54.6875 \r\nL 12.5 54.6875 \r\nL 29.59375 8.796875 \r\nL 46.6875 54.6875 \r\nL 56.203125 54.6875 \r\nL 35.6875 0 \r\nL 23.484375 0 \r\nz\r\n\" id=\"DejaVuSans-118\"/>\r\n     </defs>\r\n     <g transform=\"translate(71.240625 41.394048)scale(0.1 -0.1)\">\r\n      <use xlink:href=\"#DejaVuSans-118\"/>\r\n      <use x=\"59.179688\" xlink:href=\"#DejaVuSans-97\"/>\r\n      <use x=\"120.458984\" xlink:href=\"#DejaVuSans-108\"/>\r\n      <use x=\"148.242188\" xlink:href=\"#DejaVuSans-95\"/>\r\n      <use x=\"198.242188\" xlink:href=\"#DejaVuSans-108\"/>\r\n      <use x=\"226.025391\" xlink:href=\"#DejaVuSans-111\"/>\r\n      <use x=\"287.207031\" xlink:href=\"#DejaVuSans-115\"/>\r\n      <use x=\"339.306641\" xlink:href=\"#DejaVuSans-115\"/>\r\n     </g>\r\n    </g>\r\n   </g>\r\n  </g>\r\n </g>\r\n <defs>\r\n  <clipPath id=\"p8aa195f8be\">\r\n   <rect height=\"217.44\" width=\"334.8\" x=\"34.240625\" y=\"9.83936\"/>\r\n  </clipPath>\r\n </defs>\r\n</svg>\r\n",
      "image/png": "[encoded data removed]"
     },
     "metadata": {
      "needs_background": "light"
     }
    }
   ],
   "source": [
    "plt.plot(history['train']['loss'], color='red', label='train_loss')\n",
    "plt.plot(history['val']['loss'], color='blue', label='val_loss')\n",
    "plt.legend()\n",
    "\n",
    "plt.xlabel('Epochs')\n",
    "plt.ylabel('Loss')\n",
    "\n",
    "plt.savefig(f'./img/modelo_v1_loss_seed_{SEED}.png')\n",
    "\n",
    "plt.show()"
   ]
  },
  {
   "cell_type": "code",
   "execution_count": 22,
   "metadata": {},
   "outputs": [
    {
     "output_type": "stream",
     "name": "stdout",
     "text": "Mejor época de entrenamiento: 96\nMejor época de validación: 35\n"
    }
   ],
   "source": [
    "best_train_epoch = np.argmin(history['train']['loss'])\n",
    "best_val_epoch = np.argmin(history['val']['loss'])\n",
    "print(f\"Mejor época de entrenamiento: {best_train_epoch}\")\n",
    "print(f\"Mejor época de validación: {best_val_epoch}\")"
   ]
  },
  {
   "cell_type": "code",
   "execution_count": 23,
   "metadata": {},
   "outputs": [
    {
     "output_type": "display_data",
     "data": {
      "text/plain": "<Figure size 432x288 with 1 Axes>",
      "image/svg+xml": "<?xml version=\"1.0\" encoding=\"utf-8\" standalone=\"no\"?>\r\n<!DOCTYPE svg PUBLIC \"-//W3C//DTD SVG 1.1//EN\"\r\n  \"http://www.w3.org/Graphics/SVG/1.1/DTD/svg11.dtd\">\r\n<!-- Created with matplotlib (https://matplotlib.org/) -->\r\n<svg height=\"262.19625pt\" version=\"1.1\" viewBox=\"0 0 392.14375 262.19625\" width=\"392.14375pt\" xmlns=\"http://www.w3.org/2000/svg\" xmlns:xlink=\"http://www.w3.org/1999/xlink\">\r\n <defs>\r\n  <style type=\"text/css\">\r\n*{stroke-linecap:butt;stroke-linejoin:round;}\r\n  </style>\r\n </defs>\r\n <g id=\"figure_1\">\r\n  <g id=\"patch_1\">\r\n   <path d=\"M 0 262.19625 \r\nL 392.14375 262.19625 \r\nL 392.14375 0 \r\nL 0 0 \r\nz\r\n\" style=\"fill:none;\"/>\r\n  </g>\r\n  <g id=\"axes_1\">\r\n   <g id=\"patch_2\">\r\n    <path d=\"M 50.14375 224.64 \r\nL 384.94375 224.64 \r\nL 384.94375 7.2 \r\nL 50.14375 7.2 \r\nz\r\n\" style=\"fill:#ffffff;\"/>\r\n   </g>\r\n   <g id=\"matplotlib.axis_1\">\r\n    <g id=\"xtick_1\">\r\n     <g id=\"line2d_1\">\r\n      <defs>\r\n       <path d=\"M 0 0 \r\nL 0 3.5 \r\n\" id=\"m106078f5fd\" style=\"stroke:#000000;stroke-width:0.8;\"/>\r\n      </defs>\r\n      <g>\r\n       <use style=\"stroke:#000000;stroke-width:0.8;\" x=\"65.361932\" xlink:href=\"#m106078f5fd\" y=\"224.64\"/>\r\n      </g>\r\n     </g>\r\n     <g id=\"text_1\">\r\n      <!-- 0 -->\r\n      <defs>\r\n       <path d=\"M 31.78125 66.40625 \r\nQ 24.171875 66.40625 20.328125 58.90625 \r\nQ 16.5 51.421875 16.5 36.375 \r\nQ 16.5 21.390625 20.328125 13.890625 \r\nQ 24.171875 6.390625 31.78125 6.390625 \r\nQ 39.453125 6.390625 43.28125 13.890625 \r\nQ 47.125 21.390625 47.125 36.375 \r\nQ 47.125 51.421875 43.28125 58.90625 \r\nQ 39.453125 66.40625 31.78125 66.40625 \r\nz\r\nM 31.78125 74.21875 \r\nQ 44.046875 74.21875 50.515625 64.515625 \r\nQ 56.984375 54.828125 56.984375 36.375 \r\nQ 56.984375 17.96875 50.515625 8.265625 \r\nQ 44.046875 -1.421875 31.78125 -1.421875 \r\nQ 19.53125 -1.421875 13.0625 8.265625 \r\nQ 6.59375 17.96875 6.59375 36.375 \r\nQ 6.59375 54.828125 13.0625 64.515625 \r\nQ 19.53125 74.21875 31.78125 74.21875 \r\nz\r\n\" id=\"DejaVuSans-48\"/>\r\n      </defs>\r\n      <g transform=\"translate(62.180682 239.238438)scale(0.1 -0.1)\">\r\n       <use xlink:href=\"#DejaVuSans-48\"/>\r\n      </g>\r\n     </g>\r\n    </g>\r\n    <g id=\"xtick_2\">\r\n     <g id=\"line2d_2\">\r\n      <g>\r\n       <use style=\"stroke:#000000;stroke-width:0.8;\" x=\"108.967037\" xlink:href=\"#m106078f5fd\" y=\"224.64\"/>\r\n      </g>\r\n     </g>\r\n     <g id=\"text_2\">\r\n      <!-- 50 -->\r\n      <defs>\r\n       <path d=\"M 10.796875 72.90625 \r\nL 49.515625 72.90625 \r\nL 49.515625 64.59375 \r\nL 19.828125 64.59375 \r\nL 19.828125 46.734375 \r\nQ 21.96875 47.46875 24.109375 47.828125 \r\nQ 26.265625 48.1875 28.421875 48.1875 \r\nQ 40.625 48.1875 47.75 41.5 \r\nQ 54.890625 34.8125 54.890625 23.390625 \r\nQ 54.890625 11.625 47.5625 5.09375 \r\nQ 40.234375 -1.421875 26.90625 -1.421875 \r\nQ 22.3125 -1.421875 17.546875 -0.640625 \r\nQ 12.796875 0.140625 7.71875 1.703125 \r\nL 7.71875 11.625 \r\nQ 12.109375 9.234375 16.796875 8.0625 \r\nQ 21.484375 6.890625 26.703125 6.890625 \r\nQ 35.15625 6.890625 40.078125 11.328125 \r\nQ 45.015625 15.765625 45.015625 23.390625 \r\nQ 45.015625 31 40.078125 35.4375 \r\nQ 35.15625 39.890625 26.703125 39.890625 \r\nQ 22.75 39.890625 18.8125 39.015625 \r\nQ 14.890625 38.140625 10.796875 36.28125 \r\nz\r\n\" id=\"DejaVuSans-53\"/>\r\n      </defs>\r\n      <g transform=\"translate(102.604537 239.238438)scale(0.1 -0.1)\">\r\n       <use xlink:href=\"#DejaVuSans-53\"/>\r\n       <use x=\"63.623047\" xlink:href=\"#DejaVuSans-48\"/>\r\n      </g>\r\n     </g>\r\n    </g>\r\n    <g id=\"xtick_3\">\r\n     <g id=\"line2d_3\">\r\n      <g>\r\n       <use style=\"stroke:#000000;stroke-width:0.8;\" x=\"152.572143\" xlink:href=\"#m106078f5fd\" y=\"224.64\"/>\r\n      </g>\r\n     </g>\r\n     <g id=\"text_3\">\r\n      <!-- 100 -->\r\n      <defs>\r\n       <path d=\"M 12.40625 8.296875 \r\nL 28.515625 8.296875 \r\nL 28.515625 63.921875 \r\nL 10.984375 60.40625 \r\nL 10.984375 69.390625 \r\nL 28.421875 72.90625 \r\nL 38.28125 72.90625 \r\nL 38.28125 8.296875 \r\nL 54.390625 8.296875 \r\nL 54.390625 0 \r\nL 12.40625 0 \r\nz\r\n\" id=\"DejaVuSans-49\"/>\r\n      </defs>\r\n      <g transform=\"translate(143.028393 239.238438)scale(0.1 -0.1)\">\r\n       <use xlink:href=\"#DejaVuSans-49\"/>\r\n       <use x=\"63.623047\" xlink:href=\"#DejaVuSans-48\"/>\r\n       <use x=\"127.246094\" xlink:href=\"#DejaVuSans-48\"/>\r\n      </g>\r\n     </g>\r\n    </g>\r\n    <g id=\"xtick_4\">\r\n     <g id=\"line2d_4\">\r\n      <g>\r\n       <use style=\"stroke:#000000;stroke-width:0.8;\" x=\"196.177248\" xlink:href=\"#m106078f5fd\" y=\"224.64\"/>\r\n      </g>\r\n     </g>\r\n     <g id=\"text_4\">\r\n      <!-- 150 -->\r\n      <g transform=\"translate(186.633498 239.238438)scale(0.1 -0.1)\">\r\n       <use xlink:href=\"#DejaVuSans-49\"/>\r\n       <use x=\"63.623047\" xlink:href=\"#DejaVuSans-53\"/>\r\n       <use x=\"127.246094\" xlink:href=\"#DejaVuSans-48\"/>\r\n      </g>\r\n     </g>\r\n    </g>\r\n    <g id=\"xtick_5\">\r\n     <g id=\"line2d_5\">\r\n      <g>\r\n       <use style=\"stroke:#000000;stroke-width:0.8;\" x=\"239.782354\" xlink:href=\"#m106078f5fd\" y=\"224.64\"/>\r\n      </g>\r\n     </g>\r\n     <g id=\"text_5\">\r\n      <!-- 200 -->\r\n      <defs>\r\n       <path d=\"M 19.1875 8.296875 \r\nL 53.609375 8.296875 \r\nL 53.609375 0 \r\nL 7.328125 0 \r\nL 7.328125 8.296875 \r\nQ 12.9375 14.109375 22.625 23.890625 \r\nQ 32.328125 33.6875 34.8125 36.53125 \r\nQ 39.546875 41.84375 41.421875 45.53125 \r\nQ 43.3125 49.21875 43.3125 52.78125 \r\nQ 43.3125 58.59375 39.234375 62.25 \r\nQ 35.15625 65.921875 28.609375 65.921875 \r\nQ 23.96875 65.921875 18.8125 64.3125 \r\nQ 13.671875 62.703125 7.8125 59.421875 \r\nL 7.8125 69.390625 \r\nQ 13.765625 71.78125 18.9375 73 \r\nQ 24.125 74.21875 28.421875 74.21875 \r\nQ 39.75 74.21875 46.484375 68.546875 \r\nQ 53.21875 62.890625 53.21875 53.421875 \r\nQ 53.21875 48.921875 51.53125 44.890625 \r\nQ 49.859375 40.875 45.40625 35.40625 \r\nQ 44.1875 33.984375 37.640625 27.21875 \r\nQ 31.109375 20.453125 19.1875 8.296875 \r\nz\r\n\" id=\"DejaVuSans-50\"/>\r\n      </defs>\r\n      <g transform=\"translate(230.238604 239.238438)scale(0.1 -0.1)\">\r\n       <use xlink:href=\"#DejaVuSans-50\"/>\r\n       <use x=\"63.623047\" xlink:href=\"#DejaVuSans-48\"/>\r\n       <use x=\"127.246094\" xlink:href=\"#DejaVuSans-48\"/>\r\n      </g>\r\n     </g>\r\n    </g>\r\n    <g id=\"xtick_6\">\r\n     <g id=\"line2d_6\">\r\n      <g>\r\n       <use style=\"stroke:#000000;stroke-width:0.8;\" x=\"283.387459\" xlink:href=\"#m106078f5fd\" y=\"224.64\"/>\r\n      </g>\r\n     </g>\r\n     <g id=\"text_6\">\r\n      <!-- 250 -->\r\n      <g transform=\"translate(273.843709 239.238438)scale(0.1 -0.1)\">\r\n       <use xlink:href=\"#DejaVuSans-50\"/>\r\n       <use x=\"63.623047\" xlink:href=\"#DejaVuSans-53\"/>\r\n       <use x=\"127.246094\" xlink:href=\"#DejaVuSans-48\"/>\r\n      </g>\r\n     </g>\r\n    </g>\r\n    <g id=\"xtick_7\">\r\n     <g id=\"line2d_7\">\r\n      <g>\r\n       <use style=\"stroke:#000000;stroke-width:0.8;\" x=\"326.992565\" xlink:href=\"#m106078f5fd\" y=\"224.64\"/>\r\n      </g>\r\n     </g>\r\n     <g id=\"text_7\">\r\n      <!-- 300 -->\r\n      <defs>\r\n       <path d=\"M 40.578125 39.3125 \r\nQ 47.65625 37.796875 51.625 33 \r\nQ 55.609375 28.21875 55.609375 21.1875 \r\nQ 55.609375 10.40625 48.1875 4.484375 \r\nQ 40.765625 -1.421875 27.09375 -1.421875 \r\nQ 22.515625 -1.421875 17.65625 -0.515625 \r\nQ 12.796875 0.390625 7.625 2.203125 \r\nL 7.625 11.71875 \r\nQ 11.71875 9.328125 16.59375 8.109375 \r\nQ 21.484375 6.890625 26.8125 6.890625 \r\nQ 36.078125 6.890625 40.9375 10.546875 \r\nQ 45.796875 14.203125 45.796875 21.1875 \r\nQ 45.796875 27.640625 41.28125 31.265625 \r\nQ 36.765625 34.90625 28.71875 34.90625 \r\nL 20.21875 34.90625 \r\nL 20.21875 43.015625 \r\nL 29.109375 43.015625 \r\nQ 36.375 43.015625 40.234375 45.921875 \r\nQ 44.09375 48.828125 44.09375 54.296875 \r\nQ 44.09375 59.90625 40.109375 62.90625 \r\nQ 36.140625 65.921875 28.71875 65.921875 \r\nQ 24.65625 65.921875 20.015625 65.03125 \r\nQ 15.375 64.15625 9.8125 62.3125 \r\nL 9.8125 71.09375 \r\nQ 15.4375 72.65625 20.34375 73.4375 \r\nQ 25.25 74.21875 29.59375 74.21875 \r\nQ 40.828125 74.21875 47.359375 69.109375 \r\nQ 53.90625 64.015625 53.90625 55.328125 \r\nQ 53.90625 49.265625 50.4375 45.09375 \r\nQ 46.96875 40.921875 40.578125 39.3125 \r\nz\r\n\" id=\"DejaVuSans-51\"/>\r\n      </defs>\r\n      <g transform=\"translate(317.448815 239.238438)scale(0.1 -0.1)\">\r\n       <use xlink:href=\"#DejaVuSans-51\"/>\r\n       <use x=\"63.623047\" xlink:href=\"#DejaVuSans-48\"/>\r\n       <use x=\"127.246094\" xlink:href=\"#DejaVuSans-48\"/>\r\n      </g>\r\n     </g>\r\n    </g>\r\n    <g id=\"xtick_8\">\r\n     <g id=\"line2d_8\">\r\n      <g>\r\n       <use style=\"stroke:#000000;stroke-width:0.8;\" x=\"370.59767\" xlink:href=\"#m106078f5fd\" y=\"224.64\"/>\r\n      </g>\r\n     </g>\r\n     <g id=\"text_8\">\r\n      <!-- 350 -->\r\n      <g transform=\"translate(361.05392 239.238438)scale(0.1 -0.1)\">\r\n       <use xlink:href=\"#DejaVuSans-51\"/>\r\n       <use x=\"63.623047\" xlink:href=\"#DejaVuSans-53\"/>\r\n       <use x=\"127.246094\" xlink:href=\"#DejaVuSans-48\"/>\r\n      </g>\r\n     </g>\r\n    </g>\r\n    <g id=\"text_9\">\r\n     <!-- Epochs -->\r\n     <defs>\r\n      <path d=\"M 9.8125 72.90625 \r\nL 55.90625 72.90625 \r\nL 55.90625 64.59375 \r\nL 19.671875 64.59375 \r\nL 19.671875 43.015625 \r\nL 54.390625 43.015625 \r\nL 54.390625 34.71875 \r\nL 19.671875 34.71875 \r\nL 19.671875 8.296875 \r\nL 56.78125 8.296875 \r\nL 56.78125 0 \r\nL 9.8125 0 \r\nz\r\n\" id=\"DejaVuSans-69\"/>\r\n      <path d=\"M 18.109375 8.203125 \r\nL 18.109375 -20.796875 \r\nL 9.078125 -20.796875 \r\nL 9.078125 54.6875 \r\nL 18.109375 54.6875 \r\nL 18.109375 46.390625 \r\nQ 20.953125 51.265625 25.265625 53.625 \r\nQ 29.59375 56 35.59375 56 \r\nQ 45.5625 56 51.78125 48.09375 \r\nQ 58.015625 40.1875 58.015625 27.296875 \r\nQ 58.015625 14.40625 51.78125 6.484375 \r\nQ 45.5625 -1.421875 35.59375 -1.421875 \r\nQ 29.59375 -1.421875 25.265625 0.953125 \r\nQ 20.953125 3.328125 18.109375 8.203125 \r\nz\r\nM 48.6875 27.296875 \r\nQ 48.6875 37.203125 44.609375 42.84375 \r\nQ 40.53125 48.484375 33.40625 48.484375 \r\nQ 26.265625 48.484375 22.1875 42.84375 \r\nQ 18.109375 37.203125 18.109375 27.296875 \r\nQ 18.109375 17.390625 22.1875 11.75 \r\nQ 26.265625 6.109375 33.40625 6.109375 \r\nQ 40.53125 6.109375 44.609375 11.75 \r\nQ 48.6875 17.390625 48.6875 27.296875 \r\nz\r\n\" id=\"DejaVuSans-112\"/>\r\n      <path d=\"M 30.609375 48.390625 \r\nQ 23.390625 48.390625 19.1875 42.75 \r\nQ 14.984375 37.109375 14.984375 27.296875 \r\nQ 14.984375 17.484375 19.15625 11.84375 \r\nQ 23.34375 6.203125 30.609375 6.203125 \r\nQ 37.796875 6.203125 41.984375 11.859375 \r\nQ 46.1875 17.53125 46.1875 27.296875 \r\nQ 46.1875 37.015625 41.984375 42.703125 \r\nQ 37.796875 48.390625 30.609375 48.390625 \r\nz\r\nM 30.609375 56 \r\nQ 42.328125 56 49.015625 48.375 \r\nQ 55.71875 40.765625 55.71875 27.296875 \r\nQ 55.71875 13.875 49.015625 6.21875 \r\nQ 42.328125 -1.421875 30.609375 -1.421875 \r\nQ 18.84375 -1.421875 12.171875 6.21875 \r\nQ 5.515625 13.875 5.515625 27.296875 \r\nQ 5.515625 40.765625 12.171875 48.375 \r\nQ 18.84375 56 30.609375 56 \r\nz\r\n\" id=\"DejaVuSans-111\"/>\r\n      <path d=\"M 48.78125 52.59375 \r\nL 48.78125 44.1875 \r\nQ 44.96875 46.296875 41.140625 47.34375 \r\nQ 37.3125 48.390625 33.40625 48.390625 \r\nQ 24.65625 48.390625 19.8125 42.84375 \r\nQ 14.984375 37.3125 14.984375 27.296875 \r\nQ 14.984375 17.28125 19.8125 11.734375 \r\nQ 24.65625 6.203125 33.40625 6.203125 \r\nQ 37.3125 6.203125 41.140625 7.25 \r\nQ 44.96875 8.296875 48.78125 10.40625 \r\nL 48.78125 2.09375 \r\nQ 45.015625 0.34375 40.984375 -0.53125 \r\nQ 36.96875 -1.421875 32.421875 -1.421875 \r\nQ 20.0625 -1.421875 12.78125 6.34375 \r\nQ 5.515625 14.109375 5.515625 27.296875 \r\nQ 5.515625 40.671875 12.859375 48.328125 \r\nQ 20.21875 56 33.015625 56 \r\nQ 37.15625 56 41.109375 55.140625 \r\nQ 45.0625 54.296875 48.78125 52.59375 \r\nz\r\n\" id=\"DejaVuSans-99\"/>\r\n      <path d=\"M 54.890625 33.015625 \r\nL 54.890625 0 \r\nL 45.90625 0 \r\nL 45.90625 32.71875 \r\nQ 45.90625 40.484375 42.875 44.328125 \r\nQ 39.84375 48.1875 33.796875 48.1875 \r\nQ 26.515625 48.1875 22.3125 43.546875 \r\nQ 18.109375 38.921875 18.109375 30.90625 \r\nL 18.109375 0 \r\nL 9.078125 0 \r\nL 9.078125 75.984375 \r\nL 18.109375 75.984375 \r\nL 18.109375 46.1875 \r\nQ 21.34375 51.125 25.703125 53.5625 \r\nQ 30.078125 56 35.796875 56 \r\nQ 45.21875 56 50.046875 50.171875 \r\nQ 54.890625 44.34375 54.890625 33.015625 \r\nz\r\n\" id=\"DejaVuSans-104\"/>\r\n      <path d=\"M 44.28125 53.078125 \r\nL 44.28125 44.578125 \r\nQ 40.484375 46.53125 36.375 47.5 \r\nQ 32.28125 48.484375 27.875 48.484375 \r\nQ 21.1875 48.484375 17.84375 46.4375 \r\nQ 14.5 44.390625 14.5 40.28125 \r\nQ 14.5 37.15625 16.890625 35.375 \r\nQ 19.28125 33.59375 26.515625 31.984375 \r\nL 29.59375 31.296875 \r\nQ 39.15625 29.25 43.1875 25.515625 \r\nQ 47.21875 21.78125 47.21875 15.09375 \r\nQ 47.21875 7.46875 41.1875 3.015625 \r\nQ 35.15625 -1.421875 24.609375 -1.421875 \r\nQ 20.21875 -1.421875 15.453125 -0.5625 \r\nQ 10.6875 0.296875 5.421875 2 \r\nL 5.421875 11.28125 \r\nQ 10.40625 8.6875 15.234375 7.390625 \r\nQ 20.0625 6.109375 24.8125 6.109375 \r\nQ 31.15625 6.109375 34.5625 8.28125 \r\nQ 37.984375 10.453125 37.984375 14.40625 \r\nQ 37.984375 18.0625 35.515625 20.015625 \r\nQ 33.0625 21.96875 24.703125 23.78125 \r\nL 21.578125 24.515625 \r\nQ 13.234375 26.265625 9.515625 29.90625 \r\nQ 5.8125 33.546875 5.8125 39.890625 \r\nQ 5.8125 47.609375 11.28125 51.796875 \r\nQ 16.75 56 26.8125 56 \r\nQ 31.78125 56 36.171875 55.265625 \r\nQ 40.578125 54.546875 44.28125 53.078125 \r\nz\r\n\" id=\"DejaVuSans-115\"/>\r\n     </defs>\r\n     <g transform=\"translate(199.628125 252.916563)scale(0.1 -0.1)\">\r\n      <use xlink:href=\"#DejaVuSans-69\"/>\r\n      <use x=\"63.183594\" xlink:href=\"#DejaVuSans-112\"/>\r\n      <use x=\"126.660156\" xlink:href=\"#DejaVuSans-111\"/>\r\n      <use x=\"187.841797\" xlink:href=\"#DejaVuSans-99\"/>\r\n      <use x=\"242.822266\" xlink:href=\"#DejaVuSans-104\"/>\r\n      <use x=\"306.201172\" xlink:href=\"#DejaVuSans-115\"/>\r\n     </g>\r\n    </g>\r\n   </g>\r\n   <g id=\"matplotlib.axis_2\">\r\n    <g id=\"ytick_1\">\r\n     <g id=\"line2d_9\">\r\n      <defs>\r\n       <path d=\"M 0 0 \r\nL -3.5 0 \r\n\" id=\"m90831a3a0c\" style=\"stroke:#000000;stroke-width:0.8;\"/>\r\n      </defs>\r\n      <g>\r\n       <use style=\"stroke:#000000;stroke-width:0.8;\" x=\"50.14375\" xlink:href=\"#m90831a3a0c\" y=\"209.371094\"/>\r\n      </g>\r\n     </g>\r\n     <g id=\"text_10\">\r\n      <!-- 0.25 -->\r\n      <defs>\r\n       <path d=\"M 10.6875 12.40625 \r\nL 21 12.40625 \r\nL 21 0 \r\nL 10.6875 0 \r\nz\r\n\" id=\"DejaVuSans-46\"/>\r\n      </defs>\r\n      <g transform=\"translate(20.878125 213.170313)scale(0.1 -0.1)\">\r\n       <use xlink:href=\"#DejaVuSans-48\"/>\r\n       <use x=\"63.623047\" xlink:href=\"#DejaVuSans-46\"/>\r\n       <use x=\"95.410156\" xlink:href=\"#DejaVuSans-50\"/>\r\n       <use x=\"159.033203\" xlink:href=\"#DejaVuSans-53\"/>\r\n      </g>\r\n     </g>\r\n    </g>\r\n    <g id=\"ytick_2\">\r\n     <g id=\"line2d_10\">\r\n      <g>\r\n       <use style=\"stroke:#000000;stroke-width:0.8;\" x=\"50.14375\" xlink:href=\"#m90831a3a0c\" y=\"174.277087\"/>\r\n      </g>\r\n     </g>\r\n     <g id=\"text_11\">\r\n      <!-- 0.30 -->\r\n      <g transform=\"translate(20.878125 178.076306)scale(0.1 -0.1)\">\r\n       <use xlink:href=\"#DejaVuSans-48\"/>\r\n       <use x=\"63.623047\" xlink:href=\"#DejaVuSans-46\"/>\r\n       <use x=\"95.410156\" xlink:href=\"#DejaVuSans-51\"/>\r\n       <use x=\"159.033203\" xlink:href=\"#DejaVuSans-48\"/>\r\n      </g>\r\n     </g>\r\n    </g>\r\n    <g id=\"ytick_3\">\r\n     <g id=\"line2d_11\">\r\n      <g>\r\n       <use style=\"stroke:#000000;stroke-width:0.8;\" x=\"50.14375\" xlink:href=\"#m90831a3a0c\" y=\"139.183081\"/>\r\n      </g>\r\n     </g>\r\n     <g id=\"text_12\">\r\n      <!-- 0.35 -->\r\n      <g transform=\"translate(20.878125 142.982299)scale(0.1 -0.1)\">\r\n       <use xlink:href=\"#DejaVuSans-48\"/>\r\n       <use x=\"63.623047\" xlink:href=\"#DejaVuSans-46\"/>\r\n       <use x=\"95.410156\" xlink:href=\"#DejaVuSans-51\"/>\r\n       <use x=\"159.033203\" xlink:href=\"#DejaVuSans-53\"/>\r\n      </g>\r\n     </g>\r\n    </g>\r\n    <g id=\"ytick_4\">\r\n     <g id=\"line2d_12\">\r\n      <g>\r\n       <use style=\"stroke:#000000;stroke-width:0.8;\" x=\"50.14375\" xlink:href=\"#m90831a3a0c\" y=\"104.089074\"/>\r\n      </g>\r\n     </g>\r\n     <g id=\"text_13\">\r\n      <!-- 0.40 -->\r\n      <defs>\r\n       <path d=\"M 37.796875 64.3125 \r\nL 12.890625 25.390625 \r\nL 37.796875 25.390625 \r\nz\r\nM 35.203125 72.90625 \r\nL 47.609375 72.90625 \r\nL 47.609375 25.390625 \r\nL 58.015625 25.390625 \r\nL 58.015625 17.1875 \r\nL 47.609375 17.1875 \r\nL 47.609375 0 \r\nL 37.796875 0 \r\nL 37.796875 17.1875 \r\nL 4.890625 17.1875 \r\nL 4.890625 26.703125 \r\nz\r\n\" id=\"DejaVuSans-52\"/>\r\n      </defs>\r\n      <g transform=\"translate(20.878125 107.888293)scale(0.1 -0.1)\">\r\n       <use xlink:href=\"#DejaVuSans-48\"/>\r\n       <use x=\"63.623047\" xlink:href=\"#DejaVuSans-46\"/>\r\n       <use x=\"95.410156\" xlink:href=\"#DejaVuSans-52\"/>\r\n       <use x=\"159.033203\" xlink:href=\"#DejaVuSans-48\"/>\r\n      </g>\r\n     </g>\r\n    </g>\r\n    <g id=\"ytick_5\">\r\n     <g id=\"line2d_13\">\r\n      <g>\r\n       <use style=\"stroke:#000000;stroke-width:0.8;\" x=\"50.14375\" xlink:href=\"#m90831a3a0c\" y=\"68.995067\"/>\r\n      </g>\r\n     </g>\r\n     <g id=\"text_14\">\r\n      <!-- 0.45 -->\r\n      <g transform=\"translate(20.878125 72.794286)scale(0.1 -0.1)\">\r\n       <use xlink:href=\"#DejaVuSans-48\"/>\r\n       <use x=\"63.623047\" xlink:href=\"#DejaVuSans-46\"/>\r\n       <use x=\"95.410156\" xlink:href=\"#DejaVuSans-52\"/>\r\n       <use x=\"159.033203\" xlink:href=\"#DejaVuSans-53\"/>\r\n      </g>\r\n     </g>\r\n    </g>\r\n    <g id=\"ytick_6\">\r\n     <g id=\"line2d_14\">\r\n      <g>\r\n       <use style=\"stroke:#000000;stroke-width:0.8;\" x=\"50.14375\" xlink:href=\"#m90831a3a0c\" y=\"33.90106\"/>\r\n      </g>\r\n     </g>\r\n     <g id=\"text_15\">\r\n      <!-- 0.50 -->\r\n      <g transform=\"translate(20.878125 37.700279)scale(0.1 -0.1)\">\r\n       <use xlink:href=\"#DejaVuSans-48\"/>\r\n       <use x=\"63.623047\" xlink:href=\"#DejaVuSans-46\"/>\r\n       <use x=\"95.410156\" xlink:href=\"#DejaVuSans-53\"/>\r\n       <use x=\"159.033203\" xlink:href=\"#DejaVuSans-48\"/>\r\n      </g>\r\n     </g>\r\n    </g>\r\n    <g id=\"text_16\">\r\n     <!-- Loss -->\r\n     <defs>\r\n      <path d=\"M 9.8125 72.90625 \r\nL 19.671875 72.90625 \r\nL 19.671875 8.296875 \r\nL 55.171875 8.296875 \r\nL 55.171875 0 \r\nL 9.8125 0 \r\nz\r\n\" id=\"DejaVuSans-76\"/>\r\n     </defs>\r\n     <g transform=\"translate(14.798438 126.973906)rotate(-90)scale(0.1 -0.1)\">\r\n      <use xlink:href=\"#DejaVuSans-76\"/>\r\n      <use x=\"55.697266\" xlink:href=\"#DejaVuSans-111\"/>\r\n      <use x=\"116.878906\" xlink:href=\"#DejaVuSans-115\"/>\r\n      <use x=\"168.978516\" xlink:href=\"#DejaVuSans-115\"/>\r\n     </g>\r\n    </g>\r\n   </g>\r\n   <g id=\"line2d_15\">\r\n    <path clip-path=\"url(#p8ceb49f9c2)\" d=\"M 65.361932 196.468886 \r\nL 67.106136 194.000559 \r\nL 67.978238 184.508855 \r\nL 68.85034 179.372147 \r\nL 69.722442 185.69751 \r\nL 70.594544 179.594009 \r\nL 71.466647 168.569594 \r\nL 72.338749 159.094324 \r\nL 73.210851 150.958966 \r\nL 74.082953 153.669087 \r\nL 74.955055 138.77021 \r\nL 75.827157 121.07875 \r\nL 76.699259 120.463149 \r\nL 77.571361 100.825615 \r\nL 78.443463 99.8959 \r\nL 79.315566 90.342628 \r\nL 80.187668 90.807009 \r\nL 81.05977 86.759296 \r\nL 81.931872 84.451984 \r\nL 82.803974 85.954372 \r\nL 83.676076 80.949113 \r\nL 84.548178 85.843534 \r\nL 85.42028 100.124967 \r\nL 86.292382 95.469493 \r\nL 87.164485 75.399783 \r\nL 88.036587 77.693582 \r\nL 88.908689 88.182308 \r\nL 89.780791 82.738926 \r\nL 90.652893 82.022478 \r\nL 91.524995 69.750421 \r\nL 92.397097 71.382414 \r\nL 93.269199 73.3758 \r\nL 94.141301 77.396179 \r\nL 95.013404 59.194038 \r\nL 95.885506 55.789214 \r\nL 96.757608 67.004004 \r\nL 97.62971 62.388423 \r\nL 98.501812 50.450245 \r\nL 99.373914 55.85756 \r\nL 100.246016 69.066834 \r\nL 101.118118 64.4809 \r\nL 101.99022 52.80529 \r\nL 102.862323 52.844538 \r\nL 103.734425 54.841929 \r\nL 105.478629 45.836157 \r\nL 106.350731 43.893522 \r\nL 107.222833 44.183689 \r\nL 108.094935 53.162182 \r\nL 108.967037 50.169805 \r\nL 109.839139 41.596579 \r\nL 110.711242 44.183689 \r\nL 111.583344 40.887991 \r\nL 112.455446 42.805692 \r\nL 113.327548 42.175653 \r\nL 114.19965 38.296969 \r\nL 115.071752 43.575494 \r\nL 115.943854 37.811256 \r\nL 116.815956 37.308245 \r\nL 117.688058 34.022872 \r\nL 118.560161 44.032547 \r\nL 119.432263 36.835751 \r\nL 120.304365 36.223548 \r\nL 121.176467 29.474346 \r\nL 122.048569 30.214715 \r\nL 122.920671 32.306436 \r\nL 123.792773 31.93501 \r\nL 124.664875 37.566869 \r\nL 125.536977 35.001186 \r\nL 126.40908 32.797861 \r\nL 127.281182 33.778739 \r\nL 128.153284 33.90106 \r\nL 129.025386 31.321522 \r\nL 129.897488 36.46981 \r\nL 130.76959 34.388816 \r\nL 131.641692 42.699001 \r\nL 132.513794 35.857521 \r\nL 133.385896 32.54322 \r\nL 134.257999 28.729312 \r\nL 135.130101 27.605618 \r\nL 136.002203 29.870075 \r\nL 136.874305 30.465283 \r\nL 137.746407 40.366067 \r\nL 138.618509 39.865702 \r\nL 139.490611 45.229483 \r\nL 140.362713 41.61933 \r\nL 141.234815 35.601116 \r\nL 142.106917 35.005031 \r\nL 142.97902 39.586749 \r\nL 143.851122 40.815538 \r\nL 144.723224 33.044811 \r\nL 145.595326 30.598383 \r\nL 146.467428 34.267769 \r\nL 147.33953 26.723866 \r\nL 148.211632 28.700114 \r\nL 149.083734 19.506065 \r\nL 149.955836 23.333537 \r\nL 150.827939 22.461374 \r\nL 151.700041 25.574499 \r\nL 152.572143 23.528447 \r\nL 153.444245 26.293269 \r\nL 155.188449 22.868328 \r\nL 156.060551 17.083636 \r\nL 156.932653 27.390797 \r\nL 157.804755 32.803229 \r\nL 158.676858 60.144029 \r\nL 159.54896 54.993214 \r\nL 160.421062 57.996877 \r\nL 161.293164 57.217351 \r\nL 162.165266 52.548887 \r\nL 163.037368 55.210286 \r\nL 163.90947 48.035307 \r\nL 164.781572 47.121405 \r\nL 165.653674 50.876206 \r\nL 166.525777 40.036376 \r\nL 168.269981 46.153029 \r\nL 169.142083 39.666241 \r\nL 170.014185 41.569886 \r\nL 170.886287 45.935375 \r\nL 171.758389 44.682443 \r\nL 172.630491 46.51259 \r\nL 173.502593 41.580541 \r\nL 174.374696 43.69305 \r\nL 175.246798 47.366096 \r\nL 176.1189 65.024186 \r\nL 176.991002 58.678906 \r\nL 177.863104 55.812607 \r\nL 178.735206 61.463043 \r\nL 179.607308 59.949243 \r\nL 180.47941 51.465987 \r\nL 181.351512 47.246161 \r\nL 182.223615 55.991538 \r\nL 183.095717 53.783672 \r\nL 183.967819 46.943156 \r\nL 184.839921 50.533291 \r\nL 185.712023 50.201555 \r\nL 186.584125 53.9821 \r\nL 187.456227 51.11338 \r\nL 188.328329 52.638818 \r\nL 189.200431 40.61937 \r\nL 190.072534 36.218704 \r\nL 190.944636 35.614157 \r\nL 191.816738 37.448381 \r\nL 192.68884 32.075149 \r\nL 193.560942 32.315304 \r\nL 194.433044 36.581852 \r\nL 195.305146 37.656373 \r\nL 196.177248 35.364327 \r\nL 197.04935 40.844338 \r\nL 197.921453 38.167438 \r\nL 198.793555 29.982679 \r\nL 199.665657 38.167438 \r\nL 200.537759 32.559267 \r\nL 201.409861 35.954754 \r\nL 202.281963 46.737377 \r\nL 203.154065 52.763638 \r\nL 204.898269 46.035259 \r\nL 205.770372 49.35728 \r\nL 206.642474 46.202052 \r\nL 207.514576 46.118087 \r\nL 208.386678 48.729514 \r\nL 209.25878 44.492334 \r\nL 210.130882 53.815091 \r\nL 211.002984 51.42406 \r\nL 211.875086 43.346652 \r\nL 212.747188 42.91802 \r\nL 213.619291 45.870367 \r\nL 215.363495 37.653783 \r\nL 216.235597 41.592897 \r\nL 217.107699 42.60805 \r\nL 217.979801 40.549942 \r\nL 218.851903 49.180084 \r\nL 219.724005 44.462038 \r\nL 220.596107 45.252873 \r\nL 221.468209 44.710303 \r\nL 222.340312 40.654546 \r\nL 223.212414 45.684095 \r\nL 224.084516 43.228774 \r\nL 224.956618 42.360359 \r\nL 225.82872 38.596313 \r\nL 226.700822 42.383728 \r\nL 227.572924 45.619197 \r\nL 228.445026 43.222338 \r\nL 229.317128 39.214675 \r\nL 231.061333 50.772028 \r\nL 231.933435 42.825309 \r\nL 232.805537 47.677633 \r\nL 233.677639 41.904531 \r\nL 234.549741 47.361775 \r\nL 235.421843 45.679186 \r\nL 236.293945 42.659565 \r\nL 237.166047 44.038256 \r\nL 238.03815 40.895742 \r\nL 238.910252 40.622211 \r\nL 239.782354 46.417441 \r\nL 240.654456 37.871243 \r\nL 241.526558 43.879829 \r\nL 242.39866 44.045233 \r\nL 243.270762 44.988453 \r\nL 244.142864 42.768705 \r\nL 245.014966 38.860916 \r\nL 245.887069 41.342334 \r\nL 246.759171 46.242073 \r\nL 247.631273 42.9428 \r\nL 248.503375 47.112356 \r\nL 249.375477 39.460028 \r\nL 250.247579 51.639834 \r\nL 251.119681 49.482416 \r\nL 251.991783 45.603084 \r\nL 252.863885 44.120281 \r\nL 253.735988 47.334173 \r\nL 254.60809 37.651195 \r\nL 255.480192 42.671558 \r\nL 256.352294 43.079121 \r\nL 257.224396 45.470513 \r\nL 258.096498 44.14133 \r\nL 258.9686 45.330373 \r\nL 259.840702 46.854005 \r\nL 260.712804 48.149395 \r\nL 261.584907 51.42406 \r\nL 262.457009 37.390009 \r\nL 263.329111 44.134304 \r\nL 265.073315 47.747675 \r\nL 265.945417 51.078276 \r\nL 266.817519 44.807347 \r\nL 267.689621 48.563625 \r\nL 268.561723 44.09235 \r\nL 269.433826 52.422229 \r\nL 270.305928 44.301076 \r\nL 271.17803 42.253894 \r\nL 272.050132 54.743021 \r\nL 272.922234 53.138837 \r\nL 273.794336 50.394642 \r\nL 274.666438 45.10512 \r\nL 275.53854 46.854005 \r\nL 276.410642 47.10332 \r\nL 277.282745 49.672295 \r\nL 278.154847 50.887861 \r\nL 279.026949 52.613035 \r\nL 279.899051 42.242385 \r\nL 280.771153 41.972802 \r\nL 281.643255 48.898499 \r\nL 282.515357 49.896288 \r\nL 283.387459 39.128086 \r\nL 284.259561 53.584429 \r\nL 285.131664 50.566817 \r\nL 286.003766 53.304573 \r\nL 286.875868 48.20797 \r\nL 287.74797 52.763638 \r\nL 288.620072 42.253894 \r\nL 289.492174 50.246214 \r\nL 290.364276 52.119261 \r\nL 291.236378 49.337599 \r\nL 292.10848 47.542693 \r\nL 292.980583 50.851227 \r\nL 293.852685 54.656863 \r\nL 294.724787 49.646842 \r\nL 295.596889 45.531121 \r\nL 296.468991 54.77036 \r\nL 297.341093 52.724972 \r\nL 298.213195 52.422229 \r\nL 299.085297 50.061187 \r\nL 299.957399 45.190713 \r\nL 300.829501 56.899849 \r\nL 301.701604 51.049543 \r\nL 302.573706 54.487939 \r\nL 303.445808 46.39174 \r\nL 304.31791 52.8384 \r\nL 305.190012 54.854493 \r\nL 306.062114 49.693966 \r\nL 306.934216 47.727065 \r\nL 307.806318 48.082885 \r\nL 308.67842 53.191382 \r\nL 309.550523 47.52748 \r\nL 310.422625 49.397734 \r\nL 311.294727 45.90212 \r\nL 312.166829 48.488401 \r\nL 313.038931 40.057904 \r\nL 313.911033 38.143859 \r\nL 314.783135 44.8868 \r\nL 315.655237 43.666139 \r\nL 316.527339 35.950521 \r\nL 317.399442 43.575494 \r\nL 318.271544 42.78866 \r\nL 319.143646 45.735928 \r\nL 320.015748 44.39669 \r\nL 320.88785 41.699728 \r\nL 321.759952 42.837593 \r\nL 322.632054 42.507881 \r\nL 323.504156 38.615722 \r\nL 325.248361 48.62833 \r\nL 326.120463 39.395697 \r\nL 326.992565 45.409278 \r\nL 327.864667 45.206189 \r\nL 328.736769 40.910194 \r\nL 329.608871 42.887069 \r\nL 330.480973 39.120854 \r\nL 331.353075 48.64441 \r\nL 332.225177 43.769745 \r\nL 333.09728 47.477311 \r\nL 333.969382 45.635354 \r\nL 334.841484 45.526404 \r\nL 335.713586 49.578795 \r\nL 336.585688 43.837899 \r\nL 337.45779 45.869047 \r\nL 338.329892 43.359708 \r\nL 339.201994 39.840979 \r\nL 340.946199 50.005844 \r\nL 341.818301 41.629954 \r\nL 342.690403 44.814884 \r\nL 343.562505 44.484585 \r\nL 344.434607 42.454697 \r\nL 345.306709 43.09811 \r\nL 346.178811 47.852071 \r\nL 347.050913 43.091772 \r\nL 347.923015 39.348561 \r\nL 348.795118 44.308249 \r\nL 349.66722 39.382596 \r\nL 350.539322 40.290557 \r\nL 351.411424 41.023683 \r\nL 352.283526 40.949026 \r\nL 353.155628 40.109157 \r\nL 354.02773 37.303526 \r\nL 354.899832 44.255071 \r\nL 355.771934 39.972688 \r\nL 356.644037 37.418952 \r\nL 357.516139 32.561129 \r\nL 358.388241 38.599537 \r\nL 359.260343 38.761726 \r\nL 360.132445 43.222338 \r\nL 361.004547 46.261518 \r\nL 361.876649 48.343038 \r\nL 362.748751 37.781531 \r\nL 363.620853 43.858529 \r\nL 364.492956 42.999057 \r\nL 365.365058 38.521893 \r\nL 366.23716 43.783301 \r\nL 367.109262 42.277008 \r\nL 367.981364 37.167307 \r\nL 368.853466 44.39669 \r\nL 369.725568 43.117178 \r\nL 369.725568 43.117178 \r\n\" style=\"fill:none;stroke:#ff0000;stroke-linecap:square;stroke-width:1.5;\"/>\r\n   </g>\r\n   <g id=\"line2d_16\">\r\n    <path clip-path=\"url(#p8ceb49f9c2)\" d=\"M 65.361932 210.923926 \r\nL 66.234034 168.064589 \r\nL 67.106136 197.908228 \r\nL 67.978238 151.590053 \r\nL 68.85034 167.450491 \r\nL 69.722442 214.756364 \r\nL 70.594544 171.366064 \r\nL 71.466647 144.48764 \r\nL 72.338749 139.444759 \r\nL 73.210851 165.937917 \r\nL 74.082953 149.871764 \r\nL 74.955055 150.241411 \r\nL 76.699259 82.957199 \r\nL 77.571361 82.400074 \r\nL 78.443463 86.588287 \r\nL 80.187668 105.399886 \r\nL 81.05977 100.934556 \r\nL 81.931872 137.559514 \r\nL 82.803974 137.401903 \r\nL 83.676076 96.859407 \r\nL 84.548178 112.683524 \r\nL 85.42028 111.258817 \r\nL 86.292382 91.54339 \r\nL 87.164485 94.261539 \r\nL 88.036587 154.931638 \r\nL 88.908689 102.840783 \r\nL 89.780791 149.918284 \r\nL 90.652893 134.500789 \r\nL 91.524995 74.763945 \r\nL 92.397097 73.150936 \r\nL 93.269199 91.95349 \r\nL 94.141301 79.544428 \r\nL 95.013404 105.773105 \r\nL 95.885506 53.544322 \r\nL 96.757608 76.060389 \r\nL 97.62971 85.364517 \r\nL 98.501812 52.093606 \r\nL 99.373914 62.617087 \r\nL 100.246016 162.867651 \r\nL 101.118118 63.386964 \r\nL 101.99022 71.151682 \r\nL 102.862323 56.736202 \r\nL 103.734425 70.886699 \r\nL 104.606527 55.483727 \r\nL 105.478629 55.055994 \r\nL 106.350731 57.454085 \r\nL 107.222833 112.733644 \r\nL 108.094935 51.280369 \r\nL 108.967037 42.86985 \r\nL 109.839139 60.251509 \r\nL 110.711242 62.856511 \r\nL 111.583344 70.932074 \r\nL 112.455446 69.31703 \r\nL 113.327548 111.859342 \r\nL 114.19965 54.579347 \r\nL 115.071752 53.496699 \r\nL 115.943854 99.347308 \r\nL 116.815956 71.05942 \r\nL 117.688058 66.45123 \r\nL 118.560161 52.76266 \r\nL 119.432263 57.413174 \r\nL 120.304365 72.764532 \r\nL 121.176467 44.712703 \r\nL 122.048569 52.282289 \r\nL 122.920671 95.83166 \r\nL 123.792773 46.002442 \r\nL 124.664875 41.230636 \r\nL 125.536977 47.68594 \r\nL 126.40908 127.213218 \r\nL 127.281182 72.709599 \r\nL 128.153284 89.933508 \r\nL 129.025386 113.694276 \r\nL 129.897488 39.138972 \r\nL 130.76959 47.558626 \r\nL 131.641692 67.881902 \r\nL 132.513794 44.641162 \r\nL 133.385896 56.619497 \r\nL 134.257999 54.957464 \r\nL 135.130101 31.83149 \r\nL 136.002203 39.165161 \r\nL 136.874305 54.056402 \r\nL 137.746407 49.478035 \r\nL 138.618509 65.602461 \r\nL 139.490611 52.464641 \r\nL 140.362713 60.628284 \r\nL 141.234815 66.456352 \r\nL 142.106917 66.553489 \r\nL 142.97902 68.88401 \r\nL 143.851122 45.717224 \r\nL 144.723224 53.253311 \r\nL 145.595326 58.05483 \r\nL 146.467428 52.341261 \r\nL 147.33953 58.590311 \r\nL 148.211632 94.407969 \r\nL 149.083734 45.560199 \r\nL 149.955836 39.759826 \r\nL 150.827939 71.667789 \r\nL 151.700041 43.370416 \r\nL 152.572143 38.481029 \r\nL 153.444245 113.2398 \r\nL 154.316347 44.273673 \r\nL 155.188449 50.914589 \r\nL 156.060551 42.518556 \r\nL 156.932653 83.475196 \r\nL 158.676858 104.477121 \r\nL 159.54896 90.417482 \r\nL 160.421062 73.71003 \r\nL 161.293164 62.733481 \r\nL 162.165266 95.899511 \r\nL 163.037368 59.832592 \r\nL 163.90947 65.963691 \r\nL 164.781572 89.435073 \r\nL 165.653674 67.350921 \r\nL 166.525777 69.628949 \r\nL 167.397879 55.048915 \r\nL 168.269981 64.064504 \r\nL 169.142083 64.030829 \r\nL 170.014185 64.783786 \r\nL 170.886287 53.988539 \r\nL 171.758389 93.282688 \r\nL 172.630491 96.816696 \r\nL 173.502593 66.224488 \r\nL 174.374696 60.265506 \r\nL 175.246798 76.608053 \r\nL 176.1189 78.293479 \r\nL 176.991002 77.835542 \r\nL 177.863104 58.154204 \r\nL 178.735206 63.981638 \r\nL 179.607308 71.23511 \r\nL 180.47941 80.781356 \r\nL 181.351512 125.979395 \r\nL 182.223615 96.347749 \r\nL 183.095717 100.229939 \r\nL 183.967819 73.286294 \r\nL 184.839921 77.568868 \r\nL 185.712023 123.840475 \r\nL 187.456227 74.897373 \r\nL 188.328329 106.104041 \r\nL 189.200431 113.518032 \r\nL 190.072534 111.657012 \r\nL 190.944636 86.083325 \r\nL 191.816738 51.716712 \r\nL 192.68884 98.071615 \r\nL 193.560942 57.96872 \r\nL 194.433044 76.059445 \r\nL 195.305146 66.374411 \r\nL 196.177248 120.976415 \r\nL 197.04935 98.81178 \r\nL 197.921453 65.436483 \r\nL 198.793555 58.151883 \r\nL 199.665657 66.416274 \r\nL 200.537759 85.302691 \r\nL 201.409861 109.395384 \r\nL 202.281963 63.456929 \r\nL 203.154065 87.992344 \r\nL 204.026167 81.088446 \r\nL 204.898269 117.412246 \r\nL 205.770372 76.861927 \r\nL 206.642474 79.138331 \r\nL 207.514576 77.839898 \r\nL 208.386678 74.560509 \r\nL 209.25878 73.410869 \r\nL 210.130882 94.934116 \r\nL 211.002984 110.948143 \r\nL 211.875086 150.730141 \r\nL 212.747188 56.918182 \r\nL 213.619291 64.062175 \r\nL 214.491393 67.863002 \r\nL 215.363495 75.205118 \r\nL 216.235597 85.309321 \r\nL 217.107699 76.890516 \r\nL 217.979801 61.283327 \r\nL 218.851903 65.34529 \r\nL 219.724005 58.503627 \r\nL 220.596107 86.853556 \r\nL 221.468209 73.149052 \r\nL 222.340312 56.770043 \r\nL 223.212414 65.804703 \r\nL 224.084516 68.995067 \r\nL 224.956618 56.770043 \r\nL 225.82872 66.164905 \r\nL 226.700822 70.457317 \r\nL 227.572924 60.242809 \r\nL 228.445026 59.454949 \r\nL 229.317128 67.008614 \r\nL 230.189231 128.375584 \r\nL 231.061333 85.008837 \r\nL 231.933435 59.980613 \r\nL 232.805537 81.756524 \r\nL 233.677639 66.168129 \r\nL 234.549741 136.725784 \r\nL 235.421843 55.272411 \r\nL 236.293945 113.607659 \r\nL 237.166047 66.421695 \r\nL 238.03815 52.102166 \r\nL 238.910252 75.729082 \r\nL 239.782354 76.575373 \r\nL 240.654456 68.152811 \r\nL 241.526558 66.593746 \r\nL 242.39866 55.364432 \r\nL 243.270762 65.75253 \r\nL 244.142864 81.408231 \r\nL 245.014966 57.519355 \r\nL 245.887069 73.761608 \r\nL 246.759171 79.49461 \r\nL 247.631273 74.798013 \r\nL 248.503375 149.293445 \r\nL 249.375477 78.514494 \r\nL 250.247579 89.708044 \r\nL 251.119681 94.138862 \r\nL 251.991783 93.830423 \r\nL 252.863885 77.485553 \r\nL 253.735988 74.032893 \r\nL 254.60809 178.2579 \r\nL 255.480192 62.144046 \r\nL 256.352294 85.90186 \r\nL 257.224396 114.958693 \r\nL 258.096498 77.382843 \r\nL 258.9686 82.277659 \r\nL 259.840702 83.546241 \r\nL 260.712804 91.487252 \r\nL 261.584907 66.164905 \r\nL 262.457009 71.113302 \r\nL 263.329111 88.429597 \r\nL 264.201213 54.902198 \r\nL 265.073315 96.717256 \r\nL 265.945417 94.991607 \r\nL 266.817519 83.665088 \r\nL 267.689621 121.578243 \r\nL 268.561723 65.285944 \r\nL 269.433826 98.20448 \r\nL 270.305928 63.670854 \r\nL 271.17803 68.995067 \r\nL 272.050132 67.172378 \r\nL 272.922234 103.429146 \r\nL 273.794336 64.874718 \r\nL 274.666438 75.085762 \r\nL 275.53854 91.991822 \r\nL 276.410642 51.476411 \r\nL 277.282745 55.118025 \r\nL 278.154847 61.239794 \r\nL 279.026949 62.325236 \r\nL 279.899051 129.892195 \r\nL 280.771153 78.679763 \r\nL 281.643255 92.904488 \r\nL 282.515357 67.953785 \r\nL 283.387459 66.421695 \r\nL 284.259561 63.965582 \r\nL 285.131664 74.844068 \r\nL 286.003766 73.085078 \r\nL 286.875868 92.949756 \r\nL 287.74797 58.802748 \r\nL 288.620072 65.587302 \r\nL 289.492174 122.054147 \r\nL 290.364276 75.404452 \r\nL 291.236378 104.089074 \r\nL 292.10848 61.907678 \r\nL 292.980583 82.517285 \r\nL 293.852685 57.027259 \r\nL 294.724787 50.422589 \r\nL 295.596889 65.499648 \r\nL 296.468991 61.652499 \r\nL 297.341093 125.221977 \r\nL 298.213195 76.684528 \r\nL 299.085297 69.258053 \r\nL 299.957399 80.640257 \r\nL 300.829501 65.598873 \r\nL 301.701604 66.369369 \r\nL 302.573706 118.778457 \r\nL 303.445808 60.59386 \r\nL 304.31791 69.461433 \r\nL 305.190012 70.380729 \r\nL 306.062114 63.003407 \r\nL 306.934216 88.433755 \r\nL 307.806318 121.871292 \r\nL 308.67842 61.987614 \r\nL 309.550523 70.463315 \r\nL 310.422625 196.2343 \r\nL 311.294727 80.241811 \r\nL 312.166829 84.557588 \r\nL 313.038931 67.733518 \r\nL 313.911033 57.745909 \r\nL 314.783135 73.0177 \r\nL 315.655237 104.3719 \r\nL 316.527339 62.189126 \r\nL 317.399442 165.042963 \r\nL 318.271544 109.61269 \r\nL 319.143646 65.858009 \r\nL 320.88785 70.66621 \r\nL 321.759952 66.946779 \r\nL 322.632054 67.826217 \r\nL 323.504156 150.122949 \r\nL 324.376258 69.10864 \r\nL 325.248361 67.363431 \r\nL 326.120463 72.185431 \r\nL 326.992565 69.973784 \r\nL 327.864667 85.577949 \r\nL 328.736769 77.45247 \r\nL 329.608871 78.683237 \r\nL 330.480973 84.62998 \r\nL 331.353075 63.557967 \r\nL 332.225177 57.96872 \r\nL 333.09728 57.707849 \r\nL 333.969382 72.387583 \r\nL 334.841484 112.729325 \r\nL 335.713586 102.475556 \r\nL 336.585688 75.921134 \r\nL 337.45779 66.862282 \r\nL 338.329892 61.375787 \r\nL 339.201994 61.591984 \r\nL 340.074096 61.291505 \r\nL 340.946199 52.786992 \r\nL 341.818301 76.081357 \r\nL 342.690403 87.105566 \r\nL 343.562505 72.580698 \r\nL 344.434607 102.463881 \r\nL 345.306709 64.046641 \r\nL 346.178811 83.886589 \r\nL 347.050913 94.842749 \r\nL 347.923015 67.901151 \r\nL 348.795118 58.646834 \r\nL 349.66722 64.960272 \r\nL 350.539322 104.183097 \r\nL 351.411424 69.837323 \r\nL 352.283526 67.030741 \r\nL 353.155628 66.52049 \r\nL 354.02773 61.331509 \r\nL 354.899832 57.259084 \r\nL 355.771934 55.048915 \r\nL 356.644037 64.665287 \r\nL 357.516139 84.62998 \r\nL 358.388241 78.792026 \r\nL 359.260343 77.111651 \r\nL 360.132445 112.820597 \r\nL 361.004547 87.581038 \r\nL 361.876649 70.205205 \r\nL 363.620853 51.984929 \r\nL 364.492956 100.815559 \r\nL 365.365058 59.466231 \r\nL 366.23716 106.097178 \r\nL 367.109262 59.980613 \r\nL 367.981364 65.121429 \r\nL 368.853466 55.889786 \r\nL 369.725568 69.023165 \r\nL 369.725568 69.023165 \r\n\" style=\"fill:none;stroke:#0000ff;stroke-linecap:square;stroke-width:1.5;\"/>\r\n   </g>\r\n   <g id=\"patch_3\">\r\n    <path d=\"M 50.14375 224.64 \r\nL 50.14375 7.2 \r\n\" style=\"fill:none;stroke:#000000;stroke-linecap:square;stroke-linejoin:miter;stroke-width:0.8;\"/>\r\n   </g>\r\n   <g id=\"patch_4\">\r\n    <path d=\"M 384.94375 224.64 \r\nL 384.94375 7.2 \r\n\" style=\"fill:none;stroke:#000000;stroke-linecap:square;stroke-linejoin:miter;stroke-width:0.8;\"/>\r\n   </g>\r\n   <g id=\"patch_5\">\r\n    <path d=\"M 50.14375 224.64 \r\nL 384.94375 224.64 \r\n\" style=\"fill:none;stroke:#000000;stroke-linecap:square;stroke-linejoin:miter;stroke-width:0.8;\"/>\r\n   </g>\r\n   <g id=\"patch_6\">\r\n    <path d=\"M 50.14375 7.2 \r\nL 384.94375 7.2 \r\n\" style=\"fill:none;stroke:#000000;stroke-linecap:square;stroke-linejoin:miter;stroke-width:0.8;\"/>\r\n   </g>\r\n   <g id=\"legend_1\">\r\n    <g id=\"patch_7\">\r\n     <path d=\"M 178.84375 219.64 \r\nL 256.24375 219.64 \r\nQ 258.24375 219.64 258.24375 217.64 \r\nL 258.24375 188.7275 \r\nQ 258.24375 186.7275 256.24375 186.7275 \r\nL 178.84375 186.7275 \r\nQ 176.84375 186.7275 176.84375 188.7275 \r\nL 176.84375 217.64 \r\nQ 176.84375 219.64 178.84375 219.64 \r\nz\r\n\" style=\"fill:#ffffff;opacity:0.8;stroke:#cccccc;stroke-linejoin:miter;\"/>\r\n    </g>\r\n    <g id=\"line2d_17\">\r\n     <path d=\"M 180.84375 194.825938 \r\nL 200.84375 194.825938 \r\n\" style=\"fill:none;stroke:#ff0000;stroke-linecap:square;stroke-width:1.5;\"/>\r\n    </g>\r\n    <g id=\"line2d_18\"/>\r\n    <g id=\"text_17\">\r\n     <!-- train_acc -->\r\n     <defs>\r\n      <path d=\"M 18.3125 70.21875 \r\nL 18.3125 54.6875 \r\nL 36.8125 54.6875 \r\nL 36.8125 47.703125 \r\nL 18.3125 47.703125 \r\nL 18.3125 18.015625 \r\nQ 18.3125 11.328125 20.140625 9.421875 \r\nQ 21.96875 7.515625 27.59375 7.515625 \r\nL 36.8125 7.515625 \r\nL 36.8125 0 \r\nL 27.59375 0 \r\nQ 17.1875 0 13.234375 3.875 \r\nQ 9.28125 7.765625 9.28125 18.015625 \r\nL 9.28125 47.703125 \r\nL 2.6875 47.703125 \r\nL 2.6875 54.6875 \r\nL 9.28125 54.6875 \r\nL 9.28125 70.21875 \r\nz\r\n\" id=\"DejaVuSans-116\"/>\r\n      <path d=\"M 41.109375 46.296875 \r\nQ 39.59375 47.171875 37.8125 47.578125 \r\nQ 36.03125 48 33.890625 48 \r\nQ 26.265625 48 22.1875 43.046875 \r\nQ 18.109375 38.09375 18.109375 28.8125 \r\nL 18.109375 0 \r\nL 9.078125 0 \r\nL 9.078125 54.6875 \r\nL 18.109375 54.6875 \r\nL 18.109375 46.1875 \r\nQ 20.953125 51.171875 25.484375 53.578125 \r\nQ 30.03125 56 36.53125 56 \r\nQ 37.453125 56 38.578125 55.875 \r\nQ 39.703125 55.765625 41.0625 55.515625 \r\nz\r\n\" id=\"DejaVuSans-114\"/>\r\n      <path d=\"M 34.28125 27.484375 \r\nQ 23.390625 27.484375 19.1875 25 \r\nQ 14.984375 22.515625 14.984375 16.5 \r\nQ 14.984375 11.71875 18.140625 8.90625 \r\nQ 21.296875 6.109375 26.703125 6.109375 \r\nQ 34.1875 6.109375 38.703125 11.40625 \r\nQ 43.21875 16.703125 43.21875 25.484375 \r\nL 43.21875 27.484375 \r\nz\r\nM 52.203125 31.203125 \r\nL 52.203125 0 \r\nL 43.21875 0 \r\nL 43.21875 8.296875 \r\nQ 40.140625 3.328125 35.546875 0.953125 \r\nQ 30.953125 -1.421875 24.3125 -1.421875 \r\nQ 15.921875 -1.421875 10.953125 3.296875 \r\nQ 6 8.015625 6 15.921875 \r\nQ 6 25.140625 12.171875 29.828125 \r\nQ 18.359375 34.515625 30.609375 34.515625 \r\nL 43.21875 34.515625 \r\nL 43.21875 35.40625 \r\nQ 43.21875 41.609375 39.140625 45 \r\nQ 35.0625 48.390625 27.6875 48.390625 \r\nQ 23 48.390625 18.546875 47.265625 \r\nQ 14.109375 46.140625 10.015625 43.890625 \r\nL 10.015625 52.203125 \r\nQ 14.9375 54.109375 19.578125 55.046875 \r\nQ 24.21875 56 28.609375 56 \r\nQ 40.484375 56 46.34375 49.84375 \r\nQ 52.203125 43.703125 52.203125 31.203125 \r\nz\r\n\" id=\"DejaVuSans-97\"/>\r\n      <path d=\"M 9.421875 54.6875 \r\nL 18.40625 54.6875 \r\nL 18.40625 0 \r\nL 9.421875 0 \r\nz\r\nM 9.421875 75.984375 \r\nL 18.40625 75.984375 \r\nL 18.40625 64.59375 \r\nL 9.421875 64.59375 \r\nz\r\n\" id=\"DejaVuSans-105\"/>\r\n      <path d=\"M 54.890625 33.015625 \r\nL 54.890625 0 \r\nL 45.90625 0 \r\nL 45.90625 32.71875 \r\nQ 45.90625 40.484375 42.875 44.328125 \r\nQ 39.84375 48.1875 33.796875 48.1875 \r\nQ 26.515625 48.1875 22.3125 43.546875 \r\nQ 18.109375 38.921875 18.109375 30.90625 \r\nL 18.109375 0 \r\nL 9.078125 0 \r\nL 9.078125 54.6875 \r\nL 18.109375 54.6875 \r\nL 18.109375 46.1875 \r\nQ 21.34375 51.125 25.703125 53.5625 \r\nQ 30.078125 56 35.796875 56 \r\nQ 45.21875 56 50.046875 50.171875 \r\nQ 54.890625 44.34375 54.890625 33.015625 \r\nz\r\n\" id=\"DejaVuSans-110\"/>\r\n      <path d=\"M 50.984375 -16.609375 \r\nL 50.984375 -23.578125 \r\nL -0.984375 -23.578125 \r\nL -0.984375 -16.609375 \r\nz\r\n\" id=\"DejaVuSans-95\"/>\r\n     </defs>\r\n     <g transform=\"translate(208.84375 198.325938)scale(0.1 -0.1)\">\r\n      <use xlink:href=\"#DejaVuSans-116\"/>\r\n      <use x=\"39.208984\" xlink:href=\"#DejaVuSans-114\"/>\r\n      <use x=\"80.322266\" xlink:href=\"#DejaVuSans-97\"/>\r\n      <use x=\"141.601562\" xlink:href=\"#DejaVuSans-105\"/>\r\n      <use x=\"169.384766\" xlink:href=\"#DejaVuSans-110\"/>\r\n      <use x=\"232.763672\" xlink:href=\"#DejaVuSans-95\"/>\r\n      <use x=\"282.763672\" xlink:href=\"#DejaVuSans-97\"/>\r\n      <use x=\"344.042969\" xlink:href=\"#DejaVuSans-99\"/>\r\n      <use x=\"399.023438\" xlink:href=\"#DejaVuSans-99\"/>\r\n     </g>\r\n    </g>\r\n    <g id=\"line2d_19\">\r\n     <path d=\"M 180.84375 209.782188 \r\nL 200.84375 209.782188 \r\n\" style=\"fill:none;stroke:#0000ff;stroke-linecap:square;stroke-width:1.5;\"/>\r\n    </g>\r\n    <g id=\"line2d_20\"/>\r\n    <g id=\"text_18\">\r\n     <!-- val_acc -->\r\n     <defs>\r\n      <path d=\"M 2.984375 54.6875 \r\nL 12.5 54.6875 \r\nL 29.59375 8.796875 \r\nL 46.6875 54.6875 \r\nL 56.203125 54.6875 \r\nL 35.6875 0 \r\nL 23.484375 0 \r\nz\r\n\" id=\"DejaVuSans-118\"/>\r\n      <path d=\"M 9.421875 75.984375 \r\nL 18.40625 75.984375 \r\nL 18.40625 0 \r\nL 9.421875 0 \r\nz\r\n\" id=\"DejaVuSans-108\"/>\r\n     </defs>\r\n     <g transform=\"translate(208.84375 213.282188)scale(0.1 -0.1)\">\r\n      <use xlink:href=\"#DejaVuSans-118\"/>\r\n      <use x=\"59.179688\" xlink:href=\"#DejaVuSans-97\"/>\r\n      <use x=\"120.458984\" xlink:href=\"#DejaVuSans-108\"/>\r\n      <use x=\"148.242188\" xlink:href=\"#DejaVuSans-95\"/>\r\n      <use x=\"198.242188\" xlink:href=\"#DejaVuSans-97\"/>\r\n      <use x=\"259.521484\" xlink:href=\"#DejaVuSans-99\"/>\r\n      <use x=\"314.501953\" xlink:href=\"#DejaVuSans-99\"/>\r\n     </g>\r\n    </g>\r\n   </g>\r\n  </g>\r\n </g>\r\n <defs>\r\n  <clipPath id=\"p8ceb49f9c2\">\r\n   <rect height=\"217.44\" width=\"334.8\" x=\"50.14375\" y=\"7.2\"/>\r\n  </clipPath>\r\n </defs>\r\n</svg>\r\n",
      "image/png": "[encoded data removed]"
     },
     "metadata": {
      "needs_background": "light"
     }
    }
   ],
   "source": [
    "train_acc_hist = [calc_acc(mat) for mat in history['train']['conf_mat']]\n",
    "val_acc_hist = [calc_acc(mat) for mat in history['val']['conf_mat']]\n",
    "\n",
    "plt.plot(train_acc_hist, color='red', label='train_acc')\n",
    "plt.plot(val_acc_hist, color='blue', label='val_acc')\n",
    "plt.legend()\n",
    "\n",
    "plt.xlabel('Epochs')\n",
    "plt.ylabel('Loss')\n",
    "\n",
    "plt.savefig(f'./img/modelo_v1_acc_seed_{SEED}.png')\n",
    "\n",
    "plt.show()"
   ]
  },
  {
   "cell_type": "code",
   "execution_count": 24,
   "metadata": {},
   "outputs": [
    {
     "output_type": "stream",
     "name": "stdout",
     "text": "Mejor época de entrenamiento: 104\nMejor época de validación: 80\n"
    }
   ],
   "source": [
    "best_acc_train_epoch = np.argmax(train_acc_hist)\n",
    "best_acc_val_epoch = np.argmax(val_acc_hist)\n",
    "print(f\"Mejor época de entrenamiento: {best_acc_train_epoch}\")\n",
    "print(f\"Mejor época de validación: {best_acc_val_epoch}\")"
   ]
  },
  {
   "cell_type": "code",
   "execution_count": 28,
   "metadata": {},
   "outputs": [
    {
     "output_type": "stream",
     "name": "stdout",
     "text": "Pesos desde pesos_modelos/best_loss_val.npz cargados correctamente\n"
    },
    {
     "output_type": "execute_result",
     "data": {
      "text/plain": "True"
     },
     "metadata": {},
     "execution_count": 28
    }
   ],
   "source": [
    "modelo.cargar_pesos('pesos_modelos/best_loss_val.npz')"
   ]
  },
  {
   "cell_type": "markdown",
   "metadata": {},
   "source": [
    "### Paso 6. Probar desempeño\n",
    "\n",
    "Ejemplificar el reconocimiento de entidades nombradas con 5 sentencias del corpus de evaluación."
   ]
  },
  {
   "cell_type": "code",
   "execution_count": 29,
   "metadata": {},
   "outputs": [
    {
     "output_type": "stream",
     "name": "stdout",
     "text": "================================================================\n           token            pred            real\n----------------------------------------------------------------\n           <BOS>                                \n              He                                \n            told                                \n       reporters                                \n              in                                \n             the                                \n            West            B-ge            B-ge\n            Bank            I-ge            I-ge\n            that                                \n           there                                \n              is                                \n           still                                \n            room                                \n             for                                \n        progress                                \n              in                                \n           <unk>                                \n    negotiations                                \n               .                                \n           <EOS>                                \n================================================================\n\n================================================================\n           token            pred            real\n----------------------------------------------------------------\n           <BOS>                                \n      Venezuelan           B-gpe           B-gpe\n       President           B-gpe           B-per\n           <unk>                           I-per\n          Chavez                           I-per\n             has                                \n       denounced                                \n        Colombia           B-gpe           B-gpe\n              's                                \n         defense                                \n        minister                                \n              as                                \n              an                                \n           <unk>                                \n              to                                \n           peace                                \n             and                                \n               a                                \n           <unk>                                \n              of                                \n             the                                \n          United            B-rg           B-gpe\n          States            I-ge           I-gpe\n               .                                \n           <EOS>                                \n================================================================\n\n================================================================\n           token            pred            real\n----------------------------------------------------------------\n           <BOS>                                \n            They                                \n             say                                \n             the                                \n         company                                \n             has                                \n        produced                                \n            some                                \n          shoddy                                \n            work                                \n             and                                \n         charges                                \n             too                                \n            much                                \n           money                                \n               .                                \n           <EOS>                                \n================================================================\n\n================================================================\n           token            pred            real\n----------------------------------------------------------------\n           <BOS>                                \n           <unk>                           B-gpe\n       officials                                \n             say                                \n         reports                                \n            that                                \n       President           B-gpe           B-per\n           <unk>                           I-per\n       Mwanawasa           I-per           I-per\n             has                                \n            died                                \n             are                                \n           FALSE                                \n               .                                \n           <EOS>                                \n================================================================\n\n================================================================\n           token            pred            real\n----------------------------------------------------------------\n           <BOS>                                \n             Mr.           B-per           B-per\n        Fujimori           I-per           I-per\n               ,                                \n            Peru            B-ge            B-ge\n              's                                \n       hard-line                                \n           <unk>                                \n            from                                \n            1990            B-ge           B-tim\n              to                                \n            2000           B-tim           B-tim\n               ,                                \n             has                                \n          denied                                \n             the                                \n         charges                                \n               ,                                \n         calling                                \n            them                                \n           <unk>                                \n       motivated                                \n               .                                \n           <EOS>                                \n================================================================\n\n================================================================\n           token            pred            real\n----------------------------------------------------------------\n           <BOS>                                \n             The                                \n         killing                                \n         follows                                \n             the                                \n          recent                                \n         murders            B-ge                \n              of                                \n             two                                \n          school                                \n           <unk>                                \n              in                                \n             the                                \n           space                                \n              of                                \n            just                                \n            over                                \n               a                                \n            week                                \n               .                                \n           <EOS>                                \n================================================================\n\n================================================================\n           token            pred            real\n----------------------------------------------------------------\n           <BOS>                                \n             The                                \n           Iraqi           B-gpe           B-gpe\n            army                                \n            said                                \n              it                                \n        captured                                \n             the                                \n           Sunni                            B-rg\n       insurgent                                \n          leader                                \n              in                                \n             the                                \n           Iraqi           B-gpe           B-gpe\n         capital                                \n               ,                                \n         Baghdad            B-ge            B-ge\n               .                                \n           <EOS>                                \n================================================================\n\n================================================================\n           token            pred            real\n----------------------------------------------------------------\n           <BOS>                                \n     Authorities                                \n              in                                \n       Mogadishu            B-ge            B-ge\n            have                                \n             not                                \n           <unk>                                \n               a                                \n          motive                                \n             for                                \n             the                                \n        shooting                                \n               .                                \n           <EOS>                                \n================================================================\n\n================================================================\n           token            pred            real\n----------------------------------------------------------------\n           <BOS>                                \n           <unk>                                \n          troops                                \n              in                                \n            Iraq            B-rg            B-ge\n            have                                \n        captured                                \n               a                                \n       suspected                                \n        al-Qaida            B-rg            B-rg\n       terrorist                                \n          during                                \n               a                                \n            raid                                \n              on                                \n             the                                \n            home                                \n              of                                \n               a                                \n          senior                                \n           Sunni            B-ge            B-ge\n            Arab            B-rg            I-ge\n      politician                                \n               ,                                \n           <unk>                           B-per\n           <unk>                           I-per\n               .                                \n           <EOS>                                \n================================================================\n\n================================================================\n           token            pred            real\n----------------------------------------------------------------\n           <BOS>                                \n          Energy           B-gpe                \n               ,                                \n        security                                \n               ,                                \n         climate                                \n          change                                \n               ,                                \n             the                                \n           World            B-rg            B-rg\n           Trade                            I-rg\n    Organization            B-ge            I-rg\n              's                                \n           <unk>                                \n    negotiations                                \n               ,                                \n             and                                \n      investment                                \n             are                                \n             all                                \n        expected                                \n              to                                \n              be                                \n           among                                \n             the                                \n           major                                \n           <unk>                                \n              in                                \n             the                                \n          annual                                \n          report                                \n              of                                \n             the                                \n            APEC            B-ge            B-rg\n        Business            I-ge            I-rg\n        Advisory            I-rg            I-rg\n         Council           B-gpe            I-rg\n               ,                                \n           known                                \n              as                                \n            ABAC            B-rg            B-rg\n               .                                \n           <EOS>                                \n================================================================\n\n"
    }
   ],
   "source": [
    "for sentence, y in val_Data[:10]: \n",
    "    print('='*64)\n",
    "    pred = modelo.predecir(sentence)\n",
    "    sent_words = [index_to_word[w] for w in sentence] # Input\n",
    "    tags_pred = [index_to_tag[t] for t in pred] # Datos predichos\n",
    "    tags = [index_to_tag[t] for t in y] # Datos reales\n",
    "\n",
    "    print(f\"{'token':>16}{'pred':>16}{'real':>16}\")\n",
    "    print('-'*64)\n",
    "    for x_i, y_hat_i, y_i in zip(sent_words, tags_pred, tags):\n",
    "        print(f\"{x_i:>16}{y_hat_i:>16}{y_i:>16}\")\n",
    "    print('='*64+'\\n')"
   ]
  },
  {
   "cell_type": "code",
   "execution_count": null,
   "metadata": {},
   "outputs": [],
   "source": []
  }
 ],
 "metadata": {
  "language_info": {
   "codemirror_mode": {
    "name": "ipython",
    "version": 3
   },
   "file_extension": ".py",
   "mimetype": "text/x-python",
   "name": "python",
   "nbconvert_exporter": "python",
   "pygments_lexer": "ipython3",
   "version": "3.7.4-final"
  },
  "orig_nbformat": 2,
  "kernelspec": {
   "name": "python3",
   "display_name": "Python 3"
  }
 },
 "nbformat": 4,
 "nbformat_minor": 2
}