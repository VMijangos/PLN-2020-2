{
 "cells": [
  {
   "cell_type": "markdown",
   "metadata": {},
   "source": [
    "# Práctica 3. Reconocimiento de Entidades Nombradas. NER\n",
    "\n",
    "Andrés González Flores\n",
    "\n",
    "Procesamiento de Lenguaje Natural\n",
    "\n",
    "Facultad de Ingeniería, UNAM\n",
    "\n",
    "## Objetivo\n",
    "\n",
    "Realizar un reconocimiento de Entidades Nombradas (NER) a partir de un modelo secuencial y con el corpus ‘ner dataset.csv’ que se proporciona.\n",
    "\n",
    "## Instrucciones\n",
    "\n",
    "Se deberán seguir los siguientes pasos:\n",
    "\n",
    "1. Obtener las sentencias a partir del csv. En este archivo, se indica cada inicio de sentencia con ‘Sentence: n’. Se cuenta con 1000 sentencias que conformarán el corpus de entrenamiento y evaluación.\n",
    "2. Preprocesar los datos.\n",
    "3. Separar los datos en corpus de entrenamiento (70%) y corpus de evaluación (30%).\n",
    "4. Entrenar un modelo secuencial a partir del corpus de entrenamiento. Deberán definirse los hiperparámetros.\n",
    "5. Evaluar el desempeño del sistema a partir del corpus de evaluación y con la métrica de Exactitud (Accuracy).\n",
    "6. Ejemplificar el reconocimiento de entidades nombradas con 5 sentencias del corpus de evaluación."
   ]
  },
  {
   "cell_type": "markdown",
   "metadata": {},
   "source": [
    "## Dessarrollo"
   ]
  },
  {
   "cell_type": "code",
   "execution_count": 1,
   "metadata": {},
   "outputs": [],
   "source": [
    "import csv\n",
    "import numpy as np\n",
    "from collections import Counter, defaultdict\n",
    "from sklearn.model_selection import train_test_split\n",
    "import matplotlib.pyplot as plt\n",
    "from itertools import chain\n",
    "from tqdm.notebook import tqdm as nbtqdm\n",
    "from pprint import pprint"
   ]
  },
  {
   "cell_type": "code",
   "execution_count": 2,
   "metadata": {},
   "outputs": [],
   "source": [
    "# Definición de constantes\n",
    "SEED = 42\n",
    "CORPUS_PATH = './ner_dataset.csv'\n",
    "BOS = '<BOS>'\n",
    "EOS = '<EOS>'\n",
    "UNK = '<unk>'\n",
    "\n",
    "np.random.seed(SEED)"
   ]
  },
  {
   "cell_type": "markdown",
   "metadata": {},
   "source": [
    "### Paso 1. Obtener sentencias.\n"
   ]
  },
  {
   "cell_type": "code",
   "execution_count": 3,
   "metadata": {},
   "outputs": [],
   "source": [
    "with open(CORPUS_PATH, 'r', encoding='utf-8') as f:\n",
    "    reader = csv.reader(f)\n",
    "    csvlist = list(reader)"
   ]
  },
  {
   "cell_type": "code",
   "execution_count": 4,
   "metadata": {},
   "outputs": [],
   "source": [
    "sentences = []\n",
    "sent_i = []\n",
    "for row in csvlist[1:]:\n",
    "    if row[0] is not '':\n",
    "        sentences.append(sent_i)\n",
    "        sent_i = []\n",
    "    sent_i.append((row[1], row[2]))\n",
    "# Mi algoritmo está feo: agrega la primer sentencia vacía y no agrega la última\n",
    "del sentences[0]\n",
    "sentences.append(sent_i)"
   ]
  },
  {
   "cell_type": "code",
   "execution_count": 5,
   "metadata": {},
   "outputs": [
    {
     "output_type": "stream",
     "name": "stdout",
     "text": "Número de oraciones = 1000\n\nEjemplos:\nThousands of demonstrators have marched through London to protest the war in Iraq and demand the withdrawal of British troops from that country .\nFamilies of soldiers killed in the conflict joined the protesters who carried banners with such slogans as \" Bush Number One Terrorist \" and \" Stop the Bombings . \"\nThey marched from the Houses of Parliament to a rally in Hyde Park .\nPolice put the number of marchers at 10000 while organizers claimed it was 1,00,000 .\nThe protest comes on the eve of the annual conference of Britain 's ruling Labor Party in the southern English seaside resort of Brighton .\n"
    }
   ],
   "source": [
    "print(f'Número de oraciones = {len(sentences)}\\n')\n",
    "print('Ejemplos:')\n",
    "print('\\n'.join([' '.join([w for w, tag in sent]) for sent in sentences[:5] ]))"
   ]
  },
  {
   "cell_type": "markdown",
   "metadata": {},
   "source": [
    "### Paso 2. Preprocesamiento"
   ]
  },
  {
   "cell_type": "code",
   "execution_count": 6,
   "metadata": {},
   "outputs": [
    {
     "output_type": "execute_result",
     "data": {
      "text/plain": "[('the', 1111),\n ('.', 995),\n (',', 637),\n ('in', 576),\n ('of', 568),\n ('to', 505),\n ('a', 449),\n ('and', 391),\n ('The', 241),\n (\"'s\", 202)]"
     },
     "metadata": {},
     "execution_count": 6
    }
   ],
   "source": [
    "freq_tokens = Counter([w for w,_ in chain(*sentences)])\n",
    "freq_tokens.most_common(10)"
   ]
  },
  {
   "cell_type": "markdown",
   "metadata": {},
   "source": [
    "Agrego el diccionario de entrada"
   ]
  },
  {
   "cell_type": "code",
   "execution_count": 7,
   "metadata": {},
   "outputs": [
    {
     "output_type": "stream",
     "name": "stdout",
     "text": "[('the', 0),\n ('.', 1),\n (',', 2),\n ('in', 3),\n ('of', 4),\n ('to', 5),\n ('a', 6),\n ('and', 7),\n ('The', 8),\n (\"'s\", 9)]\n"
    }
   ],
   "source": [
    "vocab_in = { \n",
    "    x[0] : i for i, x in enumerate(freq_tokens.most_common())\n",
    "    if freq_tokens[x[0]] > 1\n",
    "}\n",
    "\n",
    "pprint(list(vocab_in.items())[:10])"
   ]
  },
  {
   "cell_type": "markdown",
   "metadata": {},
   "source": [
    "Agrego los identificadores UNK, BOS Y EOS al vocabulario de entrada"
   ]
  },
  {
   "cell_type": "code",
   "execution_count": 8,
   "metadata": {},
   "outputs": [
    {
     "output_type": "stream",
     "name": "stdout",
     "text": "[('collapse', 2102),\n ('Barno', 2103),\n ('reunification', 2104),\n ('Berlin', 2105),\n ('Kohl', 2106),\n ('proud', 2107),\n ('wall', 2108),\n ('<unk>', 2109),\n ('<BOS>', 2110),\n ('<EOS>', 2111)]\n"
    }
   ],
   "source": [
    "vocab_in[UNK] = max(vocab_in.values())+1\n",
    "vocab_in[BOS] = vocab_in[UNK]+1\n",
    "vocab_in[EOS] = vocab_in[BOS]+1\n",
    "\n",
    "pprint(list(vocab_in.items())[-10:])"
   ]
  },
  {
   "cell_type": "markdown",
   "metadata": {},
   "source": [
    "Agrego el vocabulario de salida (las etiquetas)"
   ]
  },
  {
   "cell_type": "code",
   "execution_count": 9,
   "metadata": {},
   "outputs": [
    {
     "output_type": "execute_result",
     "data": {
      "text/plain": "[('', 18843),\n ('B-ge', 583),\n ('B-gpe', 543),\n ('B-rg', 413),\n ('I-per', 400),\n ('B-tim', 358),\n ('B-per', 327),\n ('I-rg', 290),\n ('I-ge', 105),\n ('I-tim', 77),\n ('B-art', 39),\n ('I-gpe', 26),\n ('I-art', 22),\n ('B-eve', 20),\n ('I-eve', 16),\n ('B-nat', 9),\n ('I-nat', 5)]"
     },
     "metadata": {},
     "execution_count": 9
    }
   ],
   "source": [
    "freq_tags = Counter([tag for _,tag in chain(*sentences)])\n",
    "freq_tags.most_common()"
   ]
  },
  {
   "cell_type": "code",
   "execution_count": 10,
   "metadata": {},
   "outputs": [
    {
     "output_type": "stream",
     "name": "stdout",
     "text": "{'': 0,\n 'B-art': 10,\n 'B-eve': 13,\n 'B-ge': 1,\n 'B-gpe': 2,\n 'B-nat': 15,\n 'B-per': 6,\n 'B-rg': 3,\n 'B-tim': 5,\n 'I-art': 12,\n 'I-eve': 14,\n 'I-ge': 8,\n 'I-gpe': 11,\n 'I-nat': 16,\n 'I-per': 4,\n 'I-rg': 7,\n 'I-tim': 9}\n"
    }
   ],
   "source": [
    "vocab_out = {\n",
    "    y[0] : i for i, y in enumerate(freq_tags.most_common())\n",
    "}\n",
    "pprint(vocab_out)"
   ]
  },
  {
   "cell_type": "markdown",
   "metadata": {},
   "source": [
    "Creo los vocabularios inversos"
   ]
  },
  {
   "cell_type": "code",
   "execution_count": 11,
   "metadata": {},
   "outputs": [
    {
     "output_type": "stream",
     "name": "stdout",
     "text": "[(0, 'the'),\n (350, 'parliament'),\n (700, 'measure'),\n (1050, 'claim'),\n (1400, 'flown'),\n (1750, 'burning'),\n (2100, 'Tokar')]\n\n{0: '',\n 1: 'B-ge',\n 2: 'B-gpe',\n 3: 'B-rg',\n 4: 'I-per',\n 5: 'B-tim',\n 6: 'B-per',\n 7: 'I-rg',\n 8: 'I-ge',\n 9: 'I-tim',\n 10: 'B-art',\n 11: 'I-gpe',\n 12: 'I-art',\n 13: 'B-eve',\n 14: 'I-eve',\n 15: 'B-nat',\n 16: 'I-nat'}\n"
    }
   ],
   "source": [
    "vocab_in_inv = {v:k for k,v in vocab_in.items()}\n",
    "pprint(list(vocab_in_inv.items())[::350])\n",
    "print()\n",
    "\n",
    "vocab_out_inv = {v:k for k,v in vocab_out.items()}\n",
    "pprint(vocab_out_inv)"
   ]
  },
  {
   "cell_type": "markdown",
   "metadata": {},
   "source": [
    "Creo un método que devuelve siempre un indice del vocabulario o el identificador UNK"
   ]
  },
  {
   "cell_type": "code",
   "execution_count": 12,
   "metadata": {},
   "outputs": [],
   "source": [
    "def word_safe_vocab_index(w, vocab, ix_UNK):\n",
    "    try:\n",
    "        return vocab[w]\n",
    "    except KeyError:\n",
    "        return ix_UNK"
   ]
  },
  {
   "cell_type": "markdown",
   "metadata": {},
   "source": [
    "Armo el corpus de entrenamiento"
   ]
  },
  {
   "cell_type": "code",
   "execution_count": 22,
   "metadata": {},
   "outputs": [
    {
     "output_type": "stream",
     "name": "stdout",
     "text": "(2110, 0) (904, 0) (4, 0) (905, 0) (14, 0) (906, 0) (243, 0) (244, 1) (5, 0) (298, 0) (0, 0) (127, 0) (3, 0) (53, 1) (7, 0) (1282, 0) (0, 0) (679, 0) (4, 0) (99, 2) (77, 0) (17, 0) (16, 0) (71, 0) (1, 0) (2111, 0)\n\n(2110, 0) (2109, 0) (4, 0) (177, 0) (31, 0) (3, 0) (0, 0) (680, 0) (551, 0) (0, 0) (458, 0) (59, 0) (459, 0) (2109, 0) (18, 0) (245, 0) (1283, 0) (25, 0) (28, 0) (200, 6) (2109, 0) (460, 0) (2109, 0) (28, 0) (7, 0) (28, 0) (2109, 0) (0, 0) (2109, 0) (1, 0) (28, 0) (2111, 0)\n\n(2110, 0) (134, 0) (906, 0) (17, 0) (0, 0) (2109, 0) (4, 0) (2109, 0) (5, 0) (6, 0) (1284, 0) (3, 0) (2109, 1) (2109, 8) (1, 0) (2111, 0)\n\n(2110, 0) (268, 0) (340, 0) (0, 0) (341, 0) (4, 0) (1285, 0) (22, 0) (1286, 0) (135, 0) (1287, 0) (299, 0) (32, 0) (19, 0) (2109, 0) (1, 0) (2111, 0)\n\n(2110, 0) (8, 0) (298, 0) (552, 0) (15, 0) (0, 0) (1288, 0) (4, 0) (0, 0) (387, 0) (553, 0) (4, 0) (554, 1) (9, 0) (907, 0) (461, 3) (462, 7) (3, 0) (0, 0) (128, 0) (2109, 2) (2109, 0) (2109, 0) (4, 0) (2109, 1) (1, 0) (2111, 0)\n"
    }
   ],
   "source": [
    "ix_UNK = vocab_in[UNK]\n",
    "ix_BOS = vocab_in[BOS]\n",
    "ix_EOS = vocab_in[EOS]\n",
    "\n",
    "BOS_append = [(ix_BOS, vocab_out[''])] # BOS y su etiqueta\n",
    "EOS_append = [(ix_EOS, vocab_out[''])] # EOS y su etiqueta\n",
    "\n",
    "corpus = [\n",
    "    BOS_append + [ # Agrego BOS y su etiqueta\n",
    "        # Tupla con el valor del índice de la palabra y el índice de la etiqueta\n",
    "        (\n",
    "            word_safe_vocab_index(w, vocab_in, ix_UNK),\n",
    "            vocab_out[tag]\n",
    "        ) # Fin tupla\n",
    "        for w, tag in sent # Para cada palabra en la sentencia\n",
    "    ] + EOS_append # Fin append\n",
    "    for sent in sentences # Por cada sentencia en la lista de sentencias\n",
    "]\n",
    "# pprint(corpus[:5])\n",
    "print('\\n\\n'.join([' '.join([f'({ix_w}, {ix_tag})' for ix_w, ix_tag in sent]) for sent in corpus[:5] ]))"
   ]
  },
  {
   "cell_type": "markdown",
   "metadata": {},
   "source": [
    "### Paso 3. Separar corpus de entrenamiento y evaluacion"
   ]
  },
  {
   "cell_type": "code",
   "execution_count": 26,
   "metadata": {},
   "outputs": [
    {
     "output_type": "stream",
     "name": "stdout",
     "text": "Ejemlos del corpus de entrenamiento\n[(2110, 0), (8, 0), (330, 2), (878, 0), (11, 0), (1221, 0), (22, 0), (6, 0), (2109, 0), (1994, 0), (2, 0), (2109, 0), (275, 0), (239, 0), (3, 0), (0, 0), (66, 0), (40, 5), (108, 0), (1, 0), (2111, 0)]\n[(2110, 0), (119, 2), (49, 6), (302, 4), (372, 4), (7, 0), (2109, 0), (519, 3), (144, 6), (93, 4), (731, 4), (1484, 4), (64, 5), (699, 0), (0, 0), (98, 2), (54, 0), (9, 0), (2109, 0), (243, 0), (0, 0), (1807, 1), (656, 0), (764, 0), (1, 0), (2111, 0)]\n[(2110, 0), (557, 2), (215, 0), (85, 0), (16, 0), (2045, 0), (17, 0), (0, 0), (115, 3), (247, 7), (1293, 7), (908, 7), (909, 7), (30, 0), (1165, 0), (5, 0), (86, 1), (141, 0), (258, 0), (169, 0), (1, 0), (2111, 0)]\n[(2110, 0), (80, 3), (192, 7), (850, 0), (14, 0), (1709, 0), (961, 0), (188, 0), (892, 2), (41, 0), (92, 0), (0, 0), (1476, 0), (4, 0), (106, 0), (2092, 2), (144, 6), (93, 0), (2109, 6), (2093, 4), (1, 0), (2111, 0)]\n[(2110, 0), (21, 2), (626, 6), (1056, 4), (1516, 4), (4, 0), (0, 0), (1517, 0), (198, 0), (4, 0), (1518, 1), (2, 0), (6, 0), (577, 0), (1057, 0), (2109, 0), (3, 0), (0, 0), (1058, 0), (94, 0), (0, 0), (127, 0), (3, 0), (53, 1), (2, 0), (23, 0), (36, 0), (30, 0), (2109, 0), (34, 0), (2109, 0), (35, 0), (1519, 0), (3, 0), (1520, 5), (1, 0), (2111, 0)]\n\nEjemlos del corpus de evaluacion\n[(2110, 0), (2109, 0), (2, 0), (36, 0), (2109, 0), (0, 0), (1900, 0), (82, 0), (4, 0), (0, 0), (2109, 0), (2, 0), (7, 0), (2109, 0), (112, 0), (0, 0), (1901, 0), (2109, 0), (340, 0), (32, 0), (82, 0), (4, 0), (44, 0), (2109, 0), (27, 0), (1905, 0), (226, 0), (44, 0), (193, 0), (1, 0), (2111, 0)]\n[(2110, 0), (454, 0), (2, 0), (290, 2), (9, 0), (2109, 0), (1800, 6), (2109, 4), (2109, 4), (543, 0), (16, 0), (0, 0), (71, 0), (100, 0), (1801, 0), (142, 0), (2109, 0), (145, 0), (0, 0), (163, 0), (3, 0), (0, 0), (432, 0), (863, 0), (39, 0), (222, 0), (1, 0), (2111, 0)]\n[(2110, 0), (8, 0), (2109, 0), (11, 0), (331, 0), (707, 0), (6, 0), (2109, 0), (952, 0), (3, 0), (295, 1), (34, 0), (36, 0), (19, 0), (516, 0), (66, 0), (56, 0), (15, 0), (448, 0), (157, 0), (1, 0), (2111, 0)]\n[(2110, 0), (775, 0), (2109, 5), (24, 0), (1102, 0), (3, 0), (160, 0), (2109, 0), (1229, 0), (2109, 0), (3, 0), (0, 0), (2109, 0), (587, 0), (1875, 0), (3, 0), (802, 0), (1, 0), (2111, 0)]\n[(2110, 0), (1829, 0), (154, 2), (1662, 0), (1666, 0), (2109, 6), (2109, 4), (12, 0), (33, 0), (2109, 0), (82, 0), (4, 0), (0, 0), (2109, 0), (22, 0), (0, 0), (2109, 13), (2109, 14), (247, 14), (3, 0), (2109, 1), (1, 0), (2111, 0)]\n"
    }
   ],
   "source": [
    "train_corpus, eval_corpus = train_test_split(corpus, test_size=0.3)\n",
    "print(\"Ejemlos del corpus de entrenamiento\")\n",
    "for sent in train_corpus[:5]:\n",
    "    print(sent)\n",
    "print()\n",
    "print(\"Ejemlos del corpus de evaluacion\")\n",
    "for sent in eval_corpus[:5]:\n",
    "    print(sent)"
   ]
  },
  {
   "cell_type": "markdown",
   "metadata": {},
   "source": [
    "### Paso 4. Selección de modelo y entrenamiento\n",
    "\n",
    "Usaré un modelo de red neuronal recurrente con una capa de embedding, una capa oculta de recurrencia, y una capa de salida.\n",
    "\n",
    "La capa de embedding se define como:\n",
    "\n",
    "$$ x = Cs $$\n",
    "\n",
    "$C$ es una matriz de dimensión $d\\times N_{in}$ y $s$ es la representación one hot de la palabra en la secuencia.\n",
    "\n",
    "La capa oculta recurrente:\n",
    "\n",
    "$$ h^{(t)} = \\tanh{(Vh^{(t-1)}+Ux^{(t)}+b)} $$\n",
    "\n",
    "$V$ es una matriz de dimensión $m\\times m$, $U$ una matriz de dimensión $d\\times m $ y $b$ es el vector de bias, de dimensión $m$.\n",
    "\n",
    "Y la capa de salida:\n",
    "\n",
    "$$ y^{(t)} = Softmax(Wh^{(t-1)}+c) $$\n",
    "\n",
    "En donde $W$ es una matriz de dimensión $N_{out} \\times m$\n",
    "\n",
    "Los valores de $d$ y $m$ son hiperparámetros\n"
   ]
  },
  {
   "cell_type": "code",
   "execution_count": 50,
   "metadata": {},
   "outputs": [],
   "source": [
    "class Modelo(object):\n",
    "    def __init__(self, d, m, N_in, N_out):\n",
    "        self.d = d\n",
    "        self.m = m\n",
    "        self.N_in = N_in\n",
    "        self.N_out = N_out\n",
    "\n",
    "    def inicializar_pesos(self):\n",
    "        # Capa de embedding\n",
    "        self.C = np.random.randn(self.d, self.N_in) / np.sqrt(self.N_in)\n",
    "                \n",
    "        # Capa recurrente oculta\n",
    "        self.V = np.random.randn(self.m, self.m) / np.sqrt(self.m)\n",
    "        self.U = np.random.randn(self.d, self.m) / np.sqrt(self.m)\n",
    "        self.b = np.zeros(self.m)\n",
    "\n",
    "        # Capa de salida\n",
    "        self.W = np.random.randn(self.N_out, self.m) / np.sqrt(self.m) \n",
    "        self.c = np.zeros(self.N_out)\n",
    "        \n",
    "        # Los mejores pesos del modelo\n",
    "        self.best_C = self.C        \n",
    "        self.best_V = self.W\n",
    "        self.best_U = self.U\n",
    "        self.best_b = self.b        \n",
    "        self.best_W = self.W\n",
    "        self.best_c = self.c\n",
    "    \n",
    "    def forward(self, secuencia):\n",
    "        \"\"\"Paso hacia adelante de la red. \n",
    "        Recibe como argumento una secuencia de entrada de n elementos, estos elementos\n",
    "        deben ser indices del vocabulario de entrada.\n",
    "        Da como salida $n$ vectores $h$, y $n$ vectores $y$\n",
    "        \"\"\"\n",
    "        # Tamaño de la secuencia de entrada\n",
    "        T = len(secuencia)\n",
    "\n",
    "        # Prealojamiento de salidas por estado de capas oculta y de salida.\n",
    "        h = np.zeros((T+1, self.m)) # Uso un estado adicional para t = -1\n",
    "        y = np.zeros((T, self.N_out))\n",
    "\n",
    "        # Se inicia el vector h[-1] con ceros\n",
    "        h[-1] = np.zeros(self.m)\n",
    "\n",
    "        # Propagación hacia adelante de la secuenca de entrada\n",
    "        for t in range(T):\n",
    "            # Un paso en la capa embedding se reduce a C[:, s]\n",
    "            x_t = self.C[:, secuencia[t]]\n",
    "\n",
    "            # Capa oculta recurrente\n",
    "            Vh = np.dot(self.V, h[t-1])\n",
    "            Ux = np.dot(self.U, x_t)\n",
    "            h[t] = np.tanh(Vh + Ux + self.b) # Salida de capa oculta\n",
    "\n",
    "            # Capa de salida\n",
    "            a = self.W.dot(h[t]) + self.c # Preactivación\n",
    "            exp_a = np.exp(a - a.max()) # Exponencial de la preactivación\n",
    "            y[t] = exp_a/exp_a.sum() # Salida Softmax\n",
    "        \n",
    "        return y, h\n",
    "    \n",
    "    def predecir(self, secuencia):\n",
    "        y, h = self.forward(secuencia)\n",
    "        return np.argmax(y, axis=1)\n",
    "\n",
    "    def backprop(self, i_x, i_y, prob_salida, h_i, lr=0.1):\n",
    "        y_pred = np.argmax(prob_salida) # El índice de la palabra que predijo\n",
    "        \n",
    "        # Backprop\n",
    "        # Copio el arreglo para no modificar pesos de la salida original\n",
    "        d_out = np.array(prob_salida, copy=True) \n",
    "        d_out[i_y] -= 1  # p(w_k | w_i) - y_k\n",
    "        d_h = (1-h_i**2)*np.dot(d_out.T, self.U)\n",
    "        d_c = np.dot(d_h.T, self.W)\n",
    "\n",
    "        # Actualizamos los pesos\n",
    "        self.U -= lr*np.outer(d_out, h_i) \n",
    "        self.c -= lr*d_out\n",
    "        self.W -= lr*np.outer(d_h, self.C[:,i_x]) \n",
    "        self.b -= lr*d_h\n",
    "        self.C[:, i_x] -= lr*d_c # Las demás filas no nos interesan, porque son 0\n",
    "    \n",
    "    def entrenar(self, epochs=50, lr=[]):\n",
    "        entr_timeline = [] # Entropía a través de las épocas\n",
    "        min_entr = np.inf\n",
    "        for epoch in nbtqdm(range(epochs)):\n",
    "            np.random.shuffle(bigramas)\n",
    "            cross_entropy = 0\n",
    "            for bigrama in self.bigramas:\n",
    "                i_x = bigrama[0] # El índice de la primer palabra del bigrama\n",
    "                i_y = bigrama[1] # El índice de la segunda palabra del bigrama\n",
    "                # print(f'  Bigrama: {inv_vocab[i_x]} {inv_vocab[i_y]}')\n",
    "                prob_salida, h_i = self.forward(i_x)\n",
    "                # print(f'  Predicción: {inv_vocab[i_x]} {inv_vocab[np.argmax(prob_salida)]}')\n",
    "                self.backprop(i_x, i_y, prob_salida, h_i, lr[epoch])\n",
    "                cross_entropy -= np.log(prob_salida[i_y])\n",
    "                        \n",
    "            # Si la entropua actual es mejor que la menor...\n",
    "            if cross_entropy < min_entr:\n",
    "                min_entr = cross_entropy  # ponemos la actual\n",
    "                # y movemos los mejores pesos\n",
    "                self.best_C = self.C\n",
    "                self.best_W = self.W\n",
    "                self.best_b = self.b\n",
    "                self.best_U = self.U\n",
    "                self.best_c = self.c\n",
    "                \n",
    "            entr_timeline.append(cross_entropy)    \n",
    "            tqdm.write(f'Epoch: {epoch+1} \\tEntropía cruzada: {cross_entropy}')\n",
    "        return entr_timeline\n",
    "    \n",
    "    def cargar_mejores_pesos(self):\n",
    "        self.C = self.best_C\n",
    "        self.W = self.best_W\n",
    "        self.b = self.best_b\n",
    "        self.U = self.best_U\n",
    "        self.c = self.best_c\n",
    "    \n",
    "    def guardar_pesos(self, archivo):\n",
    "        \"\"\"Guarda los pesos del modelo en formato .npz\n",
    "        \"\"\"\n",
    "        try:\n",
    "            np.savez(\n",
    "                archivo, \n",
    "                C = self.C, \n",
    "                W = self.W, \n",
    "                b = self.b, \n",
    "                U = self.U, \n",
    "                c = self.c\n",
    "            )\n",
    "            print(f'Archivo {archivo} guardado satisfactoriamente')\n",
    "            return True\n",
    "        except Exception as e:\n",
    "            print('Ocurrió un error al guardar el archivo')\n",
    "            print(e)\n",
    "            return False\n",
    "    \n",
    "    def cargar_pesos(self, archivo):\n",
    "        \"\"\"Carga los pesos del modelo guardados en un archivo formato .npz\n",
    "        \"\"\"\n",
    "        try:\n",
    "            pesos = np.load(archivo)\n",
    "            self.C = pesos['C']\n",
    "            self.W = pesos['W']\n",
    "            self.b = pesos['b']\n",
    "            self.U = pesos['U']\n",
    "            self.c = pesos['c']\n",
    "            print(f'Pesos desde {archivo} cargados correctamente')\n",
    "            return True\n",
    "        except Exception as e:\n",
    "            print('Ocurrió un error al guardar el archivo')\n",
    "            print(e)\n",
    "            return False\n",
    "        "
   ]
  },
  {
   "cell_type": "code",
   "execution_count": 51,
   "metadata": {},
   "outputs": [],
   "source": [
    "dim_in = len(vocab_in.keys())\n",
    "dim_out = len(vocab_out.keys())\n",
    "\n",
    "dim_m = 30\n",
    "dim_d = 100"
   ]
  },
  {
   "cell_type": "code",
   "execution_count": 52,
   "metadata": {},
   "outputs": [],
   "source": [
    "modelo = Modelo(d = dim_d, m=dim_m, N_in = dim_in, N_out = dim_out)\n",
    "modelo.inicializar_pesos()"
   ]
  },
  {
   "cell_type": "code",
   "execution_count": 53,
   "metadata": {},
   "outputs": [
    {
     "output_type": "error",
     "ename": "ValueError",
     "evalue": "shapes (100,30) and (100,2) not aligned: 30 (dim 1) != 100 (dim 0)",
     "traceback": [
      "\u001b[1;31m---------------------------------------------------------------------------\u001b[0m",
      "\u001b[1;31mValueError\u001b[0m                                Traceback (most recent call last)",
      "\u001b[1;32m<ipython-input-53-af41c286ef19>\u001b[0m in \u001b[0;36m<module>\u001b[1;34m\u001b[0m\n\u001b[1;32m----> 1\u001b[1;33m \u001b[0mmodelo\u001b[0m\u001b[1;33m.\u001b[0m\u001b[0mforward\u001b[0m\u001b[1;33m(\u001b[0m\u001b[0msecuencia\u001b[0m \u001b[1;33m=\u001b[0m \u001b[0mtrain_corpus\u001b[0m\u001b[1;33m[\u001b[0m\u001b[1;36m0\u001b[0m\u001b[1;33m]\u001b[0m\u001b[1;33m)\u001b[0m\u001b[1;33m\u001b[0m\u001b[1;33m\u001b[0m\u001b[0m\n\u001b[0m",
      "\u001b[1;32m<ipython-input-50-7cfee6876801>\u001b[0m in \u001b[0;36mforward\u001b[1;34m(self, secuencia)\u001b[0m\n\u001b[0;32m     50\u001b[0m             \u001b[1;31m# Capa oculta recurrente\u001b[0m\u001b[1;33m\u001b[0m\u001b[1;33m\u001b[0m\u001b[1;33m\u001b[0m\u001b[0m\n\u001b[0;32m     51\u001b[0m             \u001b[0mVh\u001b[0m \u001b[1;33m=\u001b[0m \u001b[0mnp\u001b[0m\u001b[1;33m.\u001b[0m\u001b[0mdot\u001b[0m\u001b[1;33m(\u001b[0m\u001b[0mself\u001b[0m\u001b[1;33m.\u001b[0m\u001b[0mV\u001b[0m\u001b[1;33m,\u001b[0m \u001b[0mh\u001b[0m\u001b[1;33m[\u001b[0m\u001b[0mt\u001b[0m\u001b[1;33m-\u001b[0m\u001b[1;36m1\u001b[0m\u001b[1;33m]\u001b[0m\u001b[1;33m)\u001b[0m\u001b[1;33m\u001b[0m\u001b[1;33m\u001b[0m\u001b[0m\n\u001b[1;32m---> 52\u001b[1;33m             \u001b[0mUx\u001b[0m \u001b[1;33m=\u001b[0m \u001b[0mnp\u001b[0m\u001b[1;33m.\u001b[0m\u001b[0mdot\u001b[0m\u001b[1;33m(\u001b[0m\u001b[0mself\u001b[0m\u001b[1;33m.\u001b[0m\u001b[0mU\u001b[0m\u001b[1;33m,\u001b[0m \u001b[0mx_t\u001b[0m\u001b[1;33m)\u001b[0m\u001b[1;33m\u001b[0m\u001b[1;33m\u001b[0m\u001b[0m\n\u001b[0m\u001b[0;32m     53\u001b[0m             \u001b[0mh\u001b[0m\u001b[1;33m[\u001b[0m\u001b[0mt\u001b[0m\u001b[1;33m]\u001b[0m \u001b[1;33m=\u001b[0m \u001b[0mnp\u001b[0m\u001b[1;33m.\u001b[0m\u001b[0mtanh\u001b[0m\u001b[1;33m(\u001b[0m\u001b[0mVh\u001b[0m \u001b[1;33m+\u001b[0m \u001b[0mUx\u001b[0m \u001b[1;33m+\u001b[0m \u001b[0mself\u001b[0m\u001b[1;33m.\u001b[0m\u001b[0mb\u001b[0m\u001b[1;33m)\u001b[0m \u001b[1;31m# Salida de capa oculta\u001b[0m\u001b[1;33m\u001b[0m\u001b[1;33m\u001b[0m\u001b[0m\n\u001b[0;32m     54\u001b[0m \u001b[1;33m\u001b[0m\u001b[0m\n",
      "\u001b[1;32m<__array_function__ internals>\u001b[0m in \u001b[0;36mdot\u001b[1;34m(*args, **kwargs)\u001b[0m\n",
      "\u001b[1;31mValueError\u001b[0m: shapes (100,30) and (100,2) not aligned: 30 (dim 1) != 100 (dim 0)"
     ]
    }
   ],
   "source": [
    "modelo.forward(secuencia = train_corpus[0])"
   ]
  },
  {
   "cell_type": "markdown",
   "metadata": {},
   "source": [
    "\n",
    "5. Evaluar el desempeño del sistema a partir del corpus de evaluación y con la métrica de Exactitud (Accuracy).\n",
    "6. Ejemplificar el reconocimiento de entidades nombradas con 5 sentencias del corpus de evaluación."
   ]
  }
 ],
 "metadata": {
  "language_info": {
   "codemirror_mode": {
    "name": "ipython",
    "version": 3
   },
   "file_extension": ".py",
   "mimetype": "text/x-python",
   "name": "python",
   "nbconvert_exporter": "python",
   "pygments_lexer": "ipython3",
   "version": "3.7.4-final"
  },
  "orig_nbformat": 2,
  "kernelspec": {
   "name": "python3",
   "display_name": "Python 3"
  }
 },
 "nbformat": 4,
 "nbformat_minor": 2
}