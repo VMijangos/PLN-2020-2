{
 "cells": [
  {
   "cell_type": "markdown",
   "metadata": {},
   "source": [
    "# Práctica 3. Reconocimiento de Entidades Nombradas. NER\n",
    "\n",
    "Andrés González Flores\n",
    "\n",
    "Procesamiento de Lenguaje Natural\n",
    "\n",
    "Facultad de Ingeniería, UNAM\n",
    "\n",
    "## Objetivo\n",
    "\n",
    "Realizar un reconocimiento de Entidades Nombradas (NER) a partir de un modelo secuencial y con el corpus ‘ner dataset.csv’ que se proporciona.\n",
    "\n",
    "## Instrucciones\n",
    "\n",
    "Se deberán seguir los siguientes pasos:\n",
    "\n",
    "1. Obtener las sentencias a partir del csv. En este archivo, se indica cada inicio de sentencia con ‘Sentence: n’. Se cuenta con 1000 sentencias que conformarán el corpus de entrenamiento y evaluación.\n",
    "2. Preprocesar los datos.\n",
    "3. Separar los datos en corpus de entrenamiento (70%) y corpus de evaluación (30%).\n",
    "4. Entrenar un modelo secuencial a partir del corpus de entrenamiento. Deberán definirse los hiperparámetros.\n",
    "5. Evaluar el desempeño del sistema a partir del corpus de evaluación y con la métrica de Exactitud (Accuracy).\n",
    "6. Ejemplificar el reconocimiento de entidades nombradas con 5 sentencias del corpus de evaluación."
   ]
  },
  {
   "cell_type": "markdown",
   "metadata": {},
   "source": [
    "## Dessarrollo"
   ]
  },
  {
   "cell_type": "code",
   "execution_count": 1,
   "metadata": {},
   "outputs": [],
   "source": [
    "import csv\n",
    "import numpy as np\n",
    "from collections import Counter\n",
    "from sklearn.model_selection import train_test_split\n",
    "import matplotlib.pyplot as plt\n",
    "import operator\n",
    "from itertools import chain\n",
    "from tqdm.notebook import tqdm\n",
    "from pprint import pprint"
   ]
  },
  {
   "cell_type": "code",
   "execution_count": 2,
   "metadata": {},
   "outputs": [],
   "source": [
    "# Definición de constantes\n",
    "SEED = 42\n",
    "CORPUS_PATH = './ner_dataset.csv'\n",
    "BOS = '<BOS>'\n",
    "EOS = '<EOS>'\n",
    "UNK = '<unk>'\n",
    "\n",
    "np.random.seed(SEED)"
   ]
  },
  {
   "cell_type": "markdown",
   "metadata": {},
   "source": [
    "### Paso 1. Obtener sentencias.\n"
   ]
  },
  {
   "cell_type": "code",
   "execution_count": 3,
   "metadata": {},
   "outputs": [],
   "source": [
    "with open(CORPUS_PATH, 'r', encoding='utf-8') as f:\n",
    "    reader = csv.reader(f)\n",
    "    csvlist = list(reader)"
   ]
  },
  {
   "cell_type": "code",
   "execution_count": 4,
   "metadata": {},
   "outputs": [],
   "source": [
    "sentences = []\n",
    "sent_i = []\n",
    "for row in csvlist[1:]:\n",
    "    if row[0] is not '':\n",
    "        sentences.append(sent_i)\n",
    "        sent_i = []\n",
    "    sent_i.append((row[1], row[2]))\n",
    "# Mi algoritmo está feo: agrega la primer sentencia vacía y no agrega la última\n",
    "del sentences[0]\n",
    "sentences.append(sent_i)"
   ]
  },
  {
   "cell_type": "code",
   "execution_count": 5,
   "metadata": {},
   "outputs": [
    {
     "output_type": "stream",
     "name": "stdout",
     "text": "Número de oraciones = 1000\n\nEjemplos:\nThousands of demonstrators have marched through London to protest the war in Iraq and demand the withdrawal of British troops from that country .\nFamilies of soldiers killed in the conflict joined the protesters who carried banners with such slogans as \" Bush Number One Terrorist \" and \" Stop the Bombings . \"\nThey marched from the Houses of Parliament to a rally in Hyde Park .\nPolice put the number of marchers at 10000 while organizers claimed it was 1,00,000 .\nThe protest comes on the eve of the annual conference of Britain 's ruling Labor Party in the southern English seaside resort of Brighton .\n"
    }
   ],
   "source": [
    "print(f'Número de oraciones = {len(sentences)}\\n')\n",
    "print('Ejemplos:')\n",
    "print('\\n'.join([' '.join([w for w, tag in sent]) for sent in sentences[:5] ]))"
   ]
  },
  {
   "cell_type": "markdown",
   "metadata": {},
   "source": [
    "### Paso 2. Preprocesamiento"
   ]
  },
  {
   "cell_type": "code",
   "execution_count": 6,
   "metadata": {},
   "outputs": [
    {
     "output_type": "execute_result",
     "data": {
      "text/plain": "[('the', 1111),\n ('.', 995),\n (',', 637),\n ('in', 576),\n ('of', 568),\n ('to', 505),\n ('a', 449),\n ('and', 391),\n ('The', 241),\n (\"'s\", 202)]"
     },
     "metadata": {},
     "execution_count": 6
    }
   ],
   "source": [
    "freq_tokens = Counter([w for w,_ in chain(*sentences)])\n",
    "freq_tokens.most_common(10)"
   ]
  },
  {
   "cell_type": "markdown",
   "metadata": {},
   "source": [
    "Agrego el diccionario de entrada"
   ]
  },
  {
   "cell_type": "code",
   "execution_count": 7,
   "metadata": {},
   "outputs": [
    {
     "output_type": "stream",
     "name": "stdout",
     "text": "[('the', 0),\n ('.', 1),\n (',', 2),\n ('in', 3),\n ('of', 4),\n ('to', 5),\n ('a', 6),\n ('and', 7),\n ('The', 8),\n (\"'s\", 9)]\n"
    }
   ],
   "source": [
    "word_to_index = { \n",
    "    x[0] : i for i, x in enumerate(freq_tokens.most_common())\n",
    "    if freq_tokens[x[0]] > 1\n",
    "}\n",
    "\n",
    "pprint(list(word_to_index.items())[:10])"
   ]
  },
  {
   "cell_type": "markdown",
   "metadata": {},
   "source": [
    "Agrego los identificadores UNK, BOS Y EOS al vocabulario de entrada"
   ]
  },
  {
   "cell_type": "code",
   "execution_count": 8,
   "metadata": {},
   "outputs": [
    {
     "output_type": "stream",
     "name": "stdout",
     "text": "[('collapse', 2102),\n ('Barno', 2103),\n ('reunification', 2104),\n ('Berlin', 2105),\n ('Kohl', 2106),\n ('proud', 2107),\n ('wall', 2108),\n ('<unk>', 2109),\n ('<BOS>', 2110),\n ('<EOS>', 2111)]\n"
    }
   ],
   "source": [
    "word_to_index[UNK] = max(word_to_index.values())+1\n",
    "word_to_index[BOS] = word_to_index[UNK]+1\n",
    "word_to_index[EOS] = word_to_index[BOS]+1\n",
    "\n",
    "pprint(list(word_to_index.items())[-10:])"
   ]
  },
  {
   "cell_type": "markdown",
   "metadata": {},
   "source": [
    "Agrego el vocabulario de salida (las etiquetas)"
   ]
  },
  {
   "cell_type": "code",
   "execution_count": 9,
   "metadata": {},
   "outputs": [
    {
     "output_type": "execute_result",
     "data": {
      "text/plain": "[('', 18843),\n ('B-ge', 583),\n ('B-gpe', 543),\n ('B-rg', 413),\n ('I-per', 400),\n ('B-tim', 358),\n ('B-per', 327),\n ('I-rg', 290),\n ('I-ge', 105),\n ('I-tim', 77),\n ('B-art', 39),\n ('I-gpe', 26),\n ('I-art', 22),\n ('B-eve', 20),\n ('I-eve', 16),\n ('B-nat', 9),\n ('I-nat', 5)]"
     },
     "metadata": {},
     "execution_count": 9
    }
   ],
   "source": [
    "freq_tags = Counter([tag for _,tag in chain(*sentences)])\n",
    "freq_tags.most_common()"
   ]
  },
  {
   "cell_type": "code",
   "execution_count": 10,
   "metadata": {},
   "outputs": [
    {
     "output_type": "stream",
     "name": "stdout",
     "text": "{'': 0,\n 'B-art': 10,\n 'B-eve': 13,\n 'B-ge': 1,\n 'B-gpe': 2,\n 'B-nat': 15,\n 'B-per': 6,\n 'B-rg': 3,\n 'B-tim': 5,\n 'I-art': 12,\n 'I-eve': 14,\n 'I-ge': 8,\n 'I-gpe': 11,\n 'I-nat': 16,\n 'I-per': 4,\n 'I-rg': 7,\n 'I-tim': 9}\n"
    }
   ],
   "source": [
    "tag_to_index = {\n",
    "    y[0] : i for i, y in enumerate(freq_tags.most_common())\n",
    "}\n",
    "pprint(tag_to_index)"
   ]
  },
  {
   "cell_type": "markdown",
   "metadata": {},
   "source": [
    "Creo los vocabularios inversos"
   ]
  },
  {
   "cell_type": "code",
   "execution_count": 11,
   "metadata": {},
   "outputs": [
    {
     "output_type": "stream",
     "name": "stdout",
     "text": "Tamaño del vocabulario: 2112\nEjemplos de palabras:\nthe, parliament, measure, claim, flown, burning, Tokar\n\nVocabulario de etiquetas:\n(', B-ge, B-gpe, B-rg, I-per, B-tim, B-per, I-rg, I-ge, I-tim, B-art, I-gpe, '\n 'I-art, B-eve, I-eve, B-nat, I-nat')\n"
    }
   ],
   "source": [
    "index_to_word = [w for w in word_to_index.keys()]\n",
    "print(f'Tamaño del vocabulario: {len(index_to_word)}')\n",
    "print('Ejemplos de palabras:')\n",
    "print(', '.join(index_to_word[::350]))\n",
    "print()\n",
    "\n",
    "index_to_tag = [tag for tag in tag_to_index.keys()]\n",
    "print('Vocabulario de etiquetas:')\n",
    "pprint(', '.join(index_to_tag))"
   ]
  },
  {
   "cell_type": "markdown",
   "metadata": {},
   "source": [
    "Creo un método que devuelve siempre un indice del vocabulario o el identificador UNK"
   ]
  },
  {
   "cell_type": "code",
   "execution_count": 12,
   "metadata": {},
   "outputs": [],
   "source": [
    "def word_safe_vocab_index(w, vocab, ix_UNK):\n",
    "    try:\n",
    "        return vocab[w]\n",
    "    except KeyError:\n",
    "        return ix_UNK"
   ]
  },
  {
   "cell_type": "markdown",
   "metadata": {},
   "source": [
    "Armo el corpus de entrenamiento"
   ]
  },
  {
   "cell_type": "code",
   "execution_count": 13,
   "metadata": {},
   "outputs": [
    {
     "output_type": "stream",
     "name": "stdout",
     "text": "(2110, 0) (904, 0) (4, 0) (905, 0) (14, 0) (906, 0) (243, 0) (244, 1) (5, 0) (298, 0) (0, 0) (127, 0) (3, 0) (53, 1) (7, 0) (1282, 0) (0, 0) (679, 0) (4, 0) (99, 2) (77, 0) (17, 0) (16, 0) (71, 0) (1, 0) (2111, 0)\n\n(2110, 0) (2109, 0) (4, 0) (177, 0) (31, 0) (3, 0) (0, 0) (680, 0) (551, 0) (0, 0) (458, 0) (59, 0) (459, 0) (2109, 0) (18, 0) (245, 0) (1283, 0) (25, 0) (28, 0) (200, 6) (2109, 0) (460, 0) (2109, 0) (28, 0) (7, 0) (28, 0) (2109, 0) (0, 0) (2109, 0) (1, 0) (28, 0) (2111, 0)\n\n(2110, 0) (134, 0) (906, 0) (17, 0) (0, 0) (2109, 0) (4, 0) (2109, 0) (5, 0) (6, 0) (1284, 0) (3, 0) (2109, 1) (2109, 8) (1, 0) (2111, 0)\n\n(2110, 0) (268, 0) (340, 0) (0, 0) (341, 0) (4, 0) (1285, 0) (22, 0) (1286, 0) (135, 0) (1287, 0) (299, 0) (32, 0) (19, 0) (2109, 0) (1, 0) (2111, 0)\n\n(2110, 0) (8, 0) (298, 0) (552, 0) (15, 0) (0, 0) (1288, 0) (4, 0) (0, 0) (387, 0) (553, 0) (4, 0) (554, 1) (9, 0) (907, 0) (461, 3) (462, 7) (3, 0) (0, 0) (128, 0) (2109, 2) (2109, 0) (2109, 0) (4, 0) (2109, 1) (1, 0) (2111, 0)\n"
    }
   ],
   "source": [
    "ix_UNK = word_to_index[UNK]\n",
    "ix_BOS = word_to_index[BOS]\n",
    "ix_EOS = word_to_index[EOS]\n",
    "\n",
    "BOS_append = [(ix_BOS, tag_to_index[''])] # BOS y su etiqueta\n",
    "EOS_append = [(ix_EOS, tag_to_index[''])] # EOS y su etiqueta\n",
    "\n",
    "corpus = [\n",
    "    BOS_append + [ # Agrego BOS y su etiqueta\n",
    "        # Tupla con el valor del índice de la palabra y el índice de la etiqueta\n",
    "        (\n",
    "            word_safe_vocab_index(w, word_to_index, ix_UNK),\n",
    "            tag_to_index[tag]\n",
    "        ) # Fin tupla\n",
    "        for w, tag in sent # Para cada palabra en la sentencia\n",
    "    ] + EOS_append # Fin append\n",
    "    for sent in sentences # Por cada sentencia en la lista de sentencias\n",
    "]\n",
    "# pprint(corpus[:5])\n",
    "print('\\n\\n'.join([' '.join([f'({ix_w}, {ix_tag})' for ix_w, ix_tag in sent]) for sent in corpus[:5] ]))"
   ]
  },
  {
   "cell_type": "markdown",
   "metadata": {},
   "source": [
    "### Paso 3. Separar corpus de entrenamiento y evaluacion"
   ]
  },
  {
   "cell_type": "code",
   "execution_count": null,
   "metadata": {},
   "outputs": [],
   "source": [
    "train_corpus, val_corpus = train_test_split(corpus, test_size=0.3, random_state=SEED)\n",
    "print(\"Ejemlos del corpus de entrenamiento\")\n",
    "for sent in train_corpus[:5]:\n",
    "    print(sent)\n",
    "print()\n",
    "print(\"Ejemlos del corpus de validación\")\n",
    "for sent in val_corpus[:5]:\n",
    "    print(sent)"
   ]
  },
  {
   "cell_type": "code",
   "execution_count": 16,
   "metadata": {},
   "outputs": [],
   "source": [
    "train_Data = [list(zip(*sent)) for sent in train_corpus]\n",
    "val_Data = [list(zip(*sent)) for sent in val_corpus]"
   ]
  },
  {
   "cell_type": "markdown",
   "metadata": {},
   "source": [
    "### Paso 4. Selección de modelo y entrenamiento\n",
    "\n",
    "Usaré un modelo de red neuronal recurrente con una capa de embedding, una capa oculta de recurrencia, y una capa de salida.\n",
    "\n",
    "La capa de embedding se define como:\n",
    "\n",
    "$$ x = Cs $$\n",
    "\n",
    "$C$ es una matriz de dimensión $d\\times N_{in}$ y $s$ es la representación one hot de la palabra en la secuencia.\n",
    "\n",
    "La capa oculta recurrente:\n",
    "\n",
    "$$ h^{(t)} = \\tanh{(Vh^{(t-1)}+Ux^{(t)})} $$\n",
    "\n",
    "$V$ es una matriz de dimensión $m\\times m$, $U$ una matriz de dimensión $d\\times m $.\n",
    "\n",
    "Y la capa de salida:\n",
    "\n",
    "$$ y^{(t)} = Softmax(Wh^{(t-1)}+c) $$\n",
    "\n",
    "En donde $W$ es una matriz de dimensión $N_{out} \\times m$\n",
    "\n",
    "Los valores de $d$ y $m$ son hiperparámetros\n",
    "\n",
    "#### Función de Riesgo\n",
    "\n",
    "La función de riesgo será la entroía cruzada:\n",
    "\n",
    "$$ R(y, \\hat{y}) = -\\frac1N \\sum_{i=0}^Ny\\log\\hat{y_i} $$"
   ]
  },
  {
   "cell_type": "markdown",
   "metadata": {},
   "source": [
    "Defino los hiperparámetros del modelo"
   ]
  },
  {
   "cell_type": "code",
   "execution_count": 27,
   "metadata": {},
   "outputs": [
    {
     "output_type": "stream",
     "name": "stdout",
     "text": "Dimensión de entrada: 2112\nDimensión de salida: 17\nDimensión de capa de embedding: 32\nDimensión de capa oculta: 16\n"
    }
   ],
   "source": [
    "dim_in = len(index_to_word)\n",
    "dim_d = 32 # Embedding\n",
    "dim_m = 16 # Celda recurrente\n",
    "dim_out = len(tag_to_index)\n",
    "\n",
    "print(f'Dimensión de entrada: {dim_in}')\n",
    "print(f'Dimensión de salida: {dim_out}')\n",
    "print(f'Dimensión de capa de embedding: {dim_d}')\n",
    "print(f'Dimensión de capa oculta: {dim_m}')"
   ]
  },
  {
   "cell_type": "markdown",
   "metadata": {},
   "source": [
    "Defino la clase del modelo de red recurrente"
   ]
  },
  {
   "cell_type": "code",
   "execution_count": 31,
   "metadata": {},
   "outputs": [],
   "source": [
    "class Modelo(object):\n",
    "    def __init__(self, d, m, N_in, N_out):\n",
    "        self.d = d # DImensión de capa de embedding\n",
    "        self.m = m # Dimensión de capa oculta\n",
    "        self.N_in = N_in # Dimensión de entrada\n",
    "        self.N_out = N_out # Dimensión de salida\n",
    "\n",
    "    def inicializar_pesos(self):\n",
    "        # Capa de embedding\n",
    "        self.C = np.random.randn(self.d, self.N_in) / np.sqrt(self.N_in)\n",
    "                \n",
    "        # Capa recurrente oculta\n",
    "        self.V = np.random.randn(self.m, self.m) / np.sqrt(self.m)\n",
    "        self.U = np.random.randn(self.m, self.d) / np.sqrt(self.d)\n",
    "\n",
    "        # Capa de salida\n",
    "        self.W = np.random.randn(self.N_out, self.m) / np.sqrt(self.m) \n",
    "        self.c = np.zeros(self.N_out)\n",
    "        \n",
    "        # Los mejores pesos del modelo\n",
    "        self.best_C = self.C        \n",
    "        self.best_V = self.W\n",
    "        self.best_U = self.U\n",
    "        self.best_W = self.W\n",
    "        self.best_c = self.c\n",
    "    \n",
    "    def forward(self, secuencia):\n",
    "        \"\"\"Paso hacia adelante de la red. \n",
    "        Recibe como argumento una secuencia de entrada de n elementos, estos elementos\n",
    "        deben ser indices del vocabulario de entrada.\n",
    "        Da como salida $n$ vectores $h$, y $n$ vectores $y$\n",
    "        \"\"\"\n",
    "        # Tamaño de la secuencia de entrada\n",
    "        T = len(secuencia)\n",
    "\n",
    "        # Prealojamiento de salidas por estado de capas oculta y de salida.\n",
    "        h = np.zeros((T+1, self.m)) # Uso un estado adicional para t = -1\n",
    "        # Se inicia el vector h[-1] con ceros\n",
    "        h[-1] = np.zeros(self.m)\n",
    "\n",
    "        y = np.zeros((T, self.N_out))\n",
    "        x_emb = np.zeros((T, self.d))\n",
    "\n",
    "\n",
    "        # Propagación hacia adelante de la secuenca de entrada\n",
    "        for t in range(T):\n",
    "            # Un paso en la capa embedding se reduce a C[:, s]\n",
    "            x_emb[t] = self.C[:, secuencia[t]]\n",
    "\n",
    "            # Capa oculta recurrente\n",
    "            Vh = self.V.dot(h[t-1])\n",
    "            Ux = self.U.dot(x_emb[t])\n",
    "            h[t] = np.tanh(Vh + Ux) # Salida de capa oculta\n",
    "\n",
    "            # Capa de salida\n",
    "            a = self.W.dot(h[t]) + self.c # Preactivación\n",
    "            exp_a = np.exp(a - a.max()) # Exponencial de la preactivación\n",
    "            y[t] = exp_a/exp_a.sum() # Salida Softmax        \n",
    "        return y, h, x_emb\n",
    "    \n",
    "    def predecir(self, secuencia):\n",
    "        y_hat, _, _ = self.forward(secuencia)\n",
    "        return np.argmax(y_hat, axis=1)\n",
    "\n",
    "    def backprop(self, x, y, fw_out):\n",
    "        \"\"\"Algoritmo de backpropagation. \n",
    "        x es una secuencia de T elementos. \n",
    "        y es una secuencia de T elementos. \n",
    "        fw_out es una tupla de tres elementros (out, h, x_emb). Contiene\n",
    "        la salida de la red, la salida de la capa oculta y la salida de la\n",
    "        capa de embedding.\n",
    "        \"\"\"\n",
    "        T = len(y) # Número de entidades en la secuencia\n",
    "        # output, h, x_emb = self.forward(x)\n",
    "        output, h, x_emb = fw_out\n",
    "        \n",
    "        # Derivadas respecto a las matrices U, V, W, C y el vector c\n",
    "        dLdU = np.zeros_like(self.U)\n",
    "        dLdV = np.zeros_like(self.V)\n",
    "\n",
    "        dLdW = np.zeros_like(self.W)\n",
    "        dLdc = np.zeros_like(self.c)\n",
    "        \n",
    "        dLdC = np.zeros_like(self.C)\n",
    "\n",
    "        # Backprop\n",
    "        # Copio el arreglo para no modificar pesos de la salida original\n",
    "        d_out = np.array(output, copy=True) \n",
    "        # Modifico todos los arreglos en el tiempo\n",
    "        # En cada indice contenido en y, le resto 1\n",
    "        d_out[np.arange(len(y)), y] -= 1  # p(Tag_k | w_i) - y_k\n",
    "        \n",
    "        # Backprop a través del tiempo\n",
    "        for t in np.arange(T-1,-1,-1): # Desde T hasta 0\n",
    "            # Derivada de la capa de salida\n",
    "            dLdW += np.outer(d_out[t], h[t].T)\n",
    "            dLdc += d_out[t]\n",
    "\n",
    "            # Variable de celda recurrente\n",
    "            d_h = self.W.T.dot(d_out[t])*(1-h[t]**2)\n",
    "\n",
    "            # Variable de la capa de embedding\n",
    "            d_emb = self.U.T.dot(d_h)            \n",
    "            \n",
    "            # Truncamos la propagación a 4 palabras anteriores a la actual\n",
    "            for step in np.arange(max(0, t-4), t+1)[::-1]:\n",
    "                # Derivadas de capa recurrente\n",
    "                dLdV += np.outer(d_h, h[step-1])\n",
    "                dLdU += np.outer(d_h, x_emb[step])\n",
    "\n",
    "                dLdC[:, x[step]] += d_emb\n",
    "\n",
    "                # Actualizamos variable de celda recurrente\n",
    "                d_h = self.V.T.dot(d_h) * (1-h[step-1]**2)\n",
    "\n",
    "                # Actualizamos variable de embedding\n",
    "                d_emb = self.U.T.dot(d_h)\n",
    "\n",
    "        return dLdC, dLdU, dLdV, dLdW, dLdc\n",
    "\n",
    "    def gradiente_descendente(self, gradientes, lr=0.01):\n",
    "        \"\"\"Método que da un paso en el gradiente descendiente, actualizando los pesos.\n",
    "        Recibe una tupla con los valores de los gradientes  (dLdC, dLdU, dLdV, dLdW, dLdc)\n",
    "        \"\"\"\n",
    "        # Desenvolver gradientes\n",
    "        dLdC, dLdU, dLdV, dLdW, dLdc = gradientes\n",
    "        \n",
    "        # Actualizamos los pesos\n",
    "        # Capa de salida\n",
    "        self.W -= lr*dLdW\n",
    "        self.c -= lr*dLdc\n",
    "        # Capa recurrente oculta\n",
    "        self.V -= lr*dLdV\n",
    "        self.U -= lr*dLdU\n",
    "        # Capa de embredding\n",
    "        self.C -= lr*dLdC # Las demás filas no nos interesan, porque son 0\n",
    "\n",
    "    def calc_acc(self, conf_mat):\n",
    "        return np.diag(conf_mat).sum()/conf_mat.sum()\n",
    "        \n",
    "    def entrenar(self, train_Data, val_Data, epochs=50, lr=0.1, mostrar_res_cada = 5):\n",
    "        # Historial para guardar las métricas\n",
    "        history = { \n",
    "            k : {\n",
    "                'loss' : np.zeros(epochs),\n",
    "                'conf_mat' : np.zeros((epochs, self.N_out, self.N_out)),\n",
    "            }\n",
    "            for k in ['train', 'val']\n",
    "        }\n",
    "        min_train_loss = np.inf\n",
    "        min_val_loss = np.inf\n",
    "\n",
    "        for epoch in tqdm(np.arange(epochs)):\n",
    "\n",
    "            # TRAIN\n",
    "            train_loss = 0\n",
    "            train_len = len(train_Data)\n",
    "            train_conf_mat = np.zeros((self.N_out, self.N_out))\n",
    "            np.random.shuffle(train_Data)\n",
    "            for x, y in train_Data:\n",
    "                # FORWARD\n",
    "                len_seq = len(y)\n",
    "                fw_out = self.forward(x)\n",
    "\n",
    "                y_hat = fw_out[0]\n",
    "                # La probabilidad de la \"y\" verdadera\n",
    "                y_hat_n = y_hat[np.arange(len(y)), y]\n",
    "                # RIESGO\n",
    "                train_loss -= np.sum(np.log(y_hat_n))/len_seq\n",
    "\n",
    "                # Matriz de confusión\n",
    "                y_pred = np.argmax(y_hat, axis=1)\n",
    "                train_conf_mat[y, y_pred] += 1 # Sumo uno en las intersecciones\n",
    "                \n",
    "                # BACKPROP\n",
    "                grads = self.backprop(x, y, fw_out)\n",
    "                self.gradiente_descendente(grads, lr)\n",
    "            \n",
    "            train_loss /= train_len\n",
    "\n",
    "            if train_loss < min_train_loss:\n",
    "                min_train_loss = train_loss\n",
    "                self.guardar_pesos('pesos_modelos/best_loss_train.npz')\n",
    "\n",
    "            history['train']['conf_mat'][epoch,:,:] = train_conf_mat\n",
    "            history['train']['loss'][epoch] = train_loss\n",
    "\n",
    "            # VALIDATION\n",
    "            val_loss = 0\n",
    "            val_len = len(val_Data)\n",
    "            val_conf_mat = np.zeros((self.N_out, self.N_out))\n",
    "            np.random.shuffle(val_Data)\n",
    "            for x, y in val_Data:\n",
    "                # FORWARD\n",
    "                len_seq = len(y)\n",
    "                fw_out = self.forward(x)\n",
    "\n",
    "                y_hat = fw_out[0]\n",
    "                # La probabilidad de la \"y\" verdadera\n",
    "                y_hat_n = y_hat[np.arange(len(y)), y]\n",
    "                # RIESGO\n",
    "                val_loss -= np.sum(np.log(y_hat_n))/len_seq\n",
    "\n",
    "                # Matriz de confusión\n",
    "                y_pred = np.argmax(y_hat, axis=1)\n",
    "                val_conf_mat[y, y_pred] += 1 # Sumo uno en las intersecciones\n",
    "            val_loss /= val_len\n",
    "\n",
    "            if val_loss < min_val_loss:\n",
    "                min_val_loss = val_loss\n",
    "                self.guardar_pesos('pesos_modelos/best_loss_val.npz')\n",
    "\n",
    "            history['val']['conf_mat'][epoch,:,:] = val_conf_mat\n",
    "            history['val']['loss'][epoch] = val_loss\n",
    "\n",
    "            if epoch % mostrar_res_cada == 0:\n",
    "                train_acc = self.calc_acc(train_conf_mat)\n",
    "                val_acc = self.calc_acc(val_conf_mat)\n",
    "                tqdm.write(\n",
    "                    f'Epoch {epoch+1:3}.' +\n",
    "                    f'\\tloss: {train_loss:2.5f}\\tacc: {train_acc:2.5f}'+\n",
    "                    f'\\tval_loss: {val_loss:2.5f}\\tval_acc: {val_acc:2.5f}')\n",
    "\n",
    "        return history\n",
    "    \n",
    "    def cargar_mejores_pesos(self):\n",
    "        self.C = self.best_C\n",
    "        self.U = self.best_U\n",
    "        self.V = self.best_V\n",
    "        self.W = self.best_W\n",
    "        self.c = self.best_c\n",
    "    \n",
    "    def guardar_pesos(self, archivo):\n",
    "        \"\"\"Guarda los pesos del modelo en formato .npz\n",
    "        \"\"\"\n",
    "        try:\n",
    "            np.savez(\n",
    "                archivo, \n",
    "                C = self.C, \n",
    "                U = self.U, \n",
    "                b = self.V, \n",
    "                W = self.W, \n",
    "                c = self.c\n",
    "            )\n",
    "            # print(f'Archivo {archivo} guardado satisfactoriamente')\n",
    "            return True\n",
    "        except Exception as e:\n",
    "            print('Ocurrió un error al guardar el archivo')\n",
    "            print(e)\n",
    "            return False\n",
    "    \n",
    "    def cargar_pesos(self, archivo):\n",
    "        \"\"\"Carga los pesos del modelo guardados en un archivo formato .npz\n",
    "        \"\"\"\n",
    "        try:\n",
    "            pesos = np.load(archivo)\n",
    "            self.C = pesos['C']\n",
    "            self.U = pesos['U']\n",
    "            self.b = pesos['V']\n",
    "            self.W = pesos['W']\n",
    "            self.c = pesos['c']\n",
    "            print(f'Pesos desde {archivo} cargados correctamente')\n",
    "            return True\n",
    "        except Exception as e:\n",
    "            print('Ocurrió un error al guardar el archivo')\n",
    "            print(e)\n",
    "            return False\n",
    "        "
   ]
  },
  {
   "cell_type": "markdown",
   "metadata": {},
   "source": [
    "#### Instancio el modelo"
   ]
  },
  {
   "cell_type": "code",
   "execution_count": 32,
   "metadata": {},
   "outputs": [],
   "source": [
    "modelo = Modelo(d = dim_d, m=dim_m, N_in = dim_in, N_out = dim_out)\n",
    "modelo.inicializar_pesos()"
   ]
  },
  {
   "cell_type": "markdown",
   "metadata": {},
   "source": [
    "Comienzo el entrenamiento"
   ]
  },
  {
   "cell_type": "code",
   "execution_count": 33,
   "metadata": {},
   "outputs": [
    {
     "output_type": "display_data",
     "data": {
      "text/plain": "HBox(children=(FloatProgress(value=0.0, max=200.0), HTML(value='')))",
      "application/vnd.jupyter.widget-view+json": {
       "version_major": 2,
       "version_minor": 0,
       "model_id": "7c6045ee222f48219ba7542f9a72cbbf"
      }
     },
     "metadata": {}
    },
    {
     "output_type": "stream",
     "name": "stdout",
     "text": "Epoch   1.\tloss: 0.85722\tacc: 0.27424\tval_loss: 0.77744\tval_acc: 0.25862\nEpoch  21.\tloss: 0.85922\tacc: 0.29935\tval_loss: 0.66708\tval_acc: 0.32884\nEpoch  41.\tloss: 0.83885\tacc: 0.32229\tval_loss: 1.19089\tval_acc: 0.22376\nEpoch  61.\tloss: 0.71597\tacc: 0.34969\tval_loss: 0.57348\tval_acc: 0.33226\nEpoch  81.\tloss: 0.61114\tacc: 0.35764\tval_loss: 0.75827\tval_acc: 0.31898\nEpoch 101.\tloss: 0.56592\tacc: 0.37691\tval_loss: 0.57963\tval_acc: 0.39008\nEpoch 121.\tloss: 0.57799\tacc: 0.39864\tval_loss: 0.64475\tval_acc: 0.36587\nEpoch 141.\tloss: 0.54695\tacc: 0.40843\tval_loss: 0.52890\tval_acc: 0.41492\nEpoch 161.\tloss: 0.52951\tacc: 0.43402\tval_loss: 0.53403\tval_acc: 0.43387\nEpoch 181.\tloss: 0.51569\tacc: 0.44049\tval_loss: 0.60235\tval_acc: 0.41359\n\nWall time: 13min 31s\n"
    }
   ],
   "source": [
    "%%time  \n",
    "history = modelo.entrenar(train_Data, val_Data, epochs=200, lr=0.1, mostrar_res_cada=20)"
   ]
  },
  {
   "cell_type": "code",
   "execution_count": 35,
   "metadata": {},
   "outputs": [
    {
     "output_type": "display_data",
     "data": {
      "text/plain": "<Figure size 432x288 with 1 Axes>",
      "image/svg+xml": "<?xml version=\"1.0\" encoding=\"utf-8\" standalone=\"no\"?>\r\n<!DOCTYPE svg PUBLIC \"-//W3C//DTD SVG 1.1//EN\"\r\n  \"http://www.w3.org/Graphics/SVG/1.1/DTD/svg11.dtd\">\r\n<!-- Created with matplotlib (https://matplotlib.org/) -->\r\n<svg height=\"262.19625pt\" version=\"1.1\" viewBox=\"0 0 376.240625 262.19625\" width=\"376.240625pt\" xmlns=\"http://www.w3.org/2000/svg\" xmlns:xlink=\"http://www.w3.org/1999/xlink\">\r\n <defs>\r\n  <style type=\"text/css\">\r\n*{stroke-linecap:butt;stroke-linejoin:round;}\r\n  </style>\r\n </defs>\r\n <g id=\"figure_1\">\r\n  <g id=\"patch_1\">\r\n   <path d=\"M 0 262.19625 \r\nL 376.240625 262.19625 \r\nL 376.240625 0 \r\nL 0 0 \r\nz\r\n\" style=\"fill:none;\"/>\r\n  </g>\r\n  <g id=\"axes_1\">\r\n   <g id=\"patch_2\">\r\n    <path d=\"M 34.240625 224.64 \r\nL 369.040625 224.64 \r\nL 369.040625 7.2 \r\nL 34.240625 7.2 \r\nz\r\n\" style=\"fill:#ffffff;\"/>\r\n   </g>\r\n   <g id=\"matplotlib.axis_1\">\r\n    <g id=\"xtick_1\">\r\n     <g id=\"line2d_1\">\r\n      <defs>\r\n       <path d=\"M 0 0 \r\nL 0 3.5 \r\n\" id=\"med6a9d1692\" style=\"stroke:#000000;stroke-width:0.8;\"/>\r\n      </defs>\r\n      <g>\r\n       <use style=\"stroke:#000000;stroke-width:0.8;\" x=\"49.458807\" xlink:href=\"#med6a9d1692\" y=\"224.64\"/>\r\n      </g>\r\n     </g>\r\n     <g id=\"text_1\">\r\n      <!-- 0 -->\r\n      <defs>\r\n       <path d=\"M 31.78125 66.40625 \r\nQ 24.171875 66.40625 20.328125 58.90625 \r\nQ 16.5 51.421875 16.5 36.375 \r\nQ 16.5 21.390625 20.328125 13.890625 \r\nQ 24.171875 6.390625 31.78125 6.390625 \r\nQ 39.453125 6.390625 43.28125 13.890625 \r\nQ 47.125 21.390625 47.125 36.375 \r\nQ 47.125 51.421875 43.28125 58.90625 \r\nQ 39.453125 66.40625 31.78125 66.40625 \r\nz\r\nM 31.78125 74.21875 \r\nQ 44.046875 74.21875 50.515625 64.515625 \r\nQ 56.984375 54.828125 56.984375 36.375 \r\nQ 56.984375 17.96875 50.515625 8.265625 \r\nQ 44.046875 -1.421875 31.78125 -1.421875 \r\nQ 19.53125 -1.421875 13.0625 8.265625 \r\nQ 6.59375 17.96875 6.59375 36.375 \r\nQ 6.59375 54.828125 13.0625 64.515625 \r\nQ 19.53125 74.21875 31.78125 74.21875 \r\nz\r\n\" id=\"DejaVuSans-48\"/>\r\n      </defs>\r\n      <g transform=\"translate(46.277557 239.238437)scale(0.1 -0.1)\">\r\n       <use xlink:href=\"#DejaVuSans-48\"/>\r\n      </g>\r\n     </g>\r\n    </g>\r\n    <g id=\"xtick_2\">\r\n     <g id=\"line2d_2\">\r\n      <g>\r\n       <use style=\"stroke:#000000;stroke-width:0.8;\" x=\"87.695445\" xlink:href=\"#med6a9d1692\" y=\"224.64\"/>\r\n      </g>\r\n     </g>\r\n     <g id=\"text_2\">\r\n      <!-- 25 -->\r\n      <defs>\r\n       <path d=\"M 19.1875 8.296875 \r\nL 53.609375 8.296875 \r\nL 53.609375 0 \r\nL 7.328125 0 \r\nL 7.328125 8.296875 \r\nQ 12.9375 14.109375 22.625 23.890625 \r\nQ 32.328125 33.6875 34.8125 36.53125 \r\nQ 39.546875 41.84375 41.421875 45.53125 \r\nQ 43.3125 49.21875 43.3125 52.78125 \r\nQ 43.3125 58.59375 39.234375 62.25 \r\nQ 35.15625 65.921875 28.609375 65.921875 \r\nQ 23.96875 65.921875 18.8125 64.3125 \r\nQ 13.671875 62.703125 7.8125 59.421875 \r\nL 7.8125 69.390625 \r\nQ 13.765625 71.78125 18.9375 73 \r\nQ 24.125 74.21875 28.421875 74.21875 \r\nQ 39.75 74.21875 46.484375 68.546875 \r\nQ 53.21875 62.890625 53.21875 53.421875 \r\nQ 53.21875 48.921875 51.53125 44.890625 \r\nQ 49.859375 40.875 45.40625 35.40625 \r\nQ 44.1875 33.984375 37.640625 27.21875 \r\nQ 31.109375 20.453125 19.1875 8.296875 \r\nz\r\n\" id=\"DejaVuSans-50\"/>\r\n       <path d=\"M 10.796875 72.90625 \r\nL 49.515625 72.90625 \r\nL 49.515625 64.59375 \r\nL 19.828125 64.59375 \r\nL 19.828125 46.734375 \r\nQ 21.96875 47.46875 24.109375 47.828125 \r\nQ 26.265625 48.1875 28.421875 48.1875 \r\nQ 40.625 48.1875 47.75 41.5 \r\nQ 54.890625 34.8125 54.890625 23.390625 \r\nQ 54.890625 11.625 47.5625 5.09375 \r\nQ 40.234375 -1.421875 26.90625 -1.421875 \r\nQ 22.3125 -1.421875 17.546875 -0.640625 \r\nQ 12.796875 0.140625 7.71875 1.703125 \r\nL 7.71875 11.625 \r\nQ 12.109375 9.234375 16.796875 8.0625 \r\nQ 21.484375 6.890625 26.703125 6.890625 \r\nQ 35.15625 6.890625 40.078125 11.328125 \r\nQ 45.015625 15.765625 45.015625 23.390625 \r\nQ 45.015625 31 40.078125 35.4375 \r\nQ 35.15625 39.890625 26.703125 39.890625 \r\nQ 22.75 39.890625 18.8125 39.015625 \r\nQ 14.890625 38.140625 10.796875 36.28125 \r\nz\r\n\" id=\"DejaVuSans-53\"/>\r\n      </defs>\r\n      <g transform=\"translate(81.332945 239.238437)scale(0.1 -0.1)\">\r\n       <use xlink:href=\"#DejaVuSans-50\"/>\r\n       <use x=\"63.623047\" xlink:href=\"#DejaVuSans-53\"/>\r\n      </g>\r\n     </g>\r\n    </g>\r\n    <g id=\"xtick_3\">\r\n     <g id=\"line2d_3\">\r\n      <g>\r\n       <use style=\"stroke:#000000;stroke-width:0.8;\" x=\"125.932082\" xlink:href=\"#med6a9d1692\" y=\"224.64\"/>\r\n      </g>\r\n     </g>\r\n     <g id=\"text_3\">\r\n      <!-- 50 -->\r\n      <g transform=\"translate(119.569582 239.238437)scale(0.1 -0.1)\">\r\n       <use xlink:href=\"#DejaVuSans-53\"/>\r\n       <use x=\"63.623047\" xlink:href=\"#DejaVuSans-48\"/>\r\n      </g>\r\n     </g>\r\n    </g>\r\n    <g id=\"xtick_4\">\r\n     <g id=\"line2d_4\">\r\n      <g>\r\n       <use style=\"stroke:#000000;stroke-width:0.8;\" x=\"164.16872\" xlink:href=\"#med6a9d1692\" y=\"224.64\"/>\r\n      </g>\r\n     </g>\r\n     <g id=\"text_4\">\r\n      <!-- 75 -->\r\n      <defs>\r\n       <path d=\"M 8.203125 72.90625 \r\nL 55.078125 72.90625 \r\nL 55.078125 68.703125 \r\nL 28.609375 0 \r\nL 18.3125 0 \r\nL 43.21875 64.59375 \r\nL 8.203125 64.59375 \r\nz\r\n\" id=\"DejaVuSans-55\"/>\r\n      </defs>\r\n      <g transform=\"translate(157.80622 239.238437)scale(0.1 -0.1)\">\r\n       <use xlink:href=\"#DejaVuSans-55\"/>\r\n       <use x=\"63.623047\" xlink:href=\"#DejaVuSans-53\"/>\r\n      </g>\r\n     </g>\r\n    </g>\r\n    <g id=\"xtick_5\">\r\n     <g id=\"line2d_5\">\r\n      <g>\r\n       <use style=\"stroke:#000000;stroke-width:0.8;\" x=\"202.405358\" xlink:href=\"#med6a9d1692\" y=\"224.64\"/>\r\n      </g>\r\n     </g>\r\n     <g id=\"text_5\">\r\n      <!-- 100 -->\r\n      <defs>\r\n       <path d=\"M 12.40625 8.296875 \r\nL 28.515625 8.296875 \r\nL 28.515625 63.921875 \r\nL 10.984375 60.40625 \r\nL 10.984375 69.390625 \r\nL 28.421875 72.90625 \r\nL 38.28125 72.90625 \r\nL 38.28125 8.296875 \r\nL 54.390625 8.296875 \r\nL 54.390625 0 \r\nL 12.40625 0 \r\nz\r\n\" id=\"DejaVuSans-49\"/>\r\n      </defs>\r\n      <g transform=\"translate(192.861608 239.238437)scale(0.1 -0.1)\">\r\n       <use xlink:href=\"#DejaVuSans-49\"/>\r\n       <use x=\"63.623047\" xlink:href=\"#DejaVuSans-48\"/>\r\n       <use x=\"127.246094\" xlink:href=\"#DejaVuSans-48\"/>\r\n      </g>\r\n     </g>\r\n    </g>\r\n    <g id=\"xtick_6\">\r\n     <g id=\"line2d_6\">\r\n      <g>\r\n       <use style=\"stroke:#000000;stroke-width:0.8;\" x=\"240.641995\" xlink:href=\"#med6a9d1692\" y=\"224.64\"/>\r\n      </g>\r\n     </g>\r\n     <g id=\"text_6\">\r\n      <!-- 125 -->\r\n      <g transform=\"translate(231.098245 239.238437)scale(0.1 -0.1)\">\r\n       <use xlink:href=\"#DejaVuSans-49\"/>\r\n       <use x=\"63.623047\" xlink:href=\"#DejaVuSans-50\"/>\r\n       <use x=\"127.246094\" xlink:href=\"#DejaVuSans-53\"/>\r\n      </g>\r\n     </g>\r\n    </g>\r\n    <g id=\"xtick_7\">\r\n     <g id=\"line2d_7\">\r\n      <g>\r\n       <use style=\"stroke:#000000;stroke-width:0.8;\" x=\"278.878633\" xlink:href=\"#med6a9d1692\" y=\"224.64\"/>\r\n      </g>\r\n     </g>\r\n     <g id=\"text_7\">\r\n      <!-- 150 -->\r\n      <g transform=\"translate(269.334883 239.238437)scale(0.1 -0.1)\">\r\n       <use xlink:href=\"#DejaVuSans-49\"/>\r\n       <use x=\"63.623047\" xlink:href=\"#DejaVuSans-53\"/>\r\n       <use x=\"127.246094\" xlink:href=\"#DejaVuSans-48\"/>\r\n      </g>\r\n     </g>\r\n    </g>\r\n    <g id=\"xtick_8\">\r\n     <g id=\"line2d_8\">\r\n      <g>\r\n       <use style=\"stroke:#000000;stroke-width:0.8;\" x=\"317.115271\" xlink:href=\"#med6a9d1692\" y=\"224.64\"/>\r\n      </g>\r\n     </g>\r\n     <g id=\"text_8\">\r\n      <!-- 175 -->\r\n      <g transform=\"translate(307.571521 239.238437)scale(0.1 -0.1)\">\r\n       <use xlink:href=\"#DejaVuSans-49\"/>\r\n       <use x=\"63.623047\" xlink:href=\"#DejaVuSans-55\"/>\r\n       <use x=\"127.246094\" xlink:href=\"#DejaVuSans-53\"/>\r\n      </g>\r\n     </g>\r\n    </g>\r\n    <g id=\"xtick_9\">\r\n     <g id=\"line2d_9\">\r\n      <g>\r\n       <use style=\"stroke:#000000;stroke-width:0.8;\" x=\"355.351909\" xlink:href=\"#med6a9d1692\" y=\"224.64\"/>\r\n      </g>\r\n     </g>\r\n     <g id=\"text_9\">\r\n      <!-- 200 -->\r\n      <g transform=\"translate(345.808159 239.238437)scale(0.1 -0.1)\">\r\n       <use xlink:href=\"#DejaVuSans-50\"/>\r\n       <use x=\"63.623047\" xlink:href=\"#DejaVuSans-48\"/>\r\n       <use x=\"127.246094\" xlink:href=\"#DejaVuSans-48\"/>\r\n      </g>\r\n     </g>\r\n    </g>\r\n    <g id=\"text_10\">\r\n     <!-- Epochs -->\r\n     <defs>\r\n      <path d=\"M 9.8125 72.90625 \r\nL 55.90625 72.90625 \r\nL 55.90625 64.59375 \r\nL 19.671875 64.59375 \r\nL 19.671875 43.015625 \r\nL 54.390625 43.015625 \r\nL 54.390625 34.71875 \r\nL 19.671875 34.71875 \r\nL 19.671875 8.296875 \r\nL 56.78125 8.296875 \r\nL 56.78125 0 \r\nL 9.8125 0 \r\nz\r\n\" id=\"DejaVuSans-69\"/>\r\n      <path d=\"M 18.109375 8.203125 \r\nL 18.109375 -20.796875 \r\nL 9.078125 -20.796875 \r\nL 9.078125 54.6875 \r\nL 18.109375 54.6875 \r\nL 18.109375 46.390625 \r\nQ 20.953125 51.265625 25.265625 53.625 \r\nQ 29.59375 56 35.59375 56 \r\nQ 45.5625 56 51.78125 48.09375 \r\nQ 58.015625 40.1875 58.015625 27.296875 \r\nQ 58.015625 14.40625 51.78125 6.484375 \r\nQ 45.5625 -1.421875 35.59375 -1.421875 \r\nQ 29.59375 -1.421875 25.265625 0.953125 \r\nQ 20.953125 3.328125 18.109375 8.203125 \r\nz\r\nM 48.6875 27.296875 \r\nQ 48.6875 37.203125 44.609375 42.84375 \r\nQ 40.53125 48.484375 33.40625 48.484375 \r\nQ 26.265625 48.484375 22.1875 42.84375 \r\nQ 18.109375 37.203125 18.109375 27.296875 \r\nQ 18.109375 17.390625 22.1875 11.75 \r\nQ 26.265625 6.109375 33.40625 6.109375 \r\nQ 40.53125 6.109375 44.609375 11.75 \r\nQ 48.6875 17.390625 48.6875 27.296875 \r\nz\r\n\" id=\"DejaVuSans-112\"/>\r\n      <path d=\"M 30.609375 48.390625 \r\nQ 23.390625 48.390625 19.1875 42.75 \r\nQ 14.984375 37.109375 14.984375 27.296875 \r\nQ 14.984375 17.484375 19.15625 11.84375 \r\nQ 23.34375 6.203125 30.609375 6.203125 \r\nQ 37.796875 6.203125 41.984375 11.859375 \r\nQ 46.1875 17.53125 46.1875 27.296875 \r\nQ 46.1875 37.015625 41.984375 42.703125 \r\nQ 37.796875 48.390625 30.609375 48.390625 \r\nz\r\nM 30.609375 56 \r\nQ 42.328125 56 49.015625 48.375 \r\nQ 55.71875 40.765625 55.71875 27.296875 \r\nQ 55.71875 13.875 49.015625 6.21875 \r\nQ 42.328125 -1.421875 30.609375 -1.421875 \r\nQ 18.84375 -1.421875 12.171875 6.21875 \r\nQ 5.515625 13.875 5.515625 27.296875 \r\nQ 5.515625 40.765625 12.171875 48.375 \r\nQ 18.84375 56 30.609375 56 \r\nz\r\n\" id=\"DejaVuSans-111\"/>\r\n      <path d=\"M 48.78125 52.59375 \r\nL 48.78125 44.1875 \r\nQ 44.96875 46.296875 41.140625 47.34375 \r\nQ 37.3125 48.390625 33.40625 48.390625 \r\nQ 24.65625 48.390625 19.8125 42.84375 \r\nQ 14.984375 37.3125 14.984375 27.296875 \r\nQ 14.984375 17.28125 19.8125 11.734375 \r\nQ 24.65625 6.203125 33.40625 6.203125 \r\nQ 37.3125 6.203125 41.140625 7.25 \r\nQ 44.96875 8.296875 48.78125 10.40625 \r\nL 48.78125 2.09375 \r\nQ 45.015625 0.34375 40.984375 -0.53125 \r\nQ 36.96875 -1.421875 32.421875 -1.421875 \r\nQ 20.0625 -1.421875 12.78125 6.34375 \r\nQ 5.515625 14.109375 5.515625 27.296875 \r\nQ 5.515625 40.671875 12.859375 48.328125 \r\nQ 20.21875 56 33.015625 56 \r\nQ 37.15625 56 41.109375 55.140625 \r\nQ 45.0625 54.296875 48.78125 52.59375 \r\nz\r\n\" id=\"DejaVuSans-99\"/>\r\n      <path d=\"M 54.890625 33.015625 \r\nL 54.890625 0 \r\nL 45.90625 0 \r\nL 45.90625 32.71875 \r\nQ 45.90625 40.484375 42.875 44.328125 \r\nQ 39.84375 48.1875 33.796875 48.1875 \r\nQ 26.515625 48.1875 22.3125 43.546875 \r\nQ 18.109375 38.921875 18.109375 30.90625 \r\nL 18.109375 0 \r\nL 9.078125 0 \r\nL 9.078125 75.984375 \r\nL 18.109375 75.984375 \r\nL 18.109375 46.1875 \r\nQ 21.34375 51.125 25.703125 53.5625 \r\nQ 30.078125 56 35.796875 56 \r\nQ 45.21875 56 50.046875 50.171875 \r\nQ 54.890625 44.34375 54.890625 33.015625 \r\nz\r\n\" id=\"DejaVuSans-104\"/>\r\n      <path d=\"M 44.28125 53.078125 \r\nL 44.28125 44.578125 \r\nQ 40.484375 46.53125 36.375 47.5 \r\nQ 32.28125 48.484375 27.875 48.484375 \r\nQ 21.1875 48.484375 17.84375 46.4375 \r\nQ 14.5 44.390625 14.5 40.28125 \r\nQ 14.5 37.15625 16.890625 35.375 \r\nQ 19.28125 33.59375 26.515625 31.984375 \r\nL 29.59375 31.296875 \r\nQ 39.15625 29.25 43.1875 25.515625 \r\nQ 47.21875 21.78125 47.21875 15.09375 \r\nQ 47.21875 7.46875 41.1875 3.015625 \r\nQ 35.15625 -1.421875 24.609375 -1.421875 \r\nQ 20.21875 -1.421875 15.453125 -0.5625 \r\nQ 10.6875 0.296875 5.421875 2 \r\nL 5.421875 11.28125 \r\nQ 10.40625 8.6875 15.234375 7.390625 \r\nQ 20.0625 6.109375 24.8125 6.109375 \r\nQ 31.15625 6.109375 34.5625 8.28125 \r\nQ 37.984375 10.453125 37.984375 14.40625 \r\nQ 37.984375 18.0625 35.515625 20.015625 \r\nQ 33.0625 21.96875 24.703125 23.78125 \r\nL 21.578125 24.515625 \r\nQ 13.234375 26.265625 9.515625 29.90625 \r\nQ 5.8125 33.546875 5.8125 39.890625 \r\nQ 5.8125 47.609375 11.28125 51.796875 \r\nQ 16.75 56 26.8125 56 \r\nQ 31.78125 56 36.171875 55.265625 \r\nQ 40.578125 54.546875 44.28125 53.078125 \r\nz\r\n\" id=\"DejaVuSans-115\"/>\r\n     </defs>\r\n     <g transform=\"translate(183.725 252.916562)scale(0.1 -0.1)\">\r\n      <use xlink:href=\"#DejaVuSans-69\"/>\r\n      <use x=\"63.183594\" xlink:href=\"#DejaVuSans-112\"/>\r\n      <use x=\"126.660156\" xlink:href=\"#DejaVuSans-111\"/>\r\n      <use x=\"187.841797\" xlink:href=\"#DejaVuSans-99\"/>\r\n      <use x=\"242.822266\" xlink:href=\"#DejaVuSans-104\"/>\r\n      <use x=\"306.201172\" xlink:href=\"#DejaVuSans-115\"/>\r\n     </g>\r\n    </g>\r\n   </g>\r\n   <g id=\"matplotlib.axis_2\">\r\n    <g id=\"ytick_1\">\r\n     <g id=\"line2d_10\">\r\n      <defs>\r\n       <path d=\"M 0 0 \r\nL -3.5 0 \r\n\" id=\"m0a95d1659f\" style=\"stroke:#000000;stroke-width:0.8;\"/>\r\n      </defs>\r\n      <g>\r\n       <use style=\"stroke:#000000;stroke-width:0.8;\" x=\"34.240625\" xlink:href=\"#m0a95d1659f\" y=\"201.643975\"/>\r\n      </g>\r\n     </g>\r\n     <g id=\"text_11\">\r\n      <!-- 1 -->\r\n      <g transform=\"translate(20.878125 205.443194)scale(0.1 -0.1)\">\r\n       <use xlink:href=\"#DejaVuSans-49\"/>\r\n      </g>\r\n     </g>\r\n    </g>\r\n    <g id=\"ytick_2\">\r\n     <g id=\"line2d_11\">\r\n      <g>\r\n       <use style=\"stroke:#000000;stroke-width:0.8;\" x=\"34.240625\" xlink:href=\"#m0a95d1659f\" y=\"176.276432\"/>\r\n      </g>\r\n     </g>\r\n     <g id=\"text_12\">\r\n      <!-- 2 -->\r\n      <g transform=\"translate(20.878125 180.075651)scale(0.1 -0.1)\">\r\n       <use xlink:href=\"#DejaVuSans-50\"/>\r\n      </g>\r\n     </g>\r\n    </g>\r\n    <g id=\"ytick_3\">\r\n     <g id=\"line2d_12\">\r\n      <g>\r\n       <use style=\"stroke:#000000;stroke-width:0.8;\" x=\"34.240625\" xlink:href=\"#m0a95d1659f\" y=\"150.908888\"/>\r\n      </g>\r\n     </g>\r\n     <g id=\"text_13\">\r\n      <!-- 3 -->\r\n      <defs>\r\n       <path d=\"M 40.578125 39.3125 \r\nQ 47.65625 37.796875 51.625 33 \r\nQ 55.609375 28.21875 55.609375 21.1875 \r\nQ 55.609375 10.40625 48.1875 4.484375 \r\nQ 40.765625 -1.421875 27.09375 -1.421875 \r\nQ 22.515625 -1.421875 17.65625 -0.515625 \r\nQ 12.796875 0.390625 7.625 2.203125 \r\nL 7.625 11.71875 \r\nQ 11.71875 9.328125 16.59375 8.109375 \r\nQ 21.484375 6.890625 26.8125 6.890625 \r\nQ 36.078125 6.890625 40.9375 10.546875 \r\nQ 45.796875 14.203125 45.796875 21.1875 \r\nQ 45.796875 27.640625 41.28125 31.265625 \r\nQ 36.765625 34.90625 28.71875 34.90625 \r\nL 20.21875 34.90625 \r\nL 20.21875 43.015625 \r\nL 29.109375 43.015625 \r\nQ 36.375 43.015625 40.234375 45.921875 \r\nQ 44.09375 48.828125 44.09375 54.296875 \r\nQ 44.09375 59.90625 40.109375 62.90625 \r\nQ 36.140625 65.921875 28.71875 65.921875 \r\nQ 24.65625 65.921875 20.015625 65.03125 \r\nQ 15.375 64.15625 9.8125 62.3125 \r\nL 9.8125 71.09375 \r\nQ 15.4375 72.65625 20.34375 73.4375 \r\nQ 25.25 74.21875 29.59375 74.21875 \r\nQ 40.828125 74.21875 47.359375 69.109375 \r\nQ 53.90625 64.015625 53.90625 55.328125 \r\nQ 53.90625 49.265625 50.4375 45.09375 \r\nQ 46.96875 40.921875 40.578125 39.3125 \r\nz\r\n\" id=\"DejaVuSans-51\"/>\r\n      </defs>\r\n      <g transform=\"translate(20.878125 154.708107)scale(0.1 -0.1)\">\r\n       <use xlink:href=\"#DejaVuSans-51\"/>\r\n      </g>\r\n     </g>\r\n    </g>\r\n    <g id=\"ytick_4\">\r\n     <g id=\"line2d_13\">\r\n      <g>\r\n       <use style=\"stroke:#000000;stroke-width:0.8;\" x=\"34.240625\" xlink:href=\"#m0a95d1659f\" y=\"125.541345\"/>\r\n      </g>\r\n     </g>\r\n     <g id=\"text_14\">\r\n      <!-- 4 -->\r\n      <defs>\r\n       <path d=\"M 37.796875 64.3125 \r\nL 12.890625 25.390625 \r\nL 37.796875 25.390625 \r\nz\r\nM 35.203125 72.90625 \r\nL 47.609375 72.90625 \r\nL 47.609375 25.390625 \r\nL 58.015625 25.390625 \r\nL 58.015625 17.1875 \r\nL 47.609375 17.1875 \r\nL 47.609375 0 \r\nL 37.796875 0 \r\nL 37.796875 17.1875 \r\nL 4.890625 17.1875 \r\nL 4.890625 26.703125 \r\nz\r\n\" id=\"DejaVuSans-52\"/>\r\n      </defs>\r\n      <g transform=\"translate(20.878125 129.340563)scale(0.1 -0.1)\">\r\n       <use xlink:href=\"#DejaVuSans-52\"/>\r\n      </g>\r\n     </g>\r\n    </g>\r\n    <g id=\"ytick_5\">\r\n     <g id=\"line2d_14\">\r\n      <g>\r\n       <use style=\"stroke:#000000;stroke-width:0.8;\" x=\"34.240625\" xlink:href=\"#m0a95d1659f\" y=\"100.173801\"/>\r\n      </g>\r\n     </g>\r\n     <g id=\"text_15\">\r\n      <!-- 5 -->\r\n      <g transform=\"translate(20.878125 103.97302)scale(0.1 -0.1)\">\r\n       <use xlink:href=\"#DejaVuSans-53\"/>\r\n      </g>\r\n     </g>\r\n    </g>\r\n    <g id=\"ytick_6\">\r\n     <g id=\"line2d_15\">\r\n      <g>\r\n       <use style=\"stroke:#000000;stroke-width:0.8;\" x=\"34.240625\" xlink:href=\"#m0a95d1659f\" y=\"74.806257\"/>\r\n      </g>\r\n     </g>\r\n     <g id=\"text_16\">\r\n      <!-- 6 -->\r\n      <defs>\r\n       <path d=\"M 33.015625 40.375 \r\nQ 26.375 40.375 22.484375 35.828125 \r\nQ 18.609375 31.296875 18.609375 23.390625 \r\nQ 18.609375 15.53125 22.484375 10.953125 \r\nQ 26.375 6.390625 33.015625 6.390625 \r\nQ 39.65625 6.390625 43.53125 10.953125 \r\nQ 47.40625 15.53125 47.40625 23.390625 \r\nQ 47.40625 31.296875 43.53125 35.828125 \r\nQ 39.65625 40.375 33.015625 40.375 \r\nz\r\nM 52.59375 71.296875 \r\nL 52.59375 62.3125 \r\nQ 48.875 64.0625 45.09375 64.984375 \r\nQ 41.3125 65.921875 37.59375 65.921875 \r\nQ 27.828125 65.921875 22.671875 59.328125 \r\nQ 17.53125 52.734375 16.796875 39.40625 \r\nQ 19.671875 43.65625 24.015625 45.921875 \r\nQ 28.375 48.1875 33.59375 48.1875 \r\nQ 44.578125 48.1875 50.953125 41.515625 \r\nQ 57.328125 34.859375 57.328125 23.390625 \r\nQ 57.328125 12.15625 50.6875 5.359375 \r\nQ 44.046875 -1.421875 33.015625 -1.421875 \r\nQ 20.359375 -1.421875 13.671875 8.265625 \r\nQ 6.984375 17.96875 6.984375 36.375 \r\nQ 6.984375 53.65625 15.1875 63.9375 \r\nQ 23.390625 74.21875 37.203125 74.21875 \r\nQ 40.921875 74.21875 44.703125 73.484375 \r\nQ 48.484375 72.75 52.59375 71.296875 \r\nz\r\n\" id=\"DejaVuSans-54\"/>\r\n      </defs>\r\n      <g transform=\"translate(20.878125 78.605476)scale(0.1 -0.1)\">\r\n       <use xlink:href=\"#DejaVuSans-54\"/>\r\n      </g>\r\n     </g>\r\n    </g>\r\n    <g id=\"ytick_7\">\r\n     <g id=\"line2d_16\">\r\n      <g>\r\n       <use style=\"stroke:#000000;stroke-width:0.8;\" x=\"34.240625\" xlink:href=\"#m0a95d1659f\" y=\"49.438714\"/>\r\n      </g>\r\n     </g>\r\n     <g id=\"text_17\">\r\n      <!-- 7 -->\r\n      <g transform=\"translate(20.878125 53.237932)scale(0.1 -0.1)\">\r\n       <use xlink:href=\"#DejaVuSans-55\"/>\r\n      </g>\r\n     </g>\r\n    </g>\r\n    <g id=\"ytick_8\">\r\n     <g id=\"line2d_17\">\r\n      <g>\r\n       <use style=\"stroke:#000000;stroke-width:0.8;\" x=\"34.240625\" xlink:href=\"#m0a95d1659f\" y=\"24.07117\"/>\r\n      </g>\r\n     </g>\r\n     <g id=\"text_18\">\r\n      <!-- 8 -->\r\n      <defs>\r\n       <path d=\"M 31.78125 34.625 \r\nQ 24.75 34.625 20.71875 30.859375 \r\nQ 16.703125 27.09375 16.703125 20.515625 \r\nQ 16.703125 13.921875 20.71875 10.15625 \r\nQ 24.75 6.390625 31.78125 6.390625 \r\nQ 38.8125 6.390625 42.859375 10.171875 \r\nQ 46.921875 13.96875 46.921875 20.515625 \r\nQ 46.921875 27.09375 42.890625 30.859375 \r\nQ 38.875 34.625 31.78125 34.625 \r\nz\r\nM 21.921875 38.8125 \r\nQ 15.578125 40.375 12.03125 44.71875 \r\nQ 8.5 49.078125 8.5 55.328125 \r\nQ 8.5 64.0625 14.71875 69.140625 \r\nQ 20.953125 74.21875 31.78125 74.21875 \r\nQ 42.671875 74.21875 48.875 69.140625 \r\nQ 55.078125 64.0625 55.078125 55.328125 \r\nQ 55.078125 49.078125 51.53125 44.71875 \r\nQ 48 40.375 41.703125 38.8125 \r\nQ 48.828125 37.15625 52.796875 32.3125 \r\nQ 56.78125 27.484375 56.78125 20.515625 \r\nQ 56.78125 9.90625 50.3125 4.234375 \r\nQ 43.84375 -1.421875 31.78125 -1.421875 \r\nQ 19.734375 -1.421875 13.25 4.234375 \r\nQ 6.78125 9.90625 6.78125 20.515625 \r\nQ 6.78125 27.484375 10.78125 32.3125 \r\nQ 14.796875 37.15625 21.921875 38.8125 \r\nz\r\nM 18.3125 54.390625 \r\nQ 18.3125 48.734375 21.84375 45.5625 \r\nQ 25.390625 42.390625 31.78125 42.390625 \r\nQ 38.140625 42.390625 41.71875 45.5625 \r\nQ 45.3125 48.734375 45.3125 54.390625 \r\nQ 45.3125 60.0625 41.71875 63.234375 \r\nQ 38.140625 66.40625 31.78125 66.40625 \r\nQ 25.390625 66.40625 21.84375 63.234375 \r\nQ 18.3125 60.0625 18.3125 54.390625 \r\nz\r\n\" id=\"DejaVuSans-56\"/>\r\n      </defs>\r\n      <g transform=\"translate(20.878125 27.870389)scale(0.1 -0.1)\">\r\n       <use xlink:href=\"#DejaVuSans-56\"/>\r\n      </g>\r\n     </g>\r\n    </g>\r\n    <g id=\"text_19\">\r\n     <!-- Loss -->\r\n     <defs>\r\n      <path d=\"M 9.8125 72.90625 \r\nL 19.671875 72.90625 \r\nL 19.671875 8.296875 \r\nL 55.171875 8.296875 \r\nL 55.171875 0 \r\nL 9.8125 0 \r\nz\r\n\" id=\"DejaVuSans-76\"/>\r\n     </defs>\r\n     <g transform=\"translate(14.798437 126.973906)rotate(-90)scale(0.1 -0.1)\">\r\n      <use xlink:href=\"#DejaVuSans-76\"/>\r\n      <use x=\"55.697266\" xlink:href=\"#DejaVuSans-111\"/>\r\n      <use x=\"116.878906\" xlink:href=\"#DejaVuSans-115\"/>\r\n      <use x=\"168.978516\" xlink:href=\"#DejaVuSans-115\"/>\r\n     </g>\r\n    </g>\r\n   </g>\r\n   <g id=\"line2d_18\">\r\n    <path clip-path=\"url(#p99065b65df)\" d=\"M 49.458807 205.265861 \r\nL 50.988272 203.390192 \r\nL 52.517738 203.043107 \r\nL 54.047203 203.488931 \r\nL 55.576669 203.102088 \r\nL 57.106134 200.220512 \r\nL 58.6356 201.173314 \r\nL 60.165065 203.835048 \r\nL 61.694531 204.660061 \r\nL 63.223996 203.526364 \r\nL 64.753462 202.031019 \r\nL 66.282927 202.300068 \r\nL 67.812393 200.718561 \r\nL 70.871324 203.635815 \r\nL 72.400789 203.910722 \r\nL 73.930255 203.936101 \r\nL 75.45972 202.937084 \r\nL 76.989186 205.258271 \r\nL 78.518651 205.948688 \r\nL 80.048117 205.215267 \r\nL 81.577583 205.606229 \r\nL 83.107048 204.477011 \r\nL 84.636514 204.795355 \r\nL 86.165979 205.493133 \r\nL 89.22491 206.250372 \r\nL 90.754376 204.258788 \r\nL 92.283841 203.644675 \r\nL 93.813307 203.908775 \r\nL 95.342772 204.028696 \r\nL 96.872238 204.854171 \r\nL 98.401703 204.990154 \r\nL 99.931169 205.645103 \r\nL 101.460634 204.129771 \r\nL 102.9901 204.753494 \r\nL 104.519565 206.144857 \r\nL 106.049031 206.24607 \r\nL 107.578496 206.155539 \r\nL 109.107962 206.448406 \r\nL 110.637427 205.732078 \r\nL 112.166893 205.756595 \r\nL 113.696358 205.42302 \r\nL 115.225824 206.15472 \r\nL 116.755289 206.681481 \r\nL 118.284755 205.79115 \r\nL 121.343686 205.653918 \r\nL 122.873151 207.931729 \r\nL 124.402617 208.525236 \r\nL 125.932082 207.058724 \r\nL 127.461548 207.431772 \r\nL 128.991013 208.40143 \r\nL 130.520479 208.65722 \r\nL 132.049944 208.701154 \r\nL 133.57941 208.128156 \r\nL 135.108875 208.931652 \r\nL 136.638341 208.089925 \r\nL 138.167806 209.379285 \r\nL 139.697272 209.417719 \r\nL 141.226737 208.849188 \r\nL 142.756203 209.110125 \r\nL 144.285668 210.109544 \r\nL 145.815134 210.223289 \r\nL 147.344599 210.771234 \r\nL 148.874065 209.66755 \r\nL 150.40353 209.873206 \r\nL 153.462461 210.645932 \r\nL 154.991927 210.256306 \r\nL 156.521392 210.590281 \r\nL 158.050858 210.216671 \r\nL 159.580323 210.965287 \r\nL 161.109789 210.423462 \r\nL 162.639255 210.585986 \r\nL 165.698186 210.36285 \r\nL 167.227651 210.589226 \r\nL 168.757117 211.498546 \r\nL 171.816048 211.5085 \r\nL 174.874979 210.942919 \r\nL 176.404444 211.568293 \r\nL 177.93391 211.985719 \r\nL 179.463375 211.830017 \r\nL 180.992841 212.032927 \r\nL 182.522306 211.286228 \r\nL 184.051772 211.355013 \r\nL 185.581237 211.029123 \r\nL 187.110703 211.428873 \r\nL 188.640168 211.580704 \r\nL 190.169634 212.377785 \r\nL 193.228565 212.363873 \r\nL 194.75803 212.527819 \r\nL 196.287496 212.193579 \r\nL 197.816961 212.123366 \r\nL 199.346427 212.465384 \r\nL 200.875892 212.160506 \r\nL 202.405358 212.65564 \r\nL 205.464289 212.611551 \r\nL 208.52322 212.003643 \r\nL 210.052685 212.579048 \r\nL 211.582151 212.532114 \r\nL 213.111616 211.802897 \r\nL 216.170547 212.002335 \r\nL 219.229478 212.399761 \r\nL 222.288409 212.153171 \r\nL 223.817875 212.379709 \r\nL 225.34734 212.46637 \r\nL 226.876806 212.191777 \r\nL 228.406271 212.556673 \r\nL 229.935737 212.181496 \r\nL 231.465202 211.960146 \r\nL 236.053599 213.110769 \r\nL 237.583064 212.571125 \r\nL 240.641995 212.673251 \r\nL 242.171461 212.519892 \r\nL 243.700927 212.539568 \r\nL 245.230392 212.781814 \r\nL 246.759858 212.806418 \r\nL 248.289323 212.438289 \r\nL 249.818789 212.752724 \r\nL 251.348254 212.905568 \r\nL 252.87772 212.686136 \r\nL 254.407185 212.675113 \r\nL 255.936651 213.351859 \r\nL 257.466116 212.776528 \r\nL 258.995582 212.560983 \r\nL 260.525047 212.867281 \r\nL 262.054513 213.602297 \r\nL 263.583978 213.136617 \r\nL 265.113444 212.904379 \r\nL 266.642909 213.548701 \r\nL 268.172375 213.33489 \r\nL 271.231306 213.267565 \r\nL 272.760771 213.282716 \r\nL 274.290237 213.618502 \r\nL 275.819702 213.381334 \r\nL 277.349168 213.359688 \r\nL 278.878633 212.945686 \r\nL 280.408099 213.531332 \r\nL 281.937564 213.58345 \r\nL 283.46703 213.416436 \r\nL 286.525961 213.765073 \r\nL 288.055426 213.233533 \r\nL 289.584892 213.228548 \r\nL 291.114357 213.581756 \r\nL 294.173288 213.579141 \r\nL 295.702754 213.598734 \r\nL 297.232219 213.319914 \r\nL 298.761685 213.358563 \r\nL 300.29115 213.262564 \r\nL 301.820616 212.842682 \r\nL 303.350081 213.319474 \r\nL 304.879547 213.356123 \r\nL 306.409012 213.213601 \r\nL 307.938478 213.235556 \r\nL 309.467943 212.895659 \r\nL 310.997409 213.41348 \r\nL 312.526874 213.303084 \r\nL 317.115271 213.707798 \r\nL 318.644736 213.708489 \r\nL 320.174202 213.482137 \r\nL 321.703667 213.507969 \r\nL 324.762599 213.929771 \r\nL 326.292064 213.367406 \r\nL 327.82153 213.842953 \r\nL 330.880461 213.281732 \r\nL 333.939392 213.547656 \r\nL 335.468857 213.735373 \r\nL 336.998323 213.544818 \r\nL 338.527788 213.862721 \r\nL 340.057254 213.431371 \r\nL 343.116185 214.296775 \r\nL 344.64565 214.163199 \r\nL 346.175116 213.699471 \r\nL 350.763512 213.572319 \r\nL 352.292978 213.555137 \r\nL 353.822443 213.92799 \r\nL 353.822443 213.92799 \r\n\" style=\"fill:none;stroke:#ff0000;stroke-linecap:square;stroke-width:1.5;\"/>\r\n   </g>\r\n   <g id=\"line2d_19\">\r\n    <path clip-path=\"url(#p99065b65df)\" d=\"M 49.458807 207.289675 \r\nL 50.988272 206.34872 \r\nL 52.517738 191.919156 \r\nL 54.047203 206.607922 \r\nL 55.576669 187.878337 \r\nL 57.106134 192.402273 \r\nL 58.6356 206.789234 \r\nL 60.165065 193.850057 \r\nL 61.694531 204.801398 \r\nL 63.223996 203.41065 \r\nL 64.753462 206.150195 \r\nL 66.282927 207.158754 \r\nL 67.812393 209.070299 \r\nL 69.341858 209.094505 \r\nL 70.871324 207.308678 \r\nL 72.400789 17.083636 \r\nL 73.930255 209.957501 \r\nL 76.989186 194.013736 \r\nL 78.518651 209.056873 \r\nL 80.048117 210.089361 \r\nL 81.577583 209.194626 \r\nL 83.107048 195.42002 \r\nL 84.636514 207.765741 \r\nL 86.165979 209.416068 \r\nL 87.695445 210.44007 \r\nL 89.22491 199.41595 \r\nL 90.754376 210.947933 \r\nL 92.283841 209.57355 \r\nL 93.813307 208.64748 \r\nL 95.342772 208.614077 \r\nL 96.872238 199.989413 \r\nL 98.401703 209.568665 \r\nL 99.931169 195.789784 \r\nL 101.460634 208.954455 \r\nL 102.9901 170.170454 \r\nL 104.519565 210.858781 \r\nL 106.049031 204.332087 \r\nL 107.578496 211.315606 \r\nL 109.107962 210.62151 \r\nL 110.637427 196.801645 \r\nL 112.166893 184.985847 \r\nL 113.696358 184.653636 \r\nL 115.225824 209.693228 \r\nL 116.755289 167.170893 \r\nL 118.284755 210.052433 \r\nL 119.81422 210.015601 \r\nL 121.343686 209.856603 \r\nL 122.873151 210.617805 \r\nL 124.402617 197.739554 \r\nL 125.932082 204.311583 \r\nL 127.461548 209.975119 \r\nL 130.520479 210.965578 \r\nL 132.049944 210.765434 \r\nL 133.57941 208.088623 \r\nL 135.108875 210.135211 \r\nL 136.638341 210.74051 \r\nL 138.167806 209.999576 \r\nL 139.697272 201.391066 \r\nL 141.226737 212.463761 \r\nL 142.756203 206.542796 \r\nL 144.285668 211.407776 \r\nL 145.815134 212.660148 \r\nL 147.344599 212.128728 \r\nL 148.874065 210.363373 \r\nL 150.40353 212.457892 \r\nL 151.932996 212.542485 \r\nL 153.462461 198.717367 \r\nL 154.991927 212.877467 \r\nL 156.521392 176.405053 \r\nL 158.050858 212.341553 \r\nL 159.580323 212.244964 \r\nL 161.109789 208.745447 \r\nL 162.639255 211.523338 \r\nL 164.16872 212.209409 \r\nL 165.698186 210.594758 \r\nL 167.227651 213.420481 \r\nL 168.757117 211.928149 \r\nL 170.286582 204.222496 \r\nL 171.816048 207.776079 \r\nL 173.345513 212.900078 \r\nL 174.874979 211.78759 \r\nL 176.404444 212.857354 \r\nL 177.93391 211.029246 \r\nL 179.463375 208.631424 \r\nL 180.992841 212.291559 \r\nL 182.522306 213.402023 \r\nL 184.051772 211.958526 \r\nL 185.581237 206.34469 \r\nL 187.110703 211.494509 \r\nL 188.640168 213.563981 \r\nL 191.699099 211.688048 \r\nL 193.228565 210.121241 \r\nL 194.75803 213.406013 \r\nL 196.287496 213.593039 \r\nL 197.816961 212.664271 \r\nL 199.346427 212.86887 \r\nL 200.875892 211.78614 \r\nL 202.405358 212.307673 \r\nL 205.464289 212.069966 \r\nL 206.993754 195.841251 \r\nL 208.52322 209.898294 \r\nL 210.052685 211.523009 \r\nL 211.582151 208.085494 \r\nL 213.111616 211.562815 \r\nL 214.641082 207.166549 \r\nL 216.170547 210.01724 \r\nL 217.700013 213.653772 \r\nL 219.229478 214.206072 \r\nL 220.758944 213.820889 \r\nL 222.288409 185.078184 \r\nL 223.817875 211.30011 \r\nL 225.34734 211.940286 \r\nL 226.876806 212.986449 \r\nL 228.406271 206.27673 \r\nL 229.935737 212.498744 \r\nL 231.465202 212.548119 \r\nL 232.994668 210.655849 \r\nL 234.524133 212.679246 \r\nL 236.053599 211.598417 \r\nL 239.11253 212.053278 \r\nL 240.641995 180.543178 \r\nL 242.171461 214.068556 \r\nL 243.700927 213.304284 \r\nL 245.230392 212.135438 \r\nL 246.759858 211.863247 \r\nL 248.289323 213.99411 \r\nL 249.818789 211.019694 \r\nL 251.348254 214.346854 \r\nL 252.87772 211.273004 \r\nL 254.407185 203.081685 \r\nL 255.936651 212.630824 \r\nL 257.466116 213.578795 \r\nL 258.995582 212.449716 \r\nL 262.054513 213.683298 \r\nL 263.583978 213.59454 \r\nL 265.113444 213.222178 \r\nL 266.642909 212.302882 \r\nL 268.172375 213.683067 \r\nL 269.70184 193.507701 \r\nL 271.231306 214.152031 \r\nL 272.760771 214.52731 \r\nL 274.290237 214.600284 \r\nL 275.819702 214.138876 \r\nL 277.349168 203.127985 \r\nL 278.878633 213.658106 \r\nL 280.408099 213.425686 \r\nL 281.937564 214.638117 \r\nL 283.46703 213.799886 \r\nL 284.996495 214.593553 \r\nL 286.525961 213.104343 \r\nL 288.055426 213.385737 \r\nL 289.584892 214.312441 \r\nL 291.114357 214.06747 \r\nL 292.643823 212.231941 \r\nL 294.173288 213.464471 \r\nL 295.702754 214.194734 \r\nL 297.232219 212.778906 \r\nL 298.761685 214.320908 \r\nL 300.29115 213.386323 \r\nL 301.820616 211.792602 \r\nL 303.350081 195.268284 \r\nL 304.879547 212.074918 \r\nL 306.409012 212.057695 \r\nL 307.938478 213.276003 \r\nL 309.467943 213.726844 \r\nL 310.997409 208.390086 \r\nL 312.526874 212.55088 \r\nL 314.05634 208.436204 \r\nL 315.585805 213.289266 \r\nL 317.115271 213.020137 \r\nL 320.174202 213.672808 \r\nL 321.703667 212.414106 \r\nL 323.233133 213.764635 \r\nL 324.762599 211.731416 \r\nL 326.292064 214.756364 \r\nL 327.82153 214.006635 \r\nL 329.350995 211.855269 \r\nL 330.880461 212.723021 \r\nL 332.409926 213.152889 \r\nL 333.939392 214.092663 \r\nL 335.468857 214.474412 \r\nL 336.998323 214.529488 \r\nL 340.057254 212.083673 \r\nL 341.586719 213.195214 \r\nL 343.116185 209.275337 \r\nL 344.64565 212.803077 \r\nL 347.704581 214.196641 \r\nL 349.234047 213.632461 \r\nL 350.763512 183.045088 \r\nL 352.292978 207.799087 \r\nL 353.822443 213.221605 \r\nL 353.822443 213.221605 \r\n\" style=\"fill:none;stroke:#0000ff;stroke-linecap:square;stroke-width:1.5;\"/>\r\n   </g>\r\n   <g id=\"patch_3\">\r\n    <path d=\"M 34.240625 224.64 \r\nL 34.240625 7.2 \r\n\" style=\"fill:none;stroke:#000000;stroke-linecap:square;stroke-linejoin:miter;stroke-width:0.8;\"/>\r\n   </g>\r\n   <g id=\"patch_4\">\r\n    <path d=\"M 369.040625 224.64 \r\nL 369.040625 7.2 \r\n\" style=\"fill:none;stroke:#000000;stroke-linecap:square;stroke-linejoin:miter;stroke-width:0.8;\"/>\r\n   </g>\r\n   <g id=\"patch_5\">\r\n    <path d=\"M 34.240625 224.64 \r\nL 369.040625 224.64 \r\n\" style=\"fill:none;stroke:#000000;stroke-linecap:square;stroke-linejoin:miter;stroke-width:0.8;\"/>\r\n   </g>\r\n   <g id=\"patch_6\">\r\n    <path d=\"M 34.240625 7.2 \r\nL 369.040625 7.2 \r\n\" style=\"fill:none;stroke:#000000;stroke-linecap:square;stroke-linejoin:miter;stroke-width:0.8;\"/>\r\n   </g>\r\n   <g id=\"legend_1\">\r\n    <g id=\"patch_7\">\r\n     <path d=\"M 282.45 45.1125 \r\nL 362.040625 45.1125 \r\nQ 364.040625 45.1125 364.040625 43.1125 \r\nL 364.040625 14.2 \r\nQ 364.040625 12.2 362.040625 12.2 \r\nL 282.45 12.2 \r\nQ 280.45 12.2 280.45 14.2 \r\nL 280.45 43.1125 \r\nQ 280.45 45.1125 282.45 45.1125 \r\nz\r\n\" style=\"fill:#ffffff;opacity:0.8;stroke:#cccccc;stroke-linejoin:miter;\"/>\r\n    </g>\r\n    <g id=\"line2d_20\">\r\n     <path d=\"M 284.45 20.298437 \r\nL 304.45 20.298437 \r\n\" style=\"fill:none;stroke:#ff0000;stroke-linecap:square;stroke-width:1.5;\"/>\r\n    </g>\r\n    <g id=\"line2d_21\"/>\r\n    <g id=\"text_20\">\r\n     <!-- train_loss -->\r\n     <defs>\r\n      <path d=\"M 18.3125 70.21875 \r\nL 18.3125 54.6875 \r\nL 36.8125 54.6875 \r\nL 36.8125 47.703125 \r\nL 18.3125 47.703125 \r\nL 18.3125 18.015625 \r\nQ 18.3125 11.328125 20.140625 9.421875 \r\nQ 21.96875 7.515625 27.59375 7.515625 \r\nL 36.8125 7.515625 \r\nL 36.8125 0 \r\nL 27.59375 0 \r\nQ 17.1875 0 13.234375 3.875 \r\nQ 9.28125 7.765625 9.28125 18.015625 \r\nL 9.28125 47.703125 \r\nL 2.6875 47.703125 \r\nL 2.6875 54.6875 \r\nL 9.28125 54.6875 \r\nL 9.28125 70.21875 \r\nz\r\n\" id=\"DejaVuSans-116\"/>\r\n      <path d=\"M 41.109375 46.296875 \r\nQ 39.59375 47.171875 37.8125 47.578125 \r\nQ 36.03125 48 33.890625 48 \r\nQ 26.265625 48 22.1875 43.046875 \r\nQ 18.109375 38.09375 18.109375 28.8125 \r\nL 18.109375 0 \r\nL 9.078125 0 \r\nL 9.078125 54.6875 \r\nL 18.109375 54.6875 \r\nL 18.109375 46.1875 \r\nQ 20.953125 51.171875 25.484375 53.578125 \r\nQ 30.03125 56 36.53125 56 \r\nQ 37.453125 56 38.578125 55.875 \r\nQ 39.703125 55.765625 41.0625 55.515625 \r\nz\r\n\" id=\"DejaVuSans-114\"/>\r\n      <path d=\"M 34.28125 27.484375 \r\nQ 23.390625 27.484375 19.1875 25 \r\nQ 14.984375 22.515625 14.984375 16.5 \r\nQ 14.984375 11.71875 18.140625 8.90625 \r\nQ 21.296875 6.109375 26.703125 6.109375 \r\nQ 34.1875 6.109375 38.703125 11.40625 \r\nQ 43.21875 16.703125 43.21875 25.484375 \r\nL 43.21875 27.484375 \r\nz\r\nM 52.203125 31.203125 \r\nL 52.203125 0 \r\nL 43.21875 0 \r\nL 43.21875 8.296875 \r\nQ 40.140625 3.328125 35.546875 0.953125 \r\nQ 30.953125 -1.421875 24.3125 -1.421875 \r\nQ 15.921875 -1.421875 10.953125 3.296875 \r\nQ 6 8.015625 6 15.921875 \r\nQ 6 25.140625 12.171875 29.828125 \r\nQ 18.359375 34.515625 30.609375 34.515625 \r\nL 43.21875 34.515625 \r\nL 43.21875 35.40625 \r\nQ 43.21875 41.609375 39.140625 45 \r\nQ 35.0625 48.390625 27.6875 48.390625 \r\nQ 23 48.390625 18.546875 47.265625 \r\nQ 14.109375 46.140625 10.015625 43.890625 \r\nL 10.015625 52.203125 \r\nQ 14.9375 54.109375 19.578125 55.046875 \r\nQ 24.21875 56 28.609375 56 \r\nQ 40.484375 56 46.34375 49.84375 \r\nQ 52.203125 43.703125 52.203125 31.203125 \r\nz\r\n\" id=\"DejaVuSans-97\"/>\r\n      <path d=\"M 9.421875 54.6875 \r\nL 18.40625 54.6875 \r\nL 18.40625 0 \r\nL 9.421875 0 \r\nz\r\nM 9.421875 75.984375 \r\nL 18.40625 75.984375 \r\nL 18.40625 64.59375 \r\nL 9.421875 64.59375 \r\nz\r\n\" id=\"DejaVuSans-105\"/>\r\n      <path d=\"M 54.890625 33.015625 \r\nL 54.890625 0 \r\nL 45.90625 0 \r\nL 45.90625 32.71875 \r\nQ 45.90625 40.484375 42.875 44.328125 \r\nQ 39.84375 48.1875 33.796875 48.1875 \r\nQ 26.515625 48.1875 22.3125 43.546875 \r\nQ 18.109375 38.921875 18.109375 30.90625 \r\nL 18.109375 0 \r\nL 9.078125 0 \r\nL 9.078125 54.6875 \r\nL 18.109375 54.6875 \r\nL 18.109375 46.1875 \r\nQ 21.34375 51.125 25.703125 53.5625 \r\nQ 30.078125 56 35.796875 56 \r\nQ 45.21875 56 50.046875 50.171875 \r\nQ 54.890625 44.34375 54.890625 33.015625 \r\nz\r\n\" id=\"DejaVuSans-110\"/>\r\n      <path d=\"M 50.984375 -16.609375 \r\nL 50.984375 -23.578125 \r\nL -0.984375 -23.578125 \r\nL -0.984375 -16.609375 \r\nz\r\n\" id=\"DejaVuSans-95\"/>\r\n      <path d=\"M 9.421875 75.984375 \r\nL 18.40625 75.984375 \r\nL 18.40625 0 \r\nL 9.421875 0 \r\nz\r\n\" id=\"DejaVuSans-108\"/>\r\n     </defs>\r\n     <g transform=\"translate(312.45 23.798437)scale(0.1 -0.1)\">\r\n      <use xlink:href=\"#DejaVuSans-116\"/>\r\n      <use x=\"39.208984\" xlink:href=\"#DejaVuSans-114\"/>\r\n      <use x=\"80.322266\" xlink:href=\"#DejaVuSans-97\"/>\r\n      <use x=\"141.601562\" xlink:href=\"#DejaVuSans-105\"/>\r\n      <use x=\"169.384766\" xlink:href=\"#DejaVuSans-110\"/>\r\n      <use x=\"232.763672\" xlink:href=\"#DejaVuSans-95\"/>\r\n      <use x=\"282.763672\" xlink:href=\"#DejaVuSans-108\"/>\r\n      <use x=\"310.546875\" xlink:href=\"#DejaVuSans-111\"/>\r\n      <use x=\"371.728516\" xlink:href=\"#DejaVuSans-115\"/>\r\n      <use x=\"423.828125\" xlink:href=\"#DejaVuSans-115\"/>\r\n     </g>\r\n    </g>\r\n    <g id=\"line2d_22\">\r\n     <path d=\"M 284.45 35.254687 \r\nL 304.45 35.254687 \r\n\" style=\"fill:none;stroke:#0000ff;stroke-linecap:square;stroke-width:1.5;\"/>\r\n    </g>\r\n    <g id=\"line2d_23\"/>\r\n    <g id=\"text_21\">\r\n     <!-- val_loss -->\r\n     <defs>\r\n      <path d=\"M 2.984375 54.6875 \r\nL 12.5 54.6875 \r\nL 29.59375 8.796875 \r\nL 46.6875 54.6875 \r\nL 56.203125 54.6875 \r\nL 35.6875 0 \r\nL 23.484375 0 \r\nz\r\n\" id=\"DejaVuSans-118\"/>\r\n     </defs>\r\n     <g transform=\"translate(312.45 38.754687)scale(0.1 -0.1)\">\r\n      <use xlink:href=\"#DejaVuSans-118\"/>\r\n      <use x=\"59.179688\" xlink:href=\"#DejaVuSans-97\"/>\r\n      <use x=\"120.458984\" xlink:href=\"#DejaVuSans-108\"/>\r\n      <use x=\"148.242188\" xlink:href=\"#DejaVuSans-95\"/>\r\n      <use x=\"198.242188\" xlink:href=\"#DejaVuSans-108\"/>\r\n      <use x=\"226.025391\" xlink:href=\"#DejaVuSans-111\"/>\r\n      <use x=\"287.207031\" xlink:href=\"#DejaVuSans-115\"/>\r\n      <use x=\"339.306641\" xlink:href=\"#DejaVuSans-115\"/>\r\n     </g>\r\n    </g>\r\n   </g>\r\n  </g>\r\n </g>\r\n <defs>\r\n  <clipPath id=\"p99065b65df\">\r\n   <rect height=\"217.44\" width=\"334.8\" x=\"34.240625\" y=\"7.2\"/>\r\n  </clipPath>\r\n </defs>\r\n</svg>\r\n",
      "image/png": "[encoded data removed]"
     },
     "metadata": {
      "needs_background": "light"
     }
    }
   ],
   "source": [
    "plt.plot(history['train']['loss'], color='red', label='train_loss')\n",
    "plt.plot(history['val']['loss'], color='blue', label='val_loss')\n",
    "plt.legend()\n",
    "\n",
    "plt.xlabel('Epochs')\n",
    "plt.ylabel('Loss')\n",
    "\n",
    "plt.savefig(f'./img/modelo_v1_loss_seed_{SEED}.png')\n",
    "\n",
    "plt.show()"
   ]
  },
  {
   "cell_type": "code",
   "execution_count": 40,
   "metadata": {},
   "outputs": [
    {
     "output_type": "stream",
     "name": "stdout",
     "text": "Mejor época de entrenamiento: 192\nMejor época de validación: 181\n"
    }
   ],
   "source": [
    "best_train_epoch = np.argmin(history['train']['loss'])\n",
    "best_val_epoch = np.argmin(history['val']['loss'])\n",
    "print(f\"Mejor época de entrenamiento: {best_train_epoch}\")\n",
    "print(f\"Mejor época de validación: {best_val_epoch}\")"
   ]
  },
  {
   "cell_type": "code",
   "execution_count": 36,
   "metadata": {},
   "outputs": [],
   "source": [
    "def calc_acc(conf_mat):\n",
    "    return np.diag(conf_mat).sum()/conf_mat.sum()"
   ]
  },
  {
   "cell_type": "code",
   "execution_count": 37,
   "metadata": {},
   "outputs": [
    {
     "output_type": "display_data",
     "data": {
      "text/plain": "<Figure size 432x288 with 1 Axes>",
      "image/svg+xml": "<?xml version=\"1.0\" encoding=\"utf-8\" standalone=\"no\"?>\r\n<!DOCTYPE svg PUBLIC \"-//W3C//DTD SVG 1.1//EN\"\r\n  \"http://www.w3.org/Graphics/SVG/1.1/DTD/svg11.dtd\">\r\n<!-- Created with matplotlib (https://matplotlib.org/) -->\r\n<svg height=\"262.19625pt\" version=\"1.1\" viewBox=\"0 0 392.14375 262.19625\" width=\"392.14375pt\" xmlns=\"http://www.w3.org/2000/svg\" xmlns:xlink=\"http://www.w3.org/1999/xlink\">\r\n <defs>\r\n  <style type=\"text/css\">\r\n*{stroke-linecap:butt;stroke-linejoin:round;}\r\n  </style>\r\n </defs>\r\n <g id=\"figure_1\">\r\n  <g id=\"patch_1\">\r\n   <path d=\"M 0 262.19625 \r\nL 392.14375 262.19625 \r\nL 392.14375 0 \r\nL 0 0 \r\nz\r\n\" style=\"fill:none;\"/>\r\n  </g>\r\n  <g id=\"axes_1\">\r\n   <g id=\"patch_2\">\r\n    <path d=\"M 50.14375 224.64 \r\nL 384.94375 224.64 \r\nL 384.94375 7.2 \r\nL 50.14375 7.2 \r\nz\r\n\" style=\"fill:#ffffff;\"/>\r\n   </g>\r\n   <g id=\"matplotlib.axis_1\">\r\n    <g id=\"xtick_1\">\r\n     <g id=\"line2d_1\">\r\n      <defs>\r\n       <path d=\"M 0 0 \r\nL 0 3.5 \r\n\" id=\"mdc6b74fe24\" style=\"stroke:#000000;stroke-width:0.8;\"/>\r\n      </defs>\r\n      <g>\r\n       <use style=\"stroke:#000000;stroke-width:0.8;\" x=\"65.361932\" xlink:href=\"#mdc6b74fe24\" y=\"224.64\"/>\r\n      </g>\r\n     </g>\r\n     <g id=\"text_1\">\r\n      <!-- 0 -->\r\n      <defs>\r\n       <path d=\"M 31.78125 66.40625 \r\nQ 24.171875 66.40625 20.328125 58.90625 \r\nQ 16.5 51.421875 16.5 36.375 \r\nQ 16.5 21.390625 20.328125 13.890625 \r\nQ 24.171875 6.390625 31.78125 6.390625 \r\nQ 39.453125 6.390625 43.28125 13.890625 \r\nQ 47.125 21.390625 47.125 36.375 \r\nQ 47.125 51.421875 43.28125 58.90625 \r\nQ 39.453125 66.40625 31.78125 66.40625 \r\nz\r\nM 31.78125 74.21875 \r\nQ 44.046875 74.21875 50.515625 64.515625 \r\nQ 56.984375 54.828125 56.984375 36.375 \r\nQ 56.984375 17.96875 50.515625 8.265625 \r\nQ 44.046875 -1.421875 31.78125 -1.421875 \r\nQ 19.53125 -1.421875 13.0625 8.265625 \r\nQ 6.59375 17.96875 6.59375 36.375 \r\nQ 6.59375 54.828125 13.0625 64.515625 \r\nQ 19.53125 74.21875 31.78125 74.21875 \r\nz\r\n\" id=\"DejaVuSans-48\"/>\r\n      </defs>\r\n      <g transform=\"translate(62.180682 239.238437)scale(0.1 -0.1)\">\r\n       <use xlink:href=\"#DejaVuSans-48\"/>\r\n      </g>\r\n     </g>\r\n    </g>\r\n    <g id=\"xtick_2\">\r\n     <g id=\"line2d_2\">\r\n      <g>\r\n       <use style=\"stroke:#000000;stroke-width:0.8;\" x=\"103.59857\" xlink:href=\"#mdc6b74fe24\" y=\"224.64\"/>\r\n      </g>\r\n     </g>\r\n     <g id=\"text_2\">\r\n      <!-- 25 -->\r\n      <defs>\r\n       <path d=\"M 19.1875 8.296875 \r\nL 53.609375 8.296875 \r\nL 53.609375 0 \r\nL 7.328125 0 \r\nL 7.328125 8.296875 \r\nQ 12.9375 14.109375 22.625 23.890625 \r\nQ 32.328125 33.6875 34.8125 36.53125 \r\nQ 39.546875 41.84375 41.421875 45.53125 \r\nQ 43.3125 49.21875 43.3125 52.78125 \r\nQ 43.3125 58.59375 39.234375 62.25 \r\nQ 35.15625 65.921875 28.609375 65.921875 \r\nQ 23.96875 65.921875 18.8125 64.3125 \r\nQ 13.671875 62.703125 7.8125 59.421875 \r\nL 7.8125 69.390625 \r\nQ 13.765625 71.78125 18.9375 73 \r\nQ 24.125 74.21875 28.421875 74.21875 \r\nQ 39.75 74.21875 46.484375 68.546875 \r\nQ 53.21875 62.890625 53.21875 53.421875 \r\nQ 53.21875 48.921875 51.53125 44.890625 \r\nQ 49.859375 40.875 45.40625 35.40625 \r\nQ 44.1875 33.984375 37.640625 27.21875 \r\nQ 31.109375 20.453125 19.1875 8.296875 \r\nz\r\n\" id=\"DejaVuSans-50\"/>\r\n       <path d=\"M 10.796875 72.90625 \r\nL 49.515625 72.90625 \r\nL 49.515625 64.59375 \r\nL 19.828125 64.59375 \r\nL 19.828125 46.734375 \r\nQ 21.96875 47.46875 24.109375 47.828125 \r\nQ 26.265625 48.1875 28.421875 48.1875 \r\nQ 40.625 48.1875 47.75 41.5 \r\nQ 54.890625 34.8125 54.890625 23.390625 \r\nQ 54.890625 11.625 47.5625 5.09375 \r\nQ 40.234375 -1.421875 26.90625 -1.421875 \r\nQ 22.3125 -1.421875 17.546875 -0.640625 \r\nQ 12.796875 0.140625 7.71875 1.703125 \r\nL 7.71875 11.625 \r\nQ 12.109375 9.234375 16.796875 8.0625 \r\nQ 21.484375 6.890625 26.703125 6.890625 \r\nQ 35.15625 6.890625 40.078125 11.328125 \r\nQ 45.015625 15.765625 45.015625 23.390625 \r\nQ 45.015625 31 40.078125 35.4375 \r\nQ 35.15625 39.890625 26.703125 39.890625 \r\nQ 22.75 39.890625 18.8125 39.015625 \r\nQ 14.890625 38.140625 10.796875 36.28125 \r\nz\r\n\" id=\"DejaVuSans-53\"/>\r\n      </defs>\r\n      <g transform=\"translate(97.23607 239.238437)scale(0.1 -0.1)\">\r\n       <use xlink:href=\"#DejaVuSans-50\"/>\r\n       <use x=\"63.623047\" xlink:href=\"#DejaVuSans-53\"/>\r\n      </g>\r\n     </g>\r\n    </g>\r\n    <g id=\"xtick_3\">\r\n     <g id=\"line2d_3\">\r\n      <g>\r\n       <use style=\"stroke:#000000;stroke-width:0.8;\" x=\"141.835207\" xlink:href=\"#mdc6b74fe24\" y=\"224.64\"/>\r\n      </g>\r\n     </g>\r\n     <g id=\"text_3\">\r\n      <!-- 50 -->\r\n      <g transform=\"translate(135.472707 239.238437)scale(0.1 -0.1)\">\r\n       <use xlink:href=\"#DejaVuSans-53\"/>\r\n       <use x=\"63.623047\" xlink:href=\"#DejaVuSans-48\"/>\r\n      </g>\r\n     </g>\r\n    </g>\r\n    <g id=\"xtick_4\">\r\n     <g id=\"line2d_4\">\r\n      <g>\r\n       <use style=\"stroke:#000000;stroke-width:0.8;\" x=\"180.071845\" xlink:href=\"#mdc6b74fe24\" y=\"224.64\"/>\r\n      </g>\r\n     </g>\r\n     <g id=\"text_4\">\r\n      <!-- 75 -->\r\n      <defs>\r\n       <path d=\"M 8.203125 72.90625 \r\nL 55.078125 72.90625 \r\nL 55.078125 68.703125 \r\nL 28.609375 0 \r\nL 18.3125 0 \r\nL 43.21875 64.59375 \r\nL 8.203125 64.59375 \r\nz\r\n\" id=\"DejaVuSans-55\"/>\r\n      </defs>\r\n      <g transform=\"translate(173.709345 239.238437)scale(0.1 -0.1)\">\r\n       <use xlink:href=\"#DejaVuSans-55\"/>\r\n       <use x=\"63.623047\" xlink:href=\"#DejaVuSans-53\"/>\r\n      </g>\r\n     </g>\r\n    </g>\r\n    <g id=\"xtick_5\">\r\n     <g id=\"line2d_5\">\r\n      <g>\r\n       <use style=\"stroke:#000000;stroke-width:0.8;\" x=\"218.308483\" xlink:href=\"#mdc6b74fe24\" y=\"224.64\"/>\r\n      </g>\r\n     </g>\r\n     <g id=\"text_5\">\r\n      <!-- 100 -->\r\n      <defs>\r\n       <path d=\"M 12.40625 8.296875 \r\nL 28.515625 8.296875 \r\nL 28.515625 63.921875 \r\nL 10.984375 60.40625 \r\nL 10.984375 69.390625 \r\nL 28.421875 72.90625 \r\nL 38.28125 72.90625 \r\nL 38.28125 8.296875 \r\nL 54.390625 8.296875 \r\nL 54.390625 0 \r\nL 12.40625 0 \r\nz\r\n\" id=\"DejaVuSans-49\"/>\r\n      </defs>\r\n      <g transform=\"translate(208.764733 239.238437)scale(0.1 -0.1)\">\r\n       <use xlink:href=\"#DejaVuSans-49\"/>\r\n       <use x=\"63.623047\" xlink:href=\"#DejaVuSans-48\"/>\r\n       <use x=\"127.246094\" xlink:href=\"#DejaVuSans-48\"/>\r\n      </g>\r\n     </g>\r\n    </g>\r\n    <g id=\"xtick_6\">\r\n     <g id=\"line2d_6\">\r\n      <g>\r\n       <use style=\"stroke:#000000;stroke-width:0.8;\" x=\"256.54512\" xlink:href=\"#mdc6b74fe24\" y=\"224.64\"/>\r\n      </g>\r\n     </g>\r\n     <g id=\"text_6\">\r\n      <!-- 125 -->\r\n      <g transform=\"translate(247.00137 239.238437)scale(0.1 -0.1)\">\r\n       <use xlink:href=\"#DejaVuSans-49\"/>\r\n       <use x=\"63.623047\" xlink:href=\"#DejaVuSans-50\"/>\r\n       <use x=\"127.246094\" xlink:href=\"#DejaVuSans-53\"/>\r\n      </g>\r\n     </g>\r\n    </g>\r\n    <g id=\"xtick_7\">\r\n     <g id=\"line2d_7\">\r\n      <g>\r\n       <use style=\"stroke:#000000;stroke-width:0.8;\" x=\"294.781758\" xlink:href=\"#mdc6b74fe24\" y=\"224.64\"/>\r\n      </g>\r\n     </g>\r\n     <g id=\"text_7\">\r\n      <!-- 150 -->\r\n      <g transform=\"translate(285.238008 239.238437)scale(0.1 -0.1)\">\r\n       <use xlink:href=\"#DejaVuSans-49\"/>\r\n       <use x=\"63.623047\" xlink:href=\"#DejaVuSans-53\"/>\r\n       <use x=\"127.246094\" xlink:href=\"#DejaVuSans-48\"/>\r\n      </g>\r\n     </g>\r\n    </g>\r\n    <g id=\"xtick_8\">\r\n     <g id=\"line2d_8\">\r\n      <g>\r\n       <use style=\"stroke:#000000;stroke-width:0.8;\" x=\"333.018396\" xlink:href=\"#mdc6b74fe24\" y=\"224.64\"/>\r\n      </g>\r\n     </g>\r\n     <g id=\"text_8\">\r\n      <!-- 175 -->\r\n      <g transform=\"translate(323.474646 239.238437)scale(0.1 -0.1)\">\r\n       <use xlink:href=\"#DejaVuSans-49\"/>\r\n       <use x=\"63.623047\" xlink:href=\"#DejaVuSans-55\"/>\r\n       <use x=\"127.246094\" xlink:href=\"#DejaVuSans-53\"/>\r\n      </g>\r\n     </g>\r\n    </g>\r\n    <g id=\"xtick_9\">\r\n     <g id=\"line2d_9\">\r\n      <g>\r\n       <use style=\"stroke:#000000;stroke-width:0.8;\" x=\"371.255034\" xlink:href=\"#mdc6b74fe24\" y=\"224.64\"/>\r\n      </g>\r\n     </g>\r\n     <g id=\"text_9\">\r\n      <!-- 200 -->\r\n      <g transform=\"translate(361.711284 239.238437)scale(0.1 -0.1)\">\r\n       <use xlink:href=\"#DejaVuSans-50\"/>\r\n       <use x=\"63.623047\" xlink:href=\"#DejaVuSans-48\"/>\r\n       <use x=\"127.246094\" xlink:href=\"#DejaVuSans-48\"/>\r\n      </g>\r\n     </g>\r\n    </g>\r\n    <g id=\"text_10\">\r\n     <!-- Epochs -->\r\n     <defs>\r\n      <path d=\"M 9.8125 72.90625 \r\nL 55.90625 72.90625 \r\nL 55.90625 64.59375 \r\nL 19.671875 64.59375 \r\nL 19.671875 43.015625 \r\nL 54.390625 43.015625 \r\nL 54.390625 34.71875 \r\nL 19.671875 34.71875 \r\nL 19.671875 8.296875 \r\nL 56.78125 8.296875 \r\nL 56.78125 0 \r\nL 9.8125 0 \r\nz\r\n\" id=\"DejaVuSans-69\"/>\r\n      <path d=\"M 18.109375 8.203125 \r\nL 18.109375 -20.796875 \r\nL 9.078125 -20.796875 \r\nL 9.078125 54.6875 \r\nL 18.109375 54.6875 \r\nL 18.109375 46.390625 \r\nQ 20.953125 51.265625 25.265625 53.625 \r\nQ 29.59375 56 35.59375 56 \r\nQ 45.5625 56 51.78125 48.09375 \r\nQ 58.015625 40.1875 58.015625 27.296875 \r\nQ 58.015625 14.40625 51.78125 6.484375 \r\nQ 45.5625 -1.421875 35.59375 -1.421875 \r\nQ 29.59375 -1.421875 25.265625 0.953125 \r\nQ 20.953125 3.328125 18.109375 8.203125 \r\nz\r\nM 48.6875 27.296875 \r\nQ 48.6875 37.203125 44.609375 42.84375 \r\nQ 40.53125 48.484375 33.40625 48.484375 \r\nQ 26.265625 48.484375 22.1875 42.84375 \r\nQ 18.109375 37.203125 18.109375 27.296875 \r\nQ 18.109375 17.390625 22.1875 11.75 \r\nQ 26.265625 6.109375 33.40625 6.109375 \r\nQ 40.53125 6.109375 44.609375 11.75 \r\nQ 48.6875 17.390625 48.6875 27.296875 \r\nz\r\n\" id=\"DejaVuSans-112\"/>\r\n      <path d=\"M 30.609375 48.390625 \r\nQ 23.390625 48.390625 19.1875 42.75 \r\nQ 14.984375 37.109375 14.984375 27.296875 \r\nQ 14.984375 17.484375 19.15625 11.84375 \r\nQ 23.34375 6.203125 30.609375 6.203125 \r\nQ 37.796875 6.203125 41.984375 11.859375 \r\nQ 46.1875 17.53125 46.1875 27.296875 \r\nQ 46.1875 37.015625 41.984375 42.703125 \r\nQ 37.796875 48.390625 30.609375 48.390625 \r\nz\r\nM 30.609375 56 \r\nQ 42.328125 56 49.015625 48.375 \r\nQ 55.71875 40.765625 55.71875 27.296875 \r\nQ 55.71875 13.875 49.015625 6.21875 \r\nQ 42.328125 -1.421875 30.609375 -1.421875 \r\nQ 18.84375 -1.421875 12.171875 6.21875 \r\nQ 5.515625 13.875 5.515625 27.296875 \r\nQ 5.515625 40.765625 12.171875 48.375 \r\nQ 18.84375 56 30.609375 56 \r\nz\r\n\" id=\"DejaVuSans-111\"/>\r\n      <path d=\"M 48.78125 52.59375 \r\nL 48.78125 44.1875 \r\nQ 44.96875 46.296875 41.140625 47.34375 \r\nQ 37.3125 48.390625 33.40625 48.390625 \r\nQ 24.65625 48.390625 19.8125 42.84375 \r\nQ 14.984375 37.3125 14.984375 27.296875 \r\nQ 14.984375 17.28125 19.8125 11.734375 \r\nQ 24.65625 6.203125 33.40625 6.203125 \r\nQ 37.3125 6.203125 41.140625 7.25 \r\nQ 44.96875 8.296875 48.78125 10.40625 \r\nL 48.78125 2.09375 \r\nQ 45.015625 0.34375 40.984375 -0.53125 \r\nQ 36.96875 -1.421875 32.421875 -1.421875 \r\nQ 20.0625 -1.421875 12.78125 6.34375 \r\nQ 5.515625 14.109375 5.515625 27.296875 \r\nQ 5.515625 40.671875 12.859375 48.328125 \r\nQ 20.21875 56 33.015625 56 \r\nQ 37.15625 56 41.109375 55.140625 \r\nQ 45.0625 54.296875 48.78125 52.59375 \r\nz\r\n\" id=\"DejaVuSans-99\"/>\r\n      <path d=\"M 54.890625 33.015625 \r\nL 54.890625 0 \r\nL 45.90625 0 \r\nL 45.90625 32.71875 \r\nQ 45.90625 40.484375 42.875 44.328125 \r\nQ 39.84375 48.1875 33.796875 48.1875 \r\nQ 26.515625 48.1875 22.3125 43.546875 \r\nQ 18.109375 38.921875 18.109375 30.90625 \r\nL 18.109375 0 \r\nL 9.078125 0 \r\nL 9.078125 75.984375 \r\nL 18.109375 75.984375 \r\nL 18.109375 46.1875 \r\nQ 21.34375 51.125 25.703125 53.5625 \r\nQ 30.078125 56 35.796875 56 \r\nQ 45.21875 56 50.046875 50.171875 \r\nQ 54.890625 44.34375 54.890625 33.015625 \r\nz\r\n\" id=\"DejaVuSans-104\"/>\r\n      <path d=\"M 44.28125 53.078125 \r\nL 44.28125 44.578125 \r\nQ 40.484375 46.53125 36.375 47.5 \r\nQ 32.28125 48.484375 27.875 48.484375 \r\nQ 21.1875 48.484375 17.84375 46.4375 \r\nQ 14.5 44.390625 14.5 40.28125 \r\nQ 14.5 37.15625 16.890625 35.375 \r\nQ 19.28125 33.59375 26.515625 31.984375 \r\nL 29.59375 31.296875 \r\nQ 39.15625 29.25 43.1875 25.515625 \r\nQ 47.21875 21.78125 47.21875 15.09375 \r\nQ 47.21875 7.46875 41.1875 3.015625 \r\nQ 35.15625 -1.421875 24.609375 -1.421875 \r\nQ 20.21875 -1.421875 15.453125 -0.5625 \r\nQ 10.6875 0.296875 5.421875 2 \r\nL 5.421875 11.28125 \r\nQ 10.40625 8.6875 15.234375 7.390625 \r\nQ 20.0625 6.109375 24.8125 6.109375 \r\nQ 31.15625 6.109375 34.5625 8.28125 \r\nQ 37.984375 10.453125 37.984375 14.40625 \r\nQ 37.984375 18.0625 35.515625 20.015625 \r\nQ 33.0625 21.96875 24.703125 23.78125 \r\nL 21.578125 24.515625 \r\nQ 13.234375 26.265625 9.515625 29.90625 \r\nQ 5.8125 33.546875 5.8125 39.890625 \r\nQ 5.8125 47.609375 11.28125 51.796875 \r\nQ 16.75 56 26.8125 56 \r\nQ 31.78125 56 36.171875 55.265625 \r\nQ 40.578125 54.546875 44.28125 53.078125 \r\nz\r\n\" id=\"DejaVuSans-115\"/>\r\n     </defs>\r\n     <g transform=\"translate(199.628125 252.916562)scale(0.1 -0.1)\">\r\n      <use xlink:href=\"#DejaVuSans-69\"/>\r\n      <use x=\"63.183594\" xlink:href=\"#DejaVuSans-112\"/>\r\n      <use x=\"126.660156\" xlink:href=\"#DejaVuSans-111\"/>\r\n      <use x=\"187.841797\" xlink:href=\"#DejaVuSans-99\"/>\r\n      <use x=\"242.822266\" xlink:href=\"#DejaVuSans-104\"/>\r\n      <use x=\"306.201172\" xlink:href=\"#DejaVuSans-115\"/>\r\n     </g>\r\n    </g>\r\n   </g>\r\n   <g id=\"matplotlib.axis_2\">\r\n    <g id=\"ytick_1\">\r\n     <g id=\"line2d_10\">\r\n      <defs>\r\n       <path d=\"M 0 0 \r\nL -3.5 0 \r\n\" id=\"mda8ec6b30d\" style=\"stroke:#000000;stroke-width:0.8;\"/>\r\n      </defs>\r\n      <g>\r\n       <use style=\"stroke:#000000;stroke-width:0.8;\" x=\"50.14375\" xlink:href=\"#mda8ec6b30d\" y=\"186.808769\"/>\r\n      </g>\r\n     </g>\r\n     <g id=\"text_11\">\r\n      <!-- 0.25 -->\r\n      <defs>\r\n       <path d=\"M 10.6875 12.40625 \r\nL 21 12.40625 \r\nL 21 0 \r\nL 10.6875 0 \r\nz\r\n\" id=\"DejaVuSans-46\"/>\r\n      </defs>\r\n      <g transform=\"translate(20.878125 190.607988)scale(0.1 -0.1)\">\r\n       <use xlink:href=\"#DejaVuSans-48\"/>\r\n       <use x=\"63.623047\" xlink:href=\"#DejaVuSans-46\"/>\r\n       <use x=\"95.410156\" xlink:href=\"#DejaVuSans-50\"/>\r\n       <use x=\"159.033203\" xlink:href=\"#DejaVuSans-53\"/>\r\n      </g>\r\n     </g>\r\n    </g>\r\n    <g id=\"ytick_2\">\r\n     <g id=\"line2d_11\">\r\n      <g>\r\n       <use style=\"stroke:#000000;stroke-width:0.8;\" x=\"50.14375\" xlink:href=\"#mda8ec6b30d\" y=\"146.704502\"/>\r\n      </g>\r\n     </g>\r\n     <g id=\"text_12\">\r\n      <!-- 0.30 -->\r\n      <defs>\r\n       <path d=\"M 40.578125 39.3125 \r\nQ 47.65625 37.796875 51.625 33 \r\nQ 55.609375 28.21875 55.609375 21.1875 \r\nQ 55.609375 10.40625 48.1875 4.484375 \r\nQ 40.765625 -1.421875 27.09375 -1.421875 \r\nQ 22.515625 -1.421875 17.65625 -0.515625 \r\nQ 12.796875 0.390625 7.625 2.203125 \r\nL 7.625 11.71875 \r\nQ 11.71875 9.328125 16.59375 8.109375 \r\nQ 21.484375 6.890625 26.8125 6.890625 \r\nQ 36.078125 6.890625 40.9375 10.546875 \r\nQ 45.796875 14.203125 45.796875 21.1875 \r\nQ 45.796875 27.640625 41.28125 31.265625 \r\nQ 36.765625 34.90625 28.71875 34.90625 \r\nL 20.21875 34.90625 \r\nL 20.21875 43.015625 \r\nL 29.109375 43.015625 \r\nQ 36.375 43.015625 40.234375 45.921875 \r\nQ 44.09375 48.828125 44.09375 54.296875 \r\nQ 44.09375 59.90625 40.109375 62.90625 \r\nQ 36.140625 65.921875 28.71875 65.921875 \r\nQ 24.65625 65.921875 20.015625 65.03125 \r\nQ 15.375 64.15625 9.8125 62.3125 \r\nL 9.8125 71.09375 \r\nQ 15.4375 72.65625 20.34375 73.4375 \r\nQ 25.25 74.21875 29.59375 74.21875 \r\nQ 40.828125 74.21875 47.359375 69.109375 \r\nQ 53.90625 64.015625 53.90625 55.328125 \r\nQ 53.90625 49.265625 50.4375 45.09375 \r\nQ 46.96875 40.921875 40.578125 39.3125 \r\nz\r\n\" id=\"DejaVuSans-51\"/>\r\n      </defs>\r\n      <g transform=\"translate(20.878125 150.503721)scale(0.1 -0.1)\">\r\n       <use xlink:href=\"#DejaVuSans-48\"/>\r\n       <use x=\"63.623047\" xlink:href=\"#DejaVuSans-46\"/>\r\n       <use x=\"95.410156\" xlink:href=\"#DejaVuSans-51\"/>\r\n       <use x=\"159.033203\" xlink:href=\"#DejaVuSans-48\"/>\r\n      </g>\r\n     </g>\r\n    </g>\r\n    <g id=\"ytick_3\">\r\n     <g id=\"line2d_12\">\r\n      <g>\r\n       <use style=\"stroke:#000000;stroke-width:0.8;\" x=\"50.14375\" xlink:href=\"#mda8ec6b30d\" y=\"106.600235\"/>\r\n      </g>\r\n     </g>\r\n     <g id=\"text_13\">\r\n      <!-- 0.35 -->\r\n      <g transform=\"translate(20.878125 110.399454)scale(0.1 -0.1)\">\r\n       <use xlink:href=\"#DejaVuSans-48\"/>\r\n       <use x=\"63.623047\" xlink:href=\"#DejaVuSans-46\"/>\r\n       <use x=\"95.410156\" xlink:href=\"#DejaVuSans-51\"/>\r\n       <use x=\"159.033203\" xlink:href=\"#DejaVuSans-53\"/>\r\n      </g>\r\n     </g>\r\n    </g>\r\n    <g id=\"ytick_4\">\r\n     <g id=\"line2d_13\">\r\n      <g>\r\n       <use style=\"stroke:#000000;stroke-width:0.8;\" x=\"50.14375\" xlink:href=\"#mda8ec6b30d\" y=\"66.495969\"/>\r\n      </g>\r\n     </g>\r\n     <g id=\"text_14\">\r\n      <!-- 0.40 -->\r\n      <defs>\r\n       <path d=\"M 37.796875 64.3125 \r\nL 12.890625 25.390625 \r\nL 37.796875 25.390625 \r\nz\r\nM 35.203125 72.90625 \r\nL 47.609375 72.90625 \r\nL 47.609375 25.390625 \r\nL 58.015625 25.390625 \r\nL 58.015625 17.1875 \r\nL 47.609375 17.1875 \r\nL 47.609375 0 \r\nL 37.796875 0 \r\nL 37.796875 17.1875 \r\nL 4.890625 17.1875 \r\nL 4.890625 26.703125 \r\nz\r\n\" id=\"DejaVuSans-52\"/>\r\n      </defs>\r\n      <g transform=\"translate(20.878125 70.295187)scale(0.1 -0.1)\">\r\n       <use xlink:href=\"#DejaVuSans-48\"/>\r\n       <use x=\"63.623047\" xlink:href=\"#DejaVuSans-46\"/>\r\n       <use x=\"95.410156\" xlink:href=\"#DejaVuSans-52\"/>\r\n       <use x=\"159.033203\" xlink:href=\"#DejaVuSans-48\"/>\r\n      </g>\r\n     </g>\r\n    </g>\r\n    <g id=\"ytick_5\">\r\n     <g id=\"line2d_14\">\r\n      <g>\r\n       <use style=\"stroke:#000000;stroke-width:0.8;\" x=\"50.14375\" xlink:href=\"#mda8ec6b30d\" y=\"26.391702\"/>\r\n      </g>\r\n     </g>\r\n     <g id=\"text_15\">\r\n      <!-- 0.45 -->\r\n      <g transform=\"translate(20.878125 30.19092)scale(0.1 -0.1)\">\r\n       <use xlink:href=\"#DejaVuSans-48\"/>\r\n       <use x=\"63.623047\" xlink:href=\"#DejaVuSans-46\"/>\r\n       <use x=\"95.410156\" xlink:href=\"#DejaVuSans-52\"/>\r\n       <use x=\"159.033203\" xlink:href=\"#DejaVuSans-53\"/>\r\n      </g>\r\n     </g>\r\n    </g>\r\n    <g id=\"text_16\">\r\n     <!-- Loss -->\r\n     <defs>\r\n      <path d=\"M 9.8125 72.90625 \r\nL 19.671875 72.90625 \r\nL 19.671875 8.296875 \r\nL 55.171875 8.296875 \r\nL 55.171875 0 \r\nL 9.8125 0 \r\nz\r\n\" id=\"DejaVuSans-76\"/>\r\n     </defs>\r\n     <g transform=\"translate(14.798438 126.973906)rotate(-90)scale(0.1 -0.1)\">\r\n      <use xlink:href=\"#DejaVuSans-76\"/>\r\n      <use x=\"55.697266\" xlink:href=\"#DejaVuSans-111\"/>\r\n      <use x=\"116.878906\" xlink:href=\"#DejaVuSans-115\"/>\r\n      <use x=\"168.978516\" xlink:href=\"#DejaVuSans-115\"/>\r\n     </g>\r\n    </g>\r\n   </g>\r\n   <g id=\"line2d_15\">\r\n    <path clip-path=\"url(#p972fc6210a)\" d=\"M 65.361932 167.365176 \r\nL 66.891397 172.046896 \r\nL 68.420863 171.557851 \r\nL 69.950328 170.393033 \r\nL 71.479794 166.498394 \r\nL 73.009259 164.759026 \r\nL 74.538725 163.653082 \r\nL 76.06819 161.016704 \r\nL 77.597656 165.470892 \r\nL 79.127121 160.32993 \r\nL 80.656587 165.101453 \r\nL 82.186052 164.969812 \r\nL 83.715518 162.202422 \r\nL 85.244983 160.104301 \r\nL 86.774449 164.244225 \r\nL 89.83338 161.066165 \r\nL 91.362845 160.488648 \r\nL 92.892311 150.338019 \r\nL 94.421776 148.457694 \r\nL 95.951242 147.222328 \r\nL 99.010173 146.975477 \r\nL 100.539639 148.952833 \r\nL 102.069104 149.71501 \r\nL 103.59857 147.514689 \r\nL 105.128035 142.68593 \r\nL 106.657501 139.162143 \r\nL 108.186966 135.950437 \r\nL 109.716432 141.65115 \r\nL 111.245897 144.028181 \r\nL 112.775363 147.641831 \r\nL 114.304828 141.89199 \r\nL 117.363759 140.32854 \r\nL 118.893225 142.961437 \r\nL 120.42269 142.494292 \r\nL 121.952156 137.792443 \r\nL 123.481621 133.515851 \r\nL 125.011087 132.606598 \r\nL 126.540552 128.826697 \r\nL 128.070018 122.117967 \r\nL 129.599483 120.778512 \r\nL 131.128949 120.870964 \r\nL 132.658414 122.823991 \r\nL 134.18788 123.998904 \r\nL 135.717345 127.165142 \r\nL 137.246811 119.153197 \r\nL 138.776276 118.989303 \r\nL 140.305742 113.131348 \r\nL 141.835207 126.179849 \r\nL 143.364673 119.609931 \r\nL 144.894138 114.183199 \r\nL 146.423604 101.887615 \r\nL 147.953069 100.505894 \r\nL 149.482535 110.62934 \r\nL 151.012 105.386571 \r\nL 152.541466 114.928767 \r\nL 154.070931 107.699164 \r\nL 155.600397 101.022121 \r\nL 157.129862 106.852798 \r\nL 158.659328 109.09349 \r\nL 160.188793 104.632254 \r\nL 161.718259 93.187212 \r\nL 163.247724 91.417715 \r\nL 164.77719 93.37493 \r\nL 166.306655 88.854866 \r\nL 167.836121 91.993783 \r\nL 169.365586 98.568727 \r\nL 170.895052 89.882266 \r\nL 172.424517 89.743259 \r\nL 173.953983 89.734707 \r\nL 175.483448 87.956446 \r\nL 177.012914 89.504851 \r\nL 178.54238 87.863328 \r\nL 180.071845 81.786649 \r\nL 181.601311 89.30635 \r\nL 183.130776 96.12544 \r\nL 184.660242 94.830212 \r\nL 186.189707 92.76841 \r\nL 187.719173 100.474114 \r\nL 189.248638 88.9048 \r\nL 190.778104 103.759241 \r\nL 192.307569 101.608717 \r\nL 193.837035 96.769331 \r\nL 195.3665 104.287798 \r\nL 196.895966 101.891423 \r\nL 198.425431 102.554982 \r\nL 199.954897 89.381849 \r\nL 201.484362 95.418349 \r\nL 203.013828 91.470112 \r\nL 204.543293 93.134081 \r\nL 206.072759 89.259659 \r\nL 207.602224 85.814325 \r\nL 209.13169 84.356059 \r\nL 210.661155 88.555993 \r\nL 212.190621 88.302326 \r\nL 213.720086 82.532276 \r\nL 215.249552 89.252436 \r\nL 216.779017 87.866876 \r\nL 218.308483 85.01384 \r\nL 219.837948 79.953776 \r\nL 221.367414 82.896778 \r\nL 222.896879 78.753395 \r\nL 224.426345 88.319964 \r\nL 225.95581 79.953776 \r\nL 227.485276 79.307981 \r\nL 229.014741 80.824693 \r\nL 230.544207 75.601445 \r\nL 232.073672 74.288422 \r\nL 233.603138 70.980514 \r\nL 235.132603 78.568648 \r\nL 236.662069 66.28086 \r\nL 238.191534 74.11686 \r\nL 239.721 63.35902 \r\nL 241.250465 70.045257 \r\nL 242.779931 68.325003 \r\nL 244.309396 67.360751 \r\nL 245.838862 58.882955 \r\nL 247.368327 72.560582 \r\nL 248.897793 67.5891 \r\nL 250.427258 57.252708 \r\nL 251.956724 51.674826 \r\nL 253.486189 48.470963 \r\nL 255.015655 58.994256 \r\nL 256.54512 56.75382 \r\nL 258.074586 57.427028 \r\nL 259.604052 54.105811 \r\nL 261.133517 60.574716 \r\nL 262.662983 60.221151 \r\nL 264.192448 61.303593 \r\nL 265.721914 54.578961 \r\nL 267.251379 49.508692 \r\nL 268.780845 54.599139 \r\nL 270.31031 57.858544 \r\nL 271.839776 54.013635 \r\nL 273.369241 49.035608 \r\nL 274.898707 49.753942 \r\nL 276.428172 48.112567 \r\nL 277.957638 54.851039 \r\nL 279.487103 59.733023 \r\nL 282.546034 44.752856 \r\nL 284.0755 48.551009 \r\nL 285.604965 36.949792 \r\nL 287.134431 50.241536 \r\nL 288.663896 53.603854 \r\nL 290.193362 38.896741 \r\nL 291.722827 43.735566 \r\nL 293.252293 48.950352 \r\nL 294.781758 47.798709 \r\nL 296.311224 40.975072 \r\nL 297.840689 43.931328 \r\nL 299.370155 41.866718 \r\nL 300.89962 46.737214 \r\nL 302.429086 39.250183 \r\nL 303.958551 50.328637 \r\nL 305.488017 42.716239 \r\nL 307.017482 46.313937 \r\nL 308.546948 37.11997 \r\nL 310.076413 39.208529 \r\nL 311.605879 48.629223 \r\nL 313.135344 50.618511 \r\nL 314.66481 53.900339 \r\nL 316.194275 48.143863 \r\nL 317.723741 50.470614 \r\nL 319.253206 54.480925 \r\nL 320.782672 46.505282 \r\nL 322.312137 48.877909 \r\nL 323.841603 49.797264 \r\nL 325.371068 45.023248 \r\nL 326.900534 42.879616 \r\nL 328.429999 49.394285 \r\nL 329.959465 46.313937 \r\nL 331.48893 44.635856 \r\nL 333.018396 40.743211 \r\nL 334.547861 39.569013 \r\nL 336.077327 42.208627 \r\nL 337.606792 41.613156 \r\nL 339.136258 41.236021 \r\nL 340.665724 34.017547 \r\nL 342.195189 47.250295 \r\nL 343.724655 43.383174 \r\nL 345.25412 37.977379 \r\nL 346.783586 44.199244 \r\nL 348.313051 43.540204 \r\nL 349.842517 43.969782 \r\nL 351.371982 49.193413 \r\nL 352.901448 44.752856 \r\nL 354.430913 36.142327 \r\nL 355.960379 43.695849 \r\nL 359.01931 30.23353 \r\nL 360.548775 36.331604 \r\nL 362.078241 43.735194 \r\nL 363.607706 40.437816 \r\nL 365.137172 47.026547 \r\nL 366.666637 42.64355 \r\nL 368.196103 40.585373 \r\nL 369.725568 38.154703 \r\nL 369.725568 38.154703 \r\n\" style=\"fill:none;stroke:#ff0000;stroke-linecap:square;stroke-width:1.5;\"/>\r\n   </g>\r\n   <g id=\"line2d_16\">\r\n    <path clip-path=\"url(#p972fc6210a)\" d=\"M 65.361932 179.89424 \r\nL 66.891397 134.988649 \r\nL 68.420863 188.455085 \r\nL 69.950328 140.346509 \r\nL 71.479794 193.067817 \r\nL 73.009259 196.357404 \r\nL 74.538725 132.230181 \r\nL 76.06819 192.228265 \r\nL 77.597656 182.60737 \r\nL 79.127121 133.955057 \r\nL 82.186052 161.841743 \r\nL 83.715518 133.496922 \r\nL 85.244983 149.086934 \r\nL 86.774449 139.065594 \r\nL 88.303914 157.652848 \r\nL 89.83338 154.982746 \r\nL 91.362845 150.790192 \r\nL 92.892311 192.848568 \r\nL 94.421776 134.925627 \r\nL 95.951242 123.571583 \r\nL 97.480708 121.474588 \r\nL 99.010173 201.708539 \r\nL 100.539639 157.209986 \r\nL 102.069104 120.215653 \r\nL 103.59857 125.54766 \r\nL 105.128035 155.665129 \r\nL 106.657501 117.093467 \r\nL 108.186966 113.629518 \r\nL 109.716432 125.138304 \r\nL 111.245897 141.444926 \r\nL 112.775363 173.102248 \r\nL 114.304828 118.503328 \r\nL 115.834294 214.756364 \r\nL 117.363759 129.587227 \r\nL 118.893225 189.659783 \r\nL 120.42269 125.083071 \r\nL 121.952156 164.110968 \r\nL 123.481621 122.040896 \r\nL 125.011087 111.845941 \r\nL 126.540552 207.85797 \r\nL 128.070018 165.104962 \r\nL 129.599483 192.378806 \r\nL 131.128949 125.596993 \r\nL 132.658414 177.912914 \r\nL 134.18788 104.800467 \r\nL 135.717345 78.237253 \r\nL 137.246811 109.56008 \r\nL 138.776276 114.249356 \r\nL 140.305742 162.401638 \r\nL 141.835207 146.138657 \r\nL 143.364673 111.418293 \r\nL 144.894138 112.563261 \r\nL 146.423604 72.53317 \r\nL 147.953069 88.31269 \r\nL 149.482535 119.968324 \r\nL 151.012 116.641895 \r\nL 152.541466 122.404423 \r\nL 154.070931 113.431362 \r\nL 155.600397 175.357368 \r\nL 157.129862 120.832873 \r\nL 158.659328 139.737358 \r\nL 160.188793 73.530595 \r\nL 161.718259 63.222151 \r\nL 163.247724 58.697917 \r\nL 164.77719 81.103705 \r\nL 166.306655 94.312396 \r\nL 167.836121 69.238141 \r\nL 169.365586 148.4458 \r\nL 170.895052 87.108217 \r\nL 172.424517 140.853266 \r\nL 173.953983 105.700758 \r\nL 175.483448 88.834176 \r\nL 177.012914 97.317402 \r\nL 178.54238 74.12861 \r\nL 180.071845 116.634117 \r\nL 181.601311 97.377651 \r\nL 183.130776 86.127898 \r\nL 184.660242 95.241223 \r\nL 186.189707 153.676843 \r\nL 187.719173 131.4779 \r\nL 189.248638 101.655874 \r\nL 190.778104 131.014469 \r\nL 192.307569 80.800675 \r\nL 193.837035 65.574788 \r\nL 195.3665 128.673126 \r\nL 196.895966 78.886988 \r\nL 198.425431 97.72417 \r\nL 199.954897 109.161462 \r\nL 201.484362 139.0419 \r\nL 203.013828 96.76575 \r\nL 204.543293 76.61236 \r\nL 206.072759 89.033904 \r\nL 207.602224 92.498026 \r\nL 209.13169 124.647156 \r\nL 210.661155 69.548889 \r\nL 212.190621 70.55716 \r\nL 213.720086 73.410497 \r\nL 215.249552 58.584242 \r\nL 216.779017 146.333739 \r\nL 218.308483 74.45507 \r\nL 219.837948 104.28071 \r\nL 221.367414 109.203553 \r\nL 222.896879 161.085916 \r\nL 224.426345 109.858005 \r\nL 225.95581 85.521542 \r\nL 227.485276 131.370518 \r\nL 229.014741 140.660275 \r\nL 230.544207 139.077463 \r\nL 232.073672 79.417309 \r\nL 233.603138 68.959933 \r\nL 235.132603 56.107311 \r\nL 236.662069 72.272033 \r\nL 238.191534 115.05294 \r\nL 239.721 78.00855 \r\nL 241.250465 128.244665 \r\nL 242.779931 102.897771 \r\nL 244.309396 104.943932 \r\nL 245.838862 82.436466 \r\nL 247.368327 54.156194 \r\nL 248.897793 93.870895 \r\nL 250.427258 55.146357 \r\nL 251.956724 112.556315 \r\nL 253.486189 102.653895 \r\nL 255.015655 52.791998 \r\nL 256.54512 126.545709 \r\nL 258.074586 34.683301 \r\nL 259.604052 65.385816 \r\nL 261.133517 74.719138 \r\nL 262.662983 49.109529 \r\nL 264.192448 43.960238 \r\nL 265.721914 96.25601 \r\nL 267.251379 24.273874 \r\nL 268.780845 76.791888 \r\nL 270.31031 136.870506 \r\nL 271.839776 53.296243 \r\nL 273.369241 56.736233 \r\nL 274.898707 89.858996 \r\nL 276.428172 104.080022 \r\nL 277.957638 59.97495 \r\nL 279.487103 54.52856 \r\nL 281.016569 75.666455 \r\nL 282.546034 92.094437 \r\nL 284.0755 44.903911 \r\nL 285.604965 152.29514 \r\nL 287.134431 49.645436 \r\nL 288.663896 63.56476 \r\nL 290.193362 51.186456 \r\nL 291.722827 54.838907 \r\nL 293.252293 113.322257 \r\nL 294.781758 60.650812 \r\nL 296.311224 43.876607 \r\nL 297.840689 44.873975 \r\nL 299.370155 75.408028 \r\nL 300.89962 56.321245 \r\nL 302.429086 49.372798 \r\nL 303.958551 51.68208 \r\nL 305.488017 32.243685 \r\nL 307.017482 34.597855 \r\nL 308.546948 53.886199 \r\nL 310.076413 39.331832 \r\nL 311.605879 54.09329 \r\nL 313.135344 89.771652 \r\nL 314.66481 62.461194 \r\nL 316.194275 25.272986 \r\nL 319.253206 113.004824 \r\nL 320.782672 45.402602 \r\nL 322.312137 58.883911 \r\nL 323.841603 34.275447 \r\nL 325.371068 22.924286 \r\nL 326.900534 109.111927 \r\nL 328.429999 48.430372 \r\nL 329.959465 95.915016 \r\nL 331.48893 57.213481 \r\nL 333.018396 49.504336 \r\nL 334.547861 30.922309 \r\nL 336.077327 58.628465 \r\nL 337.606792 43.189836 \r\nL 339.136258 36.502591 \r\nL 340.665724 55.595144 \r\nL 342.195189 48.582056 \r\nL 343.724655 42.819154 \r\nL 345.25412 51.339507 \r\nL 346.783586 39.153681 \r\nL 348.313051 94.209216 \r\nL 349.842517 62.586433 \r\nL 351.371982 45.125061 \r\nL 352.901448 54.28888 \r\nL 354.430913 36.37459 \r\nL 355.960379 75.117733 \r\nL 357.489844 56.418835 \r\nL 359.01931 105.925079 \r\nL 360.548775 17.083636 \r\nL 362.078241 35.228235 \r\nL 363.607706 48.54079 \r\nL 365.137172 38.274447 \r\nL 366.666637 172.657463 \r\nL 369.725568 91.972327 \r\nL 369.725568 91.972327 \r\n\" style=\"fill:none;stroke:#0000ff;stroke-linecap:square;stroke-width:1.5;\"/>\r\n   </g>\r\n   <g id=\"patch_3\">\r\n    <path d=\"M 50.14375 224.64 \r\nL 50.14375 7.2 \r\n\" style=\"fill:none;stroke:#000000;stroke-linecap:square;stroke-linejoin:miter;stroke-width:0.8;\"/>\r\n   </g>\r\n   <g id=\"patch_4\">\r\n    <path d=\"M 384.94375 224.64 \r\nL 384.94375 7.2 \r\n\" style=\"fill:none;stroke:#000000;stroke-linecap:square;stroke-linejoin:miter;stroke-width:0.8;\"/>\r\n   </g>\r\n   <g id=\"patch_5\">\r\n    <path d=\"M 50.14375 224.64 \r\nL 384.94375 224.64 \r\n\" style=\"fill:none;stroke:#000000;stroke-linecap:square;stroke-linejoin:miter;stroke-width:0.8;\"/>\r\n   </g>\r\n   <g id=\"patch_6\">\r\n    <path d=\"M 50.14375 7.2 \r\nL 384.94375 7.2 \r\n\" style=\"fill:none;stroke:#000000;stroke-linecap:square;stroke-linejoin:miter;stroke-width:0.8;\"/>\r\n   </g>\r\n   <g id=\"legend_1\">\r\n    <g id=\"patch_7\">\r\n     <path d=\"M 57.14375 45.1125 \r\nL 134.54375 45.1125 \r\nQ 136.54375 45.1125 136.54375 43.1125 \r\nL 136.54375 14.2 \r\nQ 136.54375 12.2 134.54375 12.2 \r\nL 57.14375 12.2 \r\nQ 55.14375 12.2 55.14375 14.2 \r\nL 55.14375 43.1125 \r\nQ 55.14375 45.1125 57.14375 45.1125 \r\nz\r\n\" style=\"fill:#ffffff;opacity:0.8;stroke:#cccccc;stroke-linejoin:miter;\"/>\r\n    </g>\r\n    <g id=\"line2d_17\">\r\n     <path d=\"M 59.14375 20.298437 \r\nL 79.14375 20.298437 \r\n\" style=\"fill:none;stroke:#ff0000;stroke-linecap:square;stroke-width:1.5;\"/>\r\n    </g>\r\n    <g id=\"line2d_18\"/>\r\n    <g id=\"text_17\">\r\n     <!-- train_acc -->\r\n     <defs>\r\n      <path d=\"M 18.3125 70.21875 \r\nL 18.3125 54.6875 \r\nL 36.8125 54.6875 \r\nL 36.8125 47.703125 \r\nL 18.3125 47.703125 \r\nL 18.3125 18.015625 \r\nQ 18.3125 11.328125 20.140625 9.421875 \r\nQ 21.96875 7.515625 27.59375 7.515625 \r\nL 36.8125 7.515625 \r\nL 36.8125 0 \r\nL 27.59375 0 \r\nQ 17.1875 0 13.234375 3.875 \r\nQ 9.28125 7.765625 9.28125 18.015625 \r\nL 9.28125 47.703125 \r\nL 2.6875 47.703125 \r\nL 2.6875 54.6875 \r\nL 9.28125 54.6875 \r\nL 9.28125 70.21875 \r\nz\r\n\" id=\"DejaVuSans-116\"/>\r\n      <path d=\"M 41.109375 46.296875 \r\nQ 39.59375 47.171875 37.8125 47.578125 \r\nQ 36.03125 48 33.890625 48 \r\nQ 26.265625 48 22.1875 43.046875 \r\nQ 18.109375 38.09375 18.109375 28.8125 \r\nL 18.109375 0 \r\nL 9.078125 0 \r\nL 9.078125 54.6875 \r\nL 18.109375 54.6875 \r\nL 18.109375 46.1875 \r\nQ 20.953125 51.171875 25.484375 53.578125 \r\nQ 30.03125 56 36.53125 56 \r\nQ 37.453125 56 38.578125 55.875 \r\nQ 39.703125 55.765625 41.0625 55.515625 \r\nz\r\n\" id=\"DejaVuSans-114\"/>\r\n      <path d=\"M 34.28125 27.484375 \r\nQ 23.390625 27.484375 19.1875 25 \r\nQ 14.984375 22.515625 14.984375 16.5 \r\nQ 14.984375 11.71875 18.140625 8.90625 \r\nQ 21.296875 6.109375 26.703125 6.109375 \r\nQ 34.1875 6.109375 38.703125 11.40625 \r\nQ 43.21875 16.703125 43.21875 25.484375 \r\nL 43.21875 27.484375 \r\nz\r\nM 52.203125 31.203125 \r\nL 52.203125 0 \r\nL 43.21875 0 \r\nL 43.21875 8.296875 \r\nQ 40.140625 3.328125 35.546875 0.953125 \r\nQ 30.953125 -1.421875 24.3125 -1.421875 \r\nQ 15.921875 -1.421875 10.953125 3.296875 \r\nQ 6 8.015625 6 15.921875 \r\nQ 6 25.140625 12.171875 29.828125 \r\nQ 18.359375 34.515625 30.609375 34.515625 \r\nL 43.21875 34.515625 \r\nL 43.21875 35.40625 \r\nQ 43.21875 41.609375 39.140625 45 \r\nQ 35.0625 48.390625 27.6875 48.390625 \r\nQ 23 48.390625 18.546875 47.265625 \r\nQ 14.109375 46.140625 10.015625 43.890625 \r\nL 10.015625 52.203125 \r\nQ 14.9375 54.109375 19.578125 55.046875 \r\nQ 24.21875 56 28.609375 56 \r\nQ 40.484375 56 46.34375 49.84375 \r\nQ 52.203125 43.703125 52.203125 31.203125 \r\nz\r\n\" id=\"DejaVuSans-97\"/>\r\n      <path d=\"M 9.421875 54.6875 \r\nL 18.40625 54.6875 \r\nL 18.40625 0 \r\nL 9.421875 0 \r\nz\r\nM 9.421875 75.984375 \r\nL 18.40625 75.984375 \r\nL 18.40625 64.59375 \r\nL 9.421875 64.59375 \r\nz\r\n\" id=\"DejaVuSans-105\"/>\r\n      <path d=\"M 54.890625 33.015625 \r\nL 54.890625 0 \r\nL 45.90625 0 \r\nL 45.90625 32.71875 \r\nQ 45.90625 40.484375 42.875 44.328125 \r\nQ 39.84375 48.1875 33.796875 48.1875 \r\nQ 26.515625 48.1875 22.3125 43.546875 \r\nQ 18.109375 38.921875 18.109375 30.90625 \r\nL 18.109375 0 \r\nL 9.078125 0 \r\nL 9.078125 54.6875 \r\nL 18.109375 54.6875 \r\nL 18.109375 46.1875 \r\nQ 21.34375 51.125 25.703125 53.5625 \r\nQ 30.078125 56 35.796875 56 \r\nQ 45.21875 56 50.046875 50.171875 \r\nQ 54.890625 44.34375 54.890625 33.015625 \r\nz\r\n\" id=\"DejaVuSans-110\"/>\r\n      <path d=\"M 50.984375 -16.609375 \r\nL 50.984375 -23.578125 \r\nL -0.984375 -23.578125 \r\nL -0.984375 -16.609375 \r\nz\r\n\" id=\"DejaVuSans-95\"/>\r\n     </defs>\r\n     <g transform=\"translate(87.14375 23.798437)scale(0.1 -0.1)\">\r\n      <use xlink:href=\"#DejaVuSans-116\"/>\r\n      <use x=\"39.208984\" xlink:href=\"#DejaVuSans-114\"/>\r\n      <use x=\"80.322266\" xlink:href=\"#DejaVuSans-97\"/>\r\n      <use x=\"141.601562\" xlink:href=\"#DejaVuSans-105\"/>\r\n      <use x=\"169.384766\" xlink:href=\"#DejaVuSans-110\"/>\r\n      <use x=\"232.763672\" xlink:href=\"#DejaVuSans-95\"/>\r\n      <use x=\"282.763672\" xlink:href=\"#DejaVuSans-97\"/>\r\n      <use x=\"344.042969\" xlink:href=\"#DejaVuSans-99\"/>\r\n      <use x=\"399.023438\" xlink:href=\"#DejaVuSans-99\"/>\r\n     </g>\r\n    </g>\r\n    <g id=\"line2d_19\">\r\n     <path d=\"M 59.14375 35.254687 \r\nL 79.14375 35.254687 \r\n\" style=\"fill:none;stroke:#0000ff;stroke-linecap:square;stroke-width:1.5;\"/>\r\n    </g>\r\n    <g id=\"line2d_20\"/>\r\n    <g id=\"text_18\">\r\n     <!-- val_acc -->\r\n     <defs>\r\n      <path d=\"M 2.984375 54.6875 \r\nL 12.5 54.6875 \r\nL 29.59375 8.796875 \r\nL 46.6875 54.6875 \r\nL 56.203125 54.6875 \r\nL 35.6875 0 \r\nL 23.484375 0 \r\nz\r\n\" id=\"DejaVuSans-118\"/>\r\n      <path d=\"M 9.421875 75.984375 \r\nL 18.40625 75.984375 \r\nL 18.40625 0 \r\nL 9.421875 0 \r\nz\r\n\" id=\"DejaVuSans-108\"/>\r\n     </defs>\r\n     <g transform=\"translate(87.14375 38.754687)scale(0.1 -0.1)\">\r\n      <use xlink:href=\"#DejaVuSans-118\"/>\r\n      <use x=\"59.179688\" xlink:href=\"#DejaVuSans-97\"/>\r\n      <use x=\"120.458984\" xlink:href=\"#DejaVuSans-108\"/>\r\n      <use x=\"148.242188\" xlink:href=\"#DejaVuSans-95\"/>\r\n      <use x=\"198.242188\" xlink:href=\"#DejaVuSans-97\"/>\r\n      <use x=\"259.521484\" xlink:href=\"#DejaVuSans-99\"/>\r\n      <use x=\"314.501953\" xlink:href=\"#DejaVuSans-99\"/>\r\n     </g>\r\n    </g>\r\n   </g>\r\n  </g>\r\n </g>\r\n <defs>\r\n  <clipPath id=\"p972fc6210a\">\r\n   <rect height=\"217.44\" width=\"334.8\" x=\"50.14375\" y=\"7.2\"/>\r\n  </clipPath>\r\n </defs>\r\n</svg>\r\n",
      "image/png": "[encoded data removed]"
     },
     "metadata": {
      "needs_background": "light"
     }
    }
   ],
   "source": [
    "train_acc_hist = [calc_acc(mat) for mat in history['train']['conf_mat']]\n",
    "val_acc_hist = [calc_acc(mat) for mat in history['val']['conf_mat']]\n",
    "\n",
    "plt.plot(train_acc_hist, color='red', label='train_acc')\n",
    "plt.plot(val_acc_hist, color='blue', label='val_acc')\n",
    "plt.legend()\n",
    "\n",
    "plt.xlabel('Epochs')\n",
    "plt.ylabel('Loss')\n",
    "\n",
    "plt.savefig(f'./img/modelo_v1_acc_seed_{SEED}.png')\n",
    "\n",
    "plt.show()"
   ]
  },
  {
   "cell_type": "code",
   "execution_count": 43,
   "metadata": {},
   "outputs": [
    {
     "output_type": "stream",
     "name": "stdout",
     "text": "Mejor época de entrenamiento: 192\nMejor época de validación: 193\n"
    }
   ],
   "source": [
    "best_acc_train_epoch = np.argmax(train_acc_hist)\n",
    "best_acc_val_epoch = np.argmax(val_acc_hist)\n",
    "print(f\"Mejor época de entrenamiento: {best_acc_train_epoch}\")\n",
    "print(f\"Mejor época de validación: {best_acc_val_epoch}\")"
   ]
  },
  {
   "cell_type": "code",
   "execution_count": null,
   "metadata": {},
   "outputs": [],
   "source": [
    "def ix_sent_to_str(ix_sent):\n",
    "    return ' '.join([index_to_word[ix] for ix in ix_sent])\n",
    "\n",
    "def ix_sent_to_str(ix_sent):\n",
    "    return ' '.join([index_to_word[ix] for ix in ix_sent])"
   ]
  },
  {
   "cell_type": "code",
   "execution_count": 84,
   "metadata": {},
   "outputs": [
    {
     "output_type": "execute_result",
     "data": {
      "text/plain": "array([0, 2, 6, 4, 4, 4, 0, 2, 6, 4, 4, 0, 0, 0, 0, 0, 5, 0, 0, 0, 0, 0,\n       0, 0, 0], dtype=int64)"
     },
     "metadata": {},
     "execution_count": 84
    }
   ],
   "source": [
    "modelo.predecir(train_Data[0][0])"
   ]
  },
  {
   "cell_type": "markdown",
   "metadata": {},
   "source": [
    "\n",
    "5. Evaluar el desempeño del sistema a partir del corpus de evaluación y con la métrica de Exactitud (Accuracy).\n",
    "6. Ejemplificar el reconocimiento de entidades nombradas con 5 sentencias del corpus de evaluación."
   ]
  }
 ],
 "metadata": {
  "language_info": {
   "codemirror_mode": {
    "name": "ipython",
    "version": 3
   },
   "file_extension": ".py",
   "mimetype": "text/x-python",
   "name": "python",
   "nbconvert_exporter": "python",
   "pygments_lexer": "ipython3",
   "version": "3.7.4-final"
  },
  "orig_nbformat": 2,
  "kernelspec": {
   "name": "python3",
   "display_name": "Python 3"
  }
 },
 "nbformat": 4,
 "nbformat_minor": 2
}