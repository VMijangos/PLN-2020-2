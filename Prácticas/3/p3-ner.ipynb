{
 "cells": [
  {
   "cell_type": "markdown",
   "metadata": {},
   "source": [
    "# Práctica 3. Reconocimiento de Entidades Nombradas. NER\n",
    "\n",
    "Andrés González Flores\n",
    "\n",
    "Procesamiento de Lenguaje Natural\n",
    "\n",
    "Facultad de Ingeniería, UNAM\n",
    "\n",
    "## Objetivo\n",
    "\n",
    "Realizar un reconocimiento de Entidades Nombradas (NER) a partir de un modelo secuencial y con el corpus ‘ner dataset.csv’ que se proporciona.\n",
    "\n",
    "## Instrucciones\n",
    "\n",
    "Se deberán seguir los siguientes pasos:\n",
    "\n",
    "1. Obtener las sentencias a partir del csv. En este archivo, se indica cada inicio de sentencia con ‘Sentence: n’. Se cuenta con 1000 sentencias que conformarán el corpus de entrenamiento y evaluación.\n",
    "2. Preprocesar los datos.\n",
    "3. Separar los datos en corpus de entrenamiento (70%) y corpus de evaluación (30%).\n",
    "4. Entrenar un modelo secuencial a partir del corpus de entrenamiento. Deberán definirse los hiperparámetros.\n",
    "5. Evaluar el desempeño del sistema a partir del corpus de evaluación y con la métrica de Exactitud (Accuracy).\n",
    "6. Ejemplificar el reconocimiento de entidades nombradas con 5 sentencias del corpus de evaluación."
   ]
  },
  {
   "cell_type": "code",
   "execution_count": null,
   "metadata": {},
   "outputs": [],
   "source": []
  }
 ],
 "metadata": {
  "language_info": {
   "codemirror_mode": {
    "name": "ipython",
    "version": 3
   },
   "file_extension": ".py",
   "mimetype": "text/x-python",
   "name": "python",
   "nbconvert_exporter": "python",
   "pygments_lexer": "ipython3",
   "version": 3
  },
  "orig_nbformat": 2
 },
 "nbformat": 4,
 "nbformat_minor": 2
}