{
 "cells": [
  {
   "cell_type": "markdown",
   "metadata": {},
   "source": [
    "# Práctica 3. Reconocimiento de Entidades Nombradas. NER\n",
    "\n",
    "Andrés González Flores\n",
    "\n",
    "Procesamiento de Lenguaje Natural\n",
    "\n",
    "Facultad de Ingeniería, UNAM\n",
    "\n",
    "## Objetivo\n",
    "\n",
    "Realizar un reconocimiento de Entidades Nombradas (NER) a partir de un modelo secuencial y con el corpus ‘ner dataset.csv’ que se proporciona.\n",
    "\n",
    "## Instrucciones\n",
    "\n",
    "Se deberán seguir los siguientes pasos:\n",
    "\n",
    "1. Obtener las sentencias a partir del csv. En este archivo, se indica cada inicio de sentencia con ‘Sentence: n’. Se cuenta con 1000 sentencias que conformarán el corpus de entrenamiento y evaluación.\n",
    "2. Preprocesar los datos.\n",
    "3. Separar los datos en corpus de entrenamiento (70%) y corpus de evaluación (30%).\n",
    "4. Entrenar un modelo secuencial a partir del corpus de entrenamiento. Deberán definirse los hiperparámetros.\n",
    "5. Evaluar el desempeño del sistema a partir del corpus de evaluación y con la métrica de Exactitud (Accuracy).\n",
    "6. Ejemplificar el reconocimiento de entidades nombradas con 5 sentencias del corpus de evaluación."
   ]
  },
  {
   "cell_type": "markdown",
   "metadata": {},
   "source": [
    "## Dessarrollo"
   ]
  },
  {
   "cell_type": "code",
   "execution_count": 1,
   "metadata": {},
   "outputs": [],
   "source": [
    "import csv\n",
    "import numpy as np\n",
    "from collections import Counter, defaultdict\n",
    "from sklearn.model_selection import train_test_split\n",
    "import matplotlib.pyplot as plt\n",
    "from itertools import chain\n",
    "from tqdm.notebook import tqdm as nbtqdm\n",
    "from pprint import pprint"
   ]
  },
  {
   "cell_type": "code",
   "execution_count": 2,
   "metadata": {},
   "outputs": [],
   "source": [
    "# Definición de constantes\n",
    "SEED = 42\n",
    "CORPUS_PATH = './ner_dataset.csv'\n",
    "BOS = '<BOS>'\n",
    "EOS = '<EOS>'\n",
    "UNK = '<unk>'\n",
    "\n",
    "np.random.seed(SEED)"
   ]
  },
  {
   "cell_type": "markdown",
   "metadata": {},
   "source": [
    "### Paso 1. Obtener sentencias.\n"
   ]
  },
  {
   "cell_type": "code",
   "execution_count": 3,
   "metadata": {},
   "outputs": [],
   "source": [
    "with open(CORPUS_PATH, 'r', encoding='utf-8') as f:\n",
    "    reader = csv.reader(f)\n",
    "    csvlist = list(reader)"
   ]
  },
  {
   "cell_type": "code",
   "execution_count": 4,
   "metadata": {},
   "outputs": [],
   "source": [
    "sentences = []\n",
    "sent_i = []\n",
    "for row in csvlist[1:]:\n",
    "    if row[0] is not '':\n",
    "        sentences.append(sent_i)\n",
    "        sent_i = []\n",
    "    sent_i.append((row[1], row[2]))\n",
    "# Mi algoritmo está feo: agrega la primer sentencia vacía y no agrega la última\n",
    "del sentences[0]\n",
    "sentences.append(sent_i)"
   ]
  },
  {
   "cell_type": "code",
   "execution_count": 5,
   "metadata": {},
   "outputs": [
    {
     "output_type": "stream",
     "name": "stdout",
     "text": "Número de oraciones = 1000\n\nEjemplos:\nThousands of demonstrators have marched through London to protest the war in Iraq and demand the withdrawal of British troops from that country .\nFamilies of soldiers killed in the conflict joined the protesters who carried banners with such slogans as \" Bush Number One Terrorist \" and \" Stop the Bombings . \"\nThey marched from the Houses of Parliament to a rally in Hyde Park .\nPolice put the number of marchers at 10000 while organizers claimed it was 1,00,000 .\nThe protest comes on the eve of the annual conference of Britain 's ruling Labor Party in the southern English seaside resort of Brighton .\n"
    }
   ],
   "source": [
    "print(f'Número de oraciones = {len(sentences)}\\n')\n",
    "print('Ejemplos:')\n",
    "print('\\n'.join([' '.join([w for w, tag in sent]) for sent in sentences[:5] ]))"
   ]
  },
  {
   "cell_type": "markdown",
   "metadata": {},
   "source": [
    "### Paso 2. Preprocesamiento"
   ]
  },
  {
   "cell_type": "code",
   "execution_count": 6,
   "metadata": {},
   "outputs": [
    {
     "output_type": "execute_result",
     "data": {
      "text/plain": "[('the', 1111),\n ('.', 995),\n (',', 637),\n ('in', 576),\n ('of', 568),\n ('to', 505),\n ('a', 449),\n ('and', 391),\n ('The', 241),\n (\"'s\", 202)]"
     },
     "metadata": {},
     "execution_count": 6
    }
   ],
   "source": [
    "freq_tokens = Counter([w for w,_ in chain(*sentences)])\n",
    "freq_tokens.most_common(10)"
   ]
  },
  {
   "cell_type": "markdown",
   "metadata": {},
   "source": [
    "Agrego el diccionario de entrada"
   ]
  },
  {
   "cell_type": "code",
   "execution_count": 7,
   "metadata": {},
   "outputs": [
    {
     "output_type": "stream",
     "name": "stdout",
     "text": "[('the', 0),\n ('.', 1),\n (',', 2),\n ('in', 3),\n ('of', 4),\n ('to', 5),\n ('a', 6),\n ('and', 7),\n ('The', 8),\n (\"'s\", 9)]\n"
    }
   ],
   "source": [
    "word_to_index = { \n",
    "    x[0] : i for i, x in enumerate(freq_tokens.most_common())\n",
    "    if freq_tokens[x[0]] > 1\n",
    "}\n",
    "\n",
    "pprint(list(word_to_index.items())[:10])"
   ]
  },
  {
   "cell_type": "markdown",
   "metadata": {},
   "source": [
    "Agrego los identificadores UNK, BOS Y EOS al vocabulario de entrada"
   ]
  },
  {
   "cell_type": "code",
   "execution_count": 8,
   "metadata": {},
   "outputs": [
    {
     "output_type": "stream",
     "name": "stdout",
     "text": "[('collapse', 2102),\n ('Barno', 2103),\n ('reunification', 2104),\n ('Berlin', 2105),\n ('Kohl', 2106),\n ('proud', 2107),\n ('wall', 2108),\n ('<unk>', 2109),\n ('<BOS>', 2110),\n ('<EOS>', 2111)]\n"
    }
   ],
   "source": [
    "word_to_index[UNK] = max(word_to_index.values())+1\n",
    "word_to_index[BOS] = word_to_index[UNK]+1\n",
    "word_to_index[EOS] = word_to_index[BOS]+1\n",
    "\n",
    "pprint(list(word_to_index.items())[-10:])"
   ]
  },
  {
   "cell_type": "markdown",
   "metadata": {},
   "source": [
    "Agrego el vocabulario de salida (las etiquetas)"
   ]
  },
  {
   "cell_type": "code",
   "execution_count": 9,
   "metadata": {},
   "outputs": [
    {
     "output_type": "execute_result",
     "data": {
      "text/plain": "[('', 18843),\n ('B-ge', 583),\n ('B-gpe', 543),\n ('B-rg', 413),\n ('I-per', 400),\n ('B-tim', 358),\n ('B-per', 327),\n ('I-rg', 290),\n ('I-ge', 105),\n ('I-tim', 77),\n ('B-art', 39),\n ('I-gpe', 26),\n ('I-art', 22),\n ('B-eve', 20),\n ('I-eve', 16),\n ('B-nat', 9),\n ('I-nat', 5)]"
     },
     "metadata": {},
     "execution_count": 9
    }
   ],
   "source": [
    "freq_tags = Counter([tag for _,tag in chain(*sentences)])\n",
    "freq_tags.most_common()"
   ]
  },
  {
   "cell_type": "code",
   "execution_count": 10,
   "metadata": {},
   "outputs": [
    {
     "output_type": "stream",
     "name": "stdout",
     "text": "{'': 0,\n 'B-art': 10,\n 'B-eve': 13,\n 'B-ge': 1,\n 'B-gpe': 2,\n 'B-nat': 15,\n 'B-per': 6,\n 'B-rg': 3,\n 'B-tim': 5,\n 'I-art': 12,\n 'I-eve': 14,\n 'I-ge': 8,\n 'I-gpe': 11,\n 'I-nat': 16,\n 'I-per': 4,\n 'I-rg': 7,\n 'I-tim': 9}\n"
    }
   ],
   "source": [
    "tag_to_index = {\n",
    "    y[0] : i for i, y in enumerate(freq_tags.most_common())\n",
    "}\n",
    "pprint(tag_to_index)"
   ]
  },
  {
   "cell_type": "markdown",
   "metadata": {},
   "source": [
    "Creo los vocabularios inversos"
   ]
  },
  {
   "cell_type": "code",
   "execution_count": 14,
   "metadata": {},
   "outputs": [
    {
     "output_type": "stream",
     "name": "stdout",
     "text": "Tamaño del vocabulario: 2112\nEjemplos de palabras:\nthe, parliament, measure, claim, flown, burning, Tokar\n\nVocabulario de etiquetas:\n(', B-ge, B-gpe, B-rg, I-per, B-tim, B-per, I-rg, I-ge, I-tim, B-art, I-gpe, '\n 'I-art, B-eve, I-eve, B-nat, I-nat')\n"
    }
   ],
   "source": [
    "index_to_word = [w for w in word_to_index.keys()]\n",
    "print(f'Tamaño del vocabulario: {len(index_to_word)}')\n",
    "print('Ejemplos de palabras:')\n",
    "print(', '.join(index_to_word[::350]))\n",
    "print()\n",
    "\n",
    "index_to_tag = [tag for tag in tag_to_index.keys()]\n",
    "print('Vocabulario de etiquetas:')\n",
    "pprint(', '.join(index_to_tag))"
   ]
  },
  {
   "cell_type": "markdown",
   "metadata": {},
   "source": [
    "Creo un método que devuelve siempre un indice del vocabulario o el identificador UNK"
   ]
  },
  {
   "cell_type": "code",
   "execution_count": 15,
   "metadata": {},
   "outputs": [],
   "source": [
    "def word_safe_vocab_index(w, vocab, ix_UNK):\n",
    "    try:\n",
    "        return vocab[w]\n",
    "    except KeyError:\n",
    "        return ix_UNK"
   ]
  },
  {
   "cell_type": "markdown",
   "metadata": {},
   "source": [
    "Armo el corpus de entrenamiento"
   ]
  },
  {
   "cell_type": "code",
   "execution_count": 16,
   "metadata": {},
   "outputs": [
    {
     "output_type": "stream",
     "name": "stdout",
     "text": "(2110, 0) (904, 0) (4, 0) (905, 0) (14, 0) (906, 0) (243, 0) (244, 1) (5, 0) (298, 0) (0, 0) (127, 0) (3, 0) (53, 1) (7, 0) (1282, 0) (0, 0) (679, 0) (4, 0) (99, 2) (77, 0) (17, 0) (16, 0) (71, 0) (1, 0) (2111, 0)\n\n(2110, 0) (2109, 0) (4, 0) (177, 0) (31, 0) (3, 0) (0, 0) (680, 0) (551, 0) (0, 0) (458, 0) (59, 0) (459, 0) (2109, 0) (18, 0) (245, 0) (1283, 0) (25, 0) (28, 0) (200, 6) (2109, 0) (460, 0) (2109, 0) (28, 0) (7, 0) (28, 0) (2109, 0) (0, 0) (2109, 0) (1, 0) (28, 0) (2111, 0)\n\n(2110, 0) (134, 0) (906, 0) (17, 0) (0, 0) (2109, 0) (4, 0) (2109, 0) (5, 0) (6, 0) (1284, 0) (3, 0) (2109, 1) (2109, 8) (1, 0) (2111, 0)\n\n(2110, 0) (268, 0) (340, 0) (0, 0) (341, 0) (4, 0) (1285, 0) (22, 0) (1286, 0) (135, 0) (1287, 0) (299, 0) (32, 0) (19, 0) (2109, 0) (1, 0) (2111, 0)\n\n(2110, 0) (8, 0) (298, 0) (552, 0) (15, 0) (0, 0) (1288, 0) (4, 0) (0, 0) (387, 0) (553, 0) (4, 0) (554, 1) (9, 0) (907, 0) (461, 3) (462, 7) (3, 0) (0, 0) (128, 0) (2109, 2) (2109, 0) (2109, 0) (4, 0) (2109, 1) (1, 0) (2111, 0)\n"
    }
   ],
   "source": [
    "ix_UNK = word_to_index[UNK]\n",
    "ix_BOS = word_to_index[BOS]\n",
    "ix_EOS = word_to_index[EOS]\n",
    "\n",
    "BOS_append = [(ix_BOS, tag_to_index[''])] # BOS y su etiqueta\n",
    "EOS_append = [(ix_EOS, tag_to_index[''])] # EOS y su etiqueta\n",
    "\n",
    "corpus = [\n",
    "    BOS_append + [ # Agrego BOS y su etiqueta\n",
    "        # Tupla con el valor del índice de la palabra y el índice de la etiqueta\n",
    "        (\n",
    "            word_safe_vocab_index(w, word_to_index, ix_UNK),\n",
    "            tag_to_index[tag]\n",
    "        ) # Fin tupla\n",
    "        for w, tag in sent # Para cada palabra en la sentencia\n",
    "    ] + EOS_append # Fin append\n",
    "    for sent in sentences # Por cada sentencia en la lista de sentencias\n",
    "]\n",
    "# pprint(corpus[:5])\n",
    "print('\\n\\n'.join([' '.join([f'({ix_w}, {ix_tag})' for ix_w, ix_tag in sent]) for sent in corpus[:5] ]))"
   ]
  },
  {
   "cell_type": "markdown",
   "metadata": {},
   "source": [
    "### Paso 3. Separar corpus de entrenamiento y evaluacion"
   ]
  },
  {
   "cell_type": "code",
   "execution_count": 17,
   "metadata": {},
   "outputs": [
    {
     "output_type": "stream",
     "name": "stdout",
     "text": "Ejemlos del corpus de entrenamiento\n[(2110, 0), (123, 0), (13, 0), (0, 0), (692, 0), (341, 0), (4, 0), (178, 0), (1599, 0), (636, 0), (1211, 0), (11, 0), (326, 0), (480, 0), (5, 0), (2109, 0), (129, 0), (2, 0), (171, 0), (1670, 0), (1, 0), (2111, 0)]\n[(2110, 0), (8, 0), (487, 0), (19, 0), (1776, 0), (27, 0), (0, 0), (131, 0), (668, 0), (3, 0), (2109, 1), (2, 0), (7, 0), (0, 0), (2109, 0), (4, 0), (50, 6), (667, 4), (2, 0), (6, 0), (2109, 0), (4, 0), (2109, 2), (49, 6), (2109, 4), (2109, 4), (2, 0), (19, 0), (13, 0), (5, 0), (565, 0), (1777, 0), (5, 0), (340, 0), (46, 0), (1778, 0), (15, 0), (2109, 2), (1, 0), (2111, 0)]\n[(2110, 0), (443, 0), (51, 0), (56, 0), (2, 0), (606, 2), (144, 6), (93, 4), (2109, 4), (2109, 4), (543, 0), (24, 0), (254, 3), (2109, 0), (11, 0), (331, 0), (538, 0), (82, 0), (4, 0), (224, 2), (9, 0), (175, 0), (2, 0), (348, 1), (1, 0), (2111, 0)]\n[(2110, 0), (1507, 0), (609, 0), (39, 0), (2109, 0), (199, 0), (46, 0), (633, 0), (7, 0), (52, 0), (1467, 0), (5, 0), (2109, 0), (22, 0), (229, 0), (2109, 0), (0, 0), (95, 0), (26, 0), (162, 0), (494, 0), (1, 0), (2111, 0)]\n[(2110, 0), (851, 1), (21, 8), (2109, 0), (861, 0), (26, 0), (22, 0), (624, 0), (25, 0), (2109, 0), (16, 0), (2109, 0), (301, 0), (4, 0), (40, 0), (4, 0), (0, 0), (198, 0), (4, 0), (457, 1), (9, 0), (473, 0), (464, 0), (26, 0), (326, 0), (1729, 0), (2109, 0), (1, 0), (2111, 0)]\n\nEjemlos del corpus de evaluacion\n[(2110, 0), (2109, 0), (60, 5), (20, 0), (0, 0), (241, 0), (29, 0), (647, 0), (3, 0), (284, 0), (273, 0), (1325, 0), (4, 0), (75, 1), (3, 0), (1205, 1), (180, 0), (2, 0), (7, 0), (3, 0), (0, 0), (861, 0), (4, 0), (2109, 1), (7, 0), (2109, 1), (1, 0), (2111, 0)]\n[(2110, 0), (261, 0), (43, 0), (89, 0), (737, 0), (449, 0), (220, 0), (17, 0), (0, 0), (80, 1), (189, 8), (7, 0), (0, 0), (534, 0), (1983, 2), (1150, 0), (3, 0), (2109, 1), (2, 0), (2109, 1), (2, 0), (7, 0), (1987, 1), (1, 0), (2111, 0)]\n[(2110, 0), (134, 0), (1097, 0), (0, 0), (2109, 0), (817, 0), (10, 0), (2109, 0), (2109, 0), (2, 0), (135, 0), (118, 0), (1989, 0), (32, 0), (3, 0), (402, 0), (589, 0), (7, 0), (1212, 0), (10, 0), (45, 0), (287, 0), (1, 0), (2111, 0)]\n[(2110, 0), (2109, 0), (111, 0), (17, 0), (1248, 1), (20, 0), (0, 0), (905, 0), (2109, 0), (28, 0), (379, 3), (82, 0), (28, 0), (7, 0), (28, 0), (2109, 0), (566, 0), (173, 0), (28, 0), (74, 0), (45, 0), (298, 0), (60, 5), (1, 0), (2111, 0)]\n[(2110, 0), (8, 0), (234, 0), (419, 0), (17, 0), (6, 0), (1756, 0), (1169, 0), (1757, 0), (3, 0), (1758, 0), (126, 1), (827, 0), (5, 0), (1423, 0), (60, 5), (34, 0), (2109, 0), (2109, 0), (0, 0), (728, 0), (4, 0), (0, 0), (66, 0), (1759, 0), (2109, 0), (1, 0), (2111, 0)]\n"
    }
   ],
   "source": [
    "train_corpus, eval_corpus = train_test_split(corpus, test_size=0.3, random_state=SEED)\n",
    "print(\"Ejemlos del corpus de entrenamiento\")\n",
    "for sent in train_corpus[:5]:\n",
    "    print(sent)\n",
    "print()\n",
    "print(\"Ejemlos del corpus de evaluacion\")\n",
    "for sent in eval_corpus[:5]:\n",
    "    print(sent)"
   ]
  },
  {
   "cell_type": "markdown",
   "metadata": {},
   "source": [
    "### Paso 4. Selección de modelo y entrenamiento\n",
    "\n",
    "Usaré un modelo de red neuronal recurrente con una capa de embedding, una capa oculta de recurrencia, y una capa de salida.\n",
    "\n",
    "La capa de embedding se define como:\n",
    "\n",
    "$$ x = Cs $$\n",
    "\n",
    "$C$ es una matriz de dimensión $d\\times N_{in}$ y $s$ es la representación one hot de la palabra en la secuencia.\n",
    "\n",
    "La capa oculta recurrente:\n",
    "\n",
    "$$ h^{(t)} = \\tanh{(Vh^{(t-1)}+Ux^{(t)}+b)} $$\n",
    "\n",
    "$V$ es una matriz de dimensión $m\\times m$, $U$ una matriz de dimensión $d\\times m $ y $b$ es el vector de bias, de dimensión $m$.\n",
    "\n",
    "Y la capa de salida:\n",
    "\n",
    "$$ y^{(t)} = Softmax(Wh^{(t-1)}+c) $$\n",
    "\n",
    "En donde $W$ es una matriz de dimensión $N_{out} \\times m$\n",
    "\n",
    "Los valores de $d$ y $m$ son hiperparámetros\n",
    "\n",
    "#### Función de Riesgo\n",
    "\n",
    "La función de riesgo será la entroía cruzada:\n",
    "\n",
    "$$ R(y, \\hat{y}) = -\\frac1N \\sum_{i=0}^Ny\\log\\hat{y_i} $$"
   ]
  },
  {
   "cell_type": "code",
   "execution_count": 61,
   "metadata": {},
   "outputs": [],
   "source": [
    "class Modelo(object):\n",
    "    def __init__(self, d, m, N_in, N_out):\n",
    "        self.d = d # DImensión de capa de embedding\n",
    "        self.m = m # Dimensión de capa oculta\n",
    "        self.N_in = N_in # Dimensión de entrada\n",
    "        self.N_out = N_out # Dimensión de salida\n",
    "\n",
    "    def inicializar_pesos(self):\n",
    "        # Capa de embedding\n",
    "        self.C = np.random.randn(self.d, self.N_in) / np.sqrt(self.N_in)\n",
    "                \n",
    "        # Capa recurrente oculta\n",
    "        self.V = np.random.randn(self.m, self.m) / np.sqrt(self.m)\n",
    "        self.U = np.random.randn(self.m, self.d) / np.sqrt(self.d)\n",
    "        self.b = np.zeros(self.m)\n",
    "\n",
    "        # Capa de salida\n",
    "        self.W = np.random.randn(self.N_out, self.m) / np.sqrt(self.m) \n",
    "        self.c = np.zeros(self.N_out)\n",
    "        \n",
    "        # Los mejores pesos del modelo\n",
    "        self.best_C = self.C        \n",
    "        self.best_V = self.W\n",
    "        self.best_U = self.U\n",
    "        self.best_b = self.b        \n",
    "        self.best_W = self.W\n",
    "        self.best_c = self.c\n",
    "    \n",
    "    def forward(self, secuencia):\n",
    "        \"\"\"Paso hacia adelante de la red. \n",
    "        Recibe como argumento una secuencia de entrada de n elementos, estos elementos\n",
    "        deben ser indices del vocabulario de entrada.\n",
    "        Da como salida $n$ vectores $h$, y $n$ vectores $y$\n",
    "        \"\"\"\n",
    "        # Tamaño de la secuencia de entrada\n",
    "        T = len(secuencia)\n",
    "\n",
    "        # Prealojamiento de salidas por estado de capas oculta y de salida.\n",
    "        h = np.zeros((T+1, self.m)) # Uso un estado adicional para t = -1\n",
    "        y = np.zeros((T, self.N_out))\n",
    "\n",
    "        # Se inicia el vector h[-1] con ceros\n",
    "        h[-1] = np.zeros(self.m)\n",
    "\n",
    "        # Propagación hacia adelante de la secuenca de entrada\n",
    "        for t in range(T):\n",
    "            # Un paso en la capa embedding se reduce a C[:, s]\n",
    "            x_t = self.C[:, secuencia[t]]\n",
    "\n",
    "            # Capa oculta recurrente\n",
    "            Vh = np.dot(self.V, h[t-1])\n",
    "            Ux = np.dot(self.U, x_t)\n",
    "            h[t] = np.tanh(Vh + Ux + self.b) # Salida de capa oculta\n",
    "\n",
    "            # Capa de salida\n",
    "            a = self.W.dot(h[t]) + self.c # Preactivación\n",
    "            exp_a = np.exp(a - a.max()) # Exponencial de la preactivación\n",
    "            y[t] = exp_a/exp_a.sum() # Salida Softmax        \n",
    "        return y, h\n",
    "    \n",
    "    def predecir(self, secuencia):\n",
    "        y, h = self.forward(secuencia)\n",
    "        return np.argmax(y, axis=1)\n",
    "\n",
    "    def calcular_riesgo_total(self, x, y):\n",
    "        \"\"\"Calculamos la función de riesgo definida por:\n",
    "        $$ R(y, \\hat{y}) = -\\frac1N \\sum_{n\\in N_{in}}y\\log\\hat{y_n} $$\n",
    "        \"\"\"\n",
    "        R = 0\n",
    "        N = len(y)\n",
    "        for i in range(N):\n",
    "            output, _ = self.forward(x[i])\n",
    "            # La probabilidad de la \"y\" verdadera\n",
    "            y_hat_n = output[np.arange(len(y[i])), y[i]]\n",
    "            R += -1 * np.sum(np.log(y_hat_n))\n",
    "        return R\n",
    "\n",
    "    def cross_entropy(self, x, y):\n",
    "        \"\"\"Calcula el resgo total y lo divide entre el número de ejemplos\n",
    "        \"\"\"\n",
    "        N = np.sum(( len(y_i) for y_i in y ))\n",
    "        return self.calcular_riesgo_total(x,y) / N\n",
    "\n",
    "    def backprop(self, x, y):\n",
    "        y_pred = np.argmax(prob_salida) # El índice de la palabra que predijo\n",
    "        \n",
    "        # Backprop\n",
    "        # Copio el arreglo para no modificar pesos de la salida original\n",
    "        d_out = np.array(prob_salida, copy=True) \n",
    "        d_out[i_y] -= 1  # p(w_k | w_i) - y_k\n",
    "        d_h = (1-h_i**2)*np.dot(d_out.T, self.U)\n",
    "        d_c = np.dot(d_h.T, self.W)\n",
    "\n",
    "        # Actualizamos los pesos\n",
    "        self.U -= lr*np.outer(d_out, h_i) \n",
    "        self.c -= lr*d_out\n",
    "        self.W -= lr*np.outer(d_h, self.C[:,i_x]) \n",
    "        self.b -= lr*d_h\n",
    "        self.C[:, i_x] -= lr*d_c # Las demás filas no nos interesan, porque son 0\n",
    "    \n",
    "    def entrenar(self, epochs=50, lr=[]):\n",
    "        entr_timeline = [] # Entropía a través de las épocas\n",
    "        min_entr = np.inf\n",
    "        for epoch in nbtqdm(range(epochs)):\n",
    "            np.random.shuffle(bigramas)\n",
    "            cross_entropy = 0\n",
    "            for bigrama in self.bigramas:\n",
    "                i_x = bigrama[0] # El índice de la primer palabra del bigrama\n",
    "                i_y = bigrama[1] # El índice de la segunda palabra del bigrama\n",
    "                # print(f'  Bigrama: {inv_vocab[i_x]} {inv_vocab[i_y]}')\n",
    "                prob_salida, h_i = self.forward(i_x)\n",
    "                # print(f'  Predicción: {inv_vocab[i_x]} {inv_vocab[np.argmax(prob_salida)]}')\n",
    "                self.backprop(i_x, i_y, prob_salida, h_i, lr[epoch])\n",
    "                cross_entropy -= np.log(prob_salida[i_y])\n",
    "                        \n",
    "            # Si la entropua actual es mejor que la menor...\n",
    "            if cross_entropy < min_entr:\n",
    "                min_entr = cross_entropy  # ponemos la actual\n",
    "                # y movemos los mejores pesos\n",
    "                self.best_C = self.C\n",
    "                self.best_W = self.W\n",
    "                self.best_b = self.b\n",
    "                self.best_U = self.U\n",
    "                self.best_c = self.c\n",
    "                \n",
    "            entr_timeline.append(cross_entropy)    \n",
    "            tqdm.write(f'Epoch: {epoch+1} \\tEntropía cruzada: {cross_entropy}')\n",
    "        return entr_timeline\n",
    "    \n",
    "    def cargar_mejores_pesos(self):\n",
    "        self.C = self.best_C\n",
    "        self.W = self.best_W\n",
    "        self.b = self.best_b\n",
    "        self.U = self.best_U\n",
    "        self.c = self.best_c\n",
    "    \n",
    "    def guardar_pesos(self, archivo):\n",
    "        \"\"\"Guarda los pesos del modelo en formato .npz\n",
    "        \"\"\"\n",
    "        try:\n",
    "            np.savez(\n",
    "                archivo, \n",
    "                C = self.C, \n",
    "                W = self.W, \n",
    "                b = self.b, \n",
    "                U = self.U, \n",
    "                c = self.c\n",
    "            )\n",
    "            print(f'Archivo {archivo} guardado satisfactoriamente')\n",
    "            return True\n",
    "        except Exception as e:\n",
    "            print('Ocurrió un error al guardar el archivo')\n",
    "            print(e)\n",
    "            return False\n",
    "    \n",
    "    def cargar_pesos(self, archivo):\n",
    "        \"\"\"Carga los pesos del modelo guardados en un archivo formato .npz\n",
    "        \"\"\"\n",
    "        try:\n",
    "            pesos = np.load(archivo)\n",
    "            self.C = pesos['C']\n",
    "            self.W = pesos['W']\n",
    "            self.b = pesos['b']\n",
    "            self.U = pesos['U']\n",
    "            self.c = pesos['c']\n",
    "            print(f'Pesos desde {archivo} cargados correctamente')\n",
    "            return True\n",
    "        except Exception as e:\n",
    "            print('Ocurrió un error al guardar el archivo')\n",
    "            print(e)\n",
    "            return False\n",
    "        "
   ]
  },
  {
   "cell_type": "code",
   "execution_count": 41,
   "metadata": {},
   "outputs": [],
   "source": [
    "dim_in = len(index_to_word)\n",
    "dim_out = len(tag_to_index)\n",
    "\n",
    "dim_m = 5\n",
    "dim_d = 10"
   ]
  },
  {
   "cell_type": "code",
   "execution_count": 62,
   "metadata": {},
   "outputs": [],
   "source": [
    "modelo = Modelo(d = dim_d, m=dim_m, N_in = dim_in, N_out = dim_out)\n",
    "modelo.inicializar_pesos()"
   ]
  },
  {
   "cell_type": "code",
   "execution_count": 27,
   "metadata": {},
   "outputs": [],
   "source": [
    "# sentence = [w for w, tag in train_corpus[0]]\n",
    "# y, h = modelo.forward(sentence)"
   ]
  },
  {
   "cell_type": "code",
   "execution_count": 43,
   "metadata": {},
   "outputs": [
    {
     "output_type": "stream",
     "name": "stdout",
     "text": "<BOS> Officials said the total number of workers receiving unemployment benefits is now close to <unk> million , another record . <EOS>\nB-ge I-art B-eve I-rg B-gpe I-art B-gpe I-per B-ge B-art B-ge B-per I-rg B-ge I-per I-tim B-art B-gpe I-art I-ge I-art I-art\n\n<BOS> The summit was dominated by the political crisis in <unk> , and the <unk> of Mr. Mwanawasa , a <unk> of <unk> President <unk> <unk> , was said to hurt attempts to put more pressure on <unk> . <EOS>\nB-ge B-eve I-art I-art I-rg I-rg B-ge B-per B-ge B-ge B-art I-ge I-art B-gpe B-gpe B-eve I-rg B-ge B-eve  B-gpe I-per I-rg B-ge I-ge I-art I-ge I-art I-ge I-art B-gpe B-gpe I-art I-rg B-ge I-per I-eve B-gpe I-art I-rg\n\n<BOS> Earlier this year , Ethiopian Prime Minister <unk> <unk> warned an al-Qaida <unk> is already operating out of Somalia 's capital , Mogadishu . <EOS>\nB-ge I-rg B-ge I-nat B-gpe I-rg B-gpe B-eve I-eve B-gpe I-art B-gpe I-art I-art B-gpe I-art I-art I-rg B-ge I-rg B-ge B-art B-art I-rg B-gpe I-art\n\n<BOS> She did not <unk> any more details and also declined to <unk> at what <unk> the talks are being held . <EOS>\nB-ge I-rg B-ge I-rg B-ge I-ge I-art B-gpe B-tim B-ge I-rg B-ge B-art I-art B-gpe I-ge I-art B-gpe I-art I-rg B-gpe B-eve I-rg\n\n<BOS> Central U.S. <unk> towns are at risk as <unk> that <unk> parts of two of the state of Iowa 's largest cities are now flowing <unk> . <EOS>\nB-ge I-rg B-ge B-art I-art I-ge I-art B-gpe B-tim B-gpe B-eve I-art I-art B-tim I-rg B-ge I-rg B-ge B-ge I-rg B-ge B-art I-ge I-art I-art I-rg B-ge B-eve I-rg\n\n"
    }
   ],
   "source": [
    "for y_i in train_corpus[:5]:\n",
    "    sentence = [w for w, tag in y_i]\n",
    "    print(' '.join([ index_to_word[w] for w in sentence ]))\n",
    "    pred = modelo.predecir(sentence)\n",
    "    print(' '.join([ index_to_tag[tag] for tag in pred ]) )\n",
    "    print()"
   ]
  },
  {
   "cell_type": "code",
   "execution_count": 44,
   "metadata": {},
   "outputs": [],
   "source": [
    "train_x, train_y = zip(*[zip(*sent) for sent in train_corpus])"
   ]
  },
  {
   "cell_type": "code",
   "execution_count": 59,
   "metadata": {},
   "outputs": [
    {
     "output_type": "stream",
     "name": "stdout",
     "text": "<BOS>_The_summit_was_dominated_by_the_political_crisis_in_<unk>_,_and_the_<unk>_of_Mr._Mwanawasa_,_a_<unk>_of_<unk>_President_<unk>_<unk>_,_was_said_to_hurt_attempts_to_put_more_pressure_on_<unk>_._<EOS>\n__________B-ge______B-per_I-per_____B-gpe_B-per_I-per_I-per____________B-gpe__\n"
    }
   ],
   "source": [
    "print('_'.join([index_to_word[ixword] for ixword in train_x[1]]))\n",
    "print('_'.join([index_to_tag[ixtag] for ixtag in train_y[1]]))"
   ]
  },
  {
   "cell_type": "code",
   "execution_count": 63,
   "metadata": {},
   "outputs": [
    {
     "output_type": "stream",
     "name": "stdout",
     "text": "Wall time: 442 ms\n"
    },
    {
     "output_type": "execute_result",
     "data": {
      "text/plain": "2.8325741470762824"
     },
     "metadata": {},
     "execution_count": 63
    }
   ],
   "source": [
    "%%time\n",
    "modelo.cross_entropy(train_x, train_y)"
   ]
  },
  {
   "cell_type": "code",
   "execution_count": 68,
   "metadata": {},
   "outputs": [
    {
     "output_type": "execute_result",
     "data": {
      "text/plain": "16.987877475323845"
     },
     "metadata": {},
     "execution_count": 68
    }
   ],
   "source": [
    "np.exp(2.8325)"
   ]
  },
  {
   "cell_type": "markdown",
   "metadata": {},
   "source": [
    "\n",
    "5. Evaluar el desempeño del sistema a partir del corpus de evaluación y con la métrica de Exactitud (Accuracy).\n",
    "6. Ejemplificar el reconocimiento de entidades nombradas con 5 sentencias del corpus de evaluación."
   ]
  }
 ],
 "metadata": {
  "language_info": {
   "codemirror_mode": {
    "name": "ipython",
    "version": 3
   },
   "file_extension": ".py",
   "mimetype": "text/x-python",
   "name": "python",
   "nbconvert_exporter": "python",
   "pygments_lexer": "ipython3",
   "version": "3.7.4-final"
  },
  "orig_nbformat": 2,
  "kernelspec": {
   "name": "python3",
   "display_name": "Python 3"
  }
 },
 "nbformat": 4,
 "nbformat_minor": 2
}