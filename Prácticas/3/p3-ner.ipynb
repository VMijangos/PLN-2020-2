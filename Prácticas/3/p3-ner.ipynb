{
 "cells": [
  {
   "cell_type": "markdown",
   "metadata": {},
   "source": [
    "# Práctica 3. Reconocimiento de Entidades Nombradas. NER\n",
    "\n",
    "Andrés González Flores\n",
    "\n",
    "Procesamiento de Lenguaje Natural\n",
    "\n",
    "Facultad de Ingeniería, UNAM\n",
    "\n",
    "## Objetivo\n",
    "\n",
    "Realizar un reconocimiento de Entidades Nombradas (NER) a partir de un modelo secuencial y con el corpus ‘ner dataset.csv’ que se proporciona.\n",
    "\n",
    "## Instrucciones\n",
    "\n",
    "Se deberán seguir los siguientes pasos:\n",
    "\n",
    "1. Obtener las sentencias a partir del csv. En este archivo, se indica cada inicio de sentencia con ‘Sentence: n’. Se cuenta con 1000 sentencias que conformarán el corpus de entrenamiento y evaluación.\n",
    "2. Preprocesar los datos.\n",
    "3. Separar los datos en corpus de entrenamiento (70%) y corpus de evaluación (30%).\n",
    "4. Entrenar un modelo secuencial a partir del corpus de entrenamiento. Deberán definirse los hiperparámetros.\n",
    "5. Evaluar el desempeño del sistema a partir del corpus de evaluación y con la métrica de Exactitud (Accuracy).\n",
    "6. Ejemplificar el reconocimiento de entidades nombradas con 5 sentencias del corpus de evaluación."
   ]
  },
  {
   "cell_type": "markdown",
   "metadata": {},
   "source": [
    "## Dessarrollo"
   ]
  },
  {
   "cell_type": "code",
   "execution_count": 2,
   "metadata": {},
   "outputs": [],
   "source": [
    "import csv\n",
    "import numpy as np\n",
    "from collections import Counter\n",
    "from sklearn.model_selection import train_test_split\n",
    "import matplotlib.pyplot as plt\n",
    "import operator\n",
    "from itertools import chain\n",
    "from tqdm.notebook import tqdm\n",
    "from pprint import pprint"
   ]
  },
  {
   "cell_type": "code",
   "execution_count": 3,
   "metadata": {},
   "outputs": [],
   "source": [
    "# Definición de constantes\n",
    "SEED = 42\n",
    "CORPUS_PATH = './ner_dataset.csv'\n",
    "BOS = '<BOS>'\n",
    "EOS = '<EOS>'\n",
    "UNK = '<unk>'\n",
    "\n",
    "np.random.seed(SEED)"
   ]
  },
  {
   "cell_type": "markdown",
   "metadata": {},
   "source": [
    "### Paso 1. Obtener sentencias.\n"
   ]
  },
  {
   "cell_type": "code",
   "execution_count": 4,
   "metadata": {},
   "outputs": [],
   "source": [
    "with open(CORPUS_PATH, 'r', encoding='utf-8') as f:\n",
    "    reader = csv.reader(f)\n",
    "    csvlist = list(reader)"
   ]
  },
  {
   "cell_type": "code",
   "execution_count": 5,
   "metadata": {},
   "outputs": [],
   "source": [
    "sentences = []\n",
    "sent_i = []\n",
    "for row in csvlist[1:]:\n",
    "    if row[0] is not '':\n",
    "        sentences.append(sent_i)\n",
    "        sent_i = []\n",
    "    sent_i.append((row[1], row[2]))\n",
    "# Mi algoritmo está feo: agrega la primer sentencia vacía y no agrega la última\n",
    "del sentences[0]\n",
    "sentences.append(sent_i)"
   ]
  },
  {
   "cell_type": "code",
   "execution_count": 6,
   "metadata": {},
   "outputs": [
    {
     "output_type": "stream",
     "name": "stdout",
     "text": "Número de oraciones = 1000\n\nEjemplos:\nThousands of demonstrators have marched through London to protest the war in Iraq and demand the withdrawal of British troops from that country .\nFamilies of soldiers killed in the conflict joined the protesters who carried banners with such slogans as \" Bush Number One Terrorist \" and \" Stop the Bombings . \"\nThey marched from the Houses of Parliament to a rally in Hyde Park .\nPolice put the number of marchers at 10000 while organizers claimed it was 1,00,000 .\nThe protest comes on the eve of the annual conference of Britain 's ruling Labor Party in the southern English seaside resort of Brighton .\n"
    }
   ],
   "source": [
    "print(f'Número de oraciones = {len(sentences)}\\n')\n",
    "print('Ejemplos:')\n",
    "print('\\n'.join([' '.join([w for w, tag in sent]) for sent in sentences[:5] ]))"
   ]
  },
  {
   "cell_type": "markdown",
   "metadata": {},
   "source": [
    "### Paso 2. Preprocesamiento"
   ]
  },
  {
   "cell_type": "code",
   "execution_count": 7,
   "metadata": {},
   "outputs": [
    {
     "output_type": "execute_result",
     "data": {
      "text/plain": "[('the', 1111),\n ('.', 995),\n (',', 637),\n ('in', 576),\n ('of', 568),\n ('to', 505),\n ('a', 449),\n ('and', 391),\n ('The', 241),\n (\"'s\", 202)]"
     },
     "metadata": {},
     "execution_count": 7
    }
   ],
   "source": [
    "freq_tokens = Counter([w for w,_ in chain(*sentences)])\n",
    "freq_tokens.most_common(10)"
   ]
  },
  {
   "cell_type": "markdown",
   "metadata": {},
   "source": [
    "Agrego el diccionario de entrada"
   ]
  },
  {
   "cell_type": "code",
   "execution_count": 8,
   "metadata": {},
   "outputs": [
    {
     "output_type": "stream",
     "name": "stdout",
     "text": "[('the', 0),\n ('.', 1),\n (',', 2),\n ('in', 3),\n ('of', 4),\n ('to', 5),\n ('a', 6),\n ('and', 7),\n ('The', 8),\n (\"'s\", 9)]\n"
    }
   ],
   "source": [
    "word_to_index = { \n",
    "    x[0] : i for i, x in enumerate(freq_tokens.most_common())\n",
    "    if freq_tokens[x[0]] > 1\n",
    "}\n",
    "\n",
    "pprint(list(word_to_index.items())[:10])"
   ]
  },
  {
   "cell_type": "markdown",
   "metadata": {},
   "source": [
    "Agrego los identificadores UNK, BOS Y EOS al vocabulario de entrada"
   ]
  },
  {
   "cell_type": "code",
   "execution_count": 9,
   "metadata": {},
   "outputs": [
    {
     "output_type": "stream",
     "name": "stdout",
     "text": "[('collapse', 2102),\n ('Barno', 2103),\n ('reunification', 2104),\n ('Berlin', 2105),\n ('Kohl', 2106),\n ('proud', 2107),\n ('wall', 2108),\n ('<unk>', 2109),\n ('<BOS>', 2110),\n ('<EOS>', 2111)]\n"
    }
   ],
   "source": [
    "word_to_index[UNK] = max(word_to_index.values())+1\n",
    "word_to_index[BOS] = word_to_index[UNK]+1\n",
    "word_to_index[EOS] = word_to_index[BOS]+1\n",
    "\n",
    "pprint(list(word_to_index.items())[-10:])"
   ]
  },
  {
   "cell_type": "markdown",
   "metadata": {},
   "source": [
    "Agrego el vocabulario de salida (las etiquetas)"
   ]
  },
  {
   "cell_type": "code",
   "execution_count": 10,
   "metadata": {},
   "outputs": [
    {
     "output_type": "execute_result",
     "data": {
      "text/plain": "[('', 18843),\n ('B-ge', 583),\n ('B-gpe', 543),\n ('B-rg', 413),\n ('I-per', 400),\n ('B-tim', 358),\n ('B-per', 327),\n ('I-rg', 290),\n ('I-ge', 105),\n ('I-tim', 77),\n ('B-art', 39),\n ('I-gpe', 26),\n ('I-art', 22),\n ('B-eve', 20),\n ('I-eve', 16),\n ('B-nat', 9),\n ('I-nat', 5)]"
     },
     "metadata": {},
     "execution_count": 10
    }
   ],
   "source": [
    "freq_tags = Counter([tag for _,tag in chain(*sentences)])\n",
    "freq_tags.most_common()"
   ]
  },
  {
   "cell_type": "code",
   "execution_count": 11,
   "metadata": {},
   "outputs": [
    {
     "output_type": "stream",
     "name": "stdout",
     "text": "{'': 0,\n 'B-art': 10,\n 'B-eve': 13,\n 'B-ge': 1,\n 'B-gpe': 2,\n 'B-nat': 15,\n 'B-per': 6,\n 'B-rg': 3,\n 'B-tim': 5,\n 'I-art': 12,\n 'I-eve': 14,\n 'I-ge': 8,\n 'I-gpe': 11,\n 'I-nat': 16,\n 'I-per': 4,\n 'I-rg': 7,\n 'I-tim': 9}\n"
    }
   ],
   "source": [
    "tag_to_index = {\n",
    "    y[0] : i for i, y in enumerate(freq_tags.most_common())\n",
    "}\n",
    "pprint(tag_to_index)"
   ]
  },
  {
   "cell_type": "markdown",
   "metadata": {},
   "source": [
    "Creo los vocabularios inversos"
   ]
  },
  {
   "cell_type": "code",
   "execution_count": 12,
   "metadata": {},
   "outputs": [
    {
     "output_type": "stream",
     "name": "stdout",
     "text": "Tamaño del vocabulario: 2112\nEjemplos de palabras:\nthe, parliament, measure, claim, flown, burning, Tokar\n\nVocabulario de etiquetas:\n(', B-ge, B-gpe, B-rg, I-per, B-tim, B-per, I-rg, I-ge, I-tim, B-art, I-gpe, '\n 'I-art, B-eve, I-eve, B-nat, I-nat')\n"
    }
   ],
   "source": [
    "index_to_word = [w for w in word_to_index.keys()]\n",
    "print(f'Tamaño del vocabulario: {len(index_to_word)}')\n",
    "print('Ejemplos de palabras:')\n",
    "print(', '.join(index_to_word[::350]))\n",
    "print()\n",
    "\n",
    "index_to_tag = [tag for tag in tag_to_index.keys()]\n",
    "print('Vocabulario de etiquetas:')\n",
    "pprint(', '.join(index_to_tag))"
   ]
  },
  {
   "cell_type": "markdown",
   "metadata": {},
   "source": [
    "Creo un método que devuelve siempre un indice del vocabulario o el identificador UNK"
   ]
  },
  {
   "cell_type": "code",
   "execution_count": 13,
   "metadata": {},
   "outputs": [],
   "source": [
    "def word_safe_vocab_index(w, vocab, ix_UNK):\n",
    "    try:\n",
    "        return vocab[w]\n",
    "    except KeyError:\n",
    "        return ix_UNK"
   ]
  },
  {
   "cell_type": "markdown",
   "metadata": {},
   "source": [
    "Armo el corpus de entrenamiento"
   ]
  },
  {
   "cell_type": "code",
   "execution_count": 14,
   "metadata": {},
   "outputs": [
    {
     "output_type": "stream",
     "name": "stdout",
     "text": "(2110, 0) (904, 0) (4, 0) (905, 0) (14, 0) (906, 0) (243, 0) (244, 1) (5, 0) (298, 0) (0, 0) (127, 0) (3, 0) (53, 1) (7, 0) (1282, 0) (0, 0) (679, 0) (4, 0) (99, 2) (77, 0) (17, 0) (16, 0) (71, 0) (1, 0) (2111, 0)\n\n(2110, 0) (2109, 0) (4, 0) (177, 0) (31, 0) (3, 0) (0, 0) (680, 0) (551, 0) (0, 0) (458, 0) (59, 0) (459, 0) (2109, 0) (18, 0) (245, 0) (1283, 0) (25, 0) (28, 0) (200, 6) (2109, 0) (460, 0) (2109, 0) (28, 0) (7, 0) (28, 0) (2109, 0) (0, 0) (2109, 0) (1, 0) (28, 0) (2111, 0)\n\n(2110, 0) (134, 0) (906, 0) (17, 0) (0, 0) (2109, 0) (4, 0) (2109, 0) (5, 0) (6, 0) (1284, 0) (3, 0) (2109, 1) (2109, 8) (1, 0) (2111, 0)\n\n(2110, 0) (268, 0) (340, 0) (0, 0) (341, 0) (4, 0) (1285, 0) (22, 0) (1286, 0) (135, 0) (1287, 0) (299, 0) (32, 0) (19, 0) (2109, 0) (1, 0) (2111, 0)\n\n(2110, 0) (8, 0) (298, 0) (552, 0) (15, 0) (0, 0) (1288, 0) (4, 0) (0, 0) (387, 0) (553, 0) (4, 0) (554, 1) (9, 0) (907, 0) (461, 3) (462, 7) (3, 0) (0, 0) (128, 0) (2109, 2) (2109, 0) (2109, 0) (4, 0) (2109, 1) (1, 0) (2111, 0)\n"
    }
   ],
   "source": [
    "ix_UNK = word_to_index[UNK]\n",
    "ix_BOS = word_to_index[BOS]\n",
    "ix_EOS = word_to_index[EOS]\n",
    "\n",
    "BOS_append = [(ix_BOS, tag_to_index[''])] # BOS y su etiqueta\n",
    "EOS_append = [(ix_EOS, tag_to_index[''])] # EOS y su etiqueta\n",
    "\n",
    "corpus = [\n",
    "    BOS_append + [ # Agrego BOS y su etiqueta\n",
    "        # Tupla con el valor del índice de la palabra y el índice de la etiqueta\n",
    "        (\n",
    "            word_safe_vocab_index(w, word_to_index, ix_UNK),\n",
    "            tag_to_index[tag]\n",
    "        ) # Fin tupla\n",
    "        for w, tag in sent # Para cada palabra en la sentencia\n",
    "    ] + EOS_append # Fin append\n",
    "    for sent in sentences # Por cada sentencia en la lista de sentencias\n",
    "]\n",
    "# pprint(corpus[:5])\n",
    "print('\\n\\n'.join([' '.join([f'({ix_w}, {ix_tag})' for ix_w, ix_tag in sent]) for sent in corpus[:5] ]))"
   ]
  },
  {
   "cell_type": "markdown",
   "metadata": {},
   "source": [
    "### Paso 3. Separar corpus de entrenamiento y evaluacion"
   ]
  },
  {
   "cell_type": "code",
   "execution_count": 15,
   "metadata": {},
   "outputs": [
    {
     "output_type": "stream",
     "name": "stdout",
     "text": "Ejemlos del corpus de entrenamiento\n[(2110, 0), (123, 0), (13, 0), (0, 0), (692, 0), (341, 0), (4, 0), (178, 0), (1599, 0), (636, 0), (1211, 0), (11, 0), (326, 0), (480, 0), (5, 0), (2109, 0), (129, 0), (2, 0), (171, 0), (1670, 0), (1, 0), (2111, 0)]\n[(2110, 0), (8, 0), (487, 0), (19, 0), (1776, 0), (27, 0), (0, 0), (131, 0), (668, 0), (3, 0), (2109, 1), (2, 0), (7, 0), (0, 0), (2109, 0), (4, 0), (50, 6), (667, 4), (2, 0), (6, 0), (2109, 0), (4, 0), (2109, 2), (49, 6), (2109, 4), (2109, 4), (2, 0), (19, 0), (13, 0), (5, 0), (565, 0), (1777, 0), (5, 0), (340, 0), (46, 0), (1778, 0), (15, 0), (2109, 2), (1, 0), (2111, 0)]\n[(2110, 0), (443, 0), (51, 0), (56, 0), (2, 0), (606, 2), (144, 6), (93, 4), (2109, 4), (2109, 4), (543, 0), (24, 0), (254, 3), (2109, 0), (11, 0), (331, 0), (538, 0), (82, 0), (4, 0), (224, 2), (9, 0), (175, 0), (2, 0), (348, 1), (1, 0), (2111, 0)]\n[(2110, 0), (1507, 0), (609, 0), (39, 0), (2109, 0), (199, 0), (46, 0), (633, 0), (7, 0), (52, 0), (1467, 0), (5, 0), (2109, 0), (22, 0), (229, 0), (2109, 0), (0, 0), (95, 0), (26, 0), (162, 0), (494, 0), (1, 0), (2111, 0)]\n[(2110, 0), (851, 1), (21, 8), (2109, 0), (861, 0), (26, 0), (22, 0), (624, 0), (25, 0), (2109, 0), (16, 0), (2109, 0), (301, 0), (4, 0), (40, 0), (4, 0), (0, 0), (198, 0), (4, 0), (457, 1), (9, 0), (473, 0), (464, 0), (26, 0), (326, 0), (1729, 0), (2109, 0), (1, 0), (2111, 0)]\n\nEjemlos del corpus de validación\n[(2110, 0), (2109, 0), (60, 5), (20, 0), (0, 0), (241, 0), (29, 0), (647, 0), (3, 0), (284, 0), (273, 0), (1325, 0), (4, 0), (75, 1), (3, 0), (1205, 1), (180, 0), (2, 0), (7, 0), (3, 0), (0, 0), (861, 0), (4, 0), (2109, 1), (7, 0), (2109, 1), (1, 0), (2111, 0)]\n[(2110, 0), (261, 0), (43, 0), (89, 0), (737, 0), (449, 0), (220, 0), (17, 0), (0, 0), (80, 1), (189, 8), (7, 0), (0, 0), (534, 0), (1983, 2), (1150, 0), (3, 0), (2109, 1), (2, 0), (2109, 1), (2, 0), (7, 0), (1987, 1), (1, 0), (2111, 0)]\n[(2110, 0), (134, 0), (1097, 0), (0, 0), (2109, 0), (817, 0), (10, 0), (2109, 0), (2109, 0), (2, 0), (135, 0), (118, 0), (1989, 0), (32, 0), (3, 0), (402, 0), (589, 0), (7, 0), (1212, 0), (10, 0), (45, 0), (287, 0), (1, 0), (2111, 0)]\n[(2110, 0), (2109, 0), (111, 0), (17, 0), (1248, 1), (20, 0), (0, 0), (905, 0), (2109, 0), (28, 0), (379, 3), (82, 0), (28, 0), (7, 0), (28, 0), (2109, 0), (566, 0), (173, 0), (28, 0), (74, 0), (45, 0), (298, 0), (60, 5), (1, 0), (2111, 0)]\n[(2110, 0), (8, 0), (234, 0), (419, 0), (17, 0), (6, 0), (1756, 0), (1169, 0), (1757, 0), (3, 0), (1758, 0), (126, 1), (827, 0), (5, 0), (1423, 0), (60, 5), (34, 0), (2109, 0), (2109, 0), (0, 0), (728, 0), (4, 0), (0, 0), (66, 0), (1759, 0), (2109, 0), (1, 0), (2111, 0)]\n"
    }
   ],
   "source": [
    "train_corpus, val_corpus = train_test_split(corpus, test_size=0.3, random_state=SEED)\n",
    "print(\"Ejemlos del corpus de entrenamiento\")\n",
    "for sent in train_corpus[:5]:\n",
    "    print(sent)\n",
    "print()\n",
    "print(\"Ejemlos del corpus de validación\")\n",
    "for sent in val_corpus[:5]:\n",
    "    print(sent)"
   ]
  },
  {
   "cell_type": "code",
   "execution_count": 56,
   "metadata": {},
   "outputs": [],
   "source": [
    "train_Data = [list(zip(*sent)) for sent in train_corpus]\n",
    "val_Data = [list(zip(*sent)) for sent in val_corpus]"
   ]
  },
  {
   "cell_type": "markdown",
   "metadata": {},
   "source": [
    "### Paso 4. Selección de modelo y entrenamiento\n",
    "\n",
    "Usaré un modelo de red neuronal recurrente con una capa de embedding, una capa oculta de recurrencia, y una capa de salida.\n",
    "\n",
    "La capa de embedding se define como:\n",
    "\n",
    "$$ x = Cs $$\n",
    "\n",
    "$C$ es una matriz de dimensión $d\\times N_{in}$ y $s$ es la representación one hot de la palabra en la secuencia.\n",
    "\n",
    "La capa oculta recurrente:\n",
    "\n",
    "$$ h^{(t)} = \\tanh{(Vh^{(t-1)}+Ux^{(t)})} $$\n",
    "\n",
    "$V$ es una matriz de dimensión $m\\times m$, $U$ una matriz de dimensión $d\\times m $.\n",
    "\n",
    "Y la capa de salida:\n",
    "\n",
    "$$ y^{(t)} = Softmax(Wh^{(t-1)}+c) $$\n",
    "\n",
    "En donde $W$ es una matriz de dimensión $N_{out} \\times m$\n",
    "\n",
    "Los valores de $d$ y $m$ son hiperparámetros\n",
    "\n",
    "#### Función de Riesgo\n",
    "\n",
    "La función de riesgo será la entroía cruzada:\n",
    "\n",
    "$$ R(y, \\hat{y}) = -\\frac1N \\sum_{i=0}^Ny\\log\\hat{y_i} $$"
   ]
  },
  {
   "cell_type": "markdown",
   "metadata": {},
   "source": [
    "#### Defino los hiperparámetros"
   ]
  },
  {
   "cell_type": "code",
   "execution_count": 16,
   "metadata": {},
   "outputs": [
    {
     "output_type": "stream",
     "name": "stdout",
     "text": "Dimensión de entrada: 2112\nDimensión de salida: 17\nDimensión de capa de embedding: 10\nDimensión de capa oculta: 5\n"
    }
   ],
   "source": [
    "dim_in = len(index_to_word)\n",
    "dim_out = len(tag_to_index)\n",
    "\n",
    "dim_m = 5\n",
    "dim_d = 10\n",
    "\n",
    "print(f'Dimensión de entrada: {dim_in}')\n",
    "print(f'Dimensión de salida: {dim_out}')\n",
    "print(f'Dimensión de capa de embedding: {dim_d}')\n",
    "print(f'Dimensión de capa oculta: {dim_m}')"
   ]
  },
  {
   "cell_type": "markdown",
   "metadata": {},
   "source": [
    "#### Defino el modelo"
   ]
  },
  {
   "cell_type": "code",
   "execution_count": 58,
   "metadata": {},
   "outputs": [],
   "source": [
    "class Modelo(object):\n",
    "    def __init__(self, d, m, N_in, N_out):\n",
    "        self.d = d # DImensión de capa de embedding\n",
    "        self.m = m # Dimensión de capa oculta\n",
    "        self.N_in = N_in # Dimensión de entrada\n",
    "        self.N_out = N_out # Dimensión de salida\n",
    "\n",
    "    def inicializar_pesos(self):\n",
    "        # Capa de embedding\n",
    "        self.C = np.random.randn(self.d, self.N_in) / np.sqrt(self.N_in)\n",
    "                \n",
    "        # Capa recurrente oculta\n",
    "        self.V = np.random.randn(self.m, self.m) / np.sqrt(self.m)\n",
    "        self.U = np.random.randn(self.m, self.d) / np.sqrt(self.d)\n",
    "\n",
    "        # Capa de salida\n",
    "        self.W = np.random.randn(self.N_out, self.m) / np.sqrt(self.m) \n",
    "        self.c = np.zeros(self.N_out)\n",
    "        \n",
    "        # Los mejores pesos del modelo\n",
    "        self.best_C = self.C        \n",
    "        self.best_V = self.W\n",
    "        self.best_U = self.U\n",
    "        self.best_W = self.W\n",
    "        self.best_c = self.c\n",
    "    \n",
    "    def forward(self, secuencia):\n",
    "        \"\"\"Paso hacia adelante de la red. \n",
    "        Recibe como argumento una secuencia de entrada de n elementos, estos elementos\n",
    "        deben ser indices del vocabulario de entrada.\n",
    "        Da como salida $n$ vectores $h$, y $n$ vectores $y$\n",
    "        \"\"\"\n",
    "        # Tamaño de la secuencia de entrada\n",
    "        T = len(secuencia)\n",
    "\n",
    "        # Prealojamiento de salidas por estado de capas oculta y de salida.\n",
    "        h = np.zeros((T+1, self.m)) # Uso un estado adicional para t = -1\n",
    "        # Se inicia el vector h[-1] con ceros\n",
    "        h[-1] = np.zeros(self.m)\n",
    "\n",
    "        y = np.zeros((T, self.N_out))\n",
    "        x_emb = np.zeros((T, self.d))\n",
    "\n",
    "\n",
    "        # Propagación hacia adelante de la secuenca de entrada\n",
    "        for t in range(T):\n",
    "            # Un paso en la capa embedding se reduce a C[:, s]\n",
    "            x_emb[t] = self.C[:, secuencia[t]]\n",
    "\n",
    "            # Capa oculta recurrente\n",
    "            Vh = self.V.dot(h[t-1])\n",
    "            Ux = self.U.dot(x_emb[t])\n",
    "            h[t] = np.tanh(Vh + Ux) # Salida de capa oculta\n",
    "\n",
    "            # Capa de salida\n",
    "            a = self.W.dot(h[t]) + self.c # Preactivación\n",
    "            exp_a = np.exp(a - a.max()) # Exponencial de la preactivación\n",
    "            y[t] = exp_a/exp_a.sum() # Salida Softmax        \n",
    "        return y, h, x_emb\n",
    "    \n",
    "    def predecir(self, secuencia):\n",
    "        y_hat, _, _ = self.forward(secuencia)\n",
    "        return np.argmax(y_hat, axis=1)\n",
    "\n",
    "    def calcular_riesgo_total(self, x, y):\n",
    "        \"\"\"Calculamos la función de riesgo definida por:\n",
    "        $$ R(y, \\hat{y}) = -\\frac1N \\sum_{n\\in N_{in}}y\\log\\hat{y_n} $$\n",
    "        x es una lista de secuencias de entrada\n",
    "        y es una lista de secuencias con los valores reales de \n",
    "        \"\"\"\n",
    "        R = 0\n",
    "        N = len(y)\n",
    "        for i in np.arange(N):\n",
    "            output, _, _ = self.forward(x[i])\n",
    "            # La probabilidad de la \"y\" verdadera\n",
    "            y_hat_n = output[np.arange(len(y[i])), y[i]]\n",
    "            R -= np.sum(np.log(y_hat_n))\n",
    "        return R\n",
    "\n",
    "    def cross_entropy(self, x, y):\n",
    "        \"\"\"Calcula el resgo total y lo divide entre el número de ejemplos\n",
    "        x es una lista de secuencias de entrada\n",
    "        y es una lista de secuencias con los valores reales de y\n",
    "        \"\"\"\n",
    "        N = np.sum(( len(y_i) for y_i in y ))\n",
    "        return self.calcular_riesgo_total(x,y) / N\n",
    "\n",
    "    def backprop(self, x, y, fw_out):\n",
    "        \"\"\"Algoritmo de backpropagation. \n",
    "        x es una secuencia de T elementos. \n",
    "        y es una secuencia de T elementos. \n",
    "        fw_out es una tupla de tres elementros (out, h, x_emb). Contiene\n",
    "        la salida de la red, la salida de la capa oculta y la salida de la\n",
    "        capa de embedding.\n",
    "        \"\"\"\n",
    "        T = len(y) # Número de entidades en la secuencia\n",
    "        # output, h, x_emb = self.forward(x)\n",
    "        output, h, x_emb = fw_out\n",
    "        \n",
    "        # Derivadas respecto a las matrices U, V, W, C y el vector c\n",
    "        dLdU = np.zeros_like(self.U)\n",
    "        dLdV = np.zeros_like(self.V)\n",
    "\n",
    "        dLdW = np.zeros_like(self.W)\n",
    "        dLdc = np.zeros_like(self.c)\n",
    "        \n",
    "        dLdC = np.zeros_like(self.C)\n",
    "\n",
    "        # Backprop\n",
    "        # Copio el arreglo para no modificar pesos de la salida original\n",
    "        d_out = np.array(output, copy=True) \n",
    "        # Modifico todos los arreglos en el tiempo\n",
    "        # En cada indice contenido en y, le resto 1\n",
    "        d_out[np.arange(len(y)), y] -= 1  # p(Tag_k | w_i) - y_k\n",
    "        \n",
    "        # Backprop a través del tiempo\n",
    "        for t in np.arange(T-1,-1,-1): # Desde T hasta 0\n",
    "            # Derivada de la capa de salida\n",
    "            dLdW += np.outer(d_out[t], h[t].T)\n",
    "            dLdc += d_out[t]\n",
    "\n",
    "            # Variable de celda recurrente\n",
    "            d_h = self.W.T.dot(d_out[t])*(1-h[t]**2)\n",
    "\n",
    "            # Variable de la capa de embedding\n",
    "            d_emb = self.U.T.dot(d_h)            \n",
    "            \n",
    "            # Truncamos la propagación a 4 palabras anteriores a la actual\n",
    "            for step in np.arange(max(0, t-4), t+1)[::-1]:\n",
    "                # Derivadas de capa recurrente\n",
    "                dLdV += np.outer(d_h, h[step-1])\n",
    "                dLdU += np.outer(d_h, x_emb[step])\n",
    "\n",
    "                dLdC[:, x[step]] += d_emb\n",
    "\n",
    "                # Actualizamos variable de celda recurrente\n",
    "                d_h = self.V.T.dot(d_h) * (1-h[step-1]**2)\n",
    "\n",
    "                # Actualizamos variable de embedding\n",
    "                d_emb = self.U.T.dot(d_h)\n",
    "\n",
    "        return dLdC, dLdU, dLdV, dLdW, dLdc\n",
    "\n",
    "    def gradiente_descendente(self, gradientes, lr=0.01):\n",
    "        \"\"\"Método que da un paso en el gradiente descendiente, actualizando los pesos.\n",
    "        Recibe una tupla con los valores de los gradientes  (dLdC, dLdU, dLdV, dLdW, dLdc)\n",
    "        \"\"\"\n",
    "        # Desenvolver gradientes\n",
    "        dLdC, dLdU, dLdV, dLdW, dLdc = gradientes\n",
    "        \n",
    "        # self.U -= learning_rate * dLdU\n",
    "        # self.V -= learning_rate * dLdV\n",
    "        # self.W -= learning_rate * dLdW\n",
    "        \n",
    "        # Actualizamos los pesos\n",
    "        # Capa de salida\n",
    "        self.W -= lr*dLdW\n",
    "        self.c -= lr*dLdc\n",
    "        # Capa recurrente oculta\n",
    "        self.V -= lr*dLdV\n",
    "        self.U -= lr*dLdU\n",
    "        # Capa de embredding\n",
    "        self.C -= lr*dLdC # Las demás filas no nos interesan, porque son 0\n",
    "\n",
    "    def gradient_check(self, x, y, h=0.001, error_threshold=0.01):\n",
    "        # Calculate the gradients using backpropagation. We want to checker if these are correct.\n",
    "        fw_out = self.forward(x)\n",
    "        bptt_gradients = self.backprop(x, y, fw_out)\n",
    "        # List of all parameters we want to check.\n",
    "        model_parameters = ['C', 'U', 'V', 'W', 'c']\n",
    "        # Gradient check for each parameter\n",
    "        for pidx, pname in enumerate(model_parameters):\n",
    "            test_passed = True\n",
    "            # Get the actual parameter value from the mode, e.g. model.W\n",
    "            parameter = operator.attrgetter(pname)(self)\n",
    "            print(\"Performing gradient check for parameter %s with size %d.\" % (pname, np.prod(parameter.shape)))\n",
    "            # Iterate over each element of the parameter matrix, e.g. (0,0), (0,1), ...\n",
    "            it = np.nditer(parameter, flags=['multi_index'], op_flags=['readwrite'])\n",
    "            while not it.finished:\n",
    "                ix = it.multi_index\n",
    "                # Save the original value so we can reset it later\n",
    "                original_value = parameter[ix]\n",
    "                # Estimate the gradient using (f(x+h) - f(x-h))/(2*h)\n",
    "                parameter[ix] = original_value + h\n",
    "                gradplus = self.calcular_riesgo_total([x],[y])\n",
    "                parameter[ix] = original_value - h\n",
    "                gradminus = self.calcular_riesgo_total([x],[y])\n",
    "                estimated_gradient = (gradplus - gradminus)/(2*h)\n",
    "                # Reset parameter to original value\n",
    "                parameter[ix] = original_value\n",
    "                # The gradient for this parameter calculated using backpropagation\n",
    "                backprop_gradient = bptt_gradients[pidx][ix]\n",
    "                # calculate The relative error: (|x - y|/(|x| + |y|))\n",
    "                relative_error = np.abs(backprop_gradient - estimated_gradient) / \\\n",
    "                                (np.abs(backprop_gradient) + np.abs(estimated_gradient))\n",
    "                # If the error is to large fail the gradient check\n",
    "                if relative_error > error_threshold:\n",
    "                    test_passed = False\n",
    "                    print(\"Gradient Check ERROR: parameter=%s ix=%s\" % (pname, ix))\n",
    "                    print(\"+h Loss: %f\" % gradplus)\n",
    "                    print(\"-h Loss: %f\" % gradminus)\n",
    "                    print(\"Estimated_gradient: %f\" % estimated_gradient)\n",
    "                    print(\"Backpropagation gradient: %f\" % backprop_gradient)\n",
    "                    print(\"Relative Error: %f\" % relative_error)\n",
    "                    print()\n",
    "                    break \n",
    "                it.iternext()\n",
    "            if test_passed:\n",
    "                print(\"Gradient check for parameter %s passed.\" % (pname))\n",
    "                print()\n",
    "        \n",
    "    def entrenar(self, train_Data, val_Data, epochs=50, lr=0.1):\n",
    "        # Historial para guardar las métricas\n",
    "        history = {\n",
    "            'train' : {\n",
    "                'loss' : np.zeros(epochs),\n",
    "                'conf_mat' : np.zeros((epochs, self.N_out, self.N_out)),\n",
    "            },\n",
    "            'val' : {\n",
    "                'loss' : np.zeros(epochs),\n",
    "                'conf_mat' : np.zeros((epochs, self.N_out, self.N_out)),\n",
    "            }\n",
    "        }\n",
    "        min_train_loss = np.inf\n",
    "        min_val_loss = np.inf\n",
    "\n",
    "        for epoch in tqdm(np.arange(epochs)):\n",
    "            np.random.shuffle(train_Data)\n",
    "\n",
    "            # TRAIN\n",
    "            train_loss = 0\n",
    "            train_len = len(train_Data)\n",
    "            train_conf_mat = np.zeros((self.N_out, self.N_out))\n",
    "            for x, y in train_Data:\n",
    "                # FORWARD\n",
    "                len_seq = len(y)\n",
    "                fw_out = self.forward(x)\n",
    "\n",
    "                y_hat = fw_out[0]\n",
    "                # La probabilidad de la \"y\" verdadera\n",
    "                y_hat_n = y_hat[np.arange(len(y)), y]\n",
    "                # RIESGO\n",
    "                train_loss -= np.sum(np.log(y_hat_n))/len_seq\n",
    "\n",
    "                # Matriz de confusión\n",
    "                y_pred = np.argmax(y_hat, axis=1)\n",
    "                train_conf_mat[y, y_pred] += 1 # Sumo uno en las intersecciones\n",
    "                \n",
    "                # BACKPROP\n",
    "                grads = self.backprop(x, y, fw_out)\n",
    "                self.gradiente_descendente(grads, lr)\n",
    "            train_loss /= train_len\n",
    "\n",
    "            history['train']['conf_mat']['epoch'] = train_conf_mat\n",
    "            history['train']['loss']['epoch'] = train_loss\n",
    "\n",
    "            # VALIDATION\n",
    "            # for x, y in val_Data:\n",
    "            #     pass\n",
    "\n",
    "            if epoch % 5 == 0:\n",
    "                X_train, Y_train = zip(*train_Data)\n",
    "                tqdm.write(f'Epoch {epoch+1:3}.\\ttrain_loss: {train_loss:2.6f}\\tval_loss: {val_loss:2.6f}')\n",
    "            # if cross_entropy < min_entr:\n",
    "            #     min_entr = cross_entropy  # ponemos la actual\n",
    "            #     # y movemos los mejores pesos\n",
    "            #     self.best_C = self.C\n",
    "            #     self.best_W = self.W\n",
    "            #     self.best_U = self.U\n",
    "            #     self.best_c = self.c\n",
    "                \n",
    "            # entr_timeline.append(cross_entropy)    \n",
    "            # tqdm.write(f'Epoch: {epoch+1} \\tEntropía cruzada: {cross_entropy}')\n",
    "        return history\n",
    "    \n",
    "    def cargar_mejores_pesos(self):\n",
    "        self.C = self.best_C\n",
    "        self.U = self.best_U\n",
    "        self.V = self.best_V\n",
    "        self.W = self.best_W\n",
    "        self.c = self.best_c\n",
    "    \n",
    "    def guardar_pesos(self, archivo):\n",
    "        \"\"\"Guarda los pesos del modelo en formato .npz\n",
    "        \"\"\"\n",
    "        try:\n",
    "            np.savez(\n",
    "                archivo, \n",
    "                C = self.C, \n",
    "                U = self.U, \n",
    "                b = self.V, \n",
    "                W = self.W, \n",
    "                c = self.c\n",
    "            )\n",
    "            print(f'Archivo {archivo} guardado satisfactoriamente')\n",
    "            return True\n",
    "        except Exception as e:\n",
    "            print('Ocurrió un error al guardar el archivo')\n",
    "            print(e)\n",
    "            return False\n",
    "    \n",
    "    def cargar_pesos(self, archivo):\n",
    "        \"\"\"Carga los pesos del modelo guardados en un archivo formato .npz\n",
    "        \"\"\"\n",
    "        try:\n",
    "            pesos = np.load(archivo)\n",
    "            self.C = pesos['C']\n",
    "            self.U = pesos['U']\n",
    "            self.b = pesos['V']\n",
    "            self.W = pesos['W']\n",
    "            self.c = pesos['c']\n",
    "            print(f'Pesos desde {archivo} cargados correctamente')\n",
    "            return True\n",
    "        except Exception as e:\n",
    "            print('Ocurrió un error al guardar el archivo')\n",
    "            print(e)\n",
    "            return False\n",
    "        "
   ]
  },
  {
   "cell_type": "code",
   "execution_count": 29,
   "metadata": {},
   "outputs": [
    {
     "output_type": "stream",
     "name": "stdout",
     "text": "Performing gradient check for parameter C with size 700.\nGradient check for parameter C passed.\n\nPerforming gradient check for parameter U with size 200.\nGradient check for parameter U passed.\n\nPerforming gradient check for parameter V with size 100.\nGradient check for parameter V passed.\n\nPerforming gradient check for parameter W with size 150.\nGradient check for parameter W passed.\n\nPerforming gradient check for parameter c with size 15.\nGradient check for parameter c passed.\n\n"
    }
   ],
   "source": [
    "# import operator\n",
    "modelo_test = Modelo(N_in = 35, d = 20, m = 10, N_out = 15)\n",
    "modelo_test.inicializar_pesos()\n",
    "modelo_test.gradient_check([0,1,8,3], [1,2,7,10], h=0.001, error_threshold=0.01)"
   ]
  },
  {
   "cell_type": "markdown",
   "metadata": {},
   "source": [
    "#### Instancio el modelo"
   ]
  },
  {
   "cell_type": "code",
   "execution_count": 54,
   "metadata": {},
   "outputs": [],
   "source": [
    "modelo = Modelo(d = dim_d, m=dim_m, N_in = dim_in, N_out = dim_out)\n",
    "modelo.inicializar_pesos()"
   ]
  },
  {
   "cell_type": "code",
   "execution_count": 57,
   "metadata": {},
   "outputs": [
    {
     "output_type": "display_data",
     "data": {
      "text/plain": "HBox(children=(FloatProgress(value=0.0, max=20.0), HTML(value='')))",
      "application/vnd.jupyter.widget-view+json": {
       "version_major": 2,
       "version_minor": 0,
       "model_id": "066a7f96e6024683a3fc1ed9aa718a5b"
      }
     },
     "metadata": {}
    },
    {
     "output_type": "stream",
     "name": "stdout",
     "text": "\n"
    },
    {
     "output_type": "error",
     "ename": "AttributeError",
     "evalue": "'numpy.ndarray' object has no attribute 'append'",
     "traceback": [
      "\u001b[1;31m---------------------------------------------------------------------------\u001b[0m",
      "\u001b[1;31mAttributeError\u001b[0m                            Traceback (most recent call last)",
      "\u001b[1;32m<timed exec>\u001b[0m in \u001b[0;36m<module>\u001b[1;34m\u001b[0m\n",
      "\u001b[1;32m<ipython-input-53-ac040234005f>\u001b[0m in \u001b[0;36mentrenar\u001b[1;34m(self, train_Data, val_Data, epochs, lr)\u001b[0m\n\u001b[0;32m    252\u001b[0m             \u001b[0mtrain_loss\u001b[0m \u001b[1;33m/=\u001b[0m \u001b[0mtrain_len\u001b[0m\u001b[1;33m\u001b[0m\u001b[1;33m\u001b[0m\u001b[0m\n\u001b[0;32m    253\u001b[0m \u001b[1;33m\u001b[0m\u001b[0m\n\u001b[1;32m--> 254\u001b[1;33m             \u001b[0mhistory\u001b[0m\u001b[1;33m[\u001b[0m\u001b[1;34m'train'\u001b[0m\u001b[1;33m]\u001b[0m\u001b[1;33m[\u001b[0m\u001b[1;34m'conf_mat'\u001b[0m\u001b[1;33m]\u001b[0m\u001b[1;33m.\u001b[0m\u001b[0mappend\u001b[0m\u001b[1;33m(\u001b[0m\u001b[0mtrain_conf_mat\u001b[0m\u001b[1;33m)\u001b[0m\u001b[1;33m\u001b[0m\u001b[1;33m\u001b[0m\u001b[0m\n\u001b[0m\u001b[0;32m    255\u001b[0m             \u001b[0mhistory\u001b[0m\u001b[1;33m[\u001b[0m\u001b[1;34m'train'\u001b[0m\u001b[1;33m]\u001b[0m\u001b[1;33m[\u001b[0m\u001b[1;34m'loss'\u001b[0m\u001b[1;33m]\u001b[0m\u001b[1;33m.\u001b[0m\u001b[0mappend\u001b[0m\u001b[1;33m(\u001b[0m\u001b[0mtrain_loss\u001b[0m\u001b[1;33m)\u001b[0m\u001b[1;33m\u001b[0m\u001b[1;33m\u001b[0m\u001b[0m\n\u001b[0;32m    256\u001b[0m \u001b[1;33m\u001b[0m\u001b[0m\n",
      "\u001b[1;31mAttributeError\u001b[0m: 'numpy.ndarray' object has no attribute 'append'"
     ]
    }
   ],
   "source": [
    "%%time\n",
    "history = modelo.entrenar(train_Data, [], epochs=20, lr=0.1)"
   ]
  },
  {
   "cell_type": "code",
   "execution_count": null,
   "metadata": {},
   "outputs": [],
   "source": [
    "# plt.plot()"
   ]
  },
  {
   "cell_type": "code",
   "execution_count": 24,
   "metadata": {},
   "outputs": [
    {
     "output_type": "execute_result",
     "data": {
      "text/plain": "(2110,\n 123,\n 13,\n 0,\n 692,\n 341,\n 4,\n 178,\n 1599,\n 636,\n 1211,\n 11,\n 326,\n 480,\n 5,\n 2109,\n 129,\n 2,\n 171,\n 1670,\n 1,\n 2111)"
     },
     "metadata": {},
     "execution_count": 24
    }
   ],
   "source": [
    "# [list(zip(*sent)) for sent in train_corpus][0][0]"
   ]
  },
  {
   "cell_type": "code",
   "execution_count": 43,
   "metadata": {},
   "outputs": [],
   "source": [
    "# ñ = np.zeros((5,5))"
   ]
  },
  {
   "cell_type": "code",
   "execution_count": 46,
   "metadata": {},
   "outputs": [],
   "source": [
    "# ñ[[1,2,3],[0,3,2]]=1"
   ]
  },
  {
   "cell_type": "code",
   "execution_count": 47,
   "metadata": {},
   "outputs": [
    {
     "output_type": "execute_result",
     "data": {
      "text/plain": "array([[0., 0., 0., 0., 0.],\n       [1., 0., 0., 0., 0.],\n       [0., 0., 0., 1., 0.],\n       [0., 0., 1., 0., 0.],\n       [0., 0., 0., 0., 0.]])"
     },
     "metadata": {},
     "execution_count": 47
    }
   ],
   "source": [
    "# ñ"
   ]
  },
  {
   "cell_type": "markdown",
   "metadata": {},
   "source": [
    "\n",
    "5. Evaluar el desempeño del sistema a partir del corpus de evaluación y con la métrica de Exactitud (Accuracy).\n",
    "6. Ejemplificar el reconocimiento de entidades nombradas con 5 sentencias del corpus de evaluación."
   ]
  }
 ],
 "metadata": {
  "language_info": {
   "codemirror_mode": {
    "name": "ipython",
    "version": 3
   },
   "file_extension": ".py",
   "mimetype": "text/x-python",
   "name": "python",
   "nbconvert_exporter": "python",
   "pygments_lexer": "ipython3",
   "version": "3.7.4-final"
  },
  "orig_nbformat": 2,
  "kernelspec": {
   "name": "python3",
   "display_name": "Python 3"
  }
 },
 "nbformat": 4,
 "nbformat_minor": 2
}