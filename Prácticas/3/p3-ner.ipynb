{
 "cells": [
  {
   "cell_type": "markdown",
   "metadata": {},
   "source": [
    "# Práctica 3. Reconocimiento de Entidades Nombradas. NER\n",
    "\n",
    "Andrés González Flores\n",
    "\n",
    "Procesamiento de Lenguaje Natural\n",
    "\n",
    "Facultad de Ingeniería, UNAM\n",
    "\n",
    "## Objetivo\n",
    "\n",
    "Realizar un reconocimiento de Entidades Nombradas (NER) a partir de un modelo secuencial y con el corpus ‘ner dataset.csv’ que se proporciona.\n",
    "\n",
    "## Instrucciones\n",
    "\n",
    "Se deberán seguir los siguientes pasos:\n",
    "\n",
    "1. Obtener las sentencias a partir del csv. En este archivo, se indica cada inicio de sentencia con ‘Sentence: n’. Se cuenta con 1000 sentencias que conformarán el corpus de entrenamiento y evaluación.\n",
    "2. Preprocesar los datos.\n",
    "3. Separar los datos en corpus de entrenamiento (70%) y corpus de evaluación (30%).\n",
    "4. Entrenar un modelo secuencial a partir del corpus de entrenamiento. Deberán definirse los hiperparámetros.\n",
    "5. Evaluar el desempeño del sistema a partir del corpus de evaluación y con la métrica de Exactitud (Accuracy).\n",
    "6. Ejemplificar el reconocimiento de entidades nombradas con 5 sentencias del corpus de evaluación."
   ]
  },
  {
   "cell_type": "markdown",
   "metadata": {},
   "source": [
    "## Dessarrollo"
   ]
  },
  {
   "cell_type": "code",
   "execution_count": 1,
   "metadata": {},
   "outputs": [],
   "source": [
    "import csv\n",
    "import numpy as np\n",
    "from collections import Counter, defaultdict\n",
    "from sklearn.model_selection import train_test_split\n",
    "import matplotlib.pyplot as plt\n",
    "from itertools import chain\n",
    "from tqdm.notebook import tqdm as nbtqdm\n",
    "from pprint import pprint"
   ]
  },
  {
   "cell_type": "code",
   "execution_count": 2,
   "metadata": {},
   "outputs": [],
   "source": [
    "# Definición de constantes\n",
    "SEED = 42\n",
    "CORPUS_PATH = './ner_dataset.csv'\n",
    "BOS = '<BOS>'\n",
    "EOS = '<EOS>'\n",
    "UNK = '<unk>'\n",
    "\n",
    "np.random.seed(SEED)"
   ]
  },
  {
   "cell_type": "markdown",
   "metadata": {},
   "source": [
    "### Paso 1. Obtener sentencias.\n"
   ]
  },
  {
   "cell_type": "code",
   "execution_count": 3,
   "metadata": {},
   "outputs": [],
   "source": [
    "with open(CORPUS_PATH, 'r', encoding='utf-8') as f:\n",
    "    reader = csv.reader(f)\n",
    "    csvlist = list(reader)"
   ]
  },
  {
   "cell_type": "code",
   "execution_count": 4,
   "metadata": {},
   "outputs": [],
   "source": [
    "sentences = []\n",
    "sent_i = []\n",
    "for row in csvlist[1:]:\n",
    "    if row[0] is not '':\n",
    "        sentences.append(sent_i)\n",
    "        sent_i = []\n",
    "    sent_i.append((row[1], row[2]))\n",
    "# Mi algoritmo está feo: agrega la primer sentencia vacía y no agrega la última\n",
    "del sentences[0]\n",
    "sentences.append(sent_i)"
   ]
  },
  {
   "cell_type": "code",
   "execution_count": 5,
   "metadata": {},
   "outputs": [
    {
     "output_type": "stream",
     "name": "stdout",
     "text": "Número de oraciones = 1000\n\nEjemplos:\nThousands of demonstrators have marched through London to protest the war in Iraq and demand the withdrawal of British troops from that country .\nFamilies of soldiers killed in the conflict joined the protesters who carried banners with such slogans as \" Bush Number One Terrorist \" and \" Stop the Bombings . \"\nThey marched from the Houses of Parliament to a rally in Hyde Park .\nPolice put the number of marchers at 10000 while organizers claimed it was 1,00,000 .\nThe protest comes on the eve of the annual conference of Britain 's ruling Labor Party in the southern English seaside resort of Brighton .\n"
    }
   ],
   "source": [
    "print(f'Número de oraciones = {len(sentences)}\\n')\n",
    "print('Ejemplos:')\n",
    "print('\\n'.join([' '.join([w for w, tag in sent]) for sent in sentences[:5] ]))"
   ]
  },
  {
   "cell_type": "markdown",
   "metadata": {},
   "source": [
    "### Paso 2. Preprocesamiento"
   ]
  },
  {
   "cell_type": "code",
   "execution_count": 6,
   "metadata": {},
   "outputs": [
    {
     "output_type": "execute_result",
     "data": {
      "text/plain": "[('the', 1111),\n ('.', 995),\n (',', 637),\n ('in', 576),\n ('of', 568),\n ('to', 505),\n ('a', 449),\n ('and', 391),\n ('The', 241),\n (\"'s\", 202)]"
     },
     "metadata": {},
     "execution_count": 6
    }
   ],
   "source": [
    "freq_tokens = Counter([w for w,_ in chain(*sentences)])\n",
    "freq_tokens.most_common(10)"
   ]
  },
  {
   "cell_type": "markdown",
   "metadata": {},
   "source": [
    "Agrego el diccionario de entrada"
   ]
  },
  {
   "cell_type": "code",
   "execution_count": 7,
   "metadata": {},
   "outputs": [
    {
     "output_type": "stream",
     "name": "stdout",
     "text": "[('the', 0),\n ('.', 1),\n (',', 2),\n ('in', 3),\n ('of', 4),\n ('to', 5),\n ('a', 6),\n ('and', 7),\n ('The', 8),\n (\"'s\", 9)]\n"
    }
   ],
   "source": [
    "word_to_index = { \n",
    "    x[0] : i for i, x in enumerate(freq_tokens.most_common())\n",
    "    if freq_tokens[x[0]] > 1\n",
    "}\n",
    "\n",
    "pprint(list(word_to_index.items())[:10])"
   ]
  },
  {
   "cell_type": "markdown",
   "metadata": {},
   "source": [
    "Agrego los identificadores UNK, BOS Y EOS al vocabulario de entrada"
   ]
  },
  {
   "cell_type": "code",
   "execution_count": 8,
   "metadata": {},
   "outputs": [
    {
     "output_type": "stream",
     "name": "stdout",
     "text": "[('collapse', 2102),\n ('Barno', 2103),\n ('reunification', 2104),\n ('Berlin', 2105),\n ('Kohl', 2106),\n ('proud', 2107),\n ('wall', 2108),\n ('<unk>', 2109),\n ('<BOS>', 2110),\n ('<EOS>', 2111)]\n"
    }
   ],
   "source": [
    "word_to_index[UNK] = max(word_to_index.values())+1\n",
    "word_to_index[BOS] = word_to_index[UNK]+1\n",
    "word_to_index[EOS] = word_to_index[BOS]+1\n",
    "\n",
    "pprint(list(word_to_index.items())[-10:])"
   ]
  },
  {
   "cell_type": "markdown",
   "metadata": {},
   "source": [
    "Agrego el vocabulario de salida (las etiquetas)"
   ]
  },
  {
   "cell_type": "code",
   "execution_count": 9,
   "metadata": {},
   "outputs": [
    {
     "output_type": "execute_result",
     "data": {
      "text/plain": "[('', 18843),\n ('B-ge', 583),\n ('B-gpe', 543),\n ('B-rg', 413),\n ('I-per', 400),\n ('B-tim', 358),\n ('B-per', 327),\n ('I-rg', 290),\n ('I-ge', 105),\n ('I-tim', 77),\n ('B-art', 39),\n ('I-gpe', 26),\n ('I-art', 22),\n ('B-eve', 20),\n ('I-eve', 16),\n ('B-nat', 9),\n ('I-nat', 5)]"
     },
     "metadata": {},
     "execution_count": 9
    }
   ],
   "source": [
    "freq_tags = Counter([tag for _,tag in chain(*sentences)])\n",
    "freq_tags.most_common()"
   ]
  },
  {
   "cell_type": "code",
   "execution_count": 10,
   "metadata": {},
   "outputs": [
    {
     "output_type": "stream",
     "name": "stdout",
     "text": "{'': 0,\n 'B-art': 10,\n 'B-eve': 13,\n 'B-ge': 1,\n 'B-gpe': 2,\n 'B-nat': 15,\n 'B-per': 6,\n 'B-rg': 3,\n 'B-tim': 5,\n 'I-art': 12,\n 'I-eve': 14,\n 'I-ge': 8,\n 'I-gpe': 11,\n 'I-nat': 16,\n 'I-per': 4,\n 'I-rg': 7,\n 'I-tim': 9}\n"
    }
   ],
   "source": [
    "tag_to_index = {\n",
    "    y[0] : i for i, y in enumerate(freq_tags.most_common())\n",
    "}\n",
    "pprint(tag_to_index)"
   ]
  },
  {
   "cell_type": "markdown",
   "metadata": {},
   "source": [
    "Creo los vocabularios inversos"
   ]
  },
  {
   "cell_type": "code",
   "execution_count": 11,
   "metadata": {
    "tags": [
     "outputPrepend"
    ]
   },
   "outputs": [
    {
     "output_type": "stream",
     "name": "stdout",
     "text": "ers',\n 'only',\n 'make',\n 'bomber',\n 'build',\n 'ties',\n 'national',\n 'making',\n 'small',\n 'house',\n 'arrest',\n 'much',\n 'Organization',\n 'negotiations',\n 'ABAC',\n 'Australian',\n 'across',\n 'discuss',\n 'decision',\n 'connection',\n 'left',\n 'French',\n 'well',\n 'launched',\n 'At',\n 'toll',\n '50',\n 'person',\n 'seven',\n 'plans',\n 'sides',\n 'office',\n 'show',\n 'site',\n 'rate',\n 'began',\n 'Merck',\n 'ministry',\n 'south',\n 'Malaysia',\n 'Japan',\n 'development',\n 'member',\n 'human',\n 'Egypt',\n 'Western',\n 'time',\n 'shows',\n 'issued',\n 'Earlier',\n 'key',\n 'Venezuela',\n 'civilians',\n 'Italian',\n 'terrorism',\n 'billion',\n 'campaign',\n 'natural',\n 'Soviet',\n 'economic',\n 'Meanwhile',\n 'Jihad',\n 'Ukraine',\n 'Iowa',\n 'protesters',\n 'carried',\n 'One',\n 'Labor',\n 'Party',\n 'ahead',\n 'cities',\n 'European',\n 'Tehran',\n 'kidnapped',\n 'raid',\n 'An',\n 'better',\n 'used',\n 'occurred',\n 'largest',\n 'soldier',\n 'attempt',\n 'cut',\n 'public',\n 'bill',\n 'force',\n 'close',\n 'drug',\n 'commander',\n 'senior',\n '2004',\n 'provide',\n 'APEC',\n 'summit',\n 'September',\n 'major',\n 'business',\n 'do',\n 'good',\n '1995',\n 'held',\n 'April',\n 'efforts',\n 'Indonesian',\n 'headquarters',\n 'medical',\n 'targeted',\n 'along',\n 'fighting',\n 'past',\n 'Moscow',\n 'continue',\n 'power',\n '2003',\n 'Ministry',\n 'fire',\n 'November',\n 'leave',\n 'reactor',\n 'enough',\n 'district',\n 'disease',\n 'convicted',\n 'Strip',\n 'recently',\n 'Hamas',\n 'industry',\n 'New',\n 'thousands',\n 'America',\n 'control',\n 'damage',\n 'Japanese',\n 'Xinhua',\n 'crash',\n 'action',\n 'resume',\n 'Hussein',\n 'Department',\n 'television',\n 'large',\n 'involved',\n 'forced',\n '20',\n 'operating',\n 'judge',\n 'coast',\n '25',\n 'refugees',\n 'warned',\n 'proposal',\n 'administration',\n 'Spanish',\n 'own',\n 'you',\n 'kilometers',\n 'homes',\n 'joined',\n 'comes',\n 'conference',\n 'Britain',\n 'uranium',\n 'process',\n 'Iranian',\n 'sanctions',\n 'boat',\n 'Delta',\n 'residents',\n 'fired',\n 'immediately',\n 'clear',\n 'hurt',\n 'go',\n 'Mosul',\n '200',\n 'patrol',\n 'parliamentary',\n 'previous',\n 'provincial',\n 'vote',\n 'calls',\n 'Prophet',\n 'cause',\n 'prominent',\n 'killings',\n 'Army',\n 'company',\n 'support',\n 'too',\n 'denies',\n 'change',\n 'role',\n 'improve',\n 'trade',\n 'private',\n 'businesses',\n 'ways',\n 'same',\n 'Foreign',\n 'suspended',\n 'Bali',\n 'shot',\n 'Some',\n 'attacked',\n 'school',\n 'event',\n 'third',\n '13',\n 'injured',\n 'weather',\n 'deadly',\n 'latest',\n 'Ethiopian',\n 'agreed',\n 'progress',\n 'did',\n 'possible',\n 'request',\n 'plutonium',\n 'living',\n 'Cuba',\n 'relations',\n 'City',\n 'place',\n 'August',\n 'Palestinians',\n 'Mexico',\n 'become',\n 'Vioxx',\n 'showed',\n 'risk',\n 'interview',\n 'Senator',\n '2008',\n 'fishing',\n 'violent',\n 'Tokyo',\n 'Beijing',\n 'corruption',\n 'details',\n 'That',\n 'both',\n 'unemployment',\n 'Colombia',\n 'freedom',\n 'eight',\n 'Uganda',\n 'signed',\n 'LRA',\n 'Court',\n 'space',\n 'Besigye',\n 'hundreds',\n 'detained',\n 'run',\n 'presidential',\n 'Africa',\n 'Bolivia',\n 'reached',\n 'project',\n 'scheduled',\n 'Ramda',\n 'refugee',\n 'return',\n 'Democratic',\n 'less',\n 'cleric',\n 'Bakri',\n 'prime',\n 'triggered',\n 'without',\n 'wanted',\n 'face',\n 'Mwanawasa',\n 'crisis',\n 'Clinton',\n 'court',\n 'claims',\n 'roadside',\n 'aid',\n 'May',\n 'ship',\n '2006',\n 'set',\n 'visited',\n 'withdrawal',\n 'conflict',\n 'today',\n 'Rome',\n 'step',\n 'aimed',\n 'Niger',\n 'job',\n 'companies',\n 'often',\n 'Islamist',\n 'long',\n 'Egyptian',\n 'total',\n 'voters',\n 'banned',\n 'independent',\n 'Province',\n 'must',\n 'sign',\n 'denounced',\n 'measure',\n 'neighboring',\n 'Muhammad',\n 'conditions',\n 'sought',\n 'concern',\n 'back',\n 'serving',\n 'Khan',\n 'Waziristan',\n 'driver',\n 'No',\n 'almost',\n 'ousted',\n 'wants',\n 'civilian',\n 'operated',\n 'include',\n '9',\n 'VOA',\n 'Trade',\n 'investment',\n 'Harcourt',\n 'important',\n 'governments',\n 'problems',\n 'each',\n '21',\n 'body',\n 'need',\n 'And',\n 'Ismail',\n 'withdraw',\n 'Khartoum',\n 'truce',\n 'relief',\n 'due',\n '1',\n 'island',\n 'century',\n 'believed',\n 'avoid',\n 'ago',\n 'Separately',\n 'Latvia',\n 'cases',\n 'Witnesses',\n 'streets',\n 'insurgent',\n 'Defense',\n 'returned',\n 'December',\n 'document',\n 'issues',\n 'come',\n 'Olmert',\n 'hope',\n 'Adam',\n 'produce',\n '40',\n 'photos',\n 'whether',\n 'leading',\n 'higher',\n 'camps',\n 'Panama',\n 'Cuban',\n 'following',\n 'hours',\n 'extradition',\n '2000',\n 'sources',\n 'strike',\n 'Chrysler',\n 'opened',\n 'During',\n 'heart',\n 'worker',\n 'responsible',\n 'rejected',\n 'failed',\n 'facing',\n 'ordered',\n 'pay',\n 'News',\n 'lost',\n 'Senate',\n 'fight',\n 'served',\n 'senator',\n 'Indian',\n 'Ocean',\n 'tsunami',\n 'loss',\n 'food',\n 'Sri',\n 'experts',\n 'girl',\n 'evidence',\n 'training',\n 'Several',\n 'bid',\n 'history',\n 'Games',\n 'using',\n 'giant',\n 'Jing',\n 'Kandahar',\n 'Web',\n 'newspaper',\n 'citizens',\n 'Rights',\n 'base',\n 'oil-for-food',\n 'smuggling',\n 'Former',\n 'start',\n 'funds',\n 'War',\n 'Europe',\n 'airline',\n 'service',\n 'added',\n 'despite',\n 'Venezuelan',\n 'Chavez',\n 'met',\n 'rose',\n 'policies',\n 'pardons',\n 'FALSE',\n 'granted',\n 'issue',\n 'White',\n 'Haas',\n 'moon',\n 'taken',\n 'probe',\n 'Ugandan',\n 'detention',\n 'Dr.',\n 'election',\n 'keep',\n 'running',\n 'care',\n 'should',\n '17',\n 'inside',\n 'air',\n 'unclear',\n 'investigators',\n 'Central',\n 'murder',\n 'bombers',\n 'supplies',\n 'electricity',\n 'trying',\n 'calling',\n 'India',\n 'accept',\n 'mine',\n 'towns',\n 'enrichment',\n 'does',\n 'address',\n 'named',\n 'Sperling',\n 'National',\n 'Bosnian',\n 'ruins',\n 'houses',\n 'concerned',\n 'technical',\n 'naval',\n 'activity',\n 'imposed',\n 'exploded',\n 'wounding',\n 'economy',\n 'productivity',\n 'video',\n 'growth',\n '1990s',\n 'production',\n 'although',\n 'away',\n '15',\n 'vault',\n 'designed',\n 'Kabul',\n 'missiles',\n 'Berlusconi',\n 'Syrian',\n 'Burma',\n 'Aung',\n 'Abramoff',\n 'dictator',\n 'Pinochet',\n 'Aceh',\n 'quake',\n 'democratic',\n 'California',\n '06-Mar',\n 'Syria',\n 'Thousands',\n 'demonstrators',\n 'marched',\n 'ruling',\n 'Energy',\n 'Agency',\n 'access',\n 'operate',\n 'capacity',\n 'threatened',\n 'nation',\n 'Two',\n 'Germans',\n 'Nigeria',\n 'German',\n 'supply',\n 'inspect',\n 'frequently',\n 'services',\n 'huge',\n 'palace',\n 'interim',\n 'Ahmad',\n 'Somali',\n 'arrived',\n 'fled',\n 'provinces',\n 'stronghold',\n 'winning',\n 'seats',\n 'candidate',\n 'won',\n 'majority',\n 'so-called',\n 'candidates',\n 'lawmakers',\n 'places',\n 'behavior',\n 'based',\n 'parties',\n 'passed',\n 'sure',\n 'rule',\n 'cartoons',\n 'Omar',\n 'Khayam',\n 'investigation',\n 'Press',\n 'sentence',\n 'His',\n 'became',\n '2001',\n 'scientists',\n 'behind',\n 'Abdul',\n 'available',\n 'direct',\n 'questioning',\n 'worldwide',\n 'sell',\n 'placed',\n 'considered',\n 'controversial',\n 'contract',\n 'Halliburton',\n 'Democrats',\n 'produced',\n 'allegations',\n 'When',\n 'Representatives',\n 'Asia',\n 'holding',\n 'Commission',\n 'leadership',\n 'meets',\n 'times',\n 'permanent',\n 'Members',\n 'range',\n 'regional',\n 'cooperation',\n 'little',\n 'quarantine',\n 'immigration',\n 'provides',\n 'formal',\n 'positions',\n 'October',\n '23',\n 'series',\n 'bin',\n 'linked',\n 'Pope',\n 'Benedict',\n 'meant',\n 'northwest',\n 'Orakzai',\n 'Taliban',\n 'nearby',\n 'far',\n '100',\n 'bodies',\n 'mission',\n 'wave',\n 'victims',\n 'hospitalized',\n 'quotes',\n 'rise',\n 'overnight',\n 'effect',\n 'Vietnam',\n 'virus',\n 'old',\n 'H5N1',\n 'avian',\n 'heavy',\n 'deployed',\n 'movement',\n 'Qureia',\n 'remarks',\n 'reaching',\n 'George',\n 'leaves',\n 'take',\n 'post',\n 'soon',\n 'Lebanon',\n 'conduct',\n 'construction',\n 'spokeswoman',\n 'Association',\n 'June',\n 'broke',\n 'San',\n 'final',\n 'kill',\n 'rocket',\n 'rockets',\n 'recognize',\n 'exchange',\n 'spoke',\n 'engine',\n 'jobs',\n 'per',\n 'jury',\n 'risks',\n 'claim',\n 'case',\n 'driving',\n 'something',\n 'way',\n '3',\n 'John',\n 'Republican',\n 'debate',\n 'Committee',\n 'retirement',\n 'protect',\n 'destroyed',\n 'developing',\n 'woman',\n 'Scientists',\n 'global',\n 'pandemic',\n 'Bangkok',\n '500',\n 'insurgency',\n 'consulate',\n 'thousand',\n '2012',\n 'promised',\n 'concerns',\n 'cost',\n 'Authority',\n 'stage',\n '2005',\n 'There',\n '--',\n 'aircraft',\n 'went',\n 'reconstruction',\n 'Sivaram',\n 'board',\n 'Human',\n 'genocide',\n 'treatment',\n 'condition',\n 'illegally',\n 'Paul',\n 'station',\n 'itself',\n 'refused',\n 'created',\n 'use',\n 'demands',\n 'riot',\n 'passengers',\n 'increased',\n 'increase',\n 'Colombian',\n 'March',\n 'severe',\n 'violations',\n 'Liu',\n 'basis',\n 'Resistance',\n 'Criminal',\n 'closed',\n '06-Apr',\n 'problem',\n 'surface',\n 'information',\n 'likely',\n 'data',\n 'bail',\n 'release',\n 'exile',\n 'tribunal',\n 'charged',\n 'High',\n 'denied',\n 'Barack',\n 'option',\n 'trillion',\n 'nations',\n 'debt',\n 'pledge',\n 'poorest',\n 'located',\n 'offices',\n 'domestic',\n 'flights',\n 'Air',\n 'dangerous',\n 'winds',\n 'blew',\n 'himself',\n 'even',\n 'Ariel',\n 'Sharon',\n 'remote',\n 'fund',\n 'helping',\n 'currently',\n 'radical',\n 'carry',\n 'communities',\n 'prevent',\n 'Mullen',\n 'hopes',\n 'secretly',\n 'charge',\n 'diplomatic',\n 'Georgia',\n 'cabinet',\n 'Peru',\n 'Fujimori',\n 'signature',\n 'citizenship',\n 'embassy',\n 'explosives',\n 'travel',\n 'Kenyan',\n 'tried',\n 'shouting',\n 'mining',\n 'working',\n 'Shaanxi',\n 'Kashmir',\n 'measures',\n 'led',\n 'future',\n 'operation',\n 'constitution',\n 'remains',\n 'treated',\n 'stroke',\n 'Secretary',\n 'planning',\n 'Serb',\n 'further',\n 'discovered',\n '29',\n 'environment',\n 'incident',\n 'bring',\n 'leaving',\n 'suspension',\n 'indicted',\n 'signing',\n 'Abu',\n 'al-Baghdadi',\n 'changes',\n 'officers',\n 'act',\n 'filed',\n 'regime',\n 'politician',\n 'believe',\n 'identified',\n 'remain',\n 'Kirkuk',\n 'Sadr',\n 'water',\n 'minority',\n 'position',\n 'sectarian',\n 'benefits',\n 'education',\n 'rubble',\n 'local',\n 'Posada',\n 'Carriles',\n 'escaped',\n 'Musharraf',\n 'planes',\n 'difficult',\n 'growing',\n 'links',\n 'name',\n 'formed',\n 'EU',\n 'reforms',\n '5',\n 'hydrocarbons',\n 'prices',\n 'highest',\n 'Goats',\n 'Spain',\n 'seized',\n 'vessel',\n 'Kenya',\n 'punished',\n 'built',\n 'seed',\n 'seeds',\n 'meters',\n 'Other',\n 'policemen',\n '26',\n 'convoy',\n 'draft',\n 'overseas',\n 'Afghans',\n 'Sevastopol',\n 'Sea',\n 'Cairo',\n 'mobile',\n 'missile',\n 'estimated',\n 'buildings',\n 'Arizona',\n 'Minuteman',\n '1000',\n 'Prodi',\n 'Bittok',\n 'test',\n '120',\n 'raise',\n 'quarter',\n 'journalists',\n 'starting',\n 'earthquake',\n 'Ney',\n 'levees',\n 'employees',\n 'contractors',\n 'indictment',\n 'questioned',\n 'Brazil',\n 'magnitude',\n 'crossing',\n 'sets',\n 'KindHearts',\n 'execution',\n 'Rostropovich',\n 'February',\n '06-Feb',\n 'demand',\n 'slogans',\n 'rally',\n 'marchers',\n '10000',\n 'organizers',\n 'eve',\n 'divided',\n 'continued',\n 'deployment',\n 'march',\n 'Atomic',\n 'Vienna',\n 'resumption',\n 'conversion',\n 'restarted',\n 'begins',\n 'functioning',\n 'facility',\n 'full',\n 'refer',\n 'violated',\n 'Ahmadinejad',\n 'insult',\n 'Nigerian',\n 'oil-rich',\n 'firm',\n 'Thomas',\n 'offshore',\n 'Shell',\n 'petroleum',\n 'mortar',\n 'shells',\n 'Yusuf',\n 'anyone',\n 'Local',\n 'mortars',\n 'elsewhere',\n 'politicians',\n 'invited',\n 'tanks',\n 'al',\n 'Qaida',\n 'north',\n '16',\n 'prepare',\n 'arrests',\n 'strength',\n 'raising',\n 'round',\n 'voting',\n 'pushed',\n 'six-party',\n 'easily',\n 'governor',\n 'seen',\n 'proposed',\n 'jailed',\n 'dressed',\n 'demonstration',\n 'publication',\n 'depicting',\n 'parole',\n 'Home',\n 'Office',\n 'black',\n 'Associated',\n 'half',\n 'dealing',\n 'bordering',\n 'traveling',\n 'vehicle',\n 'ambush',\n 'completely',\n 'ready',\n 'states',\n 'giving',\n 'admitted',\n 'network',\n 'market',\n 'Islamabad',\n 'father',\n 'list',\n 'shoddy',\n 'strongly',\n 'chance',\n 'compete',\n 'Economic',\n 'Business',\n 'Advisory',\n 'meetings',\n 'climate',\n 'Tim',\n 'plays',\n 'think',\n 'consistent',\n 'economies',\n 'within',\n 'sectors',\n 'efficiency',\n 'practices',\n \"'ll\",\n 'bit',\n 'customs',\n 'want',\n 'shop',\n 'together',\n 'present',\n 'order',\n 'Osman',\n 'cease-fire',\n 'agree',\n 'AU',\n 'repeatedly',\n 'helicopters',\n 'sites',\n 'village',\n 'defending',\n 'flown',\n 'agencies',\n 'raids',\n 'ended',\n 'extremist',\n 'Azahari',\n 'Husin',\n 'blame',\n '2002',\n 'nun',\n 'bodyguard',\n 'shooting',\n 'anger',\n 'toward',\n 'suspect',\n 'hoped',\n 'comments',\n 'motive',\n 'quoted',\n 'brought',\n 'launching',\n 'dozens',\n 'stormed',\n '32',\n 'few',\n 'clashes',\n 'guerrillas',\n 'NATO-led',\n 'peacekeeping',\n 'motivated',\n 'regions',\n 'extremely',\n 'cold',\n 'bringing',\n 'Emergency',\n '19',\n 'Baltic',\n 'lower',\n 'strain',\n 'positive',\n 'chickens',\n 'Most',\n 'burned',\n 'Ethiopia',\n 'push',\n 'struggling',\n 'contain',\n 'Top',\n 'negotiator',\n 'accord',\n 'discussed',\n 'why',\n 'Ehud',\n 'expressed',\n 'room',\n 'Major',\n 'accepted',\n 'replaced',\n 'general',\n 'Lieutenant',\n 'building',\n 'Institute',\n 'satellite',\n 'Khushab',\n 'Punjab',\n 'According',\n 'capable',\n 'declined',\n 'constructed',\n 'facilities',\n 'failure',\n 'Experts',\n 'live',\n 'normal',\n 'lives',\n 'consular',\n 'assassination',\n 'Castro',\n 'Panamanian',\n 'Vice',\n 'Ibero-American',\n 'preventing',\n 'plotting',\n 'collecting',\n 'Haniyeh',\n 'pullout',\n 'rival',\n 'Fatah',\n 'ceremonial',\n 'Mexican',\n 'Calderon',\n 'sixth',\n 'create',\n '700',\n 'vehicles',\n 'suffered',\n 'users',\n 'popular',\n 'study',\n 'long-term',\n 'millions',\n 'dollars',\n 'TRUE',\n ':',\n 'Ritchie',\n 'Speaking',\n 'TV',\n 'She',\n 'Good',\n 'guilty',\n 'apologize',\n 'every',\n 'single',\n \"n't\",\n 'my',\n '2',\n 'Warner',\n 'southeastern',\n 'Virginia',\n 'term',\n '2009',\n 'Armed',\n 'criticized',\n 'open',\n 'safe',\n 'seat',\n 'secretary',\n 'industries',\n 'worst',\n 'FAO',\n 'damaged',\n '1,11,000',\n 'vital',\n 'includes',\n 'Lanka',\n 'rebuild',\n 'disaster',\n '96',\n 'outbreak',\n 'started',\n 'outskirts',\n 'Jakarta',\n 'west',\n 'infected',\n 'contact',\n 'fear',\n 'prove',\n 'Muslim-majority',\n 'Thai',\n 'Interior',\n 'borders',\n 'demanded',\n 'Shanghai',\n 'turned',\n 'waiting',\n 'calm',\n 'manner',\n 'counterpart',\n 'rising',\n 'With',\n 'champion',\n 'low',\n 'emissions',\n 'friendly',\n 'renewable',\n 'costs',\n 'committee',\n 'critical',\n 'financing',\n 'pandas',\n 'endangered',\n 'species',\n 'lists',\n 'panda',\n 'draw',\n 'threats',\n 'personnel',\n 'crashed',\n 'causing',\n 'remnants',\n 'Operation',\n 'threat',\n 'stability',\n 'achieved',\n 'Lankan',\n 'Tamil',\n 'Colombo',\n 'abducted',\n 'attackers',\n 'civil',\n 'bilateral',\n 'Pyongyang',\n 'kidnapping',\n '1980s',\n 'failing',\n 'upcoming',\n 'documents',\n 'faces',\n 'humanity',\n 'receiving',\n 'stable',\n 'obtained',\n 'Chairman',\n 'Volcker',\n 'lot',\n 'Gulf',\n 'humanitarian',\n 'Akmatbayev',\n 'Bishkek',\n 'inmates',\n 'gave',\n 'poor',\n 'evacuate',\n 'plane',\n 'Aigle',\n 'Azur',\n 'airport',\n 'largely',\n 'diplomats',\n 'airlines',\n 'flying',\n 'Emirates',\n 'moderate',\n 'hour',\n 'ease',\n 'tight',\n 'labor',\n 'significantly',\n 'decided',\n 'interest',\n 'inflation',\n 'Uribe',\n 'presidents',\n 'After',\n 'Manuel',\n 'promises',\n 'televised',\n 'speech',\n 'camp',\n 'responded',\n 'criticism',\n 'continues',\n 'attempting',\n 'runs',\n 'according',\n 'worship',\n 'mosques',\n 'unauthorized',\n 'criminals',\n 'commuted',\n 'sentences',\n 'high-profile',\n 'statements',\n 'federal',\n 'actions',\n 'absolute',\n 'review',\n 'requests',\n 'Lord',\n 'Kony',\n 'prosecution',\n 'mutilating',\n 'tennis',\n 'Federer',\n 'Open',\n 'Swiss',\n 'star',\n 'Tommy',\n 'opening',\n 'match',\n 'record',\n 'win',\n 'received',\n 'Saturn',\n 'Huygens',\n 'Earth',\n 'ruled',\n 'Judge',\n 'improvements',\n 'insurance',\n 'vowed',\n 'reform',\n 'extending',\n 'Americans',\n 'Latin',\n 'move',\n 'follows',\n 'Tanzania',\n 'Zambia',\n 'schools',\n 'dust',\n 'Government',\n 'declared',\n 'holiday',\n 'stay',\n 'Control',\n 'midnight',\n 'crowd',\n 'spotted',\n 'prevented',\n 'club',\n 'nothing',\n 'punish',\n 'launch',\n 'preliminary',\n 'Algerian',\n 'subway',\n 'helped',\n 'terrorists',\n 'begun',\n 'Republic',\n 'fly',\n 'Five',\n 'involving',\n 'murders',\n 'Mohammed',\n 'broadcast',\n 'Beirut',\n '7',\n 'never',\n 'message',\n 'Mike',\n 'Admiral',\n 'needed',\n 'Brigadier',\n 'violate',\n 'accuse',\n 'Mikhail',\n 'Saakashvili',\n 'flowing',\n 'Residents',\n 'republic',\n 'limited',\n 'explosions',\n 'pipelines',\n 'delivering',\n 'completed',\n 'heavily',\n 'alternative',\n 'unit',\n 'alliance',\n 'son',\n 'hard-line',\n '1990',\n 'Embassy',\n 'additional',\n 'allowed',\n 'missions',\n 'advised',\n 'Danish',\n 'burning',\n 'East',\n 'legal',\n 'newspapers',\n 'published',\n 'equals',\n 'coal',\n 'accident',\n 'northwestern',\n 'missing',\n 'explosion',\n 'managed',\n 'trapped',\n 'safety',\n 'focus',\n 'course',\n 'secret',\n 'reduction',\n 'Also',\n 'Guardian',\n 'council',\n 'expects',\n 'Those',\n 'collapsed',\n 'Last',\n 'pursuing',\n 'dominated',\n 'attempts',\n 'pressure',\n 'Development',\n 'spent',\n 'Treasury',\n 'Timothy',\n 'announcement',\n 'D.C.',\n 're-election',\n 'replacing',\n 'officer',\n 'massacre',\n 'Srebrenica',\n 'northeastern',\n 'II',\n 'roles',\n 'villages',\n 'date',\n 'ancient',\n 'discovery',\n 'period',\n 'expert',\n 'Alston',\n 'King',\n 'fall',\n 'cooperate',\n 'turmoil',\n 'Hundreds',\n 'barrier',\n 'bombs',\n 'Nablus',\n 'al-Aqsa',\n 'Martyrs',\n 'Brigades',\n 'east',\n 'Ghormley',\n 'instability',\n 'seeking',\n 'establish',\n 'capabilities',\n 'James',\n 'tells',\n 'know',\n 'addition',\n 'rather',\n 'Guantanamo',\n 'Force',\n 'presiding',\n 'going',\n 'prisoners',\n 'U.S.-led',\n 'mainly',\n 'Popular',\n 'short',\n 'activist',\n 'Green',\n 'Zone',\n 'Special',\n 'special',\n 'Moqtada',\n 'displaced',\n 'Redmond',\n 'situation',\n 'pressing',\n 'quickly',\n 'Ibrahim',\n 'organizations',\n 'predict',\n 'nationwide',\n 'rescuers',\n 'inquiry',\n 'entered',\n 'citing',\n 'lack',\n 'extremism',\n 'hate',\n 'material',\n 'madrassas',\n 'apply',\n 'regulations',\n 'apparent',\n 'proposals',\n '60',\n 'events',\n 'core',\n 'Latvian',\n 'subsequently',\n 'independence',\n '1991',\n 'status',\n 'Following',\n 'poverty',\n 'rates',\n 'export',\n 'then',\n 'surrender',\n 'exports',\n 'fiscal',\n 'surplus',\n 'Bolivian',\n '19th',\n '',\n 'greater',\n 'democracy',\n 'these',\n 'islands',\n 'sugar',\n 'boosted',\n 'mostly',\n 'expansion',\n 'flock',\n 'Wild',\n 'shut',\n 'very',\n 'herd',\n 'usual',\n 'storm',\n 'turning',\n 'us',\n 'Physician',\n 'bedside',\n 'patient',\n 'heard',\n 'cat',\n 'mouse',\n 'once',\n 'lady',\n '?',\n 'pulling',\n 'boy',\n 'fate',\n 'uncertain',\n 'capsized',\n 'handed',\n '1200',\n 'bribes',\n 'patients',\n 'profit',\n 'paid',\n 'fees',\n 'doing',\n 'samples',\n 'crops',\n 'Norwegian',\n 'frozen',\n 'epidemic',\n 'store',\n 'right',\n 'Musab',\n 'al-Zarqawi',\n 'policeman',\n 'confirmed',\n 'helicopter',\n 'fleet',\n 'morning',\n 'indicates',\n 'examination',\n 'Reports',\n 'arrival',\n 'port',\n 'Black',\n 'exercises',\n 'planned',\n 'gathered',\n 'mosque',\n 'formally',\n 'Topol',\n 'reportedly',\n 'massive',\n 'ammunition',\n 'find',\n 'survivors',\n 'Khost',\n 'gang',\n 'Project',\n 'volunteers',\n 'Times',\n 'MS-13',\n 'Tombstone',\n 'Hispanics',\n 'aliens',\n 'loans',\n 'allocated',\n '250',\n '27',\n 'Red',\n 'demanding',\n 'obscenity',\n 'effective',\n 'pilgrims',\n 'shrine',\n \"Shi'ites\",\n 'ticket',\n 'quote',\n 'allies',\n 'Korean',\n '35',\n 'strikes',\n 'targets',\n 'River',\n 'large-scale',\n 'areas',\n 'Commissioner',\n 'donors',\n 'organized',\n 'Margaret',\n 'Haitian',\n '1.6',\n 'families',\n 'impoverished',\n 'New~York',\n 'contributions',\n 'invest',\n 'Yekhanurov',\n 'delayed',\n 'price',\n 'investments',\n 'pace',\n 'Leaders',\n 'projects',\n 'Burmese',\n 'Rangoon',\n 'Sint',\n 'floor',\n 'devastated',\n 'ocean',\n 'tsunamis',\n 'investigated',\n 'lawmaker',\n 'unnamed',\n 'lavish',\n 'tax',\n 'evasion',\n 'wrongdoing',\n 'DeLay',\n 'finance',\n 'Italy',\n 'carrying',\n 'Hamdi',\n 'Issac',\n 'chaos',\n 'threatening',\n 'desperate',\n 'Montiglio',\n 'disappearance',\n '119',\n 'This',\n 'accounts',\n 'bloc',\n 'Mercosur',\n 'Argentina',\n 'Paraguay',\n 'strong',\n 'panic',\n '33',\n 'Social',\n 'anniversary',\n 'radio',\n 'decades',\n 'Yemeni',\n 'smugglers',\n 'Farid',\n 'Insurgents',\n 'northeast',\n 'Balad',\n 'Ruz',\n 'bears',\n 'becoming',\n 'inspectors',\n '6',\n 'Rumsfeld',\n 'Polish',\n 'restive',\n 'ransom',\n 'unharmed',\n 'nonprofit',\n 'charitable',\n 'designated',\n 'parks',\n 'demonstrations',\n 'obesity',\n 'Vision',\n 'Australia',\n 'Costello',\n 'York',\n 'Rice',\n 'Iraqis',\n 'Many',\n 'meet',\n 'sailors',\n 'marines',\n 'stories',\n 'captivity',\n 'firefighters',\n 'gain',\n 'wildfire',\n 'Santa',\n 'blaze',\n 'square',\n 'sound',\n 'phone',\n 'footage',\n 'dropping',\n 'Nuristan',\n 'cellist',\n 'Internet',\n 'Google',\n 'install',\n 'solar',\n 'sun',\n 'complex',\n 'referendum',\n 'settlements',\n 'straight',\n 'Malisse',\n 'Lebanese',\n 'Hariri',\n 'Mrs.',\n 'Suu',\n 'Kyi',\n 'Nambiar',\n 'Eastern',\n 'Front',\n 'Tokar',\n \"L'Aquilla\",\n 'collapse',\n 'Barno',\n 'reunification',\n 'Berlin',\n 'Kohl',\n 'proud',\n 'wall',\n '<unk>',\n '<BOS>',\n '<EOS>']\n"
    }
   ],
   "source": [
    "index_to_word = [w for w in word_to_index.keys()]\n",
    "pprint(index_to_word[::350])\n",
    "print()\n",
    "\n",
    "index_to_tag = [tag for tag in tag_to_index.keys()]\n",
    "pprint(index_to_word)"
   ]
  },
  {
   "cell_type": "markdown",
   "metadata": {},
   "source": [
    "Creo un método que devuelve siempre un indice del vocabulario o el identificador UNK"
   ]
  },
  {
   "cell_type": "code",
   "execution_count": 12,
   "metadata": {},
   "outputs": [],
   "source": [
    "def word_safe_vocab_index(w, vocab, ix_UNK):\n",
    "    try:\n",
    "        return vocab[w]\n",
    "    except KeyError:\n",
    "        return ix_UNK"
   ]
  },
  {
   "cell_type": "markdown",
   "metadata": {},
   "source": [
    "Armo el corpus de entrenamiento"
   ]
  },
  {
   "cell_type": "code",
   "execution_count": 13,
   "metadata": {},
   "outputs": [
    {
     "output_type": "stream",
     "name": "stdout",
     "text": "(2110, 0) (904, 0) (4, 0) (905, 0) (14, 0) (906, 0) (243, 0) (244, 1) (5, 0) (298, 0) (0, 0) (127, 0) (3, 0) (53, 1) (7, 0) (1282, 0) (0, 0) (679, 0) (4, 0) (99, 2) (77, 0) (17, 0) (16, 0) (71, 0) (1, 0) (2111, 0)\n\n(2110, 0) (2109, 0) (4, 0) (177, 0) (31, 0) (3, 0) (0, 0) (680, 0) (551, 0) (0, 0) (458, 0) (59, 0) (459, 0) (2109, 0) (18, 0) (245, 0) (1283, 0) (25, 0) (28, 0) (200, 6) (2109, 0) (460, 0) (2109, 0) (28, 0) (7, 0) (28, 0) (2109, 0) (0, 0) (2109, 0) (1, 0) (28, 0) (2111, 0)\n\n(2110, 0) (134, 0) (906, 0) (17, 0) (0, 0) (2109, 0) (4, 0) (2109, 0) (5, 0) (6, 0) (1284, 0) (3, 0) (2109, 1) (2109, 8) (1, 0) (2111, 0)\n\n(2110, 0) (268, 0) (340, 0) (0, 0) (341, 0) (4, 0) (1285, 0) (22, 0) (1286, 0) (135, 0) (1287, 0) (299, 0) (32, 0) (19, 0) (2109, 0) (1, 0) (2111, 0)\n\n(2110, 0) (8, 0) (298, 0) (552, 0) (15, 0) (0, 0) (1288, 0) (4, 0) (0, 0) (387, 0) (553, 0) (4, 0) (554, 1) (9, 0) (907, 0) (461, 3) (462, 7) (3, 0) (0, 0) (128, 0) (2109, 2) (2109, 0) (2109, 0) (4, 0) (2109, 1) (1, 0) (2111, 0)\n"
    }
   ],
   "source": [
    "ix_UNK = word_to_index[UNK]\n",
    "ix_BOS = word_to_index[BOS]\n",
    "ix_EOS = word_to_index[EOS]\n",
    "\n",
    "BOS_append = [(ix_BOS, tag_to_index[''])] # BOS y su etiqueta\n",
    "EOS_append = [(ix_EOS, tag_to_index[''])] # EOS y su etiqueta\n",
    "\n",
    "corpus = [\n",
    "    BOS_append + [ # Agrego BOS y su etiqueta\n",
    "        # Tupla con el valor del índice de la palabra y el índice de la etiqueta\n",
    "        (\n",
    "            word_safe_vocab_index(w, word_to_index, ix_UNK),\n",
    "            tag_to_index[tag]\n",
    "        ) # Fin tupla\n",
    "        for w, tag in sent # Para cada palabra en la sentencia\n",
    "    ] + EOS_append # Fin append\n",
    "    for sent in sentences # Por cada sentencia en la lista de sentencias\n",
    "]\n",
    "# pprint(corpus[:5])\n",
    "print('\\n\\n'.join([' '.join([f'({ix_w}, {ix_tag})' for ix_w, ix_tag in sent]) for sent in corpus[:5] ]))"
   ]
  },
  {
   "cell_type": "markdown",
   "metadata": {},
   "source": [
    "### Paso 3. Separar corpus de entrenamiento y evaluacion"
   ]
  },
  {
   "cell_type": "code",
   "execution_count": 14,
   "metadata": {},
   "outputs": [
    {
     "output_type": "stream",
     "name": "stdout",
     "text": "Ejemlos del corpus de entrenamiento\n[(2110, 0), (123, 0), (13, 0), (0, 0), (692, 0), (341, 0), (4, 0), (178, 0), (1599, 0), (636, 0), (1211, 0), (11, 0), (326, 0), (480, 0), (5, 0), (2109, 0), (129, 0), (2, 0), (171, 0), (1670, 0), (1, 0), (2111, 0)]\n[(2110, 0), (8, 0), (487, 0), (19, 0), (1776, 0), (27, 0), (0, 0), (131, 0), (668, 0), (3, 0), (2109, 1), (2, 0), (7, 0), (0, 0), (2109, 0), (4, 0), (50, 6), (667, 4), (2, 0), (6, 0), (2109, 0), (4, 0), (2109, 2), (49, 6), (2109, 4), (2109, 4), (2, 0), (19, 0), (13, 0), (5, 0), (565, 0), (1777, 0), (5, 0), (340, 0), (46, 0), (1778, 0), (15, 0), (2109, 2), (1, 0), (2111, 0)]\n[(2110, 0), (443, 0), (51, 0), (56, 0), (2, 0), (606, 2), (144, 6), (93, 4), (2109, 4), (2109, 4), (543, 0), (24, 0), (254, 3), (2109, 0), (11, 0), (331, 0), (538, 0), (82, 0), (4, 0), (224, 2), (9, 0), (175, 0), (2, 0), (348, 1), (1, 0), (2111, 0)]\n[(2110, 0), (1507, 0), (609, 0), (39, 0), (2109, 0), (199, 0), (46, 0), (633, 0), (7, 0), (52, 0), (1467, 0), (5, 0), (2109, 0), (22, 0), (229, 0), (2109, 0), (0, 0), (95, 0), (26, 0), (162, 0), (494, 0), (1, 0), (2111, 0)]\n[(2110, 0), (851, 1), (21, 8), (2109, 0), (861, 0), (26, 0), (22, 0), (624, 0), (25, 0), (2109, 0), (16, 0), (2109, 0), (301, 0), (4, 0), (40, 0), (4, 0), (0, 0), (198, 0), (4, 0), (457, 1), (9, 0), (473, 0), (464, 0), (26, 0), (326, 0), (1729, 0), (2109, 0), (1, 0), (2111, 0)]\n\nEjemlos del corpus de evaluacion\n[(2110, 0), (2109, 0), (60, 5), (20, 0), (0, 0), (241, 0), (29, 0), (647, 0), (3, 0), (284, 0), (273, 0), (1325, 0), (4, 0), (75, 1), (3, 0), (1205, 1), (180, 0), (2, 0), (7, 0), (3, 0), (0, 0), (861, 0), (4, 0), (2109, 1), (7, 0), (2109, 1), (1, 0), (2111, 0)]\n[(2110, 0), (261, 0), (43, 0), (89, 0), (737, 0), (449, 0), (220, 0), (17, 0), (0, 0), (80, 1), (189, 8), (7, 0), (0, 0), (534, 0), (1983, 2), (1150, 0), (3, 0), (2109, 1), (2, 0), (2109, 1), (2, 0), (7, 0), (1987, 1), (1, 0), (2111, 0)]\n[(2110, 0), (134, 0), (1097, 0), (0, 0), (2109, 0), (817, 0), (10, 0), (2109, 0), (2109, 0), (2, 0), (135, 0), (118, 0), (1989, 0), (32, 0), (3, 0), (402, 0), (589, 0), (7, 0), (1212, 0), (10, 0), (45, 0), (287, 0), (1, 0), (2111, 0)]\n[(2110, 0), (2109, 0), (111, 0), (17, 0), (1248, 1), (20, 0), (0, 0), (905, 0), (2109, 0), (28, 0), (379, 3), (82, 0), (28, 0), (7, 0), (28, 0), (2109, 0), (566, 0), (173, 0), (28, 0), (74, 0), (45, 0), (298, 0), (60, 5), (1, 0), (2111, 0)]\n[(2110, 0), (8, 0), (234, 0), (419, 0), (17, 0), (6, 0), (1756, 0), (1169, 0), (1757, 0), (3, 0), (1758, 0), (126, 1), (827, 0), (5, 0), (1423, 0), (60, 5), (34, 0), (2109, 0), (2109, 0), (0, 0), (728, 0), (4, 0), (0, 0), (66, 0), (1759, 0), (2109, 0), (1, 0), (2111, 0)]\n"
    }
   ],
   "source": [
    "train_corpus, eval_corpus = train_test_split(corpus, test_size=0.3, random_state=SEED)\n",
    "print(\"Ejemlos del corpus de entrenamiento\")\n",
    "for sent in train_corpus[:5]:\n",
    "    print(sent)\n",
    "print()\n",
    "print(\"Ejemlos del corpus de evaluacion\")\n",
    "for sent in eval_corpus[:5]:\n",
    "    print(sent)"
   ]
  },
  {
   "cell_type": "markdown",
   "metadata": {},
   "source": [
    "### Paso 4. Selección de modelo y entrenamiento\n",
    "\n",
    "Usaré un modelo de red neuronal recurrente con una capa de embedding, una capa oculta de recurrencia, y una capa de salida.\n",
    "\n",
    "La capa de embedding se define como:\n",
    "\n",
    "$$ x = Cs $$\n",
    "\n",
    "$C$ es una matriz de dimensión $d\\times N_{in}$ y $s$ es la representación one hot de la palabra en la secuencia.\n",
    "\n",
    "La capa oculta recurrente:\n",
    "\n",
    "$$ h^{(t)} = \\tanh{(Vh^{(t-1)}+Ux^{(t)}+b)} $$\n",
    "\n",
    "$V$ es una matriz de dimensión $m\\times m$, $U$ una matriz de dimensión $d\\times m $ y $b$ es el vector de bias, de dimensión $m$.\n",
    "\n",
    "Y la capa de salida:\n",
    "\n",
    "$$ y^{(t)} = Softmax(Wh^{(t-1)}+c) $$\n",
    "\n",
    "En donde $W$ es una matriz de dimensión $N_{out} \\times m$\n",
    "\n",
    "Los valores de $d$ y $m$ son hiperparámetros\n"
   ]
  },
  {
   "cell_type": "code",
   "execution_count": 15,
   "metadata": {},
   "outputs": [],
   "source": [
    "class Modelo(object):\n",
    "    def __init__(self, d, m, N_in, N_out):\n",
    "        self.d = d # DImensión de capa de embedding\n",
    "        self.m = m # Dimensión de capa oculta\n",
    "        self.N_in = N_in # Dimensión de entrada\n",
    "        self.N_out = N_out # Dimensión de salida\n",
    "\n",
    "    def inicializar_pesos(self):\n",
    "        # Capa de embedding\n",
    "        self.C = np.random.randn(self.d, self.N_in) / np.sqrt(self.N_in)\n",
    "                \n",
    "        # Capa recurrente oculta\n",
    "        self.V = np.random.randn(self.m, self.m) / np.sqrt(self.m)\n",
    "        self.U = np.random.randn(self.m, self.d) / np.sqrt(self.d)\n",
    "        self.b = np.zeros(self.m)\n",
    "\n",
    "        # Capa de salida\n",
    "        self.W = np.random.randn(self.N_out, self.m) / np.sqrt(self.m) \n",
    "        self.c = np.zeros(self.N_out)\n",
    "        \n",
    "        # Los mejores pesos del modelo\n",
    "        self.best_C = self.C        \n",
    "        self.best_V = self.W\n",
    "        self.best_U = self.U\n",
    "        self.best_b = self.b        \n",
    "        self.best_W = self.W\n",
    "        self.best_c = self.c\n",
    "    \n",
    "    def forward(self, secuencia):\n",
    "        \"\"\"Paso hacia adelante de la red. \n",
    "        Recibe como argumento una secuencia de entrada de n elementos, estos elementos\n",
    "        deben ser indices del vocabulario de entrada.\n",
    "        Da como salida $n$ vectores $h$, y $n$ vectores $y$\n",
    "        \"\"\"\n",
    "        # Tamaño de la secuencia de entrada\n",
    "        T = len(secuencia)\n",
    "\n",
    "        # Prealojamiento de salidas por estado de capas oculta y de salida.\n",
    "        h = np.zeros((T+1, self.m)) # Uso un estado adicional para t = -1\n",
    "        y = np.zeros((T, self.N_out))\n",
    "\n",
    "        # Se inicia el vector h[-1] con ceros\n",
    "        h[-1] = np.zeros(self.m)\n",
    "\n",
    "        # Propagación hacia adelante de la secuenca de entrada\n",
    "        for t in range(T):\n",
    "            # Un paso en la capa embedding se reduce a C[:, s]\n",
    "            x_t = self.C[:, secuencia[t]]\n",
    "\n",
    "            # Capa oculta recurrente\n",
    "            Vh = np.dot(self.V, h[t-1])\n",
    "            Ux = np.dot(self.U, x_t)\n",
    "            h[t] = np.tanh(Vh + Ux + self.b) # Salida de capa oculta\n",
    "\n",
    "            # Capa de salida\n",
    "            a = self.W.dot(h[t]) + self.c # Preactivación\n",
    "            exp_a = np.exp(a - a.max()) # Exponencial de la preactivación\n",
    "            y[t] = exp_a/exp_a.sum() # Salida Softmax\n",
    "        \n",
    "        return y, h\n",
    "    \n",
    "    def predecir(self, secuencia):\n",
    "        y, h = self.forward(secuencia)\n",
    "        return np.argmax(y, axis=1)\n",
    "\n",
    "    def backprop(self, i_x, i_y, prob_salida, h_i, lr=0.1):\n",
    "        y_pred = np.argmax(prob_salida) # El índice de la palabra que predijo\n",
    "        \n",
    "        # Backprop\n",
    "        # Copio el arreglo para no modificar pesos de la salida original\n",
    "        d_out = np.array(prob_salida, copy=True) \n",
    "        d_out[i_y] -= 1  # p(w_k | w_i) - y_k\n",
    "        d_h = (1-h_i**2)*np.dot(d_out.T, self.U)\n",
    "        d_c = np.dot(d_h.T, self.W)\n",
    "\n",
    "        # Actualizamos los pesos\n",
    "        self.U -= lr*np.outer(d_out, h_i) \n",
    "        self.c -= lr*d_out\n",
    "        self.W -= lr*np.outer(d_h, self.C[:,i_x]) \n",
    "        self.b -= lr*d_h\n",
    "        self.C[:, i_x] -= lr*d_c # Las demás filas no nos interesan, porque son 0\n",
    "    \n",
    "    def entrenar(self, epochs=50, lr=[]):\n",
    "        entr_timeline = [] # Entropía a través de las épocas\n",
    "        min_entr = np.inf\n",
    "        for epoch in nbtqdm(range(epochs)):\n",
    "            np.random.shuffle(bigramas)\n",
    "            cross_entropy = 0\n",
    "            for bigrama in self.bigramas:\n",
    "                i_x = bigrama[0] # El índice de la primer palabra del bigrama\n",
    "                i_y = bigrama[1] # El índice de la segunda palabra del bigrama\n",
    "                # print(f'  Bigrama: {inv_vocab[i_x]} {inv_vocab[i_y]}')\n",
    "                prob_salida, h_i = self.forward(i_x)\n",
    "                # print(f'  Predicción: {inv_vocab[i_x]} {inv_vocab[np.argmax(prob_salida)]}')\n",
    "                self.backprop(i_x, i_y, prob_salida, h_i, lr[epoch])\n",
    "                cross_entropy -= np.log(prob_salida[i_y])\n",
    "                        \n",
    "            # Si la entropua actual es mejor que la menor...\n",
    "            if cross_entropy < min_entr:\n",
    "                min_entr = cross_entropy  # ponemos la actual\n",
    "                # y movemos los mejores pesos\n",
    "                self.best_C = self.C\n",
    "                self.best_W = self.W\n",
    "                self.best_b = self.b\n",
    "                self.best_U = self.U\n",
    "                self.best_c = self.c\n",
    "                \n",
    "            entr_timeline.append(cross_entropy)    \n",
    "            tqdm.write(f'Epoch: {epoch+1} \\tEntropía cruzada: {cross_entropy}')\n",
    "        return entr_timeline\n",
    "    \n",
    "    def cargar_mejores_pesos(self):\n",
    "        self.C = self.best_C\n",
    "        self.W = self.best_W\n",
    "        self.b = self.best_b\n",
    "        self.U = self.best_U\n",
    "        self.c = self.best_c\n",
    "    \n",
    "    def guardar_pesos(self, archivo):\n",
    "        \"\"\"Guarda los pesos del modelo en formato .npz\n",
    "        \"\"\"\n",
    "        try:\n",
    "            np.savez(\n",
    "                archivo, \n",
    "                C = self.C, \n",
    "                W = self.W, \n",
    "                b = self.b, \n",
    "                U = self.U, \n",
    "                c = self.c\n",
    "            )\n",
    "            print(f'Archivo {archivo} guardado satisfactoriamente')\n",
    "            return True\n",
    "        except Exception as e:\n",
    "            print('Ocurrió un error al guardar el archivo')\n",
    "            print(e)\n",
    "            return False\n",
    "    \n",
    "    def cargar_pesos(self, archivo):\n",
    "        \"\"\"Carga los pesos del modelo guardados en un archivo formato .npz\n",
    "        \"\"\"\n",
    "        try:\n",
    "            pesos = np.load(archivo)\n",
    "            self.C = pesos['C']\n",
    "            self.W = pesos['W']\n",
    "            self.b = pesos['b']\n",
    "            self.U = pesos['U']\n",
    "            self.c = pesos['c']\n",
    "            print(f'Pesos desde {archivo} cargados correctamente')\n",
    "            return True\n",
    "        except Exception as e:\n",
    "            print('Ocurrió un error al guardar el archivo')\n",
    "            print(e)\n",
    "            return False\n",
    "        "
   ]
  },
  {
   "cell_type": "code",
   "execution_count": 16,
   "metadata": {},
   "outputs": [],
   "source": [
    "dim_in = len(index_to_word)\n",
    "dim_out = len(tag_to_index)\n",
    "\n",
    "dim_m = 5\n",
    "dim_d = 10"
   ]
  },
  {
   "cell_type": "code",
   "execution_count": 17,
   "metadata": {},
   "outputs": [],
   "source": [
    "modelo = Modelo(d = dim_d, m=dim_m, N_in = dim_in, N_out = dim_out)\n",
    "modelo.inicializar_pesos()"
   ]
  },
  {
   "cell_type": "code",
   "execution_count": 18,
   "metadata": {},
   "outputs": [],
   "source": [
    "# sentence = [w for w, tag in train_corpus[0]]\n",
    "# y, h = modelo.forward(sentence)"
   ]
  },
  {
   "cell_type": "code",
   "execution_count": 19,
   "metadata": {},
   "outputs": [
    {
     "output_type": "stream",
     "name": "stdout",
     "text": "<BOS> Officials said the total number of workers receiving unemployment benefits is now close to <unk> million , another record . <EOS>\nI-per I-gpe I-gpe B-ge B-tim I-eve  I-gpe I-gpe I-per B-gpe B-gpe B-rg B-rg B-art B-ge B-gpe I-eve B-rg B-rg B-art B-ge\n\n<BOS> The summit was dominated by the political crisis in <unk> , and the <unk> of Mr. Mwanawasa , a <unk> of <unk> President <unk> <unk> , was said to hurt attempts to put more pressure on <unk> . <EOS>\nI-per B-ge I-gpe B-gpe I-ge B-rg B-rg B-ge B-gpe I-ge B-rg B-rg B-rg B-ge B-gpe I-ge B-rg B-rg B-rg B-ge B-gpe I-ge B-rg B-rg B-ge B-gpe I-eve B-rg B-rg B-ge B-gpe B-gpe I-ge B-rg B-rg B-ge B-gpe I-ge B-rg B-rg\n\n<BOS> Earlier this year , Ethiopian Prime Minister <unk> <unk> warned an al-Qaida <unk> is already operating out of Somalia 's capital , Mogadishu . <EOS>\nI-per B-rg B-rg B-rg B-rg B-ge B-ge I-eve I-ge B-rg B-rg B-ge B-ge B-gpe I-ge B-rg B-rg B-ge B-ge B-gpe  B-rg B-rg B-ge B-ge B-tim\n\n<BOS> She did not <unk> any more details and also declined to <unk> at what <unk> the talks are being held . <EOS>\nI-per B-eve B-rg B-ge B-ge I-eve I-eve B-per B-rg B-rg B-ge B-tim B-gpe B-rg B-rg B-rg B-ge B-gpe I-ge B-rg B-rg B-ge B-ge\n\n<BOS> Central U.S. <unk> towns are at risk as <unk> that <unk> parts of two of the state of Iowa 's largest cities are now flowing <unk> . <EOS>\nI-per I-per B-gpe I-ge B-rg B-rg B-ge B-ge I-per B-rg B-rg B-rg B-rg B-rg B-ge  B-ge I-gpe  I-gpe  B-rg B-rg  B-rg B-art B-rg B-rg B-rg\n\n"
    }
   ],
   "source": [
    "for y_i in train_corpus[:5]:\n",
    "    sentence = [w for w, tag in y_i]\n",
    "    print(' '.join([ index_to_word[w] for w in sentence ]))\n",
    "    pred = modelo.predecir(sentence)\n",
    "    print(' '.join([ index_to_tag[tag] for tag in pred ]) )\n",
    "    print()"
   ]
  },
  {
   "cell_type": "markdown",
   "metadata": {},
   "source": [
    "\n",
    "5. Evaluar el desempeño del sistema a partir del corpus de evaluación y con la métrica de Exactitud (Accuracy).\n",
    "6. Ejemplificar el reconocimiento de entidades nombradas con 5 sentencias del corpus de evaluación."
   ]
  }
 ],
 "metadata": {
  "language_info": {
   "codemirror_mode": {
    "name": "ipython",
    "version": 3
   },
   "file_extension": ".py",
   "mimetype": "text/x-python",
   "name": "python",
   "nbconvert_exporter": "python",
   "pygments_lexer": "ipython3",
   "version": "3.7.4-final"
  },
  "orig_nbformat": 2,
  "kernelspec": {
   "name": "python3",
   "display_name": "Python 3"
  }
 },
 "nbformat": 4,
 "nbformat_minor": 2
}