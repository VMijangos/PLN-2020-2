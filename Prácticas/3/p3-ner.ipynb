{
 "cells": [
  {
   "cell_type": "markdown",
   "metadata": {},
   "source": [
    "# Práctica 3. Reconocimiento de Entidades Nombradas. NER\n",
    "\n",
    "Andrés González Flores\n",
    "\n",
    "Procesamiento de Lenguaje Natural\n",
    "\n",
    "Facultad de Ingeniería, UNAM\n",
    "\n",
    "## Objetivo\n",
    "\n",
    "Realizar un reconocimiento de Entidades Nombradas (NER) a partir de un modelo secuencial y con el corpus ‘ner dataset.csv’ que se proporciona.\n",
    "\n",
    "## Instrucciones\n",
    "\n",
    "Se deberán seguir los siguientes pasos:\n",
    "\n",
    "1. Obtener las sentencias a partir del csv. En este archivo, se indica cada inicio de sentencia con ‘Sentence: n’. Se cuenta con 1000 sentencias que conformarán el corpus de entrenamiento y evaluación.\n",
    "2. Preprocesar los datos.\n",
    "3. Separar los datos en corpus de entrenamiento (70%) y corpus de evaluación (30%).\n",
    "4. Entrenar un modelo secuencial a partir del corpus de entrenamiento. Deberán definirse los hiperparámetros.\n",
    "5. Evaluar el desempeño del sistema a partir del corpus de evaluación y con la métrica de Exactitud (Accuracy).\n",
    "6. Ejemplificar el reconocimiento de entidades nombradas con 5 sentencias del corpus de evaluación."
   ]
  },
  {
   "cell_type": "markdown",
   "metadata": {},
   "source": [
    "## Dessarrollo"
   ]
  },
  {
   "cell_type": "code",
   "execution_count": 1,
   "metadata": {},
   "outputs": [],
   "source": [
    "import csv\n",
    "import numpy as np\n",
    "from collections import Counter, defaultdict\n",
    "from sklearn.model_selection import train_test_split\n",
    "import matplotlib.pyplot as plt\n",
    "from itertools import chain\n",
    "from tqdm.notebook import tqdm as nbtqdm\n",
    "from pprint import pprint"
   ]
  },
  {
   "cell_type": "code",
   "execution_count": 2,
   "metadata": {},
   "outputs": [],
   "source": [
    "# Definición de constantes\n",
    "SEED = 42\n",
    "CORPUS_PATH = './ner_dataset.csv'\n",
    "BOS = '<BOS>'\n",
    "EOS = '<EOS>'\n",
    "UNK = '<unk>'\n",
    "\n",
    "np.random.seed(SEED)"
   ]
  },
  {
   "cell_type": "markdown",
   "metadata": {},
   "source": [
    "### Paso 1. Obtener sentencias.\n"
   ]
  },
  {
   "cell_type": "code",
   "execution_count": 3,
   "metadata": {},
   "outputs": [],
   "source": [
    "with open(CORPUS_PATH, 'r', encoding='utf-8') as f:\n",
    "    reader = csv.reader(f)\n",
    "    csvlist = list(reader)"
   ]
  },
  {
   "cell_type": "code",
   "execution_count": 4,
   "metadata": {},
   "outputs": [],
   "source": [
    "sentences = []\n",
    "sent_i = []\n",
    "for row in csvlist[1:]:\n",
    "    if row[0] is not '':\n",
    "        sentences.append(sent_i)\n",
    "        sent_i = []\n",
    "    sent_i.append((row[1], row[2]))\n",
    "# Mi algoritmo está feo: agrega la primer sentencia vacía y no agrega la última\n",
    "del sentences[0]\n",
    "sentences.append(sent_i)"
   ]
  },
  {
   "cell_type": "code",
   "execution_count": 5,
   "metadata": {},
   "outputs": [
    {
     "output_type": "stream",
     "name": "stdout",
     "text": "Número de oraciones = 1000\n\nEjemplos:\nThousands of demonstrators have marched through London to protest the war in Iraq and demand the withdrawal of British troops from that country .\nFamilies of soldiers killed in the conflict joined the protesters who carried banners with such slogans as \" Bush Number One Terrorist \" and \" Stop the Bombings . \"\nThey marched from the Houses of Parliament to a rally in Hyde Park .\nPolice put the number of marchers at 10000 while organizers claimed it was 1,00,000 .\nThe protest comes on the eve of the annual conference of Britain 's ruling Labor Party in the southern English seaside resort of Brighton .\n"
    }
   ],
   "source": [
    "print(f'Número de oraciones = {len(sentences)}\\n')\n",
    "print('Ejemplos:')\n",
    "print('\\n'.join([' '.join([w for w, tag in sent]) for sent in sentences[:5] ]))"
   ]
  },
  {
   "cell_type": "markdown",
   "metadata": {},
   "source": [
    "### Paso 2. Preprocesamiento"
   ]
  },
  {
   "cell_type": "code",
   "execution_count": 6,
   "metadata": {},
   "outputs": [
    {
     "output_type": "execute_result",
     "data": {
      "text/plain": "[('the', 1111),\n ('.', 995),\n (',', 637),\n ('in', 576),\n ('of', 568),\n ('to', 505),\n ('a', 449),\n ('and', 391),\n ('The', 241),\n (\"'s\", 202)]"
     },
     "metadata": {},
     "execution_count": 6
    }
   ],
   "source": [
    "freq_tokens = Counter([w for w,_ in chain(*sentences)])\n",
    "freq_tokens.most_common(10)"
   ]
  },
  {
   "cell_type": "markdown",
   "metadata": {},
   "source": [
    "Agrego el diccionario de entrada"
   ]
  },
  {
   "cell_type": "code",
   "execution_count": 7,
   "metadata": {},
   "outputs": [
    {
     "output_type": "stream",
     "name": "stdout",
     "text": "[('the', 0),\n ('.', 1),\n (',', 2),\n ('in', 3),\n ('of', 4),\n ('to', 5),\n ('a', 6),\n ('and', 7),\n ('The', 8),\n (\"'s\", 9)]\n"
    }
   ],
   "source": [
    "word_to_index = { \n",
    "    x[0] : i for i, x in enumerate(freq_tokens.most_common())\n",
    "    if freq_tokens[x[0]] > 1\n",
    "}\n",
    "\n",
    "pprint(list(word_to_index.items())[:10])"
   ]
  },
  {
   "cell_type": "markdown",
   "metadata": {},
   "source": [
    "Agrego los identificadores UNK, BOS Y EOS al vocabulario de entrada"
   ]
  },
  {
   "cell_type": "code",
   "execution_count": 8,
   "metadata": {},
   "outputs": [
    {
     "output_type": "stream",
     "name": "stdout",
     "text": "[('collapse', 2102),\n ('Barno', 2103),\n ('reunification', 2104),\n ('Berlin', 2105),\n ('Kohl', 2106),\n ('proud', 2107),\n ('wall', 2108),\n ('<unk>', 2109),\n ('<BOS>', 2110),\n ('<EOS>', 2111)]\n"
    }
   ],
   "source": [
    "word_to_index[UNK] = max(word_to_index.values())+1\n",
    "word_to_index[BOS] = word_to_index[UNK]+1\n",
    "word_to_index[EOS] = word_to_index[BOS]+1\n",
    "\n",
    "pprint(list(word_to_index.items())[-10:])"
   ]
  },
  {
   "cell_type": "markdown",
   "metadata": {},
   "source": [
    "Agrego el vocabulario de salida (las etiquetas)"
   ]
  },
  {
   "cell_type": "code",
   "execution_count": 9,
   "metadata": {},
   "outputs": [
    {
     "output_type": "execute_result",
     "data": {
      "text/plain": "[('', 18843),\n ('B-ge', 583),\n ('B-gpe', 543),\n ('B-rg', 413),\n ('I-per', 400),\n ('B-tim', 358),\n ('B-per', 327),\n ('I-rg', 290),\n ('I-ge', 105),\n ('I-tim', 77),\n ('B-art', 39),\n ('I-gpe', 26),\n ('I-art', 22),\n ('B-eve', 20),\n ('I-eve', 16),\n ('B-nat', 9),\n ('I-nat', 5)]"
     },
     "metadata": {},
     "execution_count": 9
    }
   ],
   "source": [
    "freq_tags = Counter([tag for _,tag in chain(*sentences)])\n",
    "freq_tags.most_common()"
   ]
  },
  {
   "cell_type": "code",
   "execution_count": 10,
   "metadata": {},
   "outputs": [
    {
     "output_type": "stream",
     "name": "stdout",
     "text": "{'': 0,\n 'B-art': 10,\n 'B-eve': 13,\n 'B-ge': 1,\n 'B-gpe': 2,\n 'B-nat': 15,\n 'B-per': 6,\n 'B-rg': 3,\n 'B-tim': 5,\n 'I-art': 12,\n 'I-eve': 14,\n 'I-ge': 8,\n 'I-gpe': 11,\n 'I-nat': 16,\n 'I-per': 4,\n 'I-rg': 7,\n 'I-tim': 9}\n"
    }
   ],
   "source": [
    "tag_to_index = {\n",
    "    y[0] : i for i, y in enumerate(freq_tags.most_common())\n",
    "}\n",
    "pprint(tag_to_index)"
   ]
  },
  {
   "cell_type": "markdown",
   "metadata": {},
   "source": [
    "Creo los vocabularios inversos"
   ]
  },
  {
   "cell_type": "code",
   "execution_count": 14,
   "metadata": {},
   "outputs": [
    {
     "output_type": "stream",
     "name": "stdout",
     "text": "Tamaño del vocabulario: 2112\nEjemplos de palabras:\nthe, parliament, measure, claim, flown, burning, Tokar\n\nVocabulario de etiquetas:\n(', B-ge, B-gpe, B-rg, I-per, B-tim, B-per, I-rg, I-ge, I-tim, B-art, I-gpe, '\n 'I-art, B-eve, I-eve, B-nat, I-nat')\n"
    }
   ],
   "source": [
    "index_to_word = [w for w in word_to_index.keys()]\n",
    "print(f'Tamaño del vocabulario: {len(index_to_word)}')\n",
    "print('Ejemplos de palabras:')\n",
    "print(', '.join(index_to_word[::350]))\n",
    "print()\n",
    "\n",
    "index_to_tag = [tag for tag in tag_to_index.keys()]\n",
    "print('Vocabulario de etiquetas:')\n",
    "pprint(', '.join(index_to_tag))"
   ]
  },
  {
   "cell_type": "markdown",
   "metadata": {},
   "source": [
    "Creo un método que devuelve siempre un indice del vocabulario o el identificador UNK"
   ]
  },
  {
   "cell_type": "code",
   "execution_count": 15,
   "metadata": {},
   "outputs": [],
   "source": [
    "def word_safe_vocab_index(w, vocab, ix_UNK):\n",
    "    try:\n",
    "        return vocab[w]\n",
    "    except KeyError:\n",
    "        return ix_UNK"
   ]
  },
  {
   "cell_type": "markdown",
   "metadata": {},
   "source": [
    "Armo el corpus de entrenamiento"
   ]
  },
  {
   "cell_type": "code",
   "execution_count": 16,
   "metadata": {},
   "outputs": [
    {
     "output_type": "stream",
     "name": "stdout",
     "text": "(2110, 0) (904, 0) (4, 0) (905, 0) (14, 0) (906, 0) (243, 0) (244, 1) (5, 0) (298, 0) (0, 0) (127, 0) (3, 0) (53, 1) (7, 0) (1282, 0) (0, 0) (679, 0) (4, 0) (99, 2) (77, 0) (17, 0) (16, 0) (71, 0) (1, 0) (2111, 0)\n\n(2110, 0) (2109, 0) (4, 0) (177, 0) (31, 0) (3, 0) (0, 0) (680, 0) (551, 0) (0, 0) (458, 0) (59, 0) (459, 0) (2109, 0) (18, 0) (245, 0) (1283, 0) (25, 0) (28, 0) (200, 6) (2109, 0) (460, 0) (2109, 0) (28, 0) (7, 0) (28, 0) (2109, 0) (0, 0) (2109, 0) (1, 0) (28, 0) (2111, 0)\n\n(2110, 0) (134, 0) (906, 0) (17, 0) (0, 0) (2109, 0) (4, 0) (2109, 0) (5, 0) (6, 0) (1284, 0) (3, 0) (2109, 1) (2109, 8) (1, 0) (2111, 0)\n\n(2110, 0) (268, 0) (340, 0) (0, 0) (341, 0) (4, 0) (1285, 0) (22, 0) (1286, 0) (135, 0) (1287, 0) (299, 0) (32, 0) (19, 0) (2109, 0) (1, 0) (2111, 0)\n\n(2110, 0) (8, 0) (298, 0) (552, 0) (15, 0) (0, 0) (1288, 0) (4, 0) (0, 0) (387, 0) (553, 0) (4, 0) (554, 1) (9, 0) (907, 0) (461, 3) (462, 7) (3, 0) (0, 0) (128, 0) (2109, 2) (2109, 0) (2109, 0) (4, 0) (2109, 1) (1, 0) (2111, 0)\n"
    }
   ],
   "source": [
    "ix_UNK = word_to_index[UNK]\n",
    "ix_BOS = word_to_index[BOS]\n",
    "ix_EOS = word_to_index[EOS]\n",
    "\n",
    "BOS_append = [(ix_BOS, tag_to_index[''])] # BOS y su etiqueta\n",
    "EOS_append = [(ix_EOS, tag_to_index[''])] # EOS y su etiqueta\n",
    "\n",
    "corpus = [\n",
    "    BOS_append + [ # Agrego BOS y su etiqueta\n",
    "        # Tupla con el valor del índice de la palabra y el índice de la etiqueta\n",
    "        (\n",
    "            word_safe_vocab_index(w, word_to_index, ix_UNK),\n",
    "            tag_to_index[tag]\n",
    "        ) # Fin tupla\n",
    "        for w, tag in sent # Para cada palabra en la sentencia\n",
    "    ] + EOS_append # Fin append\n",
    "    for sent in sentences # Por cada sentencia en la lista de sentencias\n",
    "]\n",
    "# pprint(corpus[:5])\n",
    "print('\\n\\n'.join([' '.join([f'({ix_w}, {ix_tag})' for ix_w, ix_tag in sent]) for sent in corpus[:5] ]))"
   ]
  },
  {
   "cell_type": "markdown",
   "metadata": {},
   "source": [
    "### Paso 3. Separar corpus de entrenamiento y evaluacion"
   ]
  },
  {
   "cell_type": "code",
   "execution_count": 17,
   "metadata": {},
   "outputs": [
    {
     "output_type": "stream",
     "name": "stdout",
     "text": "Ejemlos del corpus de entrenamiento\n[(2110, 0), (123, 0), (13, 0), (0, 0), (692, 0), (341, 0), (4, 0), (178, 0), (1599, 0), (636, 0), (1211, 0), (11, 0), (326, 0), (480, 0), (5, 0), (2109, 0), (129, 0), (2, 0), (171, 0), (1670, 0), (1, 0), (2111, 0)]\n[(2110, 0), (8, 0), (487, 0), (19, 0), (1776, 0), (27, 0), (0, 0), (131, 0), (668, 0), (3, 0), (2109, 1), (2, 0), (7, 0), (0, 0), (2109, 0), (4, 0), (50, 6), (667, 4), (2, 0), (6, 0), (2109, 0), (4, 0), (2109, 2), (49, 6), (2109, 4), (2109, 4), (2, 0), (19, 0), (13, 0), (5, 0), (565, 0), (1777, 0), (5, 0), (340, 0), (46, 0), (1778, 0), (15, 0), (2109, 2), (1, 0), (2111, 0)]\n[(2110, 0), (443, 0), (51, 0), (56, 0), (2, 0), (606, 2), (144, 6), (93, 4), (2109, 4), (2109, 4), (543, 0), (24, 0), (254, 3), (2109, 0), (11, 0), (331, 0), (538, 0), (82, 0), (4, 0), (224, 2), (9, 0), (175, 0), (2, 0), (348, 1), (1, 0), (2111, 0)]\n[(2110, 0), (1507, 0), (609, 0), (39, 0), (2109, 0), (199, 0), (46, 0), (633, 0), (7, 0), (52, 0), (1467, 0), (5, 0), (2109, 0), (22, 0), (229, 0), (2109, 0), (0, 0), (95, 0), (26, 0), (162, 0), (494, 0), (1, 0), (2111, 0)]\n[(2110, 0), (851, 1), (21, 8), (2109, 0), (861, 0), (26, 0), (22, 0), (624, 0), (25, 0), (2109, 0), (16, 0), (2109, 0), (301, 0), (4, 0), (40, 0), (4, 0), (0, 0), (198, 0), (4, 0), (457, 1), (9, 0), (473, 0), (464, 0), (26, 0), (326, 0), (1729, 0), (2109, 0), (1, 0), (2111, 0)]\n\nEjemlos del corpus de evaluacion\n[(2110, 0), (2109, 0), (60, 5), (20, 0), (0, 0), (241, 0), (29, 0), (647, 0), (3, 0), (284, 0), (273, 0), (1325, 0), (4, 0), (75, 1), (3, 0), (1205, 1), (180, 0), (2, 0), (7, 0), (3, 0), (0, 0), (861, 0), (4, 0), (2109, 1), (7, 0), (2109, 1), (1, 0), (2111, 0)]\n[(2110, 0), (261, 0), (43, 0), (89, 0), (737, 0), (449, 0), (220, 0), (17, 0), (0, 0), (80, 1), (189, 8), (7, 0), (0, 0), (534, 0), (1983, 2), (1150, 0), (3, 0), (2109, 1), (2, 0), (2109, 1), (2, 0), (7, 0), (1987, 1), (1, 0), (2111, 0)]\n[(2110, 0), (134, 0), (1097, 0), (0, 0), (2109, 0), (817, 0), (10, 0), (2109, 0), (2109, 0), (2, 0), (135, 0), (118, 0), (1989, 0), (32, 0), (3, 0), (402, 0), (589, 0), (7, 0), (1212, 0), (10, 0), (45, 0), (287, 0), (1, 0), (2111, 0)]\n[(2110, 0), (2109, 0), (111, 0), (17, 0), (1248, 1), (20, 0), (0, 0), (905, 0), (2109, 0), (28, 0), (379, 3), (82, 0), (28, 0), (7, 0), (28, 0), (2109, 0), (566, 0), (173, 0), (28, 0), (74, 0), (45, 0), (298, 0), (60, 5), (1, 0), (2111, 0)]\n[(2110, 0), (8, 0), (234, 0), (419, 0), (17, 0), (6, 0), (1756, 0), (1169, 0), (1757, 0), (3, 0), (1758, 0), (126, 1), (827, 0), (5, 0), (1423, 0), (60, 5), (34, 0), (2109, 0), (2109, 0), (0, 0), (728, 0), (4, 0), (0, 0), (66, 0), (1759, 0), (2109, 0), (1, 0), (2111, 0)]\n"
    }
   ],
   "source": [
    "train_corpus, eval_corpus = train_test_split(corpus, test_size=0.3, random_state=SEED)\n",
    "print(\"Ejemlos del corpus de entrenamiento\")\n",
    "for sent in train_corpus[:5]:\n",
    "    print(sent)\n",
    "print()\n",
    "print(\"Ejemlos del corpus de evaluacion\")\n",
    "for sent in eval_corpus[:5]:\n",
    "    print(sent)"
   ]
  },
  {
   "cell_type": "markdown",
   "metadata": {},
   "source": [
    "### Paso 4. Selección de modelo y entrenamiento\n",
    "\n",
    "Usaré un modelo de red neuronal recurrente con una capa de embedding, una capa oculta de recurrencia, y una capa de salida.\n",
    "\n",
    "La capa de embedding se define como:\n",
    "\n",
    "$$ x = Cs $$\n",
    "\n",
    "$C$ es una matriz de dimensión $d\\times N_{in}$ y $s$ es la representación one hot de la palabra en la secuencia.\n",
    "\n",
    "La capa oculta recurrente:\n",
    "\n",
    "$$ h^{(t)} = \\tanh{(Vh^{(t-1)}+Ux^{(t)}+b)} $$\n",
    "\n",
    "$V$ es una matriz de dimensión $m\\times m$, $U$ una matriz de dimensión $d\\times m $ y $b$ es el vector de bias, de dimensión $m$.\n",
    "\n",
    "Y la capa de salida:\n",
    "\n",
    "$$ y^{(t)} = Softmax(Wh^{(t-1)}+c) $$\n",
    "\n",
    "En donde $W$ es una matriz de dimensión $N_{out} \\times m$\n",
    "\n",
    "Los valores de $d$ y $m$ son hiperparámetros\n",
    "\n",
    "#### Función de Riesgo\n",
    "\n",
    "La función de riesgo será la entroía cruzada:\n",
    "\n",
    "$$ R(y, \\hat{y}) = -\\frac1N \\sum_{i=0}^Ny\\log\\hat{y_i} $$"
   ]
  },
  {
   "cell_type": "code",
   "execution_count": 132,
   "metadata": {},
   "outputs": [],
   "source": [
    "class Modelo(object):\n",
    "    def __init__(self, d, m, N_in, N_out):\n",
    "        self.d = d # DImensión de capa de embedding\n",
    "        self.m = m # Dimensión de capa oculta\n",
    "        self.N_in = N_in # Dimensión de entrada\n",
    "        self.N_out = N_out # Dimensión de salida\n",
    "\n",
    "    def inicializar_pesos(self):\n",
    "        # Capa de embedding\n",
    "        self.C = np.random.randn(self.d, self.N_in) / np.sqrt(self.N_in)\n",
    "                \n",
    "        # Capa recurrente oculta\n",
    "        self.V = np.random.randn(self.m, self.m) / np.sqrt(self.m)\n",
    "        self.U = np.random.randn(self.m, self.d) / np.sqrt(self.d)\n",
    "        self.b = np.zeros(self.m)\n",
    "\n",
    "        # Capa de salida\n",
    "        self.W = np.random.randn(self.N_out, self.m) / np.sqrt(self.m) \n",
    "        self.c = np.zeros(self.N_out)\n",
    "        \n",
    "        # Los mejores pesos del modelo\n",
    "        self.best_C = self.C        \n",
    "        self.best_V = self.W\n",
    "        self.best_U = self.U\n",
    "        self.best_b = self.b        \n",
    "        self.best_W = self.W\n",
    "        self.best_c = self.c\n",
    "    \n",
    "    def forward(self, secuencia):\n",
    "        \"\"\"Paso hacia adelante de la red. \n",
    "        Recibe como argumento una secuencia de entrada de n elementos, estos elementos\n",
    "        deben ser indices del vocabulario de entrada.\n",
    "        Da como salida $n$ vectores $h$, y $n$ vectores $y$\n",
    "        \"\"\"\n",
    "        # Tamaño de la secuencia de entrada\n",
    "        T = len(secuencia)\n",
    "\n",
    "        # Prealojamiento de salidas por estado de capas oculta y de salida.\n",
    "        h = np.zeros((T+1, self.m)) # Uso un estado adicional para t = -1\n",
    "        y = np.zeros((T, self.N_out))\n",
    "\n",
    "        # Se inicia el vector h[-1] con ceros\n",
    "        h[-1] = np.zeros(self.m)\n",
    "\n",
    "        # Propagación hacia adelante de la secuenca de entrada\n",
    "        for t in range(T):\n",
    "            # Un paso en la capa embedding se reduce a C[:, s]\n",
    "            x_t = self.C[:, secuencia[t]]\n",
    "\n",
    "            # Capa oculta recurrente\n",
    "            Vh = np.dot(self.V, h[t-1])\n",
    "            Ux = np.dot(self.U, x_t)\n",
    "            h[t] = np.tanh(Vh + Ux + self.b) # Salida de capa oculta\n",
    "\n",
    "            # Capa de salida\n",
    "            a = self.W.dot(h[t]) + self.c # Preactivación\n",
    "            exp_a = np.exp(a - a.max()) # Exponencial de la preactivación\n",
    "            y[t] = exp_a/exp_a.sum() # Salida Softmax        \n",
    "        return y, h\n",
    "    \n",
    "    def predecir(self, secuencia):\n",
    "        y, h = self.forward(secuencia)\n",
    "        return np.argmax(y, axis=1)\n",
    "\n",
    "    def calcular_riesgo_total(self, x, y):\n",
    "        \"\"\"Calculamos la función de riesgo definida por:\n",
    "        $$ R(y, \\hat{y}) = -\\frac1N \\sum_{n\\in N_{in}}y\\log\\hat{y_n} $$\n",
    "        x es una lista de secuencias de entrada\n",
    "        y es una lista de secuencias con los valores reales de \n",
    "        \"\"\"\n",
    "        R = 0\n",
    "        N = len(y)\n",
    "        for i in np.arange(N):\n",
    "            output, _ = self.forward(x[i])\n",
    "            # La probabilidad de la \"y\" verdadera\n",
    "            y_hat_n = output[np.arange(len(y[i])), y[i]]\n",
    "            R += -1 * np.sum(np.log(y_hat_n))\n",
    "        return R\n",
    "\n",
    "    def cross_entropy(self, x, y):\n",
    "        \"\"\"Calcula el resgo total y lo divide entre el número de ejemplos\n",
    "        x es una lista de secuencias de entrada\n",
    "        y es una lista de secuencias con los valores reales de y\n",
    "        \"\"\"\n",
    "        N = np.sum(( len(y_i) for y_i in y ))\n",
    "        return self.calcular_riesgo_total(x,y) / N\n",
    "\n",
    "    def backprop(self, x, y):\n",
    "        \"\"\"Algoritmo de backpropagation. \n",
    "        x es una secuencia de T elementos\n",
    "        y es una secuencia de T elementos\n",
    "        \"\"\"\n",
    "        T = len(y) # Número de entidades en la secuencia\n",
    "        output, h = self.forward(x)\n",
    "        \n",
    "        # Derivadas respecto a las matrices U, V, W, C y los bias b y c\n",
    "        dLdU = np.zeros_like(self.U)\n",
    "        dLdV = np.zeros_like(self.V)\n",
    "        dLdW = np.zeros_like(self.W)\n",
    "        dLdC = np.zeros_like(self.C)\n",
    "\n",
    "        # Backprop\n",
    "        # Copio el arreglo para no modificar pesos de la salida original\n",
    "        d_out = np.array(output, copy=True) \n",
    "        # Modifico todos los arreglos en el tiempo\n",
    "        # En cada indice contenido en y, le resto 1\n",
    "        d_out[np.arange(len(y)), y] -= 1  # p(Tag_k | w_i) - y_k\n",
    "        \n",
    "        # Backprop a través del tiempo\n",
    "        for t in np.arange(T)[::-1]: # Desde T hasta 0\n",
    "            # Derivada de la capa de salida\n",
    "            dLdW += np.outer(d_out[t], h[t].T)\n",
    "\n",
    "            # Variable de celda recurrente\n",
    "            # self.V.T.dot(delta_o[t])\n",
    "            d_h = self.W.T.dot(d_out[t])*(1-h[t]**2) # np.dot(d_out[t].T, self.U)\n",
    "            \n",
    "            # Variable de la capa de embedding\n",
    "            d_emb = np.dot(self.U.T, d_h)\n",
    "\n",
    "            # Modelo mio:\n",
    "            # W capa salida\n",
    "            # V capa recurrente estados h\n",
    "            # U capa recurrente entrada x\n",
    "            \n",
    "            # Modelo pagina:\n",
    "            # V capa salida\n",
    "            # W capa recurrente estados h\n",
    "            # U capa recurrente entrada x\n",
    "\n",
    "            # Truncamos la propagación a 4 palabras anteriores a la actual\n",
    "            for step in np.arange(max(0, t-4), t+1)[::-1]:\n",
    "                # Derivadas de capa recurrente\n",
    "                dLdV += np.outer(d_h, h[t-1])\n",
    "                dLdU += np.outer(d_h, x[step])\n",
    "                # dLdU[:, x[step]] += d_h\n",
    "\n",
    "                # Actualizamos variable de celda recurrente\n",
    "                d_h = self.V.T.dot(d_h) * (1-h[step-1]**2)\n",
    "                # d_h = (1-h[step-1]**2)*self.W.T.dot(d_out[t]) # np.dot(d_out.T, self.U)\n",
    "\n",
    "                # Actualizamos variable de embedding\n",
    "                d_emb = np.dot(self.U.T, d_h)\n",
    "                dLdC[:, x[step]] += d_emb\n",
    "\n",
    "        return dLdC, dLdU, dLdV, dLdW, d_out, d_h\n",
    "\n",
    "    def gradiente_descendente(self, x, y, lr):\n",
    "        # Calculate the gradients\n",
    "        dLdC, dLdU, dLdV, dLdW, d_out, d_h = self.backprop(x, y)\n",
    "        # Change parameters according to gradients and learning rate\n",
    "        self.U -= learning_rate * dLdU\n",
    "        self.V -= learning_rate * dLdV\n",
    "        self.W -= learning_rate * dLdW\n",
    "        \n",
    "        # Actualizamos los pesos\n",
    "        # Capa de salida\n",
    "        self.W -= lr*dLdW\n",
    "        self.c -= lr*d_out\n",
    "        # Capa recurrente oculta\n",
    "        self.V -= lr*dLdV\n",
    "        self.U -= lr*dLdU\n",
    "        self.b -= lr*d_h\n",
    "        # Capa de embredding\n",
    "        self.C -= lr*dLdC # Las demás filas no nos interesan, porque son 0\n",
    "        \n",
    "    def entrenar(self, epochs=50, lr=[]):\n",
    "        entr_timeline = [] # Entropía a través de las épocas\n",
    "        min_entr = np.inf\n",
    "        for epoch in nbtqdm(range(epochs)):\n",
    "            np.random.shuffle(bigramas)\n",
    "            cross_entropy = 0\n",
    "            for bigrama in self.bigramas:\n",
    "                i_x = bigrama[0] # El índice de la primer palabra del bigrama\n",
    "                i_y = bigrama[1] # El índice de la segunda palabra del bigrama\n",
    "                # print(f'  Bigrama: {inv_vocab[i_x]} {inv_vocab[i_y]}')\n",
    "                prob_salida, h_i = self.forward(i_x)\n",
    "                # print(f'  Predicción: {inv_vocab[i_x]} {inv_vocab[np.argmax(prob_salida)]}')\n",
    "                self.backprop(i_x, i_y, prob_salida, h_i, lr[epoch])\n",
    "                cross_entropy -= np.log(prob_salida[i_y])\n",
    "                        \n",
    "            # Si la entropua actual es mejor que la menor...\n",
    "            if cross_entropy < min_entr:\n",
    "                min_entr = cross_entropy  # ponemos la actual\n",
    "                # y movemos los mejores pesos\n",
    "                self.best_C = self.C\n",
    "                self.best_W = self.W\n",
    "                self.best_b = self.b\n",
    "                self.best_U = self.U\n",
    "                self.best_c = self.c\n",
    "                \n",
    "            entr_timeline.append(cross_entropy)    \n",
    "            tqdm.write(f'Epoch: {epoch+1} \\tEntropía cruzada: {cross_entropy}')\n",
    "        return entr_timeline\n",
    "    \n",
    "    def cargar_mejores_pesos(self):\n",
    "        self.C = self.best_C\n",
    "        self.W = self.best_W\n",
    "        self.b = self.best_b\n",
    "        self.U = self.best_U\n",
    "        self.c = self.best_c\n",
    "    \n",
    "    def guardar_pesos(self, archivo):\n",
    "        \"\"\"Guarda los pesos del modelo en formato .npz\n",
    "        \"\"\"\n",
    "        try:\n",
    "            np.savez(\n",
    "                archivo, \n",
    "                C = self.C, \n",
    "                W = self.W, \n",
    "                b = self.b, \n",
    "                U = self.U, \n",
    "                c = self.c\n",
    "            )\n",
    "            print(f'Archivo {archivo} guardado satisfactoriamente')\n",
    "            return True\n",
    "        except Exception as e:\n",
    "            print('Ocurrió un error al guardar el archivo')\n",
    "            print(e)\n",
    "            return False\n",
    "    \n",
    "    def cargar_pesos(self, archivo):\n",
    "        \"\"\"Carga los pesos del modelo guardados en un archivo formato .npz\n",
    "        \"\"\"\n",
    "        try:\n",
    "            pesos = np.load(archivo)\n",
    "            self.C = pesos['C']\n",
    "            self.W = pesos['W']\n",
    "            self.b = pesos['b']\n",
    "            self.U = pesos['U']\n",
    "            self.c = pesos['c']\n",
    "            print(f'Pesos desde {archivo} cargados correctamente')\n",
    "            return True\n",
    "        except Exception as e:\n",
    "            print('Ocurrió un error al guardar el archivo')\n",
    "            print(e)\n",
    "            return False\n",
    "        "
   ]
  },
  {
   "cell_type": "code",
   "execution_count": 41,
   "metadata": {},
   "outputs": [],
   "source": [
    "dim_in = len(index_to_word)\n",
    "dim_out = len(tag_to_index)\n",
    "\n",
    "dim_m = 5\n",
    "dim_d = 10"
   ]
  },
  {
   "cell_type": "code",
   "execution_count": 133,
   "metadata": {},
   "outputs": [],
   "source": [
    "modelo = Modelo(d = dim_d, m=dim_m, N_in = dim_in, N_out = dim_out)\n",
    "modelo.inicializar_pesos()"
   ]
  },
  {
   "cell_type": "code",
   "execution_count": 27,
   "metadata": {},
   "outputs": [],
   "source": [
    "# sentence = [w for w, tag in train_corpus[0]]\n",
    "# y, h = modelo.forward(sentence)"
   ]
  },
  {
   "cell_type": "code",
   "execution_count": 43,
   "metadata": {},
   "outputs": [
    {
     "output_type": "stream",
     "name": "stdout",
     "text": "<BOS> Officials said the total number of workers receiving unemployment benefits is now close to <unk> million , another record . <EOS>\nB-ge I-art B-eve I-rg B-gpe I-art B-gpe I-per B-ge B-art B-ge B-per I-rg B-ge I-per I-tim B-art B-gpe I-art I-ge I-art I-art\n\n<BOS> The summit was dominated by the political crisis in <unk> , and the <unk> of Mr. Mwanawasa , a <unk> of <unk> President <unk> <unk> , was said to hurt attempts to put more pressure on <unk> . <EOS>\nB-ge B-eve I-art I-art I-rg I-rg B-ge B-per B-ge B-ge B-art I-ge I-art B-gpe B-gpe B-eve I-rg B-ge B-eve  B-gpe I-per I-rg B-ge I-ge I-art I-ge I-art I-ge I-art B-gpe B-gpe I-art I-rg B-ge I-per I-eve B-gpe I-art I-rg\n\n<BOS> Earlier this year , Ethiopian Prime Minister <unk> <unk> warned an al-Qaida <unk> is already operating out of Somalia 's capital , Mogadishu . <EOS>\nB-ge I-rg B-ge I-nat B-gpe I-rg B-gpe B-eve I-eve B-gpe I-art B-gpe I-art I-art B-gpe I-art I-art I-rg B-ge I-rg B-ge B-art B-art I-rg B-gpe I-art\n\n<BOS> She did not <unk> any more details and also declined to <unk> at what <unk> the talks are being held . <EOS>\nB-ge I-rg B-ge I-rg B-ge I-ge I-art B-gpe B-tim B-ge I-rg B-ge B-art I-art B-gpe I-ge I-art B-gpe I-art I-rg B-gpe B-eve I-rg\n\n<BOS> Central U.S. <unk> towns are at risk as <unk> that <unk> parts of two of the state of Iowa 's largest cities are now flowing <unk> . <EOS>\nB-ge I-rg B-ge B-art I-art I-ge I-art B-gpe B-tim B-gpe B-eve I-art I-art B-tim I-rg B-ge I-rg B-ge B-ge I-rg B-ge B-art I-ge I-art I-art I-rg B-ge B-eve I-rg\n\n"
    }
   ],
   "source": [
    "for y_i in train_corpus[:5]:\n",
    "    sentence = [w for w, tag in y_i]\n",
    "    print(' '.join([ index_to_word[w] for w in sentence ]))\n",
    "    pred = modelo.predecir(sentence)\n",
    "    print(' '.join([ index_to_tag[tag] for tag in pred ]) )\n",
    "    print()"
   ]
  },
  {
   "cell_type": "code",
   "execution_count": 44,
   "metadata": {},
   "outputs": [],
   "source": [
    "train_x, train_y = zip(*[zip(*sent) for sent in train_corpus])"
   ]
  },
  {
   "cell_type": "code",
   "execution_count": 88,
   "metadata": {},
   "outputs": [
    {
     "output_type": "stream",
     "name": "stdout",
     "text": "( x, y )\n['( <BOS>,  )',\n '( The,  )',\n '( summit,  )',\n '( was,  )',\n '( dominated,  )',\n '( by,  )',\n '( the,  )',\n '( political,  )',\n '( crisis,  )',\n '( in,  )',\n '( <unk>, B-ge )',\n '( ,,  )',\n '( and,  )',\n '( the,  )',\n '( <unk>,  )',\n '( of,  )',\n '( Mr., B-per )',\n '( Mwanawasa, I-per )',\n '( ,,  )',\n '( a,  )',\n '( <unk>,  )',\n '( of,  )',\n '( <unk>, B-gpe )',\n '( President, B-per )',\n '( <unk>, I-per )',\n '( <unk>, I-per )',\n '( ,,  )',\n '( was,  )',\n '( said,  )',\n '( to,  )',\n '( hurt,  )',\n '( attempts,  )',\n '( to,  )',\n '( put,  )',\n '( more,  )',\n '( pressure,  )',\n '( on,  )',\n '( <unk>, B-gpe )',\n '( .,  )',\n '( <EOS>,  )']\n"
    }
   ],
   "source": [
    "print('( x, y )')\n",
    "pprint([\n",
    "    f'( {index_to_word[ixword]}, {index_to_tag[ixtag]} )'\n",
    "    for ixword, ixtag\n",
    "    in zip(train_x[1], train_y[1])\n",
    "])"
   ]
  },
  {
   "cell_type": "code",
   "execution_count": 91,
   "metadata": {},
   "outputs": [
    {
     "output_type": "stream",
     "name": "stdout",
     "text": "( x, pred )\n['( <BOS>, B-per )',\n '( The, I-rg )',\n '( summit, B-nat )',\n '( was, I-gpe )',\n '( dominated, I-per )',\n '( by,  )',\n '( the, I-nat )',\n '( political, I-rg )',\n '( crisis, I-ge )',\n '( in, I-nat )',\n '( <unk>, I-ge )',\n '( ,, I-nat )',\n '( and, I-ge )',\n '( the, I-nat )',\n '( <unk>, I-rg )',\n '( of, B-nat )',\n '( Mr., I-rg )',\n '( Mwanawasa,  )',\n '( ,, B-nat )',\n '( a, I-tim )',\n '( <unk>, I-rg )',\n '( of, B-nat )',\n '( <unk>, I-rg )',\n '( President, B-nat )',\n '( <unk>, I-rg )',\n '( <unk>,  )',\n '( ,, I-nat )',\n '( was, I-gpe )',\n '( said,  )',\n '( to, I-rg )',\n '( hurt, B-nat )',\n '( attempts, I-gpe )',\n '( to, B-nat )',\n '( put, I-rg )',\n '( more, B-nat )',\n '( pressure, I-gpe )',\n '( on, B-nat )',\n '( <unk>, I-gpe )',\n '( ., B-art )',\n '( <EOS>, I-tim )']\n"
    }
   ],
   "source": [
    "print('( x, pred )')\n",
    "pprint([\n",
    "    f'( {index_to_word[ixword]}, {index_to_tag[ixtag]} )'\n",
    "    for ixword, ixtag\n",
    "    in zip(train_x[1], modelo.predecir(train_x[1]))\n",
    "])"
   ]
  },
  {
   "cell_type": "code",
   "execution_count": 93,
   "metadata": {},
   "outputs": [
    {
     "output_type": "stream",
     "name": "stdout",
     "text": "Wall time: 391 ms\n"
    },
    {
     "output_type": "execute_result",
     "data": {
      "text/plain": "2.8395411089712637"
     },
     "metadata": {},
     "execution_count": 93
    }
   ],
   "source": [
    "%%time\n",
    "modelo.cross_entropy(train_x, train_y)"
   ]
  },
  {
   "cell_type": "code",
   "execution_count": 84,
   "metadata": {},
   "outputs": [
    {
     "output_type": "execute_result",
     "data": {
      "text/plain": "7.655390644826152"
     },
     "metadata": {},
     "execution_count": 84
    }
   ],
   "source": [
    "-np.log(1/dim_in)"
   ]
  },
  {
   "cell_type": "code",
   "execution_count": 135,
   "metadata": {},
   "outputs": [
    {
     "output_type": "stream",
     "name": "stdout",
     "text": "Wall time: 4.99 ms\n"
    }
   ],
   "source": [
    "%%time\n",
    "dLdC, dLdU, dLdV, dLdW, d_out, d_h = modelo.backprop(train_x[5], train_y[5])"
   ]
  },
  {
   "cell_type": "code",
   "execution_count": 140,
   "metadata": {},
   "outputs": [
    {
     "output_type": "execute_result",
     "data": {
      "text/plain": "array([[ 1442.85023625,  1442.85023625,  1442.85023625,  1442.85023625,\n         1442.85023625,  1442.85023625,  1442.85023625,  1442.85023625,\n         1442.85023625,  1442.85023625],\n       [ 5939.82088268,  5939.82088268,  5939.82088268,  5939.82088268,\n         5939.82088268,  5939.82088268,  5939.82088268,  5939.82088268,\n         5939.82088268,  5939.82088268],\n       [-6473.60888808, -6473.60888808, -6473.60888808, -6473.60888808,\n        -6473.60888808, -6473.60888808, -6473.60888808, -6473.60888808,\n        -6473.60888808, -6473.60888808],\n       [13027.2530725 , 13027.2530725 , 13027.2530725 , 13027.2530725 ,\n        13027.2530725 , 13027.2530725 , 13027.2530725 , 13027.2530725 ,\n        13027.2530725 , 13027.2530725 ],\n       [ 4588.6488795 ,  4588.6488795 ,  4588.6488795 ,  4588.6488795 ,\n         4588.6488795 ,  4588.6488795 ,  4588.6488795 ,  4588.6488795 ,\n         4588.6488795 ,  4588.6488795 ]])"
     },
     "metadata": {},
     "execution_count": 140
    }
   ],
   "source": [
    "dLdU"
   ]
  },
  {
   "cell_type": "code",
   "execution_count": 139,
   "metadata": {},
   "outputs": [
    {
     "output_type": "execute_result",
     "data": {
      "text/plain": "(5, 10)"
     },
     "metadata": {},
     "execution_count": 139
    }
   ],
   "source": [
    "modelo.U.shape"
   ]
  },
  {
   "cell_type": "markdown",
   "metadata": {},
   "source": [
    "\n",
    "5. Evaluar el desempeño del sistema a partir del corpus de evaluación y con la métrica de Exactitud (Accuracy).\n",
    "6. Ejemplificar el reconocimiento de entidades nombradas con 5 sentencias del corpus de evaluación."
   ]
  }
 ],
 "metadata": {
  "language_info": {
   "codemirror_mode": {
    "name": "ipython",
    "version": 3
   },
   "file_extension": ".py",
   "mimetype": "text/x-python",
   "name": "python",
   "nbconvert_exporter": "python",
   "pygments_lexer": "ipython3",
   "version": "3.7.4-final"
  },
  "orig_nbformat": 2,
  "kernelspec": {
   "name": "python3",
   "display_name": "Python 3"
  }
 },
 "nbformat": 4,
 "nbformat_minor": 2
}