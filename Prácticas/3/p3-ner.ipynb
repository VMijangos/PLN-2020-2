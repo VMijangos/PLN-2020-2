{
 "cells": [
  {
   "cell_type": "markdown",
   "metadata": {},
   "source": [
    "# Práctica 3. Reconocimiento de Entidades Nombradas. NER\n",
    "\n",
    "Andrés González Flores\n",
    "\n",
    "Procesamiento de Lenguaje Natural\n",
    "\n",
    "Facultad de Ingeniería, UNAM\n",
    "\n",
    "## Objetivo\n",
    "\n",
    "Realizar un reconocimiento de Entidades Nombradas (NER) a partir de un modelo secuencial y con el corpus ‘ner dataset.csv’ que se proporciona.\n",
    "\n",
    "## Instrucciones\n",
    "\n",
    "Se deberán seguir los siguientes pasos:\n",
    "\n",
    "1. Obtener las sentencias a partir del csv. En este archivo, se indica cada inicio de sentencia con ‘Sentence: n’. Se cuenta con 1000 sentencias que conformarán el corpus de entrenamiento y evaluación.\n",
    "2. Preprocesar los datos.\n",
    "3. Separar los datos en corpus de entrenamiento (70%) y corpus de evaluación (30%).\n",
    "4. Entrenar un modelo secuencial a partir del corpus de entrenamiento. Deberán definirse los hiperparámetros.\n",
    "5. Evaluar el desempeño del sistema a partir del corpus de evaluación y con la métrica de Exactitud (Accuracy).\n",
    "6. Ejemplificar el reconocimiento de entidades nombradas con 5 sentencias del corpus de evaluación."
   ]
  },
  {
   "cell_type": "markdown",
   "metadata": {},
   "source": [
    "## Dessarrollo"
   ]
  },
  {
   "cell_type": "code",
   "execution_count": 1,
   "metadata": {},
   "outputs": [],
   "source": [
    "import csv\n",
    "import numpy as np\n",
    "from collections import Counter\n",
    "from sklearn.model_selection import train_test_split\n",
    "import matplotlib.pyplot as plt\n",
    "import operator\n",
    "from itertools import chain\n",
    "from tqdm.notebook import tqdm\n",
    "from pprint import pprint"
   ]
  },
  {
   "cell_type": "code",
   "execution_count": 2,
   "metadata": {},
   "outputs": [],
   "source": [
    "# Definición de constantes\n",
    "SEED = 42\n",
    "CORPUS_PATH = './ner_dataset.csv'\n",
    "BOS = '<BOS>'\n",
    "EOS = '<EOS>'\n",
    "UNK = '<unk>'\n",
    "\n",
    "np.random.seed(SEED)"
   ]
  },
  {
   "cell_type": "markdown",
   "metadata": {},
   "source": [
    "### Paso 1. Obtener sentencias.\n"
   ]
  },
  {
   "cell_type": "code",
   "execution_count": 3,
   "metadata": {},
   "outputs": [],
   "source": [
    "with open(CORPUS_PATH, 'r', encoding='utf-8') as f:\n",
    "    reader = csv.reader(f)\n",
    "    csvlist = list(reader)"
   ]
  },
  {
   "cell_type": "code",
   "execution_count": 4,
   "metadata": {},
   "outputs": [],
   "source": [
    "sentences = []\n",
    "sent_i = []\n",
    "for row in csvlist[1:]:\n",
    "    if row[0] is not '':\n",
    "        sentences.append(sent_i)\n",
    "        sent_i = []\n",
    "    sent_i.append((row[1], row[2]))\n",
    "# Mi algoritmo está feo: agrega la primer sentencia vacía y no agrega la última\n",
    "del sentences[0]\n",
    "sentences.append(sent_i)"
   ]
  },
  {
   "cell_type": "code",
   "execution_count": 5,
   "metadata": {},
   "outputs": [
    {
     "output_type": "stream",
     "name": "stdout",
     "text": "Número de oraciones = 1000\n\nEjemplos:\nThousands of demonstrators have marched through London to protest the war in Iraq and demand the withdrawal of British troops from that country .\nFamilies of soldiers killed in the conflict joined the protesters who carried banners with such slogans as \" Bush Number One Terrorist \" and \" Stop the Bombings . \"\nThey marched from the Houses of Parliament to a rally in Hyde Park .\nPolice put the number of marchers at 10000 while organizers claimed it was 1,00,000 .\nThe protest comes on the eve of the annual conference of Britain 's ruling Labor Party in the southern English seaside resort of Brighton .\n"
    }
   ],
   "source": [
    "print(f'Número de oraciones = {len(sentences)}\\n')\n",
    "print('Ejemplos:')\n",
    "print('\\n'.join([' '.join([w for w, tag in sent]) for sent in sentences[:5] ]))"
   ]
  },
  {
   "cell_type": "markdown",
   "metadata": {},
   "source": [
    "### Paso 2. Preprocesamiento"
   ]
  },
  {
   "cell_type": "code",
   "execution_count": 6,
   "metadata": {},
   "outputs": [
    {
     "output_type": "execute_result",
     "data": {
      "text/plain": "[('the', 1111),\n ('.', 995),\n (',', 637),\n ('in', 576),\n ('of', 568),\n ('to', 505),\n ('a', 449),\n ('and', 391),\n ('The', 241),\n (\"'s\", 202)]"
     },
     "metadata": {},
     "execution_count": 6
    }
   ],
   "source": [
    "freq_tokens = Counter([w for w,_ in chain(*sentences)])\n",
    "freq_tokens.most_common(10)"
   ]
  },
  {
   "cell_type": "markdown",
   "metadata": {},
   "source": [
    "Agrego el diccionario de entrada"
   ]
  },
  {
   "cell_type": "code",
   "execution_count": 7,
   "metadata": {},
   "outputs": [
    {
     "output_type": "stream",
     "name": "stdout",
     "text": "[('the', 0),\n ('.', 1),\n (',', 2),\n ('in', 3),\n ('of', 4),\n ('to', 5),\n ('a', 6),\n ('and', 7),\n ('The', 8),\n (\"'s\", 9)]\n"
    }
   ],
   "source": [
    "word_to_index = { \n",
    "    x[0] : i for i, x in enumerate(freq_tokens.most_common())\n",
    "    if freq_tokens[x[0]] > 1\n",
    "}\n",
    "\n",
    "pprint(list(word_to_index.items())[:10])"
   ]
  },
  {
   "cell_type": "markdown",
   "metadata": {},
   "source": [
    "Agrego los identificadores UNK, BOS Y EOS al vocabulario de entrada"
   ]
  },
  {
   "cell_type": "code",
   "execution_count": 8,
   "metadata": {},
   "outputs": [
    {
     "output_type": "stream",
     "name": "stdout",
     "text": "[('collapse', 2102),\n ('Barno', 2103),\n ('reunification', 2104),\n ('Berlin', 2105),\n ('Kohl', 2106),\n ('proud', 2107),\n ('wall', 2108),\n ('<unk>', 2109),\n ('<BOS>', 2110),\n ('<EOS>', 2111)]\n"
    }
   ],
   "source": [
    "word_to_index[UNK] = max(word_to_index.values())+1\n",
    "word_to_index[BOS] = word_to_index[UNK]+1\n",
    "word_to_index[EOS] = word_to_index[BOS]+1\n",
    "\n",
    "pprint(list(word_to_index.items())[-10:])"
   ]
  },
  {
   "cell_type": "markdown",
   "metadata": {},
   "source": [
    "Agrego el vocabulario de salida (las etiquetas)"
   ]
  },
  {
   "cell_type": "code",
   "execution_count": 9,
   "metadata": {},
   "outputs": [
    {
     "output_type": "execute_result",
     "data": {
      "text/plain": "[('', 18843),\n ('B-ge', 583),\n ('B-gpe', 543),\n ('B-rg', 413),\n ('I-per', 400),\n ('B-tim', 358),\n ('B-per', 327),\n ('I-rg', 290),\n ('I-ge', 105),\n ('I-tim', 77),\n ('B-art', 39),\n ('I-gpe', 26),\n ('I-art', 22),\n ('B-eve', 20),\n ('I-eve', 16),\n ('B-nat', 9),\n ('I-nat', 5)]"
     },
     "metadata": {},
     "execution_count": 9
    }
   ],
   "source": [
    "freq_tags = Counter([tag for _,tag in chain(*sentences)])\n",
    "freq_tags.most_common()"
   ]
  },
  {
   "cell_type": "code",
   "execution_count": 10,
   "metadata": {},
   "outputs": [
    {
     "output_type": "stream",
     "name": "stdout",
     "text": "{'': 0,\n 'B-art': 10,\n 'B-eve': 13,\n 'B-ge': 1,\n 'B-gpe': 2,\n 'B-nat': 15,\n 'B-per': 6,\n 'B-rg': 3,\n 'B-tim': 5,\n 'I-art': 12,\n 'I-eve': 14,\n 'I-ge': 8,\n 'I-gpe': 11,\n 'I-nat': 16,\n 'I-per': 4,\n 'I-rg': 7,\n 'I-tim': 9}\n"
    }
   ],
   "source": [
    "tag_to_index = {\n",
    "    y[0] : i for i, y in enumerate(freq_tags.most_common())\n",
    "}\n",
    "pprint(tag_to_index)"
   ]
  },
  {
   "cell_type": "markdown",
   "metadata": {},
   "source": [
    "Creo los vocabularios inversos"
   ]
  },
  {
   "cell_type": "code",
   "execution_count": 11,
   "metadata": {},
   "outputs": [
    {
     "output_type": "stream",
     "name": "stdout",
     "text": "Tamaño del vocabulario: 2112\nEjemplos de palabras:\nthe, parliament, measure, claim, flown, burning, Tokar\n\nVocabulario de etiquetas:\n(', B-ge, B-gpe, B-rg, I-per, B-tim, B-per, I-rg, I-ge, I-tim, B-art, I-gpe, '\n 'I-art, B-eve, I-eve, B-nat, I-nat')\n"
    }
   ],
   "source": [
    "index_to_word = [w for w in word_to_index.keys()]\n",
    "print(f'Tamaño del vocabulario: {len(index_to_word)}')\n",
    "print('Ejemplos de palabras:')\n",
    "print(', '.join(index_to_word[::350]))\n",
    "print()\n",
    "\n",
    "index_to_tag = [tag for tag in tag_to_index.keys()]\n",
    "print('Vocabulario de etiquetas:')\n",
    "pprint(', '.join(index_to_tag))"
   ]
  },
  {
   "cell_type": "markdown",
   "metadata": {},
   "source": [
    "Creo un método que devuelve siempre un indice del vocabulario o el identificador UNK"
   ]
  },
  {
   "cell_type": "code",
   "execution_count": 12,
   "metadata": {},
   "outputs": [],
   "source": [
    "def word_safe_vocab_index(w, vocab, ix_UNK):\n",
    "    try:\n",
    "        return vocab[w]\n",
    "    except KeyError:\n",
    "        return ix_UNK"
   ]
  },
  {
   "cell_type": "markdown",
   "metadata": {},
   "source": [
    "Armo el corpus de entrenamiento"
   ]
  },
  {
   "cell_type": "code",
   "execution_count": 13,
   "metadata": {},
   "outputs": [
    {
     "output_type": "stream",
     "name": "stdout",
     "text": "(2110, 0) (904, 0) (4, 0) (905, 0) (14, 0) (906, 0) (243, 0) (244, 1) (5, 0) (298, 0) (0, 0) (127, 0) (3, 0) (53, 1) (7, 0) (1282, 0) (0, 0) (679, 0) (4, 0) (99, 2) (77, 0) (17, 0) (16, 0) (71, 0) (1, 0) (2111, 0)\n\n(2110, 0) (2109, 0) (4, 0) (177, 0) (31, 0) (3, 0) (0, 0) (680, 0) (551, 0) (0, 0) (458, 0) (59, 0) (459, 0) (2109, 0) (18, 0) (245, 0) (1283, 0) (25, 0) (28, 0) (200, 6) (2109, 0) (460, 0) (2109, 0) (28, 0) (7, 0) (28, 0) (2109, 0) (0, 0) (2109, 0) (1, 0) (28, 0) (2111, 0)\n\n(2110, 0) (134, 0) (906, 0) (17, 0) (0, 0) (2109, 0) (4, 0) (2109, 0) (5, 0) (6, 0) (1284, 0) (3, 0) (2109, 1) (2109, 8) (1, 0) (2111, 0)\n\n(2110, 0) (268, 0) (340, 0) (0, 0) (341, 0) (4, 0) (1285, 0) (22, 0) (1286, 0) (135, 0) (1287, 0) (299, 0) (32, 0) (19, 0) (2109, 0) (1, 0) (2111, 0)\n\n(2110, 0) (8, 0) (298, 0) (552, 0) (15, 0) (0, 0) (1288, 0) (4, 0) (0, 0) (387, 0) (553, 0) (4, 0) (554, 1) (9, 0) (907, 0) (461, 3) (462, 7) (3, 0) (0, 0) (128, 0) (2109, 2) (2109, 0) (2109, 0) (4, 0) (2109, 1) (1, 0) (2111, 0)\n"
    }
   ],
   "source": [
    "ix_UNK = word_to_index[UNK]\n",
    "ix_BOS = word_to_index[BOS]\n",
    "ix_EOS = word_to_index[EOS]\n",
    "\n",
    "BOS_append = [(ix_BOS, tag_to_index[''])] # BOS y su etiqueta\n",
    "EOS_append = [(ix_EOS, tag_to_index[''])] # EOS y su etiqueta\n",
    "\n",
    "corpus = [\n",
    "    BOS_append + [ # Agrego BOS y su etiqueta\n",
    "        # Tupla con el valor del índice de la palabra y el índice de la etiqueta\n",
    "        (\n",
    "            word_safe_vocab_index(w, word_to_index, ix_UNK),\n",
    "            tag_to_index[tag]\n",
    "        ) # Fin tupla\n",
    "        for w, tag in sent # Para cada palabra en la sentencia\n",
    "    ] + EOS_append # Fin append\n",
    "    for sent in sentences # Por cada sentencia en la lista de sentencias\n",
    "]\n",
    "# pprint(corpus[:5])\n",
    "print('\\n\\n'.join([' '.join([f'({ix_w}, {ix_tag})' for ix_w, ix_tag in sent]) for sent in corpus[:5] ]))"
   ]
  },
  {
   "cell_type": "markdown",
   "metadata": {},
   "source": [
    "### Paso 3. Separar corpus de entrenamiento y evaluacion"
   ]
  },
  {
   "cell_type": "code",
   "execution_count": 14,
   "metadata": {},
   "outputs": [
    {
     "output_type": "stream",
     "name": "stdout",
     "text": "Ejemlos del corpus de entrenamiento\n[(2110, 0), (123, 0), (13, 0), (0, 0), (692, 0), (341, 0), (4, 0), (178, 0), (1599, 0), (636, 0), (1211, 0), (11, 0), (326, 0), (480, 0), (5, 0), (2109, 0), (129, 0), (2, 0), (171, 0), (1670, 0), (1, 0), (2111, 0)]\n[(2110, 0), (8, 0), (487, 0), (19, 0), (1776, 0), (27, 0), (0, 0), (131, 0), (668, 0), (3, 0), (2109, 1), (2, 0), (7, 0), (0, 0), (2109, 0), (4, 0), (50, 6), (667, 4), (2, 0), (6, 0), (2109, 0), (4, 0), (2109, 2), (49, 6), (2109, 4), (2109, 4), (2, 0), (19, 0), (13, 0), (5, 0), (565, 0), (1777, 0), (5, 0), (340, 0), (46, 0), (1778, 0), (15, 0), (2109, 2), (1, 0), (2111, 0)]\n[(2110, 0), (443, 0), (51, 0), (56, 0), (2, 0), (606, 2), (144, 6), (93, 4), (2109, 4), (2109, 4), (543, 0), (24, 0), (254, 3), (2109, 0), (11, 0), (331, 0), (538, 0), (82, 0), (4, 0), (224, 2), (9, 0), (175, 0), (2, 0), (348, 1), (1, 0), (2111, 0)]\n[(2110, 0), (1507, 0), (609, 0), (39, 0), (2109, 0), (199, 0), (46, 0), (633, 0), (7, 0), (52, 0), (1467, 0), (5, 0), (2109, 0), (22, 0), (229, 0), (2109, 0), (0, 0), (95, 0), (26, 0), (162, 0), (494, 0), (1, 0), (2111, 0)]\n[(2110, 0), (851, 1), (21, 8), (2109, 0), (861, 0), (26, 0), (22, 0), (624, 0), (25, 0), (2109, 0), (16, 0), (2109, 0), (301, 0), (4, 0), (40, 0), (4, 0), (0, 0), (198, 0), (4, 0), (457, 1), (9, 0), (473, 0), (464, 0), (26, 0), (326, 0), (1729, 0), (2109, 0), (1, 0), (2111, 0)]\n\nEjemlos del corpus de validación\n[(2110, 0), (2109, 0), (60, 5), (20, 0), (0, 0), (241, 0), (29, 0), (647, 0), (3, 0), (284, 0), (273, 0), (1325, 0), (4, 0), (75, 1), (3, 0), (1205, 1), (180, 0), (2, 0), (7, 0), (3, 0), (0, 0), (861, 0), (4, 0), (2109, 1), (7, 0), (2109, 1), (1, 0), (2111, 0)]\n[(2110, 0), (261, 0), (43, 0), (89, 0), (737, 0), (449, 0), (220, 0), (17, 0), (0, 0), (80, 1), (189, 8), (7, 0), (0, 0), (534, 0), (1983, 2), (1150, 0), (3, 0), (2109, 1), (2, 0), (2109, 1), (2, 0), (7, 0), (1987, 1), (1, 0), (2111, 0)]\n[(2110, 0), (134, 0), (1097, 0), (0, 0), (2109, 0), (817, 0), (10, 0), (2109, 0), (2109, 0), (2, 0), (135, 0), (118, 0), (1989, 0), (32, 0), (3, 0), (402, 0), (589, 0), (7, 0), (1212, 0), (10, 0), (45, 0), (287, 0), (1, 0), (2111, 0)]\n[(2110, 0), (2109, 0), (111, 0), (17, 0), (1248, 1), (20, 0), (0, 0), (905, 0), (2109, 0), (28, 0), (379, 3), (82, 0), (28, 0), (7, 0), (28, 0), (2109, 0), (566, 0), (173, 0), (28, 0), (74, 0), (45, 0), (298, 0), (60, 5), (1, 0), (2111, 0)]\n[(2110, 0), (8, 0), (234, 0), (419, 0), (17, 0), (6, 0), (1756, 0), (1169, 0), (1757, 0), (3, 0), (1758, 0), (126, 1), (827, 0), (5, 0), (1423, 0), (60, 5), (34, 0), (2109, 0), (2109, 0), (0, 0), (728, 0), (4, 0), (0, 0), (66, 0), (1759, 0), (2109, 0), (1, 0), (2111, 0)]\n"
    }
   ],
   "source": [
    "train_corpus, val_corpus = train_test_split(corpus, test_size=0.3, random_state=SEED)\n",
    "print(\"Ejemlos del corpus de entrenamiento\")\n",
    "for sent in train_corpus[:5]:\n",
    "    print(sent)\n",
    "print()\n",
    "print(\"Ejemlos del corpus de validación\")\n",
    "for sent in val_corpus[:5]:\n",
    "    print(sent)"
   ]
  },
  {
   "cell_type": "code",
   "execution_count": 15,
   "metadata": {},
   "outputs": [],
   "source": [
    "train_Data = [list(zip(*sent)) for sent in train_corpus]\n",
    "val_Data = [list(zip(*sent)) for sent in val_corpus]"
   ]
  },
  {
   "cell_type": "markdown",
   "metadata": {},
   "source": [
    "### Paso 4. Selección de modelo y entrenamiento\n",
    "\n",
    "Usaré un modelo de red neuronal recurrente con una capa de embedding, una capa oculta de recurrencia, y una capa de salida.\n",
    "\n",
    "La capa de embedding se define como:\n",
    "\n",
    "$$ x = Cs $$\n",
    "\n",
    "$C$ es una matriz de dimensión $d\\times N_{in}$ y $s$ es la representación one hot de la palabra en la secuencia.\n",
    "\n",
    "La capa oculta recurrente:\n",
    "\n",
    "$$ h^{(t)} = \\tanh{(Vh^{(t-1)}+Ux^{(t)})} $$\n",
    "\n",
    "$V$ es una matriz de dimensión $m\\times m$, $U$ una matriz de dimensión $d\\times m $.\n",
    "\n",
    "Y la capa de salida:\n",
    "\n",
    "$$ y^{(t)} = Softmax(Wh^{(t-1)}+c) $$\n",
    "\n",
    "En donde $W$ es una matriz de dimensión $N_{out} \\times m$\n",
    "\n",
    "Los valores de $d$ y $m$ son hiperparámetros\n",
    "\n",
    "#### Función de Riesgo\n",
    "\n",
    "La función de riesgo será la entroía cruzada:\n",
    "\n",
    "$$ R(y, \\hat{y}) = -\\frac1N \\sum_{i=0}^Ny\\log\\hat{y_i} $$"
   ]
  },
  {
   "cell_type": "markdown",
   "metadata": {},
   "source": [
    "#### Defino los hiperparámetros"
   ]
  },
  {
   "cell_type": "code",
   "execution_count": 16,
   "metadata": {},
   "outputs": [
    {
     "output_type": "stream",
     "name": "stdout",
     "text": "Dimensión de entrada: 2112\nDimensión de salida: 17\nDimensión de capa de embedding: 10\nDimensión de capa oculta: 5\n"
    }
   ],
   "source": [
    "dim_in = len(index_to_word)\n",
    "dim_out = len(tag_to_index)\n",
    "\n",
    "dim_m = 5\n",
    "dim_d = 10\n",
    "\n",
    "print(f'Dimensión de entrada: {dim_in}')\n",
    "print(f'Dimensión de salida: {dim_out}')\n",
    "print(f'Dimensión de capa de embedding: {dim_d}')\n",
    "print(f'Dimensión de capa oculta: {dim_m}')"
   ]
  },
  {
   "cell_type": "markdown",
   "metadata": {},
   "source": [
    "#### Defino el modelo"
   ]
  },
  {
   "cell_type": "code",
   "execution_count": 17,
   "metadata": {},
   "outputs": [],
   "source": [
    "class Modelo(object):\n",
    "    def __init__(self, d, m, N_in, N_out):\n",
    "        self.d = d # DImensión de capa de embedding\n",
    "        self.m = m # Dimensión de capa oculta\n",
    "        self.N_in = N_in # Dimensión de entrada\n",
    "        self.N_out = N_out # Dimensión de salida\n",
    "\n",
    "    def inicializar_pesos(self):\n",
    "        # Capa de embedding\n",
    "        self.C = np.random.randn(self.d, self.N_in) / np.sqrt(self.N_in)\n",
    "                \n",
    "        # Capa recurrente oculta\n",
    "        self.V = np.random.randn(self.m, self.m) / np.sqrt(self.m)\n",
    "        self.U = np.random.randn(self.m, self.d) / np.sqrt(self.d)\n",
    "\n",
    "        # Capa de salida\n",
    "        self.W = np.random.randn(self.N_out, self.m) / np.sqrt(self.m) \n",
    "        self.c = np.zeros(self.N_out)\n",
    "        \n",
    "        # Los mejores pesos del modelo\n",
    "        self.best_C = self.C        \n",
    "        self.best_V = self.W\n",
    "        self.best_U = self.U\n",
    "        self.best_W = self.W\n",
    "        self.best_c = self.c\n",
    "    \n",
    "    def forward(self, secuencia):\n",
    "        \"\"\"Paso hacia adelante de la red. \n",
    "        Recibe como argumento una secuencia de entrada de n elementos, estos elementos\n",
    "        deben ser indices del vocabulario de entrada.\n",
    "        Da como salida $n$ vectores $h$, y $n$ vectores $y$\n",
    "        \"\"\"\n",
    "        # Tamaño de la secuencia de entrada\n",
    "        T = len(secuencia)\n",
    "\n",
    "        # Prealojamiento de salidas por estado de capas oculta y de salida.\n",
    "        h = np.zeros((T+1, self.m)) # Uso un estado adicional para t = -1\n",
    "        # Se inicia el vector h[-1] con ceros\n",
    "        h[-1] = np.zeros(self.m)\n",
    "\n",
    "        y = np.zeros((T, self.N_out))\n",
    "        x_emb = np.zeros((T, self.d))\n",
    "\n",
    "\n",
    "        # Propagación hacia adelante de la secuenca de entrada\n",
    "        for t in range(T):\n",
    "            # Un paso en la capa embedding se reduce a C[:, s]\n",
    "            x_emb[t] = self.C[:, secuencia[t]]\n",
    "\n",
    "            # Capa oculta recurrente\n",
    "            Vh = self.V.dot(h[t-1])\n",
    "            Ux = self.U.dot(x_emb[t])\n",
    "            h[t] = np.tanh(Vh + Ux) # Salida de capa oculta\n",
    "\n",
    "            # Capa de salida\n",
    "            a = self.W.dot(h[t]) + self.c # Preactivación\n",
    "            exp_a = np.exp(a - a.max()) # Exponencial de la preactivación\n",
    "            y[t] = exp_a/exp_a.sum() # Salida Softmax        \n",
    "        return y, h, x_emb\n",
    "    \n",
    "    def predecir(self, secuencia):\n",
    "        y_hat, _, _ = self.forward(secuencia)\n",
    "        return np.argmax(y_hat, axis=1)\n",
    "\n",
    "    def backprop(self, x, y, fw_out):\n",
    "        \"\"\"Algoritmo de backpropagation. \n",
    "        x es una secuencia de T elementos. \n",
    "        y es una secuencia de T elementos. \n",
    "        fw_out es una tupla de tres elementros (out, h, x_emb). Contiene\n",
    "        la salida de la red, la salida de la capa oculta y la salida de la\n",
    "        capa de embedding.\n",
    "        \"\"\"\n",
    "        T = len(y) # Número de entidades en la secuencia\n",
    "        # output, h, x_emb = self.forward(x)\n",
    "        output, h, x_emb = fw_out\n",
    "        \n",
    "        # Derivadas respecto a las matrices U, V, W, C y el vector c\n",
    "        dLdU = np.zeros_like(self.U)\n",
    "        dLdV = np.zeros_like(self.V)\n",
    "\n",
    "        dLdW = np.zeros_like(self.W)\n",
    "        dLdc = np.zeros_like(self.c)\n",
    "        \n",
    "        dLdC = np.zeros_like(self.C)\n",
    "\n",
    "        # Backprop\n",
    "        # Copio el arreglo para no modificar pesos de la salida original\n",
    "        d_out = np.array(output, copy=True) \n",
    "        # Modifico todos los arreglos en el tiempo\n",
    "        # En cada indice contenido en y, le resto 1\n",
    "        d_out[np.arange(len(y)), y] -= 1  # p(Tag_k | w_i) - y_k\n",
    "        \n",
    "        # Backprop a través del tiempo\n",
    "        for t in np.arange(T-1,-1,-1): # Desde T hasta 0\n",
    "            # Derivada de la capa de salida\n",
    "            dLdW += np.outer(d_out[t], h[t].T)\n",
    "            dLdc += d_out[t]\n",
    "\n",
    "            # Variable de celda recurrente\n",
    "            d_h = self.W.T.dot(d_out[t])*(1-h[t]**2)\n",
    "\n",
    "            # Variable de la capa de embedding\n",
    "            d_emb = self.U.T.dot(d_h)            \n",
    "            \n",
    "            # Truncamos la propagación a 4 palabras anteriores a la actual\n",
    "            for step in np.arange(max(0, t-4), t+1)[::-1]:\n",
    "                # Derivadas de capa recurrente\n",
    "                dLdV += np.outer(d_h, h[step-1])\n",
    "                dLdU += np.outer(d_h, x_emb[step])\n",
    "\n",
    "                dLdC[:, x[step]] += d_emb\n",
    "\n",
    "                # Actualizamos variable de celda recurrente\n",
    "                d_h = self.V.T.dot(d_h) * (1-h[step-1]**2)\n",
    "\n",
    "                # Actualizamos variable de embedding\n",
    "                d_emb = self.U.T.dot(d_h)\n",
    "\n",
    "        return dLdC, dLdU, dLdV, dLdW, dLdc\n",
    "\n",
    "    def gradiente_descendente(self, gradientes, lr=0.01):\n",
    "        \"\"\"Método que da un paso en el gradiente descendiente, actualizando los pesos.\n",
    "        Recibe una tupla con los valores de los gradientes  (dLdC, dLdU, dLdV, dLdW, dLdc)\n",
    "        \"\"\"\n",
    "        # Desenvolver gradientes\n",
    "        dLdC, dLdU, dLdV, dLdW, dLdc = gradientes\n",
    "        \n",
    "        # self.U -= learning_rate * dLdU\n",
    "        # self.V -= learning_rate * dLdV\n",
    "        # self.W -= learning_rate * dLdW\n",
    "        \n",
    "        # Actualizamos los pesos\n",
    "        # Capa de salida\n",
    "        self.W -= lr*dLdW\n",
    "        self.c -= lr*dLdc\n",
    "        # Capa recurrente oculta\n",
    "        self.V -= lr*dLdV\n",
    "        self.U -= lr*dLdU\n",
    "        # Capa de embredding\n",
    "        self.C -= lr*dLdC # Las demás filas no nos interesan, porque son 0\n",
    "\n",
    "    def gradient_check(self, x, y, h=0.001, error_threshold=0.01):\n",
    "        # Calculate the gradients using backpropagation. We want to checker if these are correct.\n",
    "        fw_out = self.forward(x)\n",
    "        bptt_gradients = self.backprop(x, y, fw_out)\n",
    "        # List of all parameters we want to check.\n",
    "        model_parameters = ['C', 'U', 'V', 'W', 'c']\n",
    "        # Gradient check for each parameter\n",
    "        for pidx, pname in enumerate(model_parameters):\n",
    "            test_passed = True\n",
    "            # Get the actual parameter value from the mode, e.g. model.W\n",
    "            parameter = operator.attrgetter(pname)(self)\n",
    "            print(\"Performing gradient check for parameter %s with size %d.\" % (pname, np.prod(parameter.shape)))\n",
    "            # Iterate over each element of the parameter matrix, e.g. (0,0), (0,1), ...\n",
    "            it = np.nditer(parameter, flags=['multi_index'], op_flags=['readwrite'])\n",
    "            while not it.finished:\n",
    "                ix = it.multi_index\n",
    "                # Save the original value so we can reset it later\n",
    "                original_value = parameter[ix]\n",
    "                # Estimate the gradient using (f(x+h) - f(x-h))/(2*h)\n",
    "                parameter[ix] = original_value + h\n",
    "                gradplus = self.calcular_riesgo_total([x],[y])\n",
    "                parameter[ix] = original_value - h\n",
    "                gradminus = self.calcular_riesgo_total([x],[y])\n",
    "                estimated_gradient = (gradplus - gradminus)/(2*h)\n",
    "                # Reset parameter to original value\n",
    "                parameter[ix] = original_value\n",
    "                # The gradient for this parameter calculated using backpropagation\n",
    "                backprop_gradient = bptt_gradients[pidx][ix]\n",
    "                # calculate The relative error: (|x - y|/(|x| + |y|))\n",
    "                relative_error = np.abs(backprop_gradient - estimated_gradient) / \\\n",
    "                                (np.abs(backprop_gradient) + np.abs(estimated_gradient))\n",
    "                # If the error is to large fail the gradient check\n",
    "                if relative_error > error_threshold:\n",
    "                    test_passed = False\n",
    "                    print(\"Gradient Check ERROR: parameter=%s ix=%s\" % (pname, ix))\n",
    "                    print(\"+h Loss: %f\" % gradplus)\n",
    "                    print(\"-h Loss: %f\" % gradminus)\n",
    "                    print(\"Estimated_gradient: %f\" % estimated_gradient)\n",
    "                    print(\"Backpropagation gradient: %f\" % backprop_gradient)\n",
    "                    print(\"Relative Error: %f\" % relative_error)\n",
    "                    print()\n",
    "                    break \n",
    "                it.iternext()\n",
    "            if test_passed:\n",
    "                print(\"Gradient check for parameter %s passed.\" % (pname))\n",
    "                print()\n",
    "\n",
    "    def calc_acc(self, conf_mat):\n",
    "        return np.diag(conf_mat).sum()/conf_mat.sum()\n",
    "        \n",
    "    def entrenar(self, train_Data, val_Data, epochs=50, lr=0.1, mostrar_res_cada = 5):\n",
    "        # Historial para guardar las métricas\n",
    "        history = { \n",
    "            k : {\n",
    "                'loss' : np.zeros(epochs),\n",
    "                'conf_mat' : np.zeros((epochs, self.N_out, self.N_out)),\n",
    "            }\n",
    "            for k in ['train', 'val']\n",
    "        }\n",
    "        min_train_loss = np.inf\n",
    "        min_val_loss = np.inf\n",
    "\n",
    "        for epoch in tqdm(np.arange(epochs)):\n",
    "            np.random.shuffle(train_Data)\n",
    "\n",
    "            # TRAIN\n",
    "            train_loss = 0\n",
    "            train_len = len(train_Data)\n",
    "            train_conf_mat = np.zeros((self.N_out, self.N_out))\n",
    "            for x, y in train_Data:\n",
    "                # FORWARD\n",
    "                len_seq = len(y)\n",
    "                fw_out = self.forward(x)\n",
    "\n",
    "                y_hat = fw_out[0]\n",
    "                # La probabilidad de la \"y\" verdadera\n",
    "                y_hat_n = y_hat[np.arange(len(y)), y]\n",
    "                # RIESGO\n",
    "                train_loss -= np.sum(np.log(y_hat_n))/len_seq\n",
    "\n",
    "                # Matriz de confusión\n",
    "                y_pred = np.argmax(y_hat, axis=1)\n",
    "                train_conf_mat[y, y_pred] += 1 # Sumo uno en las intersecciones\n",
    "                \n",
    "                # BACKPROP\n",
    "                grads = self.backprop(x, y, fw_out)\n",
    "                self.gradiente_descendente(grads, lr)\n",
    "            train_loss /= train_len\n",
    "\n",
    "            history['train']['conf_mat'][epoch,:,:] = train_conf_mat\n",
    "            history['train']['loss'][epoch] = train_loss\n",
    "\n",
    "            # VALIDATION\n",
    "            val_loss = 0\n",
    "            val_len = len(val_Data)\n",
    "            val_conf_mat = np.zeros((self.N_out, self.N_out))\n",
    "            for x, y in val_Data:\n",
    "                # FORWARD\n",
    "                len_seq = len(y)\n",
    "                fw_out = self.forward(x)\n",
    "\n",
    "                y_hat = fw_out[0]\n",
    "                # La probabilidad de la \"y\" verdadera\n",
    "                y_hat_n = y_hat[np.arange(len(y)), y]\n",
    "                # RIESGO\n",
    "                val_loss -= np.sum(np.log(y_hat_n))/len_seq\n",
    "\n",
    "                # Matriz de confusión\n",
    "                y_pred = np.argmax(y_hat, axis=1)\n",
    "                val_conf_mat[y, y_pred] += 1 # Sumo uno en las intersecciones\n",
    "            val_loss /= val_len\n",
    "\n",
    "            history['val']['conf_mat'][epoch,:,:] = val_conf_mat\n",
    "            history['val']['loss'][epoch] = val_loss\n",
    "\n",
    "            if epoch % mostrar_res_cada == 0:\n",
    "                train_acc = self.calc_acc(train_conf_mat)\n",
    "                val_acc = self.calc_acc(val_conf_mat)\n",
    "                tqdm.write(\n",
    "                    f'Epoch {epoch+1:3}.' +\n",
    "                    f'\\tloss: {train_loss:2.5f}\\tacc: {train_acc:2.5f}'+\n",
    "                    f'\\tval_loss: {val_loss:2.5f}\\tval_acc: {val_acc:2.5f}')\n",
    "\n",
    "        return history\n",
    "    \n",
    "    def cargar_mejores_pesos(self):\n",
    "        self.C = self.best_C\n",
    "        self.U = self.best_U\n",
    "        self.V = self.best_V\n",
    "        self.W = self.best_W\n",
    "        self.c = self.best_c\n",
    "    \n",
    "    def guardar_pesos(self, archivo):\n",
    "        \"\"\"Guarda los pesos del modelo en formato .npz\n",
    "        \"\"\"\n",
    "        try:\n",
    "            np.savez(\n",
    "                archivo, \n",
    "                C = self.C, \n",
    "                U = self.U, \n",
    "                b = self.V, \n",
    "                W = self.W, \n",
    "                c = self.c\n",
    "            )\n",
    "            print(f'Archivo {archivo} guardado satisfactoriamente')\n",
    "            return True\n",
    "        except Exception as e:\n",
    "            print('Ocurrió un error al guardar el archivo')\n",
    "            print(e)\n",
    "            return False\n",
    "    \n",
    "    def cargar_pesos(self, archivo):\n",
    "        \"\"\"Carga los pesos del modelo guardados en un archivo formato .npz\n",
    "        \"\"\"\n",
    "        try:\n",
    "            pesos = np.load(archivo)\n",
    "            self.C = pesos['C']\n",
    "            self.U = pesos['U']\n",
    "            self.b = pesos['V']\n",
    "            self.W = pesos['W']\n",
    "            self.c = pesos['c']\n",
    "            print(f'Pesos desde {archivo} cargados correctamente')\n",
    "            return True\n",
    "        except Exception as e:\n",
    "            print('Ocurrió un error al guardar el archivo')\n",
    "            print(e)\n",
    "            return False\n",
    "        "
   ]
  },
  {
   "cell_type": "code",
   "execution_count": 18,
   "metadata": {},
   "outputs": [
    {
     "output_type": "stream",
     "name": "stdout",
     "text": "Performing gradient check for parameter C with size 700.\n"
    },
    {
     "output_type": "error",
     "ename": "AttributeError",
     "evalue": "'Modelo' object has no attribute 'calcular_riesgo_total'",
     "traceback": [
      "\u001b[1;31m---------------------------------------------------------------------------\u001b[0m",
      "\u001b[1;31mAttributeError\u001b[0m                            Traceback (most recent call last)",
      "\u001b[1;32m<ipython-input-18-42c90b3a3280>\u001b[0m in \u001b[0;36m<module>\u001b[1;34m\u001b[0m\n\u001b[0;32m      2\u001b[0m \u001b[0mmodelo_test\u001b[0m \u001b[1;33m=\u001b[0m \u001b[0mModelo\u001b[0m\u001b[1;33m(\u001b[0m\u001b[0mN_in\u001b[0m \u001b[1;33m=\u001b[0m \u001b[1;36m35\u001b[0m\u001b[1;33m,\u001b[0m \u001b[0md\u001b[0m \u001b[1;33m=\u001b[0m \u001b[1;36m20\u001b[0m\u001b[1;33m,\u001b[0m \u001b[0mm\u001b[0m \u001b[1;33m=\u001b[0m \u001b[1;36m10\u001b[0m\u001b[1;33m,\u001b[0m \u001b[0mN_out\u001b[0m \u001b[1;33m=\u001b[0m \u001b[1;36m15\u001b[0m\u001b[1;33m)\u001b[0m\u001b[1;33m\u001b[0m\u001b[1;33m\u001b[0m\u001b[0m\n\u001b[0;32m      3\u001b[0m \u001b[0mmodelo_test\u001b[0m\u001b[1;33m.\u001b[0m\u001b[0minicializar_pesos\u001b[0m\u001b[1;33m(\u001b[0m\u001b[1;33m)\u001b[0m\u001b[1;33m\u001b[0m\u001b[1;33m\u001b[0m\u001b[0m\n\u001b[1;32m----> 4\u001b[1;33m \u001b[0mmodelo_test\u001b[0m\u001b[1;33m.\u001b[0m\u001b[0mgradient_check\u001b[0m\u001b[1;33m(\u001b[0m\u001b[1;33m[\u001b[0m\u001b[1;36m0\u001b[0m\u001b[1;33m,\u001b[0m\u001b[1;36m1\u001b[0m\u001b[1;33m,\u001b[0m\u001b[1;36m8\u001b[0m\u001b[1;33m,\u001b[0m\u001b[1;36m3\u001b[0m\u001b[1;33m]\u001b[0m\u001b[1;33m,\u001b[0m \u001b[1;33m[\u001b[0m\u001b[1;36m1\u001b[0m\u001b[1;33m,\u001b[0m\u001b[1;36m2\u001b[0m\u001b[1;33m,\u001b[0m\u001b[1;36m7\u001b[0m\u001b[1;33m,\u001b[0m\u001b[1;36m10\u001b[0m\u001b[1;33m]\u001b[0m\u001b[1;33m,\u001b[0m \u001b[0mh\u001b[0m\u001b[1;33m=\u001b[0m\u001b[1;36m0.001\u001b[0m\u001b[1;33m,\u001b[0m \u001b[0merror_threshold\u001b[0m\u001b[1;33m=\u001b[0m\u001b[1;36m0.01\u001b[0m\u001b[1;33m)\u001b[0m\u001b[1;33m\u001b[0m\u001b[1;33m\u001b[0m\u001b[0m\n\u001b[0m",
      "\u001b[1;32m<ipython-input-17-2651d7850e48>\u001b[0m in \u001b[0;36mgradient_check\u001b[1;34m(self, x, y, h, error_threshold)\u001b[0m\n\u001b[0;32m    160\u001b[0m                 \u001b[1;31m# Estimate the gradient using (f(x+h) - f(x-h))/(2*h)\u001b[0m\u001b[1;33m\u001b[0m\u001b[1;33m\u001b[0m\u001b[1;33m\u001b[0m\u001b[0m\n\u001b[0;32m    161\u001b[0m                 \u001b[0mparameter\u001b[0m\u001b[1;33m[\u001b[0m\u001b[0mix\u001b[0m\u001b[1;33m]\u001b[0m \u001b[1;33m=\u001b[0m \u001b[0moriginal_value\u001b[0m \u001b[1;33m+\u001b[0m \u001b[0mh\u001b[0m\u001b[1;33m\u001b[0m\u001b[1;33m\u001b[0m\u001b[0m\n\u001b[1;32m--> 162\u001b[1;33m                 \u001b[0mgradplus\u001b[0m \u001b[1;33m=\u001b[0m \u001b[0mself\u001b[0m\u001b[1;33m.\u001b[0m\u001b[0mcalcular_riesgo_total\u001b[0m\u001b[1;33m(\u001b[0m\u001b[1;33m[\u001b[0m\u001b[0mx\u001b[0m\u001b[1;33m]\u001b[0m\u001b[1;33m,\u001b[0m\u001b[1;33m[\u001b[0m\u001b[0my\u001b[0m\u001b[1;33m]\u001b[0m\u001b[1;33m)\u001b[0m\u001b[1;33m\u001b[0m\u001b[1;33m\u001b[0m\u001b[0m\n\u001b[0m\u001b[0;32m    163\u001b[0m                 \u001b[0mparameter\u001b[0m\u001b[1;33m[\u001b[0m\u001b[0mix\u001b[0m\u001b[1;33m]\u001b[0m \u001b[1;33m=\u001b[0m \u001b[0moriginal_value\u001b[0m \u001b[1;33m-\u001b[0m \u001b[0mh\u001b[0m\u001b[1;33m\u001b[0m\u001b[1;33m\u001b[0m\u001b[0m\n\u001b[0;32m    164\u001b[0m                 \u001b[0mgradminus\u001b[0m \u001b[1;33m=\u001b[0m \u001b[0mself\u001b[0m\u001b[1;33m.\u001b[0m\u001b[0mcalcular_riesgo_total\u001b[0m\u001b[1;33m(\u001b[0m\u001b[1;33m[\u001b[0m\u001b[0mx\u001b[0m\u001b[1;33m]\u001b[0m\u001b[1;33m,\u001b[0m\u001b[1;33m[\u001b[0m\u001b[0my\u001b[0m\u001b[1;33m]\u001b[0m\u001b[1;33m)\u001b[0m\u001b[1;33m\u001b[0m\u001b[1;33m\u001b[0m\u001b[0m\n",
      "\u001b[1;31mAttributeError\u001b[0m: 'Modelo' object has no attribute 'calcular_riesgo_total'"
     ]
    }
   ],
   "source": [
    "# import operator\n",
    "modelo_test = Modelo(N_in = 35, d = 20, m = 10, N_out = 15)\n",
    "modelo_test.inicializar_pesos()\n",
    "modelo_test.gradient_check([0,1,8,3], [1,2,7,10], h=0.001, error_threshold=0.01)"
   ]
  },
  {
   "cell_type": "markdown",
   "metadata": {},
   "source": [
    "#### Instancio el modelo"
   ]
  },
  {
   "cell_type": "code",
   "execution_count": 19,
   "metadata": {},
   "outputs": [],
   "source": [
    "modelo = Modelo(d = dim_d, m=dim_m, N_in = dim_in, N_out = dim_out)\n",
    "modelo.inicializar_pesos()"
   ]
  },
  {
   "cell_type": "markdown",
   "metadata": {},
   "source": [
    "Comienzo el entrenamiento"
   ]
  },
  {
   "cell_type": "code",
   "execution_count": 20,
   "metadata": {},
   "outputs": [
    {
     "output_type": "display_data",
     "data": {
      "text/plain": "HBox(children=(FloatProgress(value=0.0, max=50.0), HTML(value='')))",
      "application/vnd.jupyter.widget-view+json": {
       "version_major": 2,
       "version_minor": 0,
       "model_id": "514df7ee31574967bbfff0d9aa65e9a1"
      }
     },
     "metadata": {}
    },
    {
     "output_type": "stream",
     "name": "stdout",
     "text": "Epoch   1.\tloss: 0.47560\tacc: 0.41543\tval_loss: 0.33893\tval_acc: 0.50885\nEpoch   6.\tloss: 0.27080\tacc: 0.66505\tval_loss: 0.31368\tval_acc: 0.61905\nEpoch  11.\tloss: 0.24098\tacc: 0.70095\tval_loss: 0.33957\tval_acc: 0.62044\nEpoch  16.\tloss: 0.23900\tacc: 0.69947\tval_loss: 0.34389\tval_acc: 0.61390\nEpoch  21.\tloss: 0.23959\tacc: 0.69958\tval_loss: 0.32868\tval_acc: 0.61141\nEpoch  26.\tloss: 0.23724\tacc: 0.69788\tval_loss: 0.34797\tval_acc: 0.61081\nEpoch  31.\tloss: 0.24479\tacc: 0.68223\tval_loss: 0.33666\tval_acc: 0.60889\nEpoch  36.\tloss: 0.24591\tacc: 0.69016\tval_loss: 0.36017\tval_acc: 0.60625\nEpoch  41.\tloss: 0.24644\tacc: 0.69649\tval_loss: 0.34534\tval_acc: 0.61883\nEpoch  46.\tloss: 0.24090\tacc: 0.70254\tval_loss: 0.35796\tval_acc: 0.61056\n\nWall time: 2min 50s\n"
    }
   ],
   "source": [
    "%%time\n",
    "history = modelo.entrenar(train_Data, val_Data, epochs=50, lr=0.1)"
   ]
  },
  {
   "cell_type": "code",
   "execution_count": 21,
   "metadata": {},
   "outputs": [
    {
     "output_type": "display_data",
     "data": {
      "text/plain": "<Figure size 432x288 with 1 Axes>",
      "image/svg+xml": "<?xml version=\"1.0\" encoding=\"utf-8\" standalone=\"no\"?>\r\n<!DOCTYPE svg PUBLIC \"-//W3C//DTD SVG 1.1//EN\"\r\n  \"http://www.w3.org/Graphics/SVG/1.1/DTD/svg11.dtd\">\r\n<!-- Created with matplotlib (https://matplotlib.org/) -->\r\n<svg height=\"248.518125pt\" version=\"1.1\" viewBox=\"0 0 378.465625 248.518125\" width=\"378.465625pt\" xmlns=\"http://www.w3.org/2000/svg\" xmlns:xlink=\"http://www.w3.org/1999/xlink\">\r\n <defs>\r\n  <style type=\"text/css\">\r\n*{stroke-linecap:butt;stroke-linejoin:round;}\r\n  </style>\r\n </defs>\r\n <g id=\"figure_1\">\r\n  <g id=\"patch_1\">\r\n   <path d=\"M 0 248.518125 \r\nL 378.465625 248.518125 \r\nL 378.465625 0 \r\nL 0 0 \r\nz\r\n\" style=\"fill:none;\"/>\r\n  </g>\r\n  <g id=\"axes_1\">\r\n   <g id=\"patch_2\">\r\n    <path d=\"M 36.465625 224.64 \r\nL 371.265625 224.64 \r\nL 371.265625 7.2 \r\nL 36.465625 7.2 \r\nz\r\n\" style=\"fill:#ffffff;\"/>\r\n   </g>\r\n   <g id=\"matplotlib.axis_1\">\r\n    <g id=\"xtick_1\">\r\n     <g id=\"line2d_1\">\r\n      <defs>\r\n       <path d=\"M 0 0 \r\nL 0 3.5 \r\n\" id=\"m07138bb4bb\" style=\"stroke:#000000;stroke-width:0.8;\"/>\r\n      </defs>\r\n      <g>\r\n       <use style=\"stroke:#000000;stroke-width:0.8;\" x=\"51.683807\" xlink:href=\"#m07138bb4bb\" y=\"224.64\"/>\r\n      </g>\r\n     </g>\r\n     <g id=\"text_1\">\r\n      <!-- 0 -->\r\n      <defs>\r\n       <path d=\"M 31.78125 66.40625 \r\nQ 24.171875 66.40625 20.328125 58.90625 \r\nQ 16.5 51.421875 16.5 36.375 \r\nQ 16.5 21.390625 20.328125 13.890625 \r\nQ 24.171875 6.390625 31.78125 6.390625 \r\nQ 39.453125 6.390625 43.28125 13.890625 \r\nQ 47.125 21.390625 47.125 36.375 \r\nQ 47.125 51.421875 43.28125 58.90625 \r\nQ 39.453125 66.40625 31.78125 66.40625 \r\nz\r\nM 31.78125 74.21875 \r\nQ 44.046875 74.21875 50.515625 64.515625 \r\nQ 56.984375 54.828125 56.984375 36.375 \r\nQ 56.984375 17.96875 50.515625 8.265625 \r\nQ 44.046875 -1.421875 31.78125 -1.421875 \r\nQ 19.53125 -1.421875 13.0625 8.265625 \r\nQ 6.59375 17.96875 6.59375 36.375 \r\nQ 6.59375 54.828125 13.0625 64.515625 \r\nQ 19.53125 74.21875 31.78125 74.21875 \r\nz\r\n\" id=\"DejaVuSans-48\"/>\r\n      </defs>\r\n      <g transform=\"translate(48.502557 239.238438)scale(0.1 -0.1)\">\r\n       <use xlink:href=\"#DejaVuSans-48\"/>\r\n      </g>\r\n     </g>\r\n    </g>\r\n    <g id=\"xtick_2\">\r\n     <g id=\"line2d_2\">\r\n      <g>\r\n       <use style=\"stroke:#000000;stroke-width:0.8;\" x=\"113.798835\" xlink:href=\"#m07138bb4bb\" y=\"224.64\"/>\r\n      </g>\r\n     </g>\r\n     <g id=\"text_2\">\r\n      <!-- 10 -->\r\n      <defs>\r\n       <path d=\"M 12.40625 8.296875 \r\nL 28.515625 8.296875 \r\nL 28.515625 63.921875 \r\nL 10.984375 60.40625 \r\nL 10.984375 69.390625 \r\nL 28.421875 72.90625 \r\nL 38.28125 72.90625 \r\nL 38.28125 8.296875 \r\nL 54.390625 8.296875 \r\nL 54.390625 0 \r\nL 12.40625 0 \r\nz\r\n\" id=\"DejaVuSans-49\"/>\r\n      </defs>\r\n      <g transform=\"translate(107.436335 239.238438)scale(0.1 -0.1)\">\r\n       <use xlink:href=\"#DejaVuSans-49\"/>\r\n       <use x=\"63.623047\" xlink:href=\"#DejaVuSans-48\"/>\r\n      </g>\r\n     </g>\r\n    </g>\r\n    <g id=\"xtick_3\">\r\n     <g id=\"line2d_3\">\r\n      <g>\r\n       <use style=\"stroke:#000000;stroke-width:0.8;\" x=\"175.913862\" xlink:href=\"#m07138bb4bb\" y=\"224.64\"/>\r\n      </g>\r\n     </g>\r\n     <g id=\"text_3\">\r\n      <!-- 20 -->\r\n      <defs>\r\n       <path d=\"M 19.1875 8.296875 \r\nL 53.609375 8.296875 \r\nL 53.609375 0 \r\nL 7.328125 0 \r\nL 7.328125 8.296875 \r\nQ 12.9375 14.109375 22.625 23.890625 \r\nQ 32.328125 33.6875 34.8125 36.53125 \r\nQ 39.546875 41.84375 41.421875 45.53125 \r\nQ 43.3125 49.21875 43.3125 52.78125 \r\nQ 43.3125 58.59375 39.234375 62.25 \r\nQ 35.15625 65.921875 28.609375 65.921875 \r\nQ 23.96875 65.921875 18.8125 64.3125 \r\nQ 13.671875 62.703125 7.8125 59.421875 \r\nL 7.8125 69.390625 \r\nQ 13.765625 71.78125 18.9375 73 \r\nQ 24.125 74.21875 28.421875 74.21875 \r\nQ 39.75 74.21875 46.484375 68.546875 \r\nQ 53.21875 62.890625 53.21875 53.421875 \r\nQ 53.21875 48.921875 51.53125 44.890625 \r\nQ 49.859375 40.875 45.40625 35.40625 \r\nQ 44.1875 33.984375 37.640625 27.21875 \r\nQ 31.109375 20.453125 19.1875 8.296875 \r\nz\r\n\" id=\"DejaVuSans-50\"/>\r\n      </defs>\r\n      <g transform=\"translate(169.551362 239.238438)scale(0.1 -0.1)\">\r\n       <use xlink:href=\"#DejaVuSans-50\"/>\r\n       <use x=\"63.623047\" xlink:href=\"#DejaVuSans-48\"/>\r\n      </g>\r\n     </g>\r\n    </g>\r\n    <g id=\"xtick_4\">\r\n     <g id=\"line2d_4\">\r\n      <g>\r\n       <use style=\"stroke:#000000;stroke-width:0.8;\" x=\"238.02889\" xlink:href=\"#m07138bb4bb\" y=\"224.64\"/>\r\n      </g>\r\n     </g>\r\n     <g id=\"text_4\">\r\n      <!-- 30 -->\r\n      <defs>\r\n       <path d=\"M 40.578125 39.3125 \r\nQ 47.65625 37.796875 51.625 33 \r\nQ 55.609375 28.21875 55.609375 21.1875 \r\nQ 55.609375 10.40625 48.1875 4.484375 \r\nQ 40.765625 -1.421875 27.09375 -1.421875 \r\nQ 22.515625 -1.421875 17.65625 -0.515625 \r\nQ 12.796875 0.390625 7.625 2.203125 \r\nL 7.625 11.71875 \r\nQ 11.71875 9.328125 16.59375 8.109375 \r\nQ 21.484375 6.890625 26.8125 6.890625 \r\nQ 36.078125 6.890625 40.9375 10.546875 \r\nQ 45.796875 14.203125 45.796875 21.1875 \r\nQ 45.796875 27.640625 41.28125 31.265625 \r\nQ 36.765625 34.90625 28.71875 34.90625 \r\nL 20.21875 34.90625 \r\nL 20.21875 43.015625 \r\nL 29.109375 43.015625 \r\nQ 36.375 43.015625 40.234375 45.921875 \r\nQ 44.09375 48.828125 44.09375 54.296875 \r\nQ 44.09375 59.90625 40.109375 62.90625 \r\nQ 36.140625 65.921875 28.71875 65.921875 \r\nQ 24.65625 65.921875 20.015625 65.03125 \r\nQ 15.375 64.15625 9.8125 62.3125 \r\nL 9.8125 71.09375 \r\nQ 15.4375 72.65625 20.34375 73.4375 \r\nQ 25.25 74.21875 29.59375 74.21875 \r\nQ 40.828125 74.21875 47.359375 69.109375 \r\nQ 53.90625 64.015625 53.90625 55.328125 \r\nQ 53.90625 49.265625 50.4375 45.09375 \r\nQ 46.96875 40.921875 40.578125 39.3125 \r\nz\r\n\" id=\"DejaVuSans-51\"/>\r\n      </defs>\r\n      <g transform=\"translate(231.66639 239.238438)scale(0.1 -0.1)\">\r\n       <use xlink:href=\"#DejaVuSans-51\"/>\r\n       <use x=\"63.623047\" xlink:href=\"#DejaVuSans-48\"/>\r\n      </g>\r\n     </g>\r\n    </g>\r\n    <g id=\"xtick_5\">\r\n     <g id=\"line2d_5\">\r\n      <g>\r\n       <use style=\"stroke:#000000;stroke-width:0.8;\" x=\"300.143918\" xlink:href=\"#m07138bb4bb\" y=\"224.64\"/>\r\n      </g>\r\n     </g>\r\n     <g id=\"text_5\">\r\n      <!-- 40 -->\r\n      <defs>\r\n       <path d=\"M 37.796875 64.3125 \r\nL 12.890625 25.390625 \r\nL 37.796875 25.390625 \r\nz\r\nM 35.203125 72.90625 \r\nL 47.609375 72.90625 \r\nL 47.609375 25.390625 \r\nL 58.015625 25.390625 \r\nL 58.015625 17.1875 \r\nL 47.609375 17.1875 \r\nL 47.609375 0 \r\nL 37.796875 0 \r\nL 37.796875 17.1875 \r\nL 4.890625 17.1875 \r\nL 4.890625 26.703125 \r\nz\r\n\" id=\"DejaVuSans-52\"/>\r\n      </defs>\r\n      <g transform=\"translate(293.781418 239.238438)scale(0.1 -0.1)\">\r\n       <use xlink:href=\"#DejaVuSans-52\"/>\r\n       <use x=\"63.623047\" xlink:href=\"#DejaVuSans-48\"/>\r\n      </g>\r\n     </g>\r\n    </g>\r\n    <g id=\"xtick_6\">\r\n     <g id=\"line2d_6\">\r\n      <g>\r\n       <use style=\"stroke:#000000;stroke-width:0.8;\" x=\"362.258946\" xlink:href=\"#m07138bb4bb\" y=\"224.64\"/>\r\n      </g>\r\n     </g>\r\n     <g id=\"text_6\">\r\n      <!-- 50 -->\r\n      <defs>\r\n       <path d=\"M 10.796875 72.90625 \r\nL 49.515625 72.90625 \r\nL 49.515625 64.59375 \r\nL 19.828125 64.59375 \r\nL 19.828125 46.734375 \r\nQ 21.96875 47.46875 24.109375 47.828125 \r\nQ 26.265625 48.1875 28.421875 48.1875 \r\nQ 40.625 48.1875 47.75 41.5 \r\nQ 54.890625 34.8125 54.890625 23.390625 \r\nQ 54.890625 11.625 47.5625 5.09375 \r\nQ 40.234375 -1.421875 26.90625 -1.421875 \r\nQ 22.3125 -1.421875 17.546875 -0.640625 \r\nQ 12.796875 0.140625 7.71875 1.703125 \r\nL 7.71875 11.625 \r\nQ 12.109375 9.234375 16.796875 8.0625 \r\nQ 21.484375 6.890625 26.703125 6.890625 \r\nQ 35.15625 6.890625 40.078125 11.328125 \r\nQ 45.015625 15.765625 45.015625 23.390625 \r\nQ 45.015625 31 40.078125 35.4375 \r\nQ 35.15625 39.890625 26.703125 39.890625 \r\nQ 22.75 39.890625 18.8125 39.015625 \r\nQ 14.890625 38.140625 10.796875 36.28125 \r\nz\r\n\" id=\"DejaVuSans-53\"/>\r\n      </defs>\r\n      <g transform=\"translate(355.896446 239.238438)scale(0.1 -0.1)\">\r\n       <use xlink:href=\"#DejaVuSans-53\"/>\r\n       <use x=\"63.623047\" xlink:href=\"#DejaVuSans-48\"/>\r\n      </g>\r\n     </g>\r\n    </g>\r\n   </g>\r\n   <g id=\"matplotlib.axis_2\">\r\n    <g id=\"ytick_1\">\r\n     <g id=\"line2d_7\">\r\n      <defs>\r\n       <path d=\"M 0 0 \r\nL -3.5 0 \r\n\" id=\"mb9fc14a332\" style=\"stroke:#000000;stroke-width:0.8;\"/>\r\n      </defs>\r\n      <g>\r\n       <use style=\"stroke:#000000;stroke-width:0.8;\" x=\"36.465625\" xlink:href=\"#mb9fc14a332\" y=\"202.302964\"/>\r\n      </g>\r\n     </g>\r\n     <g id=\"text_7\">\r\n      <!-- 0.25 -->\r\n      <defs>\r\n       <path d=\"M 10.6875 12.40625 \r\nL 21 12.40625 \r\nL 21 0 \r\nL 10.6875 0 \r\nz\r\n\" id=\"DejaVuSans-46\"/>\r\n      </defs>\r\n      <g transform=\"translate(7.2 206.102183)scale(0.1 -0.1)\">\r\n       <use xlink:href=\"#DejaVuSans-48\"/>\r\n       <use x=\"63.623047\" xlink:href=\"#DejaVuSans-46\"/>\r\n       <use x=\"95.410156\" xlink:href=\"#DejaVuSans-50\"/>\r\n       <use x=\"159.033203\" xlink:href=\"#DejaVuSans-53\"/>\r\n      </g>\r\n     </g>\r\n    </g>\r\n    <g id=\"ytick_2\">\r\n     <g id=\"line2d_8\">\r\n      <g>\r\n       <use style=\"stroke:#000000;stroke-width:0.8;\" x=\"36.465625\" xlink:href=\"#mb9fc14a332\" y=\"161.251812\"/>\r\n      </g>\r\n     </g>\r\n     <g id=\"text_8\">\r\n      <!-- 0.30 -->\r\n      <g transform=\"translate(7.2 165.05103)scale(0.1 -0.1)\">\r\n       <use xlink:href=\"#DejaVuSans-48\"/>\r\n       <use x=\"63.623047\" xlink:href=\"#DejaVuSans-46\"/>\r\n       <use x=\"95.410156\" xlink:href=\"#DejaVuSans-51\"/>\r\n       <use x=\"159.033203\" xlink:href=\"#DejaVuSans-48\"/>\r\n      </g>\r\n     </g>\r\n    </g>\r\n    <g id=\"ytick_3\">\r\n     <g id=\"line2d_9\">\r\n      <g>\r\n       <use style=\"stroke:#000000;stroke-width:0.8;\" x=\"36.465625\" xlink:href=\"#mb9fc14a332\" y=\"120.200659\"/>\r\n      </g>\r\n     </g>\r\n     <g id=\"text_9\">\r\n      <!-- 0.35 -->\r\n      <g transform=\"translate(7.2 123.999878)scale(0.1 -0.1)\">\r\n       <use xlink:href=\"#DejaVuSans-48\"/>\r\n       <use x=\"63.623047\" xlink:href=\"#DejaVuSans-46\"/>\r\n       <use x=\"95.410156\" xlink:href=\"#DejaVuSans-51\"/>\r\n       <use x=\"159.033203\" xlink:href=\"#DejaVuSans-53\"/>\r\n      </g>\r\n     </g>\r\n    </g>\r\n    <g id=\"ytick_4\">\r\n     <g id=\"line2d_10\">\r\n      <g>\r\n       <use style=\"stroke:#000000;stroke-width:0.8;\" x=\"36.465625\" xlink:href=\"#mb9fc14a332\" y=\"79.149507\"/>\r\n      </g>\r\n     </g>\r\n     <g id=\"text_10\">\r\n      <!-- 0.40 -->\r\n      <g transform=\"translate(7.2 82.948726)scale(0.1 -0.1)\">\r\n       <use xlink:href=\"#DejaVuSans-48\"/>\r\n       <use x=\"63.623047\" xlink:href=\"#DejaVuSans-46\"/>\r\n       <use x=\"95.410156\" xlink:href=\"#DejaVuSans-52\"/>\r\n       <use x=\"159.033203\" xlink:href=\"#DejaVuSans-48\"/>\r\n      </g>\r\n     </g>\r\n    </g>\r\n    <g id=\"ytick_5\">\r\n     <g id=\"line2d_11\">\r\n      <g>\r\n       <use style=\"stroke:#000000;stroke-width:0.8;\" x=\"36.465625\" xlink:href=\"#mb9fc14a332\" y=\"38.098355\"/>\r\n      </g>\r\n     </g>\r\n     <g id=\"text_11\">\r\n      <!-- 0.45 -->\r\n      <g transform=\"translate(7.2 41.897574)scale(0.1 -0.1)\">\r\n       <use xlink:href=\"#DejaVuSans-48\"/>\r\n       <use x=\"63.623047\" xlink:href=\"#DejaVuSans-46\"/>\r\n       <use x=\"95.410156\" xlink:href=\"#DejaVuSans-52\"/>\r\n       <use x=\"159.033203\" xlink:href=\"#DejaVuSans-53\"/>\r\n      </g>\r\n     </g>\r\n    </g>\r\n   </g>\r\n   <g id=\"line2d_12\">\r\n    <path clip-path=\"url(#p82b14b85af)\" d=\"M 51.683807 17.083636 \r\nL 57.89531 146.290962 \r\nL 64.106812 165.716998 \r\nL 70.318315 190.11392 \r\nL 76.529818 181.890622 \r\nL 82.741321 185.227425 \r\nL 88.952824 199.200972 \r\nL 95.164326 203.464425 \r\nL 101.375829 207.370427 \r\nL 107.587332 209.403835 \r\nL 113.798835 209.70601 \r\nL 120.010337 212.06097 \r\nL 126.22184 212.096807 \r\nL 132.433343 210.191074 \r\nL 138.644846 209.826717 \r\nL 144.856349 211.331467 \r\nL 151.067851 210.76284 \r\nL 157.279354 211.39431 \r\nL 163.490857 208.039237 \r\nL 169.70236 214.756364 \r\nL 175.913862 210.853635 \r\nL 182.125365 210.748539 \r\nL 188.336868 209.997233 \r\nL 194.548371 210.214374 \r\nL 200.759874 209.837231 \r\nL 206.971376 212.775329 \r\nL 213.182879 209.437289 \r\nL 219.394382 211.783169 \r\nL 225.605885 210.876463 \r\nL 231.817388 210.299146 \r\nL 238.02889 206.581154 \r\nL 244.240393 205.696875 \r\nL 250.451896 206.971533 \r\nL 256.663399 207.847372 \r\nL 262.874901 206.897938 \r\nL 269.086404 205.660486 \r\nL 275.297907 206.264109 \r\nL 281.50941 204.573526 \r\nL 287.720913 208.449955 \r\nL 293.932415 206.881847 \r\nL 300.143918 205.223642 \r\nL 306.355421 209.960037 \r\nL 312.566924 210.27759 \r\nL 318.778426 207.472718 \r\nL 324.989929 210.905847 \r\nL 331.201432 209.778105 \r\nL 337.412935 208.118069 \r\nL 343.624438 198.891711 \r\nL 349.83594 202.044136 \r\nL 356.047443 186.369617 \r\n\" style=\"fill:none;stroke:#0000ff;stroke-linecap:square;stroke-width:1.5;\"/>\r\n   </g>\r\n   <g id=\"line2d_13\">\r\n    <path clip-path=\"url(#p82b14b85af)\" d=\"M 51.683807 129.28955 \r\nL 57.89531 123.406258 \r\nL 64.106812 143.847931 \r\nL 70.318315 144.666063 \r\nL 76.529818 137.200892 \r\nL 82.741321 150.016917 \r\nL 88.952824 150.912934 \r\nL 95.164326 142.217672 \r\nL 101.375829 109.071401 \r\nL 107.587332 140.040169 \r\nL 113.798835 128.761445 \r\nL 120.010337 144.910518 \r\nL 126.22184 120.796299 \r\nL 132.433343 141.519793 \r\nL 138.644846 132.344092 \r\nL 144.856349 125.215246 \r\nL 151.067851 131.984355 \r\nL 157.279354 132.56647 \r\nL 163.490857 125.836959 \r\nL 169.70236 123.508431 \r\nL 175.913862 137.701349 \r\nL 182.125365 126.478797 \r\nL 188.336868 131.538922 \r\nL 194.548371 117.789989 \r\nL 200.759874 113.312146 \r\nL 206.971376 121.863314 \r\nL 213.182879 128.616413 \r\nL 219.394382 121.789856 \r\nL 225.605885 81.985215 \r\nL 231.817388 116.717648 \r\nL 238.02889 131.152697 \r\nL 244.240393 128.390202 \r\nL 250.451896 118.799845 \r\nL 256.663399 123.838944 \r\nL 262.874901 118.28569 \r\nL 269.086404 111.852723 \r\nL 275.297907 123.776738 \r\nL 281.50941 127.2346 \r\nL 287.720913 114.448676 \r\nL 293.932415 126.608215 \r\nL 300.143918 124.029473 \r\nL 306.355421 128.013384 \r\nL 312.566924 118.433326 \r\nL 318.778426 114.485144 \r\nL 324.989929 117.881019 \r\nL 331.201432 113.664401 \r\nL 337.412935 127.379413 \r\nL 343.624438 125.29076 \r\nL 349.83594 129.441275 \r\nL 356.047443 73.147391 \r\n\" style=\"fill:none;stroke:#ff0000;stroke-linecap:square;stroke-width:1.5;\"/>\r\n   </g>\r\n   <g id=\"patch_3\">\r\n    <path d=\"M 36.465625 224.64 \r\nL 36.465625 7.2 \r\n\" style=\"fill:none;stroke:#000000;stroke-linecap:square;stroke-linejoin:miter;stroke-width:0.8;\"/>\r\n   </g>\r\n   <g id=\"patch_4\">\r\n    <path d=\"M 371.265625 224.64 \r\nL 371.265625 7.2 \r\n\" style=\"fill:none;stroke:#000000;stroke-linecap:square;stroke-linejoin:miter;stroke-width:0.8;\"/>\r\n   </g>\r\n   <g id=\"patch_5\">\r\n    <path d=\"M 36.465625 224.64 \r\nL 371.265625 224.64 \r\n\" style=\"fill:none;stroke:#000000;stroke-linecap:square;stroke-linejoin:miter;stroke-width:0.8;\"/>\r\n   </g>\r\n   <g id=\"patch_6\">\r\n    <path d=\"M 36.465625 7.2 \r\nL 371.265625 7.2 \r\n\" style=\"fill:none;stroke:#000000;stroke-linecap:square;stroke-linejoin:miter;stroke-width:0.8;\"/>\r\n   </g>\r\n  </g>\r\n </g>\r\n <defs>\r\n  <clipPath id=\"p82b14b85af\">\r\n   <rect height=\"217.44\" width=\"334.8\" x=\"36.465625\" y=\"7.2\"/>\r\n  </clipPath>\r\n </defs>\r\n</svg>\r\n",
      "image/png": "[encoded data removed]"
     },
     "metadata": {
      "needs_background": "light"
     }
    }
   ],
   "source": [
    "plt.plot(history['train']['loss'], color='blue')\n",
    "plt.plot(history['val']['loss'], color='red')\n",
    "plt.show()"
   ]
  },
  {
   "cell_type": "code",
   "execution_count": 84,
   "metadata": {},
   "outputs": [
    {
     "output_type": "execute_result",
     "data": {
      "text/plain": "array([0, 2, 6, 4, 4, 4, 0, 2, 6, 4, 4, 0, 0, 0, 0, 0, 5, 0, 0, 0, 0, 0,\n       0, 0, 0], dtype=int64)"
     },
     "metadata": {},
     "execution_count": 84
    }
   ],
   "source": [
    "modelo.predecir(train_Data[0][0])"
   ]
  },
  {
   "cell_type": "markdown",
   "metadata": {},
   "source": [
    "\n",
    "5. Evaluar el desempeño del sistema a partir del corpus de evaluación y con la métrica de Exactitud (Accuracy).\n",
    "6. Ejemplificar el reconocimiento de entidades nombradas con 5 sentencias del corpus de evaluación."
   ]
  }
 ],
 "metadata": {
  "language_info": {
   "codemirror_mode": {
    "name": "ipython",
    "version": 3
   },
   "file_extension": ".py",
   "mimetype": "text/x-python",
   "name": "python",
   "nbconvert_exporter": "python",
   "pygments_lexer": "ipython3",
   "version": "3.7.4-final"
  },
  "orig_nbformat": 2,
  "kernelspec": {
   "name": "python3",
   "display_name": "Python 3"
  }
 },
 "nbformat": 4,
 "nbformat_minor": 2
}