{
 "cells": [
  {
   "cell_type": "markdown",
   "metadata": {},
   "source": [
    "# Práctica 2\n",
    "\n",
    "Procesamiento de Lenguaje Natural\n",
    "Facultad de Ingeniería, UNAM\n",
    "\n",
    "González Flores Andrés"
   ]
  },
  {
   "cell_type": "markdown",
   "metadata": {},
   "source": [
    "## Instrucciones\n",
    "\n",
    "A partir del corpus proporcionado (\"corpusML.txt\") realizar un modelo del lenguaje neuronal con base en la arquitectura propuesta por Bengio (2003).\n",
    "\n",
    "Síganse los siguientes pasos:\n",
    "\n",
    "1. Limpiar los textos y aplicar stemming a las palabras.\n",
    "2. Insertar símbolos de inicio y final de cadena.\n",
    "3. Obtener los bigramas que aparecen en el texto (indexar numéricamente).\n",
    "4. Entrenar con los bigramas la red neuronal y obtener los valores para los hiperparámetros. Tomar de 100 unidades para la primera capa oculta (capa lineal) y 300 para la segunda capa oculta (capa con tanh).\n",
    "5. Obtener las matrices $A$ y $\\Pi$ a partir de las salidas de la red neuornal (probabilidad Softmax).\n",
    "6. Evaluar el modelo (con Entropía).\n",
    "7. Calcular la proabilidad de las siguientes oraciones:\n",
    "    - Nos bañamos con agua caliente\n",
    "    - El animalito le olía la cabeza\n",
    "    - Pascuala ordeñaba las vacas"
   ]
  },
  {
   "cell_type": "markdown",
   "metadata": {},
   "source": [
    "## Desarrollo"
   ]
  },
  {
   "cell_type": "code",
   "execution_count": 1,
   "metadata": {},
   "outputs": [],
   "source": [
    "# Importar módulos\n",
    "import numpy as np\n",
    "import re\n",
    "from nltk import SnowballStemmer\n",
    "from collections import Counter, defaultdict\n",
    "from sklearn.model_selection import train_test_split\n",
    "import matplotlib.pyplot as plt\n",
    "from itertools import chain\n",
    "from tqdm.notebook import tqdm as nbtqdm\n",
    "from tqdm.auto import tqdm"
   ]
  },
  {
   "cell_type": "code",
   "execution_count": 2,
   "metadata": {},
   "outputs": [],
   "source": [
    "# Definición de constantes\n",
    "np.random.seed(420)\n",
    "stemmer_esp = SnowballStemmer('spanish')\n",
    "CORPUS_PATH = './Data/corpusML.txt'\n",
    "BOS = '<BOS>'\n",
    "EOS = '<EOS>'\n",
    "UNK = '<unk>'"
   ]
  },
  {
   "cell_type": "markdown",
   "metadata": {},
   "source": [
    "### Paso 1\n",
    "\n",
    "Limpiar los textos y aplicar stemming a las palabras."
   ]
  },
  {
   "cell_type": "code",
   "execution_count": 3,
   "metadata": {},
   "outputs": [
    {
     "name": "stdout",
     "output_type": "stream",
     "text": [
      "['comenc', 'a', 'trabaj', 'y', 'me', 'peg', 'me', 'maltrat', 'con', 'chicot']\n",
      "['mis', 'patron', 'me', 'peg', 'porqu', 'no', 'me', 'quer', 'apur', 'porqu', 'era', 'floj']\n",
      "['por', 'eso', 'me', 'hab', 'peg']\n",
      "['cuand', 'me', 'peg', 'ya', 'entonc', 'me', 'quit']\n",
      "['pues', 'entonc', 'no', 'quis', 'trabaj']\n"
     ]
    }
   ],
   "source": [
    "with open(CORPUS_PATH, 'r', encoding='utf-8') as f:\n",
    "    corpus = [\n",
    "        list(map(lambda token: stemmer_esp.stem(token), # Mapeo cada token a su stem\n",
    "            re.findall('[a-zA-zñáéíóúü]+', linea.lower()) # Devuelve una lista con todas las ocurrencias que coincidan con la regex\n",
    "        ))\n",
    "        for linea in f\n",
    "    ]\n",
    "    for docs in corpus[:5]:\n",
    "        print(docs) # Muestro 5 ejemplos"
   ]
  },
  {
   "cell_type": "markdown",
   "metadata": {},
   "source": [
    "Divido el corpus en entrenamiento y evaluación"
   ]
  },
  {
   "cell_type": "code",
   "execution_count": 4,
   "metadata": {},
   "outputs": [
    {
     "name": "stdout",
     "output_type": "stream",
     "text": [
      "\n",
      "Tamaño del corpus de entrenamiento: 751\n",
      "Ejemplos:\n",
      "['per', 'pues', 'si', 'el', 'padr', 'del', 'hombr', 'quer', 'lo', 'iba', 'a', 'dej']\n",
      "['hem', 'fabric', 'un', 'temascal', 'par', 'bañ']\n",
      "['ni', 'par', 'el', 'jabon', 'encontr']\n",
      "['mi', 'difunt', 'padrecit', 'fue', 'qui', 'me', 'cur']\n",
      "['se', 'traslad', 'de', 'igual', 'maner', 'y', 'se', 'le', 'mov', 'el', 'pal']\n",
      "\n",
      "Tamaño del corpus de evaluación: 323\n",
      "Ejemplos:\n",
      "  ['y', 'cuart', 'par', 'que', 'vay', 'dos', 'segund', 'palm']\n",
      "  ['le', 'dig', 'pues', 'que', 'no', 'es', 'tu', 'tambor', 'le', 'dig']\n",
      "  ['com', 'tambien', 'se', 'llen', 'de', 'agu']\n",
      "  ['juan', 'se', 'cay', 'del', 'tech']\n",
      "  ['sobr', 'un', 'refresquit', 'y', 'algo', 'de', 'vinit']\n"
     ]
    }
   ],
   "source": [
    "train_corpus, eval_corpus = train_test_split(corpus, test_size=0.3)\n",
    "\n",
    "print(f'\\nTamaño del corpus de entrenamiento: {len(train_corpus)}')\n",
    "print('Ejemplos:')\n",
    "for docs in train_corpus[:5]:\n",
    "        print(docs) # Muestro 5 ejemplos\n",
    "\n",
    "print(f'\\nTamaño del corpus de evaluación: {len(eval_corpus)}')\n",
    "print('Ejemplos:')\n",
    "for docs in eval_corpus[:5]:\n",
    "        print(' ', docs) # Muestro 5 ejemplos"
   ]
  },
  {
   "cell_type": "markdown",
   "metadata": {},
   "source": [
    "Muestro la curva de zipf"
   ]
  },
  {
   "cell_type": "code",
   "execution_count": 5,
   "metadata": {},
   "outputs": [
    {
     "data": {
      "image/png": "[encoded data removed]",
      "text/plain": [
       "<Figure size 432x288 with 1 Axes>"
      ]
     },
     "metadata": {
      "needs_background": "light"
     },
     "output_type": "display_data"
    }
   ],
   "source": [
    "frec = sum([Counter(doc) for doc in train_corpus], Counter())\n",
    "\n",
    "plt.plot(sorted(frec.values(), reverse=True), 'o')\n",
    "plt.xlabel('rango')\n",
    "plt.ylabel('frecuencia')\n",
    "plt.xscale('log')\n",
    "plt.yscale('log')\n",
    "plt.title('Curva de Zipf de datos de entrenamiento')\n",
    "plt.show()"
   ]
  },
  {
   "cell_type": "markdown",
   "metadata": {},
   "source": [
    "Sustituyo los hapax por el identificador <unk\\>"
   ]
  },
  {
   "cell_type": "code",
   "execution_count": 6,
   "metadata": {},
   "outputs": [
    {
     "name": "stdout",
     "output_type": "stream",
     "text": [
      "Ejemplos:\n",
      "['per', 'pues', 'si', 'el', 'padr', 'del', 'hombr', 'quer', 'lo', 'iba', 'a', 'dej']\n",
      "['hem', 'fabric', 'un', 'temascal', 'par', 'bañ']\n",
      "['ni', 'par', 'el', 'jabon', 'encontr']\n",
      "['mi', 'difunt', 'padrecit', 'fue', 'qui', 'me', 'cur']\n",
      "['se', 'traslad', 'de', 'igual', '<unk>', 'y', 'se', 'le', 'mov', 'el', 'pal']\n"
     ]
    }
   ],
   "source": [
    "train_corpus_unk = [\n",
    "    [\n",
    "        # Si la frecuencia de la palabra es 1, se sustituye por UNK\n",
    "        (UNK if frec[w] == 1 else w)\n",
    "        for w in doc\n",
    "    ] \n",
    "    for doc in train_corpus \n",
    "]\n",
    "\n",
    "print('Ejemplos:')\n",
    "for docs in train_corpus_unk[:5]:\n",
    "        print(docs) # Muestro 5 ejemplos"
   ]
  },
  {
   "cell_type": "markdown",
   "metadata": {},
   "source": [
    "### Paso 2\n",
    "\n",
    "Insertar símbolos de inicio y final de cadena."
   ]
  },
  {
   "cell_type": "code",
   "execution_count": 7,
   "metadata": {},
   "outputs": [
    {
     "name": "stdout",
     "output_type": "stream",
     "text": [
      "['<BOS>', 'per', 'pues', 'si', 'el', 'padr', 'del', 'hombr', 'quer', 'lo', 'iba', 'a', 'dej', '<EOS>']\n",
      "['<BOS>', 'hem', 'fabric', 'un', 'temascal', 'par', 'bañ', '<EOS>']\n",
      "['<BOS>', 'ni', 'par', 'el', 'jabon', 'encontr', '<EOS>']\n",
      "['<BOS>', 'mi', 'difunt', 'padrecit', 'fue', 'qui', 'me', 'cur', '<EOS>']\n",
      "['<BOS>', 'se', 'traslad', 'de', 'igual', '<unk>', 'y', 'se', 'le', 'mov', 'el', 'pal', '<EOS>']\n"
     ]
    }
   ],
   "source": [
    "train_corpus_unk = list(map(lambda doc: [BOS, *doc, EOS], train_corpus_unk))\n",
    "for doc in train_corpus_unk[:5]:\n",
    "    print(doc)"
   ]
  },
  {
   "cell_type": "markdown",
   "metadata": {},
   "source": [
    "### Paso 3\n",
    "\n",
    "Obtener los bigramas que aparecen en el texto (indexar numéricamente)."
   ]
  },
  {
   "cell_type": "code",
   "execution_count": 8,
   "metadata": {},
   "outputs": [
    {
     "name": "stdout",
     "output_type": "stream",
     "text": [
      "Ejemplos de palabras en el vocabulario\n",
      "  <BOS> : 0\n",
      "  per : 1\n",
      "  pues : 2\n",
      "  si : 3\n",
      "  el : 4\n",
      "  padr : 5\n",
      "  del : 6\n",
      "  hombr : 7\n",
      "  quer : 8\n",
      "  lo : 9\n",
      "\n",
      "Ejemplos de oraciones indexadas numéricamente\n",
      "  [0, 1, 2, 3, 4, 5, 6, 7, 8, 9, 10, 11, 12, 13]\n",
      "  [0, 14, 15, 16, 17, 18, 19, 13]\n",
      "  [0, 20, 18, 4, 21, 22, 13]\n",
      "  [0, 23, 24, 25, 26, 27, 28, 29, 13]\n",
      "  [0, 30, 31, 32, 33, 34, 35, 30, 36, 37, 4, 38, 13]\n",
      "  [0, 39, 40, 41, 42, 18, 43, 13]\n"
     ]
    }
   ],
   "source": [
    "# Indexo numéricamente los stems\n",
    "vocab = defaultdict() \n",
    "# El método default_factory sirve para asignar un nuevo valor por defecto\n",
    "# en caso de no encontrar el indice dado\n",
    "vocab.default_factory = lambda: len(vocab)\n",
    "\n",
    "# Indexo numéricamente las palabras en los documentos\n",
    "corpus_ids = [[vocab[w] for w in doc] for doc in train_corpus_unk]\n",
    "\n",
    "print('Ejemplos de palabras en el vocabulario')\n",
    "for palabra, i in list(vocab.items())[:10]:\n",
    "    print(f'  {palabra} : {i}')\n",
    "\n",
    "print('\\nEjemplos de oraciones indexadas numéricamente')\n",
    "for doc in corpus_ids[:6]:\n",
    "    print(' ', doc)"
   ]
  },
  {
   "cell_type": "code",
   "execution_count": 9,
   "metadata": {},
   "outputs": [],
   "source": [
    "inv_vocab = { item : key for key, item in vocab.items()}"
   ]
  },
  {
   "cell_type": "markdown",
   "metadata": {},
   "source": [
    "```doc[:-1]``` toma todos las cadenas de un documento (frase) excepto la última\n",
    "\n",
    "```doc[1:]``` toma todos las cadenas de un documento (frase) excepto la primera\n",
    "\n",
    "Con zip, uno una cadena de la primer lista con una de la segunda en tuplas (bigramas)"
   ]
  },
  {
   "cell_type": "code",
   "execution_count": 10,
   "metadata": {},
   "outputs": [
    {
     "data": {
      "text/plain": [
       "[('<BOS>', 'per'),\n",
       " ('per', 'pues'),\n",
       " ('pues', 'si'),\n",
       " ('si', 'el'),\n",
       " ('el', 'padr'),\n",
       " ('padr', 'del'),\n",
       " ('del', 'hombr'),\n",
       " ('hombr', 'quer'),\n",
       " ('quer', 'lo'),\n",
       " ('lo', 'iba'),\n",
       " ('iba', 'a'),\n",
       " ('a', 'dej'),\n",
       " ('dej', '<EOS>'),\n",
       " ('<BOS>', 'hem'),\n",
       " ('hem', 'fabric'),\n",
       " ('fabric', 'un'),\n",
       " ('un', 'temascal'),\n",
       " ('temascal', 'par'),\n",
       " ('par', 'bañ'),\n",
       " ('bañ', '<EOS>')]"
      ]
     },
     "execution_count": 10,
     "metadata": {},
     "output_type": "execute_result"
    }
   ],
   "source": [
    "bigramas = [bi for doc in train_corpus_unk for bi in zip(doc[:-1], doc[1:])]\n",
    "\n",
    "bigramas[:20] # Ejemplos con cadenas"
   ]
  },
  {
   "cell_type": "code",
   "execution_count": 11,
   "metadata": {},
   "outputs": [
    {
     "data": {
      "text/plain": [
       "[(0, 1),\n",
       " (1, 2),\n",
       " (2, 3),\n",
       " (3, 4),\n",
       " (4, 5),\n",
       " (5, 6),\n",
       " (6, 7),\n",
       " (7, 8),\n",
       " (8, 9),\n",
       " (9, 10),\n",
       " (10, 11),\n",
       " (11, 12),\n",
       " (12, 13),\n",
       " (0, 14),\n",
       " (14, 15),\n",
       " (15, 16),\n",
       " (16, 17),\n",
       " (17, 18),\n",
       " (18, 19),\n",
       " (19, 13)]"
      ]
     },
     "execution_count": 11,
     "metadata": {},
     "output_type": "execute_result"
    }
   ],
   "source": [
    "bigramas_ids = [bi for doc in corpus_ids for bi in zip(doc[:-1], doc[1:])]\n",
    "bigramas_ids[:20] # Ejemplos de bigramas indexados numéricamente"
   ]
  },
  {
   "cell_type": "markdown",
   "metadata": {},
   "source": [
    "### Paso 4\n",
    "\n",
    "Entrenar con los bigramas la red neuronal y obtener los valores para los hiperparámetros. Tomar de 100 unidades para la primera capa oculta (capa lineal) y 300 para la segunda capa oculta (capa con tanh)."
   ]
  },
  {
   "cell_type": "code",
   "execution_count": 12,
   "metadata": {},
   "outputs": [
    {
     "name": "stdout",
     "output_type": "stream",
     "text": [
      "Tamaño del vocabulario:  493\n"
     ]
    }
   ],
   "source": [
    "# Hiperparámetros\n",
    "d = 100# 100\n",
    "m = 300# 300\n",
    "epochs = 70\n",
    "lr = 0.01\n",
    "\n",
    "# Constantes\n",
    "N = len(vocab)\n",
    "print('Tamaño del vocabulario: ', N)"
   ]
  },
  {
   "cell_type": "markdown",
   "metadata": {},
   "source": [
    "Modelo\n",
    "\n",
    "Defino la matriz de la primer capa oculta (embedding). $ C \\in \\mathbb{R}^{d \\times N} $."
   ]
  },
  {
   "cell_type": "code",
   "execution_count": 13,
   "metadata": {},
   "outputs": [],
   "source": [
    "class Bengio2003:\n",
    "    # m = 10\n",
    "    # d = 2\n",
    "    # N = 0\n",
    "    # bigramas = []\n",
    "    # C = []\n",
    "    # W = []\n",
    "    # b = []\n",
    "    # U = []\n",
    "    # c = []\n",
    "    # h = []\n",
    "    def __init__(self, bigramas, d, m, N):\n",
    "        self.d = d\n",
    "        self.m = m\n",
    "        self.N = N\n",
    "        self.bigramas = bigramas\n",
    "\n",
    "    def inicializar_pesos(self):\n",
    "        self.C = np.random.random((d, N))/np.sqrt(N)\n",
    "        self.W = np.random.random((m, d))/np.sqrt(d)\n",
    "        self.b = np.random.random(m)\n",
    "        self.U = np.random.random((N, m))/np.sqrt(m)\n",
    "        self.c = np.random.random(N)\n",
    "    \n",
    "    def forward(self, i_x):\n",
    "        # La capa embedding se reduce a C_1[:, i_x]\n",
    "        h_i = np.tanh(np.dot(self.W, self.C[:, i_x]) + self.b) # Segunda capa oculta\n",
    "        # print('h_i: ', self.h)\n",
    "        a = self.U.dot(h_i) + self.c # Preactivación\n",
    "        # print('a: ', a)\n",
    "        exp_a = np.exp(a - a.max()) # Exponencial de la preactivación\n",
    "        prob_salida = exp_a/exp_a.sum() # Capa de salida softmax\n",
    "        return (prob_salida, h_i)\n",
    "\n",
    "    def backprop(self, i_x, i_y, prob_salida, h_i, lr=0.1):\n",
    "        y_pred = np.argmax(prob_salida) # El índice de la palabra que predijo\n",
    "        # print('y_pred: ', y_pred)\n",
    "        \n",
    "        # Backprop\n",
    "        d_out = np.array(prob_salida, copy=True) #.reshape(N, 1)\n",
    "        # print('Dimensiones d_out: ', d_out.shape)\n",
    "        d_out[i_y] -= 1  # p(w_k | w_i) - y_k\n",
    "        # print('d_out: ', d_out)\n",
    "        d_h = (1-h_i**2)*np.dot(d_out.T, self.U)\n",
    "        # print('d_h: ', d_h)\n",
    "        # print('Dimensiones d_h: ', d_h.shape)\n",
    "        d_c = np.dot(d_h.T, self.W)\n",
    "        # print('d_c: ', d_c)\n",
    "        # print('Dimensiones d_c: ', d_c.shape)\n",
    "\n",
    "        # Actualizamos los pesos\n",
    "        # self.U -= lr*d_out.reshape(self.N, 1)*self.h.reshape(1, self.m)\n",
    "        self.U -= lr*np.outer(d_out, h_i) # d_out.reshape(self.N, 1)*self.h.reshape(1, self.m)\n",
    "        # print('U: ', self.U)\n",
    "        # print('Dimensiones U: ', self.U.shape)\n",
    "        self.c -= lr*d_out\n",
    "        # print('c: ', self.c)\n",
    "        # print('Dimensiones c: ', self.c.shape)\n",
    "        self.W -= lr*np.outer(d_h, self.C[:,i_x]) #d_h.reshape(self.m, 1)*self.C[:,i_x].reshape(1,self.d)\n",
    "        # print('W: ', self.W)\n",
    "        # print('Dimensiones W: ', self.W.shape)\n",
    "        self.b -= lr*d_h\n",
    "        # print('b: ', self.b)\n",
    "        # print('Dimensiones b: ', self.b.shape)\n",
    "        self.C[:, i_x] -= lr*d_c # Las demás filas no nos interesan, porque son 0\n",
    "        # print('C: ', self.C)\n",
    "        # print('Dimensiones C: ', self.C.shape)\n",
    "        # return ((U, c), (W, b), C)\n",
    "\n",
    "    def predecir(self, i_x):\n",
    "        return np.argmax(self.forward(i_x)[0])\n",
    "    \n",
    "    # def f_costo(self):\n",
    "    #     pass\n",
    "    \n",
    "    def entrenar(self, epochs=50, lr=0.1):\n",
    "        entr_timeline = []\n",
    "        for epoch in nbtqdm(range(epochs)):\n",
    "            np.random.shuffle(bigramas)\n",
    "            cross_entropy = 0\n",
    "            for bigrama in self.bigramas:\n",
    "                i_x = bigrama[0] # El índice de la primer palabra del bigrama\n",
    "                i_y = bigrama[1] # El índice de la segunda palabra del bigrama\n",
    "                # print(f'  Bigrama: {inv_vocab[i_x]} {inv_vocab[i_y]}')\n",
    "                prob_salida, h_i = self.forward(i_x)\n",
    "                # print(f'  Predicción: {inv_vocab[i_x]} {inv_vocab[np.argmax(prob_salida)]}')\n",
    "                self.backprop(i_x, i_y, prob_salida, h_i)\n",
    "                cross_entropy -= np.log(prob_salida[i_y])\n",
    "            entr_timeline.append(cross_entropy)\n",
    "            tqdm.write(f'Epoch: {epoch+1} \\tEntropía cruzada: {cross_entropy}')\n",
    "        return entr_timeline\n"
   ]
  },
  {
   "cell_type": "code",
   "execution_count": 14,
   "metadata": {},
   "outputs": [
    {
     "data": {
      "application/vnd.jupyter.widget-view+json": {
       "model_id": "553c69939beb4f6f82aa3782a4dd1666",
       "version_major": 2,
       "version_minor": 0
      },
      "text/plain": [
       "HBox(children=(FloatProgress(value=0.0, max=70.0), HTML(value='')))"
      ]
     },
     "metadata": {},
     "output_type": "display_data"
    },
    {
     "name": "stdout",
     "output_type": "stream",
     "text": [
      "Epoch: 1 \tEntropía cruzada: 33913.726272687905\n",
      "Epoch: 2 \tEntropía cruzada: 31037.84884988195\n",
      "Epoch: 3 \tEntropía cruzada: 29786.66833753291\n",
      "Epoch: 4 \tEntropía cruzada: 28837.0634742818\n",
      "Epoch: 5 \tEntropía cruzada: 28045.224529982574\n",
      "Epoch: 6 \tEntropía cruzada: 27424.61519053736\n",
      "Epoch: 7 \tEntropía cruzada: 26977.56429111699\n",
      "Epoch: 8 \tEntropía cruzada: 26648.12955575009\n",
      "Epoch: 9 \tEntropía cruzada: 26419.239091945765\n",
      "Epoch: 10 \tEntropía cruzada: 26262.878978322577\n",
      "Epoch: 11 \tEntropía cruzada: 26142.132542266612\n",
      "Epoch: 12 \tEntropía cruzada: 26081.97446327046\n",
      "Epoch: 13 \tEntropía cruzada: 26046.37098700433\n",
      "Epoch: 14 \tEntropía cruzada: 26011.66422492994\n",
      "Epoch: 15 \tEntropía cruzada: 25991.280594816035\n",
      "Epoch: 16 \tEntropía cruzada: 25990.46566941378\n",
      "Epoch: 17 \tEntropía cruzada: 25997.251090407663\n",
      "Epoch: 18 \tEntropía cruzada: 25996.6558041069\n",
      "Epoch: 19 \tEntropía cruzada: 26021.39439507556\n",
      "Epoch: 20 \tEntropía cruzada: 26042.132822814987\n",
      "Epoch: 21 \tEntropía cruzada: 26001.00331600918\n",
      "Epoch: 22 \tEntropía cruzada: 26110.768402584737\n",
      "Epoch: 23 \tEntropía cruzada: 26067.646113168845\n",
      "Epoch: 24 \tEntropía cruzada: 26063.40253817185\n",
      "Epoch: 25 \tEntropía cruzada: 26071.04190507491\n",
      "Epoch: 26 \tEntropía cruzada: 26111.308973327326\n",
      "Epoch: 27 \tEntropía cruzada: 26091.543107569138\n",
      "Epoch: 28 \tEntropía cruzada: 26054.52163759786\n",
      "Epoch: 29 \tEntropía cruzada: 26028.458060324574\n",
      "Epoch: 30 \tEntropía cruzada: 26012.28096095608\n",
      "Epoch: 31 \tEntropía cruzada: 26014.018806353095\n",
      "Epoch: 32 \tEntropía cruzada: 26175.979875009005\n",
      "Epoch: 33 \tEntropía cruzada: 26233.099476296695\n",
      "Epoch: 34 \tEntropía cruzada: 26258.366260784307\n",
      "Epoch: 35 \tEntropía cruzada: 26191.107344281416\n",
      "Epoch: 36 \tEntropía cruzada: 26200.14498452617\n",
      "Epoch: 37 \tEntropía cruzada: 26120.9969437114\n",
      "Epoch: 38 \tEntropía cruzada: 26113.83498401547\n",
      "Epoch: 39 \tEntropía cruzada: 26171.220694766973\n",
      "Epoch: 40 \tEntropía cruzada: 26007.640350378126\n",
      "Epoch: 41 \tEntropía cruzada: 26050.216023008026\n",
      "Epoch: 42 \tEntropía cruzada: 25965.6309696493\n",
      "Epoch: 43 \tEntropía cruzada: 25995.87463241437\n",
      "Epoch: 44 \tEntropía cruzada: 25990.555906597274\n",
      "Epoch: 45 \tEntropía cruzada: 25975.151734405892\n",
      "Epoch: 46 \tEntropía cruzada: 26014.098600988655\n",
      "Epoch: 47 \tEntropía cruzada: 26037.701335834452\n",
      "Epoch: 48 \tEntropía cruzada: 26019.36307565015\n",
      "Epoch: 49 \tEntropía cruzada: 26057.34049442782\n",
      "Epoch: 50 \tEntropía cruzada: 25992.971107409285\n",
      "Epoch: 51 \tEntropía cruzada: 25963.610842236245\n",
      "Epoch: 52 \tEntropía cruzada: 25956.515737198748\n",
      "Epoch: 53 \tEntropía cruzada: 26068.510285123106\n",
      "Epoch: 54 \tEntropía cruzada: 25958.961394537528\n",
      "Epoch: 55 \tEntropía cruzada: 26057.476592315532\n",
      "Epoch: 56 \tEntropía cruzada: 26067.90845316376\n",
      "Epoch: 57 \tEntropía cruzada: 25953.985183134348\n",
      "Epoch: 58 \tEntropía cruzada: 26009.983400791614\n",
      "Epoch: 59 \tEntropía cruzada: 26146.671053396236\n",
      "Epoch: 60 \tEntropía cruzada: 25999.735654326785\n",
      "Epoch: 61 \tEntropía cruzada: 26039.597085043926\n",
      "Epoch: 62 \tEntropía cruzada: 26124.14932589618\n",
      "Epoch: 63 \tEntropía cruzada: 26104.277165366522\n",
      "Epoch: 64 \tEntropía cruzada: 26086.682569796645\n",
      "Epoch: 65 \tEntropía cruzada: 26248.094519159375\n",
      "Epoch: 66 \tEntropía cruzada: 26353.492971080963\n",
      "Epoch: 67 \tEntropía cruzada: 26278.390315912213\n",
      "Epoch: 68 \tEntropía cruzada: 26387.728784465973\n",
      "Epoch: 69 \tEntropía cruzada: 26280.919640805467\n",
      "Epoch: 70 \tEntropía cruzada: 26332.297234626265\n",
      "\n"
     ]
    }
   ],
   "source": [
    "modelo = Bengio2003(bigramas_ids, d, m, N)\n",
    "modelo.inicializar_pesos()\n",
    "hist_entropia = modelo.entrenar(epochs)"
   ]
  },
  {
   "cell_type": "code",
   "execution_count": 15,
   "metadata": {},
   "outputs": [
    {
     "name": "stdout",
     "output_type": "stream",
     "text": [
      "hast toluc\n",
      "dej <EOS>\n",
      "orill de\n"
     ]
    }
   ],
   "source": [
    "print(f'{inv_vocab[100]} {inv_vocab[np.argmax(modelo.forward(100)[0])]}')\n",
    "print(f'{inv_vocab[12]} {inv_vocab[np.argmax(modelo.forward(12)[0])]}')\n",
    "print(f'{inv_vocab[200]} {inv_vocab[np.argmax(modelo.forward(200)[0])]}')\n",
    "# print(f'{inv_vocab[0]} {inv_vocab[modelo.predecir(0)]}')\n",
    "# print(f'{inv_vocab[12]} {inv_vocab[modelo.predecir(12)]}')\n",
    "# print(f'{inv_vocab[200]} {inv_vocab[modelo.predecir(200)]}')"
   ]
  },
  {
   "cell_type": "markdown",
   "metadata": {},
   "source": []
  },
  {
   "cell_type": "code",
   "execution_count": 16,
   "metadata": {},
   "outputs": [
    {
     "data": {
      "image/png": "[encoded data removed]",
      "text/plain": [
       "<Figure size 432x288 with 1 Axes>"
      ]
     },
     "metadata": {
      "needs_background": "light"
     },
     "output_type": "display_data"
    }
   ],
   "source": [
    "plt.plot(hist_entropia)\n",
    "# plt.yscale('log')\n",
    "plt.show()"
   ]
  },
  {
   "cell_type": "code",
   "execution_count": null,
   "metadata": {},
   "outputs": [],
   "source": []
  }
 ],
 "metadata": {
  "file_extension": ".py",
  "kernelspec": {
   "display_name": "Python 3",
   "language": "python",
   "name": "python3"
  },
  "language_info": {
   "codemirror_mode": {
    "name": "ipython",
    "version": 3
   },
   "file_extension": ".py",
   "mimetype": "text/x-python",
   "name": "python",
   "nbconvert_exporter": "python",
   "pygments_lexer": "ipython3",
   "version": "3.7.4"
  },
  "mimetype": "text/x-python",
  "name": "python",
  "npconvert_exporter": "python",
  "pygments_lexer": "ipython3",
  "version": 3
 },
 "nbformat": 4,
 "nbformat_minor": 2
}
