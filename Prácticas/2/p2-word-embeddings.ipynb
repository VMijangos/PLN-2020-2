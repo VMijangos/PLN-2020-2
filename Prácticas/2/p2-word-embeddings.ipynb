{
 "cells": [
  {
   "cell_type": "markdown",
   "metadata": {},
   "source": [
    "# Práctica 2\n",
    "\n",
    "Procesamiento de Lenguaje Natural\n",
    "Facultad de Ingeniería, UNAM\n",
    "\n",
    "González Flores Andrés"
   ]
  },
  {
   "cell_type": "markdown",
   "metadata": {},
   "source": [
    "## Instrucciones\n",
    "\n",
    "A partir del corpus proporcionado (\"corpusML.txt\") realizar un modelo del lenguaje neuronal con base en la arquitectura propuesta por Bengio (2003).\n",
    "\n",
    "Síganse los siguientes pasos:\n",
    "\n",
    "1. Limpiar los textos y aplicar stemming a las palabras.\n",
    "2. Insertar símbolos de inicio y final de cadena.\n",
    "3. Obtener los bigramas que aparecen en el texto (indexar numéricamente).\n",
    "4. Entrenar con los bigramas la red neuronal y obtener los valores para los hiperparámetros. Tomar de 100 unidades para la primera capa oculta (capa lineal) y 300 para la segunda capa oculta (capa con tanh).\n",
    "5. Obtener las matrices $A$ y $\\Pi$ a partir de las salidas de la red neuronal (probabilidad Softmax).\n",
    "6. Evaluar el modelo (con Entropía).\n",
    "7. Calcular la probabilidad de las siguientes oraciones:\n",
    "    - Nos bañamos con agua caliente\n",
    "    - El animalito le olía la cabeza\n",
    "    - Pascuala ordeñaba las vacas"
   ]
  },
  {
   "cell_type": "markdown",
   "metadata": {},
   "source": [
    "## Desarrollo"
   ]
  },
  {
   "cell_type": "code",
   "execution_count": 1,
   "metadata": {},
   "outputs": [],
   "source": [
    "# Importar módulos\n",
    "import numpy as np\n",
    "import re\n",
    "from nltk import SnowballStemmer\n",
    "from collections import Counter, defaultdict\n",
    "from sklearn.model_selection import train_test_split\n",
    "import matplotlib.pyplot as plt\n",
    "from itertools import chain\n",
    "from tqdm.notebook import tqdm as nbtqdm\n",
    "from tqdm.auto import tqdm\n",
    "import pandas as pd\n",
    "from IPython.display import display"
   ]
  },
  {
   "cell_type": "code",
   "execution_count": 2,
   "metadata": {},
   "outputs": [],
   "source": [
    "# Definición de constantes\n",
    "SEED = 420\n",
    "stemmer_esp = SnowballStemmer('spanish')\n",
    "CORPUS_PATH = './Data/corpusML.txt'\n",
    "BOS = '<BOS>'\n",
    "EOS = '<EOS>'\n",
    "UNK = '<unk>'\n",
    "\n",
    "np.random.seed(SEED)"
   ]
  },
  {
   "cell_type": "markdown",
   "metadata": {},
   "source": [
    "### Paso 1. Limpieza de corpus\n",
    "\n",
    "Limpiar los textos y aplicar stemming a las palabras."
   ]
  },
  {
   "cell_type": "code",
   "execution_count": 3,
   "metadata": {},
   "outputs": [
    {
     "name": "stdout",
     "output_type": "stream",
     "text": [
      "['comenc', 'a', 'trabaj', 'y', 'me', 'peg', 'me', 'maltrat', 'con', 'chicot']\n",
      "['mis', 'patron', 'me', 'peg', 'porqu', 'no', 'me', 'quer', 'apur', 'porqu', 'era', 'floj']\n",
      "['por', 'eso', 'me', 'hab', 'peg']\n",
      "['cuand', 'me', 'peg', 'ya', 'entonc', 'me', 'quit']\n",
      "['pues', 'entonc', 'no', 'quis', 'trabaj']\n"
     ]
    }
   ],
   "source": [
    "with open(CORPUS_PATH, 'r', encoding='utf-8') as f:\n",
    "    corpus = [\n",
    "        list(map(lambda token: stemmer_esp.stem(token), # Mapeo cada token a su stem\n",
    "            re.findall('[a-zA-zñáéíóúü]+', linea.lower()) # Devuelve una lista con todas las ocurrencias que coincidan con la regex\n",
    "        ))\n",
    "        for linea in f\n",
    "    ]\n",
    "    for docs in corpus[:5]:\n",
    "        print(docs) # Muestro 5 ejemplos"
   ]
  },
  {
   "cell_type": "markdown",
   "metadata": {},
   "source": [
    "Divido el corpus en entrenamiento y evaluación"
   ]
  },
  {
   "cell_type": "code",
   "execution_count": 4,
   "metadata": {},
   "outputs": [
    {
     "name": "stdout",
     "output_type": "stream",
     "text": [
      "\n",
      "Tamaño del corpus de entrenamiento: 751\n",
      "Ejemplos:\n",
      "['per', 'pues', 'si', 'el', 'padr', 'del', 'hombr', 'quer', 'lo', 'iba', 'a', 'dej']\n",
      "['hem', 'fabric', 'un', 'temascal', 'par', 'bañ']\n",
      "['ni', 'par', 'el', 'jabon', 'encontr']\n",
      "['mi', 'difunt', 'padrecit', 'fue', 'qui', 'me', 'cur']\n",
      "['se', 'traslad', 'de', 'igual', 'maner', 'y', 'se', 'le', 'mov', 'el', 'pal']\n",
      "\n",
      "Tamaño del corpus de evaluación: 323\n",
      "Ejemplos:\n",
      "  ['y', 'cuart', 'par', 'que', 'vay', 'dos', 'segund', 'palm']\n",
      "  ['le', 'dig', 'pues', 'que', 'no', 'es', 'tu', 'tambor', 'le', 'dig']\n",
      "  ['com', 'tambien', 'se', 'llen', 'de', 'agu']\n",
      "  ['juan', 'se', 'cay', 'del', 'tech']\n",
      "  ['sobr', 'un', 'refresquit', 'y', 'algo', 'de', 'vinit']\n"
     ]
    }
   ],
   "source": [
    "train_corpus, eval_corpus = train_test_split(corpus, test_size=0.3)\n",
    "\n",
    "print(f'\\nTamaño del corpus de entrenamiento: {len(train_corpus)}')\n",
    "print('Ejemplos:')\n",
    "for docs in train_corpus[:5]:\n",
    "        print(docs) # Muestro 5 ejemplos\n",
    "\n",
    "print(f'\\nTamaño del corpus de evaluación: {len(eval_corpus)}')\n",
    "print('Ejemplos:')\n",
    "for docs in eval_corpus[:5]:\n",
    "        print(' ', docs) # Muestro 5 ejemplos"
   ]
  },
  {
   "cell_type": "markdown",
   "metadata": {},
   "source": [
    "Muestro la curva de zipf"
   ]
  },
  {
   "cell_type": "code",
   "execution_count": 5,
   "metadata": {},
   "outputs": [
    {
     "data": {
      "image/png": "[encoded data removed]",
      "text/plain": [
       "<Figure size 432x288 with 1 Axes>"
      ]
     },
     "metadata": {
      "needs_background": "light"
     },
     "output_type": "display_data"
    }
   ],
   "source": [
    "frec = sum([Counter(doc) for doc in train_corpus], Counter())\n",
    "\n",
    "plt.plot(sorted(frec.values(), reverse=True), 'o')\n",
    "plt.xlabel('rango')\n",
    "plt.ylabel('frecuencia')\n",
    "plt.xscale('log')\n",
    "plt.yscale('log')\n",
    "plt.title('Curva de Zipf de datos de entrenamiento')\n",
    "plt.show()"
   ]
  },
  {
   "cell_type": "markdown",
   "metadata": {},
   "source": [
    "Sustituyo los hapax por el identificador <unk\\>"
   ]
  },
  {
   "cell_type": "code",
   "execution_count": 6,
   "metadata": {},
   "outputs": [
    {
     "name": "stdout",
     "output_type": "stream",
     "text": [
      "Ejemplos:\n",
      "['per', 'pues', 'si', 'el', 'padr', 'del', 'hombr', 'quer', 'lo', 'iba', 'a', 'dej']\n",
      "['hem', 'fabric', 'un', 'temascal', 'par', 'bañ']\n",
      "['ni', 'par', 'el', 'jabon', 'encontr']\n",
      "['mi', 'difunt', 'padrecit', 'fue', 'qui', 'me', 'cur']\n",
      "['se', 'traslad', 'de', 'igual', '<unk>', 'y', 'se', 'le', 'mov', 'el', 'pal']\n"
     ]
    }
   ],
   "source": [
    "train_corpus_unk = [\n",
    "    [\n",
    "        # Si la frecuencia de la palabra es 1, se sustituye por UNK\n",
    "        (UNK if frec[w] == 1 else w)\n",
    "        for w in doc\n",
    "    ] \n",
    "    for doc in train_corpus \n",
    "]\n",
    "\n",
    "print('Ejemplos:')\n",
    "for docs in train_corpus_unk[:5]:\n",
    "        print(docs) # Muestro 5 ejemplos"
   ]
  },
  {
   "cell_type": "markdown",
   "metadata": {},
   "source": [
    "### Paso 2. <BOS\\> <EOS\\>\n",
    "\n",
    "Insertar símbolos de inicio y final de cadena."
   ]
  },
  {
   "cell_type": "code",
   "execution_count": 7,
   "metadata": {},
   "outputs": [
    {
     "name": "stdout",
     "output_type": "stream",
     "text": [
      "['<BOS>', 'per', 'pues', 'si', 'el', 'padr', 'del', 'hombr', 'quer', 'lo', 'iba', 'a', 'dej', '<EOS>']\n",
      "['<BOS>', 'hem', 'fabric', 'un', 'temascal', 'par', 'bañ', '<EOS>']\n",
      "['<BOS>', 'ni', 'par', 'el', 'jabon', 'encontr', '<EOS>']\n",
      "['<BOS>', 'mi', 'difunt', 'padrecit', 'fue', 'qui', 'me', 'cur', '<EOS>']\n",
      "['<BOS>', 'se', 'traslad', 'de', 'igual', '<unk>', 'y', 'se', 'le', 'mov', 'el', 'pal', '<EOS>']\n"
     ]
    }
   ],
   "source": [
    "train_corpus_unk = [[BOS] + doc + [EOS] for doc in train_corpus_unk]\n",
    "for doc in train_corpus_unk[:5]:\n",
    "    print(doc)"
   ]
  },
  {
   "cell_type": "markdown",
   "metadata": {},
   "source": [
    "### Paso 3. Indexar bigramas\n",
    "\n",
    "Obtener los bigramas que aparecen en el texto (indexar numéricamente)."
   ]
  },
  {
   "cell_type": "code",
   "execution_count": 8,
   "metadata": {},
   "outputs": [
    {
     "name": "stdout",
     "output_type": "stream",
     "text": [
      "Ejemplos de palabras en el vocabulario\n",
      "  <BOS> : 0\n",
      "  <EOS> : 1\n",
      "  per : 2\n",
      "  pues : 3\n",
      "  si : 4\n",
      "  el : 5\n",
      "  padr : 6\n",
      "  del : 7\n",
      "  hombr : 8\n",
      "  quer : 9\n",
      "\n",
      "Ejemplos de oraciones indexadas numéricamente\n",
      "  [0, 2, 3, 4, 5, 6, 7, 8, 9, 10, 11, 12, 13, 1]\n",
      "  [0, 14, 15, 16, 17, 18, 19, 1]\n",
      "  [0, 20, 18, 5, 21, 22, 1]\n",
      "  [0, 23, 24, 25, 26, 27, 28, 29, 1]\n",
      "  [0, 30, 31, 32, 33, 34, 35, 30, 36, 37, 5, 38, 1]\n",
      "  [0, 39, 40, 41, 42, 18, 43, 1]\n"
     ]
    }
   ],
   "source": [
    "# Indexo numéricamente los stems\n",
    "vocab = defaultdict() \n",
    "# El método default_factory sirve para asignar un nuevo valor por defecto\n",
    "# en caso de no encontrar el indice dado\n",
    "vocab.default_factory = lambda: len(vocab)\n",
    "\n",
    "# Indexo EOS y BOS para que sean los primeros\n",
    "i_BOS = vocab[BOS]\n",
    "i_EOS = vocab[EOS]\n",
    "\n",
    "# Indexo numéricamente las palabras en los documentos\n",
    "corpus_ids = [[vocab[w] for w in doc] for doc in train_corpus_unk]\n",
    "\n",
    "print('Ejemplos de palabras en el vocabulario')\n",
    "for palabra, i in list(vocab.items())[:10]:\n",
    "    print(f'  {palabra} : {i}')\n",
    "\n",
    "print('\\nEjemplos de oraciones indexadas numéricamente')\n",
    "for doc in corpus_ids[:6]:\n",
    "    print(' ', doc)"
   ]
  },
  {
   "cell_type": "markdown",
   "metadata": {},
   "source": [
    "Calculo el inverso del vocabulario, para obtener la palabra dado el índice."
   ]
  },
  {
   "cell_type": "code",
   "execution_count": 9,
   "metadata": {},
   "outputs": [],
   "source": [
    "inv_vocab = { item : key for key, item in vocab.items()}"
   ]
  },
  {
   "cell_type": "markdown",
   "metadata": {},
   "source": [
    "```doc[:-1]``` toma todos las cadenas de un documento (frase) excepto la última\n",
    "\n",
    "```doc[1:]``` toma todos las cadenas de un documento (frase) excepto la primera\n",
    "\n",
    "Con zip, uno una cadena de la primer lista con una de la segunda en tuplas (bigramas)"
   ]
  },
  {
   "cell_type": "code",
   "execution_count": 10,
   "metadata": {},
   "outputs": [
    {
     "data": {
      "text/plain": [
       "[('<BOS>', 'per'),\n",
       " ('per', 'pues'),\n",
       " ('pues', 'si'),\n",
       " ('si', 'el'),\n",
       " ('el', 'padr'),\n",
       " ('padr', 'del'),\n",
       " ('del', 'hombr'),\n",
       " ('hombr', 'quer'),\n",
       " ('quer', 'lo'),\n",
       " ('lo', 'iba'),\n",
       " ('iba', 'a'),\n",
       " ('a', 'dej'),\n",
       " ('dej', '<EOS>'),\n",
       " ('<BOS>', 'hem'),\n",
       " ('hem', 'fabric'),\n",
       " ('fabric', 'un'),\n",
       " ('un', 'temascal'),\n",
       " ('temascal', 'par'),\n",
       " ('par', 'bañ'),\n",
       " ('bañ', '<EOS>')]"
      ]
     },
     "execution_count": 10,
     "metadata": {},
     "output_type": "execute_result"
    }
   ],
   "source": [
    "bigramas = [bi for doc in train_corpus_unk for bi in zip(doc[:-1], doc[1:])]\n",
    "\n",
    "bigramas[:20] # Ejemplos con cadenas"
   ]
  },
  {
   "cell_type": "markdown",
   "metadata": {},
   "source": [
    "Imprimo algunos de los bigramas más comunes en el corpus"
   ]
  },
  {
   "cell_type": "code",
   "execution_count": 11,
   "metadata": {},
   "outputs": [
    {
     "data": {
      "text/plain": [
       "[(('<unk>', '<EOS>'), 114),\n",
       " (('<BOS>', 'pues'), 88),\n",
       " (('otra', 'vez'), 45),\n",
       " (('<BOS>', 'y'), 42),\n",
       " (('<BOS>', 'per'), 38),\n",
       " (('entonc', '<EOS>'), 36),\n",
       " (('<BOS>', 'se'), 35),\n",
       " (('el', '<unk>'), 29),\n",
       " (('nomas', '<EOS>'), 27),\n",
       " (('se', '<unk>'), 26),\n",
       " (('en', 'la'), 26),\n",
       " (('<BOS>', 'despues'), 25),\n",
       " (('<BOS>', 'no'), 25),\n",
       " (('<BOS>', 'lueg'), 25),\n",
       " (('par', 'que'), 25)]"
      ]
     },
     "execution_count": 11,
     "metadata": {},
     "output_type": "execute_result"
    }
   ],
   "source": [
    "counter_bigramas = Counter(bigramas)\n",
    "counter_bigramas.most_common(15)"
   ]
  },
  {
   "cell_type": "code",
   "execution_count": 12,
   "metadata": {},
   "outputs": [
    {
     "data": {
      "text/plain": [
       "[(0, 2),\n",
       " (2, 3),\n",
       " (3, 4),\n",
       " (4, 5),\n",
       " (5, 6),\n",
       " (6, 7),\n",
       " (7, 8),\n",
       " (8, 9),\n",
       " (9, 10),\n",
       " (10, 11),\n",
       " (11, 12),\n",
       " (12, 13),\n",
       " (13, 1),\n",
       " (0, 14),\n",
       " (14, 15),\n",
       " (15, 16),\n",
       " (16, 17),\n",
       " (17, 18),\n",
       " (18, 19),\n",
       " (19, 1)]"
      ]
     },
     "execution_count": 12,
     "metadata": {},
     "output_type": "execute_result"
    }
   ],
   "source": [
    "bigramas_ids = [bi for doc in corpus_ids for bi in zip(doc[:-1], doc[1:])]\n",
    "bigramas_ids[:20] # Ejemplos de bigramas indexados numéricamente"
   ]
  },
  {
   "cell_type": "markdown",
   "metadata": {},
   "source": [
    "### Paso 4. Modelo Neuronal\n",
    "\n",
    "Entrenar con los bigramas la red neuronal y obtener los valores para los hiperparámetros. Tomar de 100 unidades para la primera capa oculta (capa lineal) y 300 para la segunda capa oculta (capa con tanh)."
   ]
  },
  {
   "cell_type": "code",
   "execution_count": 13,
   "metadata": {},
   "outputs": [
    {
     "name": "stdout",
     "output_type": "stream",
     "text": [
      "Tamaño del vocabulario:  493\n"
     ]
    }
   ],
   "source": [
    "# Hiperparámetros\n",
    "d = 100# 100\n",
    "m = 300# 300\n",
    "epochs = 25\n",
    "lr = np.exp(-(np.arange(epochs)+1)/2) #0.01\n",
    "\n",
    "# Constantes\n",
    "N = len(vocab)\n",
    "print('Tamaño del vocabulario: ', N)"
   ]
  },
  {
   "cell_type": "markdown",
   "metadata": {},
   "source": [
    "#### Definición del modelo\n",
    "\n",
    "Defino la matriz de la primer capa oculta (embedding). $ C \\in \\mathbb{R}^{d \\times N} $."
   ]
  },
  {
   "cell_type": "code",
   "execution_count": 14,
   "metadata": {},
   "outputs": [],
   "source": [
    "class Bengio2003:\n",
    "    def __init__(self, bigramas, d, m, N):\n",
    "        self.d = d\n",
    "        self.m = m\n",
    "        self.N = N\n",
    "        self.bigramas = bigramas\n",
    "\n",
    "    def inicializar_pesos(self):\n",
    "        self.C = np.random.random((d, N))/np.sqrt(N)\n",
    "        self.W = np.random.random((m, d))/np.sqrt(d)\n",
    "        self.b = np.random.random(m)\n",
    "        self.U = np.random.random((N, m))/np.sqrt(m)\n",
    "        self.c = np.random.random(N)\n",
    "        \n",
    "        # Los mejores pesos del modelo\n",
    "        self.best_C = self.C\n",
    "        self.best_W = self.W\n",
    "        self.best_b = self.b\n",
    "        self.best_U = self.U\n",
    "        self.best_c = self.c\n",
    "    \n",
    "    def forward(self, i_x):\n",
    "        # La capa embedding se reduce a C_1[:, i_x]\n",
    "        h_i = np.tanh(np.dot(self.W, self.C[:, i_x]) + self.b) # Segunda capa oculta\n",
    "        a = self.U.dot(h_i) + self.c # Preactivación\n",
    "        exp_a = np.exp(a - a.max()) # Exponencial de la preactivación\n",
    "        prob_salida = exp_a/exp_a.sum() # Capa de salida softmax\n",
    "        return prob_salida, h_i\n",
    "\n",
    "    def backprop(self, i_x, i_y, prob_salida, h_i, lr=0.1):\n",
    "        y_pred = np.argmax(prob_salida) # El índice de la palabra que predijo\n",
    "        \n",
    "        # Backprop\n",
    "        # Copio el arreglo para no modificar pesos de la salida original\n",
    "        d_out = np.array(prob_salida, copy=True) \n",
    "        d_out[i_y] -= 1  # p(w_k | w_i) - y_k\n",
    "        d_h = (1-h_i**2)*np.dot(d_out.T, self.U)\n",
    "        d_c = np.dot(d_h.T, self.W)\n",
    "\n",
    "        # Actualizamos los pesos\n",
    "        self.U -= lr*np.outer(d_out, h_i) \n",
    "        self.c -= lr*d_out\n",
    "        self.W -= lr*np.outer(d_h, self.C[:,i_x]) \n",
    "        self.b -= lr*d_h\n",
    "        self.C[:, i_x] -= lr*d_c # Las demás filas no nos interesan, porque son 0\n",
    "\n",
    "    def predecir(self, i_x):\n",
    "        return np.argmax(self.forward(i_x)[0])\n",
    "    \n",
    "    def entrenar(self, epochs=50, lr=[]):\n",
    "        entr_timeline = [] # Entropía a través de las épocas\n",
    "        min_entr = np.inf\n",
    "        for epoch in nbtqdm(range(epochs)):\n",
    "            np.random.shuffle(bigramas)\n",
    "            cross_entropy = 0\n",
    "            for bigrama in self.bigramas:\n",
    "                i_x = bigrama[0] # El índice de la primer palabra del bigrama\n",
    "                i_y = bigrama[1] # El índice de la segunda palabra del bigrama\n",
    "                # print(f'  Bigrama: {inv_vocab[i_x]} {inv_vocab[i_y]}')\n",
    "                prob_salida, h_i = self.forward(i_x)\n",
    "                # print(f'  Predicción: {inv_vocab[i_x]} {inv_vocab[np.argmax(prob_salida)]}')\n",
    "                self.backprop(i_x, i_y, prob_salida, h_i, lr[epoch])\n",
    "                cross_entropy -= np.log(prob_salida[i_y])\n",
    "                        \n",
    "            # Si la entropua actual es mejor que la menor...\n",
    "            if cross_entropy < min_entr:\n",
    "                min_entr = cross_entropy  # ponemos la actual\n",
    "                # y movemos los mejores pesos\n",
    "                self.best_C = self.C\n",
    "                self.best_W = self.W\n",
    "                self.best_b = self.b\n",
    "                self.best_U = self.U\n",
    "                self.best_c = self.c\n",
    "                \n",
    "            entr_timeline.append(cross_entropy)    \n",
    "            tqdm.write(f'Epoch: {epoch+1} \\tEntropía cruzada: {cross_entropy}')\n",
    "        return entr_timeline\n",
    "    \n",
    "    def cargar_mejores_pesos(self):\n",
    "        self.C = self.best_C\n",
    "        self.W = self.best_W\n",
    "        self.b = self.best_b\n",
    "        self.U = self.best_U\n",
    "        self.c = self.best_c\n",
    "    \n",
    "    def guardar_pesos(self, archivo):\n",
    "        \"\"\"Guarda los pesos del modelo en formato .npz\n",
    "        \"\"\"\n",
    "        try:\n",
    "            np.savez(\n",
    "                archivo, \n",
    "                C = self.C, \n",
    "                W = self.W, \n",
    "                b = self.b, \n",
    "                U = self.U, \n",
    "                c = self.c\n",
    "            )\n",
    "            print(f'Archivo {archivo} guardado satisfactoriamente')\n",
    "            return True\n",
    "        except Exception as e:\n",
    "            print('Ocurrió un error al guardar el archivo')\n",
    "            print(e)\n",
    "            return False\n",
    "    \n",
    "    def cargar_pesos(self, archivo):\n",
    "        \"\"\"Carga los pesos del modelo guardados en un archivo formato .npz\n",
    "        \"\"\"\n",
    "        try:\n",
    "            pesos = np.load(archivo)\n",
    "            self.C = pesos['C']\n",
    "            self.W = pesos['W']\n",
    "            self.b = pesos['b']\n",
    "            self.U = pesos['U']\n",
    "            self.c = pesos['c']\n",
    "            print(f'Pesos desde {archivo} cargados correctamente')\n",
    "            return True\n",
    "        except Exception as e:\n",
    "            print('Ocurrió un error al guardar el archivo')\n",
    "            print(e)\n",
    "            return False\n",
    "        "
   ]
  },
  {
   "cell_type": "code",
   "execution_count": 15,
   "metadata": {},
   "outputs": [
    {
     "data": {
      "application/vnd.jupyter.widget-view+json": {
       "model_id": "ace47a35a99a45a08b97790e2cff48f1",
       "version_major": 2,
       "version_minor": 0
      },
      "text/plain": [
       "HBox(children=(FloatProgress(value=0.0, max=25.0), HTML(value='')))"
      ]
     },
     "metadata": {},
     "output_type": "display_data"
    },
    {
     "name": "stdout",
     "output_type": "stream",
     "text": [
      "Epoch: 1 \tEntropía cruzada: 1084967.9115285573\n",
      "Epoch: 2 \tEntropía cruzada: 693803.8945785166\n",
      "Epoch: 3 \tEntropía cruzada: 419207.80088428577\n",
      "Epoch: 4 \tEntropía cruzada: 257176.497427378\n",
      "Epoch: 5 \tEntropía cruzada: 161836.38798966436\n",
      "Epoch: 6 \tEntropía cruzada: 105614.64947085583\n",
      "Epoch: 7 \tEntropía cruzada: 72704.60192250437\n",
      "Epoch: 8 \tEntropía cruzada: 55473.969924242454\n",
      "Epoch: 9 \tEntropía cruzada: 47456.24368509424\n",
      "Epoch: 10 \tEntropía cruzada: 43303.060348900515\n",
      "Epoch: 11 \tEntropía cruzada: 41032.71886185665\n",
      "Epoch: 12 \tEntropía cruzada: 39689.13058456585\n",
      "Epoch: 13 \tEntropía cruzada: 38863.35463162758\n",
      "Epoch: 14 \tEntropía cruzada: 38346.672298326965\n",
      "Epoch: 15 \tEntropía cruzada: 38020.565397485436\n",
      "Epoch: 16 \tEntropía cruzada: 37813.93658403837\n",
      "Epoch: 17 \tEntropía cruzada: 37681.95400227908\n",
      "Epoch: 18 \tEntropía cruzada: 37596.822387323555\n",
      "Epoch: 19 \tEntropía cruzada: 37541.87357025355\n",
      "Epoch: 20 \tEntropía cruzada: 37506.800175731805\n",
      "Epoch: 21 \tEntropía cruzada: 37484.5403357785\n",
      "Epoch: 22 \tEntropía cruzada: 37470.37704036314\n",
      "Epoch: 23 \tEntropía cruzada: 37461.40404559118\n",
      "Epoch: 24 \tEntropía cruzada: 37455.784472036285\n",
      "Epoch: 25 \tEntropía cruzada: 37452.30585839929\n",
      "\n"
     ]
    }
   ],
   "source": [
    "modelo = Bengio2003(bigramas_ids, d, m, N)\n",
    "modelo.inicializar_pesos()\n",
    "hist_entropia = modelo.entrenar(epochs, lr)"
   ]
  },
  {
   "cell_type": "markdown",
   "metadata": {},
   "source": [
    "#### Guardando pesos\n",
    "\n"
   ]
  },
  {
   "cell_type": "code",
   "execution_count": 16,
   "metadata": {},
   "outputs": [
    {
     "name": "stdout",
     "output_type": "stream",
     "text": [
      "Archivo modelos/pesos_3.npz guardado satisfactoriamente\n"
     ]
    },
    {
     "data": {
      "text/plain": [
       "True"
      ]
     },
     "execution_count": 16,
     "metadata": {},
     "output_type": "execute_result"
    }
   ],
   "source": [
    "modelo.cargar_mejores_pesos()\n",
    "\n",
    "np.savez(\n",
    "    'modelos/hiperp_3.npz', \n",
    "    d = d,\n",
    "    m = m,\n",
    "    lr = lr,\n",
    "    epochs = epochs,\n",
    "    SEED = SEED,\n",
    "    N = N\n",
    ")\n",
    "\n",
    "modelo.guardar_pesos('modelos/pesos_3.npz')"
   ]
  },
  {
   "cell_type": "markdown",
   "metadata": {},
   "source": [
    "### Paso 5. Obtención de matrices de probabilidades\n",
    "\n",
    "Obtener las matrices $A$ y $\\Pi$ a partir de las salidas de la red neuornal (probabilidad Softmax)."
   ]
  },
  {
   "cell_type": "code",
   "execution_count": 23,
   "metadata": {},
   "outputs": [
    {
     "data": {
      "text/html": [
       "<div>\n",
       "<style scoped>\n",
       "    .dataframe tbody tr th:only-of-type {\n",
       "        vertical-align: middle;\n",
       "    }\n",
       "\n",
       "    .dataframe tbody tr th {\n",
       "        vertical-align: top;\n",
       "    }\n",
       "\n",
       "    .dataframe thead th {\n",
       "        text-align: right;\n",
       "    }\n",
       "</style>\n",
       "<table border=\"1\" class=\"dataframe\">\n",
       "  <thead>\n",
       "    <tr style=\"text-align: right;\">\n",
       "      <th></th>\n",
       "      <th>per</th>\n",
       "      <th>pues</th>\n",
       "      <th>si</th>\n",
       "      <th>el</th>\n",
       "      <th>padr</th>\n",
       "      <th>del</th>\n",
       "      <th>hombr</th>\n",
       "      <th>quer</th>\n",
       "      <th>lo</th>\n",
       "      <th>iba</th>\n",
       "      <th>...</th>\n",
       "      <th>grit</th>\n",
       "      <th>siqu</th>\n",
       "      <th>maicit</th>\n",
       "      <th>negoci</th>\n",
       "      <th>culebr</th>\n",
       "      <th>grandot</th>\n",
       "      <th>docen</th>\n",
       "      <th>cre</th>\n",
       "      <th>persegu</th>\n",
       "      <th>alzad</th>\n",
       "    </tr>\n",
       "  </thead>\n",
       "  <tbody>\n",
       "    <tr>\n",
       "      <th>&lt;EOS&gt;</th>\n",
       "      <td>6.095120e-11</td>\n",
       "      <td>2.880933e-09</td>\n",
       "      <td>3.577234e-01</td>\n",
       "      <td>3.167132e-07</td>\n",
       "      <td>1.298466e-03</td>\n",
       "      <td>7.469338e-02</td>\n",
       "      <td>3.028953e-01</td>\n",
       "      <td>7.469338e-02</td>\n",
       "      <td>1.709970e-01</td>\n",
       "      <td>7.469338e-02</td>\n",
       "      <td>...</td>\n",
       "      <td>4.213193e-10</td>\n",
       "      <td>1.875562e-10</td>\n",
       "      <td>7.978878e-01</td>\n",
       "      <td>9.885440e-01</td>\n",
       "      <td>1.272617e-13</td>\n",
       "      <td>5.413066e-01</td>\n",
       "      <td>3.577234e-01</td>\n",
       "      <td>9.601790e-04</td>\n",
       "      <td>3.924648e-07</td>\n",
       "      <td>4.003724e-09</td>\n",
       "    </tr>\n",
       "    <tr>\n",
       "      <th>per</th>\n",
       "      <td>1.409033e-16</td>\n",
       "      <td>1.570594e-23</td>\n",
       "      <td>1.262038e-11</td>\n",
       "      <td>3.195138e-11</td>\n",
       "      <td>1.936303e-12</td>\n",
       "      <td>2.682917e-07</td>\n",
       "      <td>1.002261e-09</td>\n",
       "      <td>2.682917e-07</td>\n",
       "      <td>4.292788e-03</td>\n",
       "      <td>2.682917e-07</td>\n",
       "      <td>...</td>\n",
       "      <td>3.159301e-12</td>\n",
       "      <td>3.495594e-21</td>\n",
       "      <td>7.741706e-15</td>\n",
       "      <td>5.506754e-06</td>\n",
       "      <td>5.424275e-11</td>\n",
       "      <td>1.317282e-11</td>\n",
       "      <td>1.262038e-11</td>\n",
       "      <td>2.265815e-14</td>\n",
       "      <td>2.061713e-18</td>\n",
       "      <td>2.112122e-06</td>\n",
       "    </tr>\n",
       "    <tr>\n",
       "      <th>pues</th>\n",
       "      <td>2.092880e-01</td>\n",
       "      <td>4.285074e-21</td>\n",
       "      <td>4.142400e-05</td>\n",
       "      <td>5.621389e-15</td>\n",
       "      <td>3.007979e-05</td>\n",
       "      <td>1.593456e-04</td>\n",
       "      <td>1.598703e-09</td>\n",
       "      <td>1.593456e-04</td>\n",
       "      <td>2.983766e-03</td>\n",
       "      <td>1.593456e-04</td>\n",
       "      <td>...</td>\n",
       "      <td>7.470174e-13</td>\n",
       "      <td>8.005205e-01</td>\n",
       "      <td>1.542855e-07</td>\n",
       "      <td>4.742446e-10</td>\n",
       "      <td>4.488121e-15</td>\n",
       "      <td>9.169372e-04</td>\n",
       "      <td>4.142400e-05</td>\n",
       "      <td>4.451103e-14</td>\n",
       "      <td>8.925645e-04</td>\n",
       "      <td>5.055143e-08</td>\n",
       "    </tr>\n",
       "    <tr>\n",
       "      <th>si</th>\n",
       "      <td>3.531344e-02</td>\n",
       "      <td>1.549003e-02</td>\n",
       "      <td>2.855011e-07</td>\n",
       "      <td>5.584979e-11</td>\n",
       "      <td>8.530603e-15</td>\n",
       "      <td>7.125480e-04</td>\n",
       "      <td>2.734899e-08</td>\n",
       "      <td>7.125480e-04</td>\n",
       "      <td>1.351273e-03</td>\n",
       "      <td>7.125480e-04</td>\n",
       "      <td>...</td>\n",
       "      <td>1.117093e-12</td>\n",
       "      <td>5.712231e-07</td>\n",
       "      <td>1.808123e-11</td>\n",
       "      <td>5.467829e-13</td>\n",
       "      <td>9.681056e-13</td>\n",
       "      <td>5.314911e-12</td>\n",
       "      <td>2.855011e-07</td>\n",
       "      <td>9.311220e-08</td>\n",
       "      <td>7.836577e-06</td>\n",
       "      <td>3.003458e-11</td>\n",
       "    </tr>\n",
       "    <tr>\n",
       "      <th>el</th>\n",
       "      <td>1.938992e-04</td>\n",
       "      <td>2.379912e-02</td>\n",
       "      <td>8.477417e-03</td>\n",
       "      <td>8.458677e-09</td>\n",
       "      <td>1.013812e-05</td>\n",
       "      <td>9.073771e-04</td>\n",
       "      <td>3.290136e-13</td>\n",
       "      <td>9.073771e-04</td>\n",
       "      <td>3.049276e-04</td>\n",
       "      <td>9.073771e-04</td>\n",
       "      <td>...</td>\n",
       "      <td>8.347387e-09</td>\n",
       "      <td>1.116591e-06</td>\n",
       "      <td>1.312908e-07</td>\n",
       "      <td>2.210594e-06</td>\n",
       "      <td>3.941201e-02</td>\n",
       "      <td>4.980735e-03</td>\n",
       "      <td>8.477417e-03</td>\n",
       "      <td>2.037200e-09</td>\n",
       "      <td>3.503660e-11</td>\n",
       "      <td>8.752222e-01</td>\n",
       "    </tr>\n",
       "    <tr>\n",
       "      <th>...</th>\n",
       "      <td>...</td>\n",
       "      <td>...</td>\n",
       "      <td>...</td>\n",
       "      <td>...</td>\n",
       "      <td>...</td>\n",
       "      <td>...</td>\n",
       "      <td>...</td>\n",
       "      <td>...</td>\n",
       "      <td>...</td>\n",
       "      <td>...</td>\n",
       "      <td>...</td>\n",
       "      <td>...</td>\n",
       "      <td>...</td>\n",
       "      <td>...</td>\n",
       "      <td>...</td>\n",
       "      <td>...</td>\n",
       "      <td>...</td>\n",
       "      <td>...</td>\n",
       "      <td>...</td>\n",
       "      <td>...</td>\n",
       "      <td>...</td>\n",
       "    </tr>\n",
       "    <tr>\n",
       "      <th>grandot</th>\n",
       "      <td>2.119146e-12</td>\n",
       "      <td>1.108908e-15</td>\n",
       "      <td>8.084118e-08</td>\n",
       "      <td>2.060505e-10</td>\n",
       "      <td>2.336502e-15</td>\n",
       "      <td>4.979038e-08</td>\n",
       "      <td>1.418389e-03</td>\n",
       "      <td>4.979038e-08</td>\n",
       "      <td>2.278419e-04</td>\n",
       "      <td>4.979038e-08</td>\n",
       "      <td>...</td>\n",
       "      <td>9.724083e-16</td>\n",
       "      <td>2.230608e-18</td>\n",
       "      <td>6.098235e-06</td>\n",
       "      <td>9.610348e-13</td>\n",
       "      <td>7.811351e-19</td>\n",
       "      <td>7.695965e-06</td>\n",
       "      <td>8.084118e-08</td>\n",
       "      <td>2.160671e-18</td>\n",
       "      <td>3.110625e-08</td>\n",
       "      <td>3.216933e-06</td>\n",
       "    </tr>\n",
       "    <tr>\n",
       "      <th>docen</th>\n",
       "      <td>6.398611e-12</td>\n",
       "      <td>7.472199e-07</td>\n",
       "      <td>3.032560e-03</td>\n",
       "      <td>3.571545e-12</td>\n",
       "      <td>2.803088e-13</td>\n",
       "      <td>1.157837e-09</td>\n",
       "      <td>1.199610e-11</td>\n",
       "      <td>1.157837e-09</td>\n",
       "      <td>3.470473e-08</td>\n",
       "      <td>1.157837e-09</td>\n",
       "      <td>...</td>\n",
       "      <td>5.351854e-15</td>\n",
       "      <td>6.911231e-11</td>\n",
       "      <td>9.399328e-16</td>\n",
       "      <td>1.157647e-14</td>\n",
       "      <td>1.774804e-08</td>\n",
       "      <td>6.431133e-15</td>\n",
       "      <td>3.032560e-03</td>\n",
       "      <td>8.323092e-11</td>\n",
       "      <td>5.005086e-06</td>\n",
       "      <td>3.113761e-12</td>\n",
       "    </tr>\n",
       "    <tr>\n",
       "      <th>cre</th>\n",
       "      <td>5.214122e-02</td>\n",
       "      <td>6.956105e-14</td>\n",
       "      <td>2.195537e-03</td>\n",
       "      <td>1.135165e-03</td>\n",
       "      <td>2.123306e-10</td>\n",
       "      <td>9.643221e-09</td>\n",
       "      <td>6.272817e-12</td>\n",
       "      <td>9.643221e-09</td>\n",
       "      <td>7.098140e-08</td>\n",
       "      <td>9.643221e-09</td>\n",
       "      <td>...</td>\n",
       "      <td>2.516156e-14</td>\n",
       "      <td>1.182089e-11</td>\n",
       "      <td>8.675073e-14</td>\n",
       "      <td>7.312773e-09</td>\n",
       "      <td>2.944116e-10</td>\n",
       "      <td>5.529620e-14</td>\n",
       "      <td>2.195537e-03</td>\n",
       "      <td>1.452163e-10</td>\n",
       "      <td>2.824734e-11</td>\n",
       "      <td>5.813002e-14</td>\n",
       "    </tr>\n",
       "    <tr>\n",
       "      <th>persegu</th>\n",
       "      <td>3.918725e-11</td>\n",
       "      <td>3.011148e-06</td>\n",
       "      <td>1.065102e-05</td>\n",
       "      <td>4.988335e-08</td>\n",
       "      <td>1.181462e-06</td>\n",
       "      <td>5.656405e-08</td>\n",
       "      <td>1.438284e-16</td>\n",
       "      <td>5.656405e-08</td>\n",
       "      <td>2.384018e-06</td>\n",
       "      <td>5.656405e-08</td>\n",
       "      <td>...</td>\n",
       "      <td>4.481759e-13</td>\n",
       "      <td>3.153350e-10</td>\n",
       "      <td>5.549489e-18</td>\n",
       "      <td>1.932020e-07</td>\n",
       "      <td>5.891442e-07</td>\n",
       "      <td>1.307412e-17</td>\n",
       "      <td>1.065102e-05</td>\n",
       "      <td>4.805903e-15</td>\n",
       "      <td>1.536117e-15</td>\n",
       "      <td>1.036444e-17</td>\n",
       "    </tr>\n",
       "    <tr>\n",
       "      <th>alzad</th>\n",
       "      <td>1.193023e-13</td>\n",
       "      <td>5.511821e-15</td>\n",
       "      <td>3.601289e-07</td>\n",
       "      <td>8.675979e-12</td>\n",
       "      <td>1.450732e-08</td>\n",
       "      <td>1.012895e-05</td>\n",
       "      <td>2.966870e-17</td>\n",
       "      <td>1.012895e-05</td>\n",
       "      <td>2.432369e-04</td>\n",
       "      <td>1.012895e-05</td>\n",
       "      <td>...</td>\n",
       "      <td>4.488276e-17</td>\n",
       "      <td>4.489292e-16</td>\n",
       "      <td>1.388526e-16</td>\n",
       "      <td>3.278056e-11</td>\n",
       "      <td>6.355477e-05</td>\n",
       "      <td>1.369977e-15</td>\n",
       "      <td>3.601289e-07</td>\n",
       "      <td>3.447461e-10</td>\n",
       "      <td>1.485336e-09</td>\n",
       "      <td>1.502802e-13</td>\n",
       "    </tr>\n",
       "  </tbody>\n",
       "</table>\n",
       "<p>492 rows × 491 columns</p>\n",
       "</div>"
      ],
      "text/plain": [
       "                  per          pues            si            el          padr  \\\n",
       "<EOS>    6.095120e-11  2.880933e-09  3.577234e-01  3.167132e-07  1.298466e-03   \n",
       "per      1.409033e-16  1.570594e-23  1.262038e-11  3.195138e-11  1.936303e-12   \n",
       "pues     2.092880e-01  4.285074e-21  4.142400e-05  5.621389e-15  3.007979e-05   \n",
       "si       3.531344e-02  1.549003e-02  2.855011e-07  5.584979e-11  8.530603e-15   \n",
       "el       1.938992e-04  2.379912e-02  8.477417e-03  8.458677e-09  1.013812e-05   \n",
       "...               ...           ...           ...           ...           ...   \n",
       "grandot  2.119146e-12  1.108908e-15  8.084118e-08  2.060505e-10  2.336502e-15   \n",
       "docen    6.398611e-12  7.472199e-07  3.032560e-03  3.571545e-12  2.803088e-13   \n",
       "cre      5.214122e-02  6.956105e-14  2.195537e-03  1.135165e-03  2.123306e-10   \n",
       "persegu  3.918725e-11  3.011148e-06  1.065102e-05  4.988335e-08  1.181462e-06   \n",
       "alzad    1.193023e-13  5.511821e-15  3.601289e-07  8.675979e-12  1.450732e-08   \n",
       "\n",
       "                  del         hombr          quer            lo           iba  \\\n",
       "<EOS>    7.469338e-02  3.028953e-01  7.469338e-02  1.709970e-01  7.469338e-02   \n",
       "per      2.682917e-07  1.002261e-09  2.682917e-07  4.292788e-03  2.682917e-07   \n",
       "pues     1.593456e-04  1.598703e-09  1.593456e-04  2.983766e-03  1.593456e-04   \n",
       "si       7.125480e-04  2.734899e-08  7.125480e-04  1.351273e-03  7.125480e-04   \n",
       "el       9.073771e-04  3.290136e-13  9.073771e-04  3.049276e-04  9.073771e-04   \n",
       "...               ...           ...           ...           ...           ...   \n",
       "grandot  4.979038e-08  1.418389e-03  4.979038e-08  2.278419e-04  4.979038e-08   \n",
       "docen    1.157837e-09  1.199610e-11  1.157837e-09  3.470473e-08  1.157837e-09   \n",
       "cre      9.643221e-09  6.272817e-12  9.643221e-09  7.098140e-08  9.643221e-09   \n",
       "persegu  5.656405e-08  1.438284e-16  5.656405e-08  2.384018e-06  5.656405e-08   \n",
       "alzad    1.012895e-05  2.966870e-17  1.012895e-05  2.432369e-04  1.012895e-05   \n",
       "\n",
       "         ...          grit          siqu        maicit        negoci  \\\n",
       "<EOS>    ...  4.213193e-10  1.875562e-10  7.978878e-01  9.885440e-01   \n",
       "per      ...  3.159301e-12  3.495594e-21  7.741706e-15  5.506754e-06   \n",
       "pues     ...  7.470174e-13  8.005205e-01  1.542855e-07  4.742446e-10   \n",
       "si       ...  1.117093e-12  5.712231e-07  1.808123e-11  5.467829e-13   \n",
       "el       ...  8.347387e-09  1.116591e-06  1.312908e-07  2.210594e-06   \n",
       "...      ...           ...           ...           ...           ...   \n",
       "grandot  ...  9.724083e-16  2.230608e-18  6.098235e-06  9.610348e-13   \n",
       "docen    ...  5.351854e-15  6.911231e-11  9.399328e-16  1.157647e-14   \n",
       "cre      ...  2.516156e-14  1.182089e-11  8.675073e-14  7.312773e-09   \n",
       "persegu  ...  4.481759e-13  3.153350e-10  5.549489e-18  1.932020e-07   \n",
       "alzad    ...  4.488276e-17  4.489292e-16  1.388526e-16  3.278056e-11   \n",
       "\n",
       "               culebr       grandot         docen           cre       persegu  \\\n",
       "<EOS>    1.272617e-13  5.413066e-01  3.577234e-01  9.601790e-04  3.924648e-07   \n",
       "per      5.424275e-11  1.317282e-11  1.262038e-11  2.265815e-14  2.061713e-18   \n",
       "pues     4.488121e-15  9.169372e-04  4.142400e-05  4.451103e-14  8.925645e-04   \n",
       "si       9.681056e-13  5.314911e-12  2.855011e-07  9.311220e-08  7.836577e-06   \n",
       "el       3.941201e-02  4.980735e-03  8.477417e-03  2.037200e-09  3.503660e-11   \n",
       "...               ...           ...           ...           ...           ...   \n",
       "grandot  7.811351e-19  7.695965e-06  8.084118e-08  2.160671e-18  3.110625e-08   \n",
       "docen    1.774804e-08  6.431133e-15  3.032560e-03  8.323092e-11  5.005086e-06   \n",
       "cre      2.944116e-10  5.529620e-14  2.195537e-03  1.452163e-10  2.824734e-11   \n",
       "persegu  5.891442e-07  1.307412e-17  1.065102e-05  4.805903e-15  1.536117e-15   \n",
       "alzad    6.355477e-05  1.369977e-15  3.601289e-07  3.447461e-10  1.485336e-09   \n",
       "\n",
       "                alzad  \n",
       "<EOS>    4.003724e-09  \n",
       "per      2.112122e-06  \n",
       "pues     5.055143e-08  \n",
       "si       3.003458e-11  \n",
       "el       8.752222e-01  \n",
       "...               ...  \n",
       "grandot  3.216933e-06  \n",
       "docen    3.113761e-12  \n",
       "cre      5.813002e-14  \n",
       "persegu  1.036444e-17  \n",
       "alzad    1.502802e-13  \n",
       "\n",
       "[492 rows x 491 columns]"
      ]
     },
     "metadata": {},
     "output_type": "display_data"
    },
    {
     "data": {
      "text/html": [
       "<div>\n",
       "<style scoped>\n",
       "    .dataframe tbody tr th:only-of-type {\n",
       "        vertical-align: middle;\n",
       "    }\n",
       "\n",
       "    .dataframe tbody tr th {\n",
       "        vertical-align: top;\n",
       "    }\n",
       "\n",
       "    .dataframe thead th {\n",
       "        text-align: right;\n",
       "    }\n",
       "</style>\n",
       "<table border=\"1\" class=\"dataframe\">\n",
       "  <thead>\n",
       "    <tr style=\"text-align: right;\">\n",
       "      <th></th>\n",
       "      <th>&lt;BOS&gt;</th>\n",
       "    </tr>\n",
       "  </thead>\n",
       "  <tbody>\n",
       "    <tr>\n",
       "      <th>per</th>\n",
       "      <td>5.249771e-02</td>\n",
       "    </tr>\n",
       "    <tr>\n",
       "      <th>pues</th>\n",
       "      <td>1.163569e-01</td>\n",
       "    </tr>\n",
       "    <tr>\n",
       "      <th>si</th>\n",
       "      <td>1.942594e-02</td>\n",
       "    </tr>\n",
       "    <tr>\n",
       "      <th>el</th>\n",
       "      <td>2.119252e-02</td>\n",
       "    </tr>\n",
       "    <tr>\n",
       "      <th>padr</th>\n",
       "      <td>1.520437e-12</td>\n",
       "    </tr>\n",
       "    <tr>\n",
       "      <th>...</th>\n",
       "      <td>...</td>\n",
       "    </tr>\n",
       "    <tr>\n",
       "      <th>grandot</th>\n",
       "      <td>2.856925e-14</td>\n",
       "    </tr>\n",
       "    <tr>\n",
       "      <th>docen</th>\n",
       "      <td>1.202006e-06</td>\n",
       "    </tr>\n",
       "    <tr>\n",
       "      <th>cre</th>\n",
       "      <td>1.292094e-07</td>\n",
       "    </tr>\n",
       "    <tr>\n",
       "      <th>persegu</th>\n",
       "      <td>5.428261e-06</td>\n",
       "    </tr>\n",
       "    <tr>\n",
       "      <th>alzad</th>\n",
       "      <td>6.527891e-12</td>\n",
       "    </tr>\n",
       "  </tbody>\n",
       "</table>\n",
       "<p>491 rows × 1 columns</p>\n",
       "</div>"
      ],
      "text/plain": [
       "                <BOS>\n",
       "per      5.249771e-02\n",
       "pues     1.163569e-01\n",
       "si       1.942594e-02\n",
       "el       2.119252e-02\n",
       "padr     1.520437e-12\n",
       "...               ...\n",
       "grandot  2.856925e-14\n",
       "docen    1.202006e-06\n",
       "cre      1.292094e-07\n",
       "persegu  5.428261e-06\n",
       "alzad    6.527891e-12\n",
       "\n",
       "[491 rows x 1 columns]"
      ]
     },
     "metadata": {},
     "output_type": "display_data"
    }
   ],
   "source": [
    "i_BOS = vocab[BOS]\n",
    "i_EOS = vocab[EOS]\n",
    "\n",
    "matA = np.array([\n",
    "    modelo.forward(i_x)[0] # Sólo nos interesa el vector de probabilidades\n",
    "    for i_x in range(N)  # Iterar sobre todas las palabras del vocabulario\n",
    "])\n",
    "matPi = modelo.forward(vocab[BOS])[0]\n",
    "\n",
    "matA = np.delete(matA, [i_BOS, i_EOS], 0) # Elimino las columnas p(w_j | w_i = <BOS>) y p(w_j | w_i = <EOS>)\n",
    "labelsColsA = list(vocab.keys())[:N] \n",
    "del labelsColsA[i_BOS]\n",
    "del labelsColsA[i_EOS-1]\n",
    "matA = np.delete(matA, i_BOS, 1) # Elimino el valor p(w_j = <BOS> | w_i)\n",
    "labelsRowsA = list(vocab.keys())[:N] \n",
    "del labelsRowsA[i_BOS]\n",
    "\n",
    "matPi = np.delete(matPi, [i_BOS, i_EOS]) # Elimino los valores p(w_j | w_i = <BOS>) y p(w_j | w_i = <EOS>) \n",
    "labelsPi = list(vocab.keys())[:N] \n",
    "del labelsPi[i_BOS]\n",
    "del labelsPi[i_EOS-1]\n",
    "\n",
    "matA = pd.DataFrame(matA, index=labelsColsA, columns=labelsRowsA)\n",
    "display(matA.T)\n",
    "\n",
    "matPi = pd.DataFrame(matPi, index=labelsPi, columns=[BOS])\n",
    "display(matPi)\n",
    "# print('Dimensiones de A: ', matA.shape)\n",
    "# print('Dimensiones de Pi: ', matPi.shape)"
   ]
  },
  {
   "cell_type": "markdown",
   "metadata": {},
   "source": [
    "### Paso 6. Evaluación del modelo\n",
    "\n",
    "Evaluar el modelo (con entropía)"
   ]
  },
  {
   "cell_type": "code",
   "execution_count": 18,
   "metadata": {},
   "outputs": [
    {
     "data": {
      "image/png": "[encoded data removed]",
      "text/plain": [
       "<Figure size 432x288 with 1 Axes>"
      ]
     },
     "metadata": {
      "needs_background": "light"
     },
     "output_type": "display_data"
    }
   ],
   "source": [
    "plt.plot(hist_entropia)\n",
    "plt.show()"
   ]
  },
  {
   "cell_type": "markdown",
   "metadata": {},
   "source": [
    "Predicción de algunos bigramas en el modelo"
   ]
  },
  {
   "cell_type": "code",
   "execution_count": 24,
   "metadata": {},
   "outputs": [
    {
     "name": "stdout",
     "output_type": "stream",
     "text": [
      "Predicción de bigramas:\n",
      "  pues vez\n",
      "  por vez\n",
      "  par vez\n",
      "  en vez\n",
      "  otra vez\n"
     ]
    }
   ],
   "source": [
    "test_w = ['pues', 'por', 'par', 'en', 'otra']\n",
    "print('Predicción de bigramas:')\n",
    "for w in test_w:\n",
    "    print(f'  {w} {inv_vocab[modelo.predecir(i_w)]}')"
   ]
  },
  {
   "cell_type": "markdown",
   "metadata": {},
   "source": [
    "### Paso 7. Probabilidad de oraciones.\n",
    "\n",
    "Calcular la probabilidad de las siguientes oraciones:\n",
    "\n",
    "- Nos bañamos con agua caliente\n",
    "- El animalito le olía la cabeza\n",
    "- Pascuala ordeñaba las vacas"
   ]
  },
  {
   "cell_type": "code",
   "execution_count": 37,
   "metadata": {},
   "outputs": [
    {
     "data": {
      "text/plain": [
       "[['nos', 'bañ', 'con', 'agu', 'calient'],\n",
       " ['el', 'animalit', 'le', 'oli', 'la', 'cabez'],\n",
       " ['pascual', 'ordeñ', 'las', 'vac'],\n",
       " ['vac', 'la', 'per', 'com', 'dos']]"
      ]
     },
     "execution_count": 37,
     "metadata": {},
     "output_type": "execute_result"
    }
   ],
   "source": [
    "oraciones_test = [\n",
    "    \"Nos bañamos con agua caliente\",\n",
    "    \"El animalito le olía la cabeza\",\n",
    "    \"Pascuala ordeñaba las vacas\",\n",
    "    \"Vaca la pero come dos\"\n",
    "]\n",
    "test_stems = [\n",
    "        list(map(lambda token: stemmer_esp.stem(token), # Mapeo cada token a su stem\n",
    "            re.findall('[a-zA-zñáéíóúü]+', oracion.lower()) # Devuelve una lista con todas las ocurrencias que coincidan con la regex\n",
    "        ))\n",
    "        for oracion in oraciones_test\n",
    "    ]\n",
    "\n",
    "test_stems"
   ]
  },
  {
   "cell_type": "code",
   "execution_count": 38,
   "metadata": {},
   "outputs": [
    {
     "data": {
      "text/plain": [
       "[['<BOS>', 'nos', 'bañ', 'con', 'agu', 'calient', '<EOS>'],\n",
       " ['<BOS>', 'el', 'animalit', 'le', 'oli', 'la', 'cabez', '<EOS>'],\n",
       " ['<BOS>', 'pascual', 'ordeñ', 'las', 'vac', '<EOS>'],\n",
       " ['<BOS>', 'vac', 'la', 'per', 'com', 'dos', '<EOS>']]"
      ]
     },
     "execution_count": 38,
     "metadata": {},
     "output_type": "execute_result"
    }
   ],
   "source": [
    "# Agrego BOS y EOS\n",
    "test_stems = [[BOS, *oracion, EOS] for oracion in test_stems]\n",
    "test_stems"
   ]
  },
  {
   "cell_type": "markdown",
   "metadata": {},
   "source": [
    "Indexo las oraciones de prueba. Si la palabra queda fuera del vocabulario, le asigno el identificador <unk\\>"
   ]
  },
  {
   "cell_type": "code",
   "execution_count": 39,
   "metadata": {},
   "outputs": [
    {
     "data": {
      "text/plain": [
       "[[0, 93, 19, 80, 390, 34, 1],\n",
       " [0, 5, 465, 36, 34, 65, 311, 1],\n",
       " [0, 386, 34, 41, 207, 1],\n",
       " [0, 207, 65, 2, 56, 114, 1]]"
      ]
     },
     "execution_count": 39,
     "metadata": {},
     "output_type": "execute_result"
    }
   ],
   "source": [
    "i_UNK = vocab[UNK]\n",
    "test_corpus_ids = [\n",
    "    [\n",
    "        vocab[stem] if vocab[stem]<N else i_UNK # Si la palabra es nueva, uso el indice de <unk>\n",
    "        for stem in oracion\n",
    "    ]\n",
    "    for oracion in test_stems\n",
    "]\n",
    "test_corpus_ids"
   ]
  },
  {
   "cell_type": "code",
   "execution_count": 40,
   "metadata": {},
   "outputs": [
    {
     "data": {
      "text/plain": [
       "[[(0, 93), (93, 19), (19, 80), (80, 390), (390, 34), (34, 1)],\n",
       " [(0, 5), (5, 465), (465, 36), (36, 34), (34, 65), (65, 311), (311, 1)],\n",
       " [(0, 386), (386, 34), (34, 41), (41, 207), (207, 1)],\n",
       " [(0, 207), (207, 65), (65, 2), (2, 56), (56, 114), (114, 1)]]"
      ]
     },
     "execution_count": 40,
     "metadata": {},
     "output_type": "execute_result"
    }
   ],
   "source": [
    "# Saco los bigramas\n",
    "test_bigramas = [\n",
    "    [bi for bi in zip(oracion[:-1], oracion[1:])]\n",
    "    for oracion in test_corpus_ids\n",
    "]\n",
    "test_bigramas"
   ]
  },
  {
   "cell_type": "markdown",
   "metadata": {},
   "source": [
    "Calculo las probabilidades de las oraciones.\n",
    "\n",
    "$$ p(w_1) \\prod_{i=1} p(w_{i} | w_{i-1}) $$"
   ]
  },
  {
   "cell_type": "code",
   "execution_count": 41,
   "metadata": {},
   "outputs": [],
   "source": [
    "def prob_lista_bigramas(lista_bi, A, Pi):\n",
    "    prob = 1.0\n",
    "    for w_i, w_j in lista_bi:\n",
    "        prob *= modelo.forward(w_i)[0][w_j]\n",
    "    return prob"
   ]
  },
  {
   "cell_type": "code",
   "execution_count": 42,
   "metadata": {},
   "outputs": [
    {
     "name": "stdout",
     "output_type": "stream",
     "text": [
      "Probabilidad de \"Nos bañamos con agua caliente\" = 6.888483633973914e-21\n",
      "Probabilidad de \"El animalito le olía la cabeza\" = 2.6684510596950435e-24\n",
      "Probabilidad de \"Pascuala ordeñaba las vacas\" = 2.0989383626948116e-23\n",
      "Probabilidad de \"Vaca la pero come dos\" = 5.434131460399946e-37\n"
     ]
    }
   ],
   "source": [
    "for lista_bi, oracion in zip(test_bigramas, oraciones_test):\n",
    "    print(f'Probabilidad de \\\"{oracion}\\\" = {prob_lista_bigramas(lista_bi, matA, matPi)}')"
   ]
  },
  {
   "cell_type": "code",
   "execution_count": null,
   "metadata": {},
   "outputs": [],
   "source": []
  }
 ],
 "metadata": {
  "file_extension": ".py",
  "kernelspec": {
   "display_name": "Python 3",
   "language": "python",
   "name": "python3"
  },
  "language_info": {
   "codemirror_mode": {
    "name": "ipython",
    "version": 3
   },
   "file_extension": ".py",
   "mimetype": "text/x-python",
   "name": "python",
   "nbconvert_exporter": "python",
   "pygments_lexer": "ipython3",
   "version": "3.7.4"
  },
  "mimetype": "text/x-python",
  "name": "python",
  "npconvert_exporter": "python",
  "pygments_lexer": "ipython3",
  "version": 3
 },
 "nbformat": 4,
 "nbformat_minor": 2
}
