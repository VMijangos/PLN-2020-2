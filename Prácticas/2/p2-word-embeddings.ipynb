{
 "nbformat": 4,
 "nbformat_minor": 2,
 "metadata": {
  "language_info": {
   "name": "python",
   "codemirror_mode": {
    "name": "ipython",
    "version": 3
   },
   "version": "3.7.4-final"
  },
  "orig_nbformat": 2,
  "file_extension": ".py",
  "mimetype": "text/x-python",
  "name": "python",
  "npconvert_exporter": "python",
  "pygments_lexer": "ipython3",
  "version": 3,
  "kernelspec": {
   "name": "python3",
   "display_name": "Python 3"
  }
 },
 "cells": [
  {
   "cell_type": "markdown",
   "metadata": {},
   "source": [
    "# Práctica 2\n",
    "\n",
    "Procesamiento de Lenguaje Natural\n",
    "Facultad de Ingeniería, UNAM\n",
    "\n",
    "González Flores Andrés"
   ]
  },
  {
   "cell_type": "markdown",
   "metadata": {},
   "source": [
    "## Instrucciones\n",
    "\n",
    "A partir del corpus proporcionado (\"corpusML.txt\") realizar un modelo del lenguaje neuronal con base en la arquitectura propuesta por Bengio (2003).\n",
    "\n",
    "Síganse los siguientes pasos:\n",
    "\n",
    "1. Limpiar los textos y aplicar stemming a las palabras.\n",
    "2. Insertar símbolos de inicio y final de cadena.\n",
    "3. Obtener los bigramas que aparecen en el texto (indexar numéricamente).\n",
    "4. Entrenar con los bigramas la red neuronal y obtener los valores para los hiperparámetros. Tomar de 100 unidades para la primera capa oculta (capa lineal) y 300 para la segunda capa oculta (capa con tanh).\n",
    "5. Obtener las matrices $A$ y $\\Pi$ a partir de las salidas de la red neuornal (probabilidad Softmax).\n",
    "6. Evaluar el modelo (con Entropía).\n",
    "7. Calcular la proabilidad de las siguientes oraciones:\n",
    "    - Nos bañamos con agua caliente\n",
    "    - El animalito le olía la cabeza\n",
    "    - Pascuala ordeñaba las vacas"
   ]
  },
  {
   "cell_type": "markdown",
   "metadata": {},
   "source": [
    "## Desarrollo"
   ]
  },
  {
   "cell_type": "code",
   "execution_count": 1,
   "metadata": {},
   "outputs": [],
   "source": [
    "# Importar módulos\n",
    "import re\n",
    "from nltk import SnowballStemmer\n",
    "from collections import Counter, defaultdict\n",
    "from itertools import chain"
   ]
  },
  {
   "cell_type": "code",
   "execution_count": 2,
   "metadata": {},
   "outputs": [],
   "source": [
    "# Definición de constantes\n",
    "stemmer_esp = SnowballStemmer('spanish')\n",
    "CORPUS_PATH = './Data/corpusML.txt'\n",
    "BOS = '<BOS>'\n",
    "EOS = '<EOS>'"
   ]
  },
  {
   "cell_type": "code",
   "execution_count": 3,
   "metadata": {},
   "outputs": [],
   "source": [
    "# def vocab():\n",
    "#     # Un defaultdict es una subclase de dict, el primer argumento\n",
    "#     vocab = defaultdict() \n",
    "#     # El método default_factory sirve para asignar un nuevo valor por defecto\n",
    "#     # en caso de no encontrar el indice dado\n",
    "#     vocab.default_factory = lambda: len(vocab)\n",
    "#     return vocab\n",
    "\n",
    "# def text2number(corpus, vocab):\n",
    "#     for doc in corpus:\n",
    "#         yield [vocab[w] for w in doc]"
   ]
  },
  {
   "cell_type": "markdown",
   "metadata": {},
   "source": [
    "### Paso 1\n",
    "\n",
    "Limpiar los textos y aplicar stemming a las palabras."
   ]
  },
  {
   "cell_type": "code",
   "execution_count": 4,
   "metadata": {},
   "outputs": [
    {
     "output_type": "stream",
     "name": "stdout",
     "text": "['comenc', 'a', 'trabaj', 'y', 'me', 'peg', 'me', 'maltrat', 'con', 'chicot']\n['mis', 'patron', 'me', 'peg', 'porqu', 'no', 'me', 'quer', 'apur', 'porqu', 'era', 'floj']\n['por', 'eso', 'me', 'hab', 'peg']\n['cuand', 'me', 'peg', 'ya', 'entonc', 'me', 'quit']\n['pues', 'entonc', 'no', 'quis', 'trabaj']\n"
    }
   ],
   "source": [
    "with open(CORPUS_PATH, 'r', encoding='utf-8') as f:\n",
    "    corpus = [\n",
    "        list(map(lambda token: stemmer_esp.stem(token), \n",
    "            re.findall('[a-zA-zñáéíóúü]+', frase.lower())\n",
    "        ))\n",
    "        for frase in f\n",
    "    ]\n",
    "    for stems in corpus[:5]:\n",
    "        print(stems) # Muestro 5 ejemplos"
   ]
  },
  {
   "cell_type": "markdown",
   "metadata": {},
   "source": [
    "### Paso 2\n",
    "\n",
    "Insertar símbolos de inicio y final de cadena."
   ]
  },
  {
   "cell_type": "code",
   "execution_count": 5,
   "metadata": {},
   "outputs": [
    {
     "output_type": "stream",
     "name": "stdout",
     "text": "['<BOS>', 'comenc', 'a', 'trabaj', 'y', 'me', 'peg', 'me', 'maltrat', 'con', 'chicot', '<EOS>']\n['<BOS>', 'mis', 'patron', 'me', 'peg', 'porqu', 'no', 'me', 'quer', 'apur', 'porqu', 'era', 'floj', '<EOS>']\n['<BOS>', 'por', 'eso', 'me', 'hab', 'peg', '<EOS>']\n['<BOS>', 'cuand', 'me', 'peg', 'ya', 'entonc', 'me', 'quit', '<EOS>']\n['<BOS>', 'pues', 'entonc', 'no', 'quis', 'trabaj', '<EOS>']\n"
    }
   ],
   "source": [
    "corpus = list(map(lambda stems: [BOS, *stems, EOS], corpus))\n",
    "for stems in corpus[:5]:\n",
    "    print(stems)"
   ]
  },
  {
   "cell_type": "markdown",
   "metadata": {},
   "source": [
    "### Paso 3\n",
    "\n",
    "Obtener los bigramas que aparecen en el texto (indexar numéricamente)."
   ]
  },
  {
   "cell_type": "code",
   "execution_count": 6,
   "metadata": {},
   "outputs": [
    {
     "output_type": "stream",
     "name": "stdout",
     "text": "Ejemplos de palabras en el vocabulario\n  <BOS> : 0\n  comenc : 1\n  a : 2\n  trabaj : 3\n  y : 4\n  me : 5\n  peg : 6\n  maltrat : 7\n  con : 8\n  chicot : 9\n\nEjemplos de oraciones indexadas numéricamente\n  [0, 1, 2, 3, 4, 5, 6, 5, 7, 8, 9, 10]\n  [0, 11, 12, 5, 6, 13, 14, 5, 15, 16, 13, 17, 18, 10]\n  [0, 19, 20, 5, 21, 6, 10]\n  [0, 22, 5, 6, 23, 24, 5, 25, 10]\n  [0, 26, 24, 14, 27, 3, 10]\n  [0, 23, 14, 27, 28, 29, 5, 6, 10]\n"
    }
   ],
   "source": [
    "# Indexo numéricamente los stems\n",
    "vocab = defaultdict() \n",
    "# El método default_factory sirve para asignar un nuevo valor por defecto\n",
    "# en caso de no encontrar el indice dado\n",
    "vocab.default_factory = lambda: len(vocab)\n",
    "\n",
    "# Indexo numéricamente las palabras en los documentos\n",
    "corpus_ids = [[vocab[w] for w in doc] for doc in corpus]\n",
    "\n",
    "print('Ejemplos de palabras en el vocabulario')\n",
    "for palabra, i in list(vocab.items())[:10]:\n",
    "    print(f'  {palabra} : {i}')\n",
    "\n",
    "print('\\nEjemplos de oraciones indexadas numéricamente')\n",
    "for doc in corpus_ids[:6]:\n",
    "    print(' ', doc)"
   ]
  },
  {
   "cell_type": "markdown",
   "metadata": {},
   "source": [
    "```doc[:-1]``` toma todos las cadenas de un documento (frase) excepto la última\n",
    "\n",
    "```doc[1:]``` toma todos las cadenas de un documento (frase) excepto la primera\n",
    "\n",
    "Con zip, uno una cadena de la primer lista con una de la segunda en tuplas (bigramas)"
   ]
  },
  {
   "cell_type": "code",
   "execution_count": 7,
   "metadata": {},
   "outputs": [
    {
     "output_type": "execute_result",
     "data": {
      "text/plain": "[('<BOS>', 'comenc'),\n ('comenc', 'a'),\n ('a', 'trabaj'),\n ('trabaj', 'y'),\n ('y', 'me'),\n ('me', 'peg'),\n ('peg', 'me'),\n ('me', 'maltrat'),\n ('maltrat', 'con'),\n ('con', 'chicot'),\n ('chicot', '<EOS>'),\n ('<BOS>', 'mis'),\n ('mis', 'patron'),\n ('patron', 'me'),\n ('me', 'peg'),\n ('peg', 'porqu'),\n ('porqu', 'no'),\n ('no', 'me'),\n ('me', 'quer'),\n ('quer', 'apur')]"
     },
     "metadata": {},
     "execution_count": 7
    }
   ],
   "source": [
    "bigramas = [bi for doc in corpus for bi in zip(doc[:-1], doc[1:])]\n",
    "\n",
    "bigramas[:20] # Ejemplos con cadenas"
   ]
  },
  {
   "cell_type": "code",
   "execution_count": 8,
   "metadata": {},
   "outputs": [
    {
     "output_type": "execute_result",
     "data": {
      "text/plain": "[(0, 1),\n (1, 2),\n (2, 3),\n (3, 4),\n (4, 5),\n (5, 6),\n (6, 5),\n (5, 7),\n (7, 8),\n (8, 9),\n (9, 10),\n (0, 11),\n (11, 12),\n (12, 5),\n (5, 6),\n (6, 13),\n (13, 14),\n (14, 5),\n (5, 15),\n (15, 16)]"
     },
     "metadata": {},
     "execution_count": 8
    }
   ],
   "source": [
    "bigramas_ids = [bi for doc in corpus_ids for bi in zip(doc[:-1], doc[1:])]\n",
    "bigramas_ids[:20] # Ejemplos de bigramas indexados numéricamente"
   ]
  },
  {
   "cell_type": "code",
   "execution_count": null,
   "metadata": {},
   "outputs": [],
   "source": []
  }
 ]
}