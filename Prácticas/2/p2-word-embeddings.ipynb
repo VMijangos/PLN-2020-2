{
 "cells": [
  {
   "cell_type": "markdown",
   "metadata": {},
   "source": [
    "# Práctica 2\n",
    "\n",
    "Procesamiento de Lenguaje Natural\n",
    "Facultad de Ingeniería, UNAM\n",
    "\n",
    "González Flores Andrés"
   ]
  },
  {
   "cell_type": "markdown",
   "metadata": {},
   "source": [
    "## Instrucciones\n",
    "\n",
    "A partir del corpus proporcionado (\"corpusML.txt\") realizar un modelo del lenguaje neuronal con base en la arquitectura propuesta por Bengio (2003).\n",
    "\n",
    "Síganse los siguientes pasos:\n",
    "\n",
    "1. Limpiar los textos y aplicar stemming a las palabras.\n",
    "2. Insertar símbolos de inicio y final de cadena.\n",
    "3. Obtener los bigramas que aparecen en el texto (indexar numéricamente).\n",
    "4. Entrenar con los bigramas la red neuronal y obtener los valores para los hiperparámetros. Tomar de 100 unidades para la primera capa oculta (capa lineal) y 300 para la segunda capa oculta (capa con tanh).\n",
    "5. Obtener las matrices $A$ y $\\Pi$ a partir de las salidas de la red neuronal (probabilidad Softmax).\n",
    "6. Evaluar el modelo (con Entropía).\n",
    "7. Calcular la probabilidad de las siguientes oraciones:\n",
    "    - Nos bañamos con agua caliente\n",
    "    - El animalito le olía la cabeza\n",
    "    - Pascuala ordeñaba las vacas"
   ]
  },
  {
   "cell_type": "markdown",
   "metadata": {},
   "source": [
    "## Desarrollo"
   ]
  },
  {
   "cell_type": "code",
   "execution_count": 1,
   "metadata": {},
   "outputs": [],
   "source": [
    "# Importar módulos\n",
    "import numpy as np\n",
    "import re\n",
    "from nltk import SnowballStemmer\n",
    "from collections import Counter, defaultdict\n",
    "from sklearn.model_selection import train_test_split\n",
    "import matplotlib.pyplot as plt\n",
    "from itertools import chain\n",
    "from tqdm.notebook import tqdm as nbtqdm\n",
    "from tqdm.auto import tqdm"
   ]
  },
  {
   "cell_type": "code",
   "execution_count": 2,
   "metadata": {},
   "outputs": [],
   "source": [
    "# Definición de constantes\n",
    "SEED = 420\n",
    "stemmer_esp = SnowballStemmer('spanish')\n",
    "CORPUS_PATH = './Data/corpusML.txt'\n",
    "BOS = '<BOS>'\n",
    "EOS = '<EOS>'\n",
    "UNK = '<unk>'\n",
    "\n",
    "np.random.seed(SEED)"
   ]
  },
  {
   "cell_type": "markdown",
   "metadata": {},
   "source": [
    "### Paso 1. Limpieza de corpus\n",
    "\n",
    "Limpiar los textos y aplicar stemming a las palabras."
   ]
  },
  {
   "cell_type": "code",
   "execution_count": 3,
   "metadata": {},
   "outputs": [
    {
     "name": "stdout",
     "output_type": "stream",
     "text": [
      "['comenc', 'a', 'trabaj', 'y', 'me', 'peg', 'me', 'maltrat', 'con', 'chicot']\n",
      "['mis', 'patron', 'me', 'peg', 'porqu', 'no', 'me', 'quer', 'apur', 'porqu', 'era', 'floj']\n",
      "['por', 'eso', 'me', 'hab', 'peg']\n",
      "['cuand', 'me', 'peg', 'ya', 'entonc', 'me', 'quit']\n",
      "['pues', 'entonc', 'no', 'quis', 'trabaj']\n"
     ]
    }
   ],
   "source": [
    "with open(CORPUS_PATH, 'r', encoding='utf-8') as f:\n",
    "    corpus = [\n",
    "        list(map(lambda token: stemmer_esp.stem(token), # Mapeo cada token a su stem\n",
    "            re.findall('[a-zA-zñáéíóúü]+', linea.lower()) # Devuelve una lista con todas las ocurrencias que coincidan con la regex\n",
    "        ))\n",
    "        for linea in f\n",
    "    ]\n",
    "    for docs in corpus[:5]:\n",
    "        print(docs) # Muestro 5 ejemplos"
   ]
  },
  {
   "cell_type": "markdown",
   "metadata": {},
   "source": [
    "Divido el corpus en entrenamiento y evaluación"
   ]
  },
  {
   "cell_type": "code",
   "execution_count": 4,
   "metadata": {},
   "outputs": [
    {
     "name": "stdout",
     "output_type": "stream",
     "text": [
      "\n",
      "Tamaño del corpus de entrenamiento: 751\n",
      "Ejemplos:\n",
      "['per', 'pues', 'si', 'el', 'padr', 'del', 'hombr', 'quer', 'lo', 'iba', 'a', 'dej']\n",
      "['hem', 'fabric', 'un', 'temascal', 'par', 'bañ']\n",
      "['ni', 'par', 'el', 'jabon', 'encontr']\n",
      "['mi', 'difunt', 'padrecit', 'fue', 'qui', 'me', 'cur']\n",
      "['se', 'traslad', 'de', 'igual', 'maner', 'y', 'se', 'le', 'mov', 'el', 'pal']\n",
      "\n",
      "Tamaño del corpus de evaluación: 323\n",
      "Ejemplos:\n",
      "  ['y', 'cuart', 'par', 'que', 'vay', 'dos', 'segund', 'palm']\n",
      "  ['le', 'dig', 'pues', 'que', 'no', 'es', 'tu', 'tambor', 'le', 'dig']\n",
      "  ['com', 'tambien', 'se', 'llen', 'de', 'agu']\n",
      "  ['juan', 'se', 'cay', 'del', 'tech']\n",
      "  ['sobr', 'un', 'refresquit', 'y', 'algo', 'de', 'vinit']\n"
     ]
    }
   ],
   "source": [
    "train_corpus, eval_corpus = train_test_split(corpus, test_size=0.3)\n",
    "\n",
    "print(f'\\nTamaño del corpus de entrenamiento: {len(train_corpus)}')\n",
    "print('Ejemplos:')\n",
    "for docs in train_corpus[:5]:\n",
    "        print(docs) # Muestro 5 ejemplos\n",
    "\n",
    "print(f'\\nTamaño del corpus de evaluación: {len(eval_corpus)}')\n",
    "print('Ejemplos:')\n",
    "for docs in eval_corpus[:5]:\n",
    "        print(' ', docs) # Muestro 5 ejemplos"
   ]
  },
  {
   "cell_type": "markdown",
   "metadata": {},
   "source": [
    "Muestro la curva de zipf"
   ]
  },
  {
   "cell_type": "code",
   "execution_count": 5,
   "metadata": {},
   "outputs": [
    {
     "data": {
      "image/png": "[encoded data removed]",
      "text/plain": [
       "<Figure size 432x288 with 1 Axes>"
      ]
     },
     "metadata": {
      "needs_background": "light"
     },
     "output_type": "display_data"
    }
   ],
   "source": [
    "frec = sum([Counter(doc) for doc in train_corpus], Counter())\n",
    "\n",
    "plt.plot(sorted(frec.values(), reverse=True), 'o')\n",
    "plt.xlabel('rango')\n",
    "plt.ylabel('frecuencia')\n",
    "plt.xscale('log')\n",
    "plt.yscale('log')\n",
    "plt.title('Curva de Zipf de datos de entrenamiento')\n",
    "plt.show()"
   ]
  },
  {
   "cell_type": "markdown",
   "metadata": {},
   "source": [
    "Sustituyo los hapax por el identificador <unk\\>"
   ]
  },
  {
   "cell_type": "code",
   "execution_count": 6,
   "metadata": {},
   "outputs": [
    {
     "name": "stdout",
     "output_type": "stream",
     "text": [
      "Ejemplos:\n",
      "['per', 'pues', 'si', 'el', 'padr', 'del', 'hombr', 'quer', 'lo', 'iba', 'a', 'dej']\n",
      "['hem', 'fabric', 'un', 'temascal', 'par', 'bañ']\n",
      "['ni', 'par', 'el', 'jabon', 'encontr']\n",
      "['mi', 'difunt', 'padrecit', 'fue', 'qui', 'me', 'cur']\n",
      "['se', 'traslad', 'de', 'igual', '<unk>', 'y', 'se', 'le', 'mov', 'el', 'pal']\n"
     ]
    }
   ],
   "source": [
    "train_corpus_unk = [\n",
    "    [\n",
    "        # Si la frecuencia de la palabra es 1, se sustituye por UNK\n",
    "        (UNK if frec[w] == 1 else w)\n",
    "        for w in doc\n",
    "    ] \n",
    "    for doc in train_corpus \n",
    "]\n",
    "\n",
    "print('Ejemplos:')\n",
    "for docs in train_corpus_unk[:5]:\n",
    "        print(docs) # Muestro 5 ejemplos"
   ]
  },
  {
   "cell_type": "markdown",
   "metadata": {},
   "source": [
    "### Paso 2. <BOS\\> <EOS\\>\n",
    "\n",
    "Insertar símbolos de inicio y final de cadena."
   ]
  },
  {
   "cell_type": "code",
   "execution_count": 7,
   "metadata": {},
   "outputs": [
    {
     "name": "stdout",
     "output_type": "stream",
     "text": [
      "['<BOS>', 'per', 'pues', 'si', 'el', 'padr', 'del', 'hombr', 'quer', 'lo', 'iba', 'a', 'dej', '<EOS>']\n",
      "['<BOS>', 'hem', 'fabric', 'un', 'temascal', 'par', 'bañ', '<EOS>']\n",
      "['<BOS>', 'ni', 'par', 'el', 'jabon', 'encontr', '<EOS>']\n",
      "['<BOS>', 'mi', 'difunt', 'padrecit', 'fue', 'qui', 'me', 'cur', '<EOS>']\n",
      "['<BOS>', 'se', 'traslad', 'de', 'igual', '<unk>', 'y', 'se', 'le', 'mov', 'el', 'pal', '<EOS>']\n"
     ]
    }
   ],
   "source": [
    "train_corpus_unk = list(map(lambda doc: [BOS, *doc, EOS], train_corpus_unk))\n",
    "for doc in train_corpus_unk[:5]:\n",
    "    print(doc)"
   ]
  },
  {
   "cell_type": "markdown",
   "metadata": {},
   "source": [
    "### Paso 3. Indexar bigramas\n",
    "\n",
    "Obtener los bigramas que aparecen en el texto (indexar numéricamente)."
   ]
  },
  {
   "cell_type": "code",
   "execution_count": 8,
   "metadata": {},
   "outputs": [
    {
     "name": "stdout",
     "output_type": "stream",
     "text": [
      "Ejemplos de palabras en el vocabulario\n",
      "  <BOS> : 0\n",
      "  per : 1\n",
      "  pues : 2\n",
      "  si : 3\n",
      "  el : 4\n",
      "  padr : 5\n",
      "  del : 6\n",
      "  hombr : 7\n",
      "  quer : 8\n",
      "  lo : 9\n",
      "\n",
      "Ejemplos de oraciones indexadas numéricamente\n",
      "  [0, 1, 2, 3, 4, 5, 6, 7, 8, 9, 10, 11, 12, 13]\n",
      "  [0, 14, 15, 16, 17, 18, 19, 13]\n",
      "  [0, 20, 18, 4, 21, 22, 13]\n",
      "  [0, 23, 24, 25, 26, 27, 28, 29, 13]\n",
      "  [0, 30, 31, 32, 33, 34, 35, 30, 36, 37, 4, 38, 13]\n",
      "  [0, 39, 40, 41, 42, 18, 43, 13]\n"
     ]
    }
   ],
   "source": [
    "# Indexo numéricamente los stems\n",
    "vocab = defaultdict() \n",
    "# El método default_factory sirve para asignar un nuevo valor por defecto\n",
    "# en caso de no encontrar el indice dado\n",
    "vocab.default_factory = lambda: len(vocab)\n",
    "\n",
    "# Indexo numéricamente las palabras en los documentos\n",
    "corpus_ids = [[vocab[w] for w in doc] for doc in train_corpus_unk]\n",
    "\n",
    "print('Ejemplos de palabras en el vocabulario')\n",
    "for palabra, i in list(vocab.items())[:10]:\n",
    "    print(f'  {palabra} : {i}')\n",
    "\n",
    "print('\\nEjemplos de oraciones indexadas numéricamente')\n",
    "for doc in corpus_ids[:6]:\n",
    "    print(' ', doc)"
   ]
  },
  {
   "cell_type": "markdown",
   "metadata": {},
   "source": [
    "Calculo el inverso del vocabulario, para obtener la palabra dado el índice."
   ]
  },
  {
   "cell_type": "code",
   "execution_count": 9,
   "metadata": {},
   "outputs": [],
   "source": [
    "inv_vocab = { item : key for key, item in vocab.items()}"
   ]
  },
  {
   "cell_type": "markdown",
   "metadata": {},
   "source": [
    "```doc[:-1]``` toma todos las cadenas de un documento (frase) excepto la última\n",
    "\n",
    "```doc[1:]``` toma todos las cadenas de un documento (frase) excepto la primera\n",
    "\n",
    "Con zip, uno una cadena de la primer lista con una de la segunda en tuplas (bigramas)"
   ]
  },
  {
   "cell_type": "code",
   "execution_count": 10,
   "metadata": {},
   "outputs": [
    {
     "data": {
      "text/plain": [
       "[('<BOS>', 'per'),\n",
       " ('per', 'pues'),\n",
       " ('pues', 'si'),\n",
       " ('si', 'el'),\n",
       " ('el', 'padr'),\n",
       " ('padr', 'del'),\n",
       " ('del', 'hombr'),\n",
       " ('hombr', 'quer'),\n",
       " ('quer', 'lo'),\n",
       " ('lo', 'iba'),\n",
       " ('iba', 'a'),\n",
       " ('a', 'dej'),\n",
       " ('dej', '<EOS>'),\n",
       " ('<BOS>', 'hem'),\n",
       " ('hem', 'fabric'),\n",
       " ('fabric', 'un'),\n",
       " ('un', 'temascal'),\n",
       " ('temascal', 'par'),\n",
       " ('par', 'bañ'),\n",
       " ('bañ', '<EOS>')]"
      ]
     },
     "execution_count": 10,
     "metadata": {},
     "output_type": "execute_result"
    }
   ],
   "source": [
    "bigramas = [bi for doc in train_corpus_unk for bi in zip(doc[:-1], doc[1:])]\n",
    "\n",
    "bigramas[:20] # Ejemplos con cadenas"
   ]
  },
  {
   "cell_type": "markdown",
   "metadata": {},
   "source": [
    "Imprimo algunos de los bigramas más comunes en el corpus"
   ]
  },
  {
   "cell_type": "code",
   "execution_count": 11,
   "metadata": {},
   "outputs": [
    {
     "data": {
      "text/plain": [
       "[(('<unk>', '<EOS>'), 114),\n",
       " (('<BOS>', 'pues'), 88),\n",
       " (('otra', 'vez'), 45),\n",
       " (('<BOS>', 'y'), 42),\n",
       " (('<BOS>', 'per'), 38),\n",
       " (('entonc', '<EOS>'), 36),\n",
       " (('<BOS>', 'se'), 35),\n",
       " (('el', '<unk>'), 29),\n",
       " (('nomas', '<EOS>'), 27),\n",
       " (('se', '<unk>'), 26),\n",
       " (('en', 'la'), 26),\n",
       " (('<BOS>', 'despues'), 25),\n",
       " (('<BOS>', 'no'), 25),\n",
       " (('<BOS>', 'lueg'), 25),\n",
       " (('par', 'que'), 25)]"
      ]
     },
     "execution_count": 11,
     "metadata": {},
     "output_type": "execute_result"
    }
   ],
   "source": [
    "counter_bigramas = Counter(bigramas)\n",
    "counter_bigramas.most_common(15)"
   ]
  },
  {
   "cell_type": "code",
   "execution_count": 12,
   "metadata": {},
   "outputs": [
    {
     "data": {
      "text/plain": [
       "[(0, 1),\n",
       " (1, 2),\n",
       " (2, 3),\n",
       " (3, 4),\n",
       " (4, 5),\n",
       " (5, 6),\n",
       " (6, 7),\n",
       " (7, 8),\n",
       " (8, 9),\n",
       " (9, 10),\n",
       " (10, 11),\n",
       " (11, 12),\n",
       " (12, 13),\n",
       " (0, 14),\n",
       " (14, 15),\n",
       " (15, 16),\n",
       " (16, 17),\n",
       " (17, 18),\n",
       " (18, 19),\n",
       " (19, 13)]"
      ]
     },
     "execution_count": 12,
     "metadata": {},
     "output_type": "execute_result"
    }
   ],
   "source": [
    "bigramas_ids = [bi for doc in corpus_ids for bi in zip(doc[:-1], doc[1:])]\n",
    "bigramas_ids[:20] # Ejemplos de bigramas indexados numéricamente"
   ]
  },
  {
   "cell_type": "markdown",
   "metadata": {},
   "source": [
    "### Paso 4. Modelo Neuronal\n",
    "\n",
    "Entrenar con los bigramas la red neuronal y obtener los valores para los hiperparámetros. Tomar de 100 unidades para la primera capa oculta (capa lineal) y 300 para la segunda capa oculta (capa con tanh)."
   ]
  },
  {
   "cell_type": "code",
   "execution_count": 22,
   "metadata": {},
   "outputs": [
    {
     "name": "stdout",
     "output_type": "stream",
     "text": [
      "Tamaño del vocabulario:  493\n"
     ]
    }
   ],
   "source": [
    "# Hiperparámetros\n",
    "d = 100# 100\n",
    "m = 300# 300\n",
    "epochs = 25\n",
    "lr = np.exp(-(np.arange(epochs)+1)/2) #0.01\n",
    "\n",
    "# Constantes\n",
    "N = len(vocab)\n",
    "print('Tamaño del vocabulario: ', N)"
   ]
  },
  {
   "cell_type": "markdown",
   "metadata": {},
   "source": [
    "#### Definición del modelo\n",
    "\n",
    "Defino la matriz de la primer capa oculta (embedding). $ C \\in \\mathbb{R}^{d \\times N} $."
   ]
  },
  {
   "cell_type": "code",
   "execution_count": 25,
   "metadata": {},
   "outputs": [],
   "source": [
    "class Bengio2003:\n",
    "    def __init__(self, bigramas, d, m, N):\n",
    "        self.d = d\n",
    "        self.m = m\n",
    "        self.N = N\n",
    "        self.bigramas = bigramas\n",
    "\n",
    "    def inicializar_pesos(self):\n",
    "        self.C = np.random.random((d, N))/np.sqrt(N)\n",
    "        self.W = np.random.random((m, d))/np.sqrt(d)\n",
    "        self.b = np.random.random(m)\n",
    "        self.U = np.random.random((N, m))/np.sqrt(m)\n",
    "        self.c = np.random.random(N)\n",
    "        \n",
    "        # Los mejores pesos del modelo\n",
    "        self.best_C = self.C\n",
    "        self.best_W = self.W\n",
    "        self.best_b = self.b\n",
    "        self.best_U = self.U\n",
    "        self.best_c = self.c\n",
    "    \n",
    "    def forward(self, i_x):\n",
    "        # La capa embedding se reduce a C_1[:, i_x]\n",
    "        h_i = np.tanh(np.dot(self.W, self.C[:, i_x]) + self.b) # Segunda capa oculta\n",
    "        a = self.U.dot(h_i) + self.c # Preactivación\n",
    "        exp_a = np.exp(a - a.max()) # Exponencial de la preactivación\n",
    "        prob_salida = exp_a/exp_a.sum() # Capa de salida softmax\n",
    "        return prob_salida, h_i\n",
    "\n",
    "    def backprop(self, i_x, i_y, prob_salida, h_i, lr=0.1):\n",
    "        y_pred = np.argmax(prob_salida) # El índice de la palabra que predijo\n",
    "        \n",
    "        # Backprop\n",
    "        # Copio el arreglo para no modificar pesos de la salida original\n",
    "        d_out = np.array(prob_salida, copy=True) \n",
    "        d_out[i_y] -= 1  # p(w_k | w_i) - y_k\n",
    "        d_h = (1-h_i**2)*np.dot(d_out.T, self.U)\n",
    "        d_c = np.dot(d_h.T, self.W)\n",
    "\n",
    "        # Actualizamos los pesos\n",
    "        self.U -= lr*np.outer(d_out, h_i) \n",
    "        self.c -= lr*d_out\n",
    "        self.W -= lr*np.outer(d_h, self.C[:,i_x]) \n",
    "        self.b -= lr*d_h\n",
    "        self.C[:, i_x] -= lr*d_c # Las demás filas no nos interesan, porque son 0\n",
    "\n",
    "    def predecir(self, i_x):\n",
    "        return np.argmax(self.forward(i_x)[0])\n",
    "    \n",
    "    def entrenar(self, epochs=50, lr=[]):\n",
    "        entr_timeline = [] # Entropía a través de las épocas\n",
    "        min_entr = np.inf\n",
    "        for epoch in nbtqdm(range(epochs)):\n",
    "            np.random.shuffle(bigramas)\n",
    "            cross_entropy = 0\n",
    "            for bigrama in self.bigramas:\n",
    "                i_x = bigrama[0] # El índice de la primer palabra del bigrama\n",
    "                i_y = bigrama[1] # El índice de la segunda palabra del bigrama\n",
    "                # print(f'  Bigrama: {inv_vocab[i_x]} {inv_vocab[i_y]}')\n",
    "                prob_salida, h_i = self.forward(i_x)\n",
    "                # print(f'  Predicción: {inv_vocab[i_x]} {inv_vocab[np.argmax(prob_salida)]}')\n",
    "                self.backprop(i_x, i_y, prob_salida, h_i, lr[epoch])\n",
    "                cross_entropy -= np.log(prob_salida[i_y])\n",
    "                        \n",
    "            # Si la entropua actual es mejor que la menor...\n",
    "            if cross_entropy < min_entr:\n",
    "                min_entr = cross_entropy  # ponemos la actual\n",
    "                # y movemos los mejores pesos\n",
    "                self.best_C = self.C\n",
    "                self.best_W = self.W\n",
    "                self.best_b = self.b\n",
    "                self.best_U = self.U\n",
    "                self.best_c = self.c\n",
    "                \n",
    "            entr_timeline.append(cross_entropy)    \n",
    "            tqdm.write(f'Epoch: {epoch+1} \\tEntropía cruzada: {cross_entropy}')\n",
    "        return entr_timeline\n",
    "    \n",
    "    def cargar_mejores_pesos(self):\n",
    "        self.C = self.best_C\n",
    "        self.W = self.best_W\n",
    "        self.b = self.best_b\n",
    "        self.U = self.best_U\n",
    "        self.c = self.best_c\n",
    "    \n",
    "    def guardar_pesos(self, archivo):\n",
    "        \"\"\"Guarda los pesos del modelo en formato .npz\n",
    "        \"\"\"\n",
    "        try:\n",
    "            np.savez(\n",
    "                archivo, \n",
    "                C = self.C, \n",
    "                W = self.W, \n",
    "                b = self.b, \n",
    "                U = self.U, \n",
    "                c = self.c\n",
    "            )\n",
    "            print(f'Archivo {archivo} guardado satisfactoriamente')\n",
    "            return True\n",
    "        except Exception as e:\n",
    "            print('Ocurrió un error al guardar el archivo')\n",
    "            print(e)\n",
    "            return False\n",
    "    \n",
    "    def cargar_pesos(self, archivo):\n",
    "        \"\"\"Carga los pesos del modelo guardados en un archivo formato .npz\n",
    "        \"\"\"\n",
    "        try:\n",
    "            pesos = np.load(archivo)\n",
    "            self.C = pesos['C']\n",
    "            self.W = pesos['W']\n",
    "            self.b = pesos['b']\n",
    "            self.U = pesos['U']\n",
    "            self.c = pesos['c']\n",
    "            print(f'Pesos desde {archivo} cargados correctamente')\n",
    "            return True\n",
    "        except Exception as e:\n",
    "            print('Ocurrió un error al guardar el archivo')\n",
    "            print(e)\n",
    "            return False\n",
    "        "
   ]
  },
  {
   "cell_type": "code",
   "execution_count": 26,
   "metadata": {},
   "outputs": [
    {
     "data": {
      "application/vnd.jupyter.widget-view+json": {
       "model_id": "7d5a0c49c8e44206a48266ad7d18117d",
       "version_major": 2,
       "version_minor": 0
      },
      "text/plain": [
       "HBox(children=(FloatProgress(value=0.0, max=25.0), HTML(value='')))"
      ]
     },
     "metadata": {},
     "output_type": "display_data"
    },
    {
     "name": "stdout",
     "output_type": "stream",
     "text": [
      "Epoch: 1 \tEntropía cruzada: 1064499.6800716955\n",
      "Epoch: 2 \tEntropía cruzada: 686895.8979853481\n",
      "Epoch: 3 \tEntropía cruzada: 420059.0444309506\n",
      "Epoch: 4 \tEntropía cruzada: 262952.81850737805\n",
      "Epoch: 5 \tEntropía cruzada: 165346.30309436182\n",
      "Epoch: 6 \tEntropía cruzada: 109518.30895198743\n",
      "Epoch: 7 \tEntropía cruzada: 76864.5857963816\n",
      "Epoch: 8 \tEntropía cruzada: 59246.949535867854\n",
      "Epoch: 9 \tEntropía cruzada: 50811.20448504451\n",
      "Epoch: 10 \tEntropía cruzada: 47358.939558503305\n",
      "Epoch: 11 \tEntropía cruzada: 44432.8651072723\n",
      "Epoch: 12 \tEntropía cruzada: 42909.251321803866\n",
      "Epoch: 13 \tEntropía cruzada: 41991.531212570975\n",
      "Epoch: 14 \tEntropía cruzada: 41422.076532725965\n",
      "Epoch: 15 \tEntropía cruzada: 41065.54988222651\n",
      "Epoch: 16 \tEntropía cruzada: 40840.998754557484\n",
      "Epoch: 17 \tEntropía cruzada: 40697.950171985416\n",
      "Epoch: 18 \tEntropía cruzada: 40606.09720468963\n",
      "Epoch: 19 \tEntropía cruzada: 40547.95070858357\n",
      "Epoch: 20 \tEntropía cruzada: 40512.028110688254\n",
      "Epoch: 21 \tEntropía cruzada: 40489.870037572924\n",
      "Epoch: 22 \tEntropía cruzada: 40476.02896426826\n",
      "Epoch: 23 \tEntropía cruzada: 40467.39846495758\n",
      "Epoch: 24 \tEntropía cruzada: 40462.06734283967\n",
      "Epoch: 25 \tEntropía cruzada: 40458.798351675694\n",
      "\n"
     ]
    }
   ],
   "source": [
    "modelo = Bengio2003(bigramas_ids, d, m, N)\n",
    "modelo.inicializar_pesos()\n",
    "hist_entropia = modelo.entrenar(epochs, lr)"
   ]
  },
  {
   "cell_type": "markdown",
   "metadata": {},
   "source": [
    "#### Guardando pesos\n",
    "\n"
   ]
  },
  {
   "cell_type": "code",
   "execution_count": 27,
   "metadata": {},
   "outputs": [
    {
     "name": "stdout",
     "output_type": "stream",
     "text": [
      "Archivo modelos/pesos_1.npz guardado satisfactoriamente\n"
     ]
    },
    {
     "data": {
      "text/plain": [
       "True"
      ]
     },
     "execution_count": 27,
     "metadata": {},
     "output_type": "execute_result"
    }
   ],
   "source": [
    "modelo.cargar_mejores_pesos()\n",
    "\n",
    "np.savez(\n",
    "    'modelos/hiperp_1.npz', \n",
    "    d = d,\n",
    "    m = m,\n",
    "    lr = lr,\n",
    "    epochs = epochs,\n",
    "    SEED = SEED,\n",
    "    N = N\n",
    ")\n",
    "\n",
    "modelo.guardar_pesos('modelos/pesos_1.npz')"
   ]
  },
  {
   "cell_type": "markdown",
   "metadata": {},
   "source": [
    "### Paso 5. Obtención de matrices de probabilidades\n",
    "\n",
    "Obtener las matrices $A$ y $\\Pi$ a partir de las salidas de la red neuornal (probabilidad Softmax)."
   ]
  },
  {
   "cell_type": "code",
   "execution_count": 28,
   "metadata": {},
   "outputs": [
    {
     "name": "stdout",
     "output_type": "stream",
     "text": [
      "Dimensiones de A:  (493, 493)\n",
      "Dimensiones de Pi:  (493,)\n"
     ]
    }
   ],
   "source": [
    "i_BOS = vocab[BOS]\n",
    "i_EOS = vocab[EOS]\n",
    "\n",
    "matA = np.array([\n",
    "    modelo.forward(i_x)[0] # Sólo nos interesa el vector de probabilidades\n",
    "    for i_x in range(N)  # Iterar sobre todas las palabras del vocabulario\n",
    "])\n",
    "matPi = modelo.forward(vocab[BOS])[0]\n",
    "\n",
    "# matA = np.delete(matA, [i_BOS, i_EOS], 0) # Elimino las columnas p(w_j | w_i = <BOS>) y p(w_j | w_i = <EOS>)\n",
    "# matA = np.delete(matA, i_BOS, 1) # Elimino el valor p(w_j = <BOS> | w_i)\n",
    "# matPi = np.delete(matPi, [i_BOS, i_EOS]) # Elimino los valores p(w_j | w_i = <BOS>) y p(w_j | w_i = <EOS>) \n",
    "\n",
    "print('Dimensiones de A: ', matA.shape)\n",
    "print('Dimensiones de Pi: ', matPi.shape)"
   ]
  },
  {
   "cell_type": "markdown",
   "metadata": {},
   "source": [
    "### Paso 6. Evaluación del modelo\n",
    "\n",
    "Evaluar el modelo (con entropía)"
   ]
  },
  {
   "cell_type": "code",
   "execution_count": 29,
   "metadata": {},
   "outputs": [
    {
     "data": {
      "image/png": "[encoded data removed]",
      "text/plain": [
       "<Figure size 432x288 with 1 Axes>"
      ]
     },
     "metadata": {
      "needs_background": "light"
     },
     "output_type": "display_data"
    }
   ],
   "source": [
    "plt.plot(hist_entropia)\n",
    "plt.show()"
   ]
  },
  {
   "cell_type": "markdown",
   "metadata": {},
   "source": [
    "Predicción de algunos bigramas en el modelo"
   ]
  },
  {
   "cell_type": "code",
   "execution_count": 30,
   "metadata": {},
   "outputs": [
    {
     "name": "stdout",
     "output_type": "stream",
     "text": [
      "Predicción de bigramas:\n",
      "  pues me\n",
      "  por <EOS>\n",
      "  par que\n",
      "  en la\n",
      "  otra vez\n"
     ]
    }
   ],
   "source": [
    "test_w = ['pues', 'por', 'par', 'en', 'otra']\n",
    "print('Predicción de bigramas:')\n",
    "for w in test_w:\n",
    "    i_w = vocab[w]\n",
    "    print(f'  {w} {inv_vocab[modelo.predecir(i_w)]}')"
   ]
  },
  {
   "cell_type": "markdown",
   "metadata": {},
   "source": [
    "### Paso 7. Probabilidad de oraciones.\n",
    "\n",
    "Calcular la probabilidad de las siguientes oraciones:\n",
    "\n",
    "- Nos bañamos con agua caliente\n",
    "- El animalito le olía la cabeza\n",
    "- Pascuala ordeñaba las vacas"
   ]
  },
  {
   "cell_type": "code",
   "execution_count": 31,
   "metadata": {},
   "outputs": [
    {
     "data": {
      "text/plain": [
       "[['nos', 'bañ', 'con', 'agu', 'calient'],\n",
       " ['el', 'animalit', 'le', 'oli', 'la', 'cabez'],\n",
       " ['pascual', 'ordeñ', 'las', 'vac']]"
      ]
     },
     "execution_count": 31,
     "metadata": {},
     "output_type": "execute_result"
    }
   ],
   "source": [
    "oraciones_test = [\n",
    "    \"Nos bañamos con agua caliente\",\n",
    "    \"El animalito le olía la cabeza\",\n",
    "    \"Pascuala ordeñaba las vacas\"\n",
    "]\n",
    "test_stems = [\n",
    "        list(map(lambda token: stemmer_esp.stem(token), # Mapeo cada token a su stem\n",
    "            re.findall('[a-zA-zñáéíóúü]+', oracion.lower()) # Devuelve una lista con todas las ocurrencias que coincidan con la regex\n",
    "        ))\n",
    "        for oracion in oraciones_test\n",
    "    ]\n",
    "\n",
    "test_stems"
   ]
  },
  {
   "cell_type": "code",
   "execution_count": 32,
   "metadata": {},
   "outputs": [
    {
     "data": {
      "text/plain": [
       "[['<BOS>', 'nos', 'bañ', 'con', 'agu', 'calient', '<EOS>'],\n",
       " ['<BOS>', 'el', 'animalit', 'le', 'oli', 'la', 'cabez', '<EOS>'],\n",
       " ['<BOS>', 'pascual', 'ordeñ', 'las', 'vac', '<EOS>']]"
      ]
     },
     "execution_count": 32,
     "metadata": {},
     "output_type": "execute_result"
    }
   ],
   "source": [
    "# Agrego BOS y EOS\n",
    "test_stems = [[BOS, *oracion, EOS] for oracion in test_stems]\n",
    "test_stems"
   ]
  },
  {
   "cell_type": "markdown",
   "metadata": {},
   "source": [
    "Indexo las oraciones de prueba. Si la palabra queda fuera del vocabulario, le asigno el identificador <unk\\>"
   ]
  },
  {
   "cell_type": "code",
   "execution_count": 33,
   "metadata": {},
   "outputs": [
    {
     "data": {
      "text/plain": [
       "[[0, 93, 19, 80, 390, 34, 13],\n",
       " [0, 4, 465, 36, 34, 65, 311, 13],\n",
       " [0, 386, 34, 41, 207, 13]]"
      ]
     },
     "execution_count": 33,
     "metadata": {},
     "output_type": "execute_result"
    }
   ],
   "source": [
    "i_UNK = vocab[UNK]\n",
    "test_corpus_ids = [\n",
    "    [\n",
    "        vocab[stem] if vocab[stem]<N else i_UNK # Si la palabra es nueva, uso el indice de <unk>\n",
    "        for stem in oracion\n",
    "    ]\n",
    "    for oracion in test_stems\n",
    "]\n",
    "test_corpus_ids"
   ]
  },
  {
   "cell_type": "code",
   "execution_count": 34,
   "metadata": {},
   "outputs": [
    {
     "data": {
      "text/plain": [
       "[[(0, 93), (93, 19), (19, 80), (80, 390), (390, 34), (34, 13)],\n",
       " [(0, 4), (4, 465), (465, 36), (36, 34), (34, 65), (65, 311), (311, 13)],\n",
       " [(0, 386), (386, 34), (34, 41), (41, 207), (207, 13)]]"
      ]
     },
     "execution_count": 34,
     "metadata": {},
     "output_type": "execute_result"
    }
   ],
   "source": [
    "# Saco los bigramas\n",
    "test_bigramas = [\n",
    "    [bi for bi in zip(oracion[:-1], oracion[1:])]\n",
    "    for oracion in test_corpus_ids\n",
    "]\n",
    "test_bigramas"
   ]
  },
  {
   "cell_type": "markdown",
   "metadata": {},
   "source": [
    "Calculo las probabilidades de las oraciones.\n",
    "\n",
    "$$ p(w_1) \\prod_{i=1} p(w_{i} | w_{i-1}) $$"
   ]
  },
  {
   "cell_type": "code",
   "execution_count": 35,
   "metadata": {},
   "outputs": [],
   "source": [
    "def prob_lista_bigramas(lista_bi, A, Pi):\n",
    "    prob = Pi[lista_bi[0][1]]\n",
    "    for w_i, w_j in lista_bi:\n",
    "        prob *= A[w_i, w_j]\n",
    "    return prob"
   ]
  },
  {
   "cell_type": "code",
   "execution_count": 36,
   "metadata": {},
   "outputs": [
    {
     "name": "stdout",
     "output_type": "stream",
     "text": [
      "Probabilidad de \"Nos bañamos con agua caliente\" = 5.896123290620997e-32\n",
      "Probabilidad de \"El animalito le olía la cabeza\" = 3.0668804839953155e-16\n",
      "Probabilidad de \"Pascuala ordeñaba las vacas\" = 1.0990250556450376e-39\n"
     ]
    }
   ],
   "source": [
    "for lista_bi, oracion in zip(test_bigramas, oraciones_test):\n",
    "    print(f'Probabilidad de \\\"{oracion}\\\" = {prob_lista_bigramas(lista_bi, matA, matPi)}')"
   ]
  },
  {
   "cell_type": "code",
   "execution_count": null,
   "metadata": {},
   "outputs": [],
   "source": []
  }
 ],
 "metadata": {
  "file_extension": ".py",
  "kernelspec": {
   "display_name": "Python 3",
   "language": "python",
   "name": "python3"
  },
  "language_info": {
   "codemirror_mode": {
    "name": "ipython",
    "version": 3
   },
   "file_extension": ".py",
   "mimetype": "text/x-python",
   "name": "python",
   "nbconvert_exporter": "python",
   "pygments_lexer": "ipython3",
   "version": "3.7.4"
  },
  "mimetype": "text/x-python",
  "name": "python",
  "npconvert_exporter": "python",
  "pygments_lexer": "ipython3",
  "version": 3
 },
 "nbformat": 4,
 "nbformat_minor": 2
}
